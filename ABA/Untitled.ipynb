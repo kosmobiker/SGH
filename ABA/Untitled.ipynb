{
 "cells": [
  {
   "cell_type": "code",
   "execution_count": 40,
   "id": "f33be9b8-557e-4ed1-b4e5-ab06838022b3",
   "metadata": {},
   "outputs": [],
   "source": [
    "import numpy as np"
   ]
  },
  {
   "cell_type": "code",
   "execution_count": 55,
   "id": "1916ba5e-0fa4-469c-b6e3-8b35481c8f6b",
   "metadata": {},
   "outputs": [],
   "source": [
    "w = [1, 1, 2, 4, 5, 1, 1, 1, 3, 1, 1, 3, 8]"
   ]
  },
  {
   "cell_type": "code",
   "execution_count": 56,
   "id": "284676b5-13ce-411d-a6b9-2d6abd150628",
   "metadata": {},
   "outputs": [],
   "source": [
    "mean = np.mean(np.array(w), axis=0)\n",
    "sd = np.std(np.array(w), axis=0)"
   ]
  },
  {
   "cell_type": "code",
   "execution_count": 57,
   "id": "a6434f33-4921-4d45-852e-c43077f8f7be",
   "metadata": {},
   "outputs": [
    {
     "data": {
      "text/plain": [
       "[1, 1, 2, 4, 5, 1, 1, 1, 3, 1, 1, 3]"
      ]
     },
     "execution_count": 57,
     "metadata": {},
     "output_type": "execute_result"
    }
   ],
   "source": [
    "[x for x in w if (x > mean - 2 * sd) and (x < mean + 2 * sd)]"
   ]
  },
  {
   "cell_type": "code",
   "execution_count": null,
   "id": "686fdd18-e401-4d5b-8032-6e7571504f2a",
   "metadata": {},
   "outputs": [],
   "source": []
  }
 ],
 "metadata": {
  "kernelspec": {
   "display_name": "Python 3 (ipykernel)",
   "language": "python",
   "name": "python3"
  },
  "language_info": {
   "codemirror_mode": {
    "name": "ipython",
    "version": 3
   },
   "file_extension": ".py",
   "mimetype": "text/x-python",
   "name": "python",
   "nbconvert_exporter": "python",
   "pygments_lexer": "ipython3",
   "version": "3.9.1"
  }
 },
 "nbformat": 4,
 "nbformat_minor": 5
}
