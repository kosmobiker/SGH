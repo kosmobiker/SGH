{
 "cells": [
  {
   "cell_type": "code",
   "execution_count": 2,
   "id": "cd10ec6b-7fe0-4145-bee9-943c9f0b3933",
   "metadata": {},
   "outputs": [],
   "source": [
    "import saspy\n",
    "import pandas as pd\n",
    "import numpy as np\n",
    "import math"
   ]
  },
  {
   "cell_type": "code",
   "execution_count": 3,
   "id": "779fd05f-4ab7-407e-89f3-05ac6008df1d",
   "metadata": {},
   "outputs": [
    {
     "name": "stdout",
     "output_type": "stream",
     "text": [
      "Using SAS Config named: oda\n",
      "SAS Connection established. Subprocess id is 5997\n",
      "\n"
     ]
    },
    {
     "data": {
      "text/plain": [
       "Access Method         = IOM\n",
       "SAS Config name       = oda\n",
       "SAS Config file       = /home/vlad/.miniconda3/lib/python3.7/site-packages/saspy/sascfg_personal.py\n",
       "WORK Path             = /saswork/SAS_workD70C00017DE7_odaws02-euw1.oda.sas.com/SAS_work411400017DE7_odaws02-euw1.oda.sas.com/\n",
       "SAS Version           = 9.04.01M6P11072018\n",
       "SASPy Version         = 3.7.7\n",
       "Teach me SAS          = False\n",
       "Batch                 = False\n",
       "Results               = Pandas\n",
       "SAS Session Encoding  = utf-8\n",
       "Python Encoding value = utf-8\n",
       "SAS process Pid value = 97767\n"
      ]
     },
     "execution_count": 3,
     "metadata": {},
     "output_type": "execute_result"
    }
   ],
   "source": [
    "sas = saspy.SASsession()\n",
    "sas"
   ]
  },
  {
   "cell_type": "code",
   "execution_count": 5,
   "id": "ff398367-dde5-4074-8ba9-1085fdde1d9d",
   "metadata": {},
   "outputs": [
    {
     "data": {
      "text/plain": [
       "'3.7.7'"
      ]
     },
     "execution_count": 5,
     "metadata": {},
     "output_type": "execute_result"
    }
   ],
   "source": [
    "saspy.__version__"
   ]
  },
  {
   "cell_type": "code",
   "execution_count": 6,
   "id": "252d40e4-1910-4e8c-a0d2-da119c20063a",
   "metadata": {},
   "outputs": [
    {
     "data": {
      "text/html": [
       "<div>\n",
       "<style scoped>\n",
       "    .dataframe tbody tr th:only-of-type {\n",
       "        vertical-align: middle;\n",
       "    }\n",
       "\n",
       "    .dataframe tbody tr th {\n",
       "        vertical-align: top;\n",
       "    }\n",
       "\n",
       "    .dataframe thead th {\n",
       "        text-align: right;\n",
       "    }\n",
       "</style>\n",
       "<table border=\"1\" class=\"dataframe\">\n",
       "  <thead>\n",
       "    <tr style=\"text-align: right;\">\n",
       "      <th></th>\n",
       "      <th>Make</th>\n",
       "      <th>Model</th>\n",
       "      <th>Type</th>\n",
       "      <th>Origin</th>\n",
       "      <th>DriveTrain</th>\n",
       "      <th>MSRP</th>\n",
       "      <th>Invoice</th>\n",
       "      <th>EngineSize</th>\n",
       "      <th>Cylinders</th>\n",
       "      <th>Horsepower</th>\n",
       "      <th>MPG_City</th>\n",
       "      <th>MPG_Highway</th>\n",
       "      <th>Weight</th>\n",
       "      <th>Wheelbase</th>\n",
       "      <th>Length</th>\n",
       "    </tr>\n",
       "  </thead>\n",
       "  <tbody>\n",
       "    <tr>\n",
       "      <th>0</th>\n",
       "      <td>Acura</td>\n",
       "      <td>MDX</td>\n",
       "      <td>SUV</td>\n",
       "      <td>Asia</td>\n",
       "      <td>All</td>\n",
       "      <td>36945.0</td>\n",
       "      <td>33337.0</td>\n",
       "      <td>3.5</td>\n",
       "      <td>6.0</td>\n",
       "      <td>265.0</td>\n",
       "      <td>17.0</td>\n",
       "      <td>23.0</td>\n",
       "      <td>4451.0</td>\n",
       "      <td>106.0</td>\n",
       "      <td>189.0</td>\n",
       "    </tr>\n",
       "    <tr>\n",
       "      <th>1</th>\n",
       "      <td>Acura</td>\n",
       "      <td>RSX Type S 2dr</td>\n",
       "      <td>Sedan</td>\n",
       "      <td>Asia</td>\n",
       "      <td>Front</td>\n",
       "      <td>23820.0</td>\n",
       "      <td>21761.0</td>\n",
       "      <td>2.0</td>\n",
       "      <td>4.0</td>\n",
       "      <td>200.0</td>\n",
       "      <td>24.0</td>\n",
       "      <td>31.0</td>\n",
       "      <td>2778.0</td>\n",
       "      <td>101.0</td>\n",
       "      <td>172.0</td>\n",
       "    </tr>\n",
       "    <tr>\n",
       "      <th>2</th>\n",
       "      <td>Acura</td>\n",
       "      <td>TSX 4dr</td>\n",
       "      <td>Sedan</td>\n",
       "      <td>Asia</td>\n",
       "      <td>Front</td>\n",
       "      <td>26990.0</td>\n",
       "      <td>24647.0</td>\n",
       "      <td>2.4</td>\n",
       "      <td>4.0</td>\n",
       "      <td>200.0</td>\n",
       "      <td>22.0</td>\n",
       "      <td>29.0</td>\n",
       "      <td>3230.0</td>\n",
       "      <td>105.0</td>\n",
       "      <td>183.0</td>\n",
       "    </tr>\n",
       "    <tr>\n",
       "      <th>3</th>\n",
       "      <td>Acura</td>\n",
       "      <td>TL 4dr</td>\n",
       "      <td>Sedan</td>\n",
       "      <td>Asia</td>\n",
       "      <td>Front</td>\n",
       "      <td>33195.0</td>\n",
       "      <td>30299.0</td>\n",
       "      <td>3.2</td>\n",
       "      <td>6.0</td>\n",
       "      <td>270.0</td>\n",
       "      <td>20.0</td>\n",
       "      <td>28.0</td>\n",
       "      <td>3575.0</td>\n",
       "      <td>108.0</td>\n",
       "      <td>186.0</td>\n",
       "    </tr>\n",
       "    <tr>\n",
       "      <th>4</th>\n",
       "      <td>Acura</td>\n",
       "      <td>3.5 RL 4dr</td>\n",
       "      <td>Sedan</td>\n",
       "      <td>Asia</td>\n",
       "      <td>Front</td>\n",
       "      <td>43755.0</td>\n",
       "      <td>39014.0</td>\n",
       "      <td>3.5</td>\n",
       "      <td>6.0</td>\n",
       "      <td>225.0</td>\n",
       "      <td>18.0</td>\n",
       "      <td>24.0</td>\n",
       "      <td>3880.0</td>\n",
       "      <td>115.0</td>\n",
       "      <td>197.0</td>\n",
       "    </tr>\n",
       "  </tbody>\n",
       "</table>\n",
       "</div>"
      ],
      "text/plain": [
       "    Make           Model   Type Origin DriveTrain     MSRP  Invoice  \\\n",
       "0  Acura             MDX    SUV   Asia        All  36945.0  33337.0   \n",
       "1  Acura  RSX Type S 2dr  Sedan   Asia      Front  23820.0  21761.0   \n",
       "2  Acura         TSX 4dr  Sedan   Asia      Front  26990.0  24647.0   \n",
       "3  Acura          TL 4dr  Sedan   Asia      Front  33195.0  30299.0   \n",
       "4  Acura      3.5 RL 4dr  Sedan   Asia      Front  43755.0  39014.0   \n",
       "\n",
       "   EngineSize  Cylinders  Horsepower  MPG_City  MPG_Highway  Weight  \\\n",
       "0         3.5        6.0       265.0      17.0         23.0  4451.0   \n",
       "1         2.0        4.0       200.0      24.0         31.0  2778.0   \n",
       "2         2.4        4.0       200.0      22.0         29.0  3230.0   \n",
       "3         3.2        6.0       270.0      20.0         28.0  3575.0   \n",
       "4         3.5        6.0       225.0      18.0         24.0  3880.0   \n",
       "\n",
       "   Wheelbase  Length  \n",
       "0      106.0   189.0  \n",
       "1      101.0   172.0  \n",
       "2      105.0   183.0  \n",
       "3      108.0   186.0  \n",
       "4      115.0   197.0  "
      ]
     },
     "execution_count": 6,
     "metadata": {},
     "output_type": "execute_result"
    }
   ],
   "source": [
    "cars = sas.sasdata('cars', 'sashelp')\n",
    "cars.head()"
   ]
  },
  {
   "cell_type": "code",
   "execution_count": 7,
   "id": "88988f36-5f5c-4239-8ccf-93f2be6253bf",
   "metadata": {},
   "outputs": [
    {
     "name": "stderr",
     "output_type": "stream",
     "text": [
      "/home/vlad/.miniconda3/lib/python3.7/site-packages/IPython/core/interactiveshell.py:3170: DtypeWarning: Columns (12) have mixed types.Specify dtype option on import or set low_memory=False.\n",
      "  interactivity=interactivity, compiler=compiler, result=result)\n"
     ]
    }
   ],
   "source": [
    "beep = pd.read_csv('beeps2005.csv', encoding='cp1252');"
   ]
  },
  {
   "cell_type": "code",
   "execution_count": 39,
   "id": "82d946cc-cbc3-425d-ae15-558de6a5dffc",
   "metadata": {},
   "outputs": [],
   "source": [
    "df = beep[beep['a1'].isin([50, 54, 59, 70, 72, 73, 74, 75, 76])]"
   ]
  },
  {
   "cell_type": "code",
   "execution_count": 40,
   "id": "ce79fcc1-fa08-4100-a310-cd435dfbd605",
   "metadata": {},
   "outputs": [],
   "source": [
    "df = df.loc[:, ['a1', 's5b', 'q43a', 'q57a']]"
   ]
  },
  {
   "cell_type": "code",
   "execution_count": 41,
   "id": "d273eb2d-cdf7-4d02-aa73-b54c20f0ca2d",
   "metadata": {},
   "outputs": [],
   "source": [
    "df['s5b'] = df['s5b'].apply(lambda x: 1 if x >= 50 else 0)"
   ]
  },
  {
   "cell_type": "code",
   "execution_count": 42,
   "id": "8a5e5862-54fd-4e4c-b959-ca7db2d9da50",
   "metadata": {},
   "outputs": [],
   "source": [
    "df.loc[df['a1'] == 50, 'a1'] = 'Belarus'\n",
    "df.loc[df['a1'] == 54, 'a1'] = 'Ukraine'\n",
    "df.loc[df['a1'] == 59, 'a1'] = 'Poland'\n",
    "df.loc[df['a1'] == 70, 'a1'] = 'Estonia'\n",
    "df.loc[df['a1'] == 72, 'a1'] = 'Czechia'\n",
    "df.loc[df['a1'] == 73, 'a1'] = 'Hungary'\n",
    "df.loc[df['a1'] == 74, 'a1'] = 'Latvia'\n",
    "df.loc[df['a1'] == 75, 'a1'] = 'Lithuania'\n",
    "df.loc[df['a1'] == 76, 'a1'] = 'Slovakia'"
   ]
  },
  {
   "cell_type": "code",
   "execution_count": 43,
   "id": "d9e3367a-519c-492d-a6ad-446c667259c6",
   "metadata": {},
   "outputs": [],
   "source": [
    "def f(x):\n",
    "    if not math.isnan(x):\n",
    "        return np.log(x)\n",
    "    pass"
   ]
  },
  {
   "cell_type": "code",
   "execution_count": 44,
   "id": "94b165c1-f4d8-4192-a4f0-4a68026b8544",
   "metadata": {},
   "outputs": [
    {
     "name": "stderr",
     "output_type": "stream",
     "text": [
      "/home/vlad/.miniconda3/lib/python3.7/site-packages/ipykernel_launcher.py:3: RuntimeWarning: divide by zero encountered in log\n",
      "  This is separate from the ipykernel package so we can avoid doing imports until\n"
     ]
    }
   ],
   "source": [
    "df[['q43a', 'q57a']] = df[['q43a', 'q57a']] .applymap(f)"
   ]
  },
  {
   "cell_type": "code",
   "execution_count": 45,
   "id": "cdf5a83e-958f-44dd-8ddf-e1505f2291d9",
   "metadata": {},
   "outputs": [
    {
     "data": {
      "text/plain": [
       "a1        0\n",
       "s5b       0\n",
       "q43a    182\n",
       "q57a    791\n",
       "dtype: int64"
      ]
     },
     "execution_count": 45,
     "metadata": {},
     "output_type": "execute_result"
    }
   ],
   "source": [
    "df.isna().sum()"
   ]
  },
  {
   "cell_type": "code",
   "execution_count": 47,
   "id": "3fe91183",
   "metadata": {},
   "outputs": [
    {
     "data": {
      "text/html": [
       "<div>\n",
       "<style scoped>\n",
       "    .dataframe tbody tr th:only-of-type {\n",
       "        vertical-align: middle;\n",
       "    }\n",
       "\n",
       "    .dataframe tbody tr th {\n",
       "        vertical-align: top;\n",
       "    }\n",
       "\n",
       "    .dataframe thead th {\n",
       "        text-align: right;\n",
       "    }\n",
       "</style>\n",
       "<table border=\"1\" class=\"dataframe\">\n",
       "  <thead>\n",
       "    <tr style=\"text-align: right;\">\n",
       "      <th></th>\n",
       "      <th>a1</th>\n",
       "      <th>s5b</th>\n",
       "      <th>q43a</th>\n",
       "      <th>q57a</th>\n",
       "    </tr>\n",
       "  </thead>\n",
       "  <tbody>\n",
       "    <tr>\n",
       "      <th>740</th>\n",
       "      <td>Belarus</td>\n",
       "      <td>0</td>\n",
       "      <td>4.605170</td>\n",
       "      <td>NaN</td>\n",
       "    </tr>\n",
       "    <tr>\n",
       "      <th>741</th>\n",
       "      <td>Belarus</td>\n",
       "      <td>0</td>\n",
       "      <td>4.317488</td>\n",
       "      <td>4.605170</td>\n",
       "    </tr>\n",
       "    <tr>\n",
       "      <th>742</th>\n",
       "      <td>Belarus</td>\n",
       "      <td>0</td>\n",
       "      <td>4.605170</td>\n",
       "      <td>7.910224</td>\n",
       "    </tr>\n",
       "    <tr>\n",
       "      <th>743</th>\n",
       "      <td>Belarus</td>\n",
       "      <td>0</td>\n",
       "      <td>4.605170</td>\n",
       "      <td>2.708050</td>\n",
       "    </tr>\n",
       "    <tr>\n",
       "      <th>744</th>\n",
       "      <td>Belarus</td>\n",
       "      <td>0</td>\n",
       "      <td>4.094345</td>\n",
       "      <td>NaN</td>\n",
       "    </tr>\n",
       "    <tr>\n",
       "      <th>...</th>\n",
       "      <td>...</td>\n",
       "      <td>...</td>\n",
       "      <td>...</td>\n",
       "      <td>...</td>\n",
       "    </tr>\n",
       "    <tr>\n",
       "      <th>9127</th>\n",
       "      <td>Slovakia</td>\n",
       "      <td>0</td>\n",
       "      <td>4.605170</td>\n",
       "      <td>6.469250</td>\n",
       "    </tr>\n",
       "    <tr>\n",
       "      <th>9128</th>\n",
       "      <td>Slovakia</td>\n",
       "      <td>0</td>\n",
       "      <td>4.605170</td>\n",
       "      <td>7.924796</td>\n",
       "    </tr>\n",
       "    <tr>\n",
       "      <th>9129</th>\n",
       "      <td>Slovakia</td>\n",
       "      <td>0</td>\n",
       "      <td>NaN</td>\n",
       "      <td>8.809564</td>\n",
       "    </tr>\n",
       "    <tr>\n",
       "      <th>9130</th>\n",
       "      <td>Slovakia</td>\n",
       "      <td>0</td>\n",
       "      <td>NaN</td>\n",
       "      <td>8.475954</td>\n",
       "    </tr>\n",
       "    <tr>\n",
       "      <th>9131</th>\n",
       "      <td>Slovakia</td>\n",
       "      <td>0</td>\n",
       "      <td>4.553877</td>\n",
       "      <td>9.776222</td>\n",
       "    </tr>\n",
       "  </tbody>\n",
       "</table>\n",
       "<p>3696 rows × 4 columns</p>\n",
       "</div>"
      ],
      "text/plain": [
       "            a1  s5b      q43a      q57a\n",
       "740    Belarus    0  4.605170       NaN\n",
       "741    Belarus    0  4.317488  4.605170\n",
       "742    Belarus    0  4.605170  7.910224\n",
       "743    Belarus    0  4.605170  2.708050\n",
       "744    Belarus    0  4.094345       NaN\n",
       "...        ...  ...       ...       ...\n",
       "9127  Slovakia    0  4.605170  6.469250\n",
       "9128  Slovakia    0  4.605170  7.924796\n",
       "9129  Slovakia    0       NaN  8.809564\n",
       "9130  Slovakia    0       NaN  8.475954\n",
       "9131  Slovakia    0  4.553877  9.776222\n",
       "\n",
       "[3696 rows x 4 columns]"
      ]
     },
     "execution_count": 47,
     "metadata": {},
     "output_type": "execute_result"
    }
   ],
   "source": [
    "df"
   ]
  },
  {
   "cell_type": "code",
   "execution_count": null,
   "id": "3b5696a8",
   "metadata": {},
   "outputs": [],
   "source": []
  }
 ],
 "metadata": {
  "kernelspec": {
   "display_name": "Python 3 (ipykernel)",
   "language": "python",
   "name": "python3"
  },
  "language_info": {
   "codemirror_mode": {
    "name": "ipython",
    "version": 3
   },
   "file_extension": ".py",
   "mimetype": "text/x-python",
   "name": "python",
   "nbconvert_exporter": "python",
   "pygments_lexer": "ipython3",
   "version": "3.7.0"
  }
 },
 "nbformat": 4,
 "nbformat_minor": 5
}
