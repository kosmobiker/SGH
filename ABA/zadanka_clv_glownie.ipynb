{
 "cells": [
  {
   "cell_type": "markdown",
   "id": "4bf7c100",
   "metadata": {},
   "source": [
    "### Reguła 3 sigm"
   ]
  },
  {
   "cell_type": "code",
   "execution_count": 1,
   "id": "d86cc928",
   "metadata": {},
   "outputs": [
    {
     "data": {
      "text/plain": [
       "[1, 2, 4, 6, 7, 8, 11, 12, 14, 35, 79]"
      ]
     },
     "execution_count": 1,
     "metadata": {},
     "output_type": "execute_result"
    }
   ],
   "source": [
    "import numpy as np\n",
    "w = [1, 2, 4, 6, 7, 8, 11, 12, 14, 35, 79]\n",
    "mean = np.mean(np.array(w), axis=0)\n",
    "sd = np.std(np.array(w), axis=0)\n",
    "[x for x in w if (x > mean - 3 * sd) and (x < mean + 3 * sd)]\n",
    "\n",
    "# Chyba chodzi o to, ze jak sie pojawią tu wszystkie te same wartosci ze zbioru, to znacze ze jest 0 wartosci odstających"
   ]
  },
  {
   "cell_type": "markdown",
   "id": "91930e58",
   "metadata": {},
   "source": [
    "### Reguła kwantylowa"
   ]
  },
  {
   "cell_type": "code",
   "execution_count": null,
   "id": "9a9831ee",
   "metadata": {},
   "outputs": [],
   "source": [
    "# do odpalenia w R\n",
    "\n",
    "w = c(1, 2, 4, 6, 7, 8, 11, 12, 14, 35, 79) \n",
    "IQR = IQR(w)\n",
    "start = quantile(w, 0.25) - 1.5 *IQR\n",
    "stop = quantile(w, 0.75) +1.5 * IQR\n",
    "\n",
    "a = w <start\n",
    "b = w>stop\n",
    "\n",
    "\n",
    "print(sum(a+b))"
   ]
  },
  {
   "cell_type": "markdown",
   "id": "629f5a6b",
   "metadata": {},
   "source": [
    "### ZADANIE 7 Z PREZENTACJI O MODELU RETENCJI (do odpalenia w R)\n",
    "Za pomocą metody Kaplana-Meiera oblicz i podaj liczbę klientów, którzy odeszli, medianę czasu odejścia oraz łączną wartość CLV. Zinterpretuj medianę czasu odejścia. Przyjmij, że stopa dyskontowa wynosi 5%, a wysokość wpływów od klienta jest równa $25, przy czym płatność jest dokonywana na początku miesiąca („ z góry”). Wyniki zaokrąglij do części całkowitej.\n",
    "bigT – zmienna czasowa (miesiące)\n",
    "cancel – status klienta (1-odejście, 0-ocenzurowanie)\n",
    "count – liczebność klientów\n",
    "\n",
    "!!! Treść z prezentacji (dane z kodu pasują do resci z prezentacji): !!!\n",
    "\n",
    "Oszacuj funkcję przeżycia, gęstości prawdopodobieństwa i hazardu w SAS.\n",
    "Skorzystaj ze zbioru service5yr, zawierającego dane firmy świadczącej usługi z\n",
    "okresu 5 lat. W zadaniu załóż m = $23.20 (płatność na początku okresu z góry)\n",
    "oraz d = 1%. Oszacowania porównaj z wynikami uzyskanymi w modelu\n",
    "prostym.\n"
   ]
  },
  {
   "cell_type": "code",
   "execution_count": null,
   "id": "96e28b0d",
   "metadata": {},
   "outputs": [],
   "source": [
    "library(ggplot2) # popular data visualisation package\n",
    "library(dplyr) # popular package for data manipulation\n",
    "library(broom) # here: used for extracting data from model summary\n",
    "library(survival) # basic package for survival analysis\n",
    "library(survminer) # package for summarizing and visualizing the results of survival analysis\n",
    "library(ggfortify)\n",
    "\n",
    "# importing dataset\n",
    "service5yr <- read.csv2(file = \"SERVICE5YR.csv\", sep = \";\", header = T)\n",
    "\n",
    "head(service5yr, 10)\n",
    "\n",
    "# Estimation with with Kaplan-Meier method*/\n",
    "model <- survival::survfit(Surv(bigT, cancel) ~ 1,\n",
    "                           data = service5yr, \n",
    "                           weights = count)\n",
    "# model summary\n",
    "model \n",
    "summary(model) # n to liczba zdarzen, events to liczba klientow co odeszli, mediana to mediana a clv sum(model_data$clv)\n",
    "\n",
    "survminer::ggsurvplot(model,\n",
    "           conf.int = TRUE, # show confidence intervals\n",
    "           surv.median.line = \"hv\", # how to show lifetime median (here: horizontal & vertical lines)\n",
    "           ggtheme = theme_bw())\n",
    "\n",
    "sums = service5yr %>% summarise(sum_cancel = sum(cancel*count), # suma ludzi co odeszli\n",
    "                       sum_bigT = sum(bigT*count)) #liczba szans na odejście \n",
    "\n",
    "sums # stąd odczytać wartości i podmienić do wzoru rhat niżej \n",
    "        \n",
    "# Comparing estimates from SRM and GRM\n",
    "\n",
    "model_data <- data_frame(bigT = model$time, survival = model$surv)\n",
    "model_data <- model_data %>% \n",
    "  dplyr::mutate(rhat = 1 - 44367/ 1073935, # w liczniku \"sum_cancel\" a w mianowniku zmienić na \"sum_bigT\" z \"sums\" co byly wyliczone wczesniej\n",
    "                clv = survival*23.20/(1.01^(bigT-1))) %>% #tutaj zmienić 23.30na inna kwote i  d=1 na d=(wartosc w poleceniu) czyli zamiast 1.01 to 1.05\n",
    "  dplyr::mutate(survSRM = (rhat)^(bigT-1),\n",
    "                clvSRM = 23.20*(rhat/1.01)^(bigT-1)) %>% #tutaj zmienić 23.30na inna kwote i  d=1 na d=(wartosc w poleceniu) czyli zamiast 1.01 to 1.05\n",
    "  dplyr::mutate(survSRM = (rhat)^(bigT-1),\n",
    "  dplyr::select(bigT, survival, survSRM, clv, clvSRM)\n",
    "\n",
    "model_data\n",
    "sum(model_data$clv)"
   ]
  },
  {
   "cell_type": "markdown",
   "id": "49e7aa15",
   "metadata": {},
   "source": [
    "### ZADANIE 5 Z PREZENTACJI O MODELU RETENCJI (do dopalenia w R)\n",
    "Oblicz i podaj liczbę klientów, którzy odeszli, stopę retencji (w %) oraz oczekiwany czas i medianę odejścia. Wyniki zaokrąglij do części całkowitych. Zinterpretuj oczekiwany czas i medianę odejścia. Oznaczenia zmiennych:\n",
    "bigT – zmienna czasowa (miesiące)\n",
    "cancel – status klienta (1-odejście, 0-ocenzurowanie)\n",
    "count – liczebność klientów\n"
   ]
  },
  {
   "cell_type": "code",
   "execution_count": null,
   "id": "99c36d1e",
   "metadata": {},
   "outputs": [],
   "source": [
    "# creating dataset #tutaj bedzie excel na 99%\n",
    "service1yr <- data_frame(bigT   = c(2,  3,  4,  5,  6,  7,  8,  9, 10, 11, 12, 1, 3, 4, 5,  6,  7,  8,  9, 10, 11,  12), \n",
    "                         cancel = c(1,  1,  1,  1,  1,  1,  1,  1,  1,  1,  1, 0, 0, 0, 0,  0,  0,  0,  0,  0,  0,   0), \n",
    "                         count  = c(4, 16, 20, 37, 28, 61, 24, 19, 13, 10, 13, 3, 2, 1, 7, 33, 49, 63, 30, 16, 34, 188))\n",
    "\n",
    "\n",
    "# descriptive statistics\n",
    "summary(service1yr)\n",
    "\n",
    "service1yr %>% summarise(weighted_sum_cancel = sum(cancel*count),\n",
    "                         weighted_sum_bigT = sum(bigT*count))\n",
    "\n",
    "# estimating retention rate\n",
    "\n",
    "# cancels - Number Cancels\n",
    "# flips - Opportunities to Cancel\n",
    "# Rhat - Retention Rate (r)\n",
    "# ET - E(T)\n",
    "# median - Median(T)\n",
    "\n",
    "service1yr %>% \n",
    "  dplyr::summarise(cancels = sum(cancel*count),\n",
    "                         flips = sum(bigT*count),\n",
    "                         Rhat = 1 - sum(cancel*count)/sum(bigT*count)) %>%\n",
    "  dplyr::mutate(ET = 1/(1-Rhat),\n",
    "                median = 1+log(.5)/log(Rhat)) # z tego outputu odczytac wyniki i to koniec zadania\n",
    "        \n",
    "        \n",
    "# output dla danych z zajęć: \n",
    "#cancels-245 - liczba klinetow co odeszli, flips-5828 - szanse na odejscie klinetow, Rhat(stopa retencji)- 0.958 (prawie 96% szans)\n",
    "# ET(wartosc oczekiwana odejscia) - 23.8 (prawie 24), mediana - 17.1 (ona mowi 17)"
   ]
  },
  {
   "cell_type": "code",
   "execution_count": null,
   "id": "604967fa",
   "metadata": {},
   "outputs": [],
   "source": []
  }
 ],
 "metadata": {
  "kernelspec": {
   "display_name": "R",
   "language": "R",
   "name": "ir"
  },
  "language_info": {
   "codemirror_mode": {
    "name": "ipython",
    "version": 3
   },
   "file_extension": ".py",
   "mimetype": "text/x-python",
   "name": "python",
   "nbconvert_exporter": "python",
   "pygments_lexer": "ipython3",
   "version": "3.9.5"
  }
 },
 "nbformat": 4,
 "nbformat_minor": 5
}
