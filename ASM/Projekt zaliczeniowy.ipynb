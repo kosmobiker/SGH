{
 "cells": [
  {
   "cell_type": "markdown",
   "metadata": {},
   "source": [
    "![](https://brandingmonitor.pl/wp-content/uploads/2019/01/new-rebranding-sgh-nowe-logo.png)\n",
    "\n",
    "Szkoła Główna Handlowa w Warszawie\n",
    "\n",
    "Optymalizacja ilości analityków firmy STTAS EUROPE sp. z o.o.\n",
    "\n",
    "234060-0723 Zaawansowane modelowanie symulacyjne\n",
    "\n",
    "- Uladzislau Darhevich 108519\n",
    "\n",
    "# Podsumowanie\n",
    "\n",
    "**Optymalna ilość analityków dla nowego działa klasyfikacji wynosi 6, ilość TA - 2.**\n",
    "\n",
    "\n",
    "# Opis organizacji\n",
    "\n",
    "STTAS Europe, a UPS company koncentruje się na dostarczaniu globalnego zarządzania zgodnością z przepisami handlowymi ([Trade Compliance](https://flashglobal.com/what-is-trade-compliance/)) i usług, takich jak klasyfikacja, określanie pochodzenia lub audyt zgodności celnej, a także usług konsultingowych w zakresie importu i eksportu dla klientów na całym świecie. \n",
    "\n",
    "Firma STTAS świadczy swoje usługi dużym międzynarodowym korporacjom, ma siedzibę w Warszawie, zatrudnia ponad 120 pracowników, należy do korporacji UPS.\n",
    "\n",
    "# Opis problemu\n",
    "\n",
    "Dział klasyfikacji zajmuje się tym, że przepisuję [kody taryfowe](https://en.wikipedia.org/wiki/Harmonized_System) do różnych towarów klientów zgodnie z systemem [TARIC](https://pl.wikipedia.org/wiki/TARIC). Kod TARIC jest zdefiniowany jako kod taryfowy przeznaczony do klasyfikacji towarów w urzędzie celnym. Jego ostatecznym celem jest zgłaszanie towarów, obliczanie należności celnych i rejestracja danych statystycznych. Jego rozporządzenie przechodzi przez Światową Organizację Celną (WCO). W przeciwieństwie do innych podobnych kodów zawiera informacje na temat warunków wymiany towarów na innych rynkach.\n",
    "\n",
    "Klient requestuje części które potrzebują klasyfikację. **RID (request ID)** to zbiór zawierający kilka(dziesiąt) takich części.\n",
    "\n",
    "Żeby poprawnie zaklasyfikować towar **Analityk** wyjaśnia funkcję towaru, cechy, materiał, dla czego jest używany, częścią czego jest, gdzie jest używany i przepisuje kod. Też analityk piszу krótki tekst, który nazywa się Audit Trail, w którym opisuje logikę dlaczego został użyty ten lub inny kod. \n",
    "\n",
    "**Technical Advisor (TA)** jest bardziej doświadczonym analitykiem, który sprawdza klasyfikację dostarczoną przez analityka. Jeżeli wszystko zrobione poprawnie, TA zatwierdza kod i opis, RID z kodami idzie do klienta. Jeżeli nie, to analityk otrzymuje *\"failed review\"* i musi zaklasyfikować towar jeszcze raz.\n",
    "\n",
    "Firma podpisała umowę z nowym klientem i chce utworzyć nowy dział klasyfikacji. Należy określić, ilu nowych pracowników musi w nim pracować, aby spełnić wymagania klienta, aby średni czas oczekiwania wykonania RID nie przekraczał 120 minut. \n",
    "\n",
    "# Wyniki analizy"
   ]
  },
  {
   "cell_type": "code",
   "execution_count": 1,
   "metadata": {},
   "outputs": [],
   "source": [
    "#import bibliotek\n",
    "import simpy\n",
    "import random\n",
    "import statistics\n",
    "import numpy as np\n",
    "import pandas as pd\n",
    "import matplotlib.pyplot as plt\n",
    "import seaborn as sns \n",
    "\n",
    "random.seed(42)"
   ]
  },
  {
   "cell_type": "code",
   "execution_count": 2,
   "metadata": {},
   "outputs": [],
   "source": [
    "#lista RID_wait_times zawira czas oczekiwania na zrobinie RIDu\n",
    "RID_wait_times = []"
   ]
  },
  {
   "cell_type": "markdown",
   "metadata": {},
   "source": [
    "Klas `Company` obejmuje:\n",
    "\n",
    "- complete_RID - generuje czas potrzebny na wykonanie jednego RIDa. RID może składać się z 1 części, a może ze 100. Rozkład normalny dobrze opisuje przeciętny czas wykonania;\n",
    "- check_RID - TA sprawdza RID. Rozkład normalny dobrze opisuje przeciętny czas sprawdzania RIDa;\n",
    "- fix_failes - jeżeli analityk otrzymał failed review, to musi jeszcze raz zrobić RID i poprawić błędy.\n",
    "\n",
    "Funkcja `make_request` generuje zdarzenia. Prawdopodobieństwo otrzymać fail jest około 10%."
   ]
  },
  {
   "cell_type": "code",
   "execution_count": 3,
   "metadata": {},
   "outputs": [],
   "source": [
    "class Company(object):   \n",
    "\n",
    "    def __init__(self, env, num_analysts, num_ta):\n",
    "        self.env = env\n",
    "        self.analyst = simpy.Resource(env, num_analysts)\n",
    "        self.ta = simpy.Resource(env, num_ta)\n",
    "\n",
    "    def complete_RID(self, RID):\n",
    "        yield self.env.timeout(random.uniform(30, 120)) #czas na jeden RID\n",
    "\n",
    "    def check_RID(self, RID):\n",
    "        yield self.env.timeout(random.uniform(5, 20)) #czas na sprawdzenie\n",
    "\n",
    "    def fix_failes(self, RID):\n",
    "        yield self.env.timeout(random.uniform(5, 20)) #czas na poprawienie błędów\n",
    "\n",
    "def make_request(env, RID, company):\n",
    "    \n",
    "    arrival_time = env.now\n",
    "\n",
    "    with company.analyst.request() as request:\n",
    "        yield request\n",
    "        yield env.process(company.complete_RID(RID))\n",
    "\n",
    "    with company.ta.request() as request:\n",
    "        yield request\n",
    "        yield env.process(company.check_RID(RID))\n",
    "    \n",
    "    if random.choices([True, False], weights=[0.1, 0.9]): \n",
    "        with company.analyst.request() as request:\n",
    "            yield request\n",
    "            yield env.process(company.fix_failes(RID))\n",
    "\n",
    "    # Zakończony i sprawdzony RID idzie do Klienta\n",
    "    RID_wait_times.append(env.now - arrival_time)\n"
   ]
  },
  {
   "cell_type": "markdown",
   "metadata": {},
   "source": [
    "Oprócz biura w Warszawie istnieją również biura w innych częściach świata, dlatego usługi świadczone są praktycznie 24 godziny na dobę. Są jednak małe okna i dlatego przed rozpoczęciem pracy w biurze może zgromadzić się kilka części. Intensywność pojawiania się nowych RIDów dość skomplikowana, zależy od dnia tygodnia i kraju, z którego pochodzi. Średnio nowy RID pojawia się co 30 minut."
   ]
  },
  {
   "cell_type": "code",
   "execution_count": 4,
   "metadata": {},
   "outputs": [],
   "source": [
    "def run_classification(env, num_analysts, num_ta):\n",
    "    company = Company(env, num_analysts, num_ta)\n",
    "\n",
    "    #od wczoraj lub innego biura\n",
    "    for RID in range(random.randint(1, 20)):\n",
    "        env.process(make_request(env, RID, company))\n",
    "\n",
    "    while True:\n",
    "        yield env.timeout(30)\n",
    "\n",
    "        RID += 1\n",
    "        env.process(make_request(env, RID, company))"
   ]
  },
  {
   "cell_type": "code",
   "execution_count": 5,
   "metadata": {},
   "outputs": [],
   "source": [
    "#średni czas oczekiwania\n",
    "def get_average_wait_time(RID_wait_times):\n",
    "    \n",
    "    average_wait = statistics.mean(RID_wait_times)\n",
    "    return average_wait"
   ]
  },
  {
   "cell_type": "code",
   "execution_count": 6,
   "metadata": {},
   "outputs": [],
   "source": [
    "def simulate(qty_analyst, qty_ta):\n",
    "    # Setup\n",
    "    num_analysts, num_ta = qty_analyst, qty_ta\n",
    "\n",
    "    # Run\n",
    "    random.seed(42)\n",
    "    env = simpy.Environment()\n",
    "    env.process(run_classification(env, num_analysts, num_ta))\n",
    "    env.run(until=480) #dzień roboczy trwa 8 godzin\n",
    "\n",
    "    # Rezultat\n",
    "    wtime = get_average_wait_time(RID_wait_times)\n",
    "    \n",
    "    return wtime"
   ]
  },
  {
   "cell_type": "markdown",
   "metadata": {},
   "source": [
    "Najpierw ustalono, jak zmienia się średni czas oczekiwania w zależności od liczby analityków. Na tym etapie przyjęto liczbę TA = 2 z danych historycznych."
   ]
  },
  {
   "cell_type": "code",
   "execution_count": 7,
   "metadata": {},
   "outputs": [],
   "source": [
    "results = pd.DataFrame(columns=['Liczba analityków', 'Liczba TA', 'Czas oczekiwania'])"
   ]
  },
  {
   "cell_type": "code",
   "execution_count": 8,
   "metadata": {},
   "outputs": [],
   "source": [
    "num_of_analyst = np.linspace(2, 15, 14)\n",
    "num_of_ta = 2"
   ]
  },
  {
   "cell_type": "code",
   "execution_count": 9,
   "metadata": {},
   "outputs": [],
   "source": [
    "for i in num_of_analyst:\n",
    "        results = results.append({\n",
    "                            'Liczba analityków' : i,\n",
    "                            'Liczba TA' : num_of_ta,\n",
    "                            'Czas oczekiwania' : simulate(i, num_of_ta)}, ignore_index=True)"
   ]
  },
  {
   "cell_type": "code",
   "execution_count": 10,
   "metadata": {},
   "outputs": [
    {
     "data": {
      "image/png": "[encoded data removed]",
      "text/plain": [
       "<Figure size 864x576 with 1 Axes>"
      ]
     },
     "metadata": {
      "needs_background": "light"
     },
     "output_type": "display_data"
    }
   ],
   "source": [
    "plt.figure(figsize=(12, 8))\n",
    "sns.set_style(\"white\")\n",
    "\n",
    "g1 = sns.lineplot(data=results, x='Liczba analityków', y = 'Czas oczekiwania',\n",
    "                 color='orange', linewidth=3, marker='o');\n",
    "for x, y in zip(results['Liczba analityków'], results['Czas oczekiwania']):\n",
    "        g1.text(x, y, f'{y:.0f}', color='blue')\n",
    "g1.axvline(x=6, color='blue', linestyle='--')\n",
    "g1.set(xlabel=\"Liczba analityków\", ylabel = \"Czas oczekiwania, minuty\")\n",
    "g1.set_xticks(num_of_analyst);\n",
    "plt.savefig(\"Rys_1.png\")"
   ]
  },
  {
   "cell_type": "markdown",
   "metadata": {},
   "source": [
    "Z wykresu widać, że jeżeli zatrudnić co najmniej 6 analityków oraz 2 TA średni czas oczekiwania będzie mniej niż 2 godziny. \n",
    "\n",
    "Dalej badano, czy zatrudnienie wększej ilości TA pomoże zmniejszyć średni czas oczekiwania."
   ]
  },
  {
   "cell_type": "code",
   "execution_count": 11,
   "metadata": {},
   "outputs": [],
   "source": [
    "num_of_analyst = 6\n",
    "num_of_ta = np.linspace(2, 5, 4)"
   ]
  },
  {
   "cell_type": "code",
   "execution_count": 12,
   "metadata": {},
   "outputs": [],
   "source": [
    "for i in num_of_ta:\n",
    "        results = results.append({\n",
    "                            'Liczba analityków' : num_of_analyst,\n",
    "                            'Liczba TA' : i,\n",
    "                            'Czas oczekiwania' : simulate(num_of_analyst, i)}, ignore_index=True)"
   ]
  },
  {
   "cell_type": "code",
   "execution_count": 13,
   "metadata": {},
   "outputs": [
    {
     "data": {
      "image/png": "[encoded data removed]",
      "text/plain": [
       "<Figure size 720x288 with 1 Axes>"
      ]
     },
     "metadata": {},
     "output_type": "display_data"
    }
   ],
   "source": [
    "temp_d = results.iloc[14:, ]\n",
    "plt.figure(figsize=(10, 4))\n",
    "sns.set_style(\"white\")\n",
    "\n",
    "g2 = sns.lineplot(data=temp_d, x='Liczba TA', y = 'Czas oczekiwania',\n",
    "                 color='green', linewidth=3, marker='o');\n",
    "for x, y in zip(temp_d['Liczba TA'], temp_d['Czas oczekiwania']):\n",
    "        g2.text(x, y, f'{y:.2f}', color='blue')\n",
    "g2.set(xlabel=\"Liczba TA\", ylabel = \"Czas oczekiwania, minuty\")\n",
    "g2.set_xticks(num_of_ta);\n",
    "plt.savefig(\"Rys_2.png\")"
   ]
  },
  {
   "cell_type": "markdown",
   "metadata": {},
   "source": [
    "# Analiza wrażliwości\n",
    "\n",
    "Na podstawie badań można powiedzieć, że przy ceteris paribus zwiększenie ilości TA nie  wpływa na średni czas oczekiwania. \n",
    "\n",
    "# Wnioski i zalecenia\n",
    "\n",
    "Według symulacji, optymalna liczba analityków i TA, w której średni czas oczekiwania nie przekracza 120 minut wynosi 6 analityków i 2 TA. Przy zwiększeniu ilości analityków (>6) średni czas oczekiwania zmniejsza się nieznacznie. Zwiększenie ilości TA nie wpływa na czas oczekiwania. Wyniki symulacji są zgodne z intuicją i mogą być wdrożone w praktyce. \n",
    "\n",
    "*PS Obecnie pracuję w STTASie. Wyniki są naprawdę bliskie rzeczywistości.*\n",
    "\n",
    "Firmie STTAS sp z.o. zalecano:\n",
    "\n",
    "- zatrudnić 6 analityków do nowego działu klasyfikacji;\n",
    "- zatrudnić 2 TA.\n",
    "\n",
    "# Bibliografia\n",
    "\n",
    "- Jaya Zhané *SimPy: Simulating Real-World Processes With Python* https://realpython.com/simpy-simulating-with-python/\n",
    "- Oficjalna dokumentacja SimPy https://simpy.readthedocs.io/en/latest/"
   ]
  }
 ],
 "metadata": {
  "kernelspec": {
   "display_name": "Python 3",
   "language": "python",
   "name": "python3"
  },
  "language_info": {
   "codemirror_mode": {
    "name": "ipython",
    "version": 3
   },
   "file_extension": ".py",
   "mimetype": "text/x-python",
   "name": "python",
   "nbconvert_exporter": "python",
   "pygments_lexer": "ipython3",
   "version": "3.8.8"
  },
  "metadata": {
   "interpreter": {
    "hash": "1f5b50453fd9f372111fc96a665fefebae91c58c2c5b56303c56eabba6b14ae0"
   }
  }
 },
 "nbformat": 4,
 "nbformat_minor": 4
}
