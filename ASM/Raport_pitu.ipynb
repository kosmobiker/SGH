{
 "cells": [
  {
   "cell_type": "markdown",
   "id": "expressed-large",
   "metadata": {},
   "source": [
    "Zawartość raportu\n",
    "\n",
    "1. Strona tytułowa: Zawiera nazwę organizacji, dla której budowany jest model, temat opracowania, sygnatura przedmiotu, nazwiska studentów, nr alb (w nawiasie zakres odpowiedzialności studenta: budowa modelu, an. wrażliwości, edycja raportu itp.).\n",
    "\n",
    "2. Podsumowanie: Wskazanie głównych wyników (również liczbowych) i wniosków z raportu – propozycji rozwiązania problemu wraz z krótkim uzasadnieniem. W podsumowaniu powinno używać się łatwego słownictwa nie zawierającego żargonu technicznego.\n",
    "\n",
    "3. Opis organizacji: Podsumowanie rodzaju działalności organizacji, rodzaj produktów/usług oferowanych klientom, wielkość organizacji, rodzaj rynku (monopol, doskonała konkurencja itp.), główni konkurenci.\n",
    "\n",
    "4. Opis problemu, który ma być analizowany metodą symulacyjną : Opis powinien zawierać cele modelowania, niezbędne założenia i ograniczenia analizy.\n",
    "\n",
    "5. Wyniki analizy : Liczby wraz z ich interpretacją. Czy rozwiązanie jest akceptowalne? Czy może być wdrożone w praktyce? Czy wynik jest zgodny z intuicją?\n",
    "\n",
    "6. Analiza wrażliwości : Analiza skutków zmiany kluczowych parametrów lub uchylenia niektórych założeń analizy.\n",
    "\n",
    "7. Wnioski i zalecenia : Jak wyniki analizy symulacyjnej mogą usprawnić działanie organizacji.\n",
    "\n",
    "8. Bibliografia "
   ]
  },
  {
   "cell_type": "markdown",
   "id": "modern-webcam",
   "metadata": {},
   "source": [
    "![LOGO](https://bi.im-g.pl/im/01/3b/17/z24361217Q,Herb-SGH.jpg)\n",
    "\n",
    "# 1. Strona tytułowa\n",
    "\n",
    "Szkoła Główna Handlowa w Warszawie\n",
    "\n",
    "Optymalizacja składki ubezpieczeniowej PiTU S.A.\n",
    "\n",
    "234060-S Zaawansowane modelowanie symulacyjne\n",
    "\n",
    "- Uladzislau Darhevich 108519\n",
    "- Michał Przełomski\n",
    "- Grzegorz Zachariasz\n",
    "\n",
    "# 2. Podsumowanie\n",
    "\n",
    "\n",
    "Żeby prawdopodobieństwo ruiny było mniejsze niż 0,01 skłądka powinna być ustalona na poziomie 1400 zł\n",
    "Jaka powinna być nadwyżka i składka, żeby prawdopodobieństwo ruiny było mniejsze niż 0,01? (analiza 2 parametrów) 10000 - 1400 ... 40000 - 1100\n",
    "Kiedy nadwyżka końcowa będzie równa początkowej? Oszacuj na podstawie modelu regresji. Horyzont - 2 lata, składka 400..420\n",
    "Jak liczba symulacji wpływa na wyniki?\n"
   ]
  },
  {
   "cell_type": "markdown",
   "id": "convertible-coaching",
   "metadata": {},
   "source": [
    "# 3. Opis organizacji\n",
    "\n",
    "Firma ubezpieczeniowa PiTU S.A. musi dokonać rekalkulacji składki za ubezpieczenie samochodowe OC dla nowej grupy ubezpieczonych ...."
   ]
  },
  {
   "cell_type": "code",
   "execution_count": null,
   "id": "former-serum",
   "metadata": {},
   "outputs": [],
   "source": []
  }
 ],
 "metadata": {
  "kernelspec": {
   "display_name": "Python 3",
   "language": "python",
   "name": "python3"
  },
  "language_info": {
   "codemirror_mode": {
    "name": "ipython",
    "version": 3
   },
   "file_extension": ".py",
   "mimetype": "text/x-python",
   "name": "python",
   "nbconvert_exporter": "python",
   "pygments_lexer": "ipython3",
   "version": "3.8.5"
  }
 },
 "nbformat": 4,
 "nbformat_minor": 5
}
