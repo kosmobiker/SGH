{
 "cells": [
  {
   "cell_type": "markdown",
   "metadata": {},
   "source": [
    "# Programowanie obiektowe\n",
    "Programowanie obiektowe (ang. __object-oriented programming__) jest najpopularniejszą obecnie techniką tworzenia programów komputerowych. W tym podejściu program komputerowy wyraża się jako zbiór __obiektów__, które są bytami łączącymi stan (opisany przez __atrybuty__) i zachowanie (__metody__, które są procesami operującymi na atrybutach). W celu realizacji zadania obliczeniowego obiekty wywołują nawzajem swoje metody, zlecając w ten sposób innym obiektom odpowiedzialność za wybrane działania. \n",
    "\n",
    "Opakowanie razem logicznie powiązanych danych i procesów nazywamy __kapsułkowaniem__ (ang. __encapsulation__). W porównaniu z tradycyjnym programowaniem proceduralnym, w którym dane i procedury nie są ze sobą powiązane, programowanie obiektowe ułatwia zrozumienie, konserwację i rozwój kodu programu. W konsekwencji ułatwia tworzenie dużych systemów informatycznych i współpracę wielu programistów. Modularność kodu obiektowego pozwala też na ponowne wykorzystywanie istniejącego kodu. \n",
    "\n",
    "Największym atutem programowania obiektowego jest zbliżenie programów komputerowych do ludzkiego sposobu postrzegania rzeczywistości. Czasami nazywa się to zmniejszeniem luki reprezentacji (ang. __representational gap__). Dlatego ludzie są w stanie łatwiej zapanować nad kodem i tworzyć większe programy. Łatwiej jest również zrozumieć kod i pomysły innych programistów i tym samym współpracować w zespole oraz ponownie wykorzystywać istniejące rozwiązania. Co więcej tego naturalnego sposobu myślenia i tych samych pojęć można użyć zarówno w trakcie analizy i dekompozycji problemu jak i w trakcie projektowania jego programowego rozwiązania. \n",
    "\n",
    "Warto wiedzieć, że koncepcja programowania obiektowego zrodziła się z potrzeby tworzenia złożonych symulacji. Pierwszy język obiektowy [Simula 67](http://en.wikipedia.org/wiki/Simula) powstał już w latach sześćdziesiątych ubiegłego stulecia. Jego twórcami byli Ole-Johan Dahl i Kristen Nygaard z Norsk Regnesentral w Oslo. Podczas prac nad symulacją portu handlowego musieli dla każdego rodzaju statku uwzględniać wiele zmiennych. Ponieważ liczba modelowanych rodzajów statków była duża, uwzględnienie wszystkich możliwych zależności między atrybutami stało się problematyczne. Pojawił się pomysł, aby reprezentować statki jako egzemplarze określonego typu/klasy. Każda klasa statków była opisana przez atrybuty i zachowania (zobacz [animacje](http://wazniak.mimuw.edu.pl/images/c/cd/Statki.swf))."
   ]
  },
  {
   "cell_type": "markdown",
   "metadata": {},
   "source": [
    "## 'Wszystko jest obiektem'\n",
    "Klasę możemy również rozumieć jako wyspecjalizowany typ danych. W Pythonie właściwie każdy typ danych i każda biblioteka jest klasą posiadającą odpowiednią strukturę i właściwości.\n",
    "Programowanie obiektowe pozwala nam tworzyć własne, bardziej złożone lub wyspecjalizowane, typy danych opisujące strukturę i własności obiektów, które chcemy modelować. Rozpatrzmy problem spadku wartości samochodu w czasie:\n"
   ]
  },
  {
   "cell_type": "markdown",
   "metadata": {},
   "source": [
    "## Przykład"
   ]
  },
  {
   "cell_type": "code",
   "execution_count": 1,
   "metadata": {},
   "outputs": [
    {
     "data": {
      "text/plain": [
       "9007.221411644934"
      ]
     },
     "execution_count": 1,
     "metadata": {},
     "output_type": "execute_result"
    }
   ],
   "source": [
    "import datetime\n",
    "import math\n",
    "\n",
    "cena_zakupu = 80000 # cena nowego samochodu w momencie zakupu\n",
    "rok_produkcji = 2009\n",
    "wiek = datetime.date.today().year - rok_produkcji\n",
    "depreciation_rate = 0.182\n",
    "\n",
    "def wylicz_cene(depreciation_rate, cena_zakupu, wiek):\n",
    "    return cena_zakupu* math.e**(-wiek*depreciation_rate)\n",
    "\n",
    "wylicz_cene(depreciation_rate,cena_zakupu,wiek)"
   ]
  },
  {
   "cell_type": "markdown",
   "metadata": {},
   "source": [
    "Gdybyśmy posiadali kilka samochodów, z różnych półek cenowej i w różnym wieku, musielibyśmi zadeklarować znacznie więcej zmiennych  i nimi odpowiednio zarządzać co byłoby uciążliwe. Klasy ułatwiają tę procedurę, pełnią rolę **matrycy**, która umożliwi stworzenie wielu obiektów określonego typu, posiadających z góry określone atrybuty i metody, a różne ich wartości. \n"
   ]
  },
  {
   "cell_type": "code",
   "execution_count": 2,
   "metadata": {},
   "outputs": [],
   "source": [
    "import datetime\n",
    "import math\n",
    "\n",
    "class Pojazd :\n",
    "    # warto rozroznic 2 rodzaje atrybutow: atrybuty klasy i atrybuty instancji\n",
    "    # atrybuty instancji sa wartosciami charakterystycznymi dla jednego stworzonego przez nas obiektu \n",
    "    # natomiast atrybuty klasy odnosza sie do wszystkich obiektow danej klasy\n",
    "    # np. kazdy samochod ma 4 kola\n",
    "    liczba_kol = 4\n",
    "    \n",
    "    # przyjmujemy tez stala i niezmienna stope deprecjacji\n",
    "    depreciation_rate = 0.182\n",
    "    \n",
    "    # analogicznie jak w przypadku atrybutow metody tez nie musza sie odwolywac do pojedynczych instancji, \n",
    "    # mowimy wtedy o metodach statycznych\n",
    "    \n",
    "    def pojazd_definicja():\n",
    "        return (\"Pojazd to urzadzenie do transportu ludzi lub towarów\" )\n",
    "    \n",
    "    # metoda __init__ to metoda specjalna\n",
    "    # służąca do inicjalizacji obiektu (konstruktor)\n",
    "    # wywoływana jest automatycznie \n",
    "    # kiedy tworzymy obiekt danej klasy\n",
    "    def __init__(self, marka,cena_zakupu, rok_produkcji):\n",
    "        self.marka = marka\n",
    "        self.cena_zakupu = cena_zakupu\n",
    "        self.rok_produkcji = rok_produkcji\n",
    "        self.wiek = datetime.date.today().year - self.rok_produkcji #atrybuty moga byc wyliczane przez sama klase\n",
    "    \n",
    "    # metoda __repr__ to metoda specjalna\n",
    "    # która zwraca opis obiektu\n",
    "    # w formie wywołania pozwalającego\n",
    "    # na stworzenie jego duplikatu\n",
    "    def __repr__(self):\n",
    "        return 'Pojazd ({}, {}, {})'.format(self.marka, self. cena_zakupu, self.rok_produkcji)\n",
    "    \n",
    "    # kolejna metoda specjalna\n",
    "    # wywolywana automatycznie \n",
    "    # kiedy obiekt tej klasy przekażemy \n",
    "    # jako argument dla funkcji 'print'\n",
    "    def __str__(self):\n",
    "        return 'To jest samochod marki {} wyprodukowany w {} roku. Ma {} koła'.format(self.marka, self.rok_produkcji, Pojazd.liczba_kol)\n",
    "    \n",
    "    # zdefiniujmy wiec nasze wyliczenie ceny jak metode klasy pojazd:\n",
    "    def aktualna_cena(self):\n",
    "        return self.cena_zakupu* math.e**(-self.wiek*Pojazd.depreciation_rate)\n"
   ]
  },
  {
   "cell_type": "code",
   "execution_count": 3,
   "metadata": {},
   "outputs": [
    {
     "data": {
      "text/plain": [
       "Pojazd (fiat, 60000, 2006)"
      ]
     },
     "execution_count": 3,
     "metadata": {},
     "output_type": "execute_result"
    }
   ],
   "source": [
    "fiat_2006 = Pojazd(\"fiat\", 60000, 2006)\n",
    "fiat_2006"
   ]
  },
  {
   "cell_type": "code",
   "execution_count": 4,
   "metadata": {},
   "outputs": [
    {
     "name": "stdout",
     "output_type": "stream",
     "text": [
      "To jest samochod marki fiat wyprodukowany w 2006 roku. Ma 4 koła\n"
     ]
    }
   ],
   "source": [
    "print(fiat_2006)"
   ]
  },
  {
   "cell_type": "code",
   "execution_count": 5,
   "metadata": {},
   "outputs": [
    {
     "data": {
      "text/plain": [
       "3913.157380087652"
      ]
     },
     "execution_count": 5,
     "metadata": {},
     "output_type": "execute_result"
    }
   ],
   "source": [
    "fiat_2006.aktualna_cena()"
   ]
  },
  {
   "cell_type": "code",
   "execution_count": 6,
   "metadata": {},
   "outputs": [
    {
     "data": {
      "text/plain": [
       "'Pojazd to urzadzenie do transportu ludzi lub towarów'"
      ]
     },
     "execution_count": 6,
     "metadata": {},
     "output_type": "execute_result"
    }
   ],
   "source": [
    "Pojazd.pojazd_definicja()"
   ]
  },
  {
   "cell_type": "code",
   "execution_count": 7,
   "metadata": {},
   "outputs": [
    {
     "data": {
      "text/plain": [
       "23324.206871319326"
      ]
     },
     "execution_count": 7,
     "metadata": {},
     "output_type": "execute_result"
    }
   ],
   "source": [
    "alfa_romeo_2012 = Pojazd(\"alfa romeo\", 120000, 2012)\n",
    "alfa_romeo_2012.aktualna_cena()"
   ]
  },
  {
   "cell_type": "markdown",
   "metadata": {},
   "source": [
    "Problem pojawia się gdy  zależy nam na uwzględnieniu  różniących się od siebie obiektów, w tym wypadku np. samochodów i motocykli. Oczywiście możemy przepisać klasę <tt>Pojazd</tt> w taki sposób aby było to możliwe, jednak doprowadziłoby to do większej komplikacji przy deklarowaniu instancji, która by rosła przy powiększaniu modelu o kolejne atrybuty i metody. W tym wypadku przyda nam się kolejna ważna idea czyli **dziedziczenie**. Jest to mechanizm pozwalajacy na tworzenie wyspecjalizowanych typów danych (klas potomnych) na bazie typów bardziej ogólnych (klas bazowych). Poniżej definiujemy klasy <tt>Samochód</tt> i <tt>Motocykl</tt> będące 'potomkami' klasy <tt>Pojazd</tt>. Jak widać nawę klasy bazowej podajemy w nawiasie po nazwie tworzonej klasy potomnej (jeśli nie podamy nazwy klasy bazowej tworzona klasa dziedziczy domyślnie po klasie <tt>object</tt>, która jest 'korzeniem' drzewa hierarchii klas w Pythonie).\n",
    "\n",
    "Możliwe jest dziedziczenie po kilku klasach bazowych, choć nie będziemy korzystać z tej możliwości. Osoby zainteresowanie odsyłam do [dokumentacji](http://docs.python.org/3.4/tutorial/classes.html#multiple-inheritance)."
   ]
  },
  {
   "cell_type": "code",
   "execution_count": 8,
   "metadata": {},
   "outputs": [],
   "source": [
    "class Pojazd :\n",
    "    def __init__(self, typ_pojazdu, marka, cena_zakupu, rok_produkcji, liczba_kol, depreciation_rate):\n",
    "        self.typ_pojazdu = typ_pojazdu\n",
    "        self.marka = marka\n",
    "        self.cena_zakupu = cena_zakupu\n",
    "        self.rok_produkcji = rok_produkcji\n",
    "        self.wiek = datetime.date.today().year - self.rok_produkcji #atrybuty moga byc wyliczane przez sama klase\n",
    "        self.liczba_kol = liczba_kol\n",
    "        self.depreciation_rate = depreciation_rate\n",
    "    \n",
    "    def __str__(self):\n",
    "        return 'To jest {} marki {} wyprodukowany w {} roku. Ma {} koła'.format(self.typ_pojazdu, self.marka, self.rok_produkcji, self.liczba_kol)\n",
    "    \n",
    "    def aktualna_cena(self):\n",
    "        return self.cena_zakupu* math.e**(-self.wiek*self.depreciation_rate)\n"
   ]
  },
  {
   "cell_type": "code",
   "execution_count": 9,
   "metadata": {},
   "outputs": [],
   "source": [
    "class Samochod (Pojazd):\n",
    "    liczba_kol = 4\n",
    "    depreciation_rate  = 0.182\n",
    "    \n",
    "    def __init__(self, marka, cena_zakupu, rok_produkcji):\n",
    "        super().__init__(Samochod.__name__, marka, cena_zakupu, rok_produkcji, Samochod.liczba_kol, Samochod.depreciation_rate)    "
   ]
  },
  {
   "cell_type": "code",
   "execution_count": 10,
   "metadata": {},
   "outputs": [
    {
     "name": "stdout",
     "output_type": "stream",
     "text": [
      "To jest Samochod marki BMW wyprodukowany w 1995 roku. Ma 4 koła\n"
     ]
    }
   ],
   "source": [
    "bmw_1995 = Samochod(\"BMW\", 70000, 1995)\n",
    "print(bmw_1995)"
   ]
  },
  {
   "cell_type": "code",
   "execution_count": 11,
   "metadata": {},
   "outputs": [
    {
     "data": {
      "text/plain": [
       "616.6185017178625"
      ]
     },
     "execution_count": 11,
     "metadata": {},
     "output_type": "execute_result"
    }
   ],
   "source": [
    "bmw_1995.aktualna_cena()"
   ]
  },
  {
   "cell_type": "code",
   "execution_count": 12,
   "metadata": {},
   "outputs": [],
   "source": [
    "class Motocykl (Pojazd):\n",
    "    liczba_kol = 2\n",
    "    depreciation_rate  = 0.23\n",
    "    \n",
    "    def __init__(self, marka, cena_zakupu, rok_produkcji):\n",
    "        super().__init__(Motocykl.__name__, marka, cena_zakupu, rok_produkcji, Motocykl.liczba_kol, Motocykl.depreciation_rate)    "
   ]
  },
  {
   "cell_type": "code",
   "execution_count": 13,
   "metadata": {},
   "outputs": [
    {
     "name": "stdout",
     "output_type": "stream",
     "text": [
      "To jest Motocykl marki Suzuki wyprodukowany w 2011 roku. Ma 2 koła\n"
     ]
    }
   ],
   "source": [
    "suzuki_2011 = Motocykl(\"Suzuki\", 100000, 2011)\n",
    "print(suzuki_2011)"
   ]
  },
  {
   "cell_type": "code",
   "execution_count": 14,
   "metadata": {},
   "outputs": [
    {
     "data": {
      "text/plain": [
       "10025.884372280372"
      ]
     },
     "execution_count": 14,
     "metadata": {},
     "output_type": "execute_result"
    }
   ],
   "source": [
    "suzuki_2011.aktualna_cena()"
   ]
  },
  {
   "cell_type": "markdown",
   "metadata": {},
   "source": [
    "Metoda '`mro()`' zwraca hierarchie dziedziczenia dla danej klasy. Korzeniem hierarchii klas jest klasa '`object`'. Przedrostek `__main__` wskazuje że klasa zostala zdefiniowana w _globalnej_ przestrzeni nazw."
   ]
  },
  {
   "cell_type": "code",
   "execution_count": 15,
   "metadata": {},
   "outputs": [
    {
     "data": {
      "text/plain": [
       "[__main__.Motocykl, __main__.Pojazd, object]"
      ]
     },
     "execution_count": 15,
     "metadata": {},
     "output_type": "execute_result"
    }
   ],
   "source": [
    "Motocykl.mro()"
   ]
  },
  {
   "cell_type": "code",
   "execution_count": 16,
   "metadata": {},
   "outputs": [
    {
     "data": {
      "text/plain": [
       "[tuple, object]"
      ]
     },
     "execution_count": 16,
     "metadata": {},
     "output_type": "execute_result"
    }
   ],
   "source": [
    "tuple.mro()"
   ]
  },
  {
   "cell_type": "code",
   "execution_count": 17,
   "metadata": {},
   "outputs": [
    {
     "data": {
      "text/plain": [
       "[str, object]"
      ]
     },
     "execution_count": 17,
     "metadata": {},
     "output_type": "execute_result"
    }
   ],
   "source": [
    "str.mro()"
   ]
  },
  {
   "cell_type": "markdown",
   "metadata": {},
   "source": [
    "polecenie `isinstance` sprawdza, czy obiekt jest _instancją_ wskazanej klasy:"
   ]
  },
  {
   "cell_type": "code",
   "execution_count": 18,
   "metadata": {},
   "outputs": [
    {
     "data": {
      "text/plain": [
       "True"
      ]
     },
     "execution_count": 18,
     "metadata": {},
     "output_type": "execute_result"
    }
   ],
   "source": [
    "isinstance(suzuki_2011, Pojazd)"
   ]
  },
  {
   "cell_type": "markdown",
   "metadata": {},
   "source": [
    "poleceniem `isubclass` sprawdzamy, czy Klasa1 jest podklasa Klasy2:"
   ]
  },
  {
   "cell_type": "code",
   "execution_count": 19,
   "metadata": {},
   "outputs": [
    {
     "data": {
      "text/plain": [
       "True"
      ]
     },
     "execution_count": 19,
     "metadata": {},
     "output_type": "execute_result"
    }
   ],
   "source": [
    "issubclass(Samochod, Pojazd)"
   ]
  },
  {
   "cell_type": "markdown",
   "metadata": {},
   "source": [
    "# ZADANIA\n",
    "\n",
    "## Zadanie 1\n",
    "\n",
    "Napisz generator, który będzie generował kolejne wyrazy ciągu Fibonacciego."
   ]
  },
  {
   "cell_type": "code",
   "execution_count": 35,
   "metadata": {},
   "outputs": [],
   "source": [
    "def fib(n):\n",
    "    res = []\n",
    "    a, b = 0, 1\n",
    "    for _ in range(n):\n",
    "        res.append(a)\n",
    "        a, b = b, a + b\n",
    "    return res"
   ]
  },
  {
   "cell_type": "code",
   "execution_count": 41,
   "metadata": {},
   "outputs": [
    {
     "data": {
      "text/plain": [
       "[0, 1, 1, 2, 3, 5, 8, 13, 21, 34, 55, 89, 144, 233, 377, 610, 987, 1597]"
      ]
     },
     "execution_count": 41,
     "metadata": {},
     "output_type": "execute_result"
    }
   ],
   "source": [
    "fib(18)"
   ]
  },
  {
   "cell_type": "markdown",
   "metadata": {},
   "source": [
    "## Zadanie 2\n",
    "\n",
    "W oparciu o klasę bazową `Figura` zaproponuj implementację klasy `Prostokąt` reprezentującej dowolny prostokąt i klasy `Kwadrat` dziedziczącej po klasie `Prostokąt` i reprezentującej dowolny kwadrat.\n",
    "\n",
    "```python\n",
    "class Figura:\n",
    "    def __init__(self):\n",
    "        raise NotImplementedError()\n",
    "    def powierzchnia(self):\n",
    "        '''oblicza pole powierzchni figury'''\n",
    "        raise NotImplementedError(\"powierzchnia() must be implemented\")\n",
    "    def obwod(self):\n",
    "        '''oblicza obwód figury'''\n",
    "        raise NotImplementedError(\"obwod() must be implemented\")\n",
    "```\n"
   ]
  },
  {
   "cell_type": "code",
   "execution_count": 50,
   "metadata": {},
   "outputs": [
    {
     "name": "stdout",
     "output_type": "stream",
     "text": [
      "6 10\n",
      "25 20\n"
     ]
    }
   ],
   "source": [
    "class Figura:\n",
    "    \n",
    "    def __init__(self):\n",
    "        raise NotImplementedError()\n",
    "        \n",
    "    def powierzchnia(self):\n",
    "        '''oblicza pole powierzchni figury'''\n",
    "        raise NotImplementedError(\"powierzchnia() must be implemented\")\n",
    "        \n",
    "    def obwod(self):\n",
    "        '''oblicza obwód figury'''\n",
    "        raise NotImplementedError(\"obwod() must be implemented\")\n",
    "        \n",
    "\n",
    "class Prostokat(Figura):\n",
    "    \n",
    "    def __init__(self, a, b):\n",
    "        self.a = a\n",
    "        self.b = b\n",
    "        \n",
    "    def powierzchnia(self):\n",
    "        return self.a * self.b\n",
    "    \n",
    "    def obwod(self):\n",
    "        return 2*(self.a + self.b)\n",
    "    \n",
    "\n",
    "class Kwadrat(Prostokat):\n",
    "    \n",
    "    def __init__(self, c):\n",
    "        super().__init__(c, c)\n",
    "\n",
    "        \n",
    "p = Prostokat(2, 3) \n",
    "print(p.powierzchnia(), p.obwod())\n",
    "k = Kwadrat(5) \n",
    "print(k.powierzchnia(), k.obwod())"
   ]
  },
  {
   "cell_type": "markdown",
   "metadata": {},
   "source": [
    "## Zadanie 3\n",
    "\n",
    "Napisz klasę przedstawiającą konto bankowe, na którym możliwe są operacje wpłat i wypłat oraz sprawdzenia stanu konta (uwzględniającego powyższe operacje). Przy tworzeniu konta możliwe jest wpłacenie depozytu."
   ]
  },
  {
   "cell_type": "code",
   "execution_count": 48,
   "metadata": {},
   "outputs": [],
   "source": [
    "class BankAccount:\n",
    "    \n",
    "    def __init__(self, initial_balance = 0):\n",
    "        self.balance = initial_balance\n",
    "        \n",
    "    def deposit(self, deposit_amount):\n",
    "        self.balance =+ deposit_amount\n",
    "        \n",
    "    def withdraw(self, withdraw_amount):\n",
    "        self.balance -= withdraw_amount\n",
    "        \n",
    "    def __repr__(self):\n",
    "        return 'Account balance: {}'.format(self.balance)\n",
    "    \n",
    "b = BankAccount()"
   ]
  },
  {
   "cell_type": "markdown",
   "metadata": {},
   "source": [
    "## Zadanie 4\n",
    "\n",
    "Stwórz klasę Pet o parametrach *name*, *kind*, *speak*, która będzie miała następujące metody:\n",
    "\n",
    "- *get_name* - zwraca imię pupila\n",
    "- *get_kind* - zwraca gatunek pupila\n",
    "- *add_tricks* - przyjmuje jako argument różne triki naszego pupila i dodaje do atrybutu *tricks*\n",
    "- *get_tricks* - zwraca listę trików, które pupil potrafi robić\n",
    "- *speaks* - zwraca informację jak pupil \"mówi\"\n",
    "\n",
    "Następnie stwórz na jej podstawie dwie klasy: *Dog* oraz *Cat*"
   ]
  },
  {
   "cell_type": "code",
   "execution_count": 51,
   "metadata": {},
   "outputs": [],
   "source": [
    "class Pet:\n",
    "    \n",
    "    def __init__(self, name, kind, speak):\n",
    "        self.name = name\n",
    "        self.kind = kind\n",
    "        self.speak = speak\n",
    "        self.tricks = []\n",
    "        \n",
    "    def get_name(self):\n",
    "        return self.name\n",
    "    \n",
    "    def get_kind(self):\n",
    "        return '{} is a {}'.format(self.name, self.kind)\n",
    "    \n",
    "    def get_tricks(self):\n",
    "        return self.tricks\n",
    "    \n",
    "    def speaks(self):\n",
    "        return \"{} just does a '{}, {}' \".format(self.name, self.speak, self.speak)\n",
    "        \n",
    "    def add_trick(self, trick):\n",
    "        self.tricks.append(trick)"
   ]
  },
  {
   "cell_type": "code",
   "execution_count": 52,
   "metadata": {},
   "outputs": [],
   "source": [
    "Buddy = Pet(\"Buddy\", \"Dog\", \"woof\")\n",
    "Buddy.add_trick('roll over')\n",
    "Buddy.add_trick('play dead')\n",
    "\n",
    "Carrie = Pet(\"Carrie\", \"Cat\", \"meow\")\n",
    "Carrie.add_trick('jump high')\n",
    "Carrie.add_trick('being cute')"
   ]
  },
  {
   "cell_type": "code",
   "execution_count": 53,
   "metadata": {},
   "outputs": [],
   "source": [
    "class Dog(Pet):\n",
    "    \n",
    "    def __init__(self, name):\n",
    "        super().__init__(name, \"Dog\", \"woof\")\n",
    "        \n",
    "class Cat(Pet):\n",
    "    \n",
    "    def __init__(self, name):\n",
    "        super().__init__(name, \"Cat\", \"meow\")"
   ]
  },
  {
   "cell_type": "code",
   "execution_count": 54,
   "metadata": {},
   "outputs": [],
   "source": [
    "Buddy = Dog(\"Buddy\")\n",
    "Buddy.add_trick('roll over')\n",
    "Buddy.add_trick('play dead')\n",
    "\n",
    "Carrie = Cat(\"Carrie\")\n",
    "Carrie.add_trick('jump high')\n",
    "Carrie.add_trick('being cute')"
   ]
  },
  {
   "cell_type": "code",
   "execution_count": null,
   "metadata": {},
   "outputs": [],
   "source": []
  }
 ],
 "metadata": {
  "kernelspec": {
   "display_name": "Python 3",
   "language": "python",
   "name": "python3"
  },
  "language_info": {
   "codemirror_mode": {
    "name": "ipython",
    "version": 3
   },
   "file_extension": ".py",
   "mimetype": "text/x-python",
   "name": "python",
   "nbconvert_exporter": "python",
   "pygments_lexer": "ipython3",
   "version": "3.8.8"
  },
  "toc": {
   "base_numbering": 1,
   "nav_menu": {},
   "number_sections": true,
   "sideBar": true,
   "skip_h1_title": false,
   "title_cell": "Table of Contents",
   "title_sidebar": "Contents",
   "toc_cell": false,
   "toc_position": {},
   "toc_section_display": true,
   "toc_window_display": false
  }
 },
 "nbformat": 4,
 "nbformat_minor": 4
}
