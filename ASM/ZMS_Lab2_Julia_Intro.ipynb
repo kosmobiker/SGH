{
 "cells": [
  {
   "cell_type": "markdown",
   "metadata": {},
   "source": [
    "# Intro to Julia and Jupyter"
   ]
  },
  {
   "cell_type": "markdown",
   "metadata": {},
   "source": [
    "Prowadzący: Łukasz Kraiński\n",
    "\n",
    "Kontakt: lukasz.krainski123@gmail.com / lkrain@sgh.waw.pl"
   ]
  },
  {
   "cell_type": "markdown",
   "metadata": {},
   "source": [
    "## 1.Quick Jupyter Notebook guide"
   ]
  },
  {
   "cell_type": "markdown",
   "metadata": {},
   "source": [
    "Use **Arrow keys** to move up and down\n",
    "***"
   ]
  },
  {
   "cell_type": "markdown",
   "metadata": {},
   "source": [
    "Use **Enter** to activate cell and **ESC** to deactivate it\n",
    "***"
   ]
  },
  {
   "cell_type": "markdown",
   "metadata": {
    "raw_mimetype": "text/latex"
   },
   "source": [
    "Use **CTRL+Enter** to execute cell (interpret Markdown or Python code)\n",
    "***"
   ]
  },
  {
   "cell_type": "markdown",
   "metadata": {},
   "source": [
    "While cell is deactivated (you are in Command mode) use **M** to turn cell into Markdown or **Y** to switch to Python\n",
    "___"
   ]
  },
  {
   "cell_type": "markdown",
   "metadata": {},
   "source": [
    "**a** adds cell above and **b** adds cell below (**ALT+Enter** execute and insert below)\n",
    "___"
   ]
  },
  {
   "cell_type": "markdown",
   "metadata": {},
   "source": [
    "Delete cell using **dd**\n",
    "___"
   ]
  },
  {
   "cell_type": "markdown",
   "metadata": {},
   "source": [
    "More shortcuts will pop up after pressing **H**"
   ]
  },
  {
   "cell_type": "markdown",
   "metadata": {},
   "source": [
    "## 2.Markdown guide"
   ]
  },
  {
   "cell_type": "markdown",
   "metadata": {},
   "source": [
    "[Markdown Cheatsheet](https://github.com/adam-p/markdown-here/wiki/Markdown-Cheatsheet)"
   ]
  },
  {
   "cell_type": "markdown",
   "metadata": {},
   "source": [
    "### Julia introduction"
   ]
  },
  {
   "cell_type": "markdown",
   "metadata": {},
   "source": [
    "Based on: \n",
    "- Julia express http://bogumilkaminski.pl/files/julia_express.pdf\n",
    "- Presentation by dr Szufel"
   ]
  },
  {
   "cell_type": "markdown",
   "metadata": {},
   "source": [
    "## Key features of Julia"
   ]
  },
  {
   "cell_type": "markdown",
   "metadata": {},
   "source": [
    "- **Performance** : Dynamically compiled to optimized native machine code\n",
    "\n",
    "- **Scalability** : build in support for High Performance Computing  (SIMD, Threading, Distributed computing)\n",
    "\n",
    "- **Modern design of the language** : multiple dispatch, metaprogramming (code genration), type system\n",
    "\n",
    "- **MIT License** : corporate-use friendly (also package ecosystem)\n",
    "\n",
    "- **Integration with other popular languages** : R and Python can be called from Julia"
   ]
  },
  {
   "cell_type": "markdown",
   "metadata": {},
   "source": [
    "### Performance"
   ]
  },
  {
   "cell_type": "code",
   "execution_count": 1,
   "metadata": {},
   "outputs": [
    {
     "output_type": "stream",
     "name": "stdout",
     "text": [
      "  0.015207 seconds (17 allocations: 46.078 KiB)\n"
     ]
    },
    {
     "output_type": "execute_result",
     "data": {
      "text/plain": [
       "1×40 adjoint(::Vector{Float64}) with eltype Float64:\n",
       " -0.808815  0.204164  -0.346377  0.800005  …  0.964418  1.30393  0.144318"
      ]
     },
     "metadata": {},
     "execution_count": 1
    }
   ],
   "source": [
    "function first_func(n::Int)\n",
    "           A = rand(n, n)\n",
    "           b = rand(n)\n",
    "           return (A\\b)'\n",
    "end\n",
    "@time first_func(40)"
   ]
  },
  {
   "cell_type": "code",
   "execution_count": 2,
   "metadata": {},
   "outputs": [
    {
     "output_type": "stream",
     "name": "stdout",
     "text": [
      "  0.001033 seconds (5 allocations: 26.422 KiB)\n"
     ]
    },
    {
     "output_type": "execute_result",
     "data": {
      "text/plain": [
       "1×40 adjoint(::Vector{Float64}) with eltype Float64:\n",
       " -0.992498  0.816733  0.918902  0.248287  …  1.67301  0.246263  1.68212"
      ]
     },
     "metadata": {},
     "execution_count": 2
    }
   ],
   "source": [
    "#Second function run - much faster!!\n",
    "@time first_func(40)"
   ]
  },
  {
   "cell_type": "markdown",
   "metadata": {},
   "source": [
    "http://slides.com/valentinchuravy/julia-parallelism#/\n",
    "\n",
    "<img src=\"https://i.imgur.com/ut1a7mT.png\" alt=\"SIMD\" width=\"600px\">\n"
   ]
  },
  {
   "cell_type": "code",
   "execution_count": 3,
   "metadata": {
    "scrolled": true
   },
   "outputs": [
    {
     "output_type": "stream",
     "name": "stdout",
     "text": [
      "\t\u001b[0m.text\n",
      "\u001b[90m; ┌ @ In[1]:1 within `first_func'\u001b[39m\n",
      "\t\u001b[96m\u001b[1mpushq\u001b[22m\u001b[39m\t\u001b[0m%rbp\n",
      "\t\u001b[96m\u001b[1mmovq\u001b[22m\u001b[39m\t\u001b[0m%rsp\u001b[0m, \u001b[0m%rbp\n",
      "\t\u001b[96m\u001b[1mpushq\u001b[22m\u001b[39m\t\u001b[0m%rsi\n",
      "\t\u001b[96m\u001b[1mpushq\u001b[22m\u001b[39m\t\u001b[0m%rdi\n",
      "\t\u001b[96m\u001b[1mpushq\u001b[22m\u001b[39m\t\u001b[0m%rbx\n",
      "\t\u001b[96m\u001b[1mandq\u001b[22m\u001b[39m\t\u001b[33m$-32\u001b[39m\u001b[0m, \u001b[0m%rsp\n",
      "\t\u001b[96m\u001b[1msubq\u001b[22m\u001b[39m\t\u001b[33m$160\u001b[39m\u001b[0m, \u001b[0m%rsp\n",
      "\t\u001b[96m\u001b[1mmovq\u001b[22m\u001b[39m\t\u001b[0m%rcx\u001b[0m, \u001b[0m%rdi\n",
      "\t\u001b[96m\u001b[1mvxorps\u001b[22m\u001b[39m\t\u001b[0m%xmm0\u001b[0m, \u001b[0m%xmm0\u001b[0m, \u001b[0m%xmm0\n",
      "\t\u001b[96m\u001b[1mvmovaps\u001b[22m\u001b[39m\t\u001b[0m%ymm0\u001b[0m, \u001b[33m64\u001b[39m\u001b[33m(\u001b[39m\u001b[0m%rsp\u001b[33m)\u001b[39m\n",
      "\t\u001b[96m\u001b[1mmovl\u001b[22m\u001b[39m\t\u001b[93m$jl_get_ptls_states\u001b[39m\u001b[0m, \u001b[0m%eax\n",
      "\t\u001b[96m\u001b[1mvzeroupper\u001b[22m\u001b[39m\n",
      "\t\u001b[96m\u001b[1mcallq\u001b[22m\u001b[39m\t\u001b[0m*\u001b[0m%rax\n",
      "\t\u001b[96m\u001b[1mmovq\u001b[22m\u001b[39m\t\u001b[0m%rax\u001b[0m, \u001b[0m%rsi\n",
      "\u001b[90m; │ @ In[1]:2 within `first_func'\u001b[39m\n",
      "\t\u001b[96m\u001b[1mmovq\u001b[22m\u001b[39m\t\u001b[33m$8\u001b[39m\u001b[0m, \u001b[33m64\u001b[39m\u001b[33m(\u001b[39m\u001b[0m%rsp\u001b[33m)\u001b[39m\n",
      "\t\u001b[96m\u001b[1mmovq\u001b[22m\u001b[39m\t\u001b[33m(\u001b[39m\u001b[0m%rsi\u001b[33m)\u001b[39m\u001b[0m, \u001b[0m%rax\n",
      "\t\u001b[96m\u001b[1mmovq\u001b[22m\u001b[39m\t\u001b[0m%rax\u001b[0m, \u001b[33m72\u001b[39m\u001b[33m(\u001b[39m\u001b[0m%rsp\u001b[33m)\u001b[39m\n",
      "\t\u001b[96m\u001b[1mleaq\u001b[22m\u001b[39m\t\u001b[33m64\u001b[39m\u001b[33m(\u001b[39m\u001b[0m%rsp\u001b[33m)\u001b[39m\u001b[0m, \u001b[0m%rax\n",
      "\t\u001b[96m\u001b[1mmovq\u001b[22m\u001b[39m\t\u001b[0m%rax\u001b[0m, \u001b[33m(\u001b[39m\u001b[0m%rsi\u001b[33m)\u001b[39m\n",
      "\t\u001b[96m\u001b[1mmovq\u001b[22m\u001b[39m\t\u001b[0m%rdi\u001b[0m, \u001b[33m120\u001b[39m\u001b[33m(\u001b[39m\u001b[0m%rsp\u001b[33m)\u001b[39m\n",
      "\t\u001b[96m\u001b[1mmovq\u001b[22m\u001b[39m\t\u001b[0m%rdi\u001b[0m, \u001b[33m128\u001b[39m\u001b[33m(\u001b[39m\u001b[0m%rsp\u001b[33m)\u001b[39m\n",
      "\u001b[90m; │┌ @ Random.jl:277 within `rand'\u001b[39m\n",
      "\t\u001b[96m\u001b[1mmovabsq\u001b[22m\u001b[39m\t\u001b[93m$rand\u001b[39m\u001b[0m, \u001b[0m%rax\n",
      "\t\u001b[96m\u001b[1mleaq\u001b[22m\u001b[39m\t\u001b[33m120\u001b[39m\u001b[33m(\u001b[39m\u001b[0m%rsp\u001b[33m)\u001b[39m\u001b[0m, \u001b[0m%rcx\n",
      "\t\u001b[96m\u001b[1mcallq\u001b[22m\u001b[39m\t\u001b[0m*\u001b[0m%rax\n",
      "\t\u001b[96m\u001b[1mmovq\u001b[22m\u001b[39m\t\u001b[0m%rax\u001b[0m, \u001b[0m%rbx\n",
      "\u001b[90m; │└\u001b[39m\n",
      "\u001b[90m; │ @ In[1]:3 within `first_func'\u001b[39m\n",
      "\t\u001b[96m\u001b[1mmovq\u001b[22m\u001b[39m\t\u001b[0m%rdi\u001b[0m, \u001b[33m56\u001b[39m\u001b[33m(\u001b[39m\u001b[0m%rsp\u001b[33m)\u001b[39m\n",
      "\t\u001b[96m\u001b[1mmovq\u001b[22m\u001b[39m\t\u001b[0m%rbx\u001b[0m, \u001b[33m88\u001b[39m\u001b[33m(\u001b[39m\u001b[0m%rsp\u001b[33m)\u001b[39m\n",
      "\u001b[90m; │┌ @ Random.jl:277 within `rand'\u001b[39m\n",
      "\t\u001b[96m\u001b[1mmovabsq\u001b[22m\u001b[39m\t\u001b[93m$rand\u001b[39m\u001b[0m, \u001b[0m%rax\n",
      "\t\u001b[96m\u001b[1mleaq\u001b[22m\u001b[39m\t\u001b[33m56\u001b[39m\u001b[33m(\u001b[39m\u001b[0m%rsp\u001b[33m)\u001b[39m\u001b[0m, \u001b[0m%rcx\n",
      "\t\u001b[96m\u001b[1mcallq\u001b[22m\u001b[39m\t\u001b[0m*\u001b[0m%rax\n",
      "\t\u001b[96m\u001b[1mmovq\u001b[22m\u001b[39m\t\u001b[0m%rax\u001b[0m, \u001b[33m80\u001b[39m\u001b[33m(\u001b[39m\u001b[0m%rsp\u001b[33m)\u001b[39m\n",
      "\u001b[90m; │└\u001b[39m\n",
      "\u001b[90m; │ @ In[1]:4 within `first_func'\u001b[39m\n",
      "\t\u001b[96m\u001b[1mmovq\u001b[22m\u001b[39m\t\u001b[0m%rbx\u001b[0m, \u001b[33m136\u001b[39m\u001b[33m(\u001b[39m\u001b[0m%rsp\u001b[33m)\u001b[39m\n",
      "\t\u001b[96m\u001b[1mmovq\u001b[22m\u001b[39m\t\u001b[0m%rax\u001b[0m, \u001b[33m144\u001b[39m\u001b[33m(\u001b[39m\u001b[0m%rsp\u001b[33m)\u001b[39m\n",
      "\t\u001b[96m\u001b[1mmovabsq\u001b[22m\u001b[39m\t\u001b[93m$\"\\\"\u001b[39m\u001b[0m, \u001b[0m%rax\n",
      "\t\u001b[96m\u001b[1mleaq\u001b[22m\u001b[39m\t\u001b[33m136\u001b[39m\u001b[33m(\u001b[39m\u001b[0m%rsp\u001b[33m)\u001b[39m\u001b[0m, \u001b[0m%rdx\n",
      "\t\u001b[96m\u001b[1mmovl\u001b[22m\u001b[39m\t\u001b[33m$281874256\u001b[39m\u001b[0m, \u001b[0m%ecx                \u001b[90m# imm = 0x10CD0F50\u001b[39m\n",
      "\t\u001b[96m\u001b[1mmovl\u001b[22m\u001b[39m\t\u001b[33m$2\u001b[39m\u001b[0m, \u001b[0m%r8d\n",
      "\t\u001b[96m\u001b[1mcallq\u001b[22m\u001b[39m\t\u001b[0m*\u001b[0m%rax\n",
      "\t\u001b[96m\u001b[1mmovq\u001b[22m\u001b[39m\t\u001b[33m72\u001b[39m\u001b[33m(\u001b[39m\u001b[0m%rsp\u001b[33m)\u001b[39m\u001b[0m, \u001b[0m%rcx\n",
      "\t\u001b[96m\u001b[1mmovq\u001b[22m\u001b[39m\t\u001b[0m%rcx\u001b[0m, \u001b[33m(\u001b[39m\u001b[0m%rsi\u001b[33m)\u001b[39m\n",
      "\t\u001b[96m\u001b[1mleaq\u001b[22m\u001b[39m\t\u001b[33m-24\u001b[39m\u001b[33m(\u001b[39m\u001b[0m%rbp\u001b[33m)\u001b[39m\u001b[0m, \u001b[0m%rsp\n",
      "\t\u001b[96m\u001b[1mpopq\u001b[22m\u001b[39m\t\u001b[0m%rbx\n",
      "\t\u001b[96m\u001b[1mpopq\u001b[22m\u001b[39m\t\u001b[0m%rdi\n",
      "\t\u001b[96m\u001b[1mpopq\u001b[22m\u001b[39m\t\u001b[0m%rsi\n",
      "\t\u001b[96m\u001b[1mpopq\u001b[22m\u001b[39m\t\u001b[0m%rbp\n",
      "\t\u001b[96m\u001b[1mretq\u001b[22m\u001b[39m\n",
      "\t\u001b[96m\u001b[1mnopw\u001b[22m\u001b[39m\t\u001b[0m%cs\u001b[0m:\u001b[33m(\u001b[39m\u001b[0m%rax\u001b[0m,\u001b[0m%rax\u001b[33m)\u001b[39m\n",
      "\u001b[90m; └\u001b[39m\n"
     ]
    }
   ],
   "source": [
    "#Getting machine code instructions\n",
    "@code_native first_func(1)"
   ]
  },
  {
   "cell_type": "markdown",
   "metadata": {},
   "source": [
    "### Scalability"
   ]
  },
  {
   "cell_type": "code",
   "execution_count": 56,
   "metadata": {},
   "outputs": [],
   "source": [
    "#] add BenchmarkTools"
   ]
  },
  {
   "cell_type": "code",
   "execution_count": 4,
   "metadata": {
    "scrolled": true
   },
   "outputs": [],
   "source": [
    "using BenchmarkTools;"
   ]
  },
  {
   "cell_type": "markdown",
   "metadata": {},
   "source": [
    "Single instruction, multiple data (SIMD) is a class of parallel computing. It describes processors with multiple processing elements that perform the same operation on multiple data points simultaneously.\n",
    "[Wiki](https://en.wikipedia.org/wiki/SIMD)\n",
    "\n",
    "<img src=\"https://upload.wikimedia.org/wikipedia/commons/thumb/c/ce/SIMD2.svg/1200px-SIMD2.svg.png\" alt=\"SIMD\" width=\"200px\">"
   ]
  },
  {
   "cell_type": "code",
   "execution_count": 5,
   "metadata": {},
   "outputs": [
    {
     "output_type": "execute_result",
     "data": {
      "text/plain": [
       "dot2 (generic function with 1 method)"
      ]
     },
     "metadata": {},
     "execution_count": 5
    }
   ],
   "source": [
    "#Scalability\n",
    "function dot1(x, y)\n",
    "    s = 0.0\n",
    "    for i in 1:length(x)\n",
    "        @inbounds s += x[i]*y[i]\n",
    "    end\n",
    "    s\n",
    "end\n",
    "\n",
    "#Just adding one macro @simd\n",
    "function dot2(x, y)\n",
    "    s = 0.0\n",
    "    @simd for i in 1:length(x)\n",
    "        @inbounds s += x[i]*y[i]\n",
    "    end\n",
    "    s\n",
    "end"
   ]
  },
  {
   "cell_type": "code",
   "execution_count": 6,
   "metadata": {
    "scrolled": true
   },
   "outputs": [
    {
     "output_type": "stream",
     "name": "stdout",
     "text": [
      "  32.200 μs (4 allocations: 156.41 KiB)\n"
     ]
    },
    {
     "output_type": "execute_result",
     "data": {
      "text/plain": [
       "10000.0"
      ]
     },
     "metadata": {},
     "execution_count": 6
    }
   ],
   "source": [
    "@btime dot1(ones(10000),ones(10000))"
   ]
  },
  {
   "cell_type": "code",
   "execution_count": 7,
   "metadata": {
    "scrolled": true
   },
   "outputs": [
    {
     "output_type": "stream",
     "name": "stdout",
     "text": [
      "  25.300 μs (4 allocations: 156.41 KiB)\n"
     ]
    },
    {
     "output_type": "execute_result",
     "data": {
      "text/plain": [
       "10000.0"
      ]
     },
     "metadata": {},
     "execution_count": 7
    }
   ],
   "source": [
    "@btime dot2(ones(10000),ones(10000))"
   ]
  },
  {
   "cell_type": "markdown",
   "metadata": {},
   "source": [
    "### Modern design"
   ]
  },
  {
   "cell_type": "code",
   "execution_count": 61,
   "metadata": {},
   "outputs": [],
   "source": [
    "##Multiple dispatch\n",
    "f(x::Int64) = println(\"This must be some integer\");\n",
    "f(x::Float64) = println(\"This must be a float\");"
   ]
  },
  {
   "cell_type": "code",
   "execution_count": 62,
   "metadata": {
    "scrolled": true
   },
   "outputs": [
    {
     "name": "stdout",
     "output_type": "stream",
     "text": [
      "This must be some integer\n",
      "This must be a float\n"
     ]
    }
   ],
   "source": [
    "f(3)\n",
    "f(3.14)"
   ]
  },
  {
   "cell_type": "code",
   "execution_count": 63,
   "metadata": {
    "scrolled": true
   },
   "outputs": [
    {
     "name": "stdout",
     "output_type": "stream",
     "text": [
      "π\n",
      "∞\n",
      "🐱"
     ]
    }
   ],
   "source": [
    "##Unicode support\n",
    "#\\pi + TAB\n",
    "println(π)\n",
    "#\\infty + TAB\n",
    "println(\"∞\")\n",
    "#\\:cat: + TAB\n",
    "print(\"🐱\")"
   ]
  },
  {
   "cell_type": "code",
   "execution_count": 64,
   "metadata": {},
   "outputs": [
    {
     "data": {
      "text/plain": [
       "8"
      ]
     },
     "execution_count": 64,
     "metadata": {},
     "output_type": "execute_result"
    }
   ],
   "source": [
    "🍣 = 2; 🎅 = 4\n",
    "🎅*🍣"
   ]
  },
  {
   "cell_type": "code",
   "execution_count": 65,
   "metadata": {},
   "outputs": [
    {
     "data": {
      "text/plain": [
       "true"
      ]
     },
     "execution_count": 65,
     "metadata": {},
     "output_type": "execute_result"
    }
   ],
   "source": [
    "#What was first egg or chicken?\n",
    "'🍳'< '🐔'"
   ]
  },
  {
   "cell_type": "code",
   "execution_count": 66,
   "metadata": {},
   "outputs": [
    {
     "data": {
      "text/plain": [
       "1.4396194958475907"
      ]
     },
     "execution_count": 66,
     "metadata": {},
     "output_type": "execute_result"
    }
   ],
   "source": [
    "log(exp(π^(1/π)))"
   ]
  },
  {
   "cell_type": "markdown",
   "metadata": {},
   "source": [
    "## Julia basics"
   ]
  },
  {
   "cell_type": "markdown",
   "metadata": {},
   "source": [
    "Running julia invokes an interactive (REPL)mode. In thismode some useful commands are:\n",
    "\n",
    "1. ^D (exits Julia);\n",
    "\n",
    "2. ^C (interrupts computations);\n",
    "\n",
    "3. ? (enters help mode);\n",
    "\n",
    "4. ; (enters system shell mode);\n",
    "\n",
    "5. ] (enters package managermode);\n",
    "\n",
    "6. Ctrl-l clears screen;\n",
    "\n",
    "7. putting ; after the expression will disable showing its value in REPL (not needed in scripts)."
   ]
  },
  {
   "cell_type": "code",
   "execution_count": 67,
   "metadata": {},
   "outputs": [
    {
     "name": "stdout",
     "output_type": "stream",
     "text": [
      "search: \u001b[0m\u001b[1mp\u001b[22m\u001b[0m\u001b[1mr\u001b[22m\u001b[0m\u001b[1mi\u001b[22m\u001b[0m\u001b[1mn\u001b[22m\u001b[0m\u001b[1mt\u001b[22m\u001b[0m\u001b[1ml\u001b[22m\u001b[0m\u001b[1mn\u001b[22m \u001b[0m\u001b[1mp\u001b[22m\u001b[0m\u001b[1mr\u001b[22m\u001b[0m\u001b[1mi\u001b[22m\u001b[0m\u001b[1mn\u001b[22m\u001b[0m\u001b[1mt\u001b[22msty\u001b[0m\u001b[1ml\u001b[22med \u001b[0m\u001b[1mp\u001b[22m\u001b[0m\u001b[1mr\u001b[22m\u001b[0m\u001b[1mi\u001b[22m\u001b[0m\u001b[1mn\u001b[22m\u001b[0m\u001b[1mt\u001b[22m s\u001b[0m\u001b[1mp\u001b[22m\u001b[0m\u001b[1mr\u001b[22m\u001b[0m\u001b[1mi\u001b[22m\u001b[0m\u001b[1mn\u001b[22m\u001b[0m\u001b[1mt\u001b[22m @\u001b[0m\u001b[1mp\u001b[22m\u001b[0m\u001b[1mr\u001b[22m\u001b[0m\u001b[1mi\u001b[22m\u001b[0m\u001b[1mn\u001b[22m\u001b[0m\u001b[1mt\u001b[22m is\u001b[0m\u001b[1mp\u001b[22m\u001b[0m\u001b[1mr\u001b[22m\u001b[0m\u001b[1mi\u001b[22m\u001b[0m\u001b[1mn\u001b[22m\u001b[0m\u001b[1mt\u001b[22m\n",
      "\n"
     ]
    },
    {
     "data": {
      "text/latex": [
       "\\begin{verbatim}\n",
       "println([io::IO], xs...)\n",
       "\\end{verbatim}\n",
       "Print (using \\href{@ref}{\\texttt{print}}) \\texttt{xs} followed by a newline. If \\texttt{io} is not supplied, prints to \\href{@ref}{\\texttt{stdout}}.\n",
       "\n",
       "\\section{Examples}\n",
       "\\begin{verbatim}\n",
       "julia> println(\"Hello, world\")\n",
       "Hello, world\n",
       "\n",
       "julia> io = IOBuffer();\n",
       "\n",
       "julia> println(io, \"Hello, world\")\n",
       "\n",
       "julia> String(take!(io))\n",
       "\"Hello, world\\n\"\n",
       "\\end{verbatim}\n"
      ],
      "text/markdown": [
       "```\n",
       "println([io::IO], xs...)\n",
       "```\n",
       "\n",
       "Print (using [`print`](@ref)) `xs` followed by a newline. If `io` is not supplied, prints to [`stdout`](@ref).\n",
       "\n",
       "# Examples\n",
       "\n",
       "```jldoctest\n",
       "julia> println(\"Hello, world\")\n",
       "Hello, world\n",
       "\n",
       "julia> io = IOBuffer();\n",
       "\n",
       "julia> println(io, \"Hello, world\")\n",
       "\n",
       "julia> String(take!(io))\n",
       "\"Hello, world\\n\"\n",
       "```\n"
      ],
      "text/plain": [
       "\u001b[36m  println([io::IO], xs...)\u001b[39m\n",
       "\n",
       "  Print (using \u001b[36mprint\u001b[39m) \u001b[36mxs\u001b[39m followed by a newline. If \u001b[36mio\u001b[39m is not supplied, prints\n",
       "  to \u001b[36mstdout\u001b[39m.\n",
       "\n",
       "\u001b[1m  Examples\u001b[22m\n",
       "\u001b[1m  ≡≡≡≡≡≡≡≡≡≡\u001b[22m\n",
       "\n",
       "\u001b[36m  julia> println(\"Hello, world\")\u001b[39m\n",
       "\u001b[36m  Hello, world\u001b[39m\n",
       "\u001b[36m  \u001b[39m\n",
       "\u001b[36m  julia> io = IOBuffer();\u001b[39m\n",
       "\u001b[36m  \u001b[39m\n",
       "\u001b[36m  julia> println(io, \"Hello, world\")\u001b[39m\n",
       "\u001b[36m  \u001b[39m\n",
       "\u001b[36m  julia> String(take!(io))\u001b[39m\n",
       "\u001b[36m  \"Hello, world\\n\"\u001b[39m"
      ]
     },
     "execution_count": 67,
     "metadata": {},
     "output_type": "execute_result"
    }
   ],
   "source": [
    "?println #no such function, but there are other similar"
   ]
  },
  {
   "cell_type": "code",
   "execution_count": 68,
   "metadata": {
    "scrolled": true
   },
   "outputs": [
    {
     "name": "stdout",
     "output_type": "stream",
     "text": [
      "search: \u001b[0m\u001b[1ml\u001b[22m\u001b[0m\u001b[1me\u001b[22m\u001b[0m\u001b[1mn\u001b[22m\u001b[0m\u001b[1mg\u001b[22m\u001b[0m\u001b[1mt\u001b[22m\u001b[0m\u001b[1mh\u001b[22m\n",
      "\n"
     ]
    },
    {
     "data": {
      "text/latex": [
       "\\begin{verbatim}\n",
       "length(collection) -> Integer\n",
       "\\end{verbatim}\n",
       "Return the number of elements in the collection.\n",
       "\n",
       "Use \\href{@ref}{\\texttt{lastindex}} to get the last valid index of an indexable collection.\n",
       "\n",
       "\\section{Examples}\n",
       "\\begin{verbatim}\n",
       "julia> length(1:5)\n",
       "5\n",
       "\n",
       "julia> length([1, 2, 3, 4])\n",
       "4\n",
       "\n",
       "julia> length([1 2; 3 4])\n",
       "4\n",
       "\\end{verbatim}\n",
       "\\rule{\\textwidth}{1pt}\n",
       "\\begin{verbatim}\n",
       "length(A::AbstractArray)\n",
       "\\end{verbatim}\n",
       "Return the number of elements in the array, defaults to \\texttt{prod(size(A))}.\n",
       "\n",
       "\\section{Examples}\n",
       "\\begin{verbatim}\n",
       "julia> length([1, 2, 3, 4])\n",
       "4\n",
       "\n",
       "julia> length([1 2; 3 4])\n",
       "4\n",
       "\\end{verbatim}\n",
       "\\rule{\\textwidth}{1pt}\n",
       "\\begin{verbatim}\n",
       "length(s::AbstractString) -> Int\n",
       "length(s::AbstractString, i::Integer, j::Integer) -> Int\n",
       "\\end{verbatim}\n",
       "Return the number of characters in string \\texttt{s} from indices \\texttt{i} through \\texttt{j}.\n",
       "\n",
       "This is computed as the number of code unit indices from \\texttt{i} to \\texttt{j} which are valid character indices. With only a single string argument, this computes the number of characters in the entire string. With \\texttt{i} and \\texttt{j} arguments it computes the number of indices between \\texttt{i} and \\texttt{j} inclusive that are valid indices in the string \\texttt{s}. In addition to in-bounds values, \\texttt{i} may take the out-of-bounds value \\texttt{ncodeunits(s) + 1} and \\texttt{j} may take the out-of-bounds value \\texttt{0}.\n",
       "\n",
       "\\begin{quote}\n",
       "\\textbf{note}\n",
       "\n",
       "Note\n",
       "\n",
       "The time complexity of this operation is linear in general. That is, it will take the time proportional to the number of bytes or characters in the string because it counts the value on the fly. This is in contrast to the method for arrays, which is a constant-time operation.\n",
       "\n",
       "\\end{quote}\n",
       "See also: \\href{@ref}{\\texttt{isvalid}}, \\href{@ref}{\\texttt{ncodeunits}}, \\href{@ref}{\\texttt{lastindex}}, \\href{@ref}{\\texttt{thisind}}, \\href{@ref}{\\texttt{nextind}}, \\href{@ref}{\\texttt{prevind}}\n",
       "\n",
       "\\section{Examples}\n",
       "\\begin{verbatim}\n",
       "julia> length(\"jμΛIα\")\n",
       "5\n",
       "\\end{verbatim}\n"
      ],
      "text/markdown": [
       "```\n",
       "length(collection) -> Integer\n",
       "```\n",
       "\n",
       "Return the number of elements in the collection.\n",
       "\n",
       "Use [`lastindex`](@ref) to get the last valid index of an indexable collection.\n",
       "\n",
       "# Examples\n",
       "\n",
       "```jldoctest\n",
       "julia> length(1:5)\n",
       "5\n",
       "\n",
       "julia> length([1, 2, 3, 4])\n",
       "4\n",
       "\n",
       "julia> length([1 2; 3 4])\n",
       "4\n",
       "```\n",
       "\n",
       "---\n",
       "\n",
       "```\n",
       "length(A::AbstractArray)\n",
       "```\n",
       "\n",
       "Return the number of elements in the array, defaults to `prod(size(A))`.\n",
       "\n",
       "# Examples\n",
       "\n",
       "```jldoctest\n",
       "julia> length([1, 2, 3, 4])\n",
       "4\n",
       "\n",
       "julia> length([1 2; 3 4])\n",
       "4\n",
       "```\n",
       "\n",
       "---\n",
       "\n",
       "```\n",
       "length(s::AbstractString) -> Int\n",
       "length(s::AbstractString, i::Integer, j::Integer) -> Int\n",
       "```\n",
       "\n",
       "Return the number of characters in string `s` from indices `i` through `j`.\n",
       "\n",
       "This is computed as the number of code unit indices from `i` to `j` which are valid character indices. With only a single string argument, this computes the number of characters in the entire string. With `i` and `j` arguments it computes the number of indices between `i` and `j` inclusive that are valid indices in the string `s`. In addition to in-bounds values, `i` may take the out-of-bounds value `ncodeunits(s) + 1` and `j` may take the out-of-bounds value `0`.\n",
       "\n",
       "!!! note\n",
       "    The time complexity of this operation is linear in general. That is, it will take the time proportional to the number of bytes or characters in the string because it counts the value on the fly. This is in contrast to the method for arrays, which is a constant-time operation.\n",
       "\n",
       "\n",
       "See also: [`isvalid`](@ref), [`ncodeunits`](@ref), [`lastindex`](@ref), [`thisind`](@ref), [`nextind`](@ref), [`prevind`](@ref)\n",
       "\n",
       "# Examples\n",
       "\n",
       "```jldoctest\n",
       "julia> length(\"jμΛIα\")\n",
       "5\n",
       "```\n"
      ],
      "text/plain": [
       "\u001b[36m  length(collection) -> Integer\u001b[39m\n",
       "\n",
       "  Return the number of elements in the collection.\n",
       "\n",
       "  Use \u001b[36mlastindex\u001b[39m to get the last valid index of an indexable collection.\n",
       "\n",
       "\u001b[1m  Examples\u001b[22m\n",
       "\u001b[1m  ≡≡≡≡≡≡≡≡≡≡\u001b[22m\n",
       "\n",
       "\u001b[36m  julia> length(1:5)\u001b[39m\n",
       "\u001b[36m  5\u001b[39m\n",
       "\u001b[36m  \u001b[39m\n",
       "\u001b[36m  julia> length([1, 2, 3, 4])\u001b[39m\n",
       "\u001b[36m  4\u001b[39m\n",
       "\u001b[36m  \u001b[39m\n",
       "\u001b[36m  julia> length([1 2; 3 4])\u001b[39m\n",
       "\u001b[36m  4\u001b[39m\n",
       "\n",
       "  ────────────────────────────────────────────────────────────────────────────\n",
       "\n",
       "\u001b[36m  length(A::AbstractArray)\u001b[39m\n",
       "\n",
       "  Return the number of elements in the array, defaults to \u001b[36mprod(size(A))\u001b[39m.\n",
       "\n",
       "\u001b[1m  Examples\u001b[22m\n",
       "\u001b[1m  ≡≡≡≡≡≡≡≡≡≡\u001b[22m\n",
       "\n",
       "\u001b[36m  julia> length([1, 2, 3, 4])\u001b[39m\n",
       "\u001b[36m  4\u001b[39m\n",
       "\u001b[36m  \u001b[39m\n",
       "\u001b[36m  julia> length([1 2; 3 4])\u001b[39m\n",
       "\u001b[36m  4\u001b[39m\n",
       "\n",
       "  ────────────────────────────────────────────────────────────────────────────\n",
       "\n",
       "\u001b[36m  length(s::AbstractString) -> Int\u001b[39m\n",
       "\u001b[36m  length(s::AbstractString, i::Integer, j::Integer) -> Int\u001b[39m\n",
       "\n",
       "  Return the number of characters in string \u001b[36ms\u001b[39m from indices \u001b[36mi\u001b[39m through \u001b[36mj\u001b[39m.\n",
       "\n",
       "  This is computed as the number of code unit indices from \u001b[36mi\u001b[39m to \u001b[36mj\u001b[39m which are\n",
       "  valid character indices. With only a single string argument, this computes\n",
       "  the number of characters in the entire string. With \u001b[36mi\u001b[39m and \u001b[36mj\u001b[39m arguments it\n",
       "  computes the number of indices between \u001b[36mi\u001b[39m and \u001b[36mj\u001b[39m inclusive that are valid\n",
       "  indices in the string \u001b[36ms\u001b[39m. In addition to in-bounds values, \u001b[36mi\u001b[39m may take the\n",
       "  out-of-bounds value \u001b[36mncodeunits(s) + 1\u001b[39m and \u001b[36mj\u001b[39m may take the out-of-bounds value\n",
       "  \u001b[36m0\u001b[39m.\n",
       "\n",
       "\u001b[36m\u001b[1m  │ \u001b[22m\u001b[39m\u001b[36m\u001b[1mNote\u001b[22m\u001b[39m\n",
       "\u001b[36m\u001b[1m  │\u001b[22m\u001b[39m\n",
       "\u001b[36m\u001b[1m  │\u001b[22m\u001b[39m  The time complexity of this operation is linear in general. That\n",
       "\u001b[36m\u001b[1m  │\u001b[22m\u001b[39m  is, it will take the time proportional to the number of bytes or\n",
       "\u001b[36m\u001b[1m  │\u001b[22m\u001b[39m  characters in the string because it counts the value on the fly.\n",
       "\u001b[36m\u001b[1m  │\u001b[22m\u001b[39m  This is in contrast to the method for arrays, which is a\n",
       "\u001b[36m\u001b[1m  │\u001b[22m\u001b[39m  constant-time operation.\n",
       "\n",
       "  See also: \u001b[36misvalid\u001b[39m, \u001b[36mncodeunits\u001b[39m, \u001b[36mlastindex\u001b[39m, \u001b[36mthisind\u001b[39m, \u001b[36mnextind\u001b[39m, \u001b[36mprevind\u001b[39m\n",
       "\n",
       "\u001b[1m  Examples\u001b[22m\n",
       "\u001b[1m  ≡≡≡≡≡≡≡≡≡≡\u001b[22m\n",
       "\n",
       "\u001b[36m  julia> length(\"jμΛIα\")\u001b[39m\n",
       "\u001b[36m  5\u001b[39m"
      ]
     },
     "execution_count": 68,
     "metadata": {},
     "output_type": "execute_result"
    }
   ],
   "source": [
    "?length"
   ]
  },
  {
   "cell_type": "markdown",
   "metadata": {},
   "source": [
    "**working in shell**"
   ]
  },
  {
   "cell_type": "code",
   "execution_count": 69,
   "metadata": {
    "scrolled": true
   },
   "outputs": [
    {
     "name": "stdout",
     "output_type": "stream",
     "text": [
      "C:\\Users\\Vlad\n"
     ]
    }
   ],
   "source": [
    ";cd"
   ]
  },
  {
   "cell_type": "markdown",
   "metadata": {},
   "source": [
    "**Working with package manager**"
   ]
  },
  {
   "cell_type": "code",
   "execution_count": 70,
   "metadata": {
    "scrolled": true
   },
   "outputs": [
    {
     "name": "stdout",
     "output_type": "stream",
     "text": [
      "\u001b[32m\u001b[1m      Status\u001b[22m\u001b[39m `C:\\Users\\Vlad\\.julia\\environments\\v1.6\\Project.toml`\n",
      " \u001b[90m [46ada45e] \u001b[39m\u001b[37mAgents v4.1.4\u001b[39m\n",
      " \u001b[90m [aae01518] \u001b[39m\u001b[37mBandedMatrices v0.16.7\u001b[39m\n",
      " \u001b[90m [6e4b80f9] \u001b[39m\u001b[37mBenchmarkTools v0.5.0\u001b[39m\n",
      " \u001b[90m [336ed68f] \u001b[39m\u001b[37mCSV v0.8.4\u001b[39m\n",
      " \u001b[90m [9961bab8] \u001b[39m\u001b[37mCbc v0.7.1\u001b[39m\n",
      " \u001b[90m [8f4d0f93] \u001b[39m\u001b[37mConda v1.5.1\u001b[39m\n",
      " \u001b[90m [a93c6f00] \u001b[39m\u001b[37mDataFrames v0.21.8\u001b[39m\n",
      " \u001b[90m [864edb3b] \u001b[39m\u001b[37mDataStructures v0.18.9\u001b[39m\n",
      " \u001b[90m [31c24e10] \u001b[39m\u001b[37mDistributions v0.24.15\u001b[39m\n",
      " \u001b[90m [f6369f11] \u001b[39m\u001b[37mForwardDiff v0.10.16\u001b[39m\n",
      " \u001b[90m [6e85b7ee] \u001b[39m\u001b[37mFredData v0.4.0\u001b[39m\n",
      " \u001b[90m [da1fdf0e] \u001b[39m\u001b[37mFreqTables v0.4.2\u001b[39m\n",
      " \u001b[90m [38e38edf] \u001b[39m\u001b[37mGLM v1.4.0\u001b[39m\n",
      " \u001b[90m [60bf3e95] \u001b[39m\u001b[37mGLPK v0.14.7\u001b[39m\n",
      " \u001b[90m [28b8d3ca] \u001b[39m\u001b[37mGR v0.55.0\u001b[39m\n",
      " \u001b[90m [a2cc645c] \u001b[39m\u001b[37mGraphPlot v0.4.4\u001b[39m\n",
      " \u001b[90m [7073ff75] \u001b[39m\u001b[37mIJulia v1.23.2\u001b[39m\n",
      " \u001b[90m [b6b21f68] \u001b[39m\u001b[37mIpopt v0.6.5\u001b[39m\n",
      " \u001b[90m [4076af6c] \u001b[39m\u001b[37mJuMP v0.21.6\u001b[39m\n",
      " \u001b[90m [e5e0dc1b] \u001b[39m\u001b[37mJuno v0.8.4\u001b[39m\n",
      " \u001b[90m [093fc24a] \u001b[39m\u001b[37mLightGraphs v1.3.5\u001b[39m\n",
      " \u001b[90m [86cd37e6] \u001b[39m\u001b[37mOpenStreetMapX v0.2.3\u001b[39m\n",
      " \u001b[90m [429524aa] \u001b[39m\u001b[37mOptim v1.2.4\u001b[39m\n",
      " \u001b[90m [3b7a836e] \u001b[39m\u001b[37mPGFPlots v3.3.6\u001b[39m\n",
      " \u001b[90m [d96e819e] \u001b[39m\u001b[37mParameters v0.12.2\u001b[39m\n",
      " \u001b[90m [91a5bcdd] \u001b[39m\u001b[37mPlots v1.10.6\u001b[39m\n",
      " \u001b[90m [438e738f] \u001b[39m\u001b[37mPyCall v1.92.2\u001b[39m\n",
      " \u001b[90m [d330b81b] \u001b[39m\u001b[37mPyPlot v2.9.0\u001b[39m\n",
      " \u001b[90m [3646fa90] \u001b[39m\u001b[37mScikitLearn v0.6.3\u001b[39m\n",
      " \u001b[90m [aa4a32ff] \u001b[39m\u001b[37mSimpleHypergraphs v0.1.14\u001b[39m\n",
      " \u001b[90m [2913bbd2] \u001b[39m\u001b[37mStatsBase v0.33.3\u001b[39m\n",
      " \u001b[90m [fdbf4ff8] \u001b[39m\u001b[37mXLSX v0.7.6\u001b[39m\n",
      " \u001b[90m [b77e0a4c] \u001b[39m\u001b[37mInteractiveUtils\u001b[39m\n",
      " \u001b[90m [56ddb016] \u001b[39m\u001b[37mLogging\u001b[39m\n",
      " \u001b[90m [2f01184e] \u001b[39m\u001b[37mSparseArrays\u001b[39m\n"
     ]
    }
   ],
   "source": [
    "] status"
   ]
  },
  {
   "cell_type": "markdown",
   "metadata": {},
   "source": [
    "### Types"
   ]
  },
  {
   "cell_type": "code",
   "execution_count": 71,
   "metadata": {
    "scrolled": true
   },
   "outputs": [
    {
     "data": {
      "text/plain": [
       "\"s\""
      ]
     },
     "execution_count": 71,
     "metadata": {},
     "output_type": "execute_result"
    }
   ],
   "source": [
    "1::Int # 64 bit integer on 64 bit Julia\n",
    "1.0::Float64 # 64 bit float, defines NaN, -Inf, Inf\n",
    "true::Bool # boolean, allows \"true\" and \"false\"\n",
    "'c'::Char # character, allows Unicode\n",
    "\"s\"::AbstractString # strings, allows Unicode, consists of characters"
   ]
  },
  {
   "cell_type": "code",
   "execution_count": 72,
   "metadata": {
    "scrolled": true
   },
   "outputs": [
    {
     "data": {
      "text/plain": [
       "'🍣': Unicode U+1F363 (category So: Symbol, other)"
      ]
     },
     "execution_count": 72,
     "metadata": {},
     "output_type": "execute_result"
    }
   ],
   "source": [
    "Char('🍣') #sushi is also a character"
   ]
  },
  {
   "cell_type": "code",
   "execution_count": 73,
   "metadata": {
    "scrolled": true
   },
   "outputs": [
    {
     "ename": "LoadError",
     "evalue": "MethodError: no method matching Char(::String)\n\u001b[0mClosest candidates are:\n\u001b[0m  (::Type{T})(\u001b[91m::T\u001b[39m) where T<:AbstractChar at char.jl:51\n\u001b[0m  (::Type{T})(\u001b[91m::AbstractChar\u001b[39m) where T<:Union{AbstractChar, Number} at char.jl:50\n\u001b[0m  Char(\u001b[91m::UInt32\u001b[39m) at char.jl:158\n\u001b[0m  ...",
     "output_type": "error",
     "traceback": [
      "MethodError: no method matching Char(::String)\n\u001b[0mClosest candidates are:\n\u001b[0m  (::Type{T})(\u001b[91m::T\u001b[39m) where T<:AbstractChar at char.jl:51\n\u001b[0m  (::Type{T})(\u001b[91m::AbstractChar\u001b[39m) where T<:Union{AbstractChar, Number} at char.jl:50\n\u001b[0m  Char(\u001b[91m::UInt32\u001b[39m) at char.jl:158\n\u001b[0m  ...",
      "",
      "Stacktrace:",
      " [1] top-level scope",
      "   @ In[73]:1",
      " [2] eval",
      "   @ .\\boot.jl:360 [inlined]",
      " [3] include_string(mapexpr::typeof(REPL.softscope), mod::Module, code::String, filename::String)",
      "   @ Base .\\loading.jl:1090"
     ]
    }
   ],
   "source": [
    "Char(\"🍣\") #string can't be converted to character"
   ]
  },
  {
   "cell_type": "code",
   "execution_count": 74,
   "metadata": {},
   "outputs": [
    {
     "data": {
      "text/plain": [
       "'🍣': Unicode U+1F363 (category So: Symbol, other)"
      ]
     },
     "execution_count": 74,
     "metadata": {},
     "output_type": "execute_result"
    }
   ],
   "source": [
    "Char(\"🍣\"[1])"
   ]
  },
  {
   "cell_type": "code",
   "execution_count": 75,
   "metadata": {},
   "outputs": [
    {
     "name": "stdout",
     "output_type": "stream",
     "text": [
      "127859\n",
      "128020\n",
      "🍳\n"
     ]
    }
   ],
   "source": [
    "println(Int('🍳'))\n",
    "println(Int('🐔'))\n",
    "println(Char(127859))"
   ]
  },
  {
   "cell_type": "markdown",
   "metadata": {},
   "source": [
    "More on strings and characters in Julia:\n",
    "https://docs.julialang.org/en/v1/manual/strings/"
   ]
  },
  {
   "cell_type": "markdown",
   "metadata": {},
   "source": [
    "**More on conversion**"
   ]
  },
  {
   "cell_type": "code",
   "execution_count": 76,
   "metadata": {},
   "outputs": [
    {
     "data": {
      "text/plain": [
       "97"
      ]
     },
     "execution_count": 76,
     "metadata": {},
     "output_type": "execute_result"
    }
   ],
   "source": [
    "Int64('a') # character to integer"
   ]
  },
  {
   "cell_type": "code",
   "execution_count": 77,
   "metadata": {},
   "outputs": [
    {
     "ename": "LoadError",
     "evalue": "InexactError: Int64(1.3)",
     "output_type": "error",
     "traceback": [
      "InexactError: Int64(1.3)",
      "",
      "Stacktrace:",
      " [1] Int64(x::Float64)",
      "   @ Base .\\float.jl:723",
      " [2] top-level scope",
      "   @ In[77]:1",
      " [3] eval",
      "   @ .\\boot.jl:360 [inlined]",
      " [4] include_string(mapexpr::typeof(REPL.softscope), mod::Module, code::String, filename::String)",
      "   @ Base .\\loading.jl:1090"
     ]
    }
   ],
   "source": [
    "Int64(1.3) # inexact error"
   ]
  },
  {
   "cell_type": "code",
   "execution_count": 78,
   "metadata": {},
   "outputs": [
    {
     "name": "stdout",
     "output_type": "stream",
     "text": [
      "true\n",
      "1true\n"
     ]
    }
   ],
   "source": [
    "println(string(true))\n",
    "# string can take more than one argument and concatenate them\n",
    "println(string(1,true))"
   ]
  },
  {
   "cell_type": "code",
   "execution_count": 79,
   "metadata": {},
   "outputs": [
    {
     "data": {
      "text/plain": [
       "1"
      ]
     },
     "execution_count": 79,
     "metadata": {},
     "output_type": "execute_result"
    }
   ],
   "source": [
    "#General conversion can be done using convert(Type, x)\n",
    "convert(Int64, 1.0)"
   ]
  },
  {
   "cell_type": "code",
   "execution_count": 80,
   "metadata": {
    "scrolled": true
   },
   "outputs": [
    {
     "data": {
      "text/plain": [
       "4-element Vector{Any}:\n",
       " AbstractFloat\n",
       " AbstractIrrational\n",
       " Integer\n",
       " Rational"
      ]
     },
     "execution_count": 80,
     "metadata": {},
     "output_type": "execute_result"
    }
   ],
   "source": [
    "subtypes(Real)"
   ]
  },
  {
   "cell_type": "markdown",
   "metadata": {},
   "source": [
    "**Numeric types in Julia**\n",
    "\n",
    "<img src=\"https://upload.wikimedia.org/wikipedia/commons/d/d9/Julia-number-type-hierarchy.svg\" alt=\"Numeric types\" width=\"1000px\"> "
   ]
  },
  {
   "cell_type": "code",
   "execution_count": 81,
   "metadata": {},
   "outputs": [
    {
     "data": {
      "text/plain": [
       "@print (macro with 1 method)"
      ]
     },
     "execution_count": 81,
     "metadata": {},
     "output_type": "execute_result"
    }
   ],
   "source": [
    "#Macro to print results nicely\n",
    "macro print(func)\n",
    "    println(func,\" : \",eval(func))\n",
    "end"
   ]
  },
  {
   "cell_type": "code",
   "execution_count": 82,
   "metadata": {},
   "outputs": [
    {
     "name": "stdout",
     "output_type": "stream",
     "text": [
      "1 isa Float64 : false\n",
      "1.0 isa Float64 : true\n",
      "1.0 isa Number : true\n",
      "supertype(Int64) : Signed\n",
      "subtypes(Real) : Any[AbstractFloat, AbstractIrrational, Integer, Rational]\n"
     ]
    }
   ],
   "source": [
    "@print isa(1, Float64) # false, integer is not a float\n",
    "@print isa(1.0, Float64) # true\n",
    "@print 1.0 isa Number # an alternative syntax; true, Number is abstract type\n",
    "@print supertype(Int64) # supertype of Int64\n",
    "@print subtypes(Real) # subtypes of abstract type Real"
   ]
  },
  {
   "cell_type": "code",
   "execution_count": 83,
   "metadata": {},
   "outputs": [
    {
     "name": "stdout",
     "output_type": "stream",
     "text": [
      "1 + 1im : 1 + 1im\n",
      "123 // 456 : 41//152\n"
     ]
    }
   ],
   "source": [
    "@print 1 + 1im # a complex number\n",
    "@print 123//456 # rational numbers are created using // operator"
   ]
  },
  {
   "cell_type": "markdown",
   "metadata": {},
   "source": [
    "**Special types**"
   ]
  },
  {
   "cell_type": "code",
   "execution_count": 84,
   "metadata": {},
   "outputs": [
    {
     "name": "stdout",
     "output_type": "stream",
     "text": [
      "Any : Any\n",
      "Union{} : Union{}\n",
      "Nothing : Nothing\n",
      "nothing\n",
      "Missing : Missing\n",
      "missing : missing\n"
     ]
    }
   ],
   "source": [
    "@print Any # all objects are of this type\n",
    "@print Union{} # subtype of all types, no object can have this type\n",
    "@print Nothing # type indicating nothing (absence of a value), a subtype of Any\n",
    "show(nothing) # only instance of Nothing\n",
    "println()\n",
    "@print Missing # type indicating missing value (a value exists but is unknown), a subtype of Any\n",
    "@print missing # only instance of Missing"
   ]
  },
  {
   "cell_type": "code",
   "execution_count": 85,
   "metadata": {
    "scrolled": true
   },
   "outputs": [
    {
     "data": {
      "text/plain": [
       "true"
      ]
     },
     "execution_count": 85,
     "metadata": {},
     "output_type": "execute_result"
    }
   ],
   "source": [
    "isa('🍍',Any)"
   ]
  },
  {
   "cell_type": "code",
   "execution_count": 86,
   "metadata": {
    "scrolled": true
   },
   "outputs": [
    {
     "data": {
      "text/plain": [
       "3-element BitVector:\n",
       " 1\n",
       " 1\n",
       " 0"
      ]
     },
     "execution_count": 86,
     "metadata": {},
     "output_type": "execute_result"
    }
   ],
   "source": [
    "isa.([4,3.14,\"ala\"],Union{Int,Float64}) #. (dot) is a broadcast operator explained later"
   ]
  },
  {
   "cell_type": "markdown",
   "metadata": {},
   "source": [
    "**Tuples and named tuples**"
   ]
  },
  {
   "cell_type": "code",
   "execution_count": 87,
   "metadata": {},
   "outputs": [
    {
     "name": "stdout",
     "output_type": "stream",
     "text": [
      "() Tuple{}"
     ]
    }
   ],
   "source": [
    "print((),\" \",typeof(())) # empty tuple"
   ]
  },
  {
   "cell_type": "code",
   "execution_count": 88,
   "metadata": {
    "scrolled": true
   },
   "outputs": [
    {
     "name": "stdout",
     "output_type": "stream",
     "text": [
      "(1,)\n",
      "(\"ZMS\", 3)\n",
      "1"
     ]
    },
    {
     "ename": "LoadError",
     "evalue": "MethodError: no method matching setindex!(::Tuple{Int64, Int64, Int64}, ::Int64, ::Int64)",
     "output_type": "error",
     "traceback": [
      "MethodError: no method matching setindex!(::Tuple{Int64, Int64, Int64}, ::Int64, ::Int64)",
      "",
      "Stacktrace:",
      " [1] top-level scope",
      "   @ In[88]:5",
      " [2] eval",
      "   @ .\\boot.jl:360 [inlined]",
      " [3] include_string(mapexpr::typeof(REPL.softscope), mod::Module, code::String, filename::String)",
      "   @ Base .\\loading.jl:1090"
     ]
    }
   ],
   "source": [
    "println((1,)) #one element tuple\n",
    "println((\"ZMS\",3))\n",
    "x = (1, 2, 3)\n",
    "print(x[1])\n",
    "x[1]=1 #immutable"
   ]
  },
  {
   "cell_type": "code",
   "execution_count": 89,
   "metadata": {},
   "outputs": [
    {
     "name": "stdout",
     "output_type": "stream",
     "text": [
      "a is 1 and b is 2"
     ]
    }
   ],
   "source": [
    "#Unpacking (partial)\n",
    "a,b=x\n",
    "print(\"a is \",a,\" and b is \",b)"
   ]
  },
  {
   "cell_type": "code",
   "execution_count": 90,
   "metadata": {
    "scrolled": true
   },
   "outputs": [
    {
     "name": "stdout",
     "output_type": "stream",
     "text": [
      "(course = \"ZMS\", average_grade = 3)\n",
      "3"
     ]
    }
   ],
   "source": [
    "#Named tuple\n",
    "x2=(course=\"ZMS\",average_grade=3)\n",
    "println(x2)\n",
    "print(x2.average_grade)"
   ]
  },
  {
   "cell_type": "markdown",
   "metadata": {},
   "source": [
    "**Arrays**"
   ]
  },
  {
   "cell_type": "code",
   "execution_count": 91,
   "metadata": {
    "scrolled": true
   },
   "outputs": [
    {
     "data": {
      "text/plain": [
       "2×3 Matrix{Int64}:\n",
       " 21474836483  51539607562  4294967313\n",
       " 17179869190  47244640269       29650"
      ]
     },
     "execution_count": 91,
     "metadata": {},
     "output_type": "execute_result"
    }
   ],
   "source": [
    "#Array of Ints (undefined) - random numbers\n",
    "Array{Int}(undef, 2, 3)"
   ]
  },
  {
   "cell_type": "code",
   "execution_count": 92,
   "metadata": {
    "scrolled": true
   },
   "outputs": [
    {
     "name": "stdout",
     "output_type": "stream",
     "text": [
      "zeros(5) : [0.0, 0.0, 0.0, 0.0, 0.0]\n",
      "ones(5) : [1.0, 1.0, 1.0, 1.0, 1.0]\n",
      "ones(Int64, 2, 2) : [1 1; 1 1]\n"
     ]
    }
   ],
   "source": [
    "@print zeros(5)\n",
    "@print ones(5)\n",
    "@print ones(Int64, 2, 2)"
   ]
  },
  {
   "cell_type": "code",
   "execution_count": 93,
   "metadata": {
    "scrolled": true
   },
   "outputs": [
    {
     "data": {
      "text/plain": [
       "2×2 Matrix{Int64}:\n",
       " 1  1\n",
       " 1  1"
      ]
     },
     "execution_count": 93,
     "metadata": {},
     "output_type": "execute_result"
    }
   ],
   "source": [
    "ones(Int64, 2, 2)"
   ]
  },
  {
   "cell_type": "code",
   "execution_count": 94,
   "metadata": {
    "scrolled": true
   },
   "outputs": [
    {
     "name": "stdout",
     "output_type": "stream",
     "text": [
      "1:10 : 1:10\n",
      "collect(1:10) : [1, 2, 3, 4, 5, 6, 7, 8, 9, 10]\n"
     ]
    }
   ],
   "source": [
    "@print 1:10\n",
    "@print collect(1:10)"
   ]
  },
  {
   "cell_type": "code",
   "execution_count": 95,
   "metadata": {},
   "outputs": [
    {
     "data": {
      "text/plain": [
       "1-element Vector{Int64}:\n",
       " 1"
      ]
     },
     "execution_count": 95,
     "metadata": {},
     "output_type": "execute_result"
    }
   ],
   "source": [
    "#Vectors (1-dim arrays)\n",
    "# a vector with one element (not a scalar)\n",
    "[1]"
   ]
  },
  {
   "cell_type": "code",
   "execution_count": 96,
   "metadata": {
    "scrolled": true
   },
   "outputs": [
    {
     "data": {
      "text/plain": [
       "2×3 Matrix{Int64}:\n",
       " 1  2  3\n",
       " 2  4  6"
      ]
     },
     "execution_count": 96,
     "metadata": {},
     "output_type": "execute_result"
    }
   ],
   "source": [
    "# a comprehension generating 2x3 array - similar to Python\n",
    "[x * y for x in 1:2, y in 1:3]"
   ]
  },
  {
   "cell_type": "code",
   "execution_count": 97,
   "metadata": {
    "scrolled": true
   },
   "outputs": [
    {
     "data": {
      "text/plain": [
       "1×2 Matrix{Int64}:\n",
       " 1  2"
      ]
     },
     "execution_count": 97,
     "metadata": {},
     "output_type": "execute_result"
    }
   ],
   "source": [
    "#This is 1x2 matrix\n",
    "[1 2]"
   ]
  },
  {
   "cell_type": "code",
   "execution_count": 98,
   "metadata": {
    "scrolled": true
   },
   "outputs": [
    {
     "data": {
      "text/plain": [
       "2-element Vector{Int64}:\n",
       " 1\n",
       " 2"
      ]
     },
     "execution_count": 98,
     "metadata": {},
     "output_type": "execute_result"
    }
   ],
   "source": [
    "#This is 2-element vector\n",
    "[1, 2] #[1;2]"
   ]
  },
  {
   "cell_type": "code",
   "execution_count": 99,
   "metadata": {
    "scrolled": true
   },
   "outputs": [
    {
     "name": "stdout",
     "output_type": "stream",
     "text": [
      "ndims(a) : 3\n",
      "eltype(a) : Int64\n",
      "length(a) : 24\n",
      "size(a) : (2, 4, 3)\n",
      "vec(a) : [1, 2, 2, 4, 3, 6, 4, 8, 1, 2, 2, 4, 3, 6, 4, 8, 1, 2, 2, 4, 3, 6, 4, 8]\n"
     ]
    }
   ],
   "source": [
    "#Arrays utility functions\n",
    "a = [x * y for x in 1:2, y in 1:4, z in 1:3];\n",
    "@print ndims(a) # number of dimensions in a\n",
    "@print eltype(a) # type of elements in a\n",
    "@print length(a) # number of elements in a\n",
    "@print size(a) # a tuple containing dimension sizes of a\n",
    "@print vec(a) # cast an array to vector (single dimension)"
   ]
  },
  {
   "cell_type": "code",
   "execution_count": 100,
   "metadata": {
    "scrolled": true
   },
   "outputs": [
    {
     "name": "stdout",
     "output_type": "stream",
     "text": [
      "a[1] : 0.0\n",
      "a[end] : 1.0\n",
      "a[1:2:end] : 0.0:0.02:1.0\n",
      "a[[1, 3, 6]] : [0.0, 0.02, 0.05]\n",
      "lastindex(a) : 101\n"
     ]
    }
   ],
   "source": [
    "a = 0:0.01:1 # range with step 0.01\n",
    "@print a[1] # get scalar 0.0\n",
    "@print a[end] # get scalar 1.0 (last position)\n",
    "@print a[1:2:end] # every second element from range - collect() to get vector\n",
    "@print a[[1, 3, 6]] # 1st, 3rd and 6th element of a, Array{Float64,1}\n",
    "@print lastindex(a) # last index of the collection a; similarly firstindex"
   ]
  },
  {
   "cell_type": "code",
   "execution_count": 101,
   "metadata": {
    "scrolled": true
   },
   "outputs": [
    {
     "name": "stdout",
     "output_type": "stream",
     "text": [
      "x : Any[[1.0, 1.0], Bool[1, 1, 1]]\n",
      "a : Any[\"Big\", Bool[0, 1, 1]]\n",
      "b : Any[[1.0, 1.0], Bool[0, 1, 1]]\n",
      "c : Any[[1.0, 1.0], Bool[1, 1, 1]]\n"
     ]
    }
   ],
   "source": [
    "#Passing by reference and copies\n",
    "x = Array{Any}(undef, 2)\n",
    "x[1] = ones(2)\n",
    "x[2] = trues(3)\n",
    "@print x\n",
    "a = x\n",
    "b = copy(x) # shallow copy\n",
    "c = deepcopy(x) # deep copy\n",
    "x[1] = \"Big\"\n",
    "x[2][1] = false\n",
    "@print a # identical as x\n",
    "@print b # subobjects still changed (shallow copy)\n",
    "@print c #totally separate object"
   ]
  },
  {
   "cell_type": "markdown",
   "metadata": {},
   "source": [
    "**Dictionaries**"
   ]
  },
  {
   "cell_type": "code",
   "execution_count": 102,
   "metadata": {
    "scrolled": true
   },
   "outputs": [
    {
     "name": "stdout",
     "output_type": "stream",
     "text": [
      "y[\"a\"] : 1\n",
      "haskey(y, \"b\") : true\n",
      "(keys(y), values(y)) : ([\"c\", \"b\", \"a\"], [3, 2, 1])\n",
      "get(y, \"b\", \"default\") : default\n"
     ]
    }
   ],
   "source": [
    "x = Dict{Float64, Int64}() # an empty dictionary mapping floats to integers\n",
    "y = Dict(\"a\"=>1, \"b\"=>2) # a filled dictionary\n",
    "@print y[\"a\"] # element retrieval\n",
    "y[\"c\"] = 3 # added element\n",
    "@print haskey(y, \"b\") # check if y contains key \"b\"\n",
    "@print keys(y), values(y) # tuple of collections returning keys and values in y\n",
    "delete!(y, \"b\") # delete a key from a collection, see also: pop!\n",
    "@print get(y,\"b\",\"default\") # return y[\"c\"] or \"default\" if not haskey(y,\"c\")"
   ]
  },
  {
   "cell_type": "markdown",
   "metadata": {},
   "source": [
    "**String operations**"
   ]
  },
  {
   "cell_type": "code",
   "execution_count": 103,
   "metadata": {},
   "outputs": [
    {
     "name": "stdout",
     "output_type": "stream",
     "text": [
      "\"Hi \" * \"there!\" : Hi there!\n",
      "\"Ho \" ^ 3 : Ho Ho Ho \n",
      "string(\"a = \", 123.3) : a = 123.3\n",
      "occursin(\"CD\", \"ABCD\") : true\n",
      "\"\n",
      "\t$\n",
      "123 + 3 = 126\n",
      "$199\n",
      "D:\\path\n"
     ]
    }
   ],
   "source": [
    "@print \"Hi \" * \"there!\" # string concatenation\n",
    "@print \"Ho \" ^ 3 # repeat string\n",
    "@print string(\"a = \", 123.3) # create using print function\n",
    "@print occursin(\"CD\", \"ABCD\") # check if first string contains second\n",
    "println(\"\\\"\\n\\t\\$\") # C-like escaping in strings, new \\$ escape\n",
    "x = 123\n",
    "println(\"$x + 3 = $(x+3)\") # unescaped $ is used for interpolation\n",
    "println(\"\\$199\") # to get a $ symbol you must escape it\n",
    "println(raw\"D:\\path\") # a raw string literal; useful for paths under Windows"
   ]
  },
  {
   "cell_type": "markdown",
   "metadata": {},
   "source": [
    "**Programming Constructs**"
   ]
  },
  {
   "cell_type": "code",
   "execution_count": 104,
   "metadata": {
    "scrolled": true
   },
   "outputs": [
    {
     "name": "stdout",
     "output_type": "stream",
     "text": [
      "x : 2\n",
      "a : 1\n",
      "y : 9\n",
      "b : 3\n"
     ]
    }
   ],
   "source": [
    "#Compund expressions\n",
    "x = (a = 1; 2 * a) # after: x = 2; a = 1\n",
    "y = begin\n",
    "    b = 3\n",
    "    3 * b\n",
    "end # after: y = 9; b = 3\n",
    "@print x\n",
    "@print a\n",
    "@print y\n",
    "@print b"
   ]
  },
  {
   "cell_type": "code",
   "execution_count": 105,
   "metadata": {},
   "outputs": [
    {
     "name": "stdout",
     "output_type": "stream",
     "text": [
      "a : 3\n"
     ]
    },
    {
     "ename": "LoadError",
     "evalue": "LoadError: UndefVarError: z not defined\nin expression starting at In[105]:9",
     "output_type": "error",
     "traceback": [
      "LoadError: UndefVarError: z not defined\nin expression starting at In[105]:9",
      "",
      "Stacktrace:",
      " [1] top-level scope",
      "   @ :0",
      " [2] eval",
      "   @ .\\boot.jl:360 [inlined]",
      " [3] eval(x::Symbol)",
      "   @ Base.MainInclude .\\client.jl:446",
      " [4] var\"@print\"(__source__::LineNumberNode, __module__::Module, func::Any)",
      "   @ Main .\\In[81]:3",
      " [5] eval",
      "   @ .\\boot.jl:360 [inlined]",
      " [6] include_string(mapexpr::typeof(REPL.softscope), mod::Module, code::String, filename::String)",
      "   @ Base .\\loading.jl:1090"
     ]
    }
   ],
   "source": [
    "if false # if clause requires Bool test\n",
    "    z = 1\n",
    "elseif 1 == 2\n",
    "    z = 2\n",
    "else\n",
    "    a = 3\n",
    "end # after this a = 3 and z is undefined\n",
    "@print a\n",
    "@print z"
   ]
  },
  {
   "cell_type": "code",
   "execution_count": 106,
   "metadata": {
    "scrolled": true
   },
   "outputs": [
    {
     "data": {
      "text/plain": [
       "\"B\""
      ]
     },
     "execution_count": 106,
     "metadata": {},
     "output_type": "execute_result"
    }
   ],
   "source": [
    "1==2 ? \"A\" : \"B\" # standard ternary operator\n",
    "#condition ? if_true : if_false"
   ]
  },
  {
   "cell_type": "code",
   "execution_count": 107,
   "metadata": {},
   "outputs": [
    {
     "name": "stdout",
     "output_type": "stream",
     "text": [
      "1\n",
      "10\n"
     ]
    }
   ],
   "source": [
    "#for loop\n",
    "for x in 1:10 # x in collection, can also use = here instead of in\n",
    "    if 1 < x < 10\n",
    "        continue # skip one iteration\n",
    "    end\n",
    "    println(x)\n",
    "end"
   ]
  },
  {
   "cell_type": "code",
   "execution_count": 108,
   "metadata": {},
   "outputs": [
    {
     "name": "stdout",
     "output_type": "stream",
     "text": [
      "f1(3, 2) : 5\n",
      "f1(3) : 13\n"
     ]
    }
   ],
   "source": [
    "function f1(x, y=10) # f(x, y = 10) = x + y\n",
    "    x + y \n",
    "end\n",
    "@print f1(3,2)\n",
    "@print f1(3)"
   ]
  },
  {
   "cell_type": "code",
   "execution_count": 109,
   "metadata": {
    "scrolled": true
   },
   "outputs": [
    {
     "data": {
      "text/plain": [
       "9"
      ]
     },
     "execution_count": 109,
     "metadata": {},
     "output_type": "execute_result"
    }
   ],
   "source": [
    "(x -> x^2)(3) # an anonymous function with a call example (lambda in Python)"
   ]
  },
  {
   "cell_type": "code",
   "execution_count": 110,
   "metadata": {
    "scrolled": true
   },
   "outputs": [
    {
     "data": {
      "text/html": [
       "# 2 methods for generic function <b>f</b>:<ul><li> f(x::<b>Int64</b>) in Main at In[61]:2</li> <li> f(x::<b>Float64</b>) in Main at In[61]:3</li> </ul>"
      ],
      "text/plain": [
       "# 2 methods for generic function \"f\":\n",
       "[1] f(x::Int64) in Main at In[61]:2\n",
       "[2] f(x::Float64) in Main at In[61]:3"
      ]
     },
     "execution_count": 110,
     "metadata": {},
     "output_type": "execute_result"
    }
   ],
   "source": [
    "#Multiple methods/ multiple disptach\n",
    "methods(f)"
   ]
  },
  {
   "cell_type": "markdown",
   "metadata": {},
   "source": [
    "**Broadcast operator**"
   ]
  },
  {
   "cell_type": "code",
   "execution_count": 111,
   "metadata": {
    "scrolled": true
   },
   "outputs": [
    {
     "name": "stdout",
     "output_type": "stream",
     "text": [
      "true || false : true\n",
      "1 < 2 < 3 : true\n",
      "[1 2] .< [2 1] : Bool[1 0]\n"
     ]
    }
   ],
   "source": [
    "@print true || false # binary or operator (singletons only), || and && use short-circut evaluation\n",
    "@print 1 < 2 < 3 # chaining conditions is OK (singletons only without .)\n",
    "@print [1 2] .< [2 1] # for vectorized operators need to add '.' in front"
   ]
  },
  {
   "cell_type": "code",
   "execution_count": 112,
   "metadata": {
    "scrolled": true
   },
   "outputs": [
    {
     "name": "stdout",
     "output_type": "stream",
     "text": [
      "2x + 2 * (x .+ 1) : [6 10 14]\n",
      "x .+ y : [2 3 4; 3 4 5; 4 5 6]\n",
      "x + y' : [2 4 6]\n",
      "x * y : [14]\n",
      "x .* y : [1 2 3; 2 4 6; 3 6 9]\n"
     ]
    }
   ],
   "source": [
    "x = [1 2 3]\n",
    "# multiplication can be omitted between a literal and a variable or a left parenthesis\n",
    "@print 2x + 2(x .+ 1)\n",
    "y = [1, 2, 3]\n",
    "@print x .+ y # a 3x3 matrix, dimension broadcasting\n",
    "@print x + y' # a 1x3 matrix\n",
    "@print x * y # array multiplication, a 1-element vector (not scalar)\n",
    "@print x .* y # element-wise multiplication, a 3x3 array"
   ]
  },
  {
   "cell_type": "code",
   "execution_count": 113,
   "metadata": {
    "scrolled": true
   },
   "outputs": [
    {
     "data": {
      "text/plain": [
       "3×3 Matrix{Int64}:\n",
       " 2  3  4\n",
       " 3  4  5\n",
       " 4  5  6"
      ]
     },
     "execution_count": 113,
     "metadata": {},
     "output_type": "execute_result"
    }
   ],
   "source": [
    "x .+ y"
   ]
  },
  {
   "cell_type": "code",
   "execution_count": 114,
   "metadata": {},
   "outputs": [
    {
     "name": "stdout",
     "output_type": "stream",
     "text": [
      "x == [1 2 3] : true\n",
      "x === [1 2 3] : false\n"
     ]
    }
   ],
   "source": [
    "@print x == [1 2 3] # true, object looks the same, by value\n",
    "@print x === [1 2 3] # false, objects not identical, by reference"
   ]
  },
  {
   "cell_type": "code",
   "execution_count": 115,
   "metadata": {},
   "outputs": [
    {
     "data": {
      "text/plain": [
       "Ptr{Int64} @0x000000001b2a4910"
      ]
     },
     "execution_count": 115,
     "metadata": {},
     "output_type": "execute_result"
    }
   ],
   "source": [
    "pointer(x)"
   ]
  },
  {
   "cell_type": "code",
   "execution_count": 116,
   "metadata": {
    "scrolled": true
   },
   "outputs": [
    {
     "data": {
      "text/plain": [
       "Ptr{Int64} @0x000000004d6c3ee0"
      ]
     },
     "execution_count": 116,
     "metadata": {},
     "output_type": "execute_result"
    }
   ],
   "source": [
    "pointer([1 2 3])"
   ]
  },
  {
   "cell_type": "markdown",
   "metadata": {},
   "source": [
    "**Random numbers**"
   ]
  },
  {
   "cell_type": "code",
   "execution_count": 117,
   "metadata": {},
   "outputs": [],
   "source": [
    "using Random"
   ]
  },
  {
   "cell_type": "code",
   "execution_count": 118,
   "metadata": {
    "scrolled": true
   },
   "outputs": [
    {
     "name": "stdout",
     "output_type": "stream",
     "text": [
      "rand() : 0.23603334566204692\n",
      "rand(2, 3) : [0.34651701419196046 0.00790928339056074 0.21096820215853596; 0.3127069683360675 0.4886128300795012 0.951916339835734]\n",
      "rand(2:5, 10) : [4, 3, 5, 5, 5, 5, 3, 5, 5, 2]\n",
      "randn(10) : [-2.2670863488005306, 0.5299655761667461, 0.43142152642291204, 0.5837082875687786, 0.9632716050381906, 0.45879095505371686, -0.5223367574215084, 0.40839583832475224, -0.050451229933665284, -0.6936536438038856]\n"
     ]
    }
   ],
   "source": [
    "Random.seed!(1) # set random number generator seed to 1; needs calling first: using Random\n",
    "@print rand() # generate random number from U[0,1)\n",
    "@print rand(2, 3) # generate 2x3 matrix of random numbers from U[0,1]\n",
    "@print rand(2:5, 10) # generate vector of 10 random integer numbers in range form 2 to 5\n",
    "@print randn(10) # generate vector of 10 random numbers from standard normal distribution"
   ]
  },
  {
   "cell_type": "markdown",
   "metadata": {},
   "source": [
    "**Statistics and machine learning**\n",
    "\n",
    "Visit http://juliastats.github.io/ for the details (in particular R-like data frames)."
   ]
  },
  {
   "cell_type": "markdown",
   "metadata": {},
   "source": [
    "**Tabular data**"
   ]
  },
  {
   "cell_type": "code",
   "execution_count": 119,
   "metadata": {
    "scrolled": true
   },
   "outputs": [
    {
     "name": "stderr",
     "output_type": "stream",
     "text": [
      "  % Total    % Received % Xferd  Average Speed   Time    Time     Time  Current\n",
      "                                 Dload  Upload   Total   Spent    Left  Speed\n",
      "100  3716  100  3716    0     0   3716      0  0:00:01 --:--:--  0:00:01  6255\n"
     ]
    }
   ],
   "source": [
    ";curl -o iris.csv \"https://raw.githubusercontent.com/uiuc-cse/data-fa14/gh-pages/data/iris.csv\""
   ]
  },
  {
   "cell_type": "code",
   "execution_count": 120,
   "metadata": {
    "scrolled": true
   },
   "outputs": [
    {
     "data": {
      "text/html": [
       "<table class=\"data-frame\"><thead><tr><th></th><th>sepal_length</th><th>sepal_width</th><th>petal_length</th><th>petal_width</th><th>species</th></tr><tr><th></th><th>Float64</th><th>Float64</th><th>Float64</th><th>Float64</th><th>String</th></tr></thead><tbody><p>5 rows × 5 columns</p><tr><th>1</th><td>5.1</td><td>3.5</td><td>1.4</td><td>0.2</td><td>setosa</td></tr><tr><th>2</th><td>4.9</td><td>3.0</td><td>1.4</td><td>0.2</td><td>setosa</td></tr><tr><th>3</th><td>4.7</td><td>3.2</td><td>1.3</td><td>0.2</td><td>setosa</td></tr><tr><th>4</th><td>4.6</td><td>3.1</td><td>1.5</td><td>0.2</td><td>setosa</td></tr><tr><th>5</th><td>5.0</td><td>3.6</td><td>1.4</td><td>0.2</td><td>setosa</td></tr></tbody></table>"
      ],
      "text/latex": [
       "\\begin{tabular}{r|ccccc}\n",
       "\t& sepal\\_length & sepal\\_width & petal\\_length & petal\\_width & species\\\\\n",
       "\t\\hline\n",
       "\t& Float64 & Float64 & Float64 & Float64 & String\\\\\n",
       "\t\\hline\n",
       "\t1 & 5.1 & 3.5 & 1.4 & 0.2 & setosa \\\\\n",
       "\t2 & 4.9 & 3.0 & 1.4 & 0.2 & setosa \\\\\n",
       "\t3 & 4.7 & 3.2 & 1.3 & 0.2 & setosa \\\\\n",
       "\t4 & 4.6 & 3.1 & 1.5 & 0.2 & setosa \\\\\n",
       "\t5 & 5.0 & 3.6 & 1.4 & 0.2 & setosa \\\\\n",
       "\\end{tabular}\n"
      ],
      "text/plain": [
       "5×5 DataFrame\n",
       "│ Row │ sepal_length │ sepal_width │ petal_length │ petal_width │ species │\n",
       "│     │ \u001b[90mFloat64\u001b[39m      │ \u001b[90mFloat64\u001b[39m     │ \u001b[90mFloat64\u001b[39m      │ \u001b[90mFloat64\u001b[39m     │ \u001b[90mString\u001b[39m  │\n",
       "├─────┼──────────────┼─────────────┼──────────────┼─────────────┼─────────┤\n",
       "│ 1   │ 5.1          │ 3.5         │ 1.4          │ 0.2         │ setosa  │\n",
       "│ 2   │ 4.9          │ 3.0         │ 1.4          │ 0.2         │ setosa  │\n",
       "│ 3   │ 4.7          │ 3.2         │ 1.3          │ 0.2         │ setosa  │\n",
       "│ 4   │ 4.6          │ 3.1         │ 1.5          │ 0.2         │ setosa  │\n",
       "│ 5   │ 5.0          │ 3.6         │ 1.4          │ 0.2         │ setosa  │"
      ]
     },
     "execution_count": 120,
     "metadata": {},
     "output_type": "execute_result"
    }
   ],
   "source": [
    "using DataFrames;\n",
    "using CSV;\n",
    "\n",
    "df = DataFrame(CSV.File(\"./iris.csv\"));\n",
    "first(df, 5) # print first 5 rows of a data frame; use the last function for last rows"
   ]
  },
  {
   "cell_type": "markdown",
   "metadata": {},
   "source": [
    "**Plotting**"
   ]
  },
  {
   "cell_type": "code",
   "execution_count": 123,
   "metadata": {},
   "outputs": [
    {
     "data": {
      "image/png": "[encoded data removed]",
      "text/plain": [
       "Figure(PyObject <Figure size 640x480 with 1 Axes>)"
      ]
     },
     "metadata": {},
     "output_type": "display_data"
    }
   ],
   "source": [
    "using PyPlot\n",
    "using Random\n",
    "Random.seed!(1) # make the plot reproducible\n",
    "x, y = randn(100), randn(100)\n",
    "scatter(x, y);"
   ]
  },
  {
   "cell_type": "code",
   "execution_count": 124,
   "metadata": {},
   "outputs": [
    {
     "data": {
      "image/png": "[encoded data removed]",
      "text/plain": [
       "Figure(PyObject <Figure size 640x480 with 1 Axes>)"
      ]
     },
     "metadata": {},
     "output_type": "display_data"
    }
   ],
   "source": [
    "using Distributions\n",
    "using PyPlot\n",
    "mu, sigma = 100, 15\n",
    "x = mu .+ sigma * randn(10000)\n",
    "n, bins, patches = plt.hist(x, 50, density=1,\n",
    "    facecolor=\"green\", alpha=0.75)\n",
    "\n",
    "y = pdf.(Ref(Normal(mu, sigma)), bins);\n",
    "plot(bins, y, \"r--\", linewidth=1)\n",
    "\n",
    "xlabel(\"Smarts\")\n",
    "ylabel(\"Probability\")\n",
    "title(raw\"$\\mathrm{Histogram\\ of\\ IQ:}\\ \\mu=100,\\ \\sigma=15$\")\n",
    "axis([40, 160,0, 0.03])\n",
    "grid(true)"
   ]
  },
  {
   "cell_type": "code",
   "execution_count": null,
   "metadata": {},
   "outputs": [],
   "source": []
  }
 ],
 "metadata": {
  "kernelspec": {
   "display_name": "Julia 1.6.0-rc1",
   "language": "julia",
   "name": "julia-1.6"
  },
  "language_info": {
   "file_extension": ".jl",
   "mimetype": "application/julia",
   "name": "julia",
   "version": "1.6.0"
  },
  "toc": {
   "base_numbering": 1,
   "nav_menu": {},
   "number_sections": false,
   "sideBar": true,
   "skip_h1_title": false,
   "title_cell": "Table of Contents",
   "title_sidebar": "Contents",
   "toc_cell": false,
   "toc_position": {
    "height": "calc(100% - 180px)",
    "left": "10px",
    "top": "150px",
    "width": "384px"
   },
   "toc_section_display": true,
   "toc_window_display": false
  }
 },
 "nbformat": 4,
 "nbformat_minor": 4
}