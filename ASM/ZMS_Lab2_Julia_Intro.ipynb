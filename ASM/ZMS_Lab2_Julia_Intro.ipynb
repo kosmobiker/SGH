{
 "cells": [
  {
   "cell_type": "markdown",
   "source": [
    "# Intro to Julia and Jupyter"
   ],
   "metadata": {}
  },
  {
   "cell_type": "markdown",
   "source": [
    "Prowadzący: Łukasz Kraiński\n",
    "\n",
    "Kontakt: lukasz.krainski123@gmail.com / lkrain@sgh.waw.pl"
   ],
   "metadata": {}
  },
  {
   "cell_type": "markdown",
   "source": [
    "## 1.Quick Jupyter Notebook guide"
   ],
   "metadata": {}
  },
  {
   "cell_type": "markdown",
   "source": [
    "Use **Arrow keys** to move up and down\n",
    "***"
   ],
   "metadata": {}
  },
  {
   "cell_type": "markdown",
   "source": [
    "Use **Enter** to activate cell and **ESC** to deactivate it\n",
    "***"
   ],
   "metadata": {}
  },
  {
   "cell_type": "markdown",
   "source": [
    "Use **CTRL+Enter** to execute cell (interpret Markdown or Python code)\n",
    "***"
   ],
   "metadata": {
    "raw_mimetype": "text/latex"
   }
  },
  {
   "cell_type": "markdown",
   "source": [
    "While cell is deactivated (you are in Command mode) use **M** to turn cell into Markdown or **Y** to switch to Python\n",
    "___"
   ],
   "metadata": {}
  },
  {
   "cell_type": "markdown",
   "source": [
    "**a** adds cell above and **b** adds cell below (**ALT+Enter** execute and insert below)\n",
    "___"
   ],
   "metadata": {}
  },
  {
   "cell_type": "markdown",
   "source": [
    "Delete cell using **dd**\n",
    "___"
   ],
   "metadata": {}
  },
  {
   "cell_type": "markdown",
   "source": [
    "More shortcuts will pop up after pressing **H**"
   ],
   "metadata": {}
  },
  {
   "cell_type": "markdown",
   "source": [
    "## 2.Markdown guide"
   ],
   "metadata": {}
  },
  {
   "cell_type": "markdown",
   "source": [
    "[Markdown Cheatsheet](https://github.com/adam-p/markdown-here/wiki/Markdown-Cheatsheet)"
   ],
   "metadata": {}
  },
  {
   "cell_type": "markdown",
   "source": [
    "### Julia introduction"
   ],
   "metadata": {}
  },
  {
   "cell_type": "markdown",
   "source": [
    "Based on: \n",
    "- Julia express http://bogumilkaminski.pl/files/julia_express.pdf\n",
    "- Presentation by dr Szufel"
   ],
   "metadata": {}
  },
  {
   "cell_type": "markdown",
   "source": [
    "## Key features of Julia"
   ],
   "metadata": {}
  },
  {
   "cell_type": "markdown",
   "source": [
    "- **Performance** : Dynamically compiled to optimized native machine code\n",
    "\n",
    "- **Scalability** : build in support for High Performance Computing  (SIMD, Threading, Distributed computing)\n",
    "\n",
    "- **Modern design of the language** : multiple dispatch, metaprogramming (code genration), type system\n",
    "\n",
    "- **MIT License** : corporate-use friendly (also package ecosystem)\n",
    "\n",
    "- **Integration with other popular languages** : R and Python can be called from Julia"
   ],
   "metadata": {}
  },
  {
   "cell_type": "markdown",
   "source": [
    "### Performance"
   ],
   "metadata": {}
  },
  {
   "cell_type": "code",
   "execution_count": 6,
   "source": [
    "function first_func(n::Int)\n",
    "           A = rand(n, n)\n",
    "           b = rand(n)\n",
    "           return (A\\b)'\n",
    "end\n",
    "@time first_func(40)"
   ],
   "outputs": [
    {
     "output_type": "stream",
     "name": "stdout",
     "text": [
      "  0.006284 seconds (5 allocations: 26.422 KiB)\n"
     ]
    },
    {
     "output_type": "execute_result",
     "data": {
      "text/plain": [
       "1×40 adjoint(::Vector{Float64}) with eltype Float64:\n",
       " -1.90501  1.72702  -1.29433  2.25675  …  2.8786  0.384731  0.539662  1.75293"
      ]
     },
     "metadata": {},
     "execution_count": 6
    }
   ],
   "metadata": {}
  },
  {
   "cell_type": "code",
   "execution_count": 7,
   "source": [
    "#Second function run - much faster!!\n",
    "@time first_func(40)"
   ],
   "outputs": [
    {
     "output_type": "stream",
     "name": "stdout",
     "text": [
      "  0.002245 seconds (5 allocations: 26.422 KiB)\n"
     ]
    },
    {
     "output_type": "execute_result",
     "data": {
      "text/plain": [
       "1×40 adjoint(::Vector{Float64}) with eltype Float64:\n",
       " 0.902913  0.277025  0.683222  1.51541  …  0.749193  -1.55083  -1.33417"
      ]
     },
     "metadata": {},
     "execution_count": 7
    }
   ],
   "metadata": {}
  },
  {
   "cell_type": "markdown",
   "source": [
    "http://slides.com/valentinchuravy/julia-parallelism#/\n",
    "\n",
    "<img src=\"https://i.imgur.com/ut1a7mT.png\" alt=\"SIMD\" width=\"600px\">\n"
   ],
   "metadata": {}
  },
  {
   "cell_type": "code",
   "execution_count": 8,
   "source": [
    "#Getting machine code instructions\n",
    "@code_native first_func(1)"
   ],
   "outputs": [
    {
     "output_type": "stream",
     "name": "stdout",
     "text": [
      "\t\u001b[0m.text\n",
      "\u001b[90m; ┌ @ In[6]:1 within `first_func`\u001b[39m\n",
      "\t\u001b[96m\u001b[1mpushq\u001b[22m\u001b[39m\t\u001b[0m%rbp\n",
      "\t\u001b[96m\u001b[1mmovq\u001b[22m\u001b[39m\t\u001b[0m%rsp\u001b[0m, \u001b[0m%rbp\n",
      "\t\u001b[96m\u001b[1mpushq\u001b[22m\u001b[39m\t\u001b[0m%r15\n",
      "\t\u001b[96m\u001b[1mpushq\u001b[22m\u001b[39m\t\u001b[0m%r14\n",
      "\t\u001b[96m\u001b[1mpushq\u001b[22m\u001b[39m\t\u001b[0m%r13\n",
      "\t\u001b[96m\u001b[1mpushq\u001b[22m\u001b[39m\t\u001b[0m%r12\n",
      "\t\u001b[96m\u001b[1mpushq\u001b[22m\u001b[39m\t\u001b[0m%rbx\n",
      "\t\u001b[96m\u001b[1mandq\u001b[22m\u001b[39m\t\u001b[33m$-32\u001b[39m\u001b[0m, \u001b[0m%rsp\n",
      "\t\u001b[96m\u001b[1msubq\u001b[22m\u001b[39m\t\u001b[33m$96\u001b[39m\u001b[0m, \u001b[0m%rsp\n",
      "\t\u001b[96m\u001b[1mmovq\u001b[22m\u001b[39m\t\u001b[0m%rdi\u001b[0m, \u001b[0m%r14\n",
      "\t\u001b[96m\u001b[1mmovabsq\u001b[22m\u001b[39m\t\u001b[33m$139723197103509\u001b[39m\u001b[0m, \u001b[0m%rcx          \u001b[90m# imm = 0x7F13D787BD95\u001b[39m\n",
      "\t\u001b[96m\u001b[1mvxorps\u001b[22m\u001b[39m\t\u001b[0m%xmm0\u001b[0m, \u001b[0m%xmm0\u001b[0m, \u001b[0m%xmm0\n",
      "\t\u001b[96m\u001b[1mvmovaps\u001b[22m\u001b[39m\t\u001b[0m%ymm0\u001b[0m, \u001b[33m(\u001b[39m\u001b[0m%rsp\u001b[33m)\u001b[39m\n",
      "\t\u001b[96m\u001b[1mmovq\u001b[22m\u001b[39m\t\u001b[0m%fs\u001b[0m:\u001b[33m0\u001b[39m\u001b[0m, \u001b[0m%rax\n",
      "\t\u001b[96m\u001b[1mmovq\u001b[22m\u001b[39m\t\u001b[33m-8\u001b[39m\u001b[33m(\u001b[39m\u001b[0m%rax\u001b[33m)\u001b[39m\u001b[0m, \u001b[0m%r13\n",
      "\u001b[90m; │ @ In[6]:2 within `first_func`\u001b[39m\n",
      "\u001b[90m; │┌ @ Random.jl:277 within `rand` @ Random.jl:289 @ Random.jl:288\u001b[39m\n",
      "\u001b[90m; ││┌ @ boot.jl:474 within `Array` @ boot.jl:467 @ boot.jl:459\u001b[39m\n",
      "\t\u001b[96m\u001b[1mmovq\u001b[22m\u001b[39m\t\u001b[33m$8\u001b[39m\u001b[0m, \u001b[33m(\u001b[39m\u001b[0m%rsp\u001b[33m)\u001b[39m\n",
      "\t\u001b[96m\u001b[1mmovq\u001b[22m\u001b[39m\t\u001b[33m(\u001b[39m\u001b[0m%r13\u001b[33m)\u001b[39m\u001b[0m, \u001b[0m%rax\n",
      "\t\u001b[96m\u001b[1mmovq\u001b[22m\u001b[39m\t\u001b[0m%rax\u001b[0m, \u001b[33m8\u001b[39m\u001b[33m(\u001b[39m\u001b[0m%rsp\u001b[33m)\u001b[39m\n",
      "\t\u001b[96m\u001b[1mmovq\u001b[22m\u001b[39m\t\u001b[0m%rsp\u001b[0m, \u001b[0m%rax\n",
      "\t\u001b[96m\u001b[1mmovq\u001b[22m\u001b[39m\t\u001b[0m%rax\u001b[0m, \u001b[33m(\u001b[39m\u001b[0m%r13\u001b[33m)\u001b[39m\n",
      "\t\u001b[96m\u001b[1mleaq\u001b[22m\u001b[39m\t\u001b[33m12\u001b[39m\u001b[33m(\u001b[39m\u001b[0m%rcx\u001b[33m)\u001b[39m\u001b[0m, \u001b[0m%rax\n",
      "\t\u001b[96m\u001b[1mmovabsq\u001b[22m\u001b[39m\t\u001b[33m$139722173647456\u001b[39m\u001b[0m, \u001b[0m%rdi          \u001b[90m# imm = 0x7F139A870A60\u001b[39m\n",
      "\t\u001b[96m\u001b[1mmovq\u001b[22m\u001b[39m\t\u001b[0m%r14\u001b[0m, \u001b[0m%rsi\n",
      "\t\u001b[96m\u001b[1mmovq\u001b[22m\u001b[39m\t\u001b[0m%r14\u001b[0m, \u001b[0m%rdx\n",
      "\t\u001b[96m\u001b[1mvzeroupper\u001b[22m\u001b[39m\n",
      "\t\u001b[96m\u001b[1mcallq\u001b[22m\u001b[39m\t\u001b[0m*\u001b[0m%rax\n",
      "\t\u001b[96m\u001b[1mmovq\u001b[22m\u001b[39m\t\u001b[0m%rax\u001b[0m, \u001b[0m%r15\n",
      "\u001b[90m; ││└\u001b[39m\n",
      "\u001b[90m; ││┌ @ Random.jl:267 within `rand!` @ XoshiroSimd.jl:292\u001b[39m\n",
      "\u001b[90m; │││┌ @ abstractarray.jl:1164 within `pointer`\u001b[39m\n",
      "\u001b[90m; ││││┌ @ pointer.jl:65 within `unsafe_convert`\u001b[39m\n",
      "\t\u001b[96m\u001b[1mmovq\u001b[22m\u001b[39m\t\u001b[33m(\u001b[39m\u001b[0m%rax\u001b[33m)\u001b[39m\u001b[0m, \u001b[0m%r12\n",
      "\u001b[90m; │││└└\u001b[39m\n",
      "\u001b[90m; │││┌ @ array.jl:215 within `length`\u001b[39m\n",
      "\t\u001b[96m\u001b[1mmovq\u001b[22m\u001b[39m\t\u001b[33m8\u001b[39m\u001b[33m(\u001b[39m\u001b[0m%rax\u001b[33m)\u001b[39m\u001b[0m, \u001b[0m%rbx\n",
      "\u001b[90m; │││└\u001b[39m\n",
      "\u001b[90m; │││┌ @ int.jl:88 within `*`\u001b[39m\n",
      "\t\u001b[96m\u001b[1mshlq\u001b[22m\u001b[39m\t\u001b[33m$3\u001b[39m\u001b[0m, \u001b[0m%rbx\n",
      "\t\u001b[96m\u001b[1mmovabsq\u001b[22m\u001b[39m\t\u001b[93m$xoshiro_bulk_simd\u001b[39m\u001b[0m, \u001b[0m%rax\n",
      "\u001b[90m; │││└\u001b[39m\n",
      "\u001b[90m; │││┌ @ XoshiroSimd.jl:140 within `xoshiro_bulk`\u001b[39m\n",
      "\u001b[90m; ││││┌ @ operators.jl:425 within `>=`\u001b[39m\n",
      "\u001b[90m; │││││┌ @ int.jl:471 within `<=`\u001b[39m\n",
      "\t\u001b[96m\u001b[1mcmpq\u001b[22m\u001b[39m\t\u001b[33m$64\u001b[39m\u001b[0m, \u001b[0m%rbx\n",
      "\u001b[90m; ││││└└\u001b[39m\n",
      "\t\u001b[96m\u001b[1mjl\u001b[22m\u001b[39m\t\u001b[91mL154\u001b[39m\n",
      "\u001b[90m; │││└\u001b[39m\n",
      "\u001b[90m; │││┌ @ XoshiroSimd.jl within `xoshiro_bulk`\u001b[39m\n",
      "\t\u001b[96m\u001b[1mmovq\u001b[22m\u001b[39m\t\u001b[0m%r15\u001b[0m, \u001b[33m24\u001b[39m\u001b[33m(\u001b[39m\u001b[0m%rsp\u001b[33m)\u001b[39m\n",
      "\u001b[90m; │││└\u001b[39m\n",
      "\u001b[90m; │││┌ @ XoshiroSimd.jl:141 within `xoshiro_bulk`\u001b[39m\n",
      "\t\u001b[96m\u001b[1mmovq\u001b[22m\u001b[39m\t\u001b[0m%r12\u001b[0m, \u001b[0m%rdi\n",
      "\t\u001b[96m\u001b[1mmovq\u001b[22m\u001b[39m\t\u001b[0m%rbx\u001b[0m, \u001b[0m%rsi\n",
      "\t\u001b[96m\u001b[1mcallq\u001b[22m\u001b[39m\t\u001b[0m*\u001b[0m%rax\n",
      "\u001b[90m; │││└\u001b[39m\n",
      "\u001b[90m; │││┌ @ XoshiroSimd.jl:142 within `xoshiro_bulk`\u001b[39m\n",
      "\u001b[90m; ││││┌ @ int.jl:86 within `-`\u001b[39m\n",
      "\t\u001b[96m\u001b[1msubq\u001b[22m\u001b[39m\t\u001b[0m%rax\u001b[0m, \u001b[0m%rbx\n",
      "\u001b[90m; │││└└\u001b[39m\n",
      "\u001b[90m; │││┌ @ XoshiroSimd.jl:143 within `xoshiro_bulk`\u001b[39m\n",
      "\u001b[90m; ││││┌ @ pointer.jl:159 within `+`\u001b[39m\n",
      "\t\u001b[96m\u001b[1maddq\u001b[22m\u001b[39m\t\u001b[0m%rax\u001b[0m, \u001b[0m%r12\n",
      "\u001b[90m; │││└└\u001b[39m\n",
      "\u001b[90m; │││┌ @ pointer.jl within `xoshiro_bulk`\u001b[39m\n",
      "\u001b[91mL154:\u001b[39m\n",
      "\t\u001b[96m\u001b[1mmovabsq\u001b[22m\u001b[39m\t\u001b[93m$xoshiro_bulk_nosimd\u001b[39m\u001b[0m, \u001b[0m%rax\n",
      "\u001b[90m; │││└\u001b[39m\n",
      "\u001b[90m; │││┌ @ XoshiroSimd.jl:145 within `xoshiro_bulk`\u001b[39m\n",
      "\u001b[90m; ││││┌ @ operators.jl:278 within `!=`\u001b[39m\n",
      "\u001b[90m; │││││┌ @ promotion.jl:424 within `==`\u001b[39m\n",
      "\t\u001b[96m\u001b[1mtestq\u001b[22m\u001b[39m\t\u001b[0m%rbx\u001b[0m, \u001b[0m%rbx\n",
      "\u001b[90m; ││││└└\u001b[39m\n",
      "\t\u001b[96m\u001b[1mje\u001b[22m\u001b[39m\t\u001b[91mL182\u001b[39m\n",
      "\u001b[90m; │││└\u001b[39m\n",
      "\u001b[90m; │││┌ @ XoshiroSimd.jl within `xoshiro_bulk`\u001b[39m\n",
      "\t\u001b[96m\u001b[1mmovq\u001b[22m\u001b[39m\t\u001b[0m%r15\u001b[0m, \u001b[33m24\u001b[39m\u001b[33m(\u001b[39m\u001b[0m%rsp\u001b[33m)\u001b[39m\n",
      "\u001b[90m; │││└\u001b[39m\n",
      "\u001b[90m; │││┌ @ XoshiroSimd.jl:146 within `xoshiro_bulk`\u001b[39m\n",
      "\t\u001b[96m\u001b[1mmovq\u001b[22m\u001b[39m\t\u001b[0m%r12\u001b[0m, \u001b[0m%rdi\n",
      "\t\u001b[96m\u001b[1mmovq\u001b[22m\u001b[39m\t\u001b[0m%rbx\u001b[0m, \u001b[0m%rsi\n",
      "\t\u001b[96m\u001b[1mcallq\u001b[22m\u001b[39m\t\u001b[0m*\u001b[0m%rax\n",
      "\u001b[90m; │└└└\u001b[39m\n",
      "\u001b[90m; │ @ XoshiroSimd.jl within `first_func`\u001b[39m\n",
      "\u001b[91mL182:\u001b[39m\n",
      "\t\u001b[96m\u001b[1mmovq\u001b[22m\u001b[39m\t\u001b[0m%r15\u001b[0m, \u001b[33m24\u001b[39m\u001b[33m(\u001b[39m\u001b[0m%rsp\u001b[33m)\u001b[39m\n",
      "\t\u001b[96m\u001b[1mmovabsq\u001b[22m\u001b[39m\t\u001b[93m$jl_system_image_data\u001b[39m\u001b[0m, \u001b[0m%rdi\n",
      "\u001b[90m; │ @ In[6]:3 within `first_func`\u001b[39m\n",
      "\u001b[90m; │┌ @ Random.jl:277 within `rand` @ Random.jl:289 @ Random.jl:288\u001b[39m\n",
      "\u001b[90m; ││┌ @ boot.jl:474 within `Array` @ boot.jl:466 @ boot.jl:457\u001b[39m\n",
      "\t\u001b[96m\u001b[1mmovq\u001b[22m\u001b[39m\t\u001b[0m%r14\u001b[0m, \u001b[0m%rsi\n",
      "\t\u001b[96m\u001b[1mmovabsq\u001b[22m\u001b[39m\t\u001b[33m$139723197103509\u001b[39m\u001b[0m, \u001b[0m%rax          \u001b[90m# imm = 0x7F13D787BD95\u001b[39m\n",
      "\t\u001b[96m\u001b[1mcallq\u001b[22m\u001b[39m\t\u001b[0m*\u001b[0m%rax\n",
      "\t\u001b[96m\u001b[1mmovq\u001b[22m\u001b[39m\t\u001b[0m%rax\u001b[0m, \u001b[0m%r12\n",
      "\u001b[90m; ││└\u001b[39m\n",
      "\u001b[90m; ││┌ @ Random.jl:267 within `rand!` @ XoshiroSimd.jl:292\u001b[39m\n",
      "\u001b[90m; │││┌ @ abstractarray.jl:1164 within `pointer`\u001b[39m\n",
      "\u001b[90m; ││││┌ @ pointer.jl:65 within `unsafe_convert`\u001b[39m\n",
      "\t\u001b[96m\u001b[1mmovq\u001b[22m\u001b[39m\t\u001b[33m(\u001b[39m\u001b[0m%rax\u001b[33m)\u001b[39m\u001b[0m, \u001b[0m%r14\n",
      "\u001b[90m; │││└└\u001b[39m\n",
      "\u001b[90m; │││┌ @ array.jl:215 within `length`\u001b[39m\n",
      "\t\u001b[96m\u001b[1mmovq\u001b[22m\u001b[39m\t\u001b[33m8\u001b[39m\u001b[33m(\u001b[39m\u001b[0m%rax\u001b[33m)\u001b[39m\u001b[0m, \u001b[0m%rbx\n",
      "\u001b[90m; │││└\u001b[39m\n",
      "\u001b[90m; │││┌ @ int.jl:88 within `*`\u001b[39m\n",
      "\t\u001b[96m\u001b[1mshlq\u001b[22m\u001b[39m\t\u001b[33m$3\u001b[39m\u001b[0m, \u001b[0m%rbx\n",
      "\u001b[90m; │││└\u001b[39m\n",
      "\u001b[90m; │││┌ @ XoshiroSimd.jl:140 within `xoshiro_bulk`\u001b[39m\n",
      "\u001b[90m; ││││┌ @ operators.jl:425 within `>=`\u001b[39m\n",
      "\u001b[90m; │││││┌ @ int.jl:471 within `<=`\u001b[39m\n",
      "\t\u001b[96m\u001b[1mcmpq\u001b[22m\u001b[39m\t\u001b[33m$64\u001b[39m\u001b[0m, \u001b[0m%rbx\n",
      "\u001b[90m; ││││└└\u001b[39m\n",
      "\t\u001b[96m\u001b[1mjl\u001b[22m\u001b[39m\t\u001b[91mL261\u001b[39m\n",
      "\u001b[90m; │││└\u001b[39m\n",
      "\u001b[90m; │││┌ @ XoshiroSimd.jl within `xoshiro_bulk`\u001b[39m\n",
      "\t\u001b[96m\u001b[1mmovq\u001b[22m\u001b[39m\t\u001b[0m%r12\u001b[0m, \u001b[33m16\u001b[39m\u001b[33m(\u001b[39m\u001b[0m%rsp\u001b[33m)\u001b[39m\n",
      "\u001b[90m; │││└\u001b[39m\n",
      "\u001b[90m; │││┌ @ XoshiroSimd.jl:141 within `xoshiro_bulk`\u001b[39m\n",
      "\t\u001b[96m\u001b[1mmovq\u001b[22m\u001b[39m\t\u001b[0m%r14\u001b[0m, \u001b[0m%rdi\n",
      "\t\u001b[96m\u001b[1mmovq\u001b[22m\u001b[39m\t\u001b[0m%rbx\u001b[0m, \u001b[0m%rsi\n",
      "\t\u001b[96m\u001b[1mmovabsq\u001b[22m\u001b[39m\t\u001b[93m$xoshiro_bulk_simd\u001b[39m\u001b[0m, \u001b[0m%rax\n",
      "\t\u001b[96m\u001b[1mcallq\u001b[22m\u001b[39m\t\u001b[0m*\u001b[0m%rax\n",
      "\u001b[90m; │││└\u001b[39m\n",
      "\u001b[90m; │││┌ @ XoshiroSimd.jl:142 within `xoshiro_bulk`\u001b[39m\n",
      "\u001b[90m; ││││┌ @ int.jl:86 within `-`\u001b[39m\n",
      "\t\u001b[96m\u001b[1msubq\u001b[22m\u001b[39m\t\u001b[0m%rax\u001b[0m, \u001b[0m%rbx\n",
      "\u001b[90m; │││└└\u001b[39m\n",
      "\u001b[90m; │││┌ @ XoshiroSimd.jl:143 within `xoshiro_bulk`\u001b[39m\n",
      "\u001b[90m; ││││┌ @ pointer.jl:159 within `+`\u001b[39m\n",
      "\t\u001b[96m\u001b[1maddq\u001b[22m\u001b[39m\t\u001b[0m%rax\u001b[0m, \u001b[0m%r14\n",
      "\u001b[90m; │││└└\u001b[39m\n",
      "\u001b[90m; │││┌ @ XoshiroSimd.jl:145 within `xoshiro_bulk`\u001b[39m\n",
      "\u001b[90m; ││││┌ @ operators.jl:278 within `!=`\u001b[39m\n",
      "\u001b[90m; │││││┌ @ promotion.jl:424 within `==`\u001b[39m\n",
      "\u001b[91mL261:\u001b[39m\n",
      "\t\u001b[96m\u001b[1mtestq\u001b[22m\u001b[39m\t\u001b[0m%rbx\u001b[0m, \u001b[0m%rbx\n",
      "\t\u001b[96m\u001b[1mmovabsq\u001b[22m\u001b[39m\t\u001b[93m$xoshiro_bulk_nosimd\u001b[39m\u001b[0m, \u001b[0m%rax\n",
      "\u001b[90m; ││││└└\u001b[39m\n",
      "\t\u001b[96m\u001b[1mje\u001b[22m\u001b[39m\t\u001b[91mL289\u001b[39m\n",
      "\u001b[90m; │││└\u001b[39m\n",
      "\u001b[90m; │││┌ @ XoshiroSimd.jl within `xoshiro_bulk`\u001b[39m\n",
      "\t\u001b[96m\u001b[1mmovq\u001b[22m\u001b[39m\t\u001b[0m%r12\u001b[0m, \u001b[33m16\u001b[39m\u001b[33m(\u001b[39m\u001b[0m%rsp\u001b[33m)\u001b[39m\n",
      "\u001b[90m; │││└\u001b[39m\n",
      "\u001b[90m; │││┌ @ XoshiroSimd.jl:146 within `xoshiro_bulk`\u001b[39m\n",
      "\t\u001b[96m\u001b[1mmovq\u001b[22m\u001b[39m\t\u001b[0m%r14\u001b[0m, \u001b[0m%rdi\n",
      "\t\u001b[96m\u001b[1mmovq\u001b[22m\u001b[39m\t\u001b[0m%rbx\u001b[0m, \u001b[0m%rsi\n",
      "\t\u001b[96m\u001b[1mcallq\u001b[22m\u001b[39m\t\u001b[0m*\u001b[0m%rax\n",
      "\u001b[90m; │└└└\u001b[39m\n",
      "\u001b[90m; │ @ XoshiroSimd.jl within `first_func`\u001b[39m\n",
      "\u001b[91mL289:\u001b[39m\n",
      "\t\u001b[96m\u001b[1mmovq\u001b[22m\u001b[39m\t\u001b[0m%r12\u001b[0m, \u001b[33m16\u001b[39m\u001b[33m(\u001b[39m\u001b[0m%rsp\u001b[33m)\u001b[39m\n",
      "\u001b[90m; │ @ In[6]:4 within `first_func`\u001b[39m\n",
      "\t\u001b[96m\u001b[1mmovq\u001b[22m\u001b[39m\t\u001b[0m%r15\u001b[0m, \u001b[33m56\u001b[39m\u001b[33m(\u001b[39m\u001b[0m%rsp\u001b[33m)\u001b[39m\n",
      "\t\u001b[96m\u001b[1mmovq\u001b[22m\u001b[39m\t\u001b[0m%r12\u001b[0m, \u001b[33m64\u001b[39m\u001b[33m(\u001b[39m\u001b[0m%rsp\u001b[33m)\u001b[39m\n",
      "\t\u001b[96m\u001b[1mmovabsq\u001b[22m\u001b[39m\t\u001b[93m$\"\\\"\u001b[39m\u001b[0m, \u001b[0m%rax\n",
      "\t\u001b[96m\u001b[1mmovabsq\u001b[22m\u001b[39m\t\u001b[93m$jl_system_image_data\u001b[39m\u001b[0m, \u001b[0m%rdi\n",
      "\t\u001b[96m\u001b[1mleaq\u001b[22m\u001b[39m\t\u001b[33m56\u001b[39m\u001b[33m(\u001b[39m\u001b[0m%rsp\u001b[33m)\u001b[39m\u001b[0m, \u001b[0m%rsi\n",
      "\t\u001b[96m\u001b[1mmovl\u001b[22m\u001b[39m\t\u001b[33m$2\u001b[39m\u001b[0m, \u001b[0m%edx\n",
      "\t\u001b[96m\u001b[1mcallq\u001b[22m\u001b[39m\t\u001b[0m*\u001b[0m%rax\n",
      "\t\u001b[96m\u001b[1mmovq\u001b[22m\u001b[39m\t\u001b[33m8\u001b[39m\u001b[33m(\u001b[39m\u001b[0m%rsp\u001b[33m)\u001b[39m\u001b[0m, \u001b[0m%rcx\n",
      "\t\u001b[96m\u001b[1mmovq\u001b[22m\u001b[39m\t\u001b[0m%rcx\u001b[0m, \u001b[33m(\u001b[39m\u001b[0m%r13\u001b[33m)\u001b[39m\n",
      "\t\u001b[96m\u001b[1mleaq\u001b[22m\u001b[39m\t\u001b[33m-40\u001b[39m\u001b[33m(\u001b[39m\u001b[0m%rbp\u001b[33m)\u001b[39m\u001b[0m, \u001b[0m%rsp\n",
      "\t\u001b[96m\u001b[1mpopq\u001b[22m\u001b[39m\t\u001b[0m%rbx\n",
      "\t\u001b[96m\u001b[1mpopq\u001b[22m\u001b[39m\t\u001b[0m%r12\n",
      "\t\u001b[96m\u001b[1mpopq\u001b[22m\u001b[39m\t\u001b[0m%r13\n",
      "\t\u001b[96m\u001b[1mpopq\u001b[22m\u001b[39m\t\u001b[0m%r14\n",
      "\t\u001b[96m\u001b[1mpopq\u001b[22m\u001b[39m\t\u001b[0m%r15\n",
      "\t\u001b[96m\u001b[1mpopq\u001b[22m\u001b[39m\t\u001b[0m%rbp\n",
      "\t\u001b[96m\u001b[1mretq\u001b[22m\u001b[39m\n",
      "\t\u001b[96m\u001b[1mnopl\u001b[22m\u001b[39m\t\u001b[33m(\u001b[39m\u001b[0m%rax\u001b[0m,\u001b[0m%rax\u001b[33m)\u001b[39m\n",
      "\u001b[90m; └\u001b[39m\n"
     ]
    }
   ],
   "metadata": {
    "scrolled": true
   }
  },
  {
   "cell_type": "markdown",
   "source": [
    "### Scalability"
   ],
   "metadata": {}
  },
  {
   "cell_type": "code",
   "execution_count": 9,
   "source": [
    "#] add BenchmarkTools"
   ],
   "outputs": [],
   "metadata": {}
  },
  {
   "cell_type": "code",
   "execution_count": 13,
   "source": [
    "using BenchmarkTools;"
   ],
   "outputs": [],
   "metadata": {
    "scrolled": true
   }
  },
  {
   "cell_type": "markdown",
   "source": [
    "Single instruction, multiple data (SIMD) is a class of parallel computing. It describes processors with multiple processing elements that perform the same operation on multiple data points simultaneously.\n",
    "[Wiki](https://en.wikipedia.org/wiki/SIMD)\n",
    "\n",
    "<img src=\"https://upload.wikimedia.org/wikipedia/commons/thumb/c/ce/SIMD2.svg/1200px-SIMD2.svg.png\" alt=\"SIMD\" width=\"200px\">"
   ],
   "metadata": {}
  },
  {
   "cell_type": "code",
   "execution_count": 14,
   "source": [
    "#Scalability\n",
    "function dot1(x, y)\n",
    "    s = 0.0\n",
    "    for i in 1:length(x)\n",
    "        @inbounds s += x[i]*y[i]\n",
    "    end\n",
    "    s\n",
    "end\n",
    "\n",
    "#Just adding one macro @simd\n",
    "function dot2(x, y)\n",
    "    s = 0.0\n",
    "    @simd for i in 1:length(x)\n",
    "        @inbounds s += x[i]*y[i]\n",
    "    end\n",
    "    s\n",
    "end"
   ],
   "outputs": [
    {
     "output_type": "execute_result",
     "data": {
      "text/plain": [
       "dot2 (generic function with 1 method)"
      ]
     },
     "metadata": {},
     "execution_count": 14
    }
   ],
   "metadata": {}
  },
  {
   "cell_type": "code",
   "execution_count": 15,
   "source": [
    "@btime dot1(ones(10000),ones(10000))"
   ],
   "outputs": [
    {
     "output_type": "stream",
     "name": "stdout",
     "text": [
      "  17.976 μs (4 allocations: 156.34 KiB)\n"
     ]
    },
    {
     "output_type": "execute_result",
     "data": {
      "text/plain": [
       "10000.0"
      ]
     },
     "metadata": {},
     "execution_count": 15
    }
   ],
   "metadata": {
    "scrolled": true
   }
  },
  {
   "cell_type": "code",
   "execution_count": 16,
   "source": [
    "@btime dot2(ones(10000),ones(10000))"
   ],
   "outputs": [
    {
     "output_type": "stream",
     "name": "stdout",
     "text": [
      "  11.090 μs (4 allocations: 156.34 KiB)\n"
     ]
    },
    {
     "output_type": "execute_result",
     "data": {
      "text/plain": [
       "10000.0"
      ]
     },
     "metadata": {},
     "execution_count": 16
    }
   ],
   "metadata": {
    "scrolled": true
   }
  },
  {
   "cell_type": "markdown",
   "source": [
    "### Modern design"
   ],
   "metadata": {}
  },
  {
   "cell_type": "code",
   "execution_count": 17,
   "source": [
    "##Multiple dispatch\n",
    "f(x::Int64) = println(\"This must be some integer\");\n",
    "f(x::Float64) = println(\"This must be a float\");"
   ],
   "outputs": [],
   "metadata": {}
  },
  {
   "cell_type": "code",
   "execution_count": 18,
   "source": [
    "f(3)\n",
    "f(3.14)"
   ],
   "outputs": [
    {
     "output_type": "stream",
     "name": "stdout",
     "text": [
      "This must be some integer\n",
      "This must be a float\n"
     ]
    }
   ],
   "metadata": {
    "scrolled": true
   }
  },
  {
   "cell_type": "code",
   "execution_count": 19,
   "source": [
    "##Unicode support\n",
    "#\\pi + TAB\n",
    "println(π)\n",
    "#\\infty + TAB\n",
    "println(\"∞\")\n",
    "#\\:cat: + TAB\n",
    "print(\"🐱\")"
   ],
   "outputs": [
    {
     "output_type": "stream",
     "name": "stdout",
     "text": [
      "π\n",
      "∞\n",
      "🐱"
     ]
    }
   ],
   "metadata": {
    "scrolled": true
   }
  },
  {
   "cell_type": "code",
   "execution_count": 20,
   "source": [
    "🍣 = 2; 🎅 = 4\n",
    "🎅*🍣"
   ],
   "outputs": [
    {
     "output_type": "execute_result",
     "data": {
      "text/plain": [
       "8"
      ]
     },
     "metadata": {},
     "execution_count": 20
    }
   ],
   "metadata": {}
  },
  {
   "cell_type": "code",
   "execution_count": 21,
   "source": [
    "#What was first egg or chicken?\n",
    "'🍳'< '🐔'"
   ],
   "outputs": [
    {
     "output_type": "execute_result",
     "data": {
      "text/plain": [
       "true"
      ]
     },
     "metadata": {},
     "execution_count": 21
    }
   ],
   "metadata": {}
  },
  {
   "cell_type": "code",
   "execution_count": 22,
   "source": [
    "log(exp(π^(1/π)))"
   ],
   "outputs": [
    {
     "output_type": "execute_result",
     "data": {
      "text/plain": [
       "1.4396194958475907"
      ]
     },
     "metadata": {},
     "execution_count": 22
    }
   ],
   "metadata": {}
  },
  {
   "cell_type": "markdown",
   "source": [
    "## Julia basics"
   ],
   "metadata": {}
  },
  {
   "cell_type": "markdown",
   "source": [
    "Running julia invokes an interactive (REPL)mode. In thismode some useful commands are:\n",
    "\n",
    "1. ^D (exits Julia);\n",
    "\n",
    "2. ^C (interrupts computations);\n",
    "\n",
    "3. ? (enters help mode);\n",
    "\n",
    "4. ; (enters system shell mode);\n",
    "\n",
    "5. ] (enters package managermode);\n",
    "\n",
    "6. Ctrl-l clears screen;\n",
    "\n",
    "7. putting ; after the expression will disable showing its value in REPL (not needed in scripts)."
   ],
   "metadata": {}
  },
  {
   "cell_type": "code",
   "execution_count": 23,
   "source": [
    "?println #no such function, but there are other similar"
   ],
   "outputs": [
    {
     "output_type": "stream",
     "name": "stdout",
     "text": [
      "search: \u001b[0m\u001b[1mp\u001b[22m\u001b[0m\u001b[1mr\u001b[22m\u001b[0m\u001b[1mi\u001b[22m\u001b[0m\u001b[1mn\u001b[22m\u001b[0m\u001b[1mt\u001b[22m\u001b[0m\u001b[1ml\u001b[22m\u001b[0m\u001b[1mn\u001b[22m \u001b[0m\u001b[1mp\u001b[22m\u001b[0m\u001b[1mr\u001b[22m\u001b[0m\u001b[1mi\u001b[22m\u001b[0m\u001b[1mn\u001b[22m\u001b[0m\u001b[1mt\u001b[22msty\u001b[0m\u001b[1ml\u001b[22med \u001b[0m\u001b[1mp\u001b[22m\u001b[0m\u001b[1mr\u001b[22m\u001b[0m\u001b[1mi\u001b[22m\u001b[0m\u001b[1mn\u001b[22m\u001b[0m\u001b[1mt\u001b[22m s\u001b[0m\u001b[1mp\u001b[22m\u001b[0m\u001b[1mr\u001b[22m\u001b[0m\u001b[1mi\u001b[22m\u001b[0m\u001b[1mn\u001b[22m\u001b[0m\u001b[1mt\u001b[22m is\u001b[0m\u001b[1mp\u001b[22m\u001b[0m\u001b[1mr\u001b[22m\u001b[0m\u001b[1mi\u001b[22m\u001b[0m\u001b[1mn\u001b[22m\u001b[0m\u001b[1mt\u001b[22m\n",
      "\n"
     ]
    },
    {
     "output_type": "execute_result",
     "data": {
      "text/latex": [
       "\\begin{verbatim}\n",
       "println([io::IO], xs...)\n",
       "\\end{verbatim}\n",
       "Print (using \\href{@ref}{\\texttt{print}}) \\texttt{xs} followed by a newline. If \\texttt{io} is not supplied, prints to \\href{@ref}{\\texttt{stdout}}.\n",
       "\n",
       "\\section{Examples}\n",
       "\\begin{verbatim}\n",
       "julia> println(\"Hello, world\")\n",
       "Hello, world\n",
       "\n",
       "julia> io = IOBuffer();\n",
       "\n",
       "julia> println(io, \"Hello\", ',', \" world.\")\n",
       "\n",
       "julia> String(take!(io))\n",
       "\"Hello, world.\\n\"\n",
       "\\end{verbatim}\n"
      ],
      "text/markdown": [
       "```\n",
       "println([io::IO], xs...)\n",
       "```\n",
       "\n",
       "Print (using [`print`](@ref)) `xs` followed by a newline. If `io` is not supplied, prints to [`stdout`](@ref).\n",
       "\n",
       "# Examples\n",
       "\n",
       "```jldoctest\n",
       "julia> println(\"Hello, world\")\n",
       "Hello, world\n",
       "\n",
       "julia> io = IOBuffer();\n",
       "\n",
       "julia> println(io, \"Hello\", ',', \" world.\")\n",
       "\n",
       "julia> String(take!(io))\n",
       "\"Hello, world.\\n\"\n",
       "```\n"
      ],
      "text/plain": [
       "\u001b[36m  println([io::IO], xs...)\u001b[39m\n",
       "\n",
       "  Print (using \u001b[36mprint\u001b[39m) \u001b[36mxs\u001b[39m followed by a newline. If \u001b[36mio\u001b[39m is not supplied, prints\n",
       "  to \u001b[36mstdout\u001b[39m.\n",
       "\n",
       "\u001b[1m  Examples\u001b[22m\n",
       "\u001b[1m  ≡≡≡≡≡≡≡≡≡≡\u001b[22m\n",
       "\n",
       "\u001b[36m  julia> println(\"Hello, world\")\u001b[39m\n",
       "\u001b[36m  Hello, world\u001b[39m\n",
       "\u001b[36m  \u001b[39m\n",
       "\u001b[36m  julia> io = IOBuffer();\u001b[39m\n",
       "\u001b[36m  \u001b[39m\n",
       "\u001b[36m  julia> println(io, \"Hello\", ',', \" world.\")\u001b[39m\n",
       "\u001b[36m  \u001b[39m\n",
       "\u001b[36m  julia> String(take!(io))\u001b[39m\n",
       "\u001b[36m  \"Hello, world.\\n\"\u001b[39m"
      ]
     },
     "metadata": {},
     "execution_count": 23
    }
   ],
   "metadata": {}
  },
  {
   "cell_type": "code",
   "execution_count": 24,
   "source": [
    "?length"
   ],
   "outputs": [
    {
     "output_type": "stream",
     "name": "stdout",
     "text": [
      "search: \u001b[0m\u001b[1ml\u001b[22m\u001b[0m\u001b[1me\u001b[22m\u001b[0m\u001b[1mn\u001b[22m\u001b[0m\u001b[1mg\u001b[22m\u001b[0m\u001b[1mt\u001b[22m\u001b[0m\u001b[1mh\u001b[22m\n",
      "\n"
     ]
    },
    {
     "output_type": "execute_result",
     "data": {
      "text/latex": [
       "\\begin{verbatim}\n",
       "length(collection) -> Integer\n",
       "\\end{verbatim}\n",
       "Return the number of elements in the collection.\n",
       "\n",
       "Use \\href{@ref}{\\texttt{lastindex}} to get the last valid index of an indexable collection.\n",
       "\n",
       "See also: \\href{@ref}{\\texttt{size}}, \\href{@ref}{\\texttt{ndims}}, \\href{@ref}{\\texttt{eachindex}}.\n",
       "\n",
       "\\section{Examples}\n",
       "\\begin{verbatim}\n",
       "julia> length(1:5)\n",
       "5\n",
       "\n",
       "julia> length([1, 2, 3, 4])\n",
       "4\n",
       "\n",
       "julia> length([1 2; 3 4])\n",
       "4\n",
       "\\end{verbatim}\n",
       "\\rule{\\textwidth}{1pt}\n",
       "\\begin{verbatim}\n",
       "length(A::AbstractArray)\n",
       "\\end{verbatim}\n",
       "Return the number of elements in the array, defaults to \\texttt{prod(size(A))}.\n",
       "\n",
       "\\section{Examples}\n",
       "\\begin{verbatim}\n",
       "julia> length([1, 2, 3, 4])\n",
       "4\n",
       "\n",
       "julia> length([1 2; 3 4])\n",
       "4\n",
       "\\end{verbatim}\n",
       "\\rule{\\textwidth}{1pt}\n",
       "\\begin{verbatim}\n",
       "length(s::AbstractString) -> Int\n",
       "length(s::AbstractString, i::Integer, j::Integer) -> Int\n",
       "\\end{verbatim}\n",
       "Return the number of characters in string \\texttt{s} from indices \\texttt{i} through \\texttt{j}.\n",
       "\n",
       "This is computed as the number of code unit indices from \\texttt{i} to \\texttt{j} which are valid character indices. With only a single string argument, this computes the number of characters in the entire string. With \\texttt{i} and \\texttt{j} arguments it computes the number of indices between \\texttt{i} and \\texttt{j} inclusive that are valid indices in the string \\texttt{s}. In addition to in-bounds values, \\texttt{i} may take the out-of-bounds value \\texttt{ncodeunits(s) + 1} and \\texttt{j} may take the out-of-bounds value \\texttt{0}.\n",
       "\n",
       "\\begin{quote}\n",
       "\\textbf{note}\n",
       "\n",
       "Note\n",
       "\n",
       "The time complexity of this operation is linear in general. That is, it will take the time proportional to the number of bytes or characters in the string because it counts the value on the fly. This is in contrast to the method for arrays, which is a constant-time operation.\n",
       "\n",
       "\\end{quote}\n",
       "See also \\href{@ref}{\\texttt{isvalid}}, \\href{@ref}{\\texttt{ncodeunits}}, \\href{@ref}{\\texttt{lastindex}}, \\href{@ref}{\\texttt{thisind}}, \\href{@ref}{\\texttt{nextind}}, \\href{@ref}{\\texttt{prevind}}.\n",
       "\n",
       "\\section{Examples}\n",
       "\\begin{verbatim}\n",
       "julia> length(\"jμΛIα\")\n",
       "5\n",
       "\\end{verbatim}\n"
      ],
      "text/markdown": [
       "```\n",
       "length(collection) -> Integer\n",
       "```\n",
       "\n",
       "Return the number of elements in the collection.\n",
       "\n",
       "Use [`lastindex`](@ref) to get the last valid index of an indexable collection.\n",
       "\n",
       "See also: [`size`](@ref), [`ndims`](@ref), [`eachindex`](@ref).\n",
       "\n",
       "# Examples\n",
       "\n",
       "```jldoctest\n",
       "julia> length(1:5)\n",
       "5\n",
       "\n",
       "julia> length([1, 2, 3, 4])\n",
       "4\n",
       "\n",
       "julia> length([1 2; 3 4])\n",
       "4\n",
       "```\n",
       "\n",
       "---\n",
       "\n",
       "```\n",
       "length(A::AbstractArray)\n",
       "```\n",
       "\n",
       "Return the number of elements in the array, defaults to `prod(size(A))`.\n",
       "\n",
       "# Examples\n",
       "\n",
       "```jldoctest\n",
       "julia> length([1, 2, 3, 4])\n",
       "4\n",
       "\n",
       "julia> length([1 2; 3 4])\n",
       "4\n",
       "```\n",
       "\n",
       "---\n",
       "\n",
       "```\n",
       "length(s::AbstractString) -> Int\n",
       "length(s::AbstractString, i::Integer, j::Integer) -> Int\n",
       "```\n",
       "\n",
       "Return the number of characters in string `s` from indices `i` through `j`.\n",
       "\n",
       "This is computed as the number of code unit indices from `i` to `j` which are valid character indices. With only a single string argument, this computes the number of characters in the entire string. With `i` and `j` arguments it computes the number of indices between `i` and `j` inclusive that are valid indices in the string `s`. In addition to in-bounds values, `i` may take the out-of-bounds value `ncodeunits(s) + 1` and `j` may take the out-of-bounds value `0`.\n",
       "\n",
       "!!! note\n",
       "    The time complexity of this operation is linear in general. That is, it will take the time proportional to the number of bytes or characters in the string because it counts the value on the fly. This is in contrast to the method for arrays, which is a constant-time operation.\n",
       "\n",
       "\n",
       "See also [`isvalid`](@ref), [`ncodeunits`](@ref), [`lastindex`](@ref), [`thisind`](@ref), [`nextind`](@ref), [`prevind`](@ref).\n",
       "\n",
       "# Examples\n",
       "\n",
       "```jldoctest\n",
       "julia> length(\"jμΛIα\")\n",
       "5\n",
       "```\n"
      ],
      "text/plain": [
       "\u001b[36m  length(collection) -> Integer\u001b[39m\n",
       "\n",
       "  Return the number of elements in the collection.\n",
       "\n",
       "  Use \u001b[36mlastindex\u001b[39m to get the last valid index of an indexable collection.\n",
       "\n",
       "  See also: \u001b[36msize\u001b[39m, \u001b[36mndims\u001b[39m, \u001b[36meachindex\u001b[39m.\n",
       "\n",
       "\u001b[1m  Examples\u001b[22m\n",
       "\u001b[1m  ≡≡≡≡≡≡≡≡≡≡\u001b[22m\n",
       "\n",
       "\u001b[36m  julia> length(1:5)\u001b[39m\n",
       "\u001b[36m  5\u001b[39m\n",
       "\u001b[36m  \u001b[39m\n",
       "\u001b[36m  julia> length([1, 2, 3, 4])\u001b[39m\n",
       "\u001b[36m  4\u001b[39m\n",
       "\u001b[36m  \u001b[39m\n",
       "\u001b[36m  julia> length([1 2; 3 4])\u001b[39m\n",
       "\u001b[36m  4\u001b[39m\n",
       "\n",
       "  ────────────────────────────────────────────────────────────────────────────\n",
       "\n",
       "\u001b[36m  length(A::AbstractArray)\u001b[39m\n",
       "\n",
       "  Return the number of elements in the array, defaults to \u001b[36mprod(size(A))\u001b[39m.\n",
       "\n",
       "\u001b[1m  Examples\u001b[22m\n",
       "\u001b[1m  ≡≡≡≡≡≡≡≡≡≡\u001b[22m\n",
       "\n",
       "\u001b[36m  julia> length([1, 2, 3, 4])\u001b[39m\n",
       "\u001b[36m  4\u001b[39m\n",
       "\u001b[36m  \u001b[39m\n",
       "\u001b[36m  julia> length([1 2; 3 4])\u001b[39m\n",
       "\u001b[36m  4\u001b[39m\n",
       "\n",
       "  ────────────────────────────────────────────────────────────────────────────\n",
       "\n",
       "\u001b[36m  length(s::AbstractString) -> Int\u001b[39m\n",
       "\u001b[36m  length(s::AbstractString, i::Integer, j::Integer) -> Int\u001b[39m\n",
       "\n",
       "  Return the number of characters in string \u001b[36ms\u001b[39m from indices \u001b[36mi\u001b[39m through \u001b[36mj\u001b[39m.\n",
       "\n",
       "  This is computed as the number of code unit indices from \u001b[36mi\u001b[39m to \u001b[36mj\u001b[39m which are\n",
       "  valid character indices. With only a single string argument, this computes\n",
       "  the number of characters in the entire string. With \u001b[36mi\u001b[39m and \u001b[36mj\u001b[39m arguments it\n",
       "  computes the number of indices between \u001b[36mi\u001b[39m and \u001b[36mj\u001b[39m inclusive that are valid\n",
       "  indices in the string \u001b[36ms\u001b[39m. In addition to in-bounds values, \u001b[36mi\u001b[39m may take the\n",
       "  out-of-bounds value \u001b[36mncodeunits(s) + 1\u001b[39m and \u001b[36mj\u001b[39m may take the out-of-bounds value\n",
       "  \u001b[36m0\u001b[39m.\n",
       "\n",
       "\u001b[36m\u001b[1m  │ \u001b[22m\u001b[39m\u001b[36m\u001b[1mNote\u001b[22m\u001b[39m\n",
       "\u001b[36m\u001b[1m  │\u001b[22m\u001b[39m\n",
       "\u001b[36m\u001b[1m  │\u001b[22m\u001b[39m  The time complexity of this operation is linear in general. That\n",
       "\u001b[36m\u001b[1m  │\u001b[22m\u001b[39m  is, it will take the time proportional to the number of bytes or\n",
       "\u001b[36m\u001b[1m  │\u001b[22m\u001b[39m  characters in the string because it counts the value on the fly.\n",
       "\u001b[36m\u001b[1m  │\u001b[22m\u001b[39m  This is in contrast to the method for arrays, which is a\n",
       "\u001b[36m\u001b[1m  │\u001b[22m\u001b[39m  constant-time operation.\n",
       "\n",
       "  See also \u001b[36misvalid\u001b[39m, \u001b[36mncodeunits\u001b[39m, \u001b[36mlastindex\u001b[39m, \u001b[36mthisind\u001b[39m, \u001b[36mnextind\u001b[39m, \u001b[36mprevind\u001b[39m.\n",
       "\n",
       "\u001b[1m  Examples\u001b[22m\n",
       "\u001b[1m  ≡≡≡≡≡≡≡≡≡≡\u001b[22m\n",
       "\n",
       "\u001b[36m  julia> length(\"jμΛIα\")\u001b[39m\n",
       "\u001b[36m  5\u001b[39m"
      ]
     },
     "metadata": {},
     "execution_count": 24
    }
   ],
   "metadata": {
    "scrolled": true
   }
  },
  {
   "cell_type": "markdown",
   "source": [
    "**working in shell**"
   ],
   "metadata": {}
  },
  {
   "cell_type": "code",
   "execution_count": 25,
   "source": [
    ";cd"
   ],
   "outputs": [
    {
     "output_type": "stream",
     "name": "stdout",
     "text": [
      "/home/vlad\n"
     ]
    }
   ],
   "metadata": {
    "scrolled": true
   }
  },
  {
   "cell_type": "markdown",
   "source": [
    "**Working with package manager**"
   ],
   "metadata": {}
  },
  {
   "cell_type": "code",
   "execution_count": 26,
   "source": [
    "] status"
   ],
   "outputs": [
    {
     "output_type": "stream",
     "name": "stdout",
     "text": [
      "\u001b[32m\u001b[1m      Status\u001b[22m\u001b[39m `~/.julia/environments/v1.7/Project.toml`\n",
      " \u001b[90m [6e4b80f9] \u001b[39mBenchmarkTools v1.2.0\n",
      " \u001b[90m [336ed68f] \u001b[39mCSV v0.9.6\n",
      " \u001b[90m [31c24e10] \u001b[39mDistributions v0.25.17\n",
      " \u001b[90m [587475ba] \u001b[39mFlux v0.12.7\n",
      " \u001b[90m [09f84164] \u001b[39mHypothesisTests v0.10.4\n",
      " \u001b[90m [7073ff75] \u001b[39mIJulia v1.23.2\n",
      " \u001b[90m [91a5bcdd] \u001b[39mPlots v1.22.3\n"
     ]
    }
   ],
   "metadata": {
    "scrolled": true
   }
  },
  {
   "cell_type": "markdown",
   "source": [
    "### Types"
   ],
   "metadata": {}
  },
  {
   "cell_type": "code",
   "execution_count": 27,
   "source": [
    "1::Int # 64 bit integer on 64 bit Julia\n",
    "1.0::Float64 # 64 bit float, defines NaN, -Inf, Inf\n",
    "true::Bool # boolean, allows \"true\" and \"false\"\n",
    "'c'::Char # character, allows Unicode\n",
    "\"s\"::AbstractString # strings, allows Unicode, consists of characters"
   ],
   "outputs": [
    {
     "output_type": "execute_result",
     "data": {
      "text/plain": [
       "\"s\""
      ]
     },
     "metadata": {},
     "execution_count": 27
    }
   ],
   "metadata": {
    "scrolled": true
   }
  },
  {
   "cell_type": "code",
   "execution_count": 28,
   "source": [
    "Char('🍣') #sushi is also a character"
   ],
   "outputs": [
    {
     "output_type": "execute_result",
     "data": {
      "text/plain": [
       "'🍣': Unicode U+1F363 (category So: Symbol, other)"
      ]
     },
     "metadata": {},
     "execution_count": 28
    }
   ],
   "metadata": {
    "scrolled": true
   }
  },
  {
   "cell_type": "code",
   "execution_count": 30,
   "source": [
    "Char(\"🍣\"[1])"
   ],
   "outputs": [
    {
     "output_type": "execute_result",
     "data": {
      "text/plain": [
       "'🍣': Unicode U+1F363 (category So: Symbol, other)"
      ]
     },
     "metadata": {},
     "execution_count": 30
    }
   ],
   "metadata": {}
  },
  {
   "cell_type": "code",
   "execution_count": 31,
   "source": [
    "println(Int('🍳'))\n",
    "println(Int('🐔'))\n",
    "println(Char(127859))"
   ],
   "outputs": [
    {
     "output_type": "stream",
     "name": "stdout",
     "text": [
      "127859\n",
      "128020\n",
      "🍳\n"
     ]
    }
   ],
   "metadata": {}
  },
  {
   "cell_type": "markdown",
   "source": [
    "More on strings and characters in Julia:\n",
    "https://docs.julialang.org/en/v1/manual/strings/"
   ],
   "metadata": {}
  },
  {
   "cell_type": "markdown",
   "source": [
    "**More on conversion**"
   ],
   "metadata": {}
  },
  {
   "cell_type": "code",
   "execution_count": 32,
   "source": [
    "Int64('a') # character to integer"
   ],
   "outputs": [
    {
     "output_type": "execute_result",
     "data": {
      "text/plain": [
       "97"
      ]
     },
     "metadata": {},
     "execution_count": 32
    }
   ],
   "metadata": {}
  },
  {
   "cell_type": "code",
   "execution_count": 33,
   "source": [
    "Int64(1.3) # inexact error"
   ],
   "outputs": [
    {
     "output_type": "error",
     "ename": "LoadError",
     "evalue": "InexactError: Int64(1.3)",
     "traceback": [
      "InexactError: Int64(1.3)",
      "",
      "Stacktrace:",
      " [1] Int64(x::Float64)",
      "   @ Base ./float.jl:812",
      " [2] top-level scope",
      "   @ In[33]:1",
      " [3] eval",
      "   @ ./boot.jl:373 [inlined]",
      " [4] include_string(mapexpr::typeof(REPL.softscope), mod::Module, code::String, filename::String)",
      "   @ Base ./loading.jl:1196"
     ]
    }
   ],
   "metadata": {}
  },
  {
   "cell_type": "code",
   "execution_count": null,
   "source": [
    "println(string(true))\n",
    "# string can take more than one argument and concatenate them\n",
    "println(string(1,true))"
   ],
   "outputs": [
    {
     "output_type": "stream",
     "name": "stdout",
     "text": [
      "true\n",
      "1true\n"
     ]
    }
   ],
   "metadata": {}
  },
  {
   "cell_type": "code",
   "execution_count": 34,
   "source": [
    "#General conversion can be done using convert(Type, x)\n",
    "convert(Int64, 1.0)"
   ],
   "outputs": [
    {
     "output_type": "execute_result",
     "data": {
      "text/plain": [
       "1"
      ]
     },
     "metadata": {},
     "execution_count": 34
    }
   ],
   "metadata": {}
  },
  {
   "cell_type": "code",
   "execution_count": 35,
   "source": [
    "subtypes(Real)"
   ],
   "outputs": [
    {
     "output_type": "execute_result",
     "data": {
      "text/plain": [
       "4-element Vector{Any}:\n",
       " AbstractFloat\n",
       " AbstractIrrational\n",
       " Integer\n",
       " Rational"
      ]
     },
     "metadata": {},
     "execution_count": 35
    }
   ],
   "metadata": {
    "scrolled": true
   }
  },
  {
   "cell_type": "markdown",
   "source": [
    "**Numeric types in Julia**\n",
    "\n",
    "<img src=\"https://upload.wikimedia.org/wikipedia/commons/d/d9/Julia-number-type-hierarchy.svg\" alt=\"Numeric types\" width=\"1000px\"> "
   ],
   "metadata": {}
  },
  {
   "cell_type": "code",
   "execution_count": 36,
   "source": [
    "#Macro to print results nicely\n",
    "macro print(func)\n",
    "    println(func,\" : \",eval(func))\n",
    "end"
   ],
   "outputs": [
    {
     "output_type": "execute_result",
     "data": {
      "text/plain": [
       "@print (macro with 1 method)"
      ]
     },
     "metadata": {},
     "execution_count": 36
    }
   ],
   "metadata": {}
  },
  {
   "cell_type": "code",
   "execution_count": 37,
   "source": [
    "@print isa(1, Float64) # false, integer is not a float\n",
    "@print isa(1.0, Float64) # true\n",
    "@print 1.0 isa Number # an alternative syntax; true, Number is abstract type\n",
    "@print supertype(Int64) # supertype of Int64\n",
    "@print subtypes(Real) # subtypes of abstract type Real"
   ],
   "outputs": [
    {
     "output_type": "stream",
     "name": "stdout",
     "text": [
      "1 isa Float64 : false\n",
      "1.0 isa Float64 : true\n",
      "1.0 isa Number : true\n",
      "supertype(Int64) : Signed\n",
      "subtypes(Real) : Any[AbstractFloat, AbstractIrrational, Integer, Rational]\n"
     ]
    }
   ],
   "metadata": {}
  },
  {
   "cell_type": "code",
   "execution_count": 38,
   "source": [
    "@print 1 + 1im # a complex number\n",
    "@print 123//456 # rational numbers are created using // operator"
   ],
   "outputs": [
    {
     "output_type": "stream",
     "name": "stdout",
     "text": [
      "1 + 1im : 1 + 1im\n",
      "123 // 456 : 41//152\n"
     ]
    }
   ],
   "metadata": {}
  },
  {
   "cell_type": "markdown",
   "source": [
    "**Special types**"
   ],
   "metadata": {}
  },
  {
   "cell_type": "code",
   "execution_count": 39,
   "source": [
    "@print Any # all objects are of this type\n",
    "@print Union{} # subtype of all types, no object can have this type\n",
    "@print Nothing # type indicating nothing (absence of a value), a subtype of Any\n",
    "show(nothing) # only instance of Nothing\n",
    "println()\n",
    "@print Missing # type indicating missing value (a value exists but is unknown), a subtype of Any\n",
    "@print missing # only instance of Missing"
   ],
   "outputs": [
    {
     "output_type": "stream",
     "name": "stdout",
     "text": [
      "Any : Any\n",
      "Union{} : Union{}\n",
      "Nothing : Nothing\n",
      "nothing\n",
      "Missing : Missing\n",
      "missing : missing\n"
     ]
    }
   ],
   "metadata": {}
  },
  {
   "cell_type": "code",
   "execution_count": 40,
   "source": [
    "isa('🍍',Any)"
   ],
   "outputs": [
    {
     "output_type": "execute_result",
     "data": {
      "text/plain": [
       "true"
      ]
     },
     "metadata": {},
     "execution_count": 40
    }
   ],
   "metadata": {
    "scrolled": true
   }
  },
  {
   "cell_type": "code",
   "execution_count": 41,
   "source": [
    "isa.([4,3.14,\"ala\"],Union{Int,Float64}) #. (dot) is a broadcast operator explained later"
   ],
   "outputs": [
    {
     "output_type": "execute_result",
     "data": {
      "text/plain": [
       "3-element BitVector:\n",
       " 1\n",
       " 1\n",
       " 0"
      ]
     },
     "metadata": {},
     "execution_count": 41
    }
   ],
   "metadata": {
    "scrolled": true
   }
  },
  {
   "cell_type": "markdown",
   "source": [
    "**Tuples and named tuples**"
   ],
   "metadata": {}
  },
  {
   "cell_type": "code",
   "execution_count": 42,
   "source": [
    "print((),\" \",typeof(())) # empty tuple"
   ],
   "outputs": [
    {
     "output_type": "stream",
     "name": "stdout",
     "text": [
      "() Tuple{}"
     ]
    }
   ],
   "metadata": {}
  },
  {
   "cell_type": "code",
   "execution_count": 43,
   "source": [
    "println((1,)) #one element tuple\n",
    "println((\"ZMS\",3))\n",
    "x = (1, 2, 3)\n",
    "print(x[1])\n",
    "x[1]=1 #immutable"
   ],
   "outputs": [
    {
     "output_type": "stream",
     "name": "stdout",
     "text": [
      "(1,)\n",
      "(\"ZMS\", 3)\n",
      "1"
     ]
    },
    {
     "output_type": "error",
     "ename": "LoadError",
     "evalue": "MethodError: no method matching setindex!(::Tuple{Int64, Int64, Int64}, ::Int64, ::Int64)",
     "traceback": [
      "MethodError: no method matching setindex!(::Tuple{Int64, Int64, Int64}, ::Int64, ::Int64)",
      "",
      "Stacktrace:",
      " [1] top-level scope",
      "   @ In[43]:5",
      " [2] eval",
      "   @ ./boot.jl:373 [inlined]",
      " [3] include_string(mapexpr::typeof(REPL.softscope), mod::Module, code::String, filename::String)",
      "   @ Base ./loading.jl:1196"
     ]
    }
   ],
   "metadata": {
    "scrolled": true
   }
  },
  {
   "cell_type": "code",
   "execution_count": null,
   "source": [
    "#Unpacking (partial)\n",
    "a,b=x\n",
    "print(\"a is \",a,\" and b is \",b)"
   ],
   "outputs": [
    {
     "output_type": "stream",
     "name": "stdout",
     "text": [
      "a is 1 and b is 2"
     ]
    }
   ],
   "metadata": {}
  },
  {
   "cell_type": "code",
   "execution_count": null,
   "source": [
    "#Named tuple\n",
    "x2=(course=\"ZMS\",average_grade=3)\n",
    "println(x2)\n",
    "print(x2.average_grade)"
   ],
   "outputs": [
    {
     "output_type": "stream",
     "name": "stdout",
     "text": [
      "(course = \"ZMS\", average_grade = 3)\n",
      "3"
     ]
    }
   ],
   "metadata": {
    "scrolled": true
   }
  },
  {
   "cell_type": "markdown",
   "source": [
    "**Arrays**"
   ],
   "metadata": {}
  },
  {
   "cell_type": "code",
   "execution_count": null,
   "source": [
    "#Array of Ints (undefined) - random numbers\n",
    "Array{Int}(undef, 2, 3)"
   ],
   "outputs": [
    {
     "output_type": "execute_result",
     "data": {
      "text/plain": [
       "2×3 Matrix{Int64}:\n",
       " 21474836483  51539607562  4294967313\n",
       " 17179869190  47244640269       29650"
      ]
     },
     "metadata": {},
     "execution_count": 91
    }
   ],
   "metadata": {
    "scrolled": true
   }
  },
  {
   "cell_type": "code",
   "execution_count": null,
   "source": [
    "@print zeros(5)\n",
    "@print ones(5)\n",
    "@print ones(Int64, 2, 2)"
   ],
   "outputs": [
    {
     "output_type": "stream",
     "name": "stdout",
     "text": [
      "zeros(5) : [0.0, 0.0, 0.0, 0.0, 0.0]\n",
      "ones(5) : [1.0, 1.0, 1.0, 1.0, 1.0]\n",
      "ones(Int64, 2, 2) : [1 1; 1 1]\n"
     ]
    }
   ],
   "metadata": {
    "scrolled": true
   }
  },
  {
   "cell_type": "code",
   "execution_count": 44,
   "source": [
    "ones(Int64, 2, 2)"
   ],
   "outputs": [
    {
     "output_type": "execute_result",
     "data": {
      "text/plain": [
       "2×2 Matrix{Int64}:\n",
       " 1  1\n",
       " 1  1"
      ]
     },
     "metadata": {},
     "execution_count": 44
    }
   ],
   "metadata": {
    "scrolled": true
   }
  },
  {
   "cell_type": "code",
   "execution_count": 45,
   "source": [
    "@print 1:10\n",
    "@print collect(1:10)"
   ],
   "outputs": [
    {
     "output_type": "stream",
     "name": "stdout",
     "text": [
      "1:10 : 1:10\n",
      "collect(1:10) : [1, 2, 3, 4, 5, 6, 7, 8, 9, 10]\n"
     ]
    }
   ],
   "metadata": {
    "scrolled": true
   }
  },
  {
   "cell_type": "code",
   "execution_count": 46,
   "source": [
    "#Vectors (1-dim arrays)\n",
    "# a vector with one element (not a scalar)\n",
    "[1]"
   ],
   "outputs": [
    {
     "output_type": "execute_result",
     "data": {
      "text/plain": [
       "1-element Vector{Int64}:\n",
       " 1"
      ]
     },
     "metadata": {},
     "execution_count": 46
    }
   ],
   "metadata": {}
  },
  {
   "cell_type": "code",
   "execution_count": 47,
   "source": [
    "# a comprehension generating 2x3 array - similar to Python\n",
    "[x * y for x in 1:2, y in 1:3]"
   ],
   "outputs": [
    {
     "output_type": "execute_result",
     "data": {
      "text/plain": [
       "2×3 Matrix{Int64}:\n",
       " 1  2  3\n",
       " 2  4  6"
      ]
     },
     "metadata": {},
     "execution_count": 47
    }
   ],
   "metadata": {
    "scrolled": true
   }
  },
  {
   "cell_type": "code",
   "execution_count": 48,
   "source": [
    "#This is 1x2 matrix\n",
    "[1 2]"
   ],
   "outputs": [
    {
     "output_type": "execute_result",
     "data": {
      "text/plain": [
       "1×2 Matrix{Int64}:\n",
       " 1  2"
      ]
     },
     "metadata": {},
     "execution_count": 48
    }
   ],
   "metadata": {
    "scrolled": true
   }
  },
  {
   "cell_type": "code",
   "execution_count": 49,
   "source": [
    "#This is 2-element vector\n",
    "[1, 2] #[1;2]"
   ],
   "outputs": [
    {
     "output_type": "execute_result",
     "data": {
      "text/plain": [
       "2-element Vector{Int64}:\n",
       " 1\n",
       " 2"
      ]
     },
     "metadata": {},
     "execution_count": 49
    }
   ],
   "metadata": {
    "scrolled": true
   }
  },
  {
   "cell_type": "code",
   "execution_count": 50,
   "source": [
    "#Arrays utility functions\n",
    "a = [x * y for x in 1:2, y in 1:4, z in 1:3];\n",
    "@print ndims(a) # number of dimensions in a\n",
    "@print eltype(a) # type of elements in a\n",
    "@print length(a) # number of elements in a\n",
    "@print size(a) # a tuple containing dimension sizes of a\n",
    "@print vec(a) # cast an array to vector (single dimension)"
   ],
   "outputs": [
    {
     "output_type": "stream",
     "name": "stdout",
     "text": [
      "ndims(a) : 3\n",
      "eltype(a) : Int64\n",
      "length(a) : 24\n",
      "size(a) : (2, 4, 3)\n",
      "vec(a) : [1, 2, 2, 4, 3, 6, 4, 8, 1, 2, 2, 4, 3, 6, 4, 8, 1, 2, 2, 4, 3, 6, 4, 8]\n"
     ]
    }
   ],
   "metadata": {
    "scrolled": true
   }
  },
  {
   "cell_type": "code",
   "execution_count": 51,
   "source": [
    "a = 0:0.01:1 # range with step 0.01\n",
    "@print a[1] # get scalar 0.0\n",
    "@print a[end] # get scalar 1.0 (last position)\n",
    "@print a[1:2:end] # every second element from range - collect() to get vector\n",
    "@print a[[1, 3, 6]] # 1st, 3rd and 6th element of a, Array{Float64,1}\n",
    "@print lastindex(a) # last index of the collection a; similarly firstindex"
   ],
   "outputs": [
    {
     "output_type": "stream",
     "name": "stdout",
     "text": [
      "a[1] : 0.0\n",
      "a[end] : 1.0\n",
      "a[1:2:end] : 0.0:0.02:1.0\n",
      "a[[1, 3, 6]] : [0.0, 0.02, 0.05]\n",
      "lastindex(a) : 101\n"
     ]
    }
   ],
   "metadata": {
    "scrolled": true
   }
  },
  {
   "cell_type": "code",
   "execution_count": 52,
   "source": [
    "#Passing by reference and copies\n",
    "x = Array{Any}(undef, 2)\n",
    "x[1] = ones(2)\n",
    "x[2] = trues(3)\n",
    "@print x\n",
    "a = x\n",
    "b = copy(x) # shallow copy\n",
    "c = deepcopy(x) # deep copy\n",
    "x[1] = \"Big\"\n",
    "x[2][1] = false\n",
    "@print a # identical as x\n",
    "@print b # subobjects still changed (shallow copy)\n",
    "@print c #totally separate object"
   ],
   "outputs": [
    {
     "output_type": "stream",
     "name": "stdout",
     "text": [
      "x : Any[[1.0, 1.0], Bool[1, 1, 1]]\n",
      "a : Any[\"Big\", Bool[0, 1, 1]]\n",
      "b : Any[[1.0, 1.0], Bool[0, 1, 1]]\n",
      "c : Any[[1.0, 1.0], Bool[1, 1, 1]]\n"
     ]
    }
   ],
   "metadata": {
    "scrolled": true
   }
  },
  {
   "cell_type": "markdown",
   "source": [
    "**Dictionaries**"
   ],
   "metadata": {}
  },
  {
   "cell_type": "code",
   "execution_count": 53,
   "source": [
    "x = Dict{Float64, Int64}() # an empty dictionary mapping floats to integers\n",
    "y = Dict(\"a\"=>1, \"b\"=>2) # a filled dictionary\n",
    "@print y[\"a\"] # element retrieval\n",
    "y[\"c\"] = 3 # added element\n",
    "@print haskey(y, \"b\") # check if y contains key \"b\"\n",
    "@print keys(y), values(y) # tuple of collections returning keys and values in y\n",
    "delete!(y, \"b\") # delete a key from a collection, see also: pop!\n",
    "@print get(y,\"b\",\"default\") # return y[\"c\"] or \"default\" if not haskey(y,\"c\")"
   ],
   "outputs": [
    {
     "output_type": "stream",
     "name": "stdout",
     "text": [
      "y[\"a\"] : 1\n",
      "haskey(y, \"b\") : true\n",
      "(keys(y), values(y)) : ([\"c\", \"b\", \"a\"], [3, 2, 1])\n",
      "get(y, \"b\", \"default\") : default\n"
     ]
    }
   ],
   "metadata": {
    "scrolled": true
   }
  },
  {
   "cell_type": "markdown",
   "source": [
    "**String operations**"
   ],
   "metadata": {}
  },
  {
   "cell_type": "code",
   "execution_count": 54,
   "source": [
    "@print \"Hi \" * \"there!\" # string concatenation\n",
    "@print \"Ho \" ^ 3 # repeat string\n",
    "@print string(\"a = \", 123.3) # create using print function\n",
    "@print occursin(\"CD\", \"ABCD\") # check if first string contains second\n",
    "println(\"\\\"\\n\\t\\$\") # C-like escaping in strings, new \\$ escape\n",
    "x = 123\n",
    "println(\"$x + 3 = $(x+3)\") # unescaped $ is used for interpolation\n",
    "println(\"\\$199\") # to get a $ symbol you must escape it\n",
    "println(raw\"D:\\path\") # a raw string literal; useful for paths under Windows"
   ],
   "outputs": [
    {
     "output_type": "stream",
     "name": "stdout",
     "text": [
      "\"Hi \" * \"there!\" : Hi there!\n",
      "\"Ho \" ^ 3 : Ho Ho Ho \n",
      "string(\"a = \", 123.3) : a = 123.3\n",
      "occursin(\"CD\", \"ABCD\") : true\n",
      "\"\n",
      "\t$\n",
      "123 + 3 = 126\n",
      "$199\n",
      "D:\\path\n"
     ]
    }
   ],
   "metadata": {}
  },
  {
   "cell_type": "markdown",
   "source": [
    "**Programming Constructs**"
   ],
   "metadata": {}
  },
  {
   "cell_type": "code",
   "execution_count": 55,
   "source": [
    "#Compund expressions\n",
    "x = (a = 1; 2 * a) # after: x = 2; a = 1\n",
    "y = begin\n",
    "    b = 3\n",
    "    3 * b\n",
    "end # after: y = 9; b = 3\n",
    "@print x\n",
    "@print a\n",
    "@print y\n",
    "@print b"
   ],
   "outputs": [
    {
     "output_type": "stream",
     "name": "stdout",
     "text": [
      "x : 2\n",
      "a : 1\n",
      "y : 9\n",
      "b : 3\n"
     ]
    }
   ],
   "metadata": {
    "scrolled": true
   }
  },
  {
   "cell_type": "code",
   "execution_count": 56,
   "source": [
    "if false # if clause requires Bool test\n",
    "    z = 1\n",
    "elseif 1 == 2\n",
    "    z = 2\n",
    "else\n",
    "    a = 3\n",
    "end # after this a = 3 and z is undefined\n",
    "@print a\n",
    "@print z"
   ],
   "outputs": [
    {
     "output_type": "stream",
     "name": "stdout",
     "text": [
      "a : 3\n"
     ]
    },
    {
     "output_type": "error",
     "ename": "LoadError",
     "evalue": "LoadError: UndefVarError: z not defined\nin expression starting at In[56]:9",
     "traceback": [
      "LoadError: UndefVarError: z not defined\nin expression starting at In[56]:9",
      "",
      "Stacktrace:",
      " [1] top-level scope",
      "   @ :0",
      " [2] eval",
      "   @ ./boot.jl:373 [inlined]",
      " [3] eval(x::Symbol)",
      "   @ Base.MainInclude ./client.jl:453",
      " [4] var\"@print\"(__source__::LineNumberNode, __module__::Module, func::Any)",
      "   @ Main ./In[36]:3",
      " [5] eval",
      "   @ ./boot.jl:373 [inlined]",
      " [6] include_string(mapexpr::typeof(REPL.softscope), mod::Module, code::String, filename::String)",
      "   @ Base ./loading.jl:1196"
     ]
    }
   ],
   "metadata": {}
  },
  {
   "cell_type": "code",
   "execution_count": null,
   "source": [
    "1==2 ? \"A\" : \"B\" # standard ternary operator\n",
    "#condition ? if_true : if_false"
   ],
   "outputs": [
    {
     "output_type": "execute_result",
     "data": {
      "text/plain": [
       "\"B\""
      ]
     },
     "metadata": {},
     "execution_count": 106
    }
   ],
   "metadata": {
    "scrolled": true
   }
  },
  {
   "cell_type": "code",
   "execution_count": null,
   "source": [
    "#for loop\n",
    "for x in 1:10 # x in collection, can also use = here instead of in\n",
    "    if 1 < x < 10\n",
    "        continue # skip one iteration\n",
    "    end\n",
    "    println(x)\n",
    "end"
   ],
   "outputs": [
    {
     "output_type": "stream",
     "name": "stdout",
     "text": [
      "1\n",
      "10\n"
     ]
    }
   ],
   "metadata": {}
  },
  {
   "cell_type": "code",
   "execution_count": null,
   "source": [
    "function f1(x, y=10) # f(x, y = 10) = x + y\n",
    "    x + y \n",
    "end\n",
    "@print f1(3,2)\n",
    "@print f1(3)"
   ],
   "outputs": [
    {
     "output_type": "stream",
     "name": "stdout",
     "text": [
      "f1(3, 2) : 5\n",
      "f1(3) : 13\n"
     ]
    }
   ],
   "metadata": {}
  },
  {
   "cell_type": "code",
   "execution_count": null,
   "source": [
    "(x -> x^2)(3) # an anonymous function with a call example (lambda in Python)"
   ],
   "outputs": [
    {
     "output_type": "execute_result",
     "data": {
      "text/plain": [
       "9"
      ]
     },
     "metadata": {},
     "execution_count": 109
    }
   ],
   "metadata": {
    "scrolled": true
   }
  },
  {
   "cell_type": "code",
   "execution_count": null,
   "source": [
    "#Multiple methods/ multiple disptach\n",
    "methods(f)"
   ],
   "outputs": [
    {
     "output_type": "execute_result",
     "data": {
      "text/html": [
       "# 2 methods for generic function <b>f</b>:<ul><li> f(x::<b>Int64</b>) in Main at In[61]:2</li> <li> f(x::<b>Float64</b>) in Main at In[61]:3</li> </ul>"
      ],
      "text/plain": [
       "# 2 methods for generic function \"f\":\n",
       "[1] f(x::Int64) in Main at In[61]:2\n",
       "[2] f(x::Float64) in Main at In[61]:3"
      ]
     },
     "metadata": {},
     "execution_count": 110
    }
   ],
   "metadata": {
    "scrolled": true
   }
  },
  {
   "cell_type": "markdown",
   "source": [
    "**Broadcast operator**"
   ],
   "metadata": {}
  },
  {
   "cell_type": "code",
   "execution_count": null,
   "source": [
    "@print true || false # binary or operator (singletons only), || and && use short-circut evaluation\n",
    "@print 1 < 2 < 3 # chaining conditions is OK (singletons only without .)\n",
    "@print [1 2] .< [2 1] # for vectorized operators need to add '.' in front"
   ],
   "outputs": [
    {
     "output_type": "stream",
     "name": "stdout",
     "text": [
      "true || false : true\n",
      "1 < 2 < 3 : true\n",
      "[1 2] .< [2 1] : Bool[1 0]\n"
     ]
    }
   ],
   "metadata": {
    "scrolled": true
   }
  },
  {
   "cell_type": "code",
   "execution_count": null,
   "source": [
    "x = [1 2 3]\n",
    "# multiplication can be omitted between a literal and a variable or a left parenthesis\n",
    "@print 2x + 2(x .+ 1)\n",
    "y = [1, 2, 3]\n",
    "@print x .+ y # a 3x3 matrix, dimension broadcasting\n",
    "@print x + y' # a 1x3 matrix\n",
    "@print x * y # array multiplication, a 1-element vector (not scalar)\n",
    "@print x .* y # element-wise multiplication, a 3x3 array"
   ],
   "outputs": [
    {
     "output_type": "stream",
     "name": "stdout",
     "text": [
      "2x + 2 * (x .+ 1) : [6 10 14]\n",
      "x .+ y : [2 3 4; 3 4 5; 4 5 6]\n",
      "x + y' : [2 4 6]\n",
      "x * y : [14]\n",
      "x .* y : [1 2 3; 2 4 6; 3 6 9]\n"
     ]
    }
   ],
   "metadata": {
    "scrolled": true
   }
  },
  {
   "cell_type": "code",
   "execution_count": 57,
   "source": [
    "x .+ y"
   ],
   "outputs": [
    {
     "output_type": "execute_result",
     "data": {
      "text/plain": [
       "11"
      ]
     },
     "metadata": {},
     "execution_count": 57
    }
   ],
   "metadata": {
    "scrolled": true
   }
  },
  {
   "cell_type": "code",
   "execution_count": 58,
   "source": [
    "@print x == [1 2 3] # true, object looks the same, by value\n",
    "@print x === [1 2 3] # false, objects not identical, by reference"
   ],
   "outputs": [
    {
     "output_type": "stream",
     "name": "stdout",
     "text": [
      "x == [1 2 3] : false\n",
      "x === [1 2 3] : false\n"
     ]
    }
   ],
   "metadata": {}
  },
  {
   "cell_type": "code",
   "execution_count": 59,
   "source": [
    "pointer(x)"
   ],
   "outputs": [
    {
     "output_type": "error",
     "ename": "LoadError",
     "evalue": "MethodError: no method matching pointer(::Int64)\n\u001b[0mClosest candidates are:\n\u001b[0m  pointer(\u001b[91m::SuiteSparse.CHOLMOD.Dense{Tv}\u001b[39m) where Tv at /buildworker/worker/package_linux64/build/usr/share/julia/stdlib/v1.7/SuiteSparse/src/cholmod.jl:358\n\u001b[0m  pointer(\u001b[91m::Random.UnsafeView\u001b[39m) at /buildworker/worker/package_linux64/build/usr/share/julia/stdlib/v1.7/Random/src/RNGs.jl:501\n\u001b[0m  pointer(\u001b[91m::PermutedDimsArray\u001b[39m, \u001b[91m::Integer\u001b[39m) at permuteddimsarray.jl:61\n\u001b[0m  ...",
     "traceback": [
      "MethodError: no method matching pointer(::Int64)\n\u001b[0mClosest candidates are:\n\u001b[0m  pointer(\u001b[91m::SuiteSparse.CHOLMOD.Dense{Tv}\u001b[39m) where Tv at /buildworker/worker/package_linux64/build/usr/share/julia/stdlib/v1.7/SuiteSparse/src/cholmod.jl:358\n\u001b[0m  pointer(\u001b[91m::Random.UnsafeView\u001b[39m) at /buildworker/worker/package_linux64/build/usr/share/julia/stdlib/v1.7/Random/src/RNGs.jl:501\n\u001b[0m  pointer(\u001b[91m::PermutedDimsArray\u001b[39m, \u001b[91m::Integer\u001b[39m) at permuteddimsarray.jl:61\n\u001b[0m  ...",
      "",
      "Stacktrace:",
      " [1] top-level scope",
      "   @ In[59]:1",
      " [2] eval",
      "   @ ./boot.jl:373 [inlined]",
      " [3] include_string(mapexpr::typeof(REPL.softscope), mod::Module, code::String, filename::String)",
      "   @ Base ./loading.jl:1196"
     ]
    }
   ],
   "metadata": {}
  },
  {
   "cell_type": "code",
   "execution_count": 60,
   "source": [
    "pointer([1 2 3])"
   ],
   "outputs": [
    {
     "output_type": "execute_result",
     "data": {
      "text/plain": [
       "Ptr{Int64} @0x00007f13724e3ce0"
      ]
     },
     "metadata": {},
     "execution_count": 60
    }
   ],
   "metadata": {
    "scrolled": true
   }
  },
  {
   "cell_type": "markdown",
   "source": [
    "**Random numbers**"
   ],
   "metadata": {}
  },
  {
   "cell_type": "code",
   "execution_count": 61,
   "source": [
    "using Random"
   ],
   "outputs": [],
   "metadata": {}
  },
  {
   "cell_type": "code",
   "execution_count": 62,
   "source": [
    "Random.seed!(1) # set random number generator seed to 1; needs calling first: using Random\n",
    "@print rand() # generate random number from U[0,1)\n",
    "@print rand(2, 3) # generate 2x3 matrix of random numbers from U[0,1]\n",
    "@print rand(2:5, 10) # generate vector of 10 random integer numbers in range form 2 to 5\n",
    "@print randn(10) # generate vector of 10 random numbers from standard normal distribution"
   ],
   "outputs": [
    {
     "output_type": "stream",
     "name": "stdout",
     "text": [
      "rand() : 0.1938924477144347\n",
      "rand(2, 3) : [0.5613640884118405 0.9747693730719079 0.6217202788593901; 0.25962258142144945 0.015914008716080508 0.40875719359852225]\n",
      "rand(2:5, 10) : [3, 4, 2, 5, 4, 5, 4, 5, 2, 5]\n",
      "randn(10) : [1.4253102004456464, 0.4834569872684009, -1.2712796099410841, -0.24251936703961371, -0.7428443324593025, 0.21299162300991134, 0.3502870983067409, -0.08309143597408401, -0.5398871964159871, 1.1823354157252883]\n"
     ]
    }
   ],
   "metadata": {
    "scrolled": true
   }
  },
  {
   "cell_type": "markdown",
   "source": [
    "**Statistics and machine learning**\n",
    "\n",
    "Visit http://juliastats.github.io/ for the details (in particular R-like data frames)."
   ],
   "metadata": {}
  },
  {
   "cell_type": "markdown",
   "source": [
    "**Tabular data**"
   ],
   "metadata": {}
  },
  {
   "cell_type": "code",
   "execution_count": 63,
   "source": [
    ";curl -o iris.csv \"https://raw.githubusercontent.com/uiuc-cse/data-fa14/gh-pages/data/iris.csv\""
   ],
   "outputs": [
    {
     "output_type": "stream",
     "name": "stderr",
     "text": [
      "  % Total    % Received % Xferd  Average Speed   Time    Time     Time  Current\n",
      "                                 Dload  Upload   Total   Spent    Left  Speed\n",
      "100  3716  100  3716    0     0  11910      0 --:--:-- --:--:-- --:--:-- 11910\n"
     ]
    }
   ],
   "metadata": {
    "scrolled": true
   }
  },
  {
   "cell_type": "code",
   "execution_count": 68,
   "source": [
    "using DataFrames;\n",
    "using CSV;\n",
    "\n",
    "df = DataFrame(CSV.File(\"./iris.csv\"));\n",
    "first(df, 5) # print first 5 rows of a data frame; use the last function for last rows"
   ],
   "outputs": [
    {
     "output_type": "execute_result",
     "data": {
      "text/html": [
       "<div class=\"data-frame\"><p>5 rows × 5 columns</p><table class=\"data-frame\"><thead><tr><th></th><th>sepal_length</th><th>sepal_width</th><th>petal_length</th><th>petal_width</th><th>species</th></tr><tr><th></th><th title=\"Float64\">Float64</th><th title=\"Float64\">Float64</th><th title=\"Float64\">Float64</th><th title=\"Float64\">Float64</th><th title=\"String15\">String15</th></tr></thead><tbody><tr><th>1</th><td>5.1</td><td>3.5</td><td>1.4</td><td>0.2</td><td>setosa</td></tr><tr><th>2</th><td>4.9</td><td>3.0</td><td>1.4</td><td>0.2</td><td>setosa</td></tr><tr><th>3</th><td>4.7</td><td>3.2</td><td>1.3</td><td>0.2</td><td>setosa</td></tr><tr><th>4</th><td>4.6</td><td>3.1</td><td>1.5</td><td>0.2</td><td>setosa</td></tr><tr><th>5</th><td>5.0</td><td>3.6</td><td>1.4</td><td>0.2</td><td>setosa</td></tr></tbody></table></div>"
      ],
      "text/latex": [
       "\\begin{tabular}{r|ccccc}\n",
       "\t& sepal\\_length & sepal\\_width & petal\\_length & petal\\_width & species\\\\\n",
       "\t\\hline\n",
       "\t& Float64 & Float64 & Float64 & Float64 & String15\\\\\n",
       "\t\\hline\n",
       "\t1 & 5.1 & 3.5 & 1.4 & 0.2 & setosa \\\\\n",
       "\t2 & 4.9 & 3.0 & 1.4 & 0.2 & setosa \\\\\n",
       "\t3 & 4.7 & 3.2 & 1.3 & 0.2 & setosa \\\\\n",
       "\t4 & 4.6 & 3.1 & 1.5 & 0.2 & setosa \\\\\n",
       "\t5 & 5.0 & 3.6 & 1.4 & 0.2 & setosa \\\\\n",
       "\\end{tabular}\n"
      ],
      "text/plain": [
       "\u001b[1m5×5 DataFrame\u001b[0m\n",
       "\u001b[1m Row \u001b[0m│\u001b[1m sepal_length \u001b[0m\u001b[1m sepal_width \u001b[0m\u001b[1m petal_length \u001b[0m\u001b[1m petal_width \u001b[0m\u001b[1m species  \u001b[0m\n",
       "\u001b[1m     \u001b[0m│\u001b[90m Float64      \u001b[0m\u001b[90m Float64     \u001b[0m\u001b[90m Float64      \u001b[0m\u001b[90m Float64     \u001b[0m\u001b[90m String15 \u001b[0m\n",
       "─────┼────────────────────────────────────────────────────────────────\n",
       "   1 │          5.1          3.5           1.4          0.2  setosa\n",
       "   2 │          4.9          3.0           1.4          0.2  setosa\n",
       "   3 │          4.7          3.2           1.3          0.2  setosa\n",
       "   4 │          4.6          3.1           1.5          0.2  setosa\n",
       "   5 │          5.0          3.6           1.4          0.2  setosa"
      ]
     },
     "metadata": {},
     "execution_count": 68
    }
   ],
   "metadata": {
    "scrolled": true
   }
  },
  {
   "cell_type": "markdown",
   "source": [
    "**Plotting**"
   ],
   "metadata": {}
  },
  {
   "cell_type": "code",
   "execution_count": 69,
   "source": [
    "using PyPlot\n",
    "using Random\n",
    "Random.seed!(1) # make the plot reproducible\n",
    "x, y = randn(100), randn(100)\n",
    "scatter(x, y);"
   ],
   "outputs": [
    {
     "output_type": "display_data",
     "data": {
      "image/png": "[encoded data removed]",
      "text/plain": [
       "Figure(PyObject <Figure size 640x480 with 1 Axes>)"
      ]
     },
     "metadata": {}
    },
    {
     "output_type": "stream",
     "name": "stderr",
     "text": [
      "┌ Warning: `vendor()` is deprecated, use `BLAS.get_config()` and inspect the output instead\n",
      "│   caller = npyinitialize() at numpy.jl:67\n",
      "└ @ PyCall /home/vlad/.julia/packages/PyCall/BD546/src/numpy.jl:67\n"
     ]
    }
   ],
   "metadata": {}
  },
  {
   "cell_type": "code",
   "execution_count": 70,
   "source": [
    "using Distributions\n",
    "using PyPlot\n",
    "mu, sigma = 100, 15\n",
    "x = mu .+ sigma * randn(10000)\n",
    "n, bins, patches = plt.hist(x, 50, density=1,\n",
    "    facecolor=\"green\", alpha=0.75)\n",
    "\n",
    "y = pdf.(Ref(Normal(mu, sigma)), bins);\n",
    "plot(bins, y, \"r--\", linewidth=1)\n",
    "\n",
    "xlabel(\"Smarts\")\n",
    "ylabel(\"Probability\")\n",
    "title(raw\"$\\mathrm{Histogram\\ of\\ IQ:}\\ \\mu=100,\\ \\sigma=15$\")\n",
    "axis([40, 160,0, 0.03])\n",
    "grid(true)"
   ],
   "outputs": [
    {
     "output_type": "display_data",
     "data": {
      "image/png": "[encoded data removed]",
      "text/plain": [
       "Figure(PyObject <Figure size 640x480 with 1 Axes>)"
      ]
     },
     "metadata": {}
    }
   ],
   "metadata": {}
  },
  {
   "cell_type": "code",
   "execution_count": null,
   "source": [],
   "outputs": [],
   "metadata": {}
  }
 ],
 "metadata": {
  "kernelspec": {
   "display_name": "Julia 1.7.0-rc1",
   "language": "julia",
   "name": "julia-1.7"
  },
  "language_info": {
   "file_extension": ".jl",
   "name": "julia",
   "mimetype": "application/julia",
   "version": "1.7.0"
  },
  "toc": {
   "base_numbering": 1,
   "nav_menu": {},
   "number_sections": false,
   "sideBar": true,
   "skip_h1_title": false,
   "title_cell": "Table of Contents",
   "title_sidebar": "Contents",
   "toc_cell": false,
   "toc_position": {
    "height": "calc(100% - 180px)",
    "left": "10px",
    "top": "150px",
    "width": "384px"
   },
   "toc_section_display": true,
   "toc_window_display": false
  }
 },
 "nbformat": 4,
 "nbformat_minor": 4
}