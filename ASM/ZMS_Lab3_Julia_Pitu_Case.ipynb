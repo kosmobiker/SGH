{
 "cells": [
  {
   "cell_type": "markdown",
   "metadata": {},
   "source": [
    "# ZMS Lab3  Pitu Case - Julia"
   ]
  },
  {
   "cell_type": "markdown",
   "metadata": {
    "toc": true
   },
   "source": [
    "<h1>Table of Contents<span class=\"tocSkip\"></span></h1>\n",
    "<div class=\"toc\"><ul class=\"toc-item\"><li><span><a href=\"#Kiedy-ruina-=-RUINA-?\" data-toc-modified-id=\"Kiedy-ruina-=-RUINA-?-1\"><span class=\"toc-item-num\">1&nbsp;&nbsp;</span>Kiedy ruina = RUINA ?</a></span></li><li><span><a href=\"#Weryfikacja-hipotez-i-wyznaczanie-parametrów\" data-toc-modified-id=\"Weryfikacja-hipotez-i-wyznaczanie-parametrów-2\"><span class=\"toc-item-num\">2&nbsp;&nbsp;</span>Weryfikacja hipotez i wyznaczanie parametrów</a></span></li><li><span><a href=\"#Wielkość-szkód\" data-toc-modified-id=\"Wielkość-szkód-3\"><span class=\"toc-item-num\">3&nbsp;&nbsp;</span>Wielkość szkód</a></span></li><li><span><a href=\"#Model-symulacji\" data-toc-modified-id=\"Model-symulacji-4\"><span class=\"toc-item-num\">4&nbsp;&nbsp;</span>Model symulacji</a></span></li><li><span><a href=\"#Symulacja\" data-toc-modified-id=\"Symulacja-5\"><span class=\"toc-item-num\">5&nbsp;&nbsp;</span>Symulacja</a></span></li><li><span><a href=\"#Raport\" data-toc-modified-id=\"Raport-6\"><span class=\"toc-item-num\">6&nbsp;&nbsp;</span>Raport</a></span><ul class=\"toc-item\"><li><span><a href=\"#Zbadaj-płynność-firmy-w-zależności-od-parametrów\" data-toc-modified-id=\"Zbadaj-płynność-firmy-w-zależności-od-parametrów-6.1\"><span class=\"toc-item-num\">6.1&nbsp;&nbsp;</span>Zbadaj płynność firmy w zależności od parametrów</a></span></li></ul></li></ul></div>"
   ]
  },
  {
   "cell_type": "markdown",
   "metadata": {},
   "source": [
    "## Kiedy ruina = RUINA ?\n",
    "\n",
    "*opr. P. Wojewnik na podstawie:*\n",
    "\n",
    "*„Optymalizacja portfela szkód” K. Saduś, M. Kwiecień, R. Lipiński* oraz *„Ubezpieczenia komunikacyjne firmy ABC” A. Kołota, M. Mączyńska*\n",
    "\n",
    "\n",
    "Prezes zarządu zakładu ubezpieczeń PiTU S.A., Marcin R., zasłyszał, że Prezydent planuje naturalizować wszystkich chętnych z Dżydżykistanu. *No to teraz się zacznie*, pomyślał, *Dżydżykowie jeżdżą jak wariaci, wzrośnie szkodowość, a więc musimy podnieść dla nich ceny.* \n",
    "\n",
    "Marcin R. dzwoni do aktuariuszki – Aldony P., ale tu czeka go niespodzianka. *Mój synek zachorował... Grypa to nic wielkiego... Ale w świńskim wydaniu bywa niebezpieczna.* Marcin z bólem serca odsyła Aldonę do domu, a zlecenie dostaje Marek T., asystent Aldony. Pytanie brzmi: **czy składka 500 zł jest wystarczająca ?**\n",
    "\n",
    "Dotychczasowe doświadczenia PiTU S.A. z Dżydżykami są następujące:\n",
    "\n",
    "<table>\n",
    "<tr></tr>\n",
    "<tr><td>\n",
    "\n",
    "| Liczba szkód    | Liczba polis\n",
    "|-----------------|-------------\n",
    "| 0               | 3 437\n",
    "| 1               | 522\n",
    "| 2               | 40\n",
    "| 3               | 2\n",
    "| 4               | 0\n",
    "| 5               | 0\n",
    "\n",
    "</td><td>\n",
    "\n",
    "| Wielkość szkody | Liczba szkód\n",
    "|-----------------|-------------\n",
    "| -               | 0\n",
    "| 100             | 0\n",
    "| 200             | 2\n",
    "| 500             | 27\n",
    "| 1 000           | 52\n",
    "| 2 000           | 115\n",
    "| 5 000           | 203\n",
    "| 10 000          | 106\n",
    "| 20 000          | 42\n",
    "| 40 000          | 14\n",
    "| 50 000          | 0\n",
    "| 55 000          | 0\n",
    "| 60 000          | 1\n",
    "\n",
    "</td></tr> </table>\n",
    "\n",
    "Aldona rzuciła jeszcze przez telefon, że **liczbę szkód dobrze opisuje rozkład Poissona**, natomiast **wielkość szkód – rozkład log-normalny**. Z Marcina udało się wydusić **oczekiwaną liczbę klientów – 100** – oraz **aktualną nadwyżkę 10 000**.\n",
    "\n",
    "\n",
    "**Pytania:**\n",
    "1.\tJaką ustalić składkę OC, aby ruina kierowców nie była udziałem PiTU S.A.?\n",
    "2.\tCzy nadwyżka końcowa będzie równa początkowej?\n",
    "3.\tJakie jest zagrożenie ruiną?\n",
    "4.\tJaka powinna być nadwyżka i składka, żeby prawdopodobieństwo ruiny było mniejsze niż 0,01?\n"
   ]
  },
  {
   "cell_type": "markdown",
   "metadata": {},
   "source": [
    "## Weryfikacja hipotez i wyznaczanie parametrów"
   ]
  },
  {
   "cell_type": "code",
   "execution_count": null,
   "metadata": {},
   "outputs": [],
   "source": [
    "using Plots\n",
    "using Distributions\n",
    "using CSV\n",
    "using HypothesisTests\n",
    "using Random"
   ]
  },
  {
   "cell_type": "code",
   "execution_count": null,
   "metadata": {},
   "outputs": [],
   "source": [
    "liczba_szkod = Dict(0 => 3437,\n",
    "                1 => 522,\n",
    "                2 => 40,\n",
    "                3 => 2,\n",
    "                4 => 0, \n",
    "                5 => 0)\n",
    "\n",
    "bar(liczba_szkod, legend=false)"
   ]
  },
  {
   "cell_type": "code",
   "execution_count": null,
   "metadata": {},
   "outputs": [],
   "source": [
    "# Średnia liczba szkód:\n",
    "liczba_polis = sum(values(liczba_szkod))\n",
    "srednia_liczba_szkod = (sum([x * y for (x, y) in liczba_szkod]) / \n",
    "                        liczba_polis)\n",
    "\n",
    "# Czy liczba szkód ma faktycznie rozkład Poissona?\n",
    "poiss = Poisson(srednia_liczba_szkod)\n",
    "k = length(liczba_szkod)-1\n",
    "poisson_test = pdf.(poiss, 0:k) * liczba_polis\n",
    "\n",
    "bar(0:k, poisson_test, fillcolor = :green, legend = false)"
   ]
  },
  {
   "cell_type": "markdown",
   "metadata": {},
   "source": [
    "Funkcja rozkładu prawdopodobieństwa w rozkładzie Poissona ze średnią $\\lambda$\n",
    "$$f(k,\\lambda)=\\frac{\\lambda^ke^{-\\lambda}}{k!}$$"
   ]
  },
  {
   "cell_type": "code",
   "execution_count": null,
   "metadata": {},
   "outputs": [],
   "source": [
    "# Rozkład Poissona\n",
    "p = [ λ^k*exp(-λ)/factorial(k) for k in 0:10, λ in 1:5]\n",
    "plot(0:10, p, markershape = :circle, lw = 2, labels = reshape([raw\"\\lambda=\"*string(i) for i in 1:5],1,:))"
   ]
  },
  {
   "cell_type": "code",
   "execution_count": null,
   "metadata": {},
   "outputs": [],
   "source": [
    "# Test chi-kwadrat z biblioteki HypothesisTests pomoże odpowiedziec na pytanie\n",
    "chtest = ChisqTest([liczba_szkod[i] for i in 0:k],poisson_test/sum(poisson_test));\n",
    "pval = pvalue(chtest)\n",
    "println(\"p-value=\",pval)\n",
    "if pval > 0.05\n",
    "    print(\"Brak podstaw do odrzucenia hipotezy zerowej\")\n",
    "else\n",
    "    print(\"Należy odrzucić hipotezę zerową\")\n",
    "end"
   ]
  },
  {
   "cell_type": "markdown",
   "metadata": {},
   "source": [
    "## Wielkość szkód"
   ]
  },
  {
   "cell_type": "code",
   "execution_count": null,
   "metadata": {},
   "outputs": [],
   "source": [
    "szkody = CSV.read(\"./szkody.txt\", header=false)[:,2];"
   ]
  },
  {
   "cell_type": "code",
   "execution_count": null,
   "metadata": {},
   "outputs": [],
   "source": [
    "histogram(szkody, legend = false, bins = 50)"
   ]
  },
  {
   "cell_type": "code",
   "execution_count": null,
   "metadata": {},
   "outputs": [],
   "source": [
    "println(\"Średnia wielkość szkod: \", round(mean(szkody)))"
   ]
  },
  {
   "cell_type": "code",
   "execution_count": null,
   "metadata": {},
   "outputs": [],
   "source": [
    "# Wielkość szkód ma rozkład log-normalny:\n",
    "szkody_ln = log.(szkody);\n",
    "histogram(szkody_ln, fillcolor=:khaki, legend = false, bins = 50)"
   ]
  },
  {
   "cell_type": "code",
   "execution_count": null,
   "metadata": {},
   "outputs": [],
   "source": [
    "# ... czy faktycznie? test Kolmogorova-Smirnova\n",
    "kstest = ExactOneSampleKSTest(szkody_ln, Normal(mean(szkody_ln), std(szkody_ln)))\n",
    "kspval = pvalue(kstest)\n",
    "if kspval > 0.05\n",
    "    println(\"p-value wyniosło:\", kspval, \n",
    "           \"\\nBrak więc podstaw do odrzucenia hipotezy \" *\n",
    "           \"o log-normalności rozkładu zmiennej\")\n",
    "else\n",
    "    println(\"należy odrzucic hipotezę zerowa\")\n",
    "end"
   ]
  },
  {
   "cell_type": "code",
   "execution_count": null,
   "metadata": {},
   "outputs": [],
   "source": [
    "# Parametry wielkości szkód potrzebne do symulacji:\n",
    "SR_SZKODA_LN = mean(szkody_ln)\n",
    "STD_SZKODA_LN = std(szkody_ln);"
   ]
  },
  {
   "cell_type": "markdown",
   "metadata": {},
   "source": [
    "## Model symulacji"
   ]
  },
  {
   "cell_type": "code",
   "execution_count": null,
   "metadata": {},
   "outputs": [],
   "source": [
    "function model(liczba_klientow::Int, \n",
    "                srednia_liczba_szkod::Number, \n",
    "                sr_szkoda_ln::Number, \n",
    "                std_szkoda_ln::Number, \n",
    "                horyzont::Int, \n",
    "                nadwyzka::Number, \n",
    "                skladka::Number, \n",
    "                seed::Int=-1)\n",
    "\n",
    "    # Common Random Numbers aby móc porównać różne scenariusze:\n",
    "    seed == -1 || Random.seed!(seed) \n",
    "\n",
    "    # Definiujemy daty umów klientów w symulacji:\n",
    "    daty_umow = [rand(1:365) for i in 1:liczba_klientow]\n",
    "    kalendarz_wplat = zeros(Int,365)\n",
    "    for dataUmowy in daty_umow\n",
    "        kalendarz_wplat[dataUmowy] += 1\n",
    "    end\n",
    "    # Liczymy liczbę szkód przypadających na jednego klienta:\n",
    "    liczba_szkod_klienta = rand(Poisson(srednia_liczba_szkod),liczba_klientow)\n",
    "    \n",
    "    # Ustalamy daty wypłaty dla wszystkich polis:\n",
    "    kalendarz_wyplat = zeros(Int,365*horyzont) \n",
    "    for k in 1:liczba_klientow\n",
    "        for s in 1:liczba_szkod_klienta[k]\n",
    "            data_wyplaty = daty_umow[k] + rand(1:365)\n",
    "            kalendarz_wyplat[data_wyplaty] += 1\n",
    "        end\n",
    "    end\n",
    "    \n",
    "    \n",
    "    # Analiza wyników firmy dla danego horyzontu czasowego i danych szkód:\n",
    "    for dzien in 1:365*horyzont\n",
    "        if dzien <= 364\n",
    "            nadwyzka += kalendarz_wplat[dzien] * skladka\n",
    "        end\n",
    "        liczba_wyplat = kalendarz_wyplat[dzien]\n",
    "        odszkodowania = 0 \n",
    "        if liczba_wyplat > 0\n",
    "            wartosci_wyplat = rand(Normal(sr_szkoda_ln,std_szkoda_ln),liczba_wyplat)\n",
    "            odszkodowania = sum(exp.(wartosci_wyplat))\n",
    "        end\n",
    "        if nadwyzka < odszkodowania\n",
    "            return nadwyzka - odszkodowania\n",
    "        end\n",
    "        nadwyzka -= odszkodowania\n",
    "    end\n",
    "    return nadwyzka\n",
    "end"
   ]
  },
  {
   "cell_type": "code",
   "execution_count": null,
   "metadata": {},
   "outputs": [],
   "source": [
    "function wywolanie(nadwyzka::Number, skladka::Number, liczba_powtorzen::Int, \n",
    "              liczba_klientow::Int, srednia_liczba_szkod::Number, \n",
    "              sr_szkoda_ln::Number, std_szkoda_ln::Number, horyzont::Int)\n",
    "    wynik = []\n",
    "    bankructwo = 0\n",
    "    wynik_dodatni = []\n",
    "    for seed in 1:liczba_powtorzen\n",
    "        push!(wynik, model(liczba_klientow, srednia_liczba_szkod , \n",
    "                           sr_szkoda_ln, std_szkoda_ln, horyzont, \n",
    "                           nadwyzka, skladka, seed))\n",
    "        if wynik[seed] < 0\n",
    "            bankructwo += 1\n",
    "        end \n",
    "        if wynik[seed] > 0\n",
    "            push!(wynik_dodatni, wynik[seed])\n",
    "        end\n",
    "    end\n",
    "    sredni_wynik = mean(wynik_dodatni)\n",
    "    prawd_bankr = bankructwo / liczba_powtorzen\n",
    "    return bankructwo, prawd_bankr, sredni_wynik\n",
    "end   "
   ]
  },
  {
   "cell_type": "markdown",
   "metadata": {},
   "source": [
    "## Symulacja"
   ]
  },
  {
   "cell_type": "code",
   "execution_count": null,
   "metadata": {
    "scrolled": true
   },
   "outputs": [],
   "source": [
    "# zmienne i parametry w modelu:\n",
    "sr_wynik = [] # Średni wynik finansowy firmy\n",
    "wysokosc_skladki = []\n",
    "prawd_bankr = []\n",
    "liczba_ruin = [] \n",
    "\n",
    "LICZBA_POWTORZEN = 100\n",
    "LICZBA_KLIENTOW = 100\n",
    "HORYZONT = 2 # Długość obowiązywania umowy - zakładamy 2 lata\n",
    "\n",
    "\n",
    "for nadwyzka in 10000:10000:10000\n",
    "    for skladka in 500:100:1000\n",
    "        wartosc_f_xy = wywolanie(nadwyzka, skladka, \n",
    "                                 LICZBA_POWTORZEN, LICZBA_KLIENTOW, \n",
    "                                 srednia_liczba_szkod , SR_SZKODA_LN, \n",
    "                                 STD_SZKODA_LN, HORYZONT)\n",
    "        push!(wysokosc_skladki,skladka)\n",
    "        push!(liczba_ruin,wartosc_f_xy[1])\n",
    "        push!(prawd_bankr,wartosc_f_xy[2])\n",
    "        push!(sr_wynik,wartosc_f_xy[3])\n",
    "        println(\"Nadwyzka: \", nadwyzka, \" Skladka: \", skladka, \n",
    "              \" Liczba ruin: \", wartosc_f_xy[1], \" Średni wynik: \",\n",
    "              round(wartosc_f_xy[3]), \" Prawd_bankr: \", wartosc_f_xy[2])\n",
    "    end\n",
    "end\n",
    "ENV[\"GKS_ENCODING\"] = \"utf-8\"      \n",
    "plot(wysokosc_skladki, prawd_bankr, markershape=:circle,\n",
    "ylabel = \"Prawdopodobieństwo bankructwa\",\n",
    "xlabel = \"Wysokość składki\",\n",
    "legend = false)"
   ]
  },
  {
   "cell_type": "markdown",
   "metadata": {},
   "source": [
    "## Raport\n",
    "\n",
    "### Zbadaj płynność firmy w zależności od parametrów\n",
    "\n",
    "---\n",
    "Pliki:\n",
    "* **Wersja Jupyter** : \n",
    "    1. Notebook w formacie `.ipynb` \n",
    "    2. Plik `.html/.pdf` wygenerowany z notebooka\n",
    "* **Wersja Word**: \n",
    "     1. Skrypt z kodem w formacie `.jl` lub `.ipynb`, \n",
    "     2. Plik Worda w formacie`.docx`, \n",
    "     3. Inne pliki użyte w trakcie pracy np. `.xlsx`, \n",
    "     4. Plik `.pdf` wygnerowany z pliku Word\n",
    "\n",
    "Pliki raportu proszę spakować do pliku `.zip` o nazwie __ZMS202021S_nazwisko1_nazwisko2_nazwisko3_nazwisko4.zip__ i wgrać na Moodle\n",
    "\n",
    "Imiona i nazwiska oraz numery indeksu proszę podać również na stronie tytułowej raportu\n",
    "\n",
    "Struktura raportu: http://moodle.szufel.pl/mod/page/view.php?id=61\n",
    "(sekcja **Zawartość raportu**)\n",
    "\n",
    "---\n",
    "**Pytania**\n",
    "1. Jaką ustalić składkę OC, aby prawdopodobieństwo ruiny było mniejsze niż 0,01? (analiza 1 parametru)\n",
    "2. Jaka powinna być nadwyżka i składka, żeby prawdopodobieństwo ruiny było mniejsze niż 0,01? (analiza 2 parametrów)\n",
    "3. Kiedy nadwyżka końcowa będzie równa początkowej? Oszacuj na podstawie modelu regresji.\n",
    "4. Jak liczba symulacji wpływa na wyniki?\n",
    "\n",
    "---"
   ]
  }
 ],
 "metadata": {
  "kernelspec": {
   "display_name": "Julia 1.4.0",
   "language": "julia",
   "name": "julia-1.4"
  },
  "language_info": {
   "file_extension": ".jl",
   "mimetype": "application/julia",
   "name": "julia",
   "version": "1.4.0"
  },
  "toc": {
   "base_numbering": 1,
   "nav_menu": {},
   "number_sections": true,
   "sideBar": true,
   "skip_h1_title": true,
   "title_cell": "Table of Contents",
   "title_sidebar": "Contents",
   "toc_cell": true,
   "toc_position": {
    "height": "calc(100% - 180px)",
    "left": "10px",
    "top": "150px",
    "width": "291px"
   },
   "toc_section_display": true,
   "toc_window_display": false
  }
 },
 "nbformat": 4,
 "nbformat_minor": 4
}
