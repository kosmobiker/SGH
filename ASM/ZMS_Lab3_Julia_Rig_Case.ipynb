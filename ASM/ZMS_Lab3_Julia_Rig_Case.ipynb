{
 "cells": [
  {
   "cell_type": "markdown",
   "metadata": {},
   "source": [
    "# ZMS Lab3 Rig Case - Julia"
   ]
  },
  {
   "cell_type": "markdown",
   "metadata": {
    "toc": true
   },
   "source": [
    "<h1>Table of Contents<span class=\"tocSkip\"></span></h1>\n",
    "<div class=\"toc\"><ul class=\"toc-item\"><li><span><a href=\"#Opis-zajęć\" data-toc-modified-id=\"Opis-zajęć-1\"><span class=\"toc-item-num\">1&nbsp;&nbsp;</span>Opis zajęć</a></span></li><li><span><a href=\"#ROZWIĄZANIE\" data-toc-modified-id=\"ROZWIĄZANIE-2\"><span class=\"toc-item-num\">2&nbsp;&nbsp;</span>ROZWIĄZANIE</a></span><ul class=\"toc-item\"><li><span><a href=\"#Akcje---obróbka-i-analiza\" data-toc-modified-id=\"Akcje---obróbka-i-analiza-2.1\"><span class=\"toc-item-num\">2.1&nbsp;&nbsp;</span>Akcje - obróbka i analiza</a></span><ul class=\"toc-item\"><li><span><a href=\"#Akcje---zwroty-i-stopy-zwrotów\" data-toc-modified-id=\"Akcje---zwroty-i-stopy-zwrotów-2.1.1\"><span class=\"toc-item-num\">2.1.1&nbsp;&nbsp;</span>Akcje - zwroty i stopy zwrotów</a></span></li></ul></li></ul></li><li><span><a href=\"#Akcje---średnie-ruchome-i-prosty-model-MNK\" data-toc-modified-id=\"Akcje---średnie-ruchome-i-prosty-model-MNK-3\"><span class=\"toc-item-num\">3&nbsp;&nbsp;</span>Akcje - średnie ruchome i prosty model MNK</a></span><ul class=\"toc-item\"><li><span><a href=\"#2.-Wybór-optymalnego-portfela-na-podstawie-2-scenariuszy\" data-toc-modified-id=\"2.-Wybór-optymalnego-portfela-na-podstawie-2-scenariuszy-3.1\"><span class=\"toc-item-num\">3.1&nbsp;&nbsp;</span>2. Wybór optymalnego portfela na podstawie 2 scenariuszy</a></span><ul class=\"toc-item\"><li><span><a href=\"#WARIANT-1:-oczekiwana-stopa-zwrotu-nie-niższa-niz-5%\" data-toc-modified-id=\"WARIANT-1:-oczekiwana-stopa-zwrotu-nie-niższa-niz-5%-3.1.1\"><span class=\"toc-item-num\">3.1.1&nbsp;&nbsp;</span>WARIANT 1: oczekiwana stopa zwrotu nie niższa niz 5%</a></span></li><li><span><a href=\"#WARIANT-2:-wariancja-portfela-nie-może-być-wyższa-niż-połowa-wariancji-stóp-zwrotu-z-akcji-o-najwyższej-wariancji\" data-toc-modified-id=\"WARIANT-2:-wariancja-portfela-nie-może-być-wyższa-niż-połowa-wariancji-stóp-zwrotu-z-akcji-o-najwyższej-wariancji-3.1.2\"><span class=\"toc-item-num\">3.1.2&nbsp;&nbsp;</span>WARIANT 2: wariancja portfela nie może być wyższa niż połowa wariancji stóp zwrotu z akcji o najwyższej wariancji</a></span></li><li><span><a href=\"#Bazowy-portfel-funduszu\" data-toc-modified-id=\"Bazowy-portfel-funduszu-3.1.3\"><span class=\"toc-item-num\">3.1.3&nbsp;&nbsp;</span>Bazowy portfel funduszu</a></span></li><li><span><a href=\"#Modele-optymalizacyjne-dla-każdego-scenariusza\" data-toc-modified-id=\"Modele-optymalizacyjne-dla-każdego-scenariusza-3.1.4\"><span class=\"toc-item-num\">3.1.4&nbsp;&nbsp;</span>Modele optymalizacyjne dla każdego scenariusza</a></span></li><li><span><a href=\"#WARIANT-1---warunki-ograniczajace-dla-modelu-optymalizacyjnego\" data-toc-modified-id=\"WARIANT-1---warunki-ograniczajace-dla-modelu-optymalizacyjnego-3.1.5\"><span class=\"toc-item-num\">3.1.5&nbsp;&nbsp;</span>WARIANT 1 - warunki ograniczajace dla modelu optymalizacyjnego</a></span></li><li><span><a href=\"#WARIANT-2---warunki-ograniczajace-dla-modelu-optymalizacyjnego\" data-toc-modified-id=\"WARIANT-2---warunki-ograniczajace-dla-modelu-optymalizacyjnego-3.1.6\"><span class=\"toc-item-num\">3.1.6&nbsp;&nbsp;</span>WARIANT 2 - warunki ograniczajace dla modelu optymalizacyjnego</a></span></li></ul></li><li><span><a href=\"#3.-Model-symulacyjny-i-kod-wywołania\" data-toc-modified-id=\"3.-Model-symulacyjny-i-kod-wywołania-3.2\"><span class=\"toc-item-num\">3.2&nbsp;&nbsp;</span>3. Model symulacyjny i kod wywołania</a></span></li><li><span><a href=\"#3.-Symulacje-i-wyniki\" data-toc-modified-id=\"3.-Symulacje-i-wyniki-3.3\"><span class=\"toc-item-num\">3.3&nbsp;&nbsp;</span>3. Symulacje i wyniki</a></span><ul class=\"toc-item\"><li><span><a href=\"#WARIANT-1\" data-toc-modified-id=\"WARIANT-1-3.3.1\"><span class=\"toc-item-num\">3.3.1&nbsp;&nbsp;</span>WARIANT 1</a></span></li><li><span><a href=\"#WARIANT-2\" data-toc-modified-id=\"WARIANT-2-3.3.2\"><span class=\"toc-item-num\">3.3.2&nbsp;&nbsp;</span>WARIANT 2</a></span></li></ul></li></ul></li></ul></div>"
   ]
  },
  {
   "cell_type": "markdown",
   "metadata": {},
   "source": [
    "## Opis zajęć\n",
    "\n",
    "Kilkoro świeżo upieczonych absolwentów SGH, po uzyskaniu licencji doradcy inwestycyjnego, założyło spółkę RIG i otworzyło własny zamknięty fundusz inwestycyjny. \n",
    "\n",
    "Strategia funduszu zakłada inwestowanie w portfel akcji spośród 11 najbardziej płynnych papierów kwotowanych na GPW. \n",
    "\n",
    "Celem jest maksymalizacja stopy zwrotu w horyzoncie 1 roku (252 dni sesyjne) przy założeniu, że:\n",
    "\n",
    "- Wariant 1. Oczekiwana stopa zwrotu nie może być niższa niż 5%.\n",
    "\n",
    "- Wariant 2. Wariancja portfela nie może być wyższa niż połowa wariancji stóp zwrotu z akcji o najwyższej wariancji\n",
    "\n",
    "\n",
    "\n",
    "## ROZWIĄZANIE\n",
    "\n",
    "### Akcje - obróbka i analiza"
   ]
  },
  {
   "cell_type": "code",
   "execution_count": null,
   "metadata": {},
   "outputs": [],
   "source": [
    "using DataFrames\n",
    "using CSV\n",
    "using Plots\n",
    "using GLM\n",
    "using RollingFunctions\n",
    "using Statistics\n",
    "using LinearAlgebra"
   ]
  },
  {
   "cell_type": "code",
   "execution_count": null,
   "metadata": {},
   "outputs": [],
   "source": [
    "akcje = CSV.read(\"dane/akcje.txt\", DataFrame, header = false)\n",
    "select!(akcje, Not(:Column1))\n",
    "first(akcje,5)"
   ]
  },
  {
   "cell_type": "code",
   "execution_count": null,
   "metadata": {},
   "outputs": [],
   "source": [
    "describe(akcje)"
   ]
  },
  {
   "cell_type": "code",
   "execution_count": null,
   "metadata": {},
   "outputs": [],
   "source": [
    "plot(Matrix(akcje))"
   ]
  },
  {
   "cell_type": "code",
   "execution_count": null,
   "metadata": {},
   "outputs": [],
   "source": [
    "plot(Matrix(akcje[!,Not(3,4)]))"
   ]
  },
  {
   "cell_type": "markdown",
   "metadata": {
    "collapsed": true
   },
   "source": [
    "#### Akcje - zwroty i stopy zwrotów"
   ]
  },
  {
   "cell_type": "code",
   "execution_count": null,
   "metadata": {},
   "outputs": [],
   "source": [
    "akcje_zwrot = mapcols(col -> col/col[1], akcje)\n",
    "last(akcje_zwrot, 10)"
   ]
  },
  {
   "cell_type": "code",
   "execution_count": null,
   "metadata": {},
   "outputs": [],
   "source": [
    "p1 = plot(Matrix(akcje_zwrot), legend=:bottomleft)\n",
    "p2 = plot(Matrix(akcje_zwrot[!,Not(4,5,11)]), legend=false)\n",
    "plot(p1,p2, layout = 2, size=(800,400))"
   ]
  },
  {
   "cell_type": "code",
   "execution_count": null,
   "metadata": {},
   "outputs": [],
   "source": [
    "mat_akcje = Matrix(akcje);"
   ]
  },
  {
   "cell_type": "code",
   "execution_count": null,
   "metadata": {},
   "outputs": [],
   "source": [
    "akcje_stopa = DataFrame(log.(mat_akcje) - log.(circshift(mat_akcje, (1,0))))[2:end,:];\n",
    "first(akcje_stopa,5)"
   ]
  },
  {
   "cell_type": "code",
   "execution_count": null,
   "metadata": {},
   "outputs": [],
   "source": [
    "p1 = plot(Matrix(akcje_stopa), legend=:bottomleft)\n",
    "p2 = plot(Matrix(akcje_stopa[!,Not(6,8)]), legend=false)\n",
    "plot(p1,p2, layout = 2, size=(800,400))"
   ]
  },
  {
   "cell_type": "code",
   "execution_count": null,
   "metadata": {
    "scrolled": false
   },
   "outputs": [],
   "source": [
    "histogram(akcje_stopa[:, 10], bins = 20, legend = false) # dla 10. spółki"
   ]
  },
  {
   "cell_type": "markdown",
   "metadata": {},
   "source": [
    "## Akcje - średnie ruchome i prosty model MNK"
   ]
  },
  {
   "cell_type": "code",
   "execution_count": null,
   "metadata": {},
   "outputs": [],
   "source": [
    "function rollmeancol(df::DataFrame, window::Int)\n",
    "    return mapcols(col -> rollmean(col,window),df)\n",
    "end    "
   ]
  },
  {
   "cell_type": "code",
   "execution_count": null,
   "metadata": {},
   "outputs": [],
   "source": [
    "ma20  = rollmeancol(akcje,20)\n",
    "ma50  = rollmeancol(akcje,50)\n",
    "ma200  = rollmeancol(akcje,200);"
   ]
  },
  {
   "cell_type": "code",
   "execution_count": null,
   "metadata": {
    "scrolled": true
   },
   "outputs": [],
   "source": [
    "ols = lm(@formula(Column4 ~ x1), hcat(1:size(akcje)[1],akcje))\n",
    "ols"
   ]
  },
  {
   "cell_type": "code",
   "execution_count": null,
   "metadata": {
    "scrolled": false
   },
   "outputs": [],
   "source": [
    "trendline = predict(ols)\n",
    "\n",
    "plot(akcje[!, 3], label = \"cena\")\n",
    "plot!(ma50[!, 3], label = \"ma50\")\n",
    "plot!(ma200[!,3], label = \"ma200\")\n",
    "plot!(trendline, label = \"trend\", legend=:topleft)"
   ]
  },
  {
   "cell_type": "markdown",
   "metadata": {},
   "source": [
    "### 2. Wybór optymalnego portfela na podstawie 2 scenariuszy\n",
    "\n",
    "#### WARIANT 1: oczekiwana stopa zwrotu nie niższa niz 5%\n",
    "\n",
    "chcemy aby oczekiwana stopa zwrotu wyniosła co najmniej 5%, za pomocą średniej geometrycznej wyliczamy jaka powinna być jej dzienna wartość"
   ]
  },
  {
   "cell_type": "code",
   "execution_count": null,
   "metadata": {},
   "outputs": [],
   "source": [
    "# 1 rok = 252 dni sesyjne\n",
    "r_min = 1.05 ^ (1/252) - 1"
   ]
  },
  {
   "cell_type": "markdown",
   "metadata": {},
   "source": [
    "#### WARIANT 2: wariancja portfela nie może być wyższa niż połowa wariancji stóp zwrotu z akcji o najwyższej wariancji\n",
    "\n",
    "wyliczamy średnią i odchylenie std stopy zwrotu dla każdego papieru i na tej podstawie wyznaczamy ograniczenie\n"
   ]
  },
  {
   "cell_type": "code",
   "execution_count": null,
   "metadata": {},
   "outputs": [],
   "source": [
    "r_mean = Array(combine(akcje_stopa, names(akcje_stopa) .=> mean))\n",
    "r_std = Array(combine(akcje_stopa, names(akcje_stopa) .=> std))\n",
    "\n",
    "# ograniczenie wariancji:\n",
    "var_max = 0.5*(maximum(r_std)^2)\n"
   ]
  },
  {
   "cell_type": "markdown",
   "metadata": {},
   "source": [
    "#### Bazowy portfel funduszu\n",
    "\n",
    "- tworzymy macierze kowariancji i korelacji na podstawie stóp zwrotu \n",
    "- przyjmujemy początkowe wagi dla portfela\n",
    "- funkcje obliczające średni zwrot z portfela i wariancję portfela\n",
    "\n",
    "(por. np. https://www.bankier.pl/wiadomosc/Dywersyfikacja-7337529.html)"
   ]
  },
  {
   "cell_type": "code",
   "execution_count": null,
   "metadata": {},
   "outputs": [],
   "source": [
    "covar = cov(Matrix(akcje_stopa))\n",
    "corr = cor(Matrix(akcje_stopa))\n",
    "\n",
    "ncols = size(akcje)[2]\n",
    "wagi = ones(ncols)/ncols;"
   ]
  },
  {
   "cell_type": "code",
   "execution_count": null,
   "metadata": {},
   "outputs": [],
   "source": [
    "function portfolio_mean(wagi)\n",
    "    return sum(wagi .* r_mean')\n",
    "end\n",
    "\n",
    "function portfolio_mean_neg(wagi)\n",
    "    return -sum(wagi .* r_mean')\n",
    "end\n",
    "\n",
    "function portfolio_var(wagi)\n",
    "    return wagi'*covar*wagi\n",
    "end\n",
    "println(portfolio_mean(wagi))\n",
    "println(portfolio_mean_neg(wagi))\n",
    "println(portfolio_var(wagi))"
   ]
  },
  {
   "cell_type": "markdown",
   "metadata": {},
   "source": [
    "#### Modele optymalizacyjne dla każdego scenariusza\n",
    "\n",
    "[COBYLA](https://en.wikipedia.org/wiki/COBYLA) = Constrained optimization by linear approximation\n",
    "\n",
    "type: inequality means that the constraint function result is to be non-negative\n",
    "\n",
    "#### WARIANT 1 - warunki ograniczajace dla modelu optymalizacyjnego"
   ]
  },
  {
   "cell_type": "code",
   "execution_count": null,
   "metadata": {},
   "outputs": [],
   "source": [
    "using PyCall"
   ]
  },
  {
   "cell_type": "code",
   "execution_count": null,
   "metadata": {},
   "outputs": [],
   "source": [
    "# using Conda\n",
    "# Conda.add(\"scipy\")"
   ]
  },
  {
   "cell_type": "code",
   "execution_count": null,
   "metadata": {
    "scrolled": true
   },
   "outputs": [],
   "source": [
    "so = pyimport(\"scipy.optimize\");"
   ]
  },
  {
   "cell_type": "code",
   "execution_count": null,
   "metadata": {},
   "outputs": [],
   "source": [
    "cons1 = (Dict(\"type\"=>\"ineq\", \"fun\"=> wagi-> sum(wagi) - 1), \n",
    "         Dict(\"type\"=>\"ineq\", \"fun\"=> wagi-> exp(portfolio_mean(wagi)) - r_min))\n",
    "\n",
    "# model optymalizacyjny 1\n",
    "opt_1 = so.minimize(portfolio_var, wagi, method = \"COBYLA\", constraints = cons1)\n",
    "\n",
    "wagi_1 = opt_1[\"x\"]\n",
    "println(wagi_1)\n",
    "println(\"Suma wag: \",sum(wagi_1))\n",
    "println(\"Stopa zwrotu: \",(1 + portfolio_mean(wagi_1)) ^ 252 - 1)\n",
    "println(\"Wariancja portfela: \",portfolio_var(wagi_1))"
   ]
  },
  {
   "cell_type": "markdown",
   "metadata": {},
   "source": [
    "#### WARIANT 2 - warunki ograniczajace dla modelu optymalizacyjnego"
   ]
  },
  {
   "cell_type": "code",
   "execution_count": null,
   "metadata": {
    "scrolled": true
   },
   "outputs": [],
   "source": [
    "cons2 = (Dict(\"type\"=>\"ineq\", \"fun\"=> wagi-> sum(wagi) - 1),\n",
    "         Dict(\"type\"=>\"ineq\", \"fun\"=> wagi-> - sum(wagi) + 1),\n",
    "         Dict(\"type\"=>\"ineq\", \"fun\"=> wagi-> var_max - portfolio_var(wagi)))\n",
    "\n",
    "# model optymalizacyjny 2\n",
    "opt_2 = so.minimize(portfolio_mean_neg, wagi, method = \"SLSQP\",\n",
    "    bounds = [(0,1) for i in 1:length(wagi)], constraints = cons2)\n",
    "\n",
    "wagi_2 = opt_2[\"x\"]\n",
    "println(wagi_2)\n",
    "println(\"Suma wag: \",sum(wagi_2))\n",
    "println(\"Stopa zwrotu: \",(1 + portfolio_mean(wagi_2)) ^ 252 - 1 )\n",
    "println(\"Wariancja portfela: \",portfolio_var(wagi_2))"
   ]
  },
  {
   "cell_type": "markdown",
   "metadata": {},
   "source": [
    "### 3. Model symulacyjny i kod wywołania\n",
    "\n",
    "tworzymy symulację, która sprawdzi czy faktycznie dla tak zoptymalizowanego modelu fundusz osiągnie zakładany zysk\n",
    "\n",
    "przydatne linki:\n",
    "\n",
    "- [Rozkład Choleskiego](https://pl.wikipedia.org/wiki/Rozk%C5%82ad_Choleskiego)\n",
    "- [Jak losować zmienne ze złożonych rozkładów?](http://pbiecek.github.io/Przewodnik/Programowanie/generatory_3.html)"
   ]
  },
  {
   "cell_type": "code",
   "execution_count": null,
   "metadata": {},
   "outputs": [],
   "source": [
    "akcje_stopa[end,:]"
   ]
  },
  {
   "cell_type": "code",
   "execution_count": null,
   "metadata": {},
   "outputs": [],
   "source": [
    "data_r = (log.(Matrix(akcje)) - log.(circshift(Matrix(akcje), (1,0))))[2:end,:]\n",
    "std_r = std(data_r)\n",
    "mean_r = mean(data_r)\n",
    "L = cholesky(cor(data_r)).L\n",
    "P0 = collect(akcje[end,:]) \n",
    "rates = []\n",
    "for i in 1:252\n",
    "    los = rand(Normal(0, 1), size(akcje)[2])\n",
    "    tl = transpose(L)\n",
    "    los = (los'*tl)'\n",
    "    push!(rates, los * std_r .+ mean_r)\n",
    "end\n",
    "r_cum = sum.((zip(rates...)))\n",
    "r_cum = exp.(r_cum)\n",
    "sum(wagi_1 .* P0 .* r_cum)"
   ]
  },
  {
   "cell_type": "code",
   "execution_count": null,
   "metadata": {},
   "outputs": [],
   "source": [
    "function symulacja(data::DataFrame, horyzont::Int, w::Vector{})\n",
    "    data = Matrix(data)\n",
    "    data_r = (log.(data) - log.(circshift(data, (1,0))))[2:end,:]\n",
    "    std_r = std(data_r)\n",
    "    mean_r = mean(data_r)\n",
    "    corr = cor(data_r)\n",
    "    L = cholesky(corr).L\n",
    "    \n",
    "    # początkowa wartość udziału:\n",
    "    P0 = collect(data[end,:]) \n",
    "    \n",
    "    # generujemy zwroty zakładając wielowymiarowy rozkład normalny\n",
    "    rates = []\n",
    "    for i in 1:horyzont\n",
    "        los = rand(Normal(0, 1), size(data)[2])\n",
    "        tl = transpose(L)\n",
    "        los = [dot(los,tl[:,i]) for i in 1:size(tl)[2]]\n",
    "        push!(rates, los * std_r .+ mean_r)\n",
    "    end\n",
    "    r_cum = sum.((zip(rates...)))\n",
    "    r_cum = exp.(r_cum)\n",
    "    V = sum(w .* P0 .* r_cum)\n",
    "    return V\n",
    "end\n",
    "\n",
    "function uruchomienie(symul::Int, data_set::DataFrame, horyzont::Int, w::Vector{})\n",
    "    V = []    \n",
    "    for i in 1:symul\n",
    "        push!(V, symulacja(data_set, horyzont, w))\n",
    "    end\n",
    "    return V\n",
    "end"
   ]
  },
  {
   "cell_type": "markdown",
   "metadata": {},
   "source": [
    "### 3. Symulacje i wyniki\n",
    "\n",
    "#### WARIANT 1"
   ]
  },
  {
   "cell_type": "code",
   "execution_count": null,
   "metadata": {},
   "outputs": [],
   "source": [
    "wart_pocz1 = sum(collect(akcje[end,:]) .* wagi_1)"
   ]
  },
  {
   "cell_type": "code",
   "execution_count": null,
   "metadata": {
    "scrolled": false
   },
   "outputs": [],
   "source": [
    "wart_kon1 = uruchomienie(100, akcje, 252, wagi_1)\n",
    "prc_rt1 = (wart_kon1 .- wart_pocz1)/wart_pocz1*100\n",
    "println(mean(prc_rt1))\n",
    "println(extrema(prc_rt1))"
   ]
  },
  {
   "cell_type": "code",
   "execution_count": null,
   "metadata": {},
   "outputs": [],
   "source": [
    "histogram(prc_rt1, \n",
    "    legend = false, \n",
    "    xlabel = \"Stopa zwrotu (%)\", \n",
    "    color=\"lightblue\",\n",
    "    bins = 10)"
   ]
  },
  {
   "cell_type": "markdown",
   "metadata": {},
   "source": [
    "#### WARIANT 2"
   ]
  },
  {
   "cell_type": "code",
   "execution_count": null,
   "metadata": {},
   "outputs": [],
   "source": [
    "wart_pocz2 = sum(collect(akcje[end,:]) .* wagi_2)"
   ]
  },
  {
   "cell_type": "code",
   "execution_count": null,
   "metadata": {
    "scrolled": true
   },
   "outputs": [],
   "source": [
    "wart_kon2 = uruchomienie(100, akcje, 252, wagi_2)\n",
    "prc_rt2 = (wart_kon2 .- wart_pocz2)/wart_pocz2*100\n",
    "println(mean(prc_rt2))\n",
    "println(extrema(prc_rt2))"
   ]
  },
  {
   "cell_type": "code",
   "execution_count": null,
   "metadata": {},
   "outputs": [],
   "source": [
    "histogram(prc_rt2, \n",
    "    legend = false, \n",
    "    xlabel = \"Stopa zwrotu (%)\", \n",
    "    color=\"lightgreen\",\n",
    "    bins = 10)"
   ]
  }
 ],
 "metadata": {
  "kernelspec": {
   "display_name": "Julia 1.4.0",
   "language": "julia",
   "name": "julia-1.4"
  },
  "language_info": {
   "file_extension": ".jl",
   "mimetype": "application/julia",
   "name": "julia",
   "version": "1.4.0"
  },
  "toc": {
   "base_numbering": 1,
   "nav_menu": {},
   "number_sections": true,
   "sideBar": true,
   "skip_h1_title": true,
   "title_cell": "Table of Contents",
   "title_sidebar": "Contents",
   "toc_cell": true,
   "toc_position": {
    "height": "calc(100% - 180px)",
    "left": "10px",
    "top": "150px",
    "width": "271px"
   },
   "toc_section_display": true,
   "toc_window_display": false
  }
 },
 "nbformat": 4,
 "nbformat_minor": 2
}
