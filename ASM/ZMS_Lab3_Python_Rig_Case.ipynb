{
 "cells": [
  {
   "cell_type": "markdown",
   "metadata": {},
   "source": [
    "# ZMS LAB 03 - case RIG\n",
    "\n",
    "\n",
    "\n",
    "## Opis zajęć\n",
    "\n",
    "Kilkoro świeżo upieczonych absolwentów SGH, po uzyskaniu licencji doradcy inwestycyjnego, założyło spółkę RIG i otworzyło własny zamknięty fundusz inwestycyjny. \n",
    "\n",
    "Strategia funduszu zakłada inwestowanie w portfel akcji spośród 11 najbardziej płynnych papierów kwotowanych na GPW. \n",
    "\n",
    "Celem jest maksymalizacja stopy zwrotu w horyzoncie 1 roku (252 dni sesyjne) przy założeniu, że:\n",
    "\n",
    "- Wariant 1. Oczekiwana stopa zwrotu nie może być niższa niż 5%.\n",
    "\n",
    "- Wariant 2. Wariancja portfela nie może być wyższa niż połowa wariancji stóp zwrotu z akcji o najwyższej wariancji\n",
    "\n",
    "\n",
    "\n",
    "## ROZWIĄZANIE\n",
    "\n",
    "### 1. Akcje - dane"
   ]
  },
  {
   "cell_type": "code",
   "execution_count": null,
   "metadata": {},
   "outputs": [],
   "source": [
    "import matplotlib.pyplot as plt\n",
    "import numpy as np\n",
    "import pandas as pd\n",
    "import scipy as sc\n",
    "import scipy.optimize as so\n",
    "import statsmodels.formula.api as sm"
   ]
  },
  {
   "cell_type": "code",
   "execution_count": null,
   "metadata": {},
   "outputs": [],
   "source": [
    "akcje = pd.read_csv(\"akcje.txt\", delimiter = \";\", header = None)\n",
    "del akcje[0]\n",
    "akcje.head()\n",
    "akcje.describe()"
   ]
  },
  {
   "cell_type": "code",
   "execution_count": null,
   "metadata": {
    "scrolled": false
   },
   "outputs": [],
   "source": [
    "akcje.plot()\n",
    "akcje.drop([3,4], axis = 1).plot();"
   ]
  },
  {
   "cell_type": "markdown",
   "metadata": {},
   "source": [
    "#### Akcje - zwroty i stopy zwrotów"
   ]
  },
  {
   "cell_type": "code",
   "execution_count": null,
   "metadata": {},
   "outputs": [],
   "source": [
    "akcje_zwrot = akcje.apply(lambda x: x/x[0])\n",
    "akcje_zwrot.head(10)\n",
    "akcje_zwrot.tail(10)"
   ]
  },
  {
   "cell_type": "code",
   "execution_count": null,
   "metadata": {},
   "outputs": [],
   "source": [
    "akcje_zwrot.plot()\n",
    "akcje_zwrot.drop([4, 5, 11], axis = 1).plot();"
   ]
  },
  {
   "cell_type": "code",
   "execution_count": null,
   "metadata": {},
   "outputs": [],
   "source": [
    "akcje_stopa = akcje.apply(lambda x: np.log(x) - np.log(x.shift(1)))\n",
    "akcje_stopa.plot()\n",
    "akcje_stopa.drop([6,8], axis = 1).plot();"
   ]
  },
  {
   "cell_type": "code",
   "execution_count": null,
   "metadata": {},
   "outputs": [],
   "source": [
    "akcje_stopa.iloc[:, 10].hist(bins = 20);"
   ]
  },
  {
   "cell_type": "markdown",
   "metadata": {},
   "source": [
    "#### Akcje - średnie ruchome i prosty model MNK"
   ]
  },
  {
   "cell_type": "code",
   "execution_count": null,
   "metadata": {},
   "outputs": [],
   "source": [
    "ma20  = akcje.rolling(window = 20, center = False).mean()\n",
    "ma50  = akcje.rolling(window = 50, center = False).mean()\n",
    "ma200  = akcje.rolling(window = 200, center = False).mean()"
   ]
  },
  {
   "cell_type": "code",
   "execution_count": null,
   "metadata": {},
   "outputs": [],
   "source": [
    "x = np.arange(len(akcje))\n",
    "y = akcje[3]\n",
    "\n",
    "model = sm.ols(\"y ~ x\", data = akcje)\n",
    "model = model.fit()\n",
    "model.summary()"
   ]
  },
  {
   "cell_type": "code",
   "execution_count": null,
   "metadata": {},
   "outputs": [],
   "source": [
    "trendline = model.predict(akcje)\n",
    "\n",
    "plt.plot(akcje[3], label = \"cena\")\n",
    "plt.plot(ma50[3], label = \"ma50\")\n",
    "plt.plot(ma200[3], label = \"ma200\")\n",
    "plt.plot(trendline, label = \"trend\")\n",
    "plt.legend()\n",
    "plt.show()"
   ]
  },
  {
   "cell_type": "markdown",
   "metadata": {},
   "source": [
    "### 2. Wybór optymalnego portfela na podstawie 2 scenariuszy\n",
    "\n",
    "#### WARIANT 1: oczekiwana stopa wzrotu nie niższa niz 5%\n",
    "\n",
    "chcemy aby oczekiwana stopa zwrotu wyniosła co najmniej 5%, za pomocą średniej geometrycznej wyliczamy jaka powinna być jej dzienna wartość"
   ]
  },
  {
   "cell_type": "code",
   "execution_count": null,
   "metadata": {},
   "outputs": [],
   "source": [
    "# 1 rok = 252 dni sesyjne\n",
    "r_min = 1.05 ** (1/252) - 1"
   ]
  },
  {
   "cell_type": "markdown",
   "metadata": {},
   "source": [
    "#### WARIANT 2: wariancja portfela nie może być wyższa niż połowa wariancji stóp zwrotu z akcji o najwyższej wariancji\n",
    "\n",
    "wyliczamy średnią i odchylenie std stopy zwrotu dla każdego papieru i na tej podstawie wyznaczamy ograniczenie\n"
   ]
  },
  {
   "cell_type": "code",
   "execution_count": null,
   "metadata": {},
   "outputs": [],
   "source": [
    "r_mean = akcje_stopa.mean()\n",
    "r_std = akcje_stopa.std()\n",
    "\n",
    "# ograniczenie wariancji:\n",
    "var_max = 0.5*(max(r_std)**2)"
   ]
  },
  {
   "cell_type": "markdown",
   "metadata": {},
   "source": [
    "#### Bazowy portfel funduszu\n",
    "\n",
    "- tworzymy macierze kowariancji i korelacji na podstawie stop zwrotu \n",
    "- przyjmujemy początkowe wagi dla portfela\n",
    "- funkcje obliczające średni zwrot z portfela i wariancję portfela\n",
    "\n",
    "(por. np. https://www.bankier.pl/wiadomosc/Dywersyfikacja-7337529.html)"
   ]
  },
  {
   "cell_type": "code",
   "execution_count": null,
   "metadata": {},
   "outputs": [],
   "source": [
    "cov = akcje_stopa.cov()\n",
    "cor = akcje_stopa.corr()\n",
    "\n",
    "wagi = np.ones(akcje.shape[1])/akcje.shape[1]"
   ]
  },
  {
   "cell_type": "code",
   "execution_count": null,
   "metadata": {},
   "outputs": [],
   "source": [
    "def portfolio_mean(wagi):\n",
    "    return sum(wagi * r_mean) \n",
    "\n",
    "def portfolio_mean_neg(wagi):\n",
    "    return -sum(wagi * r_mean)\n",
    "\n",
    "def portfolio_var(wagi):\n",
    "    return np.dot(np.dot(wagi, cov), wagi)\n",
    "\n",
    "print(portfolio_mean(wagi))\n",
    "print(portfolio_mean_neg(wagi))\n",
    "print(portfolio_var(wagi))"
   ]
  },
  {
   "cell_type": "markdown",
   "metadata": {},
   "source": [
    "#### Modele optymalizacyjne dla każdego scenariusza\n",
    "\n",
    "[COBYLA](https://en.wikipedia.org/wiki/COBYLA) = Constrained optimization by linear approximation\n",
    "\n",
    "type: inequality means that the constraint function result is to be non-negative\n",
    "\n",
    "#### WARIANT 1 - warunki ograniczajace dla modelu optymlizacyjnego"
   ]
  },
  {
   "cell_type": "code",
   "execution_count": null,
   "metadata": {},
   "outputs": [],
   "source": [
    "cons1 = ({'type':'ineq', 'fun': lambda wagi: sum(wagi) - 1},\n",
    "        {'type':'ineq', 'fun': lambda wagi: portfolio_mean(wagi) - r_min})\n",
    "\n",
    "# model optymalizacyjny 1\n",
    "opt_1 = so.minimize(portfolio_var, wagi, method = \"COBYLA\", constraints = cons1)\n",
    "\n",
    "# wyniki\n",
    "wagi_1 = opt_1.x\n",
    "print(wagi_1)\n",
    "print(\"Suma wag: \",sum(wagi_1))\n",
    "print(\"Średnia stopa zwrotu: \",(1 + portfolio_mean(wagi_1)) ** 252 - 1 )\n",
    "print(\"Wariancja portfela: \",portfolio_var(wagi_1) )"
   ]
  },
  {
   "cell_type": "markdown",
   "metadata": {},
   "source": [
    "#### WARIANT 2 - warunki ograniczajace dla modelu optymlizacyjnego"
   ]
  },
  {
   "cell_type": "code",
   "execution_count": null,
   "metadata": {},
   "outputs": [],
   "source": [
    "cons2 = ({'type':'ineq', 'fun': lambda wagi: sum(wagi) - 1},\n",
    "         {'type':'ineq', 'fun': lambda wagi: -sum(wagi) + 1},\n",
    "        {'type':'ineq', 'fun': lambda wagi: var_max - portfolio_var(wagi)})\n",
    "\n",
    "# model optymalizacyjny 1\n",
    "opt_2 = so.minimize(portfolio_mean_neg, wagi, method = \"SLSQP\",\n",
    "    bounds = [(0,1) for i in range(len(wagi))], constraints = cons2)\n",
    "\n",
    "# wyniki\n",
    "wagi_2 = opt_2.x\n",
    "print(wagi_2) \n",
    "print(\"Suma wag: \",sum(wagi_2))\n",
    "print(\"Średnia stopa zwrotu: \", (1 + portfolio_mean(wagi_2)) ** 252 - 1 )\n",
    "print(\"Wariancja portfela: \", portfolio_var(wagi_2) )"
   ]
  },
  {
   "cell_type": "markdown",
   "metadata": {},
   "source": [
    "### 3. Model symulacyjny i kod wywołania\n",
    "\n",
    "tworzymy symulację, która sprawdzi czy faktycznie dla tak zoptymalizowanego modelu fundusz osiągnie zakładany zysk\n",
    "\n",
    "przydatne linki:\n",
    "\n",
    "- [Rozkład Choleskiego](https://pl.wikipedia.org/wiki/Rozk%C5%82ad_Choleskiego)\n",
    "- [Jak losować zmienne ze złożonych rozkładów?](http://pbiecek.github.io/Przewodnik/Programowanie/generatory_3.html)"
   ]
  },
  {
   "cell_type": "code",
   "execution_count": null,
   "metadata": {},
   "outputs": [],
   "source": [
    "def symulacja (data_set, horyzont, w):\n",
    "    data_set_r = data_set.apply(lambda x: np.log(x) - np.log(x.shift(1)))\n",
    "    std_r = data_set_r.std()\n",
    "    mean_r = data_set_r.mean()\n",
    "    corr = data_set_r.corr()\n",
    "    L = np.linalg.cholesky(corr)\n",
    "    \n",
    "    # początkowa wartość udziału:\n",
    "    P0 = data_set.iloc[len(data_set) - 1] \n",
    "    \n",
    "    # generujemy zwroty zakładając wielowymiarowy rozkład normalny\n",
    "    rates = []\n",
    "    for i in range(horyzont):\n",
    "        los = sc.random.normal(0, 1, len(data_set.iloc[1]))\n",
    "        los = np.dot(los, np.transpose(L))\n",
    "        rates.append(los * std_r + mean_r)\n",
    "    \n",
    "    r_cum = list(map(sum, np.transpose(rates)))\n",
    "    r_cum = list(map(np.exp, r_cum))\n",
    "    V = sum(w * P0 * r_cum)\n",
    "    return(V)\n",
    "\n",
    "\n",
    "def uruchomienie(symul, data_set, horyzont, w):\n",
    "    V = []    \n",
    "    for i in range(symul):\n",
    "        V.append(symulacja(data_set, horyzont, w))\n",
    "    return(V)"
   ]
  },
  {
   "cell_type": "markdown",
   "metadata": {},
   "source": [
    "### 3. Symulacje i wyniki\n",
    "\n",
    "#### WARIANT 1"
   ]
  },
  {
   "cell_type": "code",
   "execution_count": null,
   "metadata": {
    "scrolled": true
   },
   "outputs": [],
   "source": [
    "wart_pocz1 = sum(akcje.iloc[-1] * wagi_1)\n",
    "wart_kon1 = uruchomienie(100, akcje, 252, wagi_1)"
   ]
  },
  {
   "cell_type": "code",
   "execution_count": null,
   "metadata": {},
   "outputs": [],
   "source": [
    "prc_rt1 = np.array([(w - wart_pocz1)/wart_pocz1*100 for w in wart_kon1])\n",
    "print(np.mean(prc_rt1))\n",
    "print(np.min(prc_rt1),np.max(prc_rt1))"
   ]
  },
  {
   "cell_type": "code",
   "execution_count": null,
   "metadata": {},
   "outputs": [],
   "source": [
    "plt.hist(prc_rt1, bins=10)\n",
    "plt.xlabel('Stopa zwrotu (%)');"
   ]
  },
  {
   "cell_type": "markdown",
   "metadata": {},
   "source": [
    "#### WARIANT 2"
   ]
  },
  {
   "cell_type": "code",
   "execution_count": null,
   "metadata": {},
   "outputs": [],
   "source": [
    "wart_pocz2 = sum(akcje.iloc[-1] * wagi_2)\n",
    "wart_kon2 = uruchomienie(100, akcje, 252, wagi_2)"
   ]
  },
  {
   "cell_type": "code",
   "execution_count": null,
   "metadata": {},
   "outputs": [],
   "source": [
    "prc_rt2 = np.array([(w - wart_pocz2)/wart_pocz2*100 for w in wart_kon2])\n",
    "print(np.mean(prc_rt2))\n",
    "print(np.min(prc_rt2),np.max(prc_rt2))"
   ]
  },
  {
   "cell_type": "code",
   "execution_count": null,
   "metadata": {},
   "outputs": [],
   "source": [
    "plt.hist(prc_rt2, bins=10, color=\"green\")\n",
    "plt.xlabel('Stopa zwrotu (%)');"
   ]
  }
 ],
 "metadata": {
  "kernelspec": {
   "display_name": "Python 3",
   "language": "python",
   "name": "python3"
  },
  "language_info": {
   "codemirror_mode": {
    "name": "ipython",
    "version": 3
   },
   "file_extension": ".py",
   "mimetype": "text/x-python",
   "name": "python",
   "nbconvert_exporter": "python",
   "pygments_lexer": "ipython3",
   "version": "3.7.6"
  },
  "toc": {
   "base_numbering": 1,
   "nav_menu": {},
   "number_sections": true,
   "sideBar": true,
   "skip_h1_title": false,
   "title_cell": "Table of Contents",
   "title_sidebar": "Contents",
   "toc_cell": false,
   "toc_position": {},
   "toc_section_display": true,
   "toc_window_display": false
  }
 },
 "nbformat": 4,
 "nbformat_minor": 2
}
