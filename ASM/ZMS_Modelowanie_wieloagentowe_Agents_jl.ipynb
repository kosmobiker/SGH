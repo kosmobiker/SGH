{
 "cells": [
  {
   "cell_type": "markdown",
   "metadata": {},
   "source": [
    "# ZMS - Modelowanie wieloagentowe w Julii"
   ]
  },
  {
   "cell_type": "markdown",
   "metadata": {},
   "source": [
    "Modelowanie wieloagentowe jest zyskującą na popularności metodą tworzenia symulacji. Pozwala na odwzorowanie procesów i zjawisk poprzez zdefiniowane agentów posiadających określone cechy i zachowania. Agenci wchodzą w interakcję z innymi agentami, środowiskiem w którym są osadzeni, jak również sami ze sobą. \n",
    "\n",
    "Najczęściej zakłada się środowiska:\n",
    "* ciągłe dwu- i trzywmiarowe\n",
    "* dwuwymiarową siatkę\n",
    "* przestrzeń grafową\n",
    "* przestrzeń automatów komórkowych (cellular automata)\n",
    "* przestrzenie oparte na danych przestrzennych (moduły GIS, OpenStreetMap, itd.)\n",
    "\n",
    "Modele wieloagentowe często oparte są na prostych regułach zachowań agentów, a mimo to są w stanie symulować skomplikowane systemy biologiczne, społeczne czy ekonomiczne. Zjawisko powstawania złożonych powiązań z prostych zasad określa się mianem **emergencji** (ang. emergence). \n",
    "\n",
    "Systemy wieloagentowe przeważają nad modelami opisanymi matematycznie ze względu na naturalną możliwość modelowania szerokiego zakresu stanów systemu, podczas gdy formuły matematyczne zakładają najczęściej stały stan równowagi lub ograniczają możliwe drogi rozwoju systemu. Dodatkowo w podejściu wieloagentowym mamy kontrolę nad specyfikacją podstawowych 'składowych' systemu (np. komórek w symulacji biologicznej, ludzi w systemie społecznym, przedsiębiorstw w symulacji mikroekonomicznej), natomiast modelowanie matematyczne zakłada agregację wyników z wielu podmiotów symulacji. \n",
    "\n",
    "Przeszkodą w rozwoju podejścia wieloagentowego są między innymi wysokie wymagania obliczeniowe oraz brak jednolitych wytycznych co do sposobu konstruowania i walidacji systemów wieloagentowych. Dodatkowo niewielkie zmiany w parametrach wejściowych mogą mieć znaczny wpływ na wynik końcowy (wynika to z emergencji) - z perspektywy walidacji modelu możemy mieć do czynienia z faktycznym zachowaniem systemu lub błędem w implementacji.\n",
    "\n",
    "Symulację wieloagentową można łatwo zaprogramować opierając się na programowaniu obiektowym ze względu na intuicyjne mapowanie pomiędzy klasami, a agentami (atrybuty = stan, metody = zachowanie). W praktyce warto zastosować dedykowane pakiety i frameworki do symulacji wieloagentowych np.:\n",
    "* MASON\n",
    "* Repast\n",
    "* NetLogo\n",
    "* Mesa\n",
    "* **Agents.jl**"
   ]
  },
  {
   "cell_type": "markdown",
   "metadata": {},
   "source": [
    "## Predator-prey"
   ]
  },
  {
   "cell_type": "markdown",
   "metadata": {},
   "source": [
    "Równania Lotka-Volterra:\n",
    "\n",
    "$$\\frac{dx}{dt} = \\alpha x - \\beta xy$$\n",
    "$$\\frac{dy}{dt} = \\beta yx - \\gamma y$$\n",
    "\n",
    "![](https://upload.wikimedia.org/wikipedia/commons/thumb/1/16/Lotka_Volterra_dynamics.svg/676px-Lotka_Volterra_dynamics.svg.png)"
   ]
  },
  {
   "cell_type": "code",
   "execution_count": null,
   "metadata": {},
   "outputs": [],
   "source": [
    "using Agents\n",
    "using Random"
   ]
  },
  {
   "cell_type": "code",
   "execution_count": null,
   "metadata": {},
   "outputs": [],
   "source": [
    "mutable struct SheepWolf <: AbstractAgent\n",
    "    id::Int\n",
    "    pos::Dims{2}\n",
    "    type::Symbol # :sheep or :wolf\n",
    "    energy::Float64\n",
    "    reproduction_prob::Float64\n",
    "    Δenergy::Float64\n",
    "end"
   ]
  },
  {
   "cell_type": "code",
   "execution_count": null,
   "metadata": {},
   "outputs": [],
   "source": [
    "Sheep(id, pos, energy, repr, Δe) = SheepWolf(id, pos, :sheep, energy, repr, Δe)\n",
    "Wolf(id, pos, energy, repr, Δe) = SheepWolf(id, pos, :wolf, energy, repr, Δe)"
   ]
  },
  {
   "cell_type": "code",
   "execution_count": null,
   "metadata": {},
   "outputs": [],
   "source": [
    "function initialize_model(;\n",
    "    n_sheep = 100,\n",
    "    n_wolves = 50,\n",
    "    dims = (20, 20),\n",
    "    regrowth_time = 30,\n",
    "    Δenergy_sheep = 4,\n",
    "    Δenergy_wolf = 20,\n",
    "    sheep_reproduce = 0.04,\n",
    "    wolf_reproduce = 0.05,\n",
    "    seed = 23182,\n",
    ")\n",
    "\n",
    "    rng = MersenneTwister(seed)\n",
    "    space = GridSpace(dims, periodic = false)\n",
    "    # Model properties contain the grass as two arrays: whether it is fully grown\n",
    "    # and the time to regrow. Also have static parameter `regrowth_time`.\n",
    "    # Notice how the properties are a `NamedTuple` to ensure type stability.\n",
    "    properties = (\n",
    "        fully_grown = falses(dims),\n",
    "        countdown = zeros(Int, dims),\n",
    "        regrowth_time = regrowth_time,\n",
    "    )\n",
    "    model = ABM(SheepWolf, space; properties, rng, scheduler = Schedulers.randomly)\n",
    "    id = 0\n",
    "    for _ in 1:n_sheep\n",
    "        id += 1\n",
    "        energy = rand(1:(Δenergy_sheep*2)) - 1\n",
    "        sheep = Sheep(id, (0, 0), energy, sheep_reproduce, Δenergy_sheep)\n",
    "        add_agent!(sheep, model)\n",
    "    end\n",
    "    for _ in 1:n_wolves\n",
    "        id += 1\n",
    "        energy = rand(1:(Δenergy_wolf*2)) - 1\n",
    "        wolf = Wolf(id, (0, 0), energy, wolf_reproduce, Δenergy_wolf)\n",
    "        add_agent!(wolf, model)\n",
    "    end\n",
    "    for p in positions(model) # random grass initial growth\n",
    "        fully_grown = rand(model.rng, Bool)\n",
    "        countdown = fully_grown ? regrowth_time : rand(model.rng, 1:regrowth_time) - 1\n",
    "        model.countdown[p...] = countdown\n",
    "        model.fully_grown[p...] = fully_grown\n",
    "    end\n",
    "    return model\n",
    "end"
   ]
  },
  {
   "cell_type": "markdown",
   "metadata": {},
   "source": [
    "Pojedyncze akcje"
   ]
  },
  {
   "cell_type": "code",
   "execution_count": null,
   "metadata": {},
   "outputs": [],
   "source": [
    "function sheep_eat!(sheep, model)\n",
    "    if model.fully_grown[sheep.pos...]\n",
    "        sheep.energy += sheep.Δenergy\n",
    "        model.fully_grown[sheep.pos...] = false\n",
    "    end\n",
    "end"
   ]
  },
  {
   "cell_type": "code",
   "execution_count": null,
   "metadata": {},
   "outputs": [],
   "source": [
    "function wolf_eat!(wolf, sheep, model)\n",
    "    if !isempty(sheep)\n",
    "        dinner = rand(model.rng, sheep)\n",
    "        kill_agent!(dinner, model)\n",
    "        wolf.energy += wolf.Δenergy\n",
    "    end\n",
    "end"
   ]
  },
  {
   "cell_type": "code",
   "execution_count": null,
   "metadata": {},
   "outputs": [],
   "source": [
    "function reproduce!(agent, model)\n",
    "    agent.energy /= 2\n",
    "    id = nextid(model)\n",
    "    offspring = SheepWolf(\n",
    "        id,\n",
    "        agent.pos,\n",
    "        agent.type,\n",
    "        agent.energy,\n",
    "        agent.reproduction_prob,\n",
    "        agent.Δenergy,\n",
    "    )\n",
    "    add_agent_pos!(offspring, model)\n",
    "    return\n",
    "end"
   ]
  },
  {
   "cell_type": "markdown",
   "metadata": {},
   "source": [
    "Zachowanie wilków i owiec"
   ]
  },
  {
   "cell_type": "code",
   "execution_count": null,
   "metadata": {},
   "outputs": [],
   "source": [
    "function sheep_step!(sheep, model)\n",
    "    walk!(sheep, rand, model)\n",
    "    sheep.energy -= 1\n",
    "    sheep_eat!(sheep, model)\n",
    "    if sheep.energy < 0\n",
    "        kill_agent!(sheep, model)\n",
    "        return\n",
    "    end\n",
    "    if rand(model.rng) <= sheep.reproduction_prob\n",
    "        reproduce!(sheep, model)\n",
    "    end\n",
    "end"
   ]
  },
  {
   "cell_type": "code",
   "execution_count": null,
   "metadata": {},
   "outputs": [],
   "source": [
    "function wolf_step!(wolf, model)\n",
    "    walk!(wolf, rand, model)\n",
    "    wolf.energy -= 1\n",
    "    agents = collect(agents_in_position(wolf.pos, model))\n",
    "    dinner = filter!(x -> x.type == :sheep, agents)\n",
    "    wolf_eat!(wolf, dinner, model)\n",
    "    if wolf.energy < 0\n",
    "        kill_agent!(wolf, model)\n",
    "        return\n",
    "    end\n",
    "    if rand(model.rng) <= wolf.reproduction_prob\n",
    "        reproduce!(wolf, model)\n",
    "    end\n",
    "end"
   ]
  },
  {
   "cell_type": "markdown",
   "metadata": {},
   "source": [
    "Funkcja sterująca zachowaniem agentów"
   ]
  },
  {
   "cell_type": "code",
   "execution_count": null,
   "metadata": {},
   "outputs": [],
   "source": [
    "function sheepwolf_step!(agent::SheepWolf, model)\n",
    "    if agent.type == :sheep\n",
    "        sheep_step!(agent, model)\n",
    "    else # then `agent.type == :wolf`\n",
    "        wolf_step!(agent, model)\n",
    "    end\n",
    "end"
   ]
  },
  {
   "cell_type": "code",
   "execution_count": null,
   "metadata": {},
   "outputs": [],
   "source": [
    "function grass_step!(model)\n",
    "    @inbounds for p in positions(model) # we don't have to enable bound checking\n",
    "        if !(model.fully_grown[p...])\n",
    "            if model.countdown[p...] ≤ 0\n",
    "                model.fully_grown[p...] = true\n",
    "                model.countdown[p...] = model.regrowth_time\n",
    "            else\n",
    "                model.countdown[p...] -= 1\n",
    "            end\n",
    "        end\n",
    "    end\n",
    "end"
   ]
  },
  {
   "cell_type": "markdown",
   "metadata": {},
   "source": [
    "### Uruchomienie i wizualizacja modelu, analiza danych"
   ]
  },
  {
   "cell_type": "code",
   "execution_count": null,
   "metadata": {},
   "outputs": [],
   "source": [
    "using InteractiveDynamics\n",
    "using CairoMakie"
   ]
  },
  {
   "cell_type": "code",
   "execution_count": null,
   "metadata": {},
   "outputs": [],
   "source": [
    "model = initialize_model()"
   ]
  },
  {
   "cell_type": "code",
   "execution_count": null,
   "metadata": {},
   "outputs": [],
   "source": [
    "offset(a) = a.type == :sheep ? (-0.7, -0.5) : (-0.3, -0.5)\n",
    "ashape(a) = a.type == :sheep ? :circle : :utriangle\n",
    "acolor(a) = a.type == :sheep ? RGBAf0(1.0, 1.0, 1.0, 0.8) : RGBAf0(0.2, 0.2, 0.2, 0.8)"
   ]
  },
  {
   "cell_type": "code",
   "execution_count": null,
   "metadata": {},
   "outputs": [],
   "source": [
    "grasscolor(model) = model.countdown ./ model.regrowth_time"
   ]
  },
  {
   "cell_type": "code",
   "execution_count": null,
   "metadata": {},
   "outputs": [],
   "source": [
    "heatkwargs = (colormap = [:brown, :green], colorrange = (0, 1))\n",
    "\n",
    "plotkwargs = (\n",
    "    ac = acolor,\n",
    "    as = 15,\n",
    "    am = ashape,\n",
    "    offset = offset,\n",
    "    heatarray = grasscolor,\n",
    "    heatkwargs = heatkwargs,\n",
    ")\n",
    "\n",
    "fig, _ = abm_plot(model; plotkwargs...)\n",
    "fig"
   ]
  },
  {
   "cell_type": "code",
   "execution_count": null,
   "metadata": {},
   "outputs": [],
   "source": [
    "sheep(a) = a.type == :sheep\n",
    "wolves(a) = a.type == :wolf\n",
    "count_grass(model) = count(model.fully_grown)"
   ]
  },
  {
   "cell_type": "code",
   "execution_count": null,
   "metadata": {},
   "outputs": [],
   "source": [
    "model = initialize_model()\n",
    "n = 500\n",
    "adata = [(sheep, count), (wolves, count)]\n",
    "mdata = [count_grass]\n",
    "adf, mdf = run!(model, sheepwolf_step!, grass_step!, n; adata, mdata)"
   ]
  },
  {
   "cell_type": "code",
   "execution_count": null,
   "metadata": {},
   "outputs": [],
   "source": [
    "function plot_population_timeseries(adf, mdf)\n",
    "    figure = Figure(resolution = (600, 400))\n",
    "    ax = figure[1, 1] = Axis(figure; xlabel = \"Step\", ylabel = \"Population\")\n",
    "    sheepl = lines!(ax, adf.step, adf.count_sheep, color = :blue)\n",
    "    wolfl = lines!(ax, adf.step, adf.count_wolves, color = :orange)\n",
    "    grassl = lines!(ax, mdf.step, mdf.count_grass, color = :green)\n",
    "    figure[1, 2] = Legend(figure, [sheepl, wolfl, grassl], [\"Sheep\", \"Wolves\", \"Grass\"])\n",
    "    figure\n",
    "end\n",
    "\n",
    "plot_population_timeseries(adf, mdf)"
   ]
  },
  {
   "cell_type": "code",
   "execution_count": null,
   "metadata": {},
   "outputs": [],
   "source": [
    "model = initialize_model(\n",
    "    n_wolves = 20,\n",
    "    dims = (25, 25),\n",
    "    Δenergy_sheep = 5,\n",
    "    sheep_reproduce = 0.2,\n",
    "    wolf_reproduce = 0.08,\n",
    "    seed = 7758,\n",
    ")\n",
    "adf, mdf = run!(model, sheepwolf_step!, grass_step!, n; adata, mdata)\n",
    "\n",
    "plot_population_timeseries(adf, mdf)"
   ]
  },
  {
   "cell_type": "markdown",
   "metadata": {},
   "source": [
    "## Wealth distribution"
   ]
  },
  {
   "cell_type": "markdown",
   "metadata": {},
   "source": [
    "1. Przyjmujemy stałą liczbę agentów.\n",
    "2. Każdy agent rozpoczyna z jedną jendostką majątku.\n",
    "3. W każdej iteracji agent przekazuje 1 jednostkę majątku losowemu agentowi.\n"
   ]
  },
  {
   "cell_type": "code",
   "execution_count": null,
   "metadata": {},
   "outputs": [],
   "source": [
    "mutable struct WealthAgent <: AbstractAgent\n",
    "    id::Int\n",
    "    wealth::Int\n",
    "end"
   ]
  },
  {
   "cell_type": "code",
   "execution_count": null,
   "metadata": {},
   "outputs": [],
   "source": [
    "function wealth_model(; numagents = 100, initwealth = 1)\n",
    "    model = ABM(WealthAgent, scheduler = Schedulers.randomly)\n",
    "    for i in 1:numagents\n",
    "        add_agent!(model, initwealth)\n",
    "    end\n",
    "    return model\n",
    "end\n",
    "\n",
    "model = wealth_model()"
   ]
  },
  {
   "cell_type": "code",
   "execution_count": null,
   "metadata": {},
   "outputs": [],
   "source": [
    "function agent_step!(agent, model)\n",
    "    agent.wealth == 0 && return # do nothing\n",
    "    ragent = random_agent(model)\n",
    "    agent.wealth -= 1\n",
    "    ragent.wealth += 1\n",
    "end"
   ]
  },
  {
   "cell_type": "code",
   "execution_count": null,
   "metadata": {},
   "outputs": [],
   "source": [
    "N = 5\n",
    "M = 2000\n",
    "adata = [:wealth]\n",
    "model = wealth_model(numagents = M)\n",
    "data, _ = run!(model, agent_step!, N; adata)\n",
    "data[(end-20):end, :]"
   ]
  },
  {
   "cell_type": "code",
   "execution_count": null,
   "metadata": {},
   "outputs": [],
   "source": [
    "wealths = filter(x -> x.step == N - 1, data)[!, :wealth];"
   ]
  },
  {
   "cell_type": "code",
   "execution_count": null,
   "metadata": {},
   "outputs": [],
   "source": [
    "hist(\n",
    "    wealths;\n",
    "    bins = collect(0:9),\n",
    "    width = 1,\n",
    "    color = cgrad(:viridis)[28:28:256],\n",
    "    figure = (resolution = (600, 400),),\n",
    ")"
   ]
  },
  {
   "cell_type": "markdown",
   "metadata": {},
   "source": [
    "Rozkład majątku w USA\n",
    "\n",
    "![](https://upload.wikimedia.org/wikipedia/commons/thumb/5/5d/Wealth_distribution_by_percentile_in_the_United_States.png/800px-Wealth_distribution_by_percentile_in_the_United_States.png)"
   ]
  },
  {
   "cell_type": "markdown",
   "metadata": {},
   "source": [
    "## Zombie Outbreak"
   ]
  },
  {
   "cell_type": "code",
   "execution_count": null,
   "metadata": {},
   "outputs": [],
   "source": [
    "using OpenStreetMapXPlot\n",
    "using Plots\n",
    "gr()"
   ]
  },
  {
   "cell_type": "code",
   "execution_count": null,
   "metadata": {},
   "outputs": [],
   "source": [
    "@agent Zombie OSMAgent begin\n",
    "    infected::Bool\n",
    "end"
   ]
  },
  {
   "cell_type": "code",
   "execution_count": null,
   "metadata": {},
   "outputs": [],
   "source": [
    "mutable struct Zombie <: AbstractAgent\n",
    "    id::Int\n",
    "    pos::Tuple{Int,Int,Float64}\n",
    "    route::Vector{Int}\n",
    "    destination::Tuple{Int,Int,Float64}\n",
    "    infected::Bool\n",
    "end"
   ]
  },
  {
   "cell_type": "code",
   "execution_count": null,
   "metadata": {},
   "outputs": [],
   "source": [
    "function initialise(; map_path = OSM.TEST_MAP)\n",
    "    model = ABM(Zombie, OpenStreetMapSpace(map_path))\n",
    "\n",
    "    for id in 1:100\n",
    "        start = random_position(model) # At an intersection\n",
    "        finish = OSM.random_road_position(model) # Somewhere on a road\n",
    "        route = OSM.plan_route(start, finish, model)\n",
    "        human = Zombie(id, start, route, finish, false)\n",
    "        add_agent_pos!(human, model)\n",
    "    end\n",
    "    # We'll add patient zero at a specific (latitude, longitude)\n",
    "    start = OSM.road((39.52320181536525, -119.78917553184259), model)\n",
    "    finish = OSM.intersection((39.510773, -119.75916700000002), model)\n",
    "    route = OSM.plan_route(start, finish, model)\n",
    "    # This function call creates & adds an agent, see `add_agent!`\n",
    "    zombie = add_agent!(start, model, route, finish, true)\n",
    "    return model\n",
    "end"
   ]
  },
  {
   "cell_type": "code",
   "execution_count": null,
   "metadata": {},
   "outputs": [],
   "source": [
    "function agent_step!(agent, model)\n",
    "    # Each agent will progress 25 meters along their route\n",
    "    move_along_route!(agent, model, 25)\n",
    "\n",
    "    if is_stationary(agent, model) && rand(model.rng) < 0.1\n",
    "        # When stationary, give the agent a 10% chance of going somewhere else\n",
    "        OSM.random_route!(agent, model)\n",
    "        # Start on new route\n",
    "        move_along_route!(agent, model, 25)\n",
    "    end\n",
    "\n",
    "    if agent.infected\n",
    "        # Agents will be infected if they get within 50 meters of a zombie.\n",
    "        map(i -> model[i].infected = true, nearby_ids(agent, model, 50))\n",
    "    end\n",
    "end"
   ]
  },
  {
   "cell_type": "code",
   "execution_count": null,
   "metadata": {},
   "outputs": [],
   "source": [
    "ac(agent) = agent.infected ? :green : :black\n",
    "as(agent) = agent.infected ? 6 : 5\n",
    "\n",
    "function plotagents(model)\n",
    "    ids = model.scheduler(model)\n",
    "    colors = [ac(model[i]) for i in ids]\n",
    "    sizes = [as(model[i]) for i in ids]\n",
    "    markers = :circle\n",
    "    pos = [OSM.map_coordinates(model[i], model) for i in ids]\n",
    "\n",
    "    Plots.scatter!(\n",
    "        pos;\n",
    "        markercolor = colors,\n",
    "        markersize = sizes,\n",
    "        markershapes = markers,\n",
    "        label = \"\",\n",
    "        markerstrokewidth = 0.5,\n",
    "        markerstrokecolor = :black,\n",
    "        markeralpha = 0.7,\n",
    "    )\n",
    "end"
   ]
  },
  {
   "cell_type": "code",
   "execution_count": null,
   "metadata": {},
   "outputs": [],
   "source": [
    "model = initialise()\n",
    "plotmap(model.space.m)\n",
    "plotagents(model)"
   ]
  },
  {
   "cell_type": "code",
   "execution_count": null,
   "metadata": {},
   "outputs": [],
   "source": [
    "model = initialise()\n",
    "\n",
    "frames = @animate for i in 0:200\n",
    "    i > 0 && step!(model, agent_step!, 1)\n",
    "    plotmap(model.space.m)\n",
    "    plotagents(model)\n",
    "end\n",
    "\n",
    "gif(frames, \"outbreak.gif\", fps = 15)"
   ]
  }
 ],
 "metadata": {
  "kernelspec": {
   "display_name": "Julia 1.6.0",
   "language": "julia",
   "name": "julia-1.6"
  },
  "language_info": {
   "file_extension": ".jl",
   "mimetype": "application/julia",
   "name": "julia",
   "version": "1.6.0"
  },
  "toc": {
   "base_numbering": 1,
   "nav_menu": {},
   "number_sections": false,
   "sideBar": true,
   "skip_h1_title": false,
   "title_cell": "Table of Contents",
   "title_sidebar": "Contents",
   "toc_cell": false,
   "toc_position": {
    "height": "calc(100% - 180px)",
    "left": "10px",
    "top": "150px",
    "width": "426.667px"
   },
   "toc_section_display": true,
   "toc_window_display": false
  }
 },
 "nbformat": 4,
 "nbformat_minor": 4
}
