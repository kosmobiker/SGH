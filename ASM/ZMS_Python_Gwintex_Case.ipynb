{
 "cells": [
  {
   "cell_type": "markdown",
   "metadata": {},
   "source": [
    "# ZMS LAB 04 - case GWINTEX\n",
    "\n",
    "\n",
    "\n",
    "## Opis zajęć\n",
    "\n",
    "\n",
    "Firma GWINTEX S.A. jest międzynarodowym potentatem w dziedzinie produkcji korkociągów. Korkociągi są wytwarzane na bardzo nowoczesnych maszynach metalurgicznych. W związku ze znacznym wzrostem zamówień firma planuje uruchomienie nowej hali produkcyjnej, w której znajdzie się **n=6 maszyn**. Do każdej maszyny jest przypisany operator, który jest odpowiedzialny za jej obsługę oraz usuwanie awarii. Na podstawie pomiarów historycznych wiadomo, że **czas bezawaryjnej pracy maszyny ma rozkład wykładniczy ze średnią 75 minut**. W przypadku wystąpienia awarii operator dzwoni do warsztatu z prośbą o dostarczenie pakietu narzędzi naprawczych. Pakiet narzędzi jest bardzo ciężki i w związku z tym musi być transportowany za pomocą przenośnika taśmowego (taśmociągu). **Czas transportu zestawu narzędzi do maszyny wynosi *ti*, i=1..6. Czas naprawy jest zmienną losową z rozkładu Erlanga k=3 i średnio wynosi 15 minut**. Po ukończeniu naprawy narzędzia są powtórnie umieszczane na taśmociągu i wracają w komplecie do warsztatu celem ich uzupełnienia. Ze względu na specyfikę specjalistycznych narzędzi nie jest możliwe dokonywanie kolejnych napraw przed powrotem narzędzi do warsztatu. Ze względu na bardzo wysoką cenę jednego pakietu narzędzi naprawczych ich liczba ***m* jest mniejsza od liczby maszyn w hali produkcyjnej**. Gdy w danej chwili pakiet narzędzi nie jest dostępny operator czeka aż inny pakiet wróci do warsztatu i zostanie mu wysłany.\n",
    "\n",
    "Zarząd firmy GWINTEX zastanawia się **jakie powinno być rozmieszczenie urządzeń na hali produkcyjnej** oraz **ile pakietów narzędziowych do obsługi maszyn należy zakupić**. Rozważane są dwie organizacje hali produkcyjnej – układ liniowy oraz układ gniazdowy. **W układzie liniowym czas transportu narzędzi z warsztatu do maszyny wynosi *ti=i*2**, natomiast **w układzie gniazdowym czas ten jest stały i wynosi 3 minuty**. Czas transportu narzędzi do warsztatu jest taki sam jak czas transportu do maszyny. Wprowadzenie układu gniazdowego wiąże się z wyższymi kosztami instalacyjnymi związanymi z uruchomieniem sześciu niezależnych taśmociągów.\n",
    "\n",
    "\n",
    "\n",
    "\n",
    "## ROZWIĄZANIE\n",
    "\n",
    "*author: P*\n",
    "\n",
    "### 1. Stałe i zmienne wykorzystane w modelu"
   ]
  },
  {
   "cell_type": "code",
   "execution_count": 1,
   "metadata": {},
   "outputs": [],
   "source": [
    "import numpy as np\n",
    "import random"
   ]
  },
  {
   "cell_type": "code",
   "execution_count": 2,
   "metadata": {},
   "outputs": [],
   "source": [
    "# liczba maszyn\n",
    "n = 6 \n",
    "\n",
    "# średni czas pracy bez usterki\n",
    "avg_working_time = 75 # minut\n",
    "\n",
    "# średni czas naprawy\n",
    "avg_repair_time = 15 # minut\n",
    "\n",
    "# liczba zestawów narzędzi\n",
    "m = 6\n",
    "\n",
    "# horyzont analizy\n",
    "horizon = 30 # dni\n",
    "\n",
    "# liczba uruchomień symulacji\n",
    "iterations = 10   "
   ]
  },
  {
   "cell_type": "markdown",
   "metadata": {},
   "source": [
    "### 2. Model\n",
    "\n",
    "Wektory, które mają za zadanie kontrolować stan symulacji:\n",
    "\n",
    "- momenty wystąpienia kolejnych zdarzeń\n",
    "- status narzędzi i maszyn \n",
    "    - `W` - pracuje \n",
    "    - `Q` - czeka na narzedzia \n",
    "    - `R` - jest naprawiona\n",
    "- czas ich bezczynności\n",
    "- events --> wektor zdarzeń, które zmieniają stan symulacji (np. zepsucie się maszyny, czas naprawy, itp.)"
   ]
  },
  {
   "cell_type": "code",
   "execution_count": 3,
   "metadata": {
    "scrolled": true
   },
   "outputs": [],
   "source": [
    "def model(horizon, avg_working_time, avg_repair_time, n, m, setup):\n",
    "    # setup - układ liniowy \"L\" lub gniazdowy \"G\"\n",
    "    \n",
    "    # horyzont działania w minutach\n",
    "    horizon = horizon * 24 * 60 \n",
    "    \n",
    "    # wektor zdarzeń, który zmienia stan symulacji\n",
    "    events = list(np.random.exponential(avg_working_time, n))\n",
    "    \n",
    "    # status - określa aktualny stan maszyny \n",
    "    status = [\"W\"] * n\n",
    "\n",
    "    # t_start - określa początek bezczynności maszyny\n",
    "    t_start = [0] * n\n",
    "\n",
    "    # t_cum - skumulowany czas bezczynności maszyny\n",
    "    t_cum = [0] * n\n",
    "\n",
    "    # tools_loc lokalizacja narzedzi - albo numer maszyny albo -1 czyli warsztat\n",
    "    tools_loc = [-1] * m\n",
    "\n",
    "    # tools_occupied czas zajecia zestawu przez naprawianą maszynę\n",
    "    tools_occupied = [0] * m\n",
    "    \n",
    "    # zegar symulacji - najblizsze zadanie, które ma być wykonane\n",
    "    t = min(events)\n",
    "     \n",
    "    # rozpoczynamy symulacje \"skacząc\" po kolejnych zdarzeniach  \n",
    "    while t <= horizon:\n",
    "        \n",
    "        # jeżeli zestawy nie są aktualnie zajęte to przenosimy je z powrotem do warsztatu\n",
    "        for i in range(m):\n",
    "            if tools_occupied[i] <= t:\n",
    "                tools_loc[i] = -1\n",
    "\n",
    "        # wybieramy maszynę, której dotyczy zdarzenie\n",
    "        machines = []\n",
    "        for i in range(len(events)):\n",
    "            if events[i] == t:\n",
    "                machines.append(i)\n",
    "        machine = machines[random.randint(0, len(machines)-1)]\n",
    "        \n",
    "        \"\"\"\n",
    "        Gdy maszyna, której dotyczy zdarzenie ma status \"W\":\n",
    "            - to najpierw zaktualizuj wektor t_start dla tej maszyny jako początek jej bezczynności = t.\n",
    "            - następnie sprawdź czy dostępny jest jakiś zestaw naprawczy. Jezeli nie:\n",
    "                - to ustaw status maszyny na \"Q\" \n",
    "                - zaktualizuj wektor events podajac mu najkrótszy czas oczekiwania na wolny zestaw.\n",
    "              Jeżeli tak:\n",
    "                - ustaw status maszyny na \"R\"\n",
    "                - wyznacz czas  potrzebny na naprawę maszyny w zależności od ukladu taśmociągu \n",
    "                (czas transportu + czas naprawy)\n",
    "                - ustaw koniec naprawy jako zdarzenie dla danej maszyny\n",
    "                - zaktualizuj wektor tools_loc dla odpowiedniego zestawu podając numer maszyny, którą on obsługuje\n",
    "                - zaktualizuj wektor tools_occupied czasem jaki mu to zajmie (2* transport + naprawa)\n",
    "        \"\"\"\n",
    "        if status[machine] == \"W\":\n",
    "            t_start[machine] = t\n",
    "            tools = - 1\n",
    "            for i in range(m):\n",
    "                if tools_loc[i] == -1:\n",
    "                    tools = i\n",
    "                    break\n",
    "            if tools == -1 :\n",
    "                status[machine] = \"Q\"\n",
    "                events[machine] = min(tools_occupied)\n",
    "            else:\n",
    "                status[machine] = \"R\"\n",
    "                if setup == \"L\":\n",
    "                    transport_time = 2 * (1 + machine)\n",
    "                elif setup == \"G\":\n",
    "                    transport_time =  3\n",
    "                else:\n",
    "                    print(\"Niepoprawny układ! Należy wybrać układ 'L' lub 'G'!\")\n",
    "                    break\n",
    "                repair_time = np.random.gamma(3, avg_repair_time/3)\n",
    "                events[machine] += repair_time + transport_time\n",
    "                tools_loc[tools] = machine\n",
    "                tools_occupied[tools] = t + repair_time + 2 * transport_time\n",
    "                \n",
    "                \"\"\"\n",
    "                Gdy maszyna ma status \"Q\":\n",
    "                    - wybierz dostępny zestaw naprawczy\n",
    "                    - ustal status maszyny na \"R\"\n",
    "                    - zaktualizuj wektor tools_loc lokalizacją narzedzi i tools_occupied \n",
    "                    czasem jaki zajmie ich transport (w dwie strony) i naprawa maszyny\n",
    "                    -zaktualizuj wektor zdarzeń czasem potrzebnym na naprawę maszyny i transport narzedzi\n",
    "                \"\"\"\n",
    "                \n",
    "        elif status[machine] == \"Q\":\n",
    "            tools = - 1\n",
    "            for i in range(m):\n",
    "                if tools_loc[i] == -1:\n",
    "                    tools = i\n",
    "                    break\n",
    "            if tools == -1 :\n",
    "                status[machine] = \"Q\"\n",
    "                events[machine] = min(tools_occupied)\n",
    "            else:\n",
    "                status[machine] = \"R\"\n",
    "                if setup == \"L\":\n",
    "                    transport_time = 2 * (1 + machine)\n",
    "                elif setup == \"G\":\n",
    "                    transport_time =  3\n",
    "                else:\n",
    "                    print(\"zly uklad - moze byc L lub G!\")\n",
    "                    break\n",
    "                repair_time = np.random.gamma(3, avg_repair_time/3)\n",
    "                events[machine] += repair_time + transport_time\n",
    "                tools_loc[tools] = machine\n",
    "                tools_occupied[tools] = t + repair_time + 2 * transport_time \n",
    "            \"\"\"\n",
    "            Gdy maszyna ma status \"R\":\n",
    "                - ustal jej status na \"W\"\n",
    "                - wyznacz czas kolejnej awarii i zaktualizuj wektor events\n",
    "                - wylicz czas bezczynnosci i uzupelnij o niego liste t_cum\n",
    "            \"\"\"\n",
    "            \n",
    "        else:\n",
    "            status[machine] = \"W\"\n",
    "            events[machine] += np.random.exponential(avg_working_time)\n",
    "            t_cum[machine] += t - t_start[machine]\n",
    "        \n",
    "        # ustalamy nowe t\n",
    "        t = min(events)\n",
    "        \n",
    "    # wynik - liste skumulowanych bezczynnosci dla kazdej z maszyn\n",
    "    return (t_cum)"
   ]
  },
  {
   "cell_type": "markdown",
   "metadata": {},
   "source": [
    "### 3. Funkcja do uruchomienia symulacji"
   ]
  },
  {
   "cell_type": "code",
   "execution_count": 8,
   "metadata": {},
   "outputs": [],
   "source": [
    "def run_model(iterations, horizon, avg_working_time, avg_repair_time, n, m, setup):\n",
    "    avg_t_cum = []\n",
    "    for i in range (iterations):\n",
    "        avg_t_cum.append(model(horizon, avg_working_time, avg_repair_time, n, m, setup))\n",
    "    return list(map(np.mean, np.transpose(avg_t_cum)))\n"
   ]
  },
  {
   "cell_type": "markdown",
   "metadata": {},
   "source": [
    "### 4. Symulacja"
   ]
  },
  {
   "cell_type": "code",
   "execution_count": 13,
   "metadata": {
    "scrolled": true
   },
   "outputs": [
    {
     "data": {
      "text/plain": [
       "[7985.106526409324,\n",
       " 8785.904755808022,\n",
       " 9528.52044883367,\n",
       " 10197.893644076004,\n",
       " 10887.877302144843,\n",
       " 11467.605024402443]"
      ]
     },
     "execution_count": 13,
     "metadata": {},
     "output_type": "execute_result"
    }
   ],
   "source": [
    "run_model(iterations, horizon, avg_working_time, avg_repair_time, n, m, \"L\")"
   ]
  },
  {
   "cell_type": "code",
   "execution_count": 10,
   "metadata": {},
   "outputs": [
    {
     "data": {
      "text/plain": [
       "9755.304438386267"
      ]
     },
     "execution_count": 10,
     "metadata": {},
     "output_type": "execute_result"
    }
   ],
   "source": [
    "np.mean(run_model(iterations, horizon, avg_working_time, avg_repair_time, n, m, \"L\"))"
   ]
  },
  {
   "cell_type": "code",
   "execution_count": 11,
   "metadata": {},
   "outputs": [
    {
     "data": {
      "text/plain": [
       "8341.958884928552"
      ]
     },
     "execution_count": 11,
     "metadata": {},
     "output_type": "execute_result"
    }
   ],
   "source": [
    "np.mean(run_model(iterations, horizon, avg_working_time, avg_repair_time, n, m, \"G\"))"
   ]
  },
  {
   "cell_type": "markdown",
   "metadata": {},
   "source": [
    "## Raport - zadanie domowe"
   ]
  },
  {
   "cell_type": "markdown",
   "metadata": {},
   "source": [
    "Należy wprowadzić do modelu **3 czynniki kosztów**:\n",
    "1. Koszt przestoju maszyny (koszt jednostkowy np. za minutę przestoju)\n",
    "2. Dodatkowy koszt instalacji w ustawieniu gniazdowym (\"G\") w porównaniu do instalacji liniowej (\"L\")\n",
    "3. Koszt zestawu narzędzi\n",
    "\n",
    "---\n",
    "\n",
    "Po modyfikacji kodu należy odpowiedzieć na pytania:\n",
    "* Jak zmienia się optymalna liczba zestawów narzędziowych w zależności od kosztów przestoju i kosztów zestawu narzędzi w przypadku a) układu liniowego b) układu gniazdowego (wielowymiarowa analiza (koszt przestoju) x (koszt narzędzi) przy stałym układzie produkcyjnym)?\n",
    "* Który układ produkcyjny jest lepszy w zależności od kosztów przestoju i różnicy między kosztem instalacji \"G\" i \"L\" (proszę przyjąć m=6)?\n",
    "* Jak zmienia się rozwiązanie optymalne o możliwych wartościach \"G1, G2,...,G6\" lub \"L1, L2, ..., L6\" (pierwszy znak - układ produkcyjny, drugi znak - liczba zestawów narzędzi max.6) w zależności od wszystkich 3 źródeł kosztów podanych powyżej. Disclaimer: nie wszystkie z podanych rozwiązań muszą być rozwiązaniami optymalnymi.\n",
    "\n",
    "Celem jest minimalizacja kosztów. Liczbę maszyn, średni czas pracy bez usterki, średni czas naprawy oraz horyzont symulacji proszę pozostawić jak w przykładzie. W wynikach analiz proszę pamiętać, aby obok średniej zawsze pojawiała się jakaś miara niepewności np. odchylenie standardowe (na wykresach słupki błędów/przedziały ufności jeśli jest to możliwe). Mogą Państwo rozbudować analizę według uznania.\n",
    "\n",
    "---\n",
    "Pliki:\n",
    "* **Wersja Jupyter** : \n",
    "    1. Notebook w formacie `.ipynb` \n",
    "    2. Plik `.html/.pdf` wygenerowany z notebooka\n",
    "* **Wersja Word**: \n",
    "     1. Skrypt z kodem w formacie `.py/.jl`, \n",
    "     2. Plik Worda w formacie`.docx`, \n",
    "     3. Inne pliki użyte w trakcie pracy np. `.xlsx`, \n",
    "     4. Plik `.pdf` wygnerowany z pliku Word\n",
    "\n",
    "Pliki raportu proszę spakować do pliku `.zip` o nazwie __ZMS202021L_R2_nazwisko1_nazwisko2_nazwisko3_nazwisko4.zip__ i wgrać na Moodle\n",
    "\n",
    "Struktura raportu: http://moodle.szufel.pl/mod/page/view.php?id=61 (sekcja **Zawartość raportu**)\n",
    "\n",
    "**Język raportu**: Python lub Julia\n",
    "\n",
    "\n"
   ]
  },
  {
   "cell_type": "code",
   "execution_count": null,
   "metadata": {},
   "outputs": [],
   "source": []
  }
 ],
 "metadata": {
  "kernelspec": {
   "display_name": "Python 3",
   "language": "python",
   "name": "python3"
  },
  "language_info": {
   "codemirror_mode": {
    "name": "ipython",
    "version": 3
   },
   "file_extension": ".py",
   "mimetype": "text/x-python",
   "name": "python",
   "nbconvert_exporter": "python",
   "pygments_lexer": "ipython3",
   "version": "3.8.8"
  },
  "toc": {
   "base_numbering": 1,
   "nav_menu": {},
   "number_sections": false,
   "sideBar": true,
   "skip_h1_title": false,
   "title_cell": "Table of Contents",
   "title_sidebar": "Contents",
   "toc_cell": false,
   "toc_position": {
    "height": "calc(100% - 180px)",
    "left": "10px",
    "top": "150px",
    "width": "384px"
   },
   "toc_section_display": true,
   "toc_window_display": false
  }
 },
 "nbformat": 4,
 "nbformat_minor": 4
}
