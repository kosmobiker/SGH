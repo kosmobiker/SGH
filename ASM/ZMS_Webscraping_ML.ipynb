{
 "cells": [
  {
   "cell_type": "markdown",
   "metadata": {},
   "source": [
    "# Webscraping\n",
    "\n",
    "## Intro\n",
    "\n",
    "\n",
    "- source: [Beautiful Soup Documentation](https://www.crummy.com/software/BeautifulSoup/bs4/doc/)\n",
    "\n",
    "- useful resources: [Introduction do HTML](https://www.w3schools.com/html/html_intro.asp)"
   ]
  },
  {
   "cell_type": "code",
   "execution_count": 1,
   "metadata": {},
   "outputs": [],
   "source": [
    "html_doc = \"\"\"\n",
    "<html><head><title>The Dormouse's story</title></head>\n",
    "<body>\n",
    "<p class=\"title\"><b>The Dormouse's story</b></p>\n",
    "\n",
    "<p class=\"story\">Once upon a time there were three little sisters; and their names were\n",
    "<a href=\"http://example.com/elsie\" class=\"sister\" id=\"link1\">Elsie</a>,\n",
    "<a href=\"http://example.com/lacie\" class=\"sister\" id=\"link2\">Lacie</a> and\n",
    "<a href=\"http://example.com/tillie\" class=\"sister\" id=\"link3\">Tillie</a>;\n",
    "and they lived at the bottom of a well.</p>\n",
    "\n",
    "<p class=\"story\">...</p>\n",
    "\"\"\""
   ]
  },
  {
   "cell_type": "code",
   "execution_count": 4,
   "metadata": {},
   "outputs": [
    {
     "name": "stdout",
     "output_type": "stream",
     "text": [
      "<html>\n",
      " <head>\n",
      "  <title>\n",
      "   The Dormouse's story\n",
      "  </title>\n",
      " </head>\n",
      " <body>\n",
      "  <p class=\"title\">\n",
      "   <b>\n",
      "    The Dormouse's story\n",
      "   </b>\n",
      "  </p>\n",
      "  <p class=\"story\">\n",
      "   Once upon a time there were three little sisters; and their names were\n",
      "   <a class=\"sister\" href=\"http://example.com/elsie\" id=\"link1\">\n",
      "    Elsie\n",
      "   </a>\n",
      "   ,\n",
      "   <a class=\"sister\" href=\"http://example.com/lacie\" id=\"link2\">\n",
      "    Lacie\n",
      "   </a>\n",
      "   and\n",
      "   <a class=\"sister\" href=\"http://example.com/tillie\" id=\"link3\">\n",
      "    Tillie\n",
      "   </a>\n",
      "   ;\n",
      "and they lived at the bottom of a well.\n",
      "  </p>\n",
      "  <p class=\"story\">\n",
      "   ...\n",
      "  </p>\n",
      " </body>\n",
      "</html>\n"
     ]
    }
   ],
   "source": [
    "from bs4 import BeautifulSoup\n",
    "soup = BeautifulSoup(html_doc, 'html.parser')\n",
    "\n",
    "print(soup.prettify())"
   ]
  },
  {
   "cell_type": "code",
   "execution_count": 5,
   "metadata": {},
   "outputs": [
    {
     "data": {
      "text/plain": [
       "<title>The Dormouse's story</title>"
      ]
     },
     "execution_count": 5,
     "metadata": {},
     "output_type": "execute_result"
    }
   ],
   "source": [
    "soup.title"
   ]
  },
  {
   "cell_type": "code",
   "execution_count": 6,
   "metadata": {},
   "outputs": [
    {
     "data": {
      "text/plain": [
       "<p class=\"title\"><b>The Dormouse's story</b></p>"
      ]
     },
     "execution_count": 6,
     "metadata": {},
     "output_type": "execute_result"
    }
   ],
   "source": [
    "soup.p"
   ]
  },
  {
   "cell_type": "code",
   "execution_count": 7,
   "metadata": {},
   "outputs": [
    {
     "data": {
      "text/plain": [
       "['title']"
      ]
     },
     "execution_count": 7,
     "metadata": {},
     "output_type": "execute_result"
    }
   ],
   "source": [
    "soup.p['class']"
   ]
  },
  {
   "cell_type": "code",
   "execution_count": 8,
   "metadata": {},
   "outputs": [
    {
     "data": {
      "text/plain": [
       "<a class=\"sister\" href=\"http://example.com/elsie\" id=\"link1\">Elsie</a>"
      ]
     },
     "execution_count": 8,
     "metadata": {},
     "output_type": "execute_result"
    }
   ],
   "source": [
    "soup.a"
   ]
  },
  {
   "cell_type": "code",
   "execution_count": 9,
   "metadata": {},
   "outputs": [
    {
     "data": {
      "text/plain": [
       "[<p class=\"title\"><b>The Dormouse's story</b></p>,\n",
       " <p class=\"story\">Once upon a time there were three little sisters; and their names were\n",
       " <a class=\"sister\" href=\"http://example.com/elsie\" id=\"link1\">Elsie</a>,\n",
       " <a class=\"sister\" href=\"http://example.com/lacie\" id=\"link2\">Lacie</a> and\n",
       " <a class=\"sister\" href=\"http://example.com/tillie\" id=\"link3\">Tillie</a>;\n",
       " and they lived at the bottom of a well.</p>,\n",
       " <p class=\"story\">...</p>]"
      ]
     },
     "execution_count": 9,
     "metadata": {},
     "output_type": "execute_result"
    }
   ],
   "source": [
    "soup.findAll('p')"
   ]
  },
  {
   "cell_type": "code",
   "execution_count": 10,
   "metadata": {},
   "outputs": [
    {
     "data": {
      "text/plain": [
       "<a class=\"sister\" href=\"http://example.com/lacie\" id=\"link2\">Lacie</a>"
      ]
     },
     "execution_count": 10,
     "metadata": {},
     "output_type": "execute_result"
    }
   ],
   "source": [
    "soup.find(id = 'link2')"
   ]
  },
  {
   "cell_type": "code",
   "execution_count": 11,
   "metadata": {},
   "outputs": [
    {
     "name": "stdout",
     "output_type": "stream",
     "text": [
      "http://example.com/elsie\n",
      "http://example.com/lacie\n",
      "http://example.com/tillie\n"
     ]
    }
   ],
   "source": [
    "for link in soup.findAll('a'):\n",
    "    print(link.get('href'))"
   ]
  },
  {
   "cell_type": "code",
   "execution_count": 12,
   "metadata": {
    "scrolled": true
   },
   "outputs": [
    {
     "name": "stdout",
     "output_type": "stream",
     "text": [
      "The Dormouse's story\n",
      "Once upon a time there were three little sisters; and their names were\n",
      "Elsie,\n",
      "Lacie and\n",
      "Tillie;\n",
      "and they lived at the bottom of a well.\n",
      "...\n"
     ]
    }
   ],
   "source": [
    "for element in soup.findAll('p'):\n",
    "    print(element.get_text())"
   ]
  },
  {
   "cell_type": "code",
   "execution_count": 13,
   "metadata": {},
   "outputs": [
    {
     "data": {
      "text/plain": [
       "[<title>The Dormouse's story</title>]"
      ]
     },
     "execution_count": 13,
     "metadata": {},
     "output_type": "execute_result"
    }
   ],
   "source": [
    "soup.findAll('title')"
   ]
  },
  {
   "cell_type": "code",
   "execution_count": 14,
   "metadata": {},
   "outputs": [
    {
     "name": "stdout",
     "output_type": "stream",
     "text": [
      "<class 'bs4.element.Tag'>\n"
     ]
    }
   ],
   "source": [
    "tag = soup.p; print(type(tag))"
   ]
  },
  {
   "cell_type": "code",
   "execution_count": 15,
   "metadata": {},
   "outputs": [
    {
     "data": {
      "text/plain": [
       "'p'"
      ]
     },
     "execution_count": 15,
     "metadata": {},
     "output_type": "execute_result"
    }
   ],
   "source": [
    "tag.name"
   ]
  },
  {
   "cell_type": "code",
   "execution_count": 16,
   "metadata": {},
   "outputs": [
    {
     "name": "stdout",
     "output_type": "stream",
     "text": [
      "<p class=\"title\" id=\"noweid\"><b>The Dormouse's story</b></p>\n"
     ]
    }
   ],
   "source": [
    "tag['id'] = \"noweid\"; print (tag)"
   ]
  },
  {
   "cell_type": "code",
   "execution_count": 17,
   "metadata": {},
   "outputs": [
    {
     "data": {
      "text/plain": [
       "<p class=\"title\"><b>The Dormouse's story</b></p>"
      ]
     },
     "execution_count": 17,
     "metadata": {},
     "output_type": "execute_result"
    }
   ],
   "source": [
    "del tag['id']; tag"
   ]
  },
  {
   "cell_type": "code",
   "execution_count": 18,
   "metadata": {},
   "outputs": [
    {
     "data": {
      "text/plain": [
       "{'class': ['title']}"
      ]
     },
     "execution_count": 18,
     "metadata": {},
     "output_type": "execute_result"
    }
   ],
   "source": [
    "tag.attrs"
   ]
  },
  {
   "cell_type": "code",
   "execution_count": 19,
   "metadata": {},
   "outputs": [
    {
     "data": {
      "text/plain": [
       "\"The Dormouse's story\""
      ]
     },
     "execution_count": 19,
     "metadata": {},
     "output_type": "execute_result"
    }
   ],
   "source": [
    "tag.text"
   ]
  },
  {
   "cell_type": "code",
   "execution_count": 20,
   "metadata": {},
   "outputs": [
    {
     "data": {
      "text/plain": [
       "\"The Dormouse's story\""
      ]
     },
     "execution_count": 20,
     "metadata": {},
     "output_type": "execute_result"
    }
   ],
   "source": [
    "tag.string"
   ]
  },
  {
   "cell_type": "code",
   "execution_count": 21,
   "metadata": {},
   "outputs": [
    {
     "data": {
      "text/plain": [
       "str"
      ]
     },
     "execution_count": 21,
     "metadata": {},
     "output_type": "execute_result"
    }
   ],
   "source": [
    "type(tag.text)"
   ]
  },
  {
   "cell_type": "code",
   "execution_count": 22,
   "metadata": {},
   "outputs": [
    {
     "data": {
      "text/plain": [
       "bs4.element.NavigableString"
      ]
     },
     "execution_count": 22,
     "metadata": {},
     "output_type": "execute_result"
    }
   ],
   "source": [
    "type(tag.string)"
   ]
  },
  {
   "cell_type": "markdown",
   "metadata": {},
   "source": [
    "### Going deep, going back and forth"
   ]
  },
  {
   "cell_type": "code",
   "execution_count": 23,
   "metadata": {},
   "outputs": [
    {
     "data": {
      "text/plain": [
       "<head><title>The Dormouse's story</title></head>"
      ]
     },
     "execution_count": 23,
     "metadata": {},
     "output_type": "execute_result"
    }
   ],
   "source": [
    "soup.head"
   ]
  },
  {
   "cell_type": "code",
   "execution_count": 24,
   "metadata": {},
   "outputs": [
    {
     "data": {
      "text/plain": [
       "<title>The Dormouse's story</title>"
      ]
     },
     "execution_count": 24,
     "metadata": {},
     "output_type": "execute_result"
    }
   ],
   "source": [
    "soup.title"
   ]
  },
  {
   "cell_type": "code",
   "execution_count": 25,
   "metadata": {},
   "outputs": [
    {
     "data": {
      "text/plain": [
       "<body>\n",
       "<p class=\"title\"><b>The Dormouse's story</b></p>\n",
       "<p class=\"story\">Once upon a time there were three little sisters; and their names were\n",
       "<a class=\"sister\" href=\"http://example.com/elsie\" id=\"link1\">Elsie</a>,\n",
       "<a class=\"sister\" href=\"http://example.com/lacie\" id=\"link2\">Lacie</a> and\n",
       "<a class=\"sister\" href=\"http://example.com/tillie\" id=\"link3\">Tillie</a>;\n",
       "and they lived at the bottom of a well.</p>\n",
       "<p class=\"story\">...</p>\n",
       "</body>"
      ]
     },
     "execution_count": 25,
     "metadata": {},
     "output_type": "execute_result"
    }
   ],
   "source": [
    "soup.body"
   ]
  },
  {
   "cell_type": "code",
   "execution_count": 26,
   "metadata": {},
   "outputs": [
    {
     "data": {
      "text/plain": [
       "<b>The Dormouse's story</b>"
      ]
     },
     "execution_count": 26,
     "metadata": {},
     "output_type": "execute_result"
    }
   ],
   "source": [
    "soup.b"
   ]
  },
  {
   "cell_type": "code",
   "execution_count": 27,
   "metadata": {},
   "outputs": [
    {
     "data": {
      "text/plain": [
       "['\\n',\n",
       " <p class=\"title\"><b>The Dormouse's story</b></p>,\n",
       " '\\n',\n",
       " <p class=\"story\">Once upon a time there were three little sisters; and their names were\n",
       " <a class=\"sister\" href=\"http://example.com/elsie\" id=\"link1\">Elsie</a>,\n",
       " <a class=\"sister\" href=\"http://example.com/lacie\" id=\"link2\">Lacie</a> and\n",
       " <a class=\"sister\" href=\"http://example.com/tillie\" id=\"link3\">Tillie</a>;\n",
       " and they lived at the bottom of a well.</p>,\n",
       " '\\n',\n",
       " <p class=\"story\">...</p>,\n",
       " '\\n']"
      ]
     },
     "execution_count": 27,
     "metadata": {},
     "output_type": "execute_result"
    }
   ],
   "source": [
    "soup.body.contents"
   ]
  },
  {
   "cell_type": "code",
   "execution_count": 28,
   "metadata": {},
   "outputs": [
    {
     "data": {
      "text/plain": [
       "<p class=\"title\"><b>The Dormouse's story</b></p>"
      ]
     },
     "execution_count": 28,
     "metadata": {},
     "output_type": "execute_result"
    }
   ],
   "source": [
    "soup.body.contents[1]"
   ]
  },
  {
   "cell_type": "code",
   "execution_count": 29,
   "metadata": {},
   "outputs": [
    {
     "data": {
      "text/plain": [
       "[<title>The Dormouse's story</title>]"
      ]
     },
     "execution_count": 29,
     "metadata": {},
     "output_type": "execute_result"
    }
   ],
   "source": [
    "soup.head.contents"
   ]
  },
  {
   "cell_type": "code",
   "execution_count": 30,
   "metadata": {},
   "outputs": [
    {
     "name": "stdout",
     "output_type": "stream",
     "text": [
      "!\n",
      "<title>The Dormouse's story</title>\n",
      "!\n",
      "The Dormouse's story\n"
     ]
    }
   ],
   "source": [
    "for child in soup.head.descendants:\n",
    "    print(\"!\")\n",
    "    print(child)"
   ]
  },
  {
   "cell_type": "code",
   "execution_count": 31,
   "metadata": {},
   "outputs": [
    {
     "data": {
      "text/plain": [
       "2"
      ]
     },
     "execution_count": 31,
     "metadata": {},
     "output_type": "execute_result"
    }
   ],
   "source": [
    "len(list(soup.children))"
   ]
  },
  {
   "cell_type": "code",
   "execution_count": 32,
   "metadata": {
    "scrolled": true
   },
   "outputs": [
    {
     "data": {
      "text/plain": [
       "27"
      ]
     },
     "execution_count": 32,
     "metadata": {},
     "output_type": "execute_result"
    }
   ],
   "source": [
    "len(list(soup.descendants))"
   ]
  },
  {
   "cell_type": "code",
   "execution_count": 33,
   "metadata": {},
   "outputs": [],
   "source": [
    "# .parents"
   ]
  },
  {
   "cell_type": "code",
   "execution_count": 34,
   "metadata": {},
   "outputs": [
    {
     "name": "stdout",
     "output_type": "stream",
     "text": [
      "<a>\n",
      " <b>\n",
      "  text1\n",
      " </b>\n",
      " <c>\n",
      "  text2\n",
      " </c>\n",
      "</a>\n"
     ]
    }
   ],
   "source": [
    "sibling_soup = BeautifulSoup(\"<a><b>text1</b><c>text2</c></a>\")\n",
    "print(sibling_soup.prettify())"
   ]
  },
  {
   "cell_type": "code",
   "execution_count": 35,
   "metadata": {},
   "outputs": [
    {
     "data": {
      "text/plain": [
       "<c>text2</c>"
      ]
     },
     "execution_count": 35,
     "metadata": {},
     "output_type": "execute_result"
    }
   ],
   "source": [
    "sibling_soup.b.next_sibling"
   ]
  },
  {
   "cell_type": "code",
   "execution_count": 36,
   "metadata": {},
   "outputs": [],
   "source": [
    "sibling_soup.b.previous_sibling"
   ]
  },
  {
   "cell_type": "markdown",
   "metadata": {},
   "source": [
    "### Searching the tree"
   ]
  },
  {
   "cell_type": "code",
   "execution_count": 37,
   "metadata": {},
   "outputs": [
    {
     "name": "stdout",
     "output_type": "stream",
     "text": [
      "<html>\n",
      " <head>\n",
      "  <title>\n",
      "   The Dormouse's story\n",
      "  </title>\n",
      " </head>\n",
      " <body>\n",
      "  <p class=\"title\">\n",
      "   <b>\n",
      "    The Dormouse's story\n",
      "   </b>\n",
      "  </p>\n",
      "  <p class=\"story\">\n",
      "   Once upon a time there were three little sisters; and their names were\n",
      "   <a class=\"sister\" href=\"http://example.com/elsie\" id=\"link1\">\n",
      "    Elsie\n",
      "   </a>\n",
      "   ,\n",
      "   <a class=\"sister\" href=\"http://example.com/lacie\" id=\"link2\">\n",
      "    Lacie\n",
      "   </a>\n",
      "   and\n",
      "   <a class=\"sister\" href=\"http://example.com/tillie\" id=\"link3\">\n",
      "    Tillie\n",
      "   </a>\n",
      "   ;\n",
      "and they lived at the bottom of a well.\n",
      "  </p>\n",
      "  <p class=\"story\">\n",
      "   ...\n",
      "  </p>\n",
      " </body>\n",
      "</html>\n"
     ]
    }
   ],
   "source": [
    "print( soup.prettify() )"
   ]
  },
  {
   "cell_type": "code",
   "execution_count": 38,
   "metadata": {},
   "outputs": [
    {
     "data": {
      "text/plain": [
       "[<b>The Dormouse's story</b>]"
      ]
     },
     "execution_count": 38,
     "metadata": {},
     "output_type": "execute_result"
    }
   ],
   "source": [
    "soup.find_all('b')"
   ]
  },
  {
   "cell_type": "code",
   "execution_count": 39,
   "metadata": {},
   "outputs": [
    {
     "data": {
      "text/plain": [
       "[<b>The Dormouse's story</b>,\n",
       " <a class=\"sister\" href=\"http://example.com/elsie\" id=\"link1\">Elsie</a>,\n",
       " <a class=\"sister\" href=\"http://example.com/lacie\" id=\"link2\">Lacie</a>,\n",
       " <a class=\"sister\" href=\"http://example.com/tillie\" id=\"link3\">Tillie</a>]"
      ]
     },
     "execution_count": 39,
     "metadata": {},
     "output_type": "execute_result"
    }
   ],
   "source": [
    "soup.find_all([\"a\", \"b\"])"
   ]
  },
  {
   "cell_type": "code",
   "execution_count": 40,
   "metadata": {
    "scrolled": true
   },
   "outputs": [
    {
     "name": "stdout",
     "output_type": "stream",
     "text": [
      "html\n",
      "head\n",
      "title\n",
      "body\n",
      "p\n",
      "b\n",
      "p\n",
      "a\n",
      "a\n",
      "a\n",
      "p\n"
     ]
    }
   ],
   "source": [
    "for tag in soup.find_all(True):\n",
    "    print(tag.name)"
   ]
  },
  {
   "cell_type": "code",
   "execution_count": 41,
   "metadata": {},
   "outputs": [
    {
     "data": {
      "text/plain": [
       "[<a class=\"sister\" href=\"http://example.com/elsie\" id=\"link1\">Elsie</a>,\n",
       " <a class=\"sister\" href=\"http://example.com/lacie\" id=\"link2\">Lacie</a>,\n",
       " <a class=\"sister\" href=\"http://example.com/tillie\" id=\"link3\">Tillie</a>]"
      ]
     },
     "execution_count": 41,
     "metadata": {},
     "output_type": "execute_result"
    }
   ],
   "source": [
    "soup.find_all(\"a\", class_ = \"sister\")\n",
    "# soup.find_all(\"a\", attrs={\"class\": \"sister\"})"
   ]
  },
  {
   "cell_type": "code",
   "execution_count": 42,
   "metadata": {},
   "outputs": [
    {
     "data": {
      "text/plain": [
       "['Elsie']"
      ]
     },
     "execution_count": 42,
     "metadata": {},
     "output_type": "execute_result"
    }
   ],
   "source": [
    "soup.find_all(string=\"Elsie\")"
   ]
  },
  {
   "cell_type": "code",
   "execution_count": 43,
   "metadata": {},
   "outputs": [
    {
     "data": {
      "text/plain": [
       "[<a class=\"sister\" href=\"http://example.com/elsie\" id=\"link1\">Elsie</a>,\n",
       " <a class=\"sister\" href=\"http://example.com/lacie\" id=\"link2\">Lacie</a>,\n",
       " <a class=\"sister\" href=\"http://example.com/tillie\" id=\"link3\">Tillie</a>]"
      ]
     },
     "execution_count": 43,
     "metadata": {},
     "output_type": "execute_result"
    }
   ],
   "source": [
    "soup.select(\"body a\")"
   ]
  },
  {
   "cell_type": "code",
   "execution_count": 44,
   "metadata": {},
   "outputs": [
    {
     "data": {
      "text/plain": [
       "[<a class=\"sister\" href=\"http://example.com/elsie\" id=\"link1\">Elsie</a>,\n",
       " <a class=\"sister\" href=\"http://example.com/lacie\" id=\"link2\">Lacie</a>,\n",
       " <a class=\"sister\" href=\"http://example.com/tillie\" id=\"link3\">Tillie</a>]"
      ]
     },
     "execution_count": 44,
     "metadata": {},
     "output_type": "execute_result"
    }
   ],
   "source": [
    "# Find tags by CSS class\n",
    "soup.select(\".sister\")"
   ]
  },
  {
   "cell_type": "code",
   "execution_count": 45,
   "metadata": {},
   "outputs": [
    {
     "data": {
      "text/plain": [
       "[<a class=\"sister\" href=\"http://example.com/elsie\" id=\"link1\">Elsie</a>]"
      ]
     },
     "execution_count": 45,
     "metadata": {},
     "output_type": "execute_result"
    }
   ],
   "source": [
    "# Find tags by ID\n",
    "soup.select(\"#link1\")"
   ]
  },
  {
   "cell_type": "code",
   "execution_count": 46,
   "metadata": {},
   "outputs": [
    {
     "data": {
      "text/plain": [
       "[<a class=\"sister\" href=\"http://example.com/elsie\" id=\"link1\">Elsie</a>,\n",
       " <a class=\"sister\" href=\"http://example.com/lacie\" id=\"link2\">Lacie</a>]"
      ]
     },
     "execution_count": 46,
     "metadata": {},
     "output_type": "execute_result"
    }
   ],
   "source": [
    "soup.select(\"#link1,#link2\")"
   ]
  },
  {
   "cell_type": "markdown",
   "metadata": {},
   "source": [
    "## Przykład 1\n",
    "\n",
    "\n",
    "useful resources:\n",
    "\n",
    "- [html status codes](https://www.restapitutorial.com/httpstatuscodes.html)\n",
    "- [Beginner’s Guide to Chrome Dev Tools](https://blog.uilicious.com/beginners-guide-to-chrome-dev-tools-network-pane-cfba8f0e3840)\n",
    "- [strona GPW](https://www.gpw.pl/pl-home)"
   ]
  },
  {
   "cell_type": "code",
   "execution_count": 47,
   "metadata": {},
   "outputs": [],
   "source": [
    "import re\n",
    "import requests # for performing HTTP requests\n",
    "import json\n",
    "from bs4 import BeautifulSoup # for handling all of HTML processing\n"
   ]
  },
  {
   "cell_type": "code",
   "execution_count": 48,
   "metadata": {
    "scrolled": true
   },
   "outputs": [
    {
     "name": "stdout",
     "output_type": "stream",
     "text": [
      "200\n"
     ]
    }
   ],
   "source": [
    "url = 'https://www.gpw.pl/pl-home'\n",
    "res = requests.get(url); print(res.status_code)"
   ]
  },
  {
   "cell_type": "code",
   "execution_count": 49,
   "metadata": {},
   "outputs": [
    {
     "data": {
      "text/plain": [
       "b'\\t\\r\\n\\n<!DOCTYPE html>\\n<html lang=\"pl\">\\n    <head>\\n        <!-- Google Tag Manager -->\\n<script>(function(w,d,s,l,i){w[l]=w[l]||[];w[l].push({\\'gtm.start\\':\\nnew Date().getTime(),event:\\'gtm.js\\'});var f=d.getElementsByTagName(s)[0],\\nj=d.createElement(s),dl=l!=\\'dataLayer\\'?\\'&l=\\'+l:\\'\\';j.async=true;j.src=\\n\\'https://www.googletagmanager.com/gtm.js?id=\\'+i+dl;f.parentNode.insertBefore(j,f);\\n})(window,document,\\'script\\',\\'dataLayer\\',\\'GTM-K8CWHCH\\');</script>\\n<!-- End Google Tag Manager -->\\n\\n\\n<meta http-equiv=\"Content-Type\" content=\"text/html; charset=utf-8\" />\\n<meta name=\"description\" content=\"Rynek G\\xc5\\x82\\xc3\\xb3wny\" />\\n<meta name=\"robots\" content=\"index, follow\" />\\n<meta name=\"revisit-after\" content=\"5 days\" /><meta name=\"author\" content=\"SUPERMEDIA Interactive\" />\\n<meta http-equiv=\"Content-Language\" content=\"pl\"/>\\n<META NAME=\"Content-Type\" CONTENT=\"text/html; charset=pl\">\\n<title>G\\xc5\\x82\\xc3\\xb3wny Rynek GPW - Rynek G\\xc5\\x82\\xc3\\xb3wny</title>\\n<link rel=\"shortcut icon\" href=\"/favicon_blue.ico\" type=\"image/ico\"/>\\t\\n\\n\\n<base href=\"/\"/>\\n<meta name=\"viewport\" content=\"width=device-width, initial-scale=1\">\\n<meta http-equiv=\"x-ua-compatible\" content=\"ie=edge\">\\n\\n<!-- Text -->\\n<link href=\\'html/css/fonts/open_sans.css\\' rel=\\'stylesheet\\' type=\\'text/css\\'>\\n<link href=\\'html/css/fonts/open_sans_condensed.css\\' rel=\\'stylesheet\\' type=\\'text/css\\'>\\n<!--[if lt IE 9]>\\n<link href=\\'html/css/fonts/open_sans_ie.css\\' rel=\\'stylesheet\\' type=\\'text/css\\'>\\n<link href=\\'html/css/fonts/droid_sans_ie.css\\' rel=\\'stylesheet\\' type=\\'text/css\\'>\\n<![endif]-->\\n       \\n<!-- Core stylesheets do not remove -->\\n<link href=\"html/css/normalize.css\" rel=\"stylesheet\" />\\n<link href=\"html/css/bootstrap.min.css\" rel=\"stylesheet\" >\\n<link href=\"html/css/bootstrap_plus.css\" rel=\"stylesheet\" />\\n\\n<!-- Plugins stylesheets -->\\n<link href=\"html/css/idangerous.swiper.css\" rel=\"stylesheet\" />\\n<link href=\"html/css/icons.css\" rel=\"stylesheet\" />\\n<link href=\"html/css/icons-2.css\" rel=\"stylesheet\" />\\n<link href=\"html/css/flags.css\" rel=\"stylesheet\" />    \\n<link href=\"html/css/bootstrap-datepicker.css\" rel=\"stylesheet\" />\\n\\n<link href=\"html/css/daterangepicker.css\" rel=\"stylesheet\" />\\n\\n<link href=\"html/css/footable.core.min.css\" rel=\"stylesheet\" />\\n\\n<link href=\"html/css/jquery.nstSlider.min.css\" rel=\"stylesheet\" />\\n<link href=\"html/js/amcharts-stock/style.css\" rel=\"stylesheet\" /> \\n<link href=\"html/js/flowplayer-6.0.5/skin/minimalist.css\" rel=\"stylesheet\">\\n   \\n<!-- app stylesheets -->    \\n<link href=\"html/css/style.css\" rel=\"stylesheet\">  \\n<link href=\"html/css/style_GPW.css\" rel=\"stylesheet\"> \\n<link href=\"html/css/style2.css\" rel=\"stylesheet\">\\n<link href=\"html/css/style_patch.css\" rel=\"stylesheet\">\\n<link href=\"html/css/jquery.fancybox.css\" rel=\"stylesheet\">\\n\\n<!--[if IE 9]>\\n <link href=\"html/css/ie9.css\" rel=\"stylesheet\">\\n <script>\\n \\tvar ie = \\'9\\';      \\n</script>\\n <![endif]-->\\n\\n<!--[if lt IE 9]>\\n  <script src=\"https://oss.maxcdn.com/html5shiv/3.7.2/html5shiv.min.js\"></script>\\n  <script src=\"https://oss.maxcdn.com/respond/1.4.2/respond.min.js\"></script>\\n  <link href=\"html/css/ie8.css\" rel=\"stylesheet\">\\n  <script>\\n  \\tvar ie = \\'8\\';      \\n  </script>\\n<![endif]-->\\n\\n<!--[if lt IE 8]>\\n<link href=\"html/js/ie/warning.css\" rel=\"stylesheet\">\\n<script src=\"html/js/ie/warning.js\"></script>\\n<script>\\n    window.onload=function(){e(\"html/js/ie/\")}\\t\\n    var msg1 = \"Czy wiesz, \\xc5\\xbce Twoja wersja przegl\\xc4\\x85darki Internet Explorer wymaga aktualizacji?\";\\n    var msg2 = \"Zaktualizuj swoj\\xc4\\x85 przegl\\xc4\\x85dark\\xc4\\x99 lub wybierz inn\\xc4\\x85 by w pe\\xc5\\x82ni wykorzysta\\xc4\\x87 funkcjonalno\\xc5\\x9b\\xc4\\x87 naszej strony. Poni\\xc5\\xbcej znajduje si\\xc4\\x99 lista najpopularniejszych przegl\\xc4\\x85darek internetowych.\";\\n    var msg3 = \"Kliknij jedn\\xc4\\x85 z ikon by przej\\xc5\\x9b\\xc4\\x87 do strony pobierania.\";\\n    var imgPath = \"html/js/ie/\";\\t\\n</script>\\t\\t\\n<![endif]-->\\n\\n<!-- jQuery -->\\n<style>\\n\\ndiv.dataTables_wrapper {\\n        width: 100%;\\n        margin: 0 auto;\\n}\\n\\n</style>\\n<script src=\"html/js/jquery-3.5.1.min.js\"></script>\\n<script src=\"html/js/jquery.migrate-1.4.1.min.js\"></script>\\n<script>\\n\\n\\n\\tfunction is_touch_device() {\\n\\t\\treturn \\'ontouchstart\\' in window || navigator.maxTouchPoints;\\n\\t};\\n\\t\\n\\tif( is_touch_device() ) {\\n\\t\\tvar root = document.documentElement;\\n\\t\\troot.className += \\' touch\\';\\n\\t}\\t\\n\\n</script>\\n\\n<script language=\"javascript\" type=\"text/javascript\">\\nvar BASE_URL = \"https://www.gpw.pl/\";\\nvar STATIC_URL = \"https://www.gpw.pl/\";\\nvar AJAX_BASE_URL = \"https://www.gpw.pl/\";\\nvar NOW = 1622383617000;\\nvar UTC_OFFSET = \\'2\\';\\nvar LANG = \\'pl\\';\\nvar THEME = \\'v4\\';\\n</script>\\n\\n  <meta name=\"smartbanner:title\" content=\"GPW\">\\n  <meta name=\"smartbanner:author\" content=\"GPW w Warszawie SA\">\\n  <meta name=\"smartbanner:price\" content=\"Pobierz darmow\\xc4\\x85 aplikacj\\xc4\\x99\">\\n  <meta name=\"smartbanner:price-suffix-apple\" content=\" \"><!-- - On the App Store\">-->\\n  <meta name=\"smartbanner:price-suffix-google\" content=\" \"><!-- - In Google Play\">-->\\n  <meta name=\"smartbanner:icon-apple\" content=\"/html/img/gpw_icon.png\">\\n  <meta name=\"smartbanner:icon-google\" content=\"/html/img/gpw_icon.png\">\\n  <meta name=\"smartbanner:button\" content=\"ZOBACZ\">\\n  <meta name=\"smartbanner:button-url-apple\" content=\"https://itunes.apple.com/us/app/gie\\xc5\\x82da-papier\\xc3\\xb3w-warto\\xc5\\x9bciowych/id542593952\">\\n  <meta name=\"smartbanner:button-url-google\" content=\"https://play.google.com/store/apps/details?id=pl.moveapp.gpw\">\\n  <meta name=\"smartbanner:enabled-platforms\" content=\"android,ios\">\\n  <meta name=\"smartbanner:close-label\" content=\"Close this banner\">\\n  <!--<meta name=\"smartbanner:api\" content=\"true\">-->\\n  <!--<meta name=\"smartbanner:hide-ttl\" content=\"2629746000\">-->\\n  <!--<meta name=\"smartbanner:hide-path\" content=\"/\">-->\\n  <!--<meta name=\"smartbanner:disable-positioning\" content=\"true\">-->\\n  <!-- Enable for all platforms -->\\n  <!--<meta name=\"smartbanner:include-user-agent-regex\" content=\".*\">-->\\n  <!-- iOS -->\\n  <!--<meta name=\"smartbanner:enabled-platforms\" content=\"none\">-->\\n  <!--<meta name=\"smartbanner:include-user-agent-regex\" content=\"Mobile.*Safari\">-->\\n  <!-- /iOS -->\\n  <!--<meta name=\"smartbanner:custom-design-modifier\" content=\"ios\">-->\\n  <link rel=\"stylesheet\" href=\"/html/css/smartbanner.css\">\\n  <script src=\"/html/js/smartbanner.js\"></script>\\n  <script>\\n\\t\\n    let onLoadHandlerForConflictTesting = function() {};\\n    window.onload = onLoadHandlerForConflictTesting;\\n    document.addEventListener(\\'smartbanner.view\\', function() { console.log(\\'smartbanner.view\\'); });\\n    document.addEventListener(\\'smartbanner.exit\\', function() { console.log(\\'smartbanner.exit\\'); });\\n\\t\\n  </script>\\n\\n<script language=\"JavaScript\" type=\"text/javascript\" src=\"/cookies/cookie_info_pl.js\"></script>    </head>\\n    <body>\\n<!--sphider_noindex-->\\n    \\t<!-- Google Tag Manager (noscript) -->\\n<noscript><iframe src=\"https://www.googletagmanager.com/ns.html?id=GTM-K8CWHCH\"\\nheight=\"0\" width=\"0\" style=\"display:none;visibility:hidden\"></iframe></noscript>\\n<!-- End Google Tag Manager (noscript) -->\\n\\n<header role=\"navigation\">\\n\\t<div class=\"collapse navbar-collapse searchbar\" id=\"search-collapse\">\\n\\t\\t<div class=\"container\">\\n\\t\\t\\t\\n<form action=\"wyniki-wyszukiwania\">\\n\\t<div class=\"input-group input-group-lg\">\\n\\t\\t<input class=\"form-control query\" value=\"1\" name=\"search\" type=\"hidden\">\\n        <input class=\"form-control query\" value=\"PL\" name=\"search_lang\" type=\"hidden\">\\n\\t\\t<input type=\"text\" name=\"query\" class=\"form-control\" placeholder=\"Szukaj w GPW\">\\n\\t\\t<span class=\"input-group-btn\">\\n\\t\\t\\t<button class=\"btn btn-primary\" type=\"submit\">szukaj</button>\\n\\t\\t</span>\\n\\t</div>\\n</form>\\n\\t\\t</div>\\n\\t</div>\\n\\t<nav class=\"navbar global\">\\n\\t\\t<div class=\"container\">\\n\\t\\t\\t<div class=\"navbar-header\">\\n\\t\\t\\t\\t<button type=\"button\" class=\"navbar-toggle collapsed\" data-toggle=\"collapse\" data-target=\"#navbar-collapse\" aria-expanded=\"false\">\\n\\t\\t\\t\\t\\t<span class=\"icon-bar\"></span>\\n\\t\\t\\t\\t\\t<span class=\"icon-bar\"></span>\\n\\t\\t\\t\\t\\t<span class=\"icon-bar\"></span>\\n\\t\\t\\t\\t</button>\\n\\t\\t\\t\\t<button type=\"button\" class=\"navbar-toggle collapsed\" data-toggle=\"collapse\" data-target=\"#search-collapse\" aria-expanded=\"false\"><i class=\"icon-search\"></i></button>\\n\\t\\t\\t\\t<a class=\"navbar-brand\" href=\"/\"><img src=\"html/images/logo_GPW_pl.png\"></a>\\n\\t\\t\\t\\t<button type=\"button\" class=\"navbar-toggle collapsed pull-left\" data-toggle=\"collapse\" data-target=\"#globalNav-collapse\" aria-expanded=\"false\"><i class=\"icon-down\"></i></button>\\n\\t\\t\\t</div>\\n\\t\\t\\t<div class=\"collapse navbar-collapse\" id=\"globalNav-collapse\">\\n\\t\\t\\t\\t<ul class=\"extraNav navbar-nav\">\\n\\t\\t\\t\\t\\t\\t\\t\\t\\t\\t<li class=\"nav-item\"><a class=\"nav-link\" href=\"aktualnosci\">Aktualno\\xc5\\x9bci</a></li>\\n\\t<li class=\"nav-item\"><a class=\"nav-link\" href=\"relacje-inwestorskie\">Relacje inwestorskie</a></li>\\n\\t<li class=\"nav-item\"><a class=\"nav-link\" href=\"szkola-gieldowa\">Szko\\xc5\\x82a Gie\\xc5\\x82dowa</a></li>\\n\\t<li class=\"nav-item\"><a class=\"nav-link\" href=\"https://gieldatoproste.pl/?utm_source=gpw.pl&amp;utm_medium=top_menu&amp;utm_campaign=top_menu_refferal\">Gie\\xc5\\x82da to proste</a></li>\\n\\t<li class=\"nav-item\"><a class=\"nav-link\" href=\"kariera\">Kariera</a></li>\\n\\t<li class=\"nav-item\"><a class=\"nav-link\" href=\"esg-gpw\">ESG</a></li>\\n\\n\\t\\t\\t\\t\\t<li class=\"breakLine\"></li>\\n\\t\\t\\t\\t\\t<li class=\"nav-item dropdown\">\\n\\t\\t\\t\\t\\t\\t\\n\\t<a href=\"javascript:void(0)\" id=\"login-dropdown\" class=\"nav-link dropdown-toggle\" data-toggle=\"dropdown\" data-after=\"true\" data-before=\"true\"><i class=\"icon-login\"></i>Zaloguj</a>\\n\\t<ul class=\"dropdown-menu dropdown-menu-right\" aria-labelledby=\"login-dropdown\" data-after=\"true\">\\n\\t\\t\\t\\t\\t<li><a href=\"https://4bondnet.bondspot.pl/4BondNet\" class=\"dropdown-item\" target=\"_blank\">4BondNet</a></li>\\n\\t\\t\\t\\t\\t<li><a href=\"https://4brokernet.gpw.pl/dana-na/auth/url_default/welcome.cgi\" class=\"dropdown-item\" target=\"_blank\">4BrokerNet</a></li>\\n\\t\\t\\t</ul>\\n\\n\\t\\t\\t\\t\\t</li>\\n\\t\\t\\t\\t\\t\\t\\t   \\t\\t\\n<li class=\"nav-item\"><a class=\"nav-link\" href=\"en-home\" rel=\"nofollow\"><span class=\"flag flag-lg flag-gb \"></span></a></li>\\n\\t\\t\\t\\t\\t<li class=\"nav-item visible-sm-inline-block\"><span class=\"nav-link pointer\" data-toggle=\"collapse\" data-target=\"#search-collapse\" aria-expanded=\"false\"><i class=\"icon-search\"></i></span></li>\\n\\t\\t\\t\\t</ul><!--extraNav-->\\n\\t\\t\\t    <ul class=\"nav\">                \\t\\n\\t\\t\\t<li class=\"nav-item active\"><a class=\"nav-link\" href=\"pl-home\" data-after=\"true\" data-before=\"true\">G\\xc5\\x82\\xc3\\xb3wny Rynek GPW</a></li>\\n\\t\\t\\t<li class=\"nav-item\"><a class=\"nav-link\" href=\"https://newconnect.pl\" data-after=\"true\" data-before=\"true\">NewConnect</a></li>\\n\\t\\t\\t<li class=\"nav-item\"><a class=\"nav-link\" href=\"https://gpwcatalyst.pl\" data-after=\"true\" data-before=\"true\">Catalyst</a></li>\\n\\t\\t\\t<li class=\"nav-item\"><a class=\"nav-link\" href=\"https://bondspot.pl/\" data-after=\"true\" data-before=\"true\">BondSpot</a></li>\\n\\t\\t\\t<li class=\"nav-item\"><a class=\"nav-link\" href=\"https://tge.pl\" data-after=\"true\" data-before=\"true\">TGE</a></li>\\n\\t\\t\\t<li class=\"nav-item\"><a class=\"nav-link\" href=\"https://gpwbenchmark.pl/\" data-after=\"true\" data-before=\"true\">GPW Benchmark</a></li>\\n\\t\\t\\t<li class=\"nav-item\"><a class=\"nav-link\" href=\"https://www.gpw.pl/fundacja-gpw\" data-after=\"true\" data-before=\"true\">Fundacja GPW</a></li>\\n\\t\\t\\t<li class=\"nav-item\"><a class=\"nav-link\" href=\"https://gpwtech.pl\" data-after=\"true\" data-before=\"true\">GPW Tech</a></li>\\n\\t</ul>\\n\\t\\t\\t</div>\\n\\t\\t</div>\\n\\t</nav>\\n\\t<nav class=\"navbar main\" data-after=\"true\">\\n\\t\\t<div class=\"container\">\\n\\t\\t\\t<div class=\"row gutter-sm\">\\n\\t\\t\\t\\t<div class=\"col-md-7 col-lg-8 static\">\\n\\t\\t\\t\\t\\t\\t\\t\\t\\t   \\t<div class=\"collapse navbar-collapse\" id=\"navbar-collapse\"><ul class=\"nav navbar-nav\"><li class=\"nav-item\"><a class=\"nav-link\" href=\"akcje\" id=\"dropdownMenu1\" data-toggle=\"dropdown\" data-after=\"true\" data-before=\"true\">Notowania</a><div class=\"dropdown-menu\" aria-labelledby=\"dropdownMenu1\" data-after=\"true\" ><div class=\"container\"><div class=\"row\"><div class=\"col-md-8 col-lg-9 padding-top-30\"><div class=\"row margin-bottom-30\"><div class=\"col-sm-4\"><a class=\"dropdown-item\" href=\"https://gpwbenchmark.pl/notowania\"><span>Indeksy</span></a><a class=\"dropdown-item\" href=\"akcje\"><span>Akcje i PDA</span></a><a class=\"dropdown-item\" href=\"prawa-poboru\"><span>Prawa poboru</span></a><a class=\"dropdown-item\" href=\"prawa-poboru-jednolite\"><span>Prawa poboru - notowania jednolite</span></a><a class=\"dropdown-item\" href=\"instrumenty-pochodne\"><span>Instrumenty pochodne</span></a><a class=\"dropdown-item\" href=\"produkty-strukturyzowane\"><span>Produkty strukturyzowane</span></a><a class=\"dropdown-item\" href=\"certyfikaty-inwestycyjne\"><span>Certyfikaty inwestycyjne</span></a><a class=\"dropdown-item\" href=\"etfy\"><span>ETF-y</span></a><a class=\"dropdown-item\" href=\"lista-alertow-notowania\"><span>Lista Alert\\xc3\\xb3w</span></a><a class=\"dropdown-item\" href=\"spolki-ze-szczegolnym-oznaczeniem-notowania-ciagle\"><span>Sp\\xc3\\xb3\\xc5\\x82ki ze szczeg\\xc3\\xb3lnym oznaczeniem - notowania ci\\xc4\\x85g\\xc5\\x82e</span></a><a class=\"dropdown-item\" href=\"spolki-ze-szczegolnym-oznaczeniem-notowania-jednolite\"><span>Sp\\xc3\\xb3\\xc5\\x82ki ze szczeg\\xc3\\xb3lnym oznaczeniem - notowania  jednolite</span></a></div><div class=\"col-sm-4\"><a class=\"dropdown-item\" href=\"program-wspierania-plynnosci-notowania\"><span>Program Wspierania P\\xc5\\x82ynno\\xc5\\x9bci</span></a><a class=\"dropdown-item\" href=\"strefa-nizszej-plynnosci\"><span>Strefa ni\\xc5\\xbcszej p\\xc5\\x82ynno\\xc5\\x9bci</span></a><a class=\"dropdown-item\" href=\"spolki-regulacja-s\"><span>Sp\\xc3\\xb3\\xc5\\x82ki podlegaj\\xc4\\x85ce Regulacji S</span></a><a class=\"dropdown-item\" href=\"spolki-regulacja-s-144a\"><span>Sp\\xc3\\xb3\\xc5\\x82ki podlegaj\\xc4\\x85ce Regulacji S oraz Zasadzie 144A</span></a><a class=\"dropdown-item\" href=\"transakcje-pakietowe\"><span>Transakcje pakietowe</span></a><a class=\"dropdown-item\" href=\"transakcje-biso\"><span>Transakcje BISO</span></a><a class=\"dropdown-item\" href=\"zawieszenia-i-wykluczenia\"><span>Zawieszenia i wykluczenia</span></a><a class=\"dropdown-item\" href=\"jakosc_wykonania_transakcji\"><span>Jako\\xc5\\x9b\\xc4\\x87 wykonania transakcji</span></a><a class=\"dropdown-item\" href=\"https://www.gpw.pl/aktualnosci?ph_main_01_start=show&ph_main_01_cmn_id=106468&title=MiFID+II+%2F+MiFIR\"><span>MiFID II / MiFIR</span></a><a class=\"dropdown-item\" href=\"zmiana-kroku-notowania\"><span>Kroki notowania</span></a><a class=\"dropdown-item\" href=\"inne\"><span>Inne</span></a></div></div></div><div class=\"col-md-3 col-md-offset-1 col-lg-offset-0 padding-top-30 blueBox\"><div class=\"row\"><div class=\"col-md-12\"><a class=\"dropdown-item no-hover\"  href=\"javascript:void(0)\"><strong>PODSTAWOWE INFORMACJE</strong></a></div></div><div class=\"row margin-bottom-30\"><div class=\"col-sm-12\"><a class=\"dropdown-item\" href=\"archiwum-notowan\"><span>Archiwum notowa\\xc5\\x84</span></a><a class=\"dropdown-item\" href=\"statystyki-gpw\"><span>Statystyki GPW</span></a><a class=\"dropdown-item\" href=\"wskazniki\"><span>Wska\\xc5\\xbaniki</span></a><a class=\"dropdown-item\" href=\"krotka-sprzedaz\"><span>Kr\\xc3\\xb3tka sprzeda\\xc5\\xbc</span></a><a class=\"dropdown-item btnModal\" href=\"javascript:void(0)\"><span>Analiza techniczna</span></a><a class=\"dropdown-item\" href=\"legenda\"><span>Legenda</span></a><a class=\"dropdown-item\" href=\"objasnienia-nazw-sektorow\"><span>Obja\\xc5\\x9bnienia nazw sektor\\xc3\\xb3w</span></a><a class=\"dropdown-item\" href=\"jak-zaczac-inwestowac\"><span>Jak zacz\\xc4\\x85\\xc4\\x87 inwestowa\\xc4\\x87?</span></a></div></div></div></div></div></div></li><li class=\"nav-item\"><a class=\"nav-link\" href=\"statystyki-gpw\" id=\"dropdownMenu9\" data-after=\"true\" data-before=\"true\">Statystyki</a></li><li class=\"nav-item\"><a class=\"nav-link\" href=\"spolki\" id=\"dropdownMenu10\" data-toggle=\"dropdown\" data-after=\"true\" data-before=\"true\">Sp\\xc3\\xb3\\xc5\\x82ki</a><div class=\"dropdown-menu\" aria-labelledby=\"dropdownMenu10\" data-after=\"true\" ><div class=\"container\"><div class=\"row\"><div class=\"col-md-8 col-lg-9 padding-top-30\"><div class=\"row margin-bottom-30\"><div class=\"col-sm-4\"><a class=\"dropdown-item\" href=\"spolki\"><span>Lista sp\\xc3\\xb3\\xc5\\x82ek</span></a><a class=\"dropdown-item\" href=\"debiuty\"><span>Debiuty</span></a><a class=\"dropdown-item\" href=\"kolejne-emisje-spolek\"><span>Kolejne emisje sp\\xc3\\xb3\\xc5\\x82ek</span></a><a class=\"dropdown-item\" href=\"dobre-praktyki\"><span>Dobre praktyki</span></a><a class=\"dropdown-item\" href=\"programy-partnerskie\"><span>Programy partnerskie</span></a></div><div class=\"col-sm-4\"><a class=\"dropdown-item\" href=\"komunikaty\"><span>Raporty Sp\\xc3\\xb3\\xc5\\x82ek ESPI/EBI</span></a><a class=\"dropdown-item\" href=\"obowiazki-informacyjne\"><span>Obowi\\xc4\\x85zki informacyjne</span></a><a class=\"dropdown-item\" href=\"gpwpa\"><span>Gie\\xc5\\x82dowy Program Wsparcia Pokrycia Analitycznego</span></a></div></div></div><div class=\"col-md-3 col-md-offset-1 col-lg-offset-0 padding-top-30 blueBox\"><div class=\"row margin-bottom-30\"><div class=\"col-sm-12\"><a class=\"dropdown-item\" href=\"spolki-zagraniczne\"><span>Sp\\xc3\\xb3\\xc5\\x82ki zagraniczne</span></a><a class=\"dropdown-item\" href=\"https://www.gpw.pl/regulacja-s\"><span>Sp\\xc3\\xb3\\xc5\\x82ki podlegaj\\xc4\\x85ce Regulacji S</span></a><a class=\"dropdown-item\" href=\"https://www.gpw.pl/zasada-144A\"><span>Sp\\xc3\\xb3\\xc5\\x82ki podlegaj\\xc4\\x85ce Regulacji S oraz Zasadzie 144A</span></a></div></div></div></div></div></div></li><li class=\"nav-item\"><a class=\"nav-link\" href=\"uslugi\" id=\"dropdownMenu4\" data-toggle=\"dropdown\" data-after=\"true\" data-before=\"true\">Us\\xc5\\x82ugi gie\\xc5\\x82dowe</a><div class=\"dropdown-menu\" aria-labelledby=\"dropdownMenu4\" data-after=\"true\" ><div class=\"container\"><div class=\"row\"><div class=\"col-md-8 col-lg-9 padding-top-30\"><div class=\"col-sm-4\"><a class=\"dropdown-item no-hover\" style=\"cursor:pointer\" href=\"uslugi\"><strong>Dla odbiorc\\xc3\\xb3w informacji</strong></a><a class=\"dropdown-item\" href=\"dane-rynkowe\"><span>Dane rynkowe</span></a><a class=\"dropdown-item\" href=\"dane-przetworzone-i-wskazniki\"><span>Dane przetworzone i wska\\xc5\\xbaniki</span></a></div><div class=\"col-sm-3\"><a class=\"dropdown-item no-hover\" style=\"cursor:pointer\" href=\"prospekty-emisyjne\"><strong>Dla sp\\xc3\\xb3\\xc5\\x82ek</strong></a><a class=\"dropdown-item\" href=\"zasady\"><span>Zasady zamieszczania prospekt\\xc3\\xb3w emisyjnych</span></a><a class=\"dropdown-item\" href=\"zasady_memoranda\"><span>Zasady zamieszczania memorand\\xc3\\xb3w informacyjnych</span></a></div><div class=\"col-sm-4\"><a class=\"dropdown-item no-hover\" style=\"cursor:pointer\" href=\"promocje\"><strong>Dla cz\\xc5\\x82onk\\xc3\\xb3w gie\\xc5\\x82dy</strong></a><a class=\"dropdown-item\" href=\"promocje\"><span>Promocje</span></a></div><div class=\"row\"><div class=\"col-md-12\"><div class=\"padding-left-15\"><a href=\"uslugi\" class=\"btn btn-primary pull-left\">Zobacz wszystkie us\\xc5\\x82ugi <i class=\"icon-arrow-big-right\"></i></a></div></div></div><div class=\"row margin-bottom-30\"><div class=\"col-sm-4\"></div></div></div><div class=\"col-md-3 col-md-offset-1 col-lg-offset-0 padding-top-30 blueBox\"><div class=\"row\"><div class=\"col-md-12\"><a class=\"dropdown-item no-hover\" style=\"cursor:pointer\" href=\"lista-domow-maklerskich\"><strong>Dla inwestor\\xc3\\xb3w indywidualnych</strong></a></div></div><div class=\"row margin-bottom-30\"><div class=\"col-sm-12\"><a class=\"dropdown-item btnModal\" href=\"javascript:void(0)\"><span>Analiza techniczna</span></a><a class=\"dropdown-item\" href=\"aplikacja-mobilna\"><span>Aplikacja mobilna</span></a><a class=\"dropdown-item\" href=\"lista-czlonkow-gieldy\"><span>Lista cz\\xc5\\x82onk\\xc3\\xb3w gie\\xc5\\x82dy</span></a></div></div></div></div></div></div></li><li class=\"nav-item\"><a class=\"nav-link\" href=\"https://www.gpw.pl/regulacje\" id=\"dropdownMenu4\" data-after=\"true\" data-before=\"true\">Regulacje</a></li><li class=\"nav-item\"><a class=\"nav-link\" href=\"jak-zaczac-inwestowac\" id=\"dropdownMenu5\" data-toggle=\"dropdown\" data-after=\"true\" data-before=\"true\">Jak zacz\\xc4\\x85\\xc4\\x87?</a><div class=\"dropdown-menu\" aria-labelledby=\"dropdownMenu5\" data-after=\"true\" style=\"background:#d9e6ef;\"><div class=\"container\"><div class=\"row\"><div class=\"col-md-12 col-lg-12 padding-top-30\"><div class=\"col-md-4 dropdown-item no-hover\"><a class=\"dropdown-item no-hover\"  href=\"jak-zaczac-inwestowac\"><strong>Jak zacz\\xc4\\x85\\xc4\\x87 inwestowa\\xc4\\x87?</strong></a><span style=\"height: 37px;color:#000 !important; width:90%;\">Dla inwestor\\xc3\\xb3w indywidualnych chc\\xc4\\x85cych zacz\\xc4\\x85\\xc4\\x87 inwestowa\\xc4\\x87 na G\\xc5\\x82\\xc3\\xb3wnym Rynku<br></span><a href=\"jak-zaczac-inwestowac\" class=\"btn btn-primary pull-left  margin-bottom-30\">Przejd\\xc5\\xba dalej <i class=\"icon-arrow-big-right\"></i></a><div class=\"clearfix\"></div></div><div class=\"col-md-4 dropdown-item no-hover\"><a class=\"dropdown-item no-hover\"  href=\"jak-zaczac-emitowac\"><strong>Jak zosta\\xc4\\x87 sp\\xc3\\xb3\\xc5\\x82k\\xc4\\x85 gie\\xc5\\x82dow\\xc4\\x85?</strong></a><span style=\"height: 37px;color:#000 !important; width:90%;\">Dla sp\\xc3\\xb3\\xc5\\x82ek planuj\\xc4\\x85cych wprowadzenie akcji na G\\xc5\\x82\\xc3\\xb3wny Rynek<br></span><a href=\"jak-zaczac-emitowac\" class=\"btn btn-primary pull-left  margin-bottom-30\">Przejd\\xc5\\xba dalej <i class=\"icon-arrow-big-right\"></i></a><div class=\"clearfix\"></div></div><div class=\"col-md-4 dropdown-item no-hover\"><a class=\"dropdown-item no-hover\"  href=\"jak-dolaczyc\"><strong>Kto mo\\xc5\\xbce zosta\\xc4\\x87 cz\\xc5\\x82onkiem gie\\xc5\\x82dy?</strong></a><span style=\"height: 37px;color:#000 !important; width:90%;\">Dla podmiot\\xc3\\xb3w chc\\xc4\\x85cych zosta\\xc4\\x87 cz\\xc5\\x82onkami Gie\\xc5\\x82dy<br><br></span><a href=\"jak-dolaczyc\" class=\"btn btn-primary pull-left  margin-bottom-30\">Przejd\\xc5\\xba dalej <i class=\"icon-arrow-big-right\"></i></a><div class=\"clearfix\"></div></div></div></div></div></div></li><li class=\"nav-item\"><a class=\"nav-link\" href=\"https://gpw.pl/pl-ri-newsletter\" id=\"dropdownMenu2\" data-after=\"true\" data-before=\"true\">Newsletter</a></li></ul><!--nav--></div><!--collapse-->\\r\\n\\n\\t\\t\\t\\t\\t\\t\\t\\t\\t\\t\\t\\t</div>\\n\\t\\t\\t\\t<div class=\"col-md-2 col-lg-2 static\">\\n\\t\\t\\t\\t\\t<div id=\"navbar-collapse\" class=\"collapse navbar-collapse\">\\n\\t\\t\\t\\t\\t\\t<ul class=\"nav navbar-nav socials\">\\n\\t\\t\\t\\t\\t\\t\\t<li>\\n\\t\\t\\t\\t\\t\\t\\t\\t<a title=\"Do\\xc5\\x82\\xc4\\x85cz do nas\" target=\"_blank\" href=\"http://www.facebook.com/GPW.WSE\">\\n\\t\\t\\t\\t\\t\\t\\t\\t\\t<img alt=\"\"\\n\\t\\t\\t\\t\\t\\t\\t\\t\\t\\t src=\"/html/img/ico_facebook.png\">\\n\\t\\t\\t\\t\\t\\t\\t\\t</a>\\n\\t\\t\\t\\t\\t\\t\\t</li>\\n\\t\\t\\t\\t\\t\\t\\t<li>\\n\\t\\t\\t\\t\\t\\t\\t\\t<a title=\"\\xc5\\x9aled\\xc5\\xba nas\" target=\"_blank\" href=\"http://www.twitter.com/GPW_WSExchange\">\\n\\t\\t\\t\\t\\t\\t\\t\\t\\t<img alt=\"RSS\"\\n\\t\\t\\t\\t\\t\\t\\t\\t\\t\\t src=\"/html/img/ico_tweet.png\">\\n\\t\\t\\t\\t\\t\\t\\t\\t</a>\\n\\t\\t\\t\\t\\t\\t\\t</li>\\n\\t\\t\\t\\t\\t\\t\\t<li>\\n\\t\\t\\t\\t\\t\\t\\t\\t<a title=\"Do\\xc5\\x82\\xc4\\x85cz do nas\" target=\"_blank\" href=\"https://www.instagram.com/gpw.wse/\">\\n\\t\\t\\t\\t\\t\\t\\t\\t\\t<img alt=\"\"\\n\\t\\t\\t\\t\\t\\t\\t\\t\\t\\t src=\"/html/img/ico_instagram.png\">\\n\\t\\t\\t\\t\\t\\t\\t\\t</a>\\n\\t\\t\\t\\t\\t\\t\\t</li>\\n\\t\\t\\t\\t\\t\\t\\t<li>\\n\\t\\t\\t\\t\\t\\t\\t\\t<a title=\"Subskrybuj nas\" target=\"_blank\" href=\"https://www.youtube.com/user/WarsawStockExchange/videos?view_as=public\">\\n\\t\\t\\t\\t\\t\\t\\t\\t\\t<img alt=\"\"\\n\\t\\t\\t\\t\\t\\t\\t\\t\\t\\t src=\"/html/img/ico_tube.png\">\\n\\t\\t\\t\\t\\t\\t\\t\\t</a>\\n\\t\\t\\t\\t\\t\\t\\t</li>\\n\\t\\t\\t\\t\\t\\t\\t<li>\\n\\t\\t\\t\\t\\t\\t\\t\\t<a title=\"Do\\xc5\\x82\\xc4\\x85cz do nas\" target=\"_blank\" href=\"https://pl.linkedin.com/company/warsaw-stock-exchange\">\\n\\t\\t\\t\\t\\t\\t\\t\\t\\t<img alt=\"\"\\n\\t\\t\\t\\t\\t\\t\\t\\t\\t\\t src=\"/html/img/ico_linkedin.png\">\\n\\t\\t\\t\\t\\t\\t\\t\\t</a>\\n\\t\\t\\t\\t\\t\\t\\t</li>\\n\\t\\t\\t\\t\\t\\t</ul><!--nav-->\\n\\t\\t\\t\\t\\t</div>\\n\\t\\t\\t\\t</div>\\n\\t\\t\\t\\t<div class=\"col-md-3 col-lg-2 hidden-xs hidden-sm\">\\n\\t\\t\\t\\t\\t\\n<form action=\"wyniki-wyszukiwania\">\\n\\t<div class=\"input-group\">\\n\\t\\t<input class=\"form-control query\" value=\"1\" name=\"search\" type=\"hidden\">\\n        <input class=\"form-control query\" value=\"PL\" name=\"search_lang\" type=\"hidden\">\\n\\t\\t<input type=\"text\" name=\"search\" class=\"form-control\" placeholder=\"Szukaj w GPW\">\\n\\t\\t<span class=\"input-group-btn\">\\n\\t\\t\\t<button class=\"btn\" type=\"submit\"><i class=\"icon-search\"></i></button>\\n\\t\\t</span>\\n\\t</div>\\n</form>\\n\\t\\t\\t\\t</div>\\n\\t\\t\\t</div><!--row-->\\n\\t\\t</div><!--container-->\\n\\t</nav>\\n</header>\\n\\n\\n\\n\\n<div class=\"modal fade modal-fullscreen\" tabindex=\"-1\" role=\"dialog\" id=\"notoriaModal\">\\n    <div class=\"modal-dialog modal-width-max\">\\n        <div class=\"modal-content\">\\n            <div class=\"modal-header\">\\n                <button type=\"button\" class=\"close\" data-dismiss=\"modal\" aria-label=\"Close\"><span aria-hidden=\"true\">&times;</span></button>\\n                <h4 class=\"modal-title\"><i class=\"icon-calculator\"></i> Analiza techniczna</h4>\\n            </div>\\n            <div class=\"modal-body\">\\n                <div class=\"row\">\\n                    <script type=\"text/javascript\" src=\"https://gpw.notoria.pl/widgets/ta/notoria.php\"></script> \\n                    <notoria widget=\"ta\" module=\"stock\"></notoria> \\n                </div>\\n            </div>\\n        </div><!-- /.modal-content -->\\n    </div><!-- /.modal-dialog -->\\n</div><!-- /.modal -->\\n\\n\\n\\n\\n<div class=\"modal fade\" tabindex=\"-1\" role=\"dialog\" id=\"calculateModal\">\\n    <div class=\"modal-dialog modal-lg\">\\n        <div class=\"modal-content\">\\n            <div class=\"modal-header\">\\n                <button type=\"button\" class=\"close\" data-dismiss=\"modal\" aria-label=\"Close\"><span aria-hidden=\"true\">&times;</span></button>\\n                <h4 class=\"modal-title\"><i class=\"icon-calculator\"></i> Kalkulator</h4>\\n            </div>\\n            <div class=\"modal-body\">\\n                <div class=\"row\" style=\"padding-bottom:40px;\" id=\"calculateDisclaimer\">\\n                    <div class=\"col-sm-12\">\\n                        Kalkulator warto\\xc5\\x9bci opcji (\\xe2\\x80\\x9eKalkulator\\xe2\\x80\\x9d) zosta\\xc5\\x82 stworzony dla inwestor\\xc3\\xb3w indywidualnych w celach edukacyjnych. Gie\\xc5\\x82da Papier\\xc3\\xb3w Warto\\xc5\\x9bciowych w Warszawie S.A. do\\xc5\\x82o\\xc5\\xbcy\\xc5\\x82a wszelkich stara\\xc5\\x84, aby obliczenia Kalkulatora by\\xc5\\x82y kompletne i zgodne z prawd\\xc4\\x85, nie jest jednak w stanie zagwarantowa\\xc4\\x87 ich poprawno\\xc5\\x9bci, a w przypadku informacji pochodz\\xc4\\x85cych ze \\xc5\\xbar\\xc3\\xb3de\\xc5\\x82 zewn\\xc4\\x99trznych ich zgodno\\xc5\\x9bci ze stanem faktycznym lub prawnym i nie ponosi \\xc5\\xbcadnej odpowiedzialno\\xc5\\x9bci za jakiekolwiek szkody powsta\\xc5\\x82e w wyniku korzystania z nich. Dane generowane przez Kalkulator nie stanowi\\xc4\\x85 oferty kupna ani sprzeda\\xc5\\xbcy jakichkolwiek instrument\\xc3\\xb3w finansowych ani us\\xc5\\x82ug inwestycyjnych oraz nie mog\\xc4\\x85 by\\xc4\\x87 traktowane jako rekomendacja inwestowania w jakiekolwiek instrumenty finansowe.\\n                    </div>\\n                    <div class=\"form-group margin-top-10\">\\n                                    <div class=\"col-sm-6 col-md-6 text-right\">\\n                                        <button class=\"btn btn-primary\" type=\"button\" id=\"modalYes\">TAK</button>\\n                                    </div>\\n                                    <div class=\"col-sm-6 col-md-6 text-left\">\\n                                        <button class=\"btn btn-primary\" type=\"button\" data-dismiss=\"modal\">NIE</button>\\n\\n                                    </div>\\n                                </div>\\n                </div>\\n                <div class=\"row\" id=\"modalContent\" style=\"display:none\">\\n                    \\n                    <div class=\"col-xs-12 col-md-6\">\\n                        <div class=\"bg_lightGrey padding-bottom-15 padding-top-15 padding-left-15 padding-right-15 margin-bottom-10\">\\n                            <div class=\"margin-bottom-20\">\\n                                <h4>Warto\\xc5\\x9bci opcji <b id=\"calcModalName\">OW20H152900</b></h4>\\n                                <a href=\"\" class=\"grey\">Jak dzia\\xc5\\x82a kalkulator</a> <a href=\"javascript:void(0)\" title=\"\" data-toggle=\"popover\" data-trigger=\"focus\" data-content=\"Kalkulator warto\\xc5\\x9bci opcji s\\xc5\\x82u\\xc5\\xbcy do wyliczania teoretycznych warto\\xc5\\x9bci opcji na podstawie modelu Black-Scholes oraz panuj\\xc4\\x85cych warunk\\xc3\\xb3w rynkowych. Naci\\xc5\\x9bnij niebieskie ikonki informacyjne, \\xc5\\xbceby przeczyta\\xc4\\x87 dok\\xc5\\x82adne instrukcje wype\\xc5\\x82niania p\\xc3\\xb3l\"><i class=\"glyphicon glyphicon-question-sign\"></i></a>\\n                            </div>\\n                            <form class=\"form-horizontal\">\\n                                <div class=\"form-group margin-bottom-5\">\\n                                    <label for=\"\" class=\"col-sm-6 col-md-7 control-label\">Instrument bazowy <a href=\"javascript:void(0)\" title=\"\" data-toggle=\"popover\" data-trigger=\"focus\" data-content=\"wybierz instrument bazowy opcji; obecnie na GPW notowane s\\xc4\\x85 tylko opcje na WIG20 i dlatego to pole ustawione jest tylko na \\xe2\\x80\\x98WIG20\\xe2\\x80\\x99\"><i class=\"glyphicon glyphicon-question-sign\"></i></a> </label>\\n                                    <div class=\"col-sm-6 col-md-5\">\\n                                        <input type=\"text\" class=\"form-control input-sm\" id=\"calcModalInstrumentBase\" readonly placeholder=\"WIG20\">\\n                                    </div>\\n                                </div>\\n                                <div class=\"form-group margin-bottom-5\">\\n                                    <label for=\"\" class=\"col-sm-6 col-md-7 control-label\">Data wga\\xc5\\x9bni\\xc4\\x99cia opcji <a href=\"javascript:void(0)\" title=\"\" data-toggle=\"popover\" data-trigger=\"focus\" data-content=\"wybierz dat\\xc4\\x99 wyga\\xc5\\x9bni\\xc4\\x99cia opcji; je\\xc5\\xbceli nacisn\\xc4\\x85\\xc5\\x82e\\xc5\\x9b ikonk\\xc4\\x99 kalkulatora przy pe\\xc5\\x82nej nazwie opcji w notowaniach nie ma mo\\xc5\\xbcliwo\\xc5\\x9bci zmiany daty wyga\\xc5\\x9bni\\xc4\\x99cia\"><i class=\"glyphicon glyphicon-question-sign\"></i></a> </label>\\n                                    <div class=\"col-sm-6 col-md-5\">\\n\\t\\t\\t\\t\\t\\t\\t\\t\\t\\t<select data-name=\"expiry_date\" disabled readonly class=\"form-control input-sm\" id=\"calcModalExpiryDate\">\\n                                                                                        <option value=\"\">--------</option>\\n                                                                                        \\t\\t\\t\\t\\t\\t\\t\\t\\t\\t\\t<option value=\"2021-06-18\" selected=\"selected\">2021-06-18</option>\\n\\t\\t\\t\\t\\t\\t\\t\\t\\t\\t\\t\\t\\t\\t\\t\\t\\t\\t\\t\\t\\t\\t<option value=\"2021-07-16\" >2021-07-16</option>\\n\\t\\t\\t\\t\\t\\t\\t\\t\\t\\t\\t\\t\\t\\t\\t\\t\\t\\t\\t\\t\\t\\t<option value=\"2021-09-17\" >2021-09-17</option>\\n\\t\\t\\t\\t\\t\\t\\t\\t\\t\\t\\t\\t\\t\\t\\t\\t\\t\\t\\t\\t\\t\\t<option value=\"2021-12-17\" >2021-12-17</option>\\n\\t\\t\\t\\t\\t\\t\\t\\t\\t\\t\\t\\t\\t\\t\\t\\t\\t\\t\\t\\t\\t\\t<option value=\"2022-03-18\" >2022-03-18</option>\\n\\t\\t\\t\\t\\t\\t\\t\\t\\t\\t\\t\\t\\t\\t\\t\\t\\t\\t\\t\\t\\t\\t<option value=\"2022-06-17\" >2022-06-17</option>\\n\\t\\t\\t\\t\\t\\t\\t\\t\\t\\t\\t\\t\\t\\t\\t\\t\\t\\t\\t\\t\\t</select>\\n\\t\\t\\t\\t\\t\\t\\t\\t\\t\\t<!--<input type=\"text\" class=\"form-control input-sm\" id=\"calcModalExpiryDate\" placeholder=\"\">\\n                                        <select class=\"form-control input-sm\">\\n                                            <option value=\"\"></option>\\n                                        </select>-->\\n                                    </div>\\n                                </div>\\n                                <div class=\"form-group margin-bottom-5\">\\n                                    <label for=\"\" class=\"col-sm-6 col-md-7 control-label\">Kurs wykonania <a href=\"javascript:void(0)\" title=\"\" data-toggle=\"popover\" data-trigger=\"focus\" data-content=\"wybierz kurs wykonania opcji; je\\xc5\\xbceli nacisn\\xc4\\x85\\xc5\\x82e\\xc5\\x9b ikonk\\xc4\\x99 kalkulatora przy pe\\xc5\\x82nej nazwie opcji w notowaniach nie ma mo\\xc5\\xbcliwo\\xc5\\x9bci zmiany kursu wykonania\"><i class=\"glyphicon glyphicon-question-sign\"></i></a> </label>\\n                                    <div class=\"col-sm-6 col-md-5\">\\n                                        <input type=\"text\" class=\"form-control input-sm\" id=\"calcModalKW\">\\n                                    </div>\\n                                </div>\\n                                <div class=\"form-group margin-bottom-5\">\\n                                    <label for=\"\" class=\"col-sm-6 col-md-7 control-label\">Kurs instr. bazowego <a href=\"javascript:void(0)\" title=\"\" data-toggle=\"popover\" data-trigger=\"focus\" data-content=\"wpisz warto\\xc5\\x9b\\xc4\\x87 instrumentu bazowego; je\\xc5\\xbceli nacisn\\xc4\\x85\\xc5\\x82e\\xc5\\x9b ikonk\\xc4\\x99 kalkulatora w notowaniach przy pe\\xc5\\x82nej nazwie opcji, pole to jest automatycznie zasilane ostatni\\xc4\\x85 warto\\xc5\\x9bci\\xc4\\x85 instrumentu bazowego (op\\xc3\\xb3\\xc5\\xbanienie 15 min.) danej serii opcji\"><i class=\"glyphicon glyphicon-question-sign\"></i></a> </label>\\n                                    <div class=\"col-sm-6 col-md-5\">\\n                                        <input type=\"text\" class=\"form-control input-sm\" id=\"calcModalInstrumentBaseValue\" placeholder=\"\">\\n                                    </div>\\n                                </div>\\n                                <div class=\"form-group margin-bottom-5\">\\n                                    <label for=\"\" class=\"col-sm-6 col-md-7 control-label\">Stopa dywidendy <a href=\"javascript:void(0)\" title=\"\" data-toggle=\"popover\" data-trigger=\"focus\" data-content=\"wpisz warto\\xc5\\x9b\\xc4\\x87 dywidendy (%) instrumentu bazowego do terminu wyga\\xc5\\x9bni\\xc4\\x99cia opcji; je\\xc5\\xbceli nacisn\\xc4\\x85\\xc5\\x82e\\xc5\\x9b ikonk\\xc4\\x99 kalkulatora w notowaniach przy pe\\xc5\\x82nej nazwie opcji, pole to jest automatycznie zasilane warto\\xc5\\x9bci\\xc4\\x85 dywidendy obliczanej przez GPW i dost\\xc4\\x99pnej w bie\\xc5\\xbc\\xc4\\x85cych wska\\xc5\\xbanikach dla opcji\"><i class=\"glyphicon glyphicon-question-sign\"></i></a> </label>\\n                                    <div class=\"col-sm-6 col-md-5\">\\n                                        <input type=\"text\" class=\"form-control input-sm\" id=\"calcModalDividendYield\" placeholder=\"\">\\n                                    </div>\\n                                </div>\\n                                <div class=\"form-group margin-bottom-5\">\\n                                    <label for=\"\" class=\"col-sm-6 col-md-7 control-label\">Zmienno\\xc5\\x9b\\xc4\\x87 <a href=\"javascript:void(0)\" title=\"\" data-toggle=\"popover\" data-trigger=\"focus\" data-content=\"wpisz zmienno\\xc5\\x9b\\xc4\\x87 instrumentu bazowego (%); je\\xc5\\xbceli nacisn\\xc4\\x85\\xc5\\x82e\\xc5\\x9b ikonk\\xc4\\x99 kalkulatora w notowaniach przy pe\\xc5\\x82nej nazwie opcji, pole to jest automatycznie zasilane warto\\xc5\\x9bci\\xc4\\x85 zmienno\\xc5\\x9bci obliczanej przez GPW i dost\\xc4\\x99pne w bie\\xc5\\xbc\\xc4\\x85cych wska\\xc5\\xbanikach dla opcji\"><i class=\"glyphicon glyphicon-question-sign\"></i></a> </label>\\n                                    <div class=\"col-sm-6 col-md-5\">\\n                                        <input type=\"text\" class=\"form-control input-sm\" id=\"calcModalVolatility\" placeholder=\"\">\\n                                    </div>\\n                                </div>\\n                                <div class=\"form-group margin-bottom-5\">\\n                                    <label for=\"\" class=\"col-sm-6 col-md-7 control-label\">Stopa procentowa <a href=\"javascript:void(0)\" title=\"\" data-toggle=\"popover\" data-trigger=\"focus\" data-content=\"wpisz warto\\xc5\\x9b\\xc4\\x87 stopy wolnej od ryzyka (%) dla instrumentu bazowego do terminu wyga\\xc5\\x9bni\\xc4\\x99cia opcji; je\\xc5\\xbceli nacisn\\xc4\\x85\\xc5\\x82e\\xc5\\x9b ikonk\\xc4\\x99 kalkulatora w notowaniach przy pe\\xc5\\x82nej nazwie opcji, pole to jest automatycznie zasilane warto\\xc5\\x9bci\\xc4\\x85 stopy wolnej od ryzyka obliczanej przez GPW i dost\\xc4\\x99pnej w bie\\xc5\\xbc\\xc4\\x85cych wska\\xc5\\xbanikach dla opcji\"><i class=\"glyphicon glyphicon-question-sign\"></i></a> </label>\\n                                    <div class=\"col-sm-6 col-md-5\">\\n                                        <input type=\"text\" class=\"form-control input-sm\" id=\"calcModalRiskFreeInterestRate\" placeholder=\"\">\\n                                    </div>\\n                                </div>\\n                                <div class=\"form-group margin-bottom-5\">\\n                                    <label for=\"\" class=\"col-sm-6 col-md-7 control-label\">Data kalkulacji <a href=\"javascript:void(0)\" title=\"\" data-toggle=\"popover\" data-trigger=\"focus\" data-content=\"domy\\xc5\\x9blnie pole ustawione jest z dat\\xc4\\x85 dnia dzisiejszego. Mo\\xc5\\xbcna zmieni\\xc4\\x87 dat\\xc4\\x99 na dowolny dzie\\xc5\\x84, aby obliczy\\xc4\\x87 warto\\xc5\\x9b\\xc4\\x87 opcji z d\\xc5\\x82u\\xc5\\xbcszym lub kr\\xc3\\xb3tszym okresem czasu do wyga\\xc5\\x9bni\\xc4\\x99cia. Kalkulator bierze pod uwag\\xc4\\x99 tylko dni sesyjne\"><i class=\"glyphicon glyphicon-question-sign\"></i></a> </label>\\n                                    <div class=\"col-sm-6 col-md-5\">\\n                                        <input type=\"text\" class=\"form-control input-sm\" id=\"calcModalCalculationDate\" placeholder=\"\" value=\"2021-05-30\">\\n                                    </div>\\n                                </div>\\n                                <div class=\"form-group margin-top-10\">\\n                                    <div class=\"col-sm-6 col-md-6 text-right\">\\n                                        <button type=\"button\" class=\"btn btn-primary clearForm\">Wyczy\\xc5\\x9b\\xc4\\x87 </button>\\n                                    </div>\\n                                    <div class=\"col-sm-6 col-md-6 text-right\">\\n                                        <button type=\"submit\" id=\"calcModalSubmitButton\" class=\"btn btn-primary\">Oblicz warto\\xc5\\x9b\\xc4\\x87 </button>\\n                                    </div>\\n                                </div>\\n                                \\n                            </form>\\n                        </div><!--bg_lightLightGrey-->\\n\\n                        <a href=\"\" class=\"media media-sm margin-bottom-10\">\\n                            <!--<span class=\"media-left\"><i class=\"icon-xls font30\"></i></span>\\n                            <span class=\"media-body\">Pobierz kalkulator <br><small>(XLS 20KB)</small></span>-->\\n                        </a>\\n\\n                    </div>\\n                    <div class=\"col-xs-12 col-md-6\">\\n\\n                        <div>\\n                            <table class=\"table\">\\n                                <tr>\\n                                    <th style=\"width:140px;\"></th>\\n                                    <th id=\"callModalHeader\">CALL</th>\\n                                    <th id=\"putModalHeader\">PUT</th>\\n                                </tr>\\n                                <tr>\\n                                    <td colspan=\"2\"><strong>Wycena opcji</strong></td>\\n                                    <td></td>\\n                                </tr>\\n                                <tr>\\n                                    <td>Kurs teoretyczny <a href=\"javascript:void(0)\" title=\"\" data-toggle=\"popover\" data-trigger=\"focus\" data-content=\"teoretyczna warto\\xc5\\x9b\\xc4\\x87 opcji obliczona na podstawie zmiennych wpisanych do kalkulatora; je\\xc5\\xbceli nacisn\\xc4\\x85\\xc5\\x82e\\xc5\\x9b ikonk\\xc4\\x99 kalkulatora w notowaniach przy pe\\xc5\\x82nej nazwie opcji, wy\\xc5\\x9bwietl\\xc4\\x85 si\\xc4\\x99 tylko warto\\xc5\\x9bci dla odpowiedniej serii opcji \\xe2\\x80\\x93 je\\xc5\\xbceli chcia\\xc5\\x82e\\xc5\\x9b obliczy\\xc4\\x87 opcj\\xc4\\x99 Call, wy\\xc5\\x9bwietl\\xc4\\x85 si\\xc4\\x99 tylko warto\\xc5\\x9bci w kolumnie CALL, je\\xc5\\xbceli chcia\\xc5\\x82e\\xc5\\x9b obliczy\\xc4\\x87 opcj\\xc4\\x99 Put, wy\\xc5\\x9bwietl\\xc4\\x85 si\\xc4\\x99 tylko warto\\xc5\\x9bci w kolumnie PUT.\"><i class=\"glyphicon glyphicon-question-sign\"></i></a></td>\\n                                    <td id=\"callPrice\"></td>\\n                                    <td id=\"putPrice\"></td>\\n                                </tr>\\n                                <tr>\\n                                    <td colspan=\"2\"><strong>Greckie Wska\\xc5\\xbaniki</strong></td>\\n                                    <td></td>\\n                                </tr>\\n                                <tr>\\n                                    <td>Delta <a href=\"javascript:void(0)\" title=\"\" data-toggle=\"popover\" data-trigger=\"focus\" data-content=\"pokazuje o ile zmieni si\\xc4\\x99 kurs opcji w wyniku zmiany warto\\xc5\\x9bci instrumentu bazowego przy za\\xc5\\x82o\\xc5\\xbceniu braku zmiany pozosta\\xc5\\x82ych czynnik\\xc3\\xb3w; dla opcji Call warto\\xc5\\x9b\\xc4\\x87 dodatnia (+), dla opcji Put warto\\xc5\\x9b\\xc4\\x87 ujemna (-)\"><i class=\"glyphicon glyphicon-question-sign\"></i></a></td>\\n                                    <td id=\"callDelta\"></td>\\n                                    <td id=\"putDelta\"></td>\\n                                </tr>\\n                                <tr>\\n                                    <td>Gamma <a href=\"javascript:void(0)\" title=\"\" data-toggle=\"popover\" data-trigger=\"focus\" data-content=\"wska\\xc5\\xbanik miary zmiany warto\\xc5\\x9bci \\xe2\\x80\\x9eDelta\\xe2\\x80\\x9d w stosunku do zmiany warto\\xc5\\x9bci instrumentu bazowego przy za\\xc5\\x82o\\xc5\\xbceniu braku zmiany pozosta\\xc5\\x82ych czynnik\\xc3\\xb3w. Pokazuje o ile Delta ro\\xc5\\x9bnie/spada przy wzro\\xc5\\x9bcie/spadku instrumentu bazowego.\"><i class=\"glyphicon glyphicon-question-sign\"></i></a></td>\\n                                    <td id=\"callGamma\"></td>\\n                                    <td id=\"putGamma\"></td>\\n                                </tr>\\n                                <tr>\\n                                    <td>Theta <a href=\"javascript:void(0)\" title=\"\" data-toggle=\"popover\" data-trigger=\"focus\" data-content=\"wska\\xc5\\xbanik miary spadku warto\\xc5\\x9bci opcji w stosunku do up\\xc5\\x82ywu czasu przy za\\xc5\\x82o\\xc5\\xbceniu braku zmiany pozosta\\xc5\\x82ych czynnik\\xc3\\xb3w; pokazuje o ile spadnie warto\\xc5\\x9b\\xc4\\x87 opcji po up\\xc5\\x82ywie 1 dnia sesyjnego.\"><i class=\"glyphicon glyphicon-question-sign\"></i></a></td>\\n                                    <td id=\"callTheta\"></td>\\n                                    <td id=\"putTheta\"></td>\\n                                </tr>\\n                                <tr>\\n                                    <td>Vega (Kappa) <a href=\"javascript:void(0)\" title=\"\" data-toggle=\"popover\" data-trigger=\"focus\" data-content=\"wska\\xc5\\xbanik miary zmiany warto\\xc5\\x9bci opcji w stosunku do zmiany zmienno\\xc5\\x9bci instrumentu bazowego w pkt. procentowych przy za\\xc5\\x82o\\xc5\\xbceniu braku zmiany pozosta\\xc5\\x82ych czynnik\\xc3\\xb3w; pokazuje o ile cena opcji wzro\\xc5\\x9bnie/spadnie na skutek wzrostu/spadku o 1% zmienno\\xc5\\x9bci instrumentu bazowego.\"><i class=\"glyphicon glyphicon-question-sign\"></i></a></td>\\n                                    <td id=\"callVega\"></td>\\n                                    <td id=\"putVega\"></td>\\n                                </tr>\\n                                <tr>\\n                                    <td>Rho <a href=\"javascript:void(0)\" title=\"\" data-toggle=\"popover\" data-trigger=\"focus\" data-content=\"wska\\xc5\\xbanik miary zmiany warto\\xc5\\x9bci opcji na skutek zmiany stopy wolnej od ryzyka instrumentu bazowego przy za\\xc5\\x82o\\xc5\\xbceniu braku zmiany pozosta\\xc5\\x82ych czynnik\\xc3\\xb3w; wska\\xc5\\xbanik ten ma minimalny wp\\xc5\\x82yw na warto\\xc5\\x9b\\xc4\\x87 opcji.\"><i class=\"glyphicon glyphicon-question-sign\"></i></a></td>\\n                                    <td id=\"callRho\"></td>\\n                                    <td id=\"putRho\"></td>\\n                                </tr>\\n                            </table>\\n                        </div>\\n\\n                    </div>\\n                </div><!--row-->\\n            </div>\\n        </div><!-- /.modal-content -->\\n    </div><!-- /.modal-dialog -->\\n</div><!-- /.modal -->\\n\\n<script type=\"text/javascript\" src=\"/html/js/sc.js\"></script>\\n<script>\\n    \\n    \\t$(\"#calcModalSubmitButton\").click(function (e) {\\n\\t\\te.preventDefault();\\n\\t\\tvar stockPrice = $(\"#calcModalInstrumentBaseValue\").val();\\n\\t\\tvar strikePrice = $(\"#calcModalKW\").val();\\n\\t\\tvar riskFreeInterestRate = $(\"#calcModalRiskFreeInterestRate\").val();\\n\\t\\tvar volatility = $(\"#calcModalVolatility\").val();\\n\\t\\tvar daysToExpire = $(\"#calcModalExpiryDate\").val();\\n\\t\\tvar dividendYield = $(\"#calcModalDividendYield\").val();\\n//\\t\\tvar optionPrice = $(\"#calcModalOptionRate\").val();\\n//\\t\\tvar optionPricePut = $(\"#calcModalOptionRatePut\").val();\\n\\t\\tvar errorRatio = $(\"#calcModalCalculationErrorRatio\").val();\\n\\t\\tvar calculationDate = $(\"#calcModalCalculationDate\").val();\\n\\t\\tvar result;\\n\\n\\t\\tresult = calculateValues(stockPrice,\\n\\t\\t\\tstrikePrice,\\n\\t\\t\\triskFreeInterestRate,\\n\\t\\t\\tvolatility,\\n\\t\\t\\tdaysToExpire,\\n\\t\\t\\tdividendYield,\\n\\t\\t\\t1,//optionPricePut,\\n\\t\\t\\t1,//optionPrice,\\n\\t\\t\\tcalculationDate);\\n\\n\\t\\t$(\"#callPrice\").text(getLocaleNumber(result[0][\"price\"].toFixed(4), \\'pl\\'));\\n\\t\\t$(\"#callDelta\").text(getLocaleNumber(result[0][\"delta\"].toFixed(4), \\'pl\\'));\\n\\t\\t$(\"#callGamma\").text(getLocaleNumber(result[0][\"gamma\"].toFixed(4), \\'pl\\'));\\n\\t\\t$(\"#callTheta\").text(getLocaleNumber(result[0][\"theta\"].toFixed(4), \\'pl\\'));\\n\\t\\t$(\"#callVega\").text(getLocaleNumber(result[0][\"vega\"].toFixed(4), \\'pl\\'));\\n\\t\\t$(\"#callRho\").text(getLocaleNumber(result[0][\"rho\"].toFixed(4), \\'pl\\'));\\n\\t\\t/*if(optionPrice.length != 0){\\n\\t\\t\\tvar tmpCIV = getLocaleNumber(parseFloat(result[0][\"impliedVolatility\"]*100).toFixed(4), \\'pl\\');\\n\\t\\t\\t$(\"#callImpliedVolatility\").text(tmpCIV+\"%\");\\n\\t\\t}else{\\n\\t\\t\\t$(\"#callImpliedVolatility\").text(\"\");\\n\\t\\t}*/\\n\\n\\t\\t$(\"#putPrice\").text(getLocaleNumber(result[1][\"price\"].toFixed(4), \\'pl\\'));\\n\\t\\t$(\"#putDelta\").text(getLocaleNumber(result[1][\"delta\"].toFixed(4), \\'pl\\'));\\n\\t\\t$(\"#putGamma\").text(getLocaleNumber(result[1][\"gamma\"].toFixed(4), \\'pl\\'));\\n\\t\\t$(\"#putTheta\").text(getLocaleNumber(result[1][\"theta\"].toFixed(4), \\'pl\\'));\\n\\t\\t$(\"#putVega\").text(getLocaleNumber(result[1][\"vega\"].toFixed(4), \\'pl\\'));\\n\\t\\t$(\"#putRho\").text(getLocaleNumber(result[1][\"rho\"].toFixed(4), \\'pl\\'));\\n\\t\\t/*if(optionPricePut.length != 0){\\n\\t\\t\\tvar tmpPIV = getLocaleNumber(parseFloat(result[1][\"impliedVolatility\"]*100).toFixed(4), \\'pl\\');\\n\\t\\t\\t$(\"#putImpliedVolatility\").text((tmpPIV+\"%\"));\\n\\t\\t}else{\\n\\t\\t\\t$(\"#putImpliedVolatility\").text(\"\");\\n\\t\\t}*/\\n\\t});\\n\\nfunction getLocaleNumber(stringToConvert, locale){\\n        var sOut = stringToConvert.toString();\\n        //alert(sOut);\\n        if(sOut.length >=17 || sOut.indexOf(\"e\") > 0 || sOut == \\'NaN\\'){\\n                stc = 0;\\n                stringToConvert = stc.toPrecision(4);\\n        }\\n\\tif(locale == \\'pl\\'){\\n\\t\\tvar tmpInput = String(stringToConvert);\\n\\t\\ttmpInput = tmpInput.replace(/,/, \\'\\xe2\\x99\\xa3\\')\\n\\t \\t\\t.replace(/\\\\./, \\',\\')\\n  \\t  \\t\\t.replace(/\\xe2\\x99\\xa3/, \\'.\\');\\n\\t\\t//tmpInput = tmpInput.substring(0, 6);\\n\\t} else{\\n\\t\\tvar tmpInput = stringToConvert;\\n\\t}\\n\\treturn tmpInput;\\n}\\n    \\n    function setModalValuesEmpty(callOrPut){\\n                \\n                \\n                \\n                $(\"#calculateModal select option\").each(function(){\\n                if($(this).val()==\\'\\'){\\n                    $(this).attr(\"selected\",\"selected\");    \\n                }\\n                else{\\n                    $(this).removeAttr(\"selected\");\\n                }\\n            });\\n                \\n                $(\"#calcModalName\").text(\\'\\');\\n                $(\"#calcModalKW\").attr(\\'readonly\\',false);\\n\\t\\tvar d = new Date();\\n                \\n                $(\"#callPrice\").text(\\'\\');\\n                        $(\"#callDelta\").text(\\'\\');\\n                        $(\"#callGamma\").text(\\'\\');\\n                        $(\"#callTheta\").text(\\'\\');\\n                        $(\"#callVega\").text(\\'\\');\\n                        $(\"#callRho\").text(\\'\\');\\n                        $(\"#calcModalOptionRate\").text(\\'\\');\\n                        $(\"#callImpliedVolatility\").text(\\'\\');\\n                        $(\"#putPrice\").text(\\'\\');\\n                        $(\"#putDelta\").text(\\'\\');\\n                        $(\"#putGamma\").text(\\'\\');\\n                        $(\"#putTheta\").text(\\'\\');\\n                        $(\"#putVega\").text(\\'\\');\\n                        $(\"#putRho\").text(\\'\\');\\n                        $(\"#calcModalOptionRatePut\").text(\\'\\');\\n                        $(\"#putImpliedVolatility\").text(\\'\\');\\n                \\n\\t\\tif(callOrPut == \"call\"){\\n\\n    \\t\\t$(\"#calcModalInstrumentBaseValue\").val(\\'\\');\\n    \\t\\t$(\"#calcModalKW\").val(\\'\\');\\n    \\t\\t$(\"#calcModalRiskFreeInterestRate\").val(\\'\\');\\n    \\t\\t$(\"#calcModalVolatility\").val(\\'\\');\\n    \\t\\t$(\"#calcModalExpiryDate\").val(\\'\\');\\n    \\t\\t$(\"#calcModalDividendYield\").val(\\'\\');\\n    \\t\\t$(\"#calcModalOptionRate\").val(\\'\\');\\n    \\t\\t$(\"#calcModalOptionRatePut\").val(\\'\\');\\n    \\t\\t$(\"#calcModalCalculationErrorRatio\").val(\\'\\');\\n    \\t\\t$(\"#calcModalCalculationDate\").val(\\'2021-05-30\\');\\n    \\t\\t\\n\\t\\t\\t$(\"#putModalHeader\").removeClass(\\'font-bold\\');\\n\\t\\t\\t$(\"#callModalHeader\").addClass(\\'font-bold\\');\\n\\t\\t\\t$(\"#callPrice\").addClass(\\'font-bold\\');\\n\\t\\t\\t$(\"#callDelta\").addClass(\\'font-bold\\');\\n\\t\\t\\t$(\"#callGamma\").addClass(\\'font-bold\\');\\n\\t\\t\\t$(\"#callTheta\").addClass(\\'font-bold\\');\\n\\t\\t\\t$(\"#callVega\").addClass(\\'font-bold\\');\\n\\t\\t\\t$(\"#callRho\").addClass(\\'font-bold\\');\\n\\t\\t\\t$(\"#calcModalOptionRate\").addClass(\\'font-bold\\');\\n\\t\\t\\t$(\"#callImpliedVolatility\").addClass(\\'font-bold\\');\\n\\t\\t\\t$(\"#putPrice\").removeClass(\\'font-bold\\');\\n            $(\"#putDelta\").removeClass(\\'font-bold\\');\\n            $(\"#putGamma\").removeClass(\\'font-bold\\');\\n            $(\"#putTheta\").removeClass(\\'font-bold\\');\\n            $(\"#putVega\").removeClass(\\'font-bold\\');\\n            $(\"#putRho\").removeClass(\\'font-bold\\');\\n            $(\"#calcModalOptionRatePut\").removeClass(\\'font-bold\\');\\n            $(\"#putImpliedVolatility\").removeClass(\\'font-bold\\');\\n\\t\\t\\t$(\"#calcModalOptionRatePut\").hide();\\n            $(\"#calcModalOptionRate\").show();\\n            \\n            \\n\\t\\t} else {\\n\\t\\t\\t$(\"#callModalHeader\").removeClass(\\'font-bold\\');\\n\\t\\t\\t$(\"#putModalHeader\").addClass(\\'font-bold\\');\\n\\t\\t\\t$(\"#callPrice\").removeClass(\\'font-bold\\');\\n                        $(\"#callDelta\").removeClass(\\'font-bold\\');\\n                        $(\"#callGamma\").removeClass(\\'font-bold\\');\\n                        $(\"#callTheta\").removeClass(\\'font-bold\\');\\n                        $(\"#callVega\").removeClass(\\'font-bold\\');\\n                        $(\"#callRho\").removeClass(\\'font-bold\\');\\n                        $(\"#calcModalOptionRate\").removeClass(\\'font-bold\\');\\n                        $(\"#callImpliedVolatility\").removeClass(\\'font-bold\\');\\n\\t\\t\\t$(\"#putPrice\").addClass(\\'font-bold\\');\\n                        $(\"#putDelta\").addClass(\\'font-bold\\');\\n                        $(\"#putGamma\").addClass(\\'font-bold\\');\\n                        $(\"#putTheta\").addClass(\\'font-bold\\');\\n                        $(\"#putVega\").addClass(\\'font-bold\\');\\n                        $(\"#putRho\").addClass(\\'font-bold\\');\\n                        $(\"#calcModalOptionRatePut\").addClass(\\'font-bold\\');\\n                        $(\"#putImpliedVolatility\").addClass(\\'font-bold\\');\\n\\t\\t\\t$(\"#calcModalOptionRate\").hide();\\n                        $(\"#calcModalOptionRatePut\").show();\\n\\t\\t}\\n                $(\"#calcModalKW\").attr(\"readonly\", false);\\n                $(\"#calcModalInstrumentBase\").attr(\\'readonly\\',false);\\n                $(\"#calcModalExpiryDate\").attr(\\'disabled\\',false);\\n                $(\"#calcModalKW\").attr(\\'disabled\\',false);\\n                $(\"#calcModalName\").html(\\'\\');\\n                \\n                \\n\\t\\t\\n\\t\\t\\n\\t\\t\\n\\t};\\n\\n</script>\\n<script>\\n$(document).ready(function() {\\n    \\n    $(\\'#modalYes\\').click(function(){\\n        $(\\'#calculateDisclaimer\\').hide();\\n        $(\\'#modalContent\\').show();\\n    })\\n    \\n    $(\\'.clearForm\\').click(function(){\\n        \\n        $(\\'#calculateModal input:text\\').val(\\'\\');\\n        \\n        \\n        $(\"#calculateModal select option\").each(function(){\\n                if($(this).val()==\\'\\'){\\n                    $(this).attr(\"selected\",\"selected\"); \\n                }\\n                else\\n                {\\n                    $(this).removeAttr(\"selected\");\\n                }\\n            });\\n        \\n        \\n                     $(\"#callPrice\").text(\\'\\');\\n                        $(\"#callDelta\").text(\\'\\');\\n                        $(\"#callGamma\").text(\\'\\');\\n                        $(\"#callTheta\").text(\\'\\');\\n                        $(\"#callVega\").text(\\'\\');\\n                        $(\"#callRho\").text(\\'\\');\\n                        $(\"#calcModalOptionRate\").text(\\'\\');\\n                        $(\"#callImpliedVolatility\").text(\\'\\');\\n                        $(\"#putPrice\").text(\\'\\');\\n                        $(\"#putDelta\").text(\\'\\');\\n                        $(\"#putGamma\").text(\\'\\');\\n                        $(\"#putTheta\").text(\\'\\');\\n                        $(\"#putVega\").text(\\'\\');\\n                        $(\"#putRho\").text(\\'\\');\\n                        $(\"#calcModalOptionRatePut\").text(\\'\\');\\n                        $(\"#putImpliedVolatility\").text(\\'\\');\\n                        $(\"#calcModalName\").text(\\'\\');\\n    });\\n    \\n    $(\\'[data-toggle=\"popover\"]\\').popover();\\n    \\n    \\n    $(\\'.btnModal\\').click(function(){\\n    // Send the src on click of button to the iframe. Which will make it load.\\n    $(\"#notoriaModal\").find(\\'iframe\\').attr(\"src\",\"https://gpw.notoria.pl/widgets/ta/index.html\");\\n    $(\\'#notoriaModal\\').modal({show:true, keyboard: false, backdrop: \\'static\\'});\\n    $(\"#notoriaModal\").find(\\'iframe\\').load(function() {\\n        \\n    });\\n})\\n    \\n    \\n    \\n    \\n});\\n\\n\\n\\n</script>\\n\\n\\n    \\t\\n<!--/sphider_noindex-->\\n        <section class=\"mainContainer\">\\n            <div class=\"container\">\\n                <div class=\"row\">\\n                    <div class=\"col-md-6\">\\n                        \\n<ul class=\"nav nav-tabs responsive\" role=\"tablist\" id=\"stateTabs\">\\n\\t<li class=\"nav-item active\">\\n\\t\\t<a role=\"tab\" data-toggle=\"tab\" href=\"#akcje\" class=\"nav-link\">Akcje</a>\\n\\t</li>\\n\\t<li class=\"nav-item\">\\n\\t\\t<a role=\"tab\" data-toggle=\"tab\" href=\"#pochodne\" class=\"nav-link\">Pochodne</a>\\n\\t</li>\\n</ul>\\n<div class=\"tab-content responsive\">\\n\\t<div role=\"tabpanel\" class=\"tab-pane active\" id=\"akcje\"></div>\\n\\t<div role=\"tabpanel\" class=\"tab-pane\" id=\"pochodne\"></div>\\n</div><!--tab-content-->\\n<script>\\n\\n$(function() {\\n\\t$(\\'.container\\').on(\\'click\\', \\'#stateTabs a, #collapse-stateTabs h4 a\\', function( e ) {\\n\\t\\te.preventDefault();\\n\\t\\tvar view = this.hash.replace(\\'collapse-\\', \\'\\');\\n\\t\\tvar pane = $(this);\\n\\t\\t$.ajax({\\n            type: \\'POST\\',\\n            url: \\'ajaxindex.php?action=GPWMarketState&start=ajaxLoadTab&format=html&lang=PL&time=\\'+(new Date().getTime()),\\n            data: {tab: view.substr(1)},\\n            success: function(data){ \\n            \\t$(view).html(data);\\n            }\\n        });\\n\\t});\\n\\t\\n\\t$(\\'#stateTabs li.active a\\').click();\\n});\\n\\n</script> \\n                    </div>\\n                    <div class=\"col-md-6\">\\n                    \\t                        \\t<ul class=\"nav nav-tabs nav-tabs-lightStyle autocollapse\" role=\"tablist\">\\n\\t<li class=\"nav-item active\">\\n\\t\\t<a role=\"tab\" data-toggle=\"tab\" href=\"#chart-PL9999999987\" class=\"nav-link\" data-isin=\"PL9999999987\" data-range=\"1D\">WIG20</a>\\n\\t</li>\\n\\t<li class=\"nav-item\">\\n\\t\\t<a role=\"tab\" data-toggle=\"tab\" href=\"#chart-PL9999999995\" class=\"nav-link\" data-isin=\"PL9999999995\" data-range=\"1D\">WIG</a>\\n\\t</li>\\n\\t<li class=\"nav-item\">\\n\\t\\t<a role=\"tab\" data-toggle=\"tab\" href=\"#chart-PL9999999912\" class=\"nav-link\" data-isin=\"PL9999999912\" data-range=\"1D\">mWIG40</a>\\n\\t</li>\\n\\t<li class=\"nav-item\">\\n\\t\\t<a role=\"tab\" data-toggle=\"tab\" href=\"#chart-PL9999999979\" class=\"nav-link\" data-isin=\"PL9999999979\" data-range=\"1D\">sWIG80</a>\\n\\t</li>\\n\\t<li class=\"nav-item\">\\n\\t\\t<a role=\"tab\" data-toggle=\"tab\" href=\"#chart-PL9999999375\" class=\"nav-link\" data-isin=\"PL9999999375\" data-range=\"1D\">WIG30</a>\\n\\t</li>\\n\\t<li class=\"nav-item\">\\n\\t\\t<a role=\"tab\" data-toggle=\"tab\" href=\"#chart-PL9999998955\" class=\"nav-link\" data-isin=\"PL9999998955\" data-range=\"1D\">WIG-ESG</a>\\n\\t</li>\\n\\t<li class=\"nav-item\">\\n\\t\\t<a role=\"tab\" data-toggle=\"tab\" href=\"#chart-PL9999999482\" class=\"nav-link\" data-isin=\"PL9999999482\" data-range=\"1D\">WIGdiv</a>\\n\\t</li>\\n\\t<li class=\"nav-item\">\\n\\t\\t<a role=\"tab\" data-toggle=\"tab\" href=\"#chart-PL9999998963\" class=\"nav-link\" data-isin=\"PL9999998963\" data-range=\"1D\">WIGtech</a>\\n\\t</li>\\n\\t<li class=\"nav-item\">\\n\\t\\t<a role=\"tab\" data-toggle=\"tab\" href=\"#chart-PL9999998971\" class=\"nav-link\" data-isin=\"PL9999998971\" data-range=\"1D\">WIG.GAMES</a>\\n\\t</li>\\n\\t<li class=\"nav-item\">\\n\\t\\t<a role=\"tab\" data-toggle=\"tab\" href=\"#chart-PL9999998989\" class=\"nav-link\" data-isin=\"PL9999998989\" data-range=\"1D\">WIG.MS-BAS</a>\\n\\t</li>\\n\\t<li class=\"nav-item\">\\n\\t\\t<a role=\"tab\" data-toggle=\"tab\" href=\"#chart-PL9999999003\" class=\"nav-link\" data-isin=\"PL9999999003\" data-range=\"1D\">WIG.MS-FIN</a>\\n\\t</li>\\n\\t<li class=\"nav-item\">\\n\\t\\t<a role=\"tab\" data-toggle=\"tab\" href=\"#chart-PL9999998997\" class=\"nav-link\" data-isin=\"PL9999998997\" data-range=\"1D\">WIG.MS-PET</a>\\n\\t</li>\\n\\t<li class=\"nav-item\">\\n\\t\\t<a role=\"tab\" data-toggle=\"tab\" href=\"#chart-PL9999999565\" class=\"nav-link\" data-isin=\"PL9999999565\" data-range=\"1D\">NCIndex</a>\\n\\t</li>\\n\\t<li class=\"nav-item\">\\n\\t\\t<a role=\"tab\" data-toggle=\"tab\" href=\"#chart-PL9999999474\" class=\"nav-link\" data-isin=\"PL9999999474\" data-range=\"1D\">TBSP.Index</a>\\n\\t</li>\\n</ul>\\n<div class=\"tab-content\">\\n\\t<div role=\"tabpanel\" class=\"tab-pane active\" id=\"chart-PL9999999987\" style=\"position:relative;\">\\n\\t\\t<div style=\"position:absolute; top:0; right:0;\"  class=\"PaL text-right text-left-xs\">\\n\\t\\t\\t<span>2&nbsp;236,31</span>\\n\\t\\t\\t<span  class=\"profit\">+1,31%</span>\\n\\t\\t</div>\\n\\t\\t<div class=\"chart\" id=\"chartPL9999999987\" style=\"height:200px;\"></div>\\n\\t</div>\\n\\t<div role=\"tabpanel\" class=\"tab-pane\" id=\"chart-PL9999999995\" style=\"position:relative;\">\\n\\t\\t<div style=\"position:absolute; top:0; right:0;\"  class=\"PaL text-right text-left-xs\">\\n\\t\\t\\t<span>66&nbsp;195,47</span>\\n\\t\\t\\t<span  class=\"profit\">+1,22%</span>\\n\\t\\t</div>\\n\\t\\t<div class=\"chart\" id=\"chartPL9999999995\" style=\"height:200px;\"></div>\\n\\t</div>\\n\\t<div role=\"tabpanel\" class=\"tab-pane\" id=\"chart-PL9999999912\" style=\"position:relative;\">\\n\\t\\t<div style=\"position:absolute; top:0; right:0;\"  class=\"PaL text-right text-left-xs\">\\n\\t\\t\\t<span>4&nbsp;887,70</span>\\n\\t\\t\\t<span  class=\"profit\">+0,70%</span>\\n\\t\\t</div>\\n\\t\\t<div class=\"chart\" id=\"chartPL9999999912\" style=\"height:200px;\"></div>\\n\\t</div>\\n\\t<div role=\"tabpanel\" class=\"tab-pane\" id=\"chart-PL9999999979\" style=\"position:relative;\">\\n\\t\\t<div style=\"position:absolute; top:0; right:0;\"  class=\"PaL text-right text-left-xs\">\\n\\t\\t\\t<span>20&nbsp;614,07</span>\\n\\t\\t\\t<span  class=\"profit\">+0,52%</span>\\n\\t\\t</div>\\n\\t\\t<div class=\"chart\" id=\"chartPL9999999979\" style=\"height:200px;\"></div>\\n\\t</div>\\n\\t<div role=\"tabpanel\" class=\"tab-pane\" id=\"chart-PL9999999375\" style=\"position:relative;\">\\n\\t\\t<div style=\"position:absolute; top:0; right:0;\"  class=\"PaL text-right text-left-xs\">\\n\\t\\t\\t<span>2&nbsp;669,06</span>\\n\\t\\t\\t<span  class=\"profit\">+1,40%</span>\\n\\t\\t</div>\\n\\t\\t<div class=\"chart\" id=\"chartPL9999999375\" style=\"height:200px;\"></div>\\n\\t</div>\\n\\t<div role=\"tabpanel\" class=\"tab-pane\" id=\"chart-PL9999998955\" style=\"position:relative;\">\\n\\t\\t<div style=\"position:absolute; top:0; right:0;\"  class=\"PaL text-right text-left-xs\">\\n\\t\\t\\t<span>10&nbsp;778,96</span>\\n\\t\\t\\t<span  class=\"profit\">+1,35%</span>\\n\\t\\t</div>\\n\\t\\t<div class=\"chart\" id=\"chartPL9999998955\" style=\"height:200px;\"></div>\\n\\t</div>\\n\\t<div role=\"tabpanel\" class=\"tab-pane\" id=\"chart-PL9999999482\" style=\"position:relative;\">\\n\\t\\t<div style=\"position:absolute; top:0; right:0;\"  class=\"PaL text-right text-left-xs\">\\n\\t\\t\\t<span>1&nbsp;275,81</span>\\n\\t\\t\\t<span  class=\"profit\">+0,29%</span>\\n\\t\\t</div>\\n\\t\\t<div class=\"chart\" id=\"chartPL9999999482\" style=\"height:200px;\"></div>\\n\\t</div>\\n\\t<div role=\"tabpanel\" class=\"tab-pane\" id=\"chart-PL9999998963\" style=\"position:relative;\">\\n\\t\\t<div style=\"position:absolute; top:0; right:0;\"  class=\"PaL text-right text-left-xs\">\\n\\t\\t\\t<span>14&nbsp;444,82</span>\\n\\t\\t\\t<span  class=\"profit\">+0,25%</span>\\n\\t\\t</div>\\n\\t\\t<div class=\"chart\" id=\"chartPL9999998963\" style=\"height:200px;\"></div>\\n\\t</div>\\n\\t<div role=\"tabpanel\" class=\"tab-pane\" id=\"chart-PL9999998971\" style=\"position:relative;\">\\n\\t\\t<div style=\"position:absolute; top:0; right:0;\"  class=\"PaL text-right text-left-xs\">\\n\\t\\t\\t<span>22&nbsp;869,95</span>\\n\\t\\t\\t<span  class=\"profit\">+1,63%</span>\\n\\t\\t</div>\\n\\t\\t<div class=\"chart\" id=\"chartPL9999998971\" style=\"height:200px;\"></div>\\n\\t</div>\\n\\t<div role=\"tabpanel\" class=\"tab-pane\" id=\"chart-PL9999998989\" style=\"position:relative;\">\\n\\t\\t<div style=\"position:absolute; top:0; right:0;\"  class=\"PaL text-right text-left-xs\">\\n\\t\\t\\t<span>14&nbsp;807,77</span>\\n\\t\\t\\t<span  class=\"profit\">+1,01%</span>\\n\\t\\t</div>\\n\\t\\t<div class=\"chart\" id=\"chartPL9999998989\" style=\"height:200px;\"></div>\\n\\t</div>\\n\\t<div role=\"tabpanel\" class=\"tab-pane\" id=\"chart-PL9999999003\" style=\"position:relative;\">\\n\\t\\t<div style=\"position:absolute; top:0; right:0;\"  class=\"PaL text-right text-left-xs\">\\n\\t\\t\\t<span>10&nbsp;092,19</span>\\n\\t\\t\\t<span  class=\"profit\">+1,75%</span>\\n\\t\\t</div>\\n\\t\\t<div class=\"chart\" id=\"chartPL9999999003\" style=\"height:200px;\"></div>\\n\\t</div>\\n\\t<div role=\"tabpanel\" class=\"tab-pane\" id=\"chart-PL9999998997\" style=\"position:relative;\">\\n\\t\\t<div style=\"position:absolute; top:0; right:0;\"  class=\"PaL text-right text-left-xs\">\\n\\t\\t\\t<span>8&nbsp;522,92</span>\\n\\t\\t\\t<span  class=\"profit\">+1,39%</span>\\n\\t\\t</div>\\n\\t\\t<div class=\"chart\" id=\"chartPL9999998997\" style=\"height:200px;\"></div>\\n\\t</div>\\n\\t<div role=\"tabpanel\" class=\"tab-pane\" id=\"chart-PL9999999565\" style=\"position:relative;\">\\n\\t\\t<div style=\"position:absolute; top:0; right:0;\"  class=\"PaL text-right text-left-xs\">\\n\\t\\t\\t<span>483,93</span>\\n\\t\\t\\t<span  class=\"profit\">+1,00%</span>\\n\\t\\t</div>\\n\\t\\t<div class=\"chart\" id=\"chartPL9999999565\" style=\"height:200px;\"></div>\\n\\t</div>\\n\\t<div role=\"tabpanel\" class=\"tab-pane\" id=\"chart-PL9999999474\" style=\"position:relative;\">\\n\\t\\t<div style=\"position:absolute; top:0; right:0;\"  class=\"PaL text-right text-left-xs\">\\n\\t\\t\\t<span>1&nbsp;994,23</span>\\n\\t\\t\\t<span  class=\"profit\">+0,05%</span>\\n\\t\\t</div>\\n\\t\\t<div class=\"chart\" id=\"chartPL9999999474\" style=\"height:200px;\"></div>\\n\\t</div>\\n<script type=\"text/javascript\">\\n\\t$(document).ready( function() {\\n\\t\\tchartSimpleTabbed(\\'chartPL9999999987\\', {\\n\\t\\t\\tisin: \\'PL9999999987\\',\\n\\t\\t\\tmodes: [{ mode: \\'CURR\\', from:\\'450655\\', to: null }]\\n\\t\\t});\\n\\t});\\n\\t\\n\\t$(\\'a[data-toggle=\"tab\"]\\').on(\\'shown.bs.tab\\', function (e) {\\n\\t\\tvar target = $(e.target).attr(\"data-isin\") // activated tab\\n\\t\\tchartSimpleTabbed(\\'chart\\'+target, {\\n\\t\\t\\tisin: target,\\n\\t\\t\\tmodes: [{ mode: \\'CURR\\', from:\\'450655\\', to: null }]\\n\\t\\t});\\n\\t});\\n//        $(\".nav li\").on(\"click\", function() {\\n//            $(\".nav li\").removeClass(\"active\");\\n//            $(this).addClass(\"active\");\\n//            var addressValue = \\'chart-\\'+$(this).find(\\'a:first\\').attr(\\'data-isin\\');\\n//            console.log(addressValue);\\n//            $(\".tab-content div.tab-pane\").removeClass(\"active\");\\n//            $(\".tab-content div.tab-pane#\"+addressValue).addClass(\"active\");\\n//            $(\"div.tab-pane\").removeClass(\"active\");\\n//            $(\".tab-content div.tab-pane #\"+ addressValue).addClass(\"active\");\\n//            \\n//    });\\n\\n\\t\\n</script>\\n</div>\\n                                            </div>\\n                </div>\\n            </div>\\n        </section>   \\n        \\n        \\n\\n<style>\\n.fancybox-wrap{\\n\\twidth:auto !important;\\n}\\n</style>\\n\\n<div class=\"jumbotron jumbotron2 swiper-container\">\\n    <div class=\"swiper-wrapper\">            \\n                <div class=\"baner blueStyle swiperContainer skewFull swiper-slide\" data-after=\\'true\\' data-before=\\'true\\' style=\"background-image:url(\\'pub/GPW/udzialen1.jpg\\')\">\\n            <div class=\"container\">\\n                <div class=\"row flex\">\\n                    <div class=\"col-xs-12 col-sm-7 col-sm-offset-5 col-md-5 col-md-offset-7 flex flexColumn\">\\n                        <h1>Prezentacja wynik\\xc3\\xb3w finansowych Grupy GPW</h1>\\n                        <p class=\"lead flexGrow\">Gie\\xc5\\x82da Papier\\xc3\\xb3w Warto\\xc5\\x9bciowych w Warszawie zaprasza na telekonferencj\\xc4\\x99 po\\xc5\\x9bwi\\xc4\\x99con\\xc4\\x85 prezentacji wynik\\xc3\\xb3w finansowych Grupy GPW za I kw. 2021 r.</p>\\n                        <div class=\"margin-bottom-80\">\\n                                                        <a role=\"button\" class=\"btn btn-arrow btn-lg btn-primary-gradient\" href=\"aktualnosci?ph_main_01_start=show&amp;ph_main_01_cmn_id=111032&amp;title=Prezentacja+wynik%C3%B3w+finansowych+Grupy+GPW\">Wi\\xc4\\x99cej</a>\\n                                                    </div>\\n                    </div>\\n                </div><!--row-->                    \\n            </div><!--container-->\\n        </div><!--baner-->\\n                <div class=\"baner blueStyle swiperContainer skewFull swiper-slide\" data-after=\\'true\\' data-before=\\'true\\' style=\"background-image:url(\\'pub/GPW/images/2021/1/ESG_webinar_slider.jpg\\')\">\\n            <div class=\"container\">\\n                <div class=\"row flex\">\\n                    <div class=\"col-xs-12 col-sm-7 col-sm-offset-5 col-md-5 col-md-offset-7 flex flexColumn\">\\n                        <h1>Webinar: \\xe2\\x80\\x9eJak ESG zmienia polski rynek kapita\\xc5\\x82owy?\\xe2\\x80\\x9d </h1>\\n                        <p class=\"lead flexGrow\">Zapraszamy do wzi\\xc4\\x99cia udzia\\xc5\\x82u w webinarze po\\xc5\\x9bwi\\xc4\\x99conym \\xe2\\x80\\x9eWytycznym do raportowania ESG\\xe2\\x80\\x9d</p>\\n                        <div class=\"margin-bottom-80\">\\n                                                        <a role=\"button\" class=\"btn btn-arrow btn-lg btn-primary-gradient\" href=\"aktualnosci?ph_main_01_start=show&amp;ph_main_01_cmn_id=111057&amp;title=Webinar%3A+%E2%80%9EJak+ESG+zmienia+polski+rynek+kapita%C5%82owy%3F%E2%80%9D+\">Wi\\xc4\\x99cej</a>\\n                                                    </div>\\n                    </div>\\n                </div><!--row-->                    \\n            </div><!--container-->\\n        </div><!--baner-->\\n                <div class=\"baner blueStyle swiperContainer skewFull swiper-slide\" data-after=\\'true\\' data-before=\\'true\\' style=\"background-image:url(\\'pub/GPW/images/2021/PEPCO_GROUP/PEPCO_slider.jpg\\')\">\\n            <div class=\"container\">\\n                <div class=\"row flex\">\\n                    <div class=\"col-xs-12 col-sm-7 col-sm-offset-5 col-md-5 col-md-offset-7 flex flexColumn\">\\n                        <h1>Debiut sp\\xc3\\xb3\\xc5\\x82ki PEPCO GROUP</h1>\\n                        <p class=\"lead flexGrow\">26 maja 2021 r. na parkiecie G\\xc5\\x82\\xc3\\xb3wnego Rynku GPW odby\\xc5\\x82o si\\xc4\\x99 pierwsze notowanie sp\\xc3\\xb3\\xc5\\x82ki PEPCO GROUP N.V. </p>\\n                        <div class=\"margin-bottom-80\">\\n                                                        <a role=\"button\" class=\"btn btn-arrow btn-lg btn-primary-gradient\" href=\"aktualnosci?ph_main_01_start=show&amp;ph_main_01_cmn_id=111042&amp;title=Debiut+sp%C3%B3%C5%82ki+PEPCO+GROUP\">Wi\\xc4\\x99cej</a>\\n                                                    </div>\\n                    </div>\\n                </div><!--row-->                    \\n            </div><!--container-->\\n        </div><!--baner-->\\n                <div class=\"baner blueStyle swiperContainer skewFull swiper-slide\" data-after=\\'true\\' data-before=\\'true\\' style=\"background-image:url(\\'/pub/GPW/images/2020/1/warsztat_AT_baner.jpg\\')\">\\n            <div class=\"container\">\\n                <div class=\"row flex\">\\n                    <div class=\"col-xs-12 col-sm-7 col-sm-offset-5 col-md-5 col-md-offset-7 flex flexColumn\">\\n                        <h1>Kursy Szko\\xc5\\x82y Gie\\xc5\\x82dowej on-line</h1>\\n                        <p class=\"lead flexGrow\">Zapraszamy na kursy on-line Szko\\xc5\\x82y Gie\\xc5\\x82dowej \\xe2\\x80\\x93 Podstawy Inwestowania na Gie\\xc5\\x82dzie, Gie\\xc5\\x82da dla \\xc5\\x9bredniozaawansowanych oraz Praktyczny warsztat inwestowania. Solidna dawka wiedzy w jeden lub dwa weekendy!</p>\\n                        <div class=\"margin-bottom-80\">\\n                                                        <a role=\"button\" class=\"btn btn-arrow btn-lg btn-primary-gradient\" href=\"aktualnosci?ph_main_01_start=show&amp;ph_main_01_cmn_id=110886&amp;title=Kursy+Szko%C5%82y+Gie%C5%82dowej+on-line\">Wi\\xc4\\x99cej</a>\\n                                                    </div>\\n                    </div>\\n                </div><!--row-->                    \\n            </div><!--container-->\\n        </div><!--baner-->\\n                <div class=\"baner blueStyle swiperContainer skewFull swiper-slide\" data-after=\\'true\\' data-before=\\'true\\' style=\"background-image:url(\\'pub/GPW/images/2021/1/konkurs_slider_2021a.png\\')\">\\n            <div class=\"container\">\\n                <div class=\"row flex\">\\n                    <div class=\"col-xs-12 col-sm-7 col-sm-offset-5 col-md-5 col-md-offset-7 flex flexColumn\">\\n                        <h1>Konkurs na najlepsz\\xc4\\x85 prac\\xc4\\x99 dyplomow\\xc4\\x85</h1>\\n                        <p class=\"lead flexGrow\">Fundacja GPW zaprasza absolwent\\xc3\\xb3w i student\\xc3\\xb3w do udzia\\xc5\\x82u w kolejnej edycji konkursu na najlepsz\\xc4\\x85 prac\\xc4\\x99 dyplomow\\xc4\\x85 o nagrod\\xc4\\x99 Prezesa Zarz\\xc4\\x85du Gie\\xc5\\x82dy Papier\\xc3\\xb3w Warto\\xc5\\x9bciowych w Warszawie</p>\\n                        <div class=\"margin-bottom-80\">\\n                                                        <a role=\"button\" class=\"btn btn-arrow btn-lg btn-primary-gradient\" href=\"aktualnosci?ph_main_01_start=show&amp;ph_main_01_cmn_id=111028&amp;title=Konkurs+na+najlepsz%C4%85+prac%C4%99+dyplomow%C4%85\">Wi\\xc4\\x99cej</a>\\n                                                    </div>\\n                    </div>\\n                </div><!--row-->                    \\n            </div><!--container-->\\n        </div><!--baner-->\\n            </div>\\n    <div class=\"tabs\"> \\n        <div class=\"container\">\\n            <div class=\"tabNav\" data-after=\"true\">\\n                                <a href=\"javascript:void(0)\"  class=\"active\" >\\n                    <span class=\"num\" data-slider=\"1\">1</span>\\n                                   </a>\\n                                <a href=\"javascript:void(0)\" >\\n                    <span class=\"num\" data-slider=\"2\">2</span>\\n                                   </a>\\n                                <a href=\"javascript:void(0)\" >\\n                    <span class=\"num\" data-slider=\"3\">3</span>\\n                                   </a>\\n                                <a href=\"javascript:void(0)\" >\\n                    <span class=\"num\" data-slider=\"4\">4</span>\\n                                   </a>\\n                                <a href=\"javascript:void(0)\" >\\n                    <span class=\"num\" data-slider=\"5\">5</span>\\n                                   </a>\\n                            </div>\\n        </div> \\n    </div>\\n</div>    \\n<script>\\n\\n$(function () {\\n\\n\\tswiperHeight();\\n\\tfunction swiperHeight(){\\n\\t\\tvar containerHeight=0;\\n\\t\\t$( \".swiperContainer\" ).each(function( index ) {\\n\\t\\t  if($( this ).height()>containerHeight){\\n\\t\\t\\t  containerHeight = $( this ).height()\\n\\t\\t  }\\n\\t\\t});\\n\\t\\t$( \".swiperContainer\" ).height(containerHeight);\\n\\t}\\n    var jumbotronSwiper = new Swiper(\\'.jumbotron2.swiper-container\\', {\\n        direction: \\'horizontal\\',\\n        loop: \\'true\\',\\n        autoplay: 4000,\\n        speed: 1000,\\n        onSlideChangeEnd: function (e) {\\n            currentIndex = e.activeIndex > $(\\'.tabs a\\', e.container).length ? 1 : e.activeIndex;\\n            $(\\'.tabs a.active\\', e.container).removeClass(\\'active\\');\\n            $(\\'.tabs a:nth-of-type(\\' + currentIndex + \\')\\', e.container).addClass(\\'active\\')\\n        },\\n    })\\n    $(\\'.num\\').click(function(){\\n        var slider = $(this).data(\"slider\");\\n        $(\\'.tabs a.active\\').removeClass(\\'active\\');\\n        $(\\'.tabs a:nth-of-type(\\' + slider + \\')\\').addClass(\\'active\\');\\n        jumbotronSwiper.slideTo(slider, 1000, false);\\n    })\\n    /* $(\".jumbotron.swiper-container .tabs a\").on(\\'touchstart mousedown\\', function (e) {\\n        e.preventDefault()\\n        jumbotronSwiper.swipeTo($(this).index())\\n    })\\n\\n    $(\".jumbotron.swiper-container .tabs a\").click(function (e) {\\n        e.preventDefault()\\n    }) */\\n})\\n\\n\\n</script>\\n\\n\\n        <section class=\"mainContainer\">\\n            <div class=\"container\">\\n                <div class=\"row\">\\n                    <div class=\"col-md-8\">\\n                    \\t<a class=\"incident-box-button\" title=\"Sesja gie\\xc5\\x82dowa przebiega bez zak\\xc5\\x82\\xc3\\xb3ce\\xc5\\x84 technicznych.\" href=\"/szczegoly-sesji\">\\r\\n\\t<div class=\"incident-box \">\\r\\n\\t\\tStatus rynku: \\r\\n\\t\\t<span class=\"status\">OK</span>, \\r\\n\\t\\t<span class=\"actual-time\">16:06</span>\\r\\n\\t</div>\\r\\n\\t<div class=\"clearfix\"></div>\\r\\n</a>\\r\\n\\r\\n<style>\\r\\n.incident-box-button:hover{\\r\\n\\ttext-decoration:none;\\r\\n}\\r\\n.incident-box{\\r\\n\\tbackground: #009430;\\r\\n\\tborder: 1px solid #0090d5;\\r\\n\\tpadding: 15px 30px;\\r\\n\\tdisplay: inline;\\r\\n\\tposition: absolute;\\r\\n\\tright: 0;\\r\\n\\ttop: -15px;\\r\\n\\tfont-size: 16px;\\r\\n\\t/* font-size: 20px;\\r\\n\\tdisplay: inline-block;\\r\\n\\tfloat:right; */\\r\\n\\tcolor: #fff;\\r\\n}\\r\\n.incident-box .status{\\t\\r\\n\\tfont-size: 21px;\\r\\n\\tfont-weight:bold;\\r\\n\\t/* font-size: 30px; */\\r\\n}\\r\\n.incident-box.incident{\\r\\n\\tbackground: #f40000;\\r\\n}\\r\\n@media (max-width: 1199px) {\\r\\n\\t.incident-box{\\r\\n\\t\\twidth:100%;\\r\\n\\t\\tdisplay: block;\\r\\n\\t\\tposition: relative;\\r\\n\\t\\ttop: 0;\\r\\n\\t\\tmargin-bottom:10px;\\r\\n\\t\\ttext-align:center;\\r\\n\\t}\\r\\n}\\r\\n</style>\\r\\n<script>\\r\\n$(function(){\\r\\n\\tsetInterval(function() {\\r\\n\\t\\t$.ajax({\\r\\n\\t\\t    url : \"/ajaxindex.php?action=GPWQuotations&start=incidentBox&ajax=1&format=html\",\\r\\n\\t\\t    success : function(response) {\\r\\n\\t\\t    \\tresponse = jQuery.parseJSON(response);\\r\\n\\t\\t    \\tactualHour = response.actualHour;\\r\\n\\t\\t    \\tcountOpen = response.countOpen;\\r\\n\\t\\t    \\tcountClose = response.countClose;\\r\\n\\t\\t    \\t$(\".incident-box .actual-time\").html(actualHour.substr(0, 5));\\r\\n\\t\\t    \\tif(countClose < countOpen && !$(\".incident-box\").hasClass(\\'incident\\')){\\t\\t    \\t\\t\\r\\n\\t\\t    \\t\\t$(\".incident-box\").addClass(\\'incident\\');\\r\\n\\t\\t    \\t\\t$(\".incident-box .status\").html(\\'INCYDENT\\');\\r\\n\\t\\t    \\t\\t$(\".incident-box-button\").attr(\\'title\\', \\'Podczas sesji gie\\xc5\\x82dowej wyst\\xc4\\x85pi\\xc5\\x82y zdarzenia techniczne zak\\xc5\\x82\\xc3\\xb3caj\\xc4\\x85ce jej przebieg. Wi\\xc4\\x99cej informacji zawarto w Komunikacie operacyjnym.\\');\\r\\n\\t\\t    \\t}\\r\\n\\t\\t    \\telse if(countClose == countOpen && $(\".incident-box\").hasClass(\\'incident\\')){\\r\\n\\t\\t    \\t\\t$(\".incident-box\").removeClass(\\'incident\\');\\r\\n\\t\\t    \\t\\t$(\".incident-box .status\").html(\\'OK\\');\\r\\n\\t\\t    \\t\\t$(\".incident-box-button\").attr(\\'title\\', \\'Sesja gie\\xc5\\x82dowa przebiega bez zak\\xc5\\x82\\xc3\\xb3ce\\xc5\\x84 technicznych.\\');\\r\\n\\t\\t    \\t}\\r\\n\\t\\t    }\\r\\n\\t\\t});\\r\\n\\t}, 1000*20);\\r\\n});\\r\\n</script>\\r\\n\\n                    \\t\\n<h3>\\n\\tStan rynku <small class=\"grey\">| ostatnia aktualizacja 28-05-2021 17:04</small>\\n</h3>\\n                        <div class=\"row main-market-state\">\\n                        \\t<div class=\"col-md-6\" id=\"market-state-main\">\\n                        \\t\\t<ul class=\"nav nav-tabs PaL\" role=\"tablist\">\\n                        \\t\\t\\t<li class=\"active\" role=\"presentation\"><a href=\"#rynek-naj-rosnace\" aria-controls=\"rynek-naj-rosnace\" role=\"tab\" data-toggle=\"tab\" class=\"profit\"><i class=\"icon-up\"></i></a></li>\\n                        \\t\\t\\t<li class=\"\" role=\"presentation\"><a href=\"#rynek-naj-spadaja\" aria-controls=\"rynek-naj-spadaja\" role=\"tab\" data-toggle=\"tab\" class=\"loss\"><i class=\"icon-down\"></i></a></li>\\n                        \\t\\t</ul>\\n                        \\t\\t<div class=\"tab-content\">\\n                        \\t\\t\\t<div class=\"tab-pane active\" role=\"tabpanel\" id=\"rynek-naj-rosnace\">\\n\\t\\t\\t                            <div class=\"\">\\n\\t<h4 class=\"green\">Najmocniej rosn\\xc4\\x85ce</h4>\\n\\t\\n\\t<table class=\"table table-padding-5\">\\n\\t    <tr>\\n        <td><a href=\"/spolka?isin=PLGETBK00012\">GETINOBLE</a></td>\\n        <td>\\n        \\t<div id=\"ph_rynek_naj_rosnace_chart1_PLGETBK00012\" class=\"pull-right\" style=\"height:20px; width:40px\"></div>\\n\\t\\t\\t\\n        \\t<script type=\"text/javascript\">\\n\\t    \\t\\t$(document).ready( function() {\\n\\t\\t\\t\\t\\tchartMicro(\\'ph_rynek_naj_rosnace_chart1_PLGETBK00012\\', {\\n\\t\\t\\t\\t\\t\\tisin: \\'PLGETBK00012\\',\\n\\t\\t\\t\\t\\t\\tmodes: [{mode: \\'CURR\\', from: \\'450655\\', to: null}]\\n\\t\\t\\t\\t\\t});\\n\\t\\t\\t\\t});\\n        \\t</script>\\n\\t\\t\\t\\n        </td>\\n        <td class=\"text-right\">0,2320</td>\\n        <td class=\"text-right text-nowrap\"><span class=\"PaL\"><span class=\"profit margin-left-0\">26,09% <i class=\"icon-up\"></i></span></span></td>\\n    </tr>\\n        <tr>\\n        <td><a href=\"/spolka?isin=PLKAREN00014\">CCENERGY</a></td>\\n        <td>\\n        \\t<div id=\"ph_rynek_naj_rosnace_chart2_PLKAREN00014\" class=\"pull-right\" style=\"height:20px; width:40px\"></div>\\n\\t\\t\\t\\n        \\t<script type=\"text/javascript\">\\n\\t    \\t\\t$(document).ready( function() {\\n\\t\\t\\t\\t\\tchartMicro(\\'ph_rynek_naj_rosnace_chart2_PLKAREN00014\\', {\\n\\t\\t\\t\\t\\t\\tisin: \\'PLKAREN00014\\',\\n\\t\\t\\t\\t\\t\\tmodes: [{mode: \\'CURR\\', from: \\'450655\\', to: null}]\\n\\t\\t\\t\\t\\t});\\n\\t\\t\\t\\t});\\n        \\t</script>\\n\\t\\t\\t\\n        </td>\\n        <td class=\"text-right\">1,7000</td>\\n        <td class=\"text-right text-nowrap\"><span class=\"PaL\"><span class=\"profit margin-left-0\">25,93% <i class=\"icon-up\"></i></span></span></td>\\n    </tr>\\n        <tr>\\n        <td><a href=\"/spolka?isin=PLKRKCH00019\">KRAKCHEM</a></td>\\n        <td>\\n        \\t<div id=\"ph_rynek_naj_rosnace_chart3_PLKRKCH00019\" class=\"pull-right\" style=\"height:20px; width:40px\"></div>\\n\\t\\t\\t\\n        \\t<script type=\"text/javascript\">\\n\\t    \\t\\t$(document).ready( function() {\\n\\t\\t\\t\\t\\tchartMicro(\\'ph_rynek_naj_rosnace_chart3_PLKRKCH00019\\', {\\n\\t\\t\\t\\t\\t\\tisin: \\'PLKRKCH00019\\',\\n\\t\\t\\t\\t\\t\\tmodes: [{mode: \\'CURR\\', from: \\'450655\\', to: null}]\\n\\t\\t\\t\\t\\t});\\n\\t\\t\\t\\t});\\n        \\t</script>\\n\\t\\t\\t\\n        </td>\\n        <td class=\"text-right\">0,7700</td>\\n        <td class=\"text-right text-nowrap\"><span class=\"PaL\"><span class=\"profit margin-left-0\">14,93% <i class=\"icon-up\"></i></span></span></td>\\n    </tr>\\n        <tr>\\n        <td><a href=\"/spolka?isin=EE3100143033\">IFSA</a></td>\\n        <td>\\n        \\t<div id=\"ph_rynek_naj_rosnace_chart4_EE3100143033\" class=\"pull-right\" style=\"height:20px; width:40px\"></div>\\n\\t\\t\\t\\n        \\t<script type=\"text/javascript\">\\n\\t    \\t\\t$(document).ready( function() {\\n\\t\\t\\t\\t\\tchartMicro(\\'ph_rynek_naj_rosnace_chart4_EE3100143033\\', {\\n\\t\\t\\t\\t\\t\\tisin: \\'EE3100143033\\',\\n\\t\\t\\t\\t\\t\\tmodes: [{mode: \\'CURR\\', from: \\'450655\\', to: null}]\\n\\t\\t\\t\\t\\t});\\n\\t\\t\\t\\t});\\n        \\t</script>\\n\\t\\t\\t\\n        </td>\\n        <td class=\"text-right\">1,3300</td>\\n        <td class=\"text-right text-nowrap\"><span class=\"PaL\"><span class=\"profit margin-left-0\">10,83% <i class=\"icon-up\"></i></span></span></td>\\n    </tr>\\n        <tr>\\n        <td><a href=\"/spolka?isin=PLGSPR000014\">GETIN</a></td>\\n        <td>\\n        \\t<div id=\"ph_rynek_naj_rosnace_chart5_PLGSPR000014\" class=\"pull-right\" style=\"height:20px; width:40px\"></div>\\n\\t\\t\\t\\n        \\t<script type=\"text/javascript\">\\n\\t    \\t\\t$(document).ready( function() {\\n\\t\\t\\t\\t\\tchartMicro(\\'ph_rynek_naj_rosnace_chart5_PLGSPR000014\\', {\\n\\t\\t\\t\\t\\t\\tisin: \\'PLGSPR000014\\',\\n\\t\\t\\t\\t\\t\\tmodes: [{mode: \\'CURR\\', from: \\'450655\\', to: null}]\\n\\t\\t\\t\\t\\t});\\n\\t\\t\\t\\t});\\n        \\t</script>\\n\\t\\t\\t\\n        </td>\\n        <td class=\"text-right\">1,0860</td>\\n        <td class=\"text-right text-nowrap\"><span class=\"PaL\"><span class=\"profit margin-left-0\">8,71% <i class=\"icon-up\"></i></span></span></td>\\n    </tr>\\n        <tr>\\n        <td><a href=\"/spolka?isin=PLTRNSU00013\">ALTA</a></td>\\n        <td>\\n        \\t<div id=\"ph_rynek_naj_rosnace_chart6_PLTRNSU00013\" class=\"pull-right\" style=\"height:20px; width:40px\"></div>\\n\\t\\t\\t\\n        \\t<script type=\"text/javascript\">\\n\\t    \\t\\t$(document).ready( function() {\\n\\t\\t\\t\\t\\tchartMicro(\\'ph_rynek_naj_rosnace_chart6_PLTRNSU00013\\', {\\n\\t\\t\\t\\t\\t\\tisin: \\'PLTRNSU00013\\',\\n\\t\\t\\t\\t\\t\\tmodes: [{mode: \\'CURR\\', from: \\'450655\\', to: null}]\\n\\t\\t\\t\\t\\t});\\n\\t\\t\\t\\t});\\n        \\t</script>\\n\\t\\t\\t\\n        </td>\\n        <td class=\"text-right\">2,3500</td>\\n        <td class=\"text-right text-nowrap\"><span class=\"PaL\"><span class=\"profit margin-left-0\">7,80% <i class=\"icon-up\"></i></span></span></td>\\n    </tr>\\n        <tr>\\n        <td><a href=\"/spolka?isin=PLPRGNK00017\">PRAGMAINK</a></td>\\n        <td>\\n        \\t<div id=\"ph_rynek_naj_rosnace_chart7_PLPRGNK00017\" class=\"pull-right\" style=\"height:20px; width:40px\"></div>\\n\\t\\t\\t\\n        \\t<script type=\"text/javascript\">\\n\\t    \\t\\t$(document).ready( function() {\\n\\t\\t\\t\\t\\tchartMicro(\\'ph_rynek_naj_rosnace_chart7_PLPRGNK00017\\', {\\n\\t\\t\\t\\t\\t\\tisin: \\'PLPRGNK00017\\',\\n\\t\\t\\t\\t\\t\\tmodes: [{mode: \\'CURR\\', from: \\'450655\\', to: null}]\\n\\t\\t\\t\\t\\t});\\n\\t\\t\\t\\t});\\n        \\t</script>\\n\\t\\t\\t\\n        </td>\\n        <td class=\"text-right\">5,6500</td>\\n        <td class=\"text-right text-nowrap\"><span class=\"PaL\"><span class=\"profit margin-left-0\">7,62% <i class=\"icon-up\"></i></span></span></td>\\n    </tr>\\n        <tr>\\n        <td><a href=\"/spolka?isin=PLCTINT00018\">CIGAMES</a></td>\\n        <td>\\n        \\t<div id=\"ph_rynek_naj_rosnace_chart8_PLCTINT00018\" class=\"pull-right\" style=\"height:20px; width:40px\"></div>\\n\\t\\t\\t\\n        \\t<script type=\"text/javascript\">\\n\\t    \\t\\t$(document).ready( function() {\\n\\t\\t\\t\\t\\tchartMicro(\\'ph_rynek_naj_rosnace_chart8_PLCTINT00018\\', {\\n\\t\\t\\t\\t\\t\\tisin: \\'PLCTINT00018\\',\\n\\t\\t\\t\\t\\t\\tmodes: [{mode: \\'CURR\\', from: \\'450655\\', to: null}]\\n\\t\\t\\t\\t\\t});\\n\\t\\t\\t\\t});\\n        \\t</script>\\n\\t\\t\\t\\n        </td>\\n        <td class=\"text-right\">1,6000</td>\\n        <td class=\"text-right text-nowrap\"><span class=\"PaL\"><span class=\"profit margin-left-0\">7,53% <i class=\"icon-up\"></i></span></span></td>\\n    </tr>\\n        <tr>\\n        <td><a href=\"/spolka?isin=PLBH00000012\">HANDLOWY</a></td>\\n        <td>\\n        \\t<div id=\"ph_rynek_naj_rosnace_chart9_PLBH00000012\" class=\"pull-right\" style=\"height:20px; width:40px\"></div>\\n\\t\\t\\t\\n        \\t<script type=\"text/javascript\">\\n\\t    \\t\\t$(document).ready( function() {\\n\\t\\t\\t\\t\\tchartMicro(\\'ph_rynek_naj_rosnace_chart9_PLBH00000012\\', {\\n\\t\\t\\t\\t\\t\\tisin: \\'PLBH00000012\\',\\n\\t\\t\\t\\t\\t\\tmodes: [{mode: \\'CURR\\', from: \\'450655\\', to: null}]\\n\\t\\t\\t\\t\\t});\\n\\t\\t\\t\\t});\\n        \\t</script>\\n\\t\\t\\t\\n        </td>\\n        <td class=\"text-right\">45,9000</td>\\n        <td class=\"text-right text-nowrap\"><span class=\"PaL\"><span class=\"profit margin-left-0\">7,24% <i class=\"icon-up\"></i></span></span></td>\\n    </tr>\\n        <tr>\\n        <td><a href=\"/spolka?isin=PLKRINK00014\">KREDYTIN</a></td>\\n        <td>\\n        \\t<div id=\"ph_rynek_naj_rosnace_chart10_PLKRINK00014\" class=\"pull-right\" style=\"height:20px; width:40px\"></div>\\n\\t\\t\\t\\n        \\t<script type=\"text/javascript\">\\n\\t    \\t\\t$(document).ready( function() {\\n\\t\\t\\t\\t\\tchartMicro(\\'ph_rynek_naj_rosnace_chart10_PLKRINK00014\\', {\\n\\t\\t\\t\\t\\t\\tisin: \\'PLKRINK00014\\',\\n\\t\\t\\t\\t\\t\\tmodes: [{mode: \\'CURR\\', from: \\'450655\\', to: null}]\\n\\t\\t\\t\\t\\t});\\n\\t\\t\\t\\t});\\n        \\t</script>\\n\\t\\t\\t\\n        </td>\\n        <td class=\"text-right\">11,9000</td>\\n        <td class=\"text-right text-nowrap\"><span class=\"PaL\"><span class=\"profit margin-left-0\">7,21% <i class=\"icon-up\"></i></span></span></td>\\n    </tr>\\n        <tr>\\n        <td><a href=\"/spolka?isin=PLCPTLP00015\">CAPITAL</a></td>\\n        <td>\\n        \\t<div id=\"ph_rynek_naj_rosnace_chart11_PLCPTLP00015\" class=\"pull-right\" style=\"height:20px; width:40px\"></div>\\n\\t\\t\\t\\n        \\t<script type=\"text/javascript\">\\n\\t    \\t\\t$(document).ready( function() {\\n\\t\\t\\t\\t\\tchartMicro(\\'ph_rynek_naj_rosnace_chart11_PLCPTLP00015\\', {\\n\\t\\t\\t\\t\\t\\tisin: \\'PLCPTLP00015\\',\\n\\t\\t\\t\\t\\t\\tmodes: [{mode: \\'CURR\\', from: \\'450655\\', to: null}]\\n\\t\\t\\t\\t\\t});\\n\\t\\t\\t\\t});\\n        \\t</script>\\n\\t\\t\\t\\n        </td>\\n        <td class=\"text-right\">1,7900</td>\\n        <td class=\"text-right text-nowrap\"><span class=\"PaL\"><span class=\"profit margin-left-0\">7,19% <i class=\"icon-up\"></i></span></span></td>\\n    </tr>\\n        <tr>\\n        <td><a href=\"/spolka?isin=PLODRTS00017\">OTLOG</a></td>\\n        <td>\\n        \\t<div id=\"ph_rynek_naj_rosnace_chart12_PLODRTS00017\" class=\"pull-right\" style=\"height:20px; width:40px\"></div>\\n\\t\\t\\t\\n        \\t<script type=\"text/javascript\">\\n\\t    \\t\\t$(document).ready( function() {\\n\\t\\t\\t\\t\\tchartMicro(\\'ph_rynek_naj_rosnace_chart12_PLODRTS00017\\', {\\n\\t\\t\\t\\t\\t\\tisin: \\'PLODRTS00017\\',\\n\\t\\t\\t\\t\\t\\tmodes: [{mode: \\'CURR\\', from: \\'450655\\', to: null}]\\n\\t\\t\\t\\t\\t});\\n\\t\\t\\t\\t});\\n        \\t</script>\\n\\t\\t\\t\\n        </td>\\n        <td class=\"text-right\">8,8000</td>\\n        <td class=\"text-right text-nowrap\"><span class=\"PaL\"><span class=\"profit margin-left-0\">7,06% <i class=\"icon-up\"></i></span></span></td>\\n    </tr>\\n        <tr>\\n        <td><a href=\"/spolka?isin=PLLKMDW00049\">LOKUM</a></td>\\n        <td>\\n        \\t<div id=\"ph_rynek_naj_rosnace_chart13_PLLKMDW00049\" class=\"pull-right\" style=\"height:20px; width:40px\"></div>\\n\\t\\t\\t\\n        \\t<script type=\"text/javascript\">\\n\\t    \\t\\t$(document).ready( function() {\\n\\t\\t\\t\\t\\tchartMicro(\\'ph_rynek_naj_rosnace_chart13_PLLKMDW00049\\', {\\n\\t\\t\\t\\t\\t\\tisin: \\'PLLKMDW00049\\',\\n\\t\\t\\t\\t\\t\\tmodes: [{mode: \\'CURR\\', from: \\'450655\\', to: null}]\\n\\t\\t\\t\\t\\t});\\n\\t\\t\\t\\t});\\n        \\t</script>\\n\\t\\t\\t\\n        </td>\\n        <td class=\"text-right\">24,4000</td>\\n        <td class=\"text-right text-nowrap\"><span class=\"PaL\"><span class=\"profit margin-left-0\">7,02% <i class=\"icon-up\"></i></span></span></td>\\n    </tr>\\n        <tr>\\n        <td><a href=\"/spolka?isin=PLPZBDT00013\">POZBUD</a></td>\\n        <td>\\n        \\t<div id=\"ph_rynek_naj_rosnace_chart14_PLPZBDT00013\" class=\"pull-right\" style=\"height:20px; width:40px\"></div>\\n\\t\\t\\t\\n        \\t<script type=\"text/javascript\">\\n\\t    \\t\\t$(document).ready( function() {\\n\\t\\t\\t\\t\\tchartMicro(\\'ph_rynek_naj_rosnace_chart14_PLPZBDT00013\\', {\\n\\t\\t\\t\\t\\t\\tisin: \\'PLPZBDT00013\\',\\n\\t\\t\\t\\t\\t\\tmodes: [{mode: \\'CURR\\', from: \\'450655\\', to: null}]\\n\\t\\t\\t\\t\\t});\\n\\t\\t\\t\\t});\\n        \\t</script>\\n\\t\\t\\t\\n        </td>\\n        <td class=\"text-right\">3,3600</td>\\n        <td class=\"text-right text-nowrap\"><span class=\"PaL\"><span class=\"profit margin-left-0\">6,67% <i class=\"icon-up\"></i></span></span></td>\\n    </tr>\\n    \\t</table>\\n                            </div>\\n                        \\t\\t\\t</div>\\n                        \\t\\t\\t<div class=\"tab-pane\" role=\"tabpanel\" id=\"rynek-naj-spadaja\">\\n\\t\\t\\t                            <div class=\"\">\\n\\t<h4 class=\"red\">Najmocniej spadaj\\xc4\\x85ce</h4>\\n\\t\\n\\t<table class=\"table table-padding-5\">\\n\\t    <tr>\\n        <td><a href=\"/spolka?isin=PLINTGR00013\">GROCLIN</a></td>\\n        <td>\\n        \\t<div id=\"ph_rynek_naj_spadaja_chart1_PLINTGR00013\" class=\"pull-right\" style=\"height:20px; width:40px\"></div>\\n\\t\\t\\t\\n        \\t<script type=\"text/javascript\">\\n\\t    \\t\\t$(document).ready( function() {\\n\\t\\t\\t\\t\\tchartMicro(\\'ph_rynek_naj_spadaja_chart1_PLINTGR00013\\', {\\n\\t\\t\\t\\t\\t\\tisin: \\'PLINTGR00013\\',\\n\\t\\t\\t\\t\\t\\tmodes: [{mode: \\'CURR\\', from: \\'450655\\', to: null}]\\n\\t\\t\\t\\t\\t});\\n\\t\\t\\t\\t});\\n        \\t</script>\\n\\t\\t\\t\\n        </td>\\n        <td class=\"text-right\">3,0800</td>\\n        <td class=\"text-right text-nowrap\"><span class=\"PaL\"><span class=\"loss margin-left-0\">8,06% <i class=\"icon-down\"></i></span></span></td>\\n    </tr>\\n        <tr>\\n        <td><a href=\"/spolka?isin=PLERGZB00014\">ERG</a></td>\\n        <td>\\n        \\t<div id=\"ph_rynek_naj_spadaja_chart2_PLERGZB00014\" class=\"pull-right\" style=\"height:20px; width:40px\"></div>\\n\\t\\t\\t\\n        \\t<script type=\"text/javascript\">\\n\\t    \\t\\t$(document).ready( function() {\\n\\t\\t\\t\\t\\tchartMicro(\\'ph_rynek_naj_spadaja_chart2_PLERGZB00014\\', {\\n\\t\\t\\t\\t\\t\\tisin: \\'PLERGZB00014\\',\\n\\t\\t\\t\\t\\t\\tmodes: [{mode: \\'CURR\\', from: \\'450655\\', to: null}]\\n\\t\\t\\t\\t\\t});\\n\\t\\t\\t\\t});\\n        \\t</script>\\n\\t\\t\\t\\n        </td>\\n        <td class=\"text-right\">45,0000</td>\\n        <td class=\"text-right text-nowrap\"><span class=\"PaL\"><span class=\"loss margin-left-0\">7,41% <i class=\"icon-down\"></i></span></span></td>\\n    </tr>\\n        <tr>\\n        <td><a href=\"/spolka?isin=PLBMDLB00018\">BIOMEDLUB</a></td>\\n        <td>\\n        \\t<div id=\"ph_rynek_naj_spadaja_chart3_PLBMDLB00018\" class=\"pull-right\" style=\"height:20px; width:40px\"></div>\\n\\t\\t\\t\\n        \\t<script type=\"text/javascript\">\\n\\t    \\t\\t$(document).ready( function() {\\n\\t\\t\\t\\t\\tchartMicro(\\'ph_rynek_naj_spadaja_chart3_PLBMDLB00018\\', {\\n\\t\\t\\t\\t\\t\\tisin: \\'PLBMDLB00018\\',\\n\\t\\t\\t\\t\\t\\tmodes: [{mode: \\'CURR\\', from: \\'450655\\', to: null}]\\n\\t\\t\\t\\t\\t});\\n\\t\\t\\t\\t});\\n        \\t</script>\\n\\t\\t\\t\\n        </td>\\n        <td class=\"text-right\">9,9600</td>\\n        <td class=\"text-right text-nowrap\"><span class=\"PaL\"><span class=\"loss margin-left-0\">6,92% <i class=\"icon-down\"></i></span></span></td>\\n    </tr>\\n        <tr>\\n        <td><a href=\"/spolka?isin=PLMBION00016\">MABION</a></td>\\n        <td>\\n        \\t<div id=\"ph_rynek_naj_spadaja_chart4_PLMBION00016\" class=\"pull-right\" style=\"height:20px; width:40px\"></div>\\n\\t\\t\\t\\n        \\t<script type=\"text/javascript\">\\n\\t    \\t\\t$(document).ready( function() {\\n\\t\\t\\t\\t\\tchartMicro(\\'ph_rynek_naj_spadaja_chart4_PLMBION00016\\', {\\n\\t\\t\\t\\t\\t\\tisin: \\'PLMBION00016\\',\\n\\t\\t\\t\\t\\t\\tmodes: [{mode: \\'CURR\\', from: \\'450655\\', to: null}]\\n\\t\\t\\t\\t\\t});\\n\\t\\t\\t\\t});\\n        \\t</script>\\n\\t\\t\\t\\n        </td>\\n        <td class=\"text-right\">56,9000</td>\\n        <td class=\"text-right text-nowrap\"><span class=\"PaL\"><span class=\"loss margin-left-0\">6,72% <i class=\"icon-down\"></i></span></span></td>\\n    </tr>\\n        <tr>\\n        <td><a href=\"/spolka?isin=PLBRLNG00015\">BERLING</a></td>\\n        <td>\\n        \\t<div id=\"ph_rynek_naj_spadaja_chart5_PLBRLNG00015\" class=\"pull-right\" style=\"height:20px; width:40px\"></div>\\n\\t\\t\\t\\n        \\t<script type=\"text/javascript\">\\n\\t    \\t\\t$(document).ready( function() {\\n\\t\\t\\t\\t\\tchartMicro(\\'ph_rynek_naj_spadaja_chart5_PLBRLNG00015\\', {\\n\\t\\t\\t\\t\\t\\tisin: \\'PLBRLNG00015\\',\\n\\t\\t\\t\\t\\t\\tmodes: [{mode: \\'CURR\\', from: \\'450655\\', to: null}]\\n\\t\\t\\t\\t\\t});\\n\\t\\t\\t\\t});\\n        \\t</script>\\n\\t\\t\\t\\n        </td>\\n        <td class=\"text-right\">5,1500</td>\\n        <td class=\"text-right text-nowrap\"><span class=\"PaL\"><span class=\"loss margin-left-0\">6,36% <i class=\"icon-down\"></i></span></span></td>\\n    </tr>\\n        <tr>\\n        <td><a href=\"/spolka?isin=PLZRWZW00012\">HERKULES</a></td>\\n        <td>\\n        \\t<div id=\"ph_rynek_naj_spadaja_chart6_PLZRWZW00012\" class=\"pull-right\" style=\"height:20px; width:40px\"></div>\\n\\t\\t\\t\\n        \\t<script type=\"text/javascript\">\\n\\t    \\t\\t$(document).ready( function() {\\n\\t\\t\\t\\t\\tchartMicro(\\'ph_rynek_naj_spadaja_chart6_PLZRWZW00012\\', {\\n\\t\\t\\t\\t\\t\\tisin: \\'PLZRWZW00012\\',\\n\\t\\t\\t\\t\\t\\tmodes: [{mode: \\'CURR\\', from: \\'450655\\', to: null}]\\n\\t\\t\\t\\t\\t});\\n\\t\\t\\t\\t});\\n        \\t</script>\\n\\t\\t\\t\\n        </td>\\n        <td class=\"text-right\">1,5850</td>\\n        <td class=\"text-right text-nowrap\"><span class=\"PaL\"><span class=\"loss margin-left-0\">6,21% <i class=\"icon-down\"></i></span></span></td>\\n    </tr>\\n        <tr>\\n        <td><a href=\"/spolka?isin=PLFEERM00018\">FEERUM</a></td>\\n        <td>\\n        \\t<div id=\"ph_rynek_naj_spadaja_chart7_PLFEERM00018\" class=\"pull-right\" style=\"height:20px; width:40px\"></div>\\n\\t\\t\\t\\n        \\t<script type=\"text/javascript\">\\n\\t    \\t\\t$(document).ready( function() {\\n\\t\\t\\t\\t\\tchartMicro(\\'ph_rynek_naj_spadaja_chart7_PLFEERM00018\\', {\\n\\t\\t\\t\\t\\t\\tisin: \\'PLFEERM00018\\',\\n\\t\\t\\t\\t\\t\\tmodes: [{mode: \\'CURR\\', from: \\'450655\\', to: null}]\\n\\t\\t\\t\\t\\t});\\n\\t\\t\\t\\t});\\n        \\t</script>\\n\\t\\t\\t\\n        </td>\\n        <td class=\"text-right\">11,3000</td>\\n        <td class=\"text-right text-nowrap\"><span class=\"PaL\"><span class=\"loss margin-left-0\">5,83% <i class=\"icon-down\"></i></span></span></td>\\n    </tr>\\n        <tr>\\n        <td><a href=\"/spolka?isin=PLDUDA000016\">GOBARTO</a></td>\\n        <td>\\n        \\t<div id=\"ph_rynek_naj_spadaja_chart8_PLDUDA000016\" class=\"pull-right\" style=\"height:20px; width:40px\"></div>\\n\\t\\t\\t\\n        \\t<script type=\"text/javascript\">\\n\\t    \\t\\t$(document).ready( function() {\\n\\t\\t\\t\\t\\tchartMicro(\\'ph_rynek_naj_spadaja_chart8_PLDUDA000016\\', {\\n\\t\\t\\t\\t\\t\\tisin: \\'PLDUDA000016\\',\\n\\t\\t\\t\\t\\t\\tmodes: [{mode: \\'CURR\\', from: \\'450655\\', to: null}]\\n\\t\\t\\t\\t\\t});\\n\\t\\t\\t\\t});\\n        \\t</script>\\n\\t\\t\\t\\n        </td>\\n        <td class=\"text-right\">5,8000</td>\\n        <td class=\"text-right text-nowrap\"><span class=\"PaL\"><span class=\"loss margin-left-0\">5,69% <i class=\"icon-down\"></i></span></span></td>\\n    </tr>\\n        <tr>\\n        <td><a href=\"/spolka?isin=PLHRDEX00021\">STARHEDGE</a></td>\\n        <td>\\n        \\t<div id=\"ph_rynek_naj_spadaja_chart9_PLHRDEX00021\" class=\"pull-right\" style=\"height:20px; width:40px\"></div>\\n\\t\\t\\t\\n        \\t<script type=\"text/javascript\">\\n\\t    \\t\\t$(document).ready( function() {\\n\\t\\t\\t\\t\\tchartMicro(\\'ph_rynek_naj_spadaja_chart9_PLHRDEX00021\\', {\\n\\t\\t\\t\\t\\t\\tisin: \\'PLHRDEX00021\\',\\n\\t\\t\\t\\t\\t\\tmodes: [{mode: \\'CURR\\', from: \\'450655\\', to: null}]\\n\\t\\t\\t\\t\\t});\\n\\t\\t\\t\\t});\\n        \\t</script>\\n\\t\\t\\t\\n        </td>\\n        <td class=\"text-right\">0,5520</td>\\n        <td class=\"text-right text-nowrap\"><span class=\"PaL\"><span class=\"loss margin-left-0\">5,48% <i class=\"icon-down\"></i></span></span></td>\\n    </tr>\\n        <tr>\\n        <td><a href=\"/spolka?isin=PLPBKM000012\">PBKM</a></td>\\n        <td>\\n        \\t<div id=\"ph_rynek_naj_spadaja_chart10_PLPBKM000012\" class=\"pull-right\" style=\"height:20px; width:40px\"></div>\\n\\t\\t\\t\\n        \\t<script type=\"text/javascript\">\\n\\t    \\t\\t$(document).ready( function() {\\n\\t\\t\\t\\t\\tchartMicro(\\'ph_rynek_naj_spadaja_chart10_PLPBKM000012\\', {\\n\\t\\t\\t\\t\\t\\tisin: \\'PLPBKM000012\\',\\n\\t\\t\\t\\t\\t\\tmodes: [{mode: \\'CURR\\', from: \\'450655\\', to: null}]\\n\\t\\t\\t\\t\\t});\\n\\t\\t\\t\\t});\\n        \\t</script>\\n\\t\\t\\t\\n        </td>\\n        <td class=\"text-right\">89,8000</td>\\n        <td class=\"text-right text-nowrap\"><span class=\"PaL\"><span class=\"loss margin-left-0\">5,27% <i class=\"icon-down\"></i></span></span></td>\\n    </tr>\\n        <tr>\\n        <td><a href=\"/spolka?isin=PLPCFGR00010\">PCFGROUP</a></td>\\n        <td>\\n        \\t<div id=\"ph_rynek_naj_spadaja_chart11_PLPCFGR00010\" class=\"pull-right\" style=\"height:20px; width:40px\"></div>\\n\\t\\t\\t\\n        \\t<script type=\"text/javascript\">\\n\\t    \\t\\t$(document).ready( function() {\\n\\t\\t\\t\\t\\tchartMicro(\\'ph_rynek_naj_spadaja_chart11_PLPCFGR00010\\', {\\n\\t\\t\\t\\t\\t\\tisin: \\'PLPCFGR00010\\',\\n\\t\\t\\t\\t\\t\\tmodes: [{mode: \\'CURR\\', from: \\'450655\\', to: null}]\\n\\t\\t\\t\\t\\t});\\n\\t\\t\\t\\t});\\n        \\t</script>\\n\\t\\t\\t\\n        </td>\\n        <td class=\"text-right\">58,0000</td>\\n        <td class=\"text-right text-nowrap\"><span class=\"PaL\"><span class=\"loss margin-left-0\">5,23% <i class=\"icon-down\"></i></span></span></td>\\n    </tr>\\n        <tr>\\n        <td><a href=\"/spolka?isin=SE0001856519\">REINHOLD</a></td>\\n        <td>\\n        \\t<div id=\"ph_rynek_naj_spadaja_chart12_SE0001856519\" class=\"pull-right\" style=\"height:20px; width:40px\"></div>\\n\\t\\t\\t\\n        \\t<script type=\"text/javascript\">\\n\\t    \\t\\t$(document).ready( function() {\\n\\t\\t\\t\\t\\tchartMicro(\\'ph_rynek_naj_spadaja_chart12_SE0001856519\\', {\\n\\t\\t\\t\\t\\t\\tisin: \\'SE0001856519\\',\\n\\t\\t\\t\\t\\t\\tmodes: [{mode: \\'CURR\\', from: \\'450655\\', to: null}]\\n\\t\\t\\t\\t\\t});\\n\\t\\t\\t\\t});\\n        \\t</script>\\n\\t\\t\\t\\n        </td>\\n        <td class=\"text-right\">0,1900</td>\\n        <td class=\"text-right text-nowrap\"><span class=\"PaL\"><span class=\"loss margin-left-0\">5,00% <i class=\"icon-down\"></i></span></span></td>\\n    </tr>\\n        <tr>\\n        <td><a href=\"/spolka?isin=PLASMOT00030\">TRITON</a></td>\\n        <td>\\n        \\t<div id=\"ph_rynek_naj_spadaja_chart13_PLASMOT00030\" class=\"pull-right\" style=\"height:20px; width:40px\"></div>\\n\\t\\t\\t\\n        \\t<script type=\"text/javascript\">\\n\\t    \\t\\t$(document).ready( function() {\\n\\t\\t\\t\\t\\tchartMicro(\\'ph_rynek_naj_spadaja_chart13_PLASMOT00030\\', {\\n\\t\\t\\t\\t\\t\\tisin: \\'PLASMOT00030\\',\\n\\t\\t\\t\\t\\t\\tmodes: [{mode: \\'CURR\\', from: \\'450655\\', to: null}]\\n\\t\\t\\t\\t\\t});\\n\\t\\t\\t\\t});\\n        \\t</script>\\n\\t\\t\\t\\n        </td>\\n        <td class=\"text-right\">3,3500</td>\\n        <td class=\"text-right text-nowrap\"><span class=\"PaL\"><span class=\"loss margin-left-0\">4,83% <i class=\"icon-down\"></i></span></span></td>\\n    </tr>\\n        <tr>\\n        <td><a href=\"/spolka?isin=PLADDRG00015\">PLATYNINW</a></td>\\n        <td>\\n        \\t<div id=\"ph_rynek_naj_spadaja_chart14_PLADDRG00015\" class=\"pull-right\" style=\"height:20px; width:40px\"></div>\\n\\t\\t\\t\\n        \\t<script type=\"text/javascript\">\\n\\t    \\t\\t$(document).ready( function() {\\n\\t\\t\\t\\t\\tchartMicro(\\'ph_rynek_naj_spadaja_chart14_PLADDRG00015\\', {\\n\\t\\t\\t\\t\\t\\tisin: \\'PLADDRG00015\\',\\n\\t\\t\\t\\t\\t\\tmodes: [{mode: \\'CURR\\', from: \\'450655\\', to: null}]\\n\\t\\t\\t\\t\\t});\\n\\t\\t\\t\\t});\\n        \\t</script>\\n\\t\\t\\t\\n        </td>\\n        <td class=\"text-right\">4,0000</td>\\n        <td class=\"text-right text-nowrap\"><span class=\"PaL\"><span class=\"loss margin-left-0\">4,76% <i class=\"icon-down\"></i></span></span></td>\\n    </tr>\\n    \\t</table>\\n                            </div>\\n                        \\t\\t\\t</div>\\n                        \\t\\t</div>\\n                        \\t</div>\\n                            <div class=\"col-sm-6\">\\n\\t<h4>Najbardziej aktywne</h4>\\n\\t\\n\\t<table class=\"table table-padding-5\">\\n\\t    <tr>\\n        <td><a href=\"/spolka?isin=PLGETBK00012\">GETINOBLE</a></td>\\n        <td>\\n        \\t<div id=\"ph_rynek_naj_aktywne_chart1_PLGETBK00012\" class=\"pull-right\" style=\"height:20px; width:40px\"></div>\\n\\t\\t\\t\\n        \\t<script type=\"text/javascript\">\\n\\t    \\t\\t$(document).ready( function() {\\n\\t\\t\\t\\t\\tchartMicro(\\'ph_rynek_naj_aktywne_chart1_PLGETBK00012\\', {\\n\\t\\t\\t\\t\\t\\tisin: \\'PLGETBK00012\\',\\n\\t\\t\\t\\t\\t\\tmodes: [{mode: \\'CURR\\', from: \\'450655\\', to: null}]\\n\\t\\t\\t\\t\\t});\\n\\t\\t\\t\\t});\\n        \\t</script>\\n\\t\\t\\t\\n        </td>\\n        <td class=\"text-right\">0,2320</td>\\n        <td class=\"text-right text-nowrap\"><span class=\"PaL\"><span class=\"profit margin-left-0\">26,09% <i class=\"icon-up\"></i></span></span></td>\\n    </tr>\\n        <tr>\\n        <td><a href=\"/spolka?isin=PLPGNIG00014\">PGNIG</a></td>\\n        <td>\\n        \\t<div id=\"ph_rynek_naj_aktywne_chart2_PLPGNIG00014\" class=\"pull-right\" style=\"height:20px; width:40px\"></div>\\n\\t\\t\\t\\n        \\t<script type=\"text/javascript\">\\n\\t    \\t\\t$(document).ready( function() {\\n\\t\\t\\t\\t\\tchartMicro(\\'ph_rynek_naj_aktywne_chart2_PLPGNIG00014\\', {\\n\\t\\t\\t\\t\\t\\tisin: \\'PLPGNIG00014\\',\\n\\t\\t\\t\\t\\t\\tmodes: [{mode: \\'CURR\\', from: \\'450655\\', to: null}]\\n\\t\\t\\t\\t\\t});\\n\\t\\t\\t\\t});\\n        \\t</script>\\n\\t\\t\\t\\n        </td>\\n        <td class=\"text-right\">6,5940</td>\\n        <td class=\"text-right text-nowrap\"><span class=\"PaL\"><span class=\"loss margin-left-0\">0,51% <i class=\"icon-down\"></i></span></span></td>\\n    </tr>\\n        <tr>\\n        <td><a href=\"/spolka?isin=PLCTINT00018\">CIGAMES</a></td>\\n        <td>\\n        \\t<div id=\"ph_rynek_naj_aktywne_chart3_PLCTINT00018\" class=\"pull-right\" style=\"height:20px; width:40px\"></div>\\n\\t\\t\\t\\n        \\t<script type=\"text/javascript\">\\n\\t    \\t\\t$(document).ready( function() {\\n\\t\\t\\t\\t\\tchartMicro(\\'ph_rynek_naj_aktywne_chart3_PLCTINT00018\\', {\\n\\t\\t\\t\\t\\t\\tisin: \\'PLCTINT00018\\',\\n\\t\\t\\t\\t\\t\\tmodes: [{mode: \\'CURR\\', from: \\'450655\\', to: null}]\\n\\t\\t\\t\\t\\t});\\n\\t\\t\\t\\t});\\n        \\t</script>\\n\\t\\t\\t\\n        </td>\\n        <td class=\"text-right\">1,6000</td>\\n        <td class=\"text-right text-nowrap\"><span class=\"PaL\"><span class=\"profit margin-left-0\">7,53% <i class=\"icon-up\"></i></span></span></td>\\n    </tr>\\n        <tr>\\n        <td><a href=\"/spolka?isin=PLPKO0000016\">PKOBP</a></td>\\n        <td>\\n        \\t<div id=\"ph_rynek_naj_aktywne_chart4_PLPKO0000016\" class=\"pull-right\" style=\"height:20px; width:40px\"></div>\\n\\t\\t\\t\\n        \\t<script type=\"text/javascript\">\\n\\t    \\t\\t$(document).ready( function() {\\n\\t\\t\\t\\t\\tchartMicro(\\'ph_rynek_naj_aktywne_chart4_PLPKO0000016\\', {\\n\\t\\t\\t\\t\\t\\tisin: \\'PLPKO0000016\\',\\n\\t\\t\\t\\t\\t\\tmodes: [{mode: \\'CURR\\', from: \\'450655\\', to: null}]\\n\\t\\t\\t\\t\\t});\\n\\t\\t\\t\\t});\\n        \\t</script>\\n\\t\\t\\t\\n        </td>\\n        <td class=\"text-right\">39,8000</td>\\n        <td class=\"text-right text-nowrap\"><span class=\"PaL\"><span class=\"profit margin-left-0\">1,30% <i class=\"icon-up\"></i></span></span></td>\\n    </tr>\\n        <tr>\\n        <td><a href=\"/spolka?isin=PLTAURN00011\">TAURONPE</a></td>\\n        <td>\\n        \\t<div id=\"ph_rynek_naj_aktywne_chart5_PLTAURN00011\" class=\"pull-right\" style=\"height:20px; width:40px\"></div>\\n\\t\\t\\t\\n        \\t<script type=\"text/javascript\">\\n\\t    \\t\\t$(document).ready( function() {\\n\\t\\t\\t\\t\\tchartMicro(\\'ph_rynek_naj_aktywne_chart5_PLTAURN00011\\', {\\n\\t\\t\\t\\t\\t\\tisin: \\'PLTAURN00011\\',\\n\\t\\t\\t\\t\\t\\tmodes: [{mode: \\'CURR\\', from: \\'450655\\', to: null}]\\n\\t\\t\\t\\t\\t});\\n\\t\\t\\t\\t});\\n        \\t</script>\\n\\t\\t\\t\\n        </td>\\n        <td class=\"text-right\">3,3930</td>\\n        <td class=\"text-right text-nowrap\"><span class=\"PaL\"><span class=\"profit margin-left-0\">0,38% <i class=\"icon-up\"></i></span></span></td>\\n    </tr>\\n        <tr>\\n        <td><a href=\"/spolka?isin=PLPZU0000011\">PZU</a></td>\\n        <td>\\n        \\t<div id=\"ph_rynek_naj_aktywne_chart6_PLPZU0000011\" class=\"pull-right\" style=\"height:20px; width:40px\"></div>\\n\\t\\t\\t\\n        \\t<script type=\"text/javascript\">\\n\\t    \\t\\t$(document).ready( function() {\\n\\t\\t\\t\\t\\tchartMicro(\\'ph_rynek_naj_aktywne_chart6_PLPZU0000011\\', {\\n\\t\\t\\t\\t\\t\\tisin: \\'PLPZU0000011\\',\\n\\t\\t\\t\\t\\t\\tmodes: [{mode: \\'CURR\\', from: \\'450655\\', to: null}]\\n\\t\\t\\t\\t\\t});\\n\\t\\t\\t\\t});\\n        \\t</script>\\n\\t\\t\\t\\n        </td>\\n        <td class=\"text-right\">36,9000</td>\\n        <td class=\"text-right text-nowrap\"><span class=\"PaL\"><span class=\"profit margin-left-0\">2,02% <i class=\"icon-up\"></i></span></span></td>\\n    </tr>\\n        <tr>\\n        <td><a href=\"/spolka?isin=NL0015000AU7\">PEPCO</a></td>\\n        <td>\\n        \\t<div id=\"ph_rynek_naj_aktywne_chart7_NL0015000AU7\" class=\"pull-right\" style=\"height:20px; width:40px\"></div>\\n\\t\\t\\t\\n        \\t<script type=\"text/javascript\">\\n\\t    \\t\\t$(document).ready( function() {\\n\\t\\t\\t\\t\\tchartMicro(\\'ph_rynek_naj_aktywne_chart7_NL0015000AU7\\', {\\n\\t\\t\\t\\t\\t\\tisin: \\'NL0015000AU7\\',\\n\\t\\t\\t\\t\\t\\tmodes: [{mode: \\'CURR\\', from: \\'450655\\', to: null}]\\n\\t\\t\\t\\t\\t});\\n\\t\\t\\t\\t});\\n        \\t</script>\\n\\t\\t\\t\\n        </td>\\n        <td class=\"text-right\">44,6450</td>\\n        <td class=\"text-right text-nowrap\"><span class=\"PaL\"><span class=\"profit margin-left-0\">1,47% <i class=\"icon-up\"></i></span></span></td>\\n    </tr>\\n        <tr>\\n        <td><a href=\"/spolka?isin=PLGSPR000014\">GETIN</a></td>\\n        <td>\\n        \\t<div id=\"ph_rynek_naj_aktywne_chart8_PLGSPR000014\" class=\"pull-right\" style=\"height:20px; width:40px\"></div>\\n\\t\\t\\t\\n        \\t<script type=\"text/javascript\">\\n\\t    \\t\\t$(document).ready( function() {\\n\\t\\t\\t\\t\\tchartMicro(\\'ph_rynek_naj_aktywne_chart8_PLGSPR000014\\', {\\n\\t\\t\\t\\t\\t\\tisin: \\'PLGSPR000014\\',\\n\\t\\t\\t\\t\\t\\tmodes: [{mode: \\'CURR\\', from: \\'450655\\', to: null}]\\n\\t\\t\\t\\t\\t});\\n\\t\\t\\t\\t});\\n        \\t</script>\\n\\t\\t\\t\\n        </td>\\n        <td class=\"text-right\">1,0860</td>\\n        <td class=\"text-right text-nowrap\"><span class=\"PaL\"><span class=\"profit margin-left-0\">8,71% <i class=\"icon-up\"></i></span></span></td>\\n    </tr>\\n        <tr>\\n        <td><a href=\"/spolka?isin=PLBIG0000016\">MILLENNIUM</a></td>\\n        <td>\\n        \\t<div id=\"ph_rynek_naj_aktywne_chart9_PLBIG0000016\" class=\"pull-right\" style=\"height:20px; width:40px\"></div>\\n\\t\\t\\t\\n        \\t<script type=\"text/javascript\">\\n\\t    \\t\\t$(document).ready( function() {\\n\\t\\t\\t\\t\\tchartMicro(\\'ph_rynek_naj_aktywne_chart9_PLBIG0000016\\', {\\n\\t\\t\\t\\t\\t\\tisin: \\'PLBIG0000016\\',\\n\\t\\t\\t\\t\\t\\tmodes: [{mode: \\'CURR\\', from: \\'450655\\', to: null}]\\n\\t\\t\\t\\t\\t});\\n\\t\\t\\t\\t});\\n        \\t</script>\\n\\t\\t\\t\\n        </td>\\n        <td class=\"text-right\">5,0400</td>\\n        <td class=\"text-right text-nowrap\"><span class=\"PaL\"><span class=\"profit margin-left-0\">2,86% <i class=\"icon-up\"></i></span></span></td>\\n    </tr>\\n        <tr>\\n        <td><a href=\"/spolka?isin=PLPGER000010\">PGE</a></td>\\n        <td>\\n        \\t<div id=\"ph_rynek_naj_aktywne_chart10_PLPGER000010\" class=\"pull-right\" style=\"height:20px; width:40px\"></div>\\n\\t\\t\\t\\n        \\t<script type=\"text/javascript\">\\n\\t    \\t\\t$(document).ready( function() {\\n\\t\\t\\t\\t\\tchartMicro(\\'ph_rynek_naj_aktywne_chart10_PLPGER000010\\', {\\n\\t\\t\\t\\t\\t\\tisin: \\'PLPGER000010\\',\\n\\t\\t\\t\\t\\t\\tmodes: [{mode: \\'CURR\\', from: \\'450655\\', to: null}]\\n\\t\\t\\t\\t\\t});\\n\\t\\t\\t\\t});\\n        \\t</script>\\n\\t\\t\\t\\n        </td>\\n        <td class=\"text-right\">10,1650</td>\\n        <td class=\"text-right text-nowrap\"><span class=\"PaL\"><span class=\"profit margin-left-0\">1,40% <i class=\"icon-up\"></i></span></span></td>\\n    </tr>\\n        <tr>\\n        <td><a href=\"/spolka?isin=LU2237380790\">ALLEGRO</a></td>\\n        <td>\\n        \\t<div id=\"ph_rynek_naj_aktywne_chart11_LU2237380790\" class=\"pull-right\" style=\"height:20px; width:40px\"></div>\\n\\t\\t\\t\\n        \\t<script type=\"text/javascript\">\\n\\t    \\t\\t$(document).ready( function() {\\n\\t\\t\\t\\t\\tchartMicro(\\'ph_rynek_naj_aktywne_chart11_LU2237380790\\', {\\n\\t\\t\\t\\t\\t\\tisin: \\'LU2237380790\\',\\n\\t\\t\\t\\t\\t\\tmodes: [{mode: \\'CURR\\', from: \\'450655\\', to: null}]\\n\\t\\t\\t\\t\\t});\\n\\t\\t\\t\\t});\\n        \\t</script>\\n\\t\\t\\t\\n        </td>\\n        <td class=\"text-right\">58,5000</td>\\n        <td class=\"text-right text-nowrap\"><span class=\"PaL\"><span class=\"profit margin-left-0\">0,38% <i class=\"icon-up\"></i></span></span></td>\\n    </tr>\\n        <tr>\\n        <td><a href=\"/spolka?isin=PLKGHM000017\">KGHM</a></td>\\n        <td>\\n        \\t<div id=\"ph_rynek_naj_aktywne_chart12_PLKGHM000017\" class=\"pull-right\" style=\"height:20px; width:40px\"></div>\\n\\t\\t\\t\\n        \\t<script type=\"text/javascript\">\\n\\t    \\t\\t$(document).ready( function() {\\n\\t\\t\\t\\t\\tchartMicro(\\'ph_rynek_naj_aktywne_chart12_PLKGHM000017\\', {\\n\\t\\t\\t\\t\\t\\tisin: \\'PLKGHM000017\\',\\n\\t\\t\\t\\t\\t\\tmodes: [{mode: \\'CURR\\', from: \\'450655\\', to: null}]\\n\\t\\t\\t\\t\\t});\\n\\t\\t\\t\\t});\\n        \\t</script>\\n\\t\\t\\t\\n        </td>\\n        <td class=\"text-right\">202,9000</td>\\n        <td class=\"text-right text-nowrap\"><span class=\"PaL\"><span class=\"profit margin-left-0\">1,45% <i class=\"icon-up\"></i></span></span></td>\\n    </tr>\\n        <tr>\\n        <td><a href=\"/spolka?isin=PLPEKAO00016\">PEKAO</a></td>\\n        <td>\\n        \\t<div id=\"ph_rynek_naj_aktywne_chart13_PLPEKAO00016\" class=\"pull-right\" style=\"height:20px; width:40px\"></div>\\n\\t\\t\\t\\n        \\t<script type=\"text/javascript\">\\n\\t    \\t\\t$(document).ready( function() {\\n\\t\\t\\t\\t\\tchartMicro(\\'ph_rynek_naj_aktywne_chart13_PLPEKAO00016\\', {\\n\\t\\t\\t\\t\\t\\tisin: \\'PLPEKAO00016\\',\\n\\t\\t\\t\\t\\t\\tmodes: [{mode: \\'CURR\\', from: \\'450655\\', to: null}]\\n\\t\\t\\t\\t\\t});\\n\\t\\t\\t\\t});\\n        \\t</script>\\n\\t\\t\\t\\n        </td>\\n        <td class=\"text-right\">95,5000</td>\\n        <td class=\"text-right text-nowrap\"><span class=\"PaL\"><span class=\"profit margin-left-0\">1,86% <i class=\"icon-up\"></i></span></span></td>\\n    </tr>\\n        <tr>\\n        <td><a href=\"/spolka?isin=PLJSW0000015\">JSW</a></td>\\n        <td>\\n        \\t<div id=\"ph_rynek_naj_aktywne_chart14_PLJSW0000015\" class=\"pull-right\" style=\"height:20px; width:40px\"></div>\\n\\t\\t\\t\\n        \\t<script type=\"text/javascript\">\\n\\t    \\t\\t$(document).ready( function() {\\n\\t\\t\\t\\t\\tchartMicro(\\'ph_rynek_naj_aktywne_chart14_PLJSW0000015\\', {\\n\\t\\t\\t\\t\\t\\tisin: \\'PLJSW0000015\\',\\n\\t\\t\\t\\t\\t\\tmodes: [{mode: \\'CURR\\', from: \\'450655\\', to: null}]\\n\\t\\t\\t\\t\\t});\\n\\t\\t\\t\\t});\\n        \\t</script>\\n\\t\\t\\t\\n        </td>\\n        <td class=\"text-right\">36,3100</td>\\n        <td class=\"text-right text-nowrap\"><span class=\"PaL\"><span class=\"profit margin-left-0\">0,03% <i class=\"icon-up\"></i></span></span></td>\\n    </tr>\\n    \\t</table>\\n                            </div>\\n                        </div>\\n                    </div>\\n                    <div class=\"col-md-4\">\\n                        <!--<p><span style=\"color:#ec3a3d;\"><strong>Ju\\xc5\\xbc dzi\\xc5\\x9b o godz. 14.00 - serdecznie zapraszamy</strong></span><br />\\r\\n<a href=\"http://www.wallstreet.org.pl\"><img alt=\"\" src=\"/pub/GPW/images/ws2020.jpg\" style=\"width: 360px; height: 203px;\" /></a></p>\\r\\n\\r\\n<table border=\"0\" cellpadding=\"0\" cellspacing=\"0\" class=\"table footable\" style=\"border-top: #004f92 1px solid; border-right: #004f92 1px solid; width: 360px; border-bottom: #004f92 1px solid; border-left: #004f92 1px solid\">\\r\\n\\t<tbody>\\r\\n\\t\\t<tr>\\r\\n\\t\\t\\t<td><a href=\"http://www.gpw.pl/komunikaty-i-uchwaly-gpw?ph_main_01_start=show&amp;cmn_id=110377&amp;title=IDEA+BANK+S.A.+(Uchwa\\xc5\\x82a+Nr+1057/2020)\">Uchwa\\xc5\\x82a Nr 1057/2020 Zarz\\xc4\\x85du Gie\\xc5\\x82dy Papier&oacute;w Warto\\xc5\\x9bciowych w Warszawie S.A. z dnia 31 grudnia 2020 r. w sprawie wykluczenia z obrotu na G\\xc5\\x82&oacute;wnym Rynku GPW akcji sp&oacute;\\xc5\\x82ki IDEA BANK&nbsp;S.A.</a></td>\\r\\n\\t\\t</tr>\\r\\n\\t</tbody>\\r\\n</table>\\r\\n-->\\r\\n<table border=\"0\" cellpadding=\"0\" cellspacing=\"0\" style=\"width: 360px\">\\r\\n\\t<tbody>\\r\\n\\t\\t<tr>\\r\\n\\t\\t\\t<td colspan=\"3\"><img alt=\"\" src=\"/pub/GPW/images/gpwapp_button1.jpg\" style=\"height: 116px; width: 360px\" /></td>\\r\\n\\t\\t</tr>\\r\\n\\t\\t<tr>\\r\\n\\t\\t\\t<td><img alt=\"\" src=\"/pub/GPW/images/gpwapp_button2.jpg\" style=\"height: 74px; width: 117px\" /></td>\\r\\n\\t\\t\\t<td><a href=\"https://itunes.apple.com/pl/app/gie-da-papierow-wartosciowych/id542593952\"><img alt=\"\" src=\"/pub/GPW/images/gpwapp_button3.jpg\" style=\"border-top: 0px solid; height: 74px; border-right: 0px solid; width: 117px; border-bottom: 0px solid; border-left: 0px solid\" /></a></td>\\r\\n\\t\\t\\t<td><a href=\"https://play.google.com/store/apps/details?id=pl.moveapp.gpw&amp;hl=pl\" target=\"_parent\"><img alt=\"\" src=\"/pub/GPW/images/gpwapp_button4.jpg\" style=\"border-top: 0px solid; height: 74px; border-right: 0px solid; width: 126px; border-bottom: 0px solid; border-left: 0px solid\" /></a></td>\\r\\n\\t\\t</tr>\\r\\n\\t</tbody>\\r\\n</table>\\r\\n\\r\\n<p><br />\\r\\n<a href=\"https://www.gpw.pl/gpwpa\"><img alt=\"\" src=\"/pub/GPW/images/pokrycie_banner12.png\" style=\"height: 71px; width: 360px\" /></a></p>\\r\\n<!--\\r\\n<table border=\"0\" cellpadding=\"0\" cellspacing=\"0\" class=\"table footable\" style=\"border-top: blue 1px solid; border-right: blue 1px solid; width: 360px; border-bottom: blue 1px solid; border-left: blue 1px solid\">\\r\\n\\t<tbody>\\r\\n\\t\\t<tr>\\r\\n\\t\\t\\t<td>..</td>\\r\\n\\t\\t</tr>\\r\\n\\t</tbody>\\r\\n</table>\\r\\n-->\\n\\n\\n<script>\\n     $(document).ready(function (e) {\\n         $( \"#wallets a\" ).click(function() {\\n             if($(this).data(\\'group\\') == \\'1\\')\\n             {\\n                 $(\\'#group1\\').show();\\n                 $(\\'#group2\\').hide();\\n             }\\n             else\\n             {\\n                 $(\\'#group2\\').show();\\n                 $(\\'#group1\\').hide();\\n             }\\n         });\\n     });\\n</script>\\n\\n                        \\n<div class=\"card\">\\n    <div class=\"card-block\"><h4 class=\"title margin-bottom-0\">Ostatnie debiuty <small class=\"grey\" style=\"display:inline\">|   G\\xc5\\x82\\xc3\\xb3wny Rynek</small></h4></div>\\n        \\t        \\t    \\t\\n    \\t\\n\\t        \\t            \\t            \\t\\t            <a class=\"video\" href=\"https://www.gpw.pl/aktualnosc?cmn_id=111042\" data-after=\"true\">\\n\\t\\t                <div style=\"background: url(pub/GPW/images/2021/PEPCO_GROUP/PEPCO_debiut.jpg); background-size: cover; min-height: 200px\" class=\"card-img-top width-100\"></div>\\n\\t\\t                \\t\\t                <strong class=\"title\">Debiut sp\\xc3\\xb3\\xc5\\x82ki PEPCO GROUP <small>26-05-2021</small></strong>\\n\\t\\t            </a>\\n\\t\\t            \\t\\t            <div class=\"card-block padding-bottom-0\">\\n\\t            \\t                    \\t\\n    \\t\\n\\t        \\t\\t        <span class=\"name\">\\n\\t        \\t\\t<a href=\"https://www.gpw.pl/aktualnosc?cmn_id=110997\">\\n\\t        \\t\\t\\tDebiut MICHAEL/STR\\xc3\\x96M Obligacji Korporacyjnych FIZ\\n\\t        \\t\\t</a>\\n\\t\\t        </span> \\n\\t\\t        <small class=\"grey\">12-05-2021</small>\\n\\t\\t        <br>\\n\\t\\t                \\t\\n    \\t\\n\\t        \\t\\t        <span class=\"name\">\\n\\t        \\t\\t<a href=\"https://www.gpw.pl/aktualnosc?cmn_id=110991\">\\n\\t        \\t\\t\\tDebiut sp\\xc3\\xb3\\xc5\\x82ki BRAND 24\\n\\t        \\t\\t</a>\\n\\t\\t        </span> \\n\\t\\t        <small class=\"grey\">11-05-2021</small>\\n\\t\\t        <br>\\n\\t\\t                \\t\\n    \\t\\n\\t        \\t\\t        <span class=\"name\">\\n\\t        \\t\\t<a href=\"https://www.gpw.pl/aktualnosc?cmn_id=110976\">\\n\\t        \\t\\t\\tDebiut sp\\xc3\\xb3\\xc5\\x82ki VERCOM\\n\\t        \\t\\t</a>\\n\\t\\t        </span> \\n\\t\\t        <small class=\"grey\">06-05-2021</small>\\n\\t\\t        <br>\\n\\t\\t                    </div> \\n    <div class=\"card-block text-right\">\\n        <a class=\"more margin-bottom-0\" href=\"debiuty\"><span class=\"black\">Zobacz pozosta\\xc5\\x82e debiuty</span> <i class=\"icon-arrow-big-right\"></i></a><br>\\n        <a class=\"more\" href=\"jak-zaczac-emitowac\"><span class=\"black\">Zobacz jak debiutowa\\xc4\\x87</span> <i class=\"icon-arrow-big-right\"></i></a>\\n    </div>                            \\n</div>\\n\\n                    </div>\\n                </div>            \\n            </div>\\t\\t\\n        </section>\\n\\n        \\n\\n\\n<section class=\"mainContainer padding-top-20 padding-bottom-0 margin-bottom-0 bg_lightGrey\">\\n    <div class=\"container\">\\n        <h3>Mapa warto\\xc5\\x9bci sp\\xc3\\xb3\\xc5\\x82ek z WIG20        \\n\\t\\t        \\t\\t\\t \\n\\t\\t\\t\\t\\t\\t\\t        \\t\\t\\t \\n\\t\\t\\t\\t\\t\\t\\t        \\t\\t\\t \\n\\t\\t\\t\\t\\t\\t\\t        \\t\\t\\t        \\t\\t\\t        \\t\\t\\t        \\t\\t\\t        \\t\\t\\t        \\t\\t\\t        \\t\\t\\t \\n\\t\\t\\t\\t\\t\\t\\t        \\t\\t\\t        \\t\\t\\t        \\t\\t\\t        \\t\\t\\t        \\t\\t\\t        \\t\\t\\t \\n\\t\\t\\t\\t\\t\\t\\t        \\t\\t\\t        \\t\\t\\t        \\t\\t\\t \\n\\t\\t\\t\\t\\t\\t\\t        \\t\\t\\t                    <small class=\"grey\">| ostatnia aktualizacja 28-05-2021 17:04</small>\\n                    </h3>\\n    </div>\\n    <div class=\"table gpw_style margin-bottom-0\">\\n\\n                <div class=\"col-xs-6 col-sm-3 col-md-3 col-lg-2_4\" style=\"height:145px; overflow:hidden\">\\n            <a class=\"name\" href=\"/spolka?isin=PLLPP0000011\" style=\"white-space: nowrap;\">LPP</a>\\n            <span class=\"smaller\" style=\"white-space: nowrap;\">11&nbsp;470,0000 z\\xc5\\x82</span>\\n            <span class=\"smaller\" style=\"white-space: nowrap;\">3,89%</span>\\n            <span class=\"value smaller\" style=\"white-space: nowrap;\">Warto\\xc5\\x9b\\xc4\\x87 16&nbsp;273&nbsp;190,00</span>\\n                        <i class=\"iconBlock icon-up green level_1\"></i>\\n                    </div>\\n                <div class=\"col-xs-6 col-sm-3 col-md-3 col-lg-2_4\" style=\"height:145px; overflow:hidden\">\\n            <a class=\"name\" href=\"/spolka?isin=PLPKN0000018\" style=\"white-space: nowrap;\">PKNORLEN</a>\\n            <span class=\"smaller\" style=\"white-space: nowrap;\">79,9400 z\\xc5\\x82</span>\\n            <span class=\"smaller\" style=\"white-space: nowrap;\">2,12%</span>\\n            <span class=\"value smaller\" style=\"white-space: nowrap;\">Warto\\xc5\\x9b\\xc4\\x87 77&nbsp;864&nbsp;672,08</span>\\n                        <i class=\"iconBlock icon-up green level_1\"></i>\\n                    </div>\\n                <div class=\"col-xs-6 col-sm-3 col-md-3 col-lg-2_4\" style=\"height:145px; overflow:hidden\">\\n            <a class=\"name\" href=\"/spolka?isin=PLBZ00000044\" style=\"white-space: nowrap;\">SANPL</a>\\n            <span class=\"smaller\" style=\"white-space: nowrap;\">271,3000 z\\xc5\\x82</span>\\n            <span class=\"smaller\" style=\"white-space: nowrap;\">2,11%</span>\\n            <span class=\"value smaller\" style=\"white-space: nowrap;\">Warto\\xc5\\x9b\\xc4\\x87 25&nbsp;195&nbsp;933,50</span>\\n                        <i class=\"iconBlock icon-up green level_1\"></i>\\n                    </div>\\n                <div class=\"col-xs-6 col-sm-3 col-md-3 col-lg-2_4\" style=\"height:145px; overflow:hidden\">\\n            <a class=\"name\" href=\"/spolka?isin=PLPZU0000011\" style=\"white-space: nowrap;\">PZU</a>\\n            <span class=\"smaller\" style=\"white-space: nowrap;\">36,9000 z\\xc5\\x82</span>\\n            <span class=\"smaller\" style=\"white-space: nowrap;\">2,02%</span>\\n            <span class=\"value smaller\" style=\"white-space: nowrap;\">Warto\\xc5\\x9b\\xc4\\x87 110&nbsp;792&nbsp;642,95</span>\\n                        <i class=\"iconBlock icon-up green level_1\"></i>\\n                    </div>\\n                <div class=\"col-xs-6 col-sm-3 col-md-3 col-lg-2_4\" style=\"height:145px; overflow:hidden\">\\n            <a class=\"name\" href=\"/spolka?isin=PLPEKAO00016\" style=\"white-space: nowrap;\">PEKAO</a>\\n            <span class=\"smaller\" style=\"white-space: nowrap;\">95,5000 z\\xc5\\x82</span>\\n            <span class=\"smaller\" style=\"white-space: nowrap;\">1,86%</span>\\n            <span class=\"value smaller\" style=\"white-space: nowrap;\">Warto\\xc5\\x9b\\xc4\\x87 120&nbsp;344&nbsp;074,54</span>\\n                        <i class=\"iconBlock icon-up green level_1\"></i>\\n                    </div>\\n                <div class=\"col-xs-6 col-sm-3 col-md-3 col-lg-2_4\" style=\"height:145px; overflow:hidden\">\\n            <a class=\"name\" href=\"/spolka?isin=PLOPTTC00011\" style=\"white-space: nowrap;\">CDPROJEKT</a>\\n            <span class=\"smaller\" style=\"white-space: nowrap;\">178,5800 z\\xc5\\x82</span>\\n            <span class=\"smaller\" style=\"white-space: nowrap;\">1,75%</span>\\n            <span class=\"value smaller\" style=\"white-space: nowrap;\">Warto\\xc5\\x9b\\xc4\\x87 106&nbsp;574&nbsp;448,10</span>\\n                        <i class=\"iconBlock icon-up green level_1\"></i>\\n                    </div>\\n                <div class=\"col-xs-6 col-sm-3 col-md-3 col-lg-2_4\" style=\"height:145px; overflow:hidden\">\\n            <a class=\"name\" href=\"/spolka?isin=PLLOTOS00025\" style=\"white-space: nowrap;\">LOTOS</a>\\n            <span class=\"smaller\" style=\"white-space: nowrap;\">51,5400 z\\xc5\\x82</span>\\n            <span class=\"smaller\" style=\"white-space: nowrap;\">1,66%</span>\\n            <span class=\"value smaller\" style=\"white-space: nowrap;\">Warto\\xc5\\x9b\\xc4\\x87 20&nbsp;137&nbsp;749,02</span>\\n                        <i class=\"iconBlock icon-up green level_1\"></i>\\n                    </div>\\n                <div class=\"col-xs-6 col-sm-3 col-md-3 col-lg-2_4\" style=\"height:145px; overflow:hidden\">\\n            <a class=\"name\" href=\"/spolka?isin=PLKGHM000017\" style=\"white-space: nowrap;\">KGHM</a>\\n            <span class=\"smaller\" style=\"white-space: nowrap;\">202,9000 z\\xc5\\x82</span>\\n            <span class=\"smaller\" style=\"white-space: nowrap;\">1,45%</span>\\n            <span class=\"value smaller\" style=\"white-space: nowrap;\">Warto\\xc5\\x9b\\xc4\\x87 294&nbsp;715&nbsp;379,10</span>\\n                        <i class=\"iconBlock icon-up green level_1\"></i>\\n                    </div>\\n                <div class=\"col-xs-6 col-sm-3 col-md-3 col-lg-2_4\" style=\"height:145px; overflow:hidden\">\\n            <a class=\"name\" href=\"/spolka?isin=PLPGER000010\" style=\"white-space: nowrap;\">PGE</a>\\n            <span class=\"smaller\" style=\"white-space: nowrap;\">10,1650 z\\xc5\\x82</span>\\n            <span class=\"smaller\" style=\"white-space: nowrap;\">1,40%</span>\\n            <span class=\"value smaller\" style=\"white-space: nowrap;\">Warto\\xc5\\x9b\\xc4\\x87 17&nbsp;892&nbsp;898,73</span>\\n                        <i class=\"iconBlock icon-up green level_1\"></i>\\n                    </div>\\n                <div class=\"col-xs-6 col-sm-3 col-md-3 col-lg-2_4\" style=\"height:145px; overflow:hidden\">\\n            <a class=\"name\" href=\"/spolka?isin=PLPKO0000016\" style=\"white-space: nowrap;\">PKOBP</a>\\n            <span class=\"smaller\" style=\"white-space: nowrap;\">39,8000 z\\xc5\\x82</span>\\n            <span class=\"smaller\" style=\"white-space: nowrap;\">1,30%</span>\\n            <span class=\"value smaller\" style=\"white-space: nowrap;\">Warto\\xc5\\x9b\\xc4\\x87 147&nbsp;791&nbsp;561,20</span>\\n                        <i class=\"iconBlock icon-up green level_1\"></i>\\n                    </div>\\n                <div class=\"col-xs-6 col-sm-3 col-md-3 col-lg-2_4\" style=\"height:145px; overflow:hidden\">\\n            <a class=\"name\" href=\"/spolka?isin=PLDINPL00011\" style=\"white-space: nowrap;\">DINOPL</a>\\n            <span class=\"smaller\" style=\"white-space: nowrap;\">285,0000 z\\xc5\\x82</span>\\n            <span class=\"smaller\" style=\"white-space: nowrap;\">0,39%</span>\\n            <span class=\"value smaller\" style=\"white-space: nowrap;\">Warto\\xc5\\x9b\\xc4\\x87 25&nbsp;274&nbsp;476,60</span>\\n                        <i class=\"iconBlock icon-up green level_1\"></i>\\n                    </div>\\n                <div class=\"col-xs-6 col-sm-3 col-md-3 col-lg-2_4\" style=\"height:145px; overflow:hidden\">\\n            <a class=\"name\" href=\"/spolka?isin=PLTAURN00011\" style=\"white-space: nowrap;\">TAURONPE</a>\\n            <span class=\"smaller\" style=\"white-space: nowrap;\">3,3930 z\\xc5\\x82</span>\\n            <span class=\"smaller\" style=\"white-space: nowrap;\">0,38%</span>\\n            <span class=\"value smaller\" style=\"white-space: nowrap;\">Warto\\xc5\\x9b\\xc4\\x87 10&nbsp;520&nbsp;449,63</span>\\n                        <i class=\"iconBlock icon-up green level_1\"></i>\\n                    </div>\\n                <div class=\"col-xs-6 col-sm-3 col-md-3 col-lg-2_4\" style=\"height:145px; overflow:hidden\">\\n            <a class=\"name\" href=\"/spolka?isin=LU2237380790\" style=\"white-space: nowrap;\">ALLEGRO</a>\\n            <span class=\"smaller\" style=\"white-space: nowrap;\">58,5000 z\\xc5\\x82</span>\\n            <span class=\"smaller\" style=\"white-space: nowrap;\">0,38%</span>\\n            <span class=\"value smaller\" style=\"white-space: nowrap;\">Warto\\xc5\\x9b\\xc4\\x87 86&nbsp;454&nbsp;764,19</span>\\n                        <i class=\"iconBlock icon-up green level_1\"></i>\\n                    </div>\\n                <div class=\"col-xs-6 col-sm-3 col-md-3 col-lg-2_4\" style=\"height:145px; overflow:hidden\">\\n            <a class=\"name\" href=\"/spolka?isin=PLCCC0000016\" style=\"white-space: nowrap;\">CCC</a>\\n            <span class=\"smaller\" style=\"white-space: nowrap;\">120,0000 z\\xc5\\x82</span>\\n            <span class=\"smaller\" style=\"white-space: nowrap;\">0,29%</span>\\n            <span class=\"value smaller\" style=\"white-space: nowrap;\">Warto\\xc5\\x9b\\xc4\\x87 11&nbsp;853&nbsp;609,65</span>\\n                        <i class=\"iconBlock icon-up green level_1\"></i>\\n                    </div>\\n                <div class=\"col-xs-6 col-sm-3 col-md-3 col-lg-2_4\" style=\"height:145px; overflow:hidden\">\\n            <a class=\"name\" href=\"/spolka?isin=PLTLKPL00017\" style=\"white-space: nowrap;\">ORANGEPL</a>\\n            <span class=\"smaller\" style=\"white-space: nowrap;\">6,7100 z\\xc5\\x82</span>\\n            <span class=\"smaller\" style=\"white-space: nowrap;\">0,22%</span>\\n            <span class=\"value smaller\" style=\"white-space: nowrap;\">Warto\\xc5\\x9b\\xc4\\x87 7&nbsp;906&nbsp;308,67</span>\\n                        <i class=\"iconBlock icon-up green level_1\"></i>\\n                    </div>\\n                <div class=\"col-xs-6 col-sm-3 col-md-3 col-lg-2_4\" style=\"height:145px; overflow:hidden\">\\n            <a class=\"name\" href=\"/spolka?isin=PLJSW0000015\" style=\"white-space: nowrap;\">JSW</a>\\n            <span class=\"smaller\" style=\"white-space: nowrap;\">36,3100 z\\xc5\\x82</span>\\n            <span class=\"smaller\" style=\"white-space: nowrap;\">0,03%</span>\\n            <span class=\"value smaller\" style=\"white-space: nowrap;\">Warto\\xc5\\x9b\\xc4\\x87 43&nbsp;902&nbsp;791,43</span>\\n                        <i class=\"iconBlock icon-up green level_1\"></i>\\n                    </div>\\n                <div class=\"col-xs-6 col-sm-3 col-md-3 col-lg-2_4\" style=\"height:145px; overflow:hidden\">\\n            <a class=\"name\" href=\"/spolka?isin=PLCFRPT00013\" style=\"white-space: nowrap;\">CYFRPLSAT</a>\\n            <span class=\"smaller\" style=\"white-space: nowrap;\">30,7000 z\\xc5\\x82</span>\\n            <span class=\"smaller\" style=\"white-space: nowrap;\">0,00%</span>\\n            <span class=\"value smaller\" style=\"white-space: nowrap;\">Warto\\xc5\\x9b\\xc4\\x87 13&nbsp;309&nbsp;639,50</span>\\n                        <i class=\"bar grey level_1\"></i>\\n                    </div>\\n                <div class=\"col-xs-6 col-sm-3 col-md-3 col-lg-2_4\" style=\"height:145px; overflow:hidden\">\\n            <a class=\"name\" href=\"/spolka?isin=PLPGNIG00014\" style=\"white-space: nowrap;\">PGNIG</a>\\n            <span class=\"smaller\" style=\"white-space: nowrap;\">6,5940 z\\xc5\\x82</span>\\n            <span class=\"smaller\" style=\"white-space: nowrap;\">-0,51%</span>\\n            <span class=\"value smaller\" style=\"white-space: nowrap;\">Warto\\xc5\\x9b\\xc4\\x87 40&nbsp;639&nbsp;370,09</span>\\n                        <i class=\"iconBlock icon-down red  level_1\"></i>\\n                    </div>\\n                <div class=\"col-xs-6 col-sm-3 col-md-3 col-lg-2_4\" style=\"height:145px; overflow:hidden\">\\n            <a class=\"name\" href=\"/spolka?isin=PLMRCTR00015\" style=\"white-space: nowrap;\">MERCATOR</a>\\n            <span class=\"smaller\" style=\"white-space: nowrap;\">239,6000 z\\xc5\\x82</span>\\n            <span class=\"smaller\" style=\"white-space: nowrap;\">-0,75%</span>\\n            <span class=\"value smaller\" style=\"white-space: nowrap;\">Warto\\xc5\\x9b\\xc4\\x87 6&nbsp;138&nbsp;390,70</span>\\n                        <i class=\"iconBlock icon-down red  level_1\"></i>\\n                    </div>\\n                <div class=\"col-xs-6 col-sm-3 col-md-3 col-lg-2_4\" style=\"height:145px; overflow:hidden\">\\n            <a class=\"name\" href=\"/spolka?isin=PLSOFTB00016\" style=\"white-space: nowrap;\">ASSECOPOL</a>\\n            <span class=\"smaller\" style=\"white-space: nowrap;\">73,1000 z\\xc5\\x82</span>\\n            <span class=\"smaller\" style=\"white-space: nowrap;\">-1,08%</span>\\n            <span class=\"value smaller\" style=\"white-space: nowrap;\">Warto\\xc5\\x9b\\xc4\\x87 10&nbsp;649&nbsp;947,15</span>\\n                        <i class=\"iconBlock icon-down red  level_1\"></i>\\n                    </div>\\n            </div>\\n</section>\\n\\n\\n\\n\\n                            \\n\\n\\n        <section class=\"mainContainer padding-bottom-0 padding-top-0\">\\n            <div class=\"container\">\\n                <div class=\"row flex flexWrap\">\\n                    <div class=\"col-md-6 padding-bottom-40 padding-top-40\">\\n                        <div class=\"shortNews\">\\n                        \\r\\n<h4 class=\"header\">\\r\\n    <a href=\"komunikaty\"><i class=\"icon-arrow-big-right\"></i> Raporty sp\\xc3\\xb3\\xc5\\x82ek</a>\\r\\n    <small><i class=\"icon-arrow-big-right\"></i> | G\\xc5\\x82\\xc3\\xb3wny Rynek</small>\\r\\n</h4>\\r\\n<div class=\"row\">\\r\\n    <div class=\"col-sm-1 pull-right hidden-xs\">\\r\\n        <a href=\"komunikaty\" class=\"btnMoreNews\"><i class=\"icon-arrow-big-right\"></i></a>\\r\\n    </div>\\r\\n            <div class=\"col-md-6 col-sm-11 col-xs-12\">\\r\\n        <span class=\"date\">30-05-2021</span>\\r\\n        <h3 class=\"title\">\\r\\n            <a href=\"komunikat?geru_id=375575\">\\r\\n                \\r\\n                                PRAGMA INKASO SP\\xc3\\x93\\xc5\\x81KA AKCYJNA (PLPRGNK00017)\\r\\n                            </a>\\r\\n        </h3>\\r\\n    </div>\\r\\n            <div class=\"col-md-5 col-sm-11 col-xs-12\">\\r\\n        <span class=\"date\">30-05-2021</span>\\r\\n        <h3 class=\"title\">\\r\\n            <a href=\"komunikat?geru_id=375574\">\\r\\n                \\r\\n                                MLP GROUP SP\\xc3\\x93\\xc5\\x81KA AKCYJNA (PLMLPGR00017)\\r\\n                            </a>\\r\\n        </h3>\\r\\n    </div>\\r\\n            <div class=\"col-md-5 col-sm-11 col-xs-12\">\\r\\n        <span class=\"date\">29-05-2021</span>\\r\\n        <h3 class=\"title\">\\r\\n            <a href=\"komunikat?geru_id=375573\">\\r\\n                \\r\\n                                WIKANA SP\\xc3\\x93\\xc5\\x81KA AKCYJNA (PLELPO000016)\\r\\n                            </a>\\r\\n        </h3>\\r\\n    </div>\\r\\n    </div>\\r\\n\\r\\n\\n                        </div>\\n                    </div>\\n                    <div class=\"col-md-6 padding-bottom-40 padding-top-40\">\\n                        <div class=\"shortNews\">\\n                               \\r\\n       \\r\\n<h4 class=\"header\">\\r\\n    <a href=\"/aktualnosci\"><i class=\"icon-arrow-big-right\"></i> Aktualno\\xc5\\x9bci</a>\\r\\n    <small><i class=\"icon-arrow-big-right\"></i> | G\\xc5\\x82\\xc3\\xb3wny Rynek</small>\\r\\n</h4>\\r\\n<div class=\"row\">\\r\\n    <div class=\"col-sm-1 pull-right hidden-xs\">\\r\\n        <a href=\"/aktualnosci\" class=\"btnMoreNews\"><i class=\"icon-arrow-big-right\"></i></a>\\r\\n    </div>\\r\\n        \\r\\n    <div class=\"col-md-6 col-sm-11 col-xs-12\">\\r\\n        <span class=\"date\">28-05-2021</span>\\r\\n        <h3 class=\"title\">\\r\\n            <a href=\"/aktualnosc?cmn_id=111032&amp;title=Prezentacja+wynik%C3%B3w+finansowych+Grupy+GPW\">\\r\\n                Prezentacja wynik\\xc3\\xb3w finansowych Grupy GPW\\r\\n            </a>\\r\\n        </h3>\\r\\n    </div>\\r\\n        \\r\\n    <div class=\"col-md-5 col-sm-11 col-xs-12\">\\r\\n        <span class=\"date\">28-05-2021</span>\\r\\n        <h3 class=\"title\">\\r\\n            <a href=\"/aktualnosc?cmn_id=111058&amp;title=I+kwarta%C5%82+2021+r.+pod+znakiem+bardzo+dobrych+wynik%C3%B3w+finansowych+GK+GPW\">\\r\\n                I kwarta\\xc5\\x82 2021 r. pod znakiem bardzo dobrych wynik\\xc3\\xb3w finansowych GK GPW\\r\\n            </a>\\r\\n        </h3>\\r\\n    </div>\\r\\n        \\r\\n    <div class=\"col-md-5 col-sm-11 col-xs-12\">\\r\\n        <span class=\"date\">27-05-2021</span>\\r\\n        <h3 class=\"title\">\\r\\n            <a href=\"/aktualnosc?cmn_id=111057&amp;title=Webinar%3A+%E2%80%9EJak+ESG+zmienia+polski+rynek+kapita%C5%82owy%3F%E2%80%9D+\">\\r\\n                Webinar: \\xe2\\x80\\x9eJak ESG zmienia polski rynek kapita\\xc5\\x82owy?\\xe2\\x80\\x9d \\r\\n            </a>\\r\\n        </h3>\\r\\n    </div>\\r\\n    </div>\\r\\n\\n                        </div>\\n                    </div>            \\n                </div>\\n            </div>\\n        </section>\\n\\n        <section class=\"mainContainer padding-bottom-30 padding-top-30 bg_lightGrey\">\\n            <div class=\"container\">\\n            \\t<h3>Inne instrumenty <small class=\"grey\">| G\\xc5\\x82\\xc3\\xb3wny Rynek</small></h3>\\n<div class=\"row flex flexWrap\">\\n\\t\\n\\t<div class=\"col-xs-12 col-sm-6 col-md-4 col-lg-2 margin-bottom-15\">\\n\\t\\t<span class=\"name grey\">Certyfikat strukturyzowany turbo</span>\\n\\t\\t<h4><a href=\"/produkt-strukturyzowany?isin=PLINGNV40618\">INTLW2040618</a></h4>\\n\\t\\t<div class=\"chart-box\" id=\"ph_inne_instrumenty_chart1\" style=\"height:120px\"></div>               \\n\\t\\t<div class=\"PaL pull-right\">    \\n\\t\\t\\t<b class=\"summary\">7&nbsp;619,65</b>                \\n\\t\\t\\t\\t\\t\\t\\t<b class=\"profit\">65,96% <i class=\"icon-up\"></i></b>\\n\\t\\t\\t\\t\\t</div>\\n\\t\\t<small class=\"date grey\">15:45</small>\\n\\t</div>\\n\\t<script type=\"text/javascript\">\\n\\t\\t$(document).ready( function() {\\n\\t\\t\\tchartSimple(\\'ph_inne_instrumenty_chart1\\', {\\n\\t\\t\\t\\tisin: \\'PLINGNV40618\\',\\n\\t\\t\\t\\tmodes: [{ mode: \\'CURR\\', from:\\'450607\\', to: null }]\\n\\t\\t\\t});\\n\\t\\t});\\n\\t</script>\\n\\t\\n\\t<div class=\"col-xs-12 col-sm-6 col-md-4 col-lg-2 margin-bottom-15\">\\n\\t\\t<span class=\"name grey\">Certyfikat strukturyzowany turbo</span>\\n\\t\\t<h4><a href=\"/produkt-strukturyzowany?isin=PLINGNV40527\">INTLPKN40527</a></h4>\\n\\t\\t<div class=\"chart-box\" id=\"ph_inne_instrumenty_chart2\" style=\"height:120px\"></div>               \\n\\t\\t<div class=\"PaL pull-right\">    \\n\\t\\t\\t<b class=\"summary\">7&nbsp;257,60</b>                \\n\\t\\t\\t\\t\\t\\t\\t<b class=\"profit\">40,49% <i class=\"icon-up\"></i></b>\\n\\t\\t\\t\\t\\t</div>\\n\\t\\t<small class=\"date grey\">16:40</small>\\n\\t</div>\\n\\t<script type=\"text/javascript\">\\n\\t\\t$(document).ready( function() {\\n\\t\\t\\tchartSimple(\\'ph_inne_instrumenty_chart2\\', {\\n\\t\\t\\t\\tisin: \\'PLINGNV40527\\',\\n\\t\\t\\t\\tmodes: [{ mode: \\'CURR\\', from:\\'450607\\', to: null }]\\n\\t\\t\\t});\\n\\t\\t});\\n\\t</script>\\n\\t\\n\\t<div class=\"col-xs-12 col-sm-6 col-md-4 col-lg-2 margin-bottom-15\">\\n\\t\\t<span class=\"name grey\">Certyfikat strukturyzowany turbo</span>\\n\\t\\t<h4><a href=\"/produkt-strukturyzowany?isin=PLINGNV40501\">INTLPKO40501</a></h4>\\n\\t\\t<div class=\"chart-box\" id=\"ph_inne_instrumenty_chart3\" style=\"height:120px\"></div>               \\n\\t\\t<div class=\"PaL pull-right\">    \\n\\t\\t\\t<b class=\"summary\">12&nbsp;443,24</b>                \\n\\t\\t\\t\\t\\t\\t\\t<b class=\"profit\">38,60% <i class=\"icon-up\"></i></b>\\n\\t\\t\\t\\t\\t</div>\\n\\t\\t<small class=\"date grey\">13:17</small>\\n\\t</div>\\n\\t<script type=\"text/javascript\">\\n\\t\\t$(document).ready( function() {\\n\\t\\t\\tchartSimple(\\'ph_inne_instrumenty_chart3\\', {\\n\\t\\t\\t\\tisin: \\'PLINGNV40501\\',\\n\\t\\t\\t\\tmodes: [{ mode: \\'CURR\\', from:\\'450607\\', to: null }]\\n\\t\\t\\t});\\n\\t\\t});\\n\\t</script>\\n\\t\\n\\t<div class=\"col-xs-12 col-sm-6 col-md-4 col-lg-2 margin-bottom-15\">\\n\\t\\t<span class=\"name grey\">Certyfikat strukturyzowany factor</span>\\n\\t\\t<h4><a href=\"/produkt-strukturyzowany?isin=AT0000A2MX00\">RCFL8COFF2</a></h4>\\n\\t\\t<div class=\"chart-box\" id=\"ph_inne_instrumenty_chart4\" style=\"height:120px\"></div>               \\n\\t\\t<div class=\"PaL pull-right\">    \\n\\t\\t\\t<b class=\"summary\">17&nbsp;415,00</b>                \\n\\t\\t\\t\\t\\t\\t\\t<b class=\"profit\">28,28% <i class=\"icon-up\"></i></b>\\n\\t\\t\\t\\t\\t</div>\\n\\t\\t<small class=\"date grey\">15:49</small>\\n\\t</div>\\n\\t<script type=\"text/javascript\">\\n\\t\\t$(document).ready( function() {\\n\\t\\t\\tchartSimple(\\'ph_inne_instrumenty_chart4\\', {\\n\\t\\t\\t\\tisin: \\'AT0000A2MX00\\',\\n\\t\\t\\t\\tmodes: [{ mode: \\'CURR\\', from:\\'450607\\', to: null }]\\n\\t\\t\\t});\\n\\t\\t});\\n\\t</script>\\n\\t\\n\\t<div class=\"col-xs-12 col-sm-6 col-md-4 col-lg-2 margin-bottom-15\">\\n\\t\\t<span class=\"name grey\">Certyfikat strukturyzowany factor</span>\\n\\t\\t<h4><a href=\"/produkt-strukturyzowany?isin=AT0000A2NWW7\">RCFL3CIG</a></h4>\\n\\t\\t<div class=\"chart-box\" id=\"ph_inne_instrumenty_chart5\" style=\"height:120px\"></div>               \\n\\t\\t<div class=\"PaL pull-right\">    \\n\\t\\t\\t<b class=\"summary\">653,12</b>                \\n\\t\\t\\t\\t\\t\\t\\t<b class=\"profit\">25,35% <i class=\"icon-up\"></i></b>\\n\\t\\t\\t\\t\\t</div>\\n\\t\\t<small class=\"date grey\">16:09</small>\\n\\t</div>\\n\\t<script type=\"text/javascript\">\\n\\t\\t$(document).ready( function() {\\n\\t\\t\\tchartSimple(\\'ph_inne_instrumenty_chart5\\', {\\n\\t\\t\\t\\tisin: \\'AT0000A2NWW7\\',\\n\\t\\t\\t\\tmodes: [{ mode: \\'CURR\\', from:\\'450607\\', to: null }]\\n\\t\\t\\t});\\n\\t\\t});\\n\\t</script>\\n\\t\\n\\t<div class=\"col-xs-12 col-sm-6 col-md-4 col-lg-2 margin-bottom-15\">\\n\\t\\t<span class=\"name grey\">Certyfikat strukturyzowany turbo</span>\\n\\t\\t<h4><a href=\"/produkt-strukturyzowany?isin=PLINGNV40550\">INTLCDR40550</a></h4>\\n\\t\\t<div class=\"chart-box\" id=\"ph_inne_instrumenty_chart6\" style=\"height:120px\"></div>               \\n\\t\\t<div class=\"PaL pull-right\">    \\n\\t\\t\\t<b class=\"summary\">135&nbsp;329,42</b>                \\n\\t\\t\\t\\t\\t\\t\\t<b class=\"profit\">25,14% <i class=\"icon-up\"></i></b>\\n\\t\\t\\t\\t\\t</div>\\n\\t\\t<small class=\"date grey\">16:46</small>\\n\\t</div>\\n\\t<script type=\"text/javascript\">\\n\\t\\t$(document).ready( function() {\\n\\t\\t\\tchartSimple(\\'ph_inne_instrumenty_chart6\\', {\\n\\t\\t\\t\\tisin: \\'PLINGNV40550\\',\\n\\t\\t\\t\\tmodes: [{ mode: \\'CURR\\', from:\\'450607\\', to: null }]\\n\\t\\t\\t});\\n\\t\\t});\\n\\t</script>\\n        \\n            </div>\\n        </section>\\n\\n        <section class=\"bg_lightGrey\">\\n\\n                \\r\\n\\t<div class=\"jumbotron swiper-container\">\\r\\n\\t<div class=\"swiper-wrapper\">\\r\\n\\t\\t<div style=\"background-image:url(pub/GPW/biegacz_xs.jpg)\" data-after=\"true\" class=\"baner blueFadeStyle swiper-slide\">\\r\\n\\t\\t\\t<div class=\"container\">\\r\\n\\t\\t\\t\\t<div class=\"row\">\\r\\n\\t\\t\\t\\t\\t<div class=\"col-md-12 flex flexColumn\">\\r\\n\\t\\t\\t\\t\\t\\t<h1>Nie st\\xc3\\xb3j \\xe2\\x80\\x93 inwestuj!</h1>\\r\\n\\t\\t\\t\\t\\t\\t<p class=\"lead flexGrow\"></p>\\r\\n\\t\\t\\t\\t\\t\\t<div>\\r\\n\\t\\t\\t\\t\\t\\t\\t\\t\\t\\t\\t\\t\\t\\t<a role=\"button\" class=\"btn btn-arrow btn-lg btn-primary-gradient\" href=\"jak-zaczac-inwestowac\">Nie st\\xc3\\xb3j \\xe2\\x80\\x93 inwestuj!</a>\\r\\n\\t\\t\\t\\t\\t\\t\\t\\t\\t\\t\\t\\t\\t</div>\\r\\n\\t\\t\\t\\t\\t</div>\\r\\n\\t\\t\\t\\t</div><!--row-->\\r\\n\\t\\t\\t</div><!--container-->\\r\\n\\t\\t</div><!--baner-->\\r\\n\\t</div><!--swiper-wrapper-->\\r\\n</div>\\r\\n\\n\\n        </section>\\n\\n\\t\\t        <section class=\"mainContainer padding-bottom-0 padding-top-0 bg_grey\">\\n            <div class=\"container\">\\n                <div class=\"row flex flexWrap\">\\n                    <div class=\"col-xs-12 col-lg-2 padding-bottom-30 padding-top-30 lightBlueSkewBG\" data-after=\"true\">\\n                        <div class=\"shortNews\">\\n                            \\r\\n<h2 class=\"header font-light\">Szko\\xc5\\x82a Gie\\xc5\\x82dowa</h2>\\r\\n<p>Stworzyli\\xc5\\x9bmy serwis edukacyjny dostarczaj\\xc4\\x85cy kursy i materia\\xc5\\x82y edukacyjne dedykowane wszystkim chc\\xc4\\x85cym pog\\xc5\\x82\\xc4\\x99bi\\xc4\\x87 swoj\\xc4\\x85 wiedz\\xc4\\x99 gie\\xc5\\x82dow\\xc4\\x85 niezale\\xc5\\xbcnie od do\\xc5\\x9bwiadczenia.</p>\\r\\n\\r\\n<a href=\"szkola-gieldowa\" class=\"more\">Przejd\\xc5\\xba  \\r\\n    <i class=\"icon-arrow-big-right\"></i>\\r\\n</a>\\n                        </div>\\n                    </div>\\n                    <div class=\"col-xs-12 col-md-5 col-lg-5 col-lg-offset-1 padding-bottom-30 padding-top-40 whiteSkewBG\" data-after=\"true\">\\n                        <div class=\"shortNews\">\\n                            \\r\\n<h4 class=\"header\"><a href=\"lista-szkolen\"><i class=\"icon-arrow-big-right\"></i> Szkolenia</a></h4>\\r\\n<p>Naucz si\\xc4\\x99 nowych zagadnie\\xc5\\x84 i praktyk gie\\xc5\\x82dowych. Nowe metody i strategie czekaj\\xc4\\x85 na ciebie.</p>\\r\\n<a href=\"lista-szkolen\" class=\"more margin-right-20\">Szkolenia Szko\\xc5\\x82y Gie\\xc5\\x82dowej <i class=\"icon-arrow-big-right\"></i></a>\\r\\n<a href=\"dla-firm\" class=\"more margin-right-20\">Kursy dla firm <i class=\"icon-arrow-big-right\"></i></a>\\r\\n<div class=\"clearfix margin-bottom-30\"></div>\\n                            \\r\\n<h4 class=\"header\"><a href=\"https://www.wizytyszkolnegpw.pl/\"><i class=\"icon-arrow-big-right\"></i> Wizyty szkolne</a></h4>\\r\\n<p>Zorganizowane grupy szkolne mog\\xc4\\x85 zapozna\\xc4\\x87 si\\xc4\\x99 z kr&oacute;tk\\xc4\\x85 prezentacj\\xc4\\x85 na temat gie\\xc5\\x82dy, pozna\\xc4\\x87 fakty i zdarzenia z \\xc5\\xbcycia gie\\xc5\\x82dy a tak\\xc5\\xbce obejrze\\xc4\\x87 Sal\\xc4\\x99 Notowa\\xc5\\x84, gdzie znajduje si\\xc4\\x99 charakterystyczny dzwon gie\\xc5\\x82dowy.</p>\\r\\n\\r\\n<a href=\"https://www.wizytyszkolnegpw.pl/\" class=\"more margin-right-20\">Zarezerwuj wizyt\\xc4\\x99 <i class=\"icon-arrow-big-right\"></i></a>\\n                        </div>\\n                    </div>\\n                    <div class=\"col-xs-12 col-md-6 col-lg-3 col-md-offset-1 padding-bottom-30 padding-top-40\">\\n                        <div class=\"shortNews\">\\n                            \\r\\n<h4 class=\"header\"><a href=\"/szkola-gieldowa\"><i class=\"icon-arrow-big-right\"></i> Materia\\xc5\\x82y edukacyjne</a></h4>\\r\\n<p>Dobra znajomo\\xc5\\x9b\\xc4\\x87 rynku, zasad inwestowania oraz instrument&oacute;w finansowych to wi\\xc4\\x99ksze szanse na podejmowanie w\\xc5\\x82a\\xc5\\x9bciwych decyzji i lepszy wynik inwestycji.</p>\\r\\n\\r\\n<a href=\"/szkola-gieldowa\" class=\"more margin-right-20\">Zobacz materia\\xc5\\x82y edukacyjne <i class=\"icon-arrow-big-right\"></i></a>\\n                                                    </div>\\n                    </div>\\n                </div>\\n            </div>\\n        </section>\\n        \\n        <section class=\"mainContainer bg_lightGrey\">\\n            <div class=\"container\">\\n                <div class=\"shortNews\">\\n                    <div class=\"row flex flexWrap\">\\n                        <div class=\"col-xs-12 col-md-4\">\\n                                   \\r\\n       \\r\\n<h4 class=\"header\"><a href=\"komunikaty-i-uchwaly-gpw\"><i class=\"icon-arrow-big-right\"></i> Komunikaty i uchwa\\xc5\\x82y GPW</a></h4>\\r\\n<ul class=\"list\">\\r\\n        <li>\\r\\n        <span class=\"date\">28-05-2021</span>\\r\\n        <h6 class=\"title\"><a href=\"komunikaty-i-uchwaly-gpw?ph_main_01_start=show&amp;cmn_id=111061&amp;title=MIRACULUM+S.A.+Uchwa%C5%82a+Nr+557%2F2021\" class=\"black\">MIRACULUM S.A. (Uchwa\\xc5\\x82a Nr 557/2021)</a></h6>\\r\\n    </li>\\r\\n        <li>\\r\\n        <span class=\"date\">27-05-2021</span>\\r\\n        <h6 class=\"title\"><a href=\"komunikaty-i-uchwaly-gpw?ph_main_01_start=show&amp;cmn_id=111056&amp;title=PEPCO+GROUP+Uchwa%C5%82a+Nr+554%2F2021\" class=\"black\">PEPCO GROUP (Uchwa\\xc5\\x82a Nr 554/2021)</a></h6>\\r\\n    </li>\\r\\n        <li>\\r\\n        <span class=\"date\">27-05-2021</span>\\r\\n        <h6 class=\"title\"><a href=\"komunikaty-i-uchwaly-gpw?ph_main_01_start=show&amp;cmn_id=111055&amp;title=Uchwa%C5%82a+Nr+553%2F2021\" class=\"black\">Uchwa\\xc5\\x82a Nr 553/2021</a></h6>\\r\\n    </li>\\r\\n    </ul>\\r\\n\\n                        </div>\\n                        <div class=\"col-xs-12 col-sm-6 col-md-4\">\\n                            \\r\\n<h4 class=\"header\"><a href=\"/komunikaty-operacyjne\"><i class=\"icon-arrow-big-right\"></i> Komunikaty operacyjne GPW</a></h4>\\r\\n<ul class=\"list\">\\r\\n        <li>\\r\\n        <span class=\"date\">28-05-2021 16:41</span>\\r\\n        <h6 class=\"title\">\\r\\n            <a href=\"/komunikaty-operacyjne#5137\" class=\"black\">\\r\\n                Komunikat KNOCK-OUT\\r\\n            </a>\\r\\n        </h6>\\r\\n        <!--\\r\\n        // TODO\\r\\n        <small>Dzial Notowa\\xc5\\x84</small>\\r\\n        -->\\r\\n    </li>\\r\\n        <li>\\r\\n        <span class=\"date\">28-05-2021 16:26</span>\\r\\n        <h6 class=\"title\">\\r\\n            <a href=\"/komunikaty-operacyjne#5135\" class=\"black\">\\r\\n                Komunikat KNOCK-OUT\\r\\n            </a>\\r\\n        </h6>\\r\\n        <!--\\r\\n        // TODO\\r\\n        <small>Dzial Notowa\\xc5\\x84</small>\\r\\n        -->\\r\\n    </li>\\r\\n        <li>\\r\\n        <span class=\"date\">28-05-2021 16:15</span>\\r\\n        <h6 class=\"title\">\\r\\n            <a href=\"/komunikaty-operacyjne#5133\" class=\"black\">\\r\\n                Komunikat KNOCK-OUT\\r\\n            </a>\\r\\n        </h6>\\r\\n        <!--\\r\\n        // TODO\\r\\n        <small>Dzial Notowa\\xc5\\x84</small>\\r\\n        -->\\r\\n    </li>\\r\\n    </ul>\\n                        </div>\\n                        <div class=\"col-xs-12 col-sm-6 col-md-4\">\\n                               \\r\\n\\r\\n<h4 class=\"header\"><a href=\"kalendarium-zdarzen\"><i class=\"icon-arrow-big-right\"></i> Kalendarium zdarze\\xc5\\x84 rynkowych</a></h4>\\r\\n<ul class=\"list\">\\r\\n            <li>\\r\\n        <span class=\"date\">Pierwsze notowanie 31-05-2021</span>\\r\\n        <h6 class=\"title\"><a href=\"/kalendarium-zdarzen?isin=PL0GO0197824\" class=\"black\">OW20F212625</a></h6>\\r\\n    </li>\\r\\n            <li>\\r\\n        <span class=\"date\">Operacje na papierze 31-05-2021</span>\\r\\n        <h6 class=\"title\"><a href=\"/kalendarium-zdarzen?isin=PLOPTTC00011\" class=\"black\">CDPROJEKT</a></h6>\\r\\n    </li>\\r\\n            <li>\\r\\n        <span class=\"date\">Pierwsze notowanie 31-05-2021</span>\\r\\n        <h6 class=\"title\"><a href=\"/kalendarium-zdarzen?isin=PLGFPRE00222\" class=\"black\">PRF0525</a></h6>\\r\\n    </li>\\r\\n    </ul>\\n                      \\n                        </div>            \\n                    </div>\\n                </div>   \\n            </div>\\n        </section>\\n\\n        <table bgcolor=\"#f5f5f5\" border=\"0\" cellpadding=\"0\" cellspacing=\"0\" style=\"height:100%;width:100%;background-color: rgb(245, 245, 245);\">\\r\\n\\t<tbody>\\r\\n\\t\\t<tr>\\r\\n\\t\\t\\t<td style=\"text-align: center;\">\\r\\n\\t\\t\\t<p><strong><a href=\"https://www.gpw.pl/zawieszenia-i-wykluczenia\">&gt;&gt;&nbsp; Informacje o zawieszeniach i wykluczeniach instrument&oacute;w finansowych</a></strong><br />\\r\\n\\t\\t\\t&nbsp;</p>\\r\\n\\t\\t\\t</td>\\r\\n\\t\\t</tr>\\r\\n\\t</tbody>\\r\\n</table>\\r\\n\\r\\n<p style=\"text-align: center;\">&nbsp;</p>\\r\\n\\r\\n<table bgcolor=\"#ffffff\" border=\"0\" cellpadding=\"0\" cellspacing=\"0\" style=\"height:100%;width:100%;background-color: rgb(255, 255, 255);\">\\r\\n\\t<tbody>\\r\\n\\t\\t<tr>\\r\\n\\t\\t\\t<td style=\"text-align: center;\">\\r\\n\\t\\t\\t<p><a href=\"http://www.gpw.pl/platforma_transakcyjna\"><img alt=\"\" src=\"/pub/GPW/images/poir_ncbr_rp_ueefrr.png\" style=\"width: 800px; border-width: 0px; border-style: solid; height: 48px;\" /></a></p>\\r\\n\\r\\n\\t\\t\\t<p style=\"text-align: center;\"><br />\\r\\n\\t\\t\\t<span style=\"font-size:16px;\"><a href=\"https://www.gpw.pl/platforma_transakcyjna\"><span style=\"color:#00498d;\"><strong>Projekt B+R w zakresie budowy w\\xc5\\x82asnej Platformy Transakcyjnej z dofinansowaniem ze \\xc5\\x9brodk&oacute;w grantowych NCBR\\xe2\\x80\\x8b</strong></span></a></span></p>\\r\\n\\r\\n\\t\\t\\t<p style=\"text-align: center;\"><br />\\r\\n\\t\\t\\t<span style=\"font-size:16px;\"><a href=\"https://www.gpw.pl/gpw_data\"><span style=\"color:#00498d;\"><strong>Projekt B+R w zakresie budowy platformy GPW Data z dofinansowaniem ze \\xc5\\x9brodk&oacute;w grantowych NCBR</strong></span></a></span></p>\\r\\n\\t\\t\\t</td>\\r\\n\\t\\t</tr>\\r\\n\\t</tbody>\\r\\n</table>\\r\\n\\r\\n<p style=\"text-align: center;\">&nbsp;</p>\\r\\n\\n\\n\\n<script>\\n     $(document).ready(function (e) {\\n         $( \"#wallets a\" ).click(function() {\\n             if($(this).data(\\'group\\') == \\'1\\')\\n             {\\n                 $(\\'#group1\\').show();\\n                 $(\\'#group2\\').hide();\\n             }\\n             else\\n             {\\n                 $(\\'#group2\\').show();\\n                 $(\\'#group1\\').hide();\\n             }\\n         });\\n     });\\n</script>\\n\\n\\n<!--sphider_noindex-->\\n        <section class=\"mainContainer padding-top-30 bg_grey\">\\n            <div class=\"hidden-sm hidden-xs\">\\n                <div class=\"row flex\" style=\"width:100%\">\\n                \\t<div class=\"col-md-1 margin-bottom-15\"></div>\\n                \\t\\t<div class=\"col-xs-6 col-sm-4 margin-bottom-15\">\\n\\t\\t\\t<a href=\"https://newconnect.pl\" class=\"btn-block margin-bottom-10\"><img src=\"pub/GPW/logotypy/logo_NEW_CONNECT.png\" class=\"services\" style=\"max-width:100%\"></a>\\t\\t<a href=\"https://newconnect.pl/notowania\" class=\"btn-block font13\">Notowania</a>\\n\\t\\t\\t\\t\\t<a href=\"https://newconnect.pl/sklad-ncindex\" class=\"btn-block font13\">Indeks</a>\\n\\t\\t\\t\\t\\t<a href=\"https://newconnect.pl/autoryzowani-doradcy-lista\" class=\"btn-block font13\">Autoryzowani doradcy</a>\\n\\t\\t\\t\\t\\t<a href=\"https://newconnect.pl/statystyki-okresowe\" class=\"btn-block font13\">Statystyki</a>\\n\\t\\t</div>\\n\\n                \\t\\t<div class=\"col-xs-6 col-sm-4 margin-bottom-15\">\\n\\t\\t\\t<a href=\"https://gpwcatalyst.pl\" class=\"btn-block margin-bottom-10\"><img src=\"pub/GPW/logotypy/logo_CATALYST.png\" class=\"services\" style=\"max-width:100%\"></a>\\t\\t<a href=\"https://gpwcatalyst.pl/notowania\" class=\"btn-block font13\">Notowania</a>\\n\\t\\t\\t\\t\\t<a href=\"https://gpwcatalyst.pl/autoryzowani-doradcy\" class=\"btn-block font13\">Autoryzowani doradcy</a>\\n\\t\\t\\t\\t\\t<a href=\"https://gpwcatalyst.pl/emitenci-obligacji-debiuty\" class=\"btn-block font13\">Debiuty</a>\\n\\t\\t\\t\\t\\t<a href=\"https://gpwcatalyst.pl/statystyki\" class=\"btn-block font13\">Statystyki</a>\\n\\t\\t</div>\\n\\n                \\t\\t<div class=\"col-xs-6 col-sm-4 margin-bottom-15\">\\n\\t\\t\\t<a href=\"https://bondspot.pl/\" class=\"btn-block margin-bottom-10\"><img src=\"pub/GPW/logotypy/logo_BONDSPOT.png\" class=\"services\" style=\"max-width:100%\"></a>\\t\\t<a href=\"https://bondspot.pl/notowania_TBSPoland\" class=\"btn-block font13\">Notowania</a>\\n\\t\\t\\t\\t\\t<a href=\"https://bondspot.pl/aktualnosci_PL\" class=\"btn-block font13\">Aktualno\\xc5\\x9bci</a>\\n\\t\\t\\t\\t\\t<a href=\"https://bondspot.pl/statystyki_TBSPoland\" class=\"btn-block font13\">Statystyki</a>\\n\\t\\t\\t\\t\\t<a href=\"https://bondspot.pl/notowania_TBSPoland\" class=\"btn-block font13\">Komunikaty</a>\\n\\t\\t</div>\\n\\n                \\t\\t<div class=\"col-xs-6 col-sm-4 margin-bottom-15\">\\n\\t\\t\\t<a href=\"https://tge.pl\" class=\"btn-block margin-bottom-10\"><img src=\"pub/GPW/logotypy/logo_TGE.png\" class=\"services\" style=\"max-width:100%\"></a>\\t\\t<a href=\"https://tge.pl/energia-elektryczna-rdn\" class=\"btn-block font13\">Notowania</a>\\n\\t\\t\\t\\t\\t<a href=\"https://tge.pl/energia-elektryczna-mc-dostepne-zdolnosci-przesylowe\" class=\"btn-block font13\">Market Coupling</a>\\n\\t\\t\\t\\t\\t<a href=\"https://tge.pl/czlonkostwo-rynek-towarow-gieldowych\" class=\"btn-block font13\">Cz\\xc5\\x82onkowie gie\\xc5\\x82dy</a>\\n\\t\\t\\t\\t\\t<a href=\"https://tge.pl/komunikaty-operacyjne\" class=\"btn-block font13\">Komunikaty operacyjne</a>\\n\\t\\t</div>\\n\\n                \\t\\t<div class=\"col-xs-6 col-sm-4 margin-bottom-15\">\\n\\t\\t\\t<a href=\"https://gpwbenchmark.pl/\" class=\"btn-block margin-bottom-10\"><img src=\"pub/GPW/logotypy/logo_GPW_BENCHMARK.png\" class=\"services\" style=\"max-width:100%\"></a>\\t\\t<a href=\"https://gpwbenchmark.pl/o-nas\" class=\"btn-block font13\">O sp\\xc3\\xb3\\xc5\\x82ce</a>\\n\\t\\t\\t\\t\\t<a href=\"https://gpwbenchmark.pl/notowania\" class=\"btn-block font13\">Indeksy</a>\\n\\t\\t\\t\\t\\t<a href=\"https://gpwbenchmark.pl/dane-biezace\" class=\"btn-block font13\">Dane bie\\xc5\\xbc\\xc4\\x85ce</a>\\n\\t\\t\\t\\t\\t<a href=\"https://gpwbenchmark.pl/kontrybutorzy\" class=\"btn-block font13\">Kontrybutorzy</a>\\n\\t\\t</div>\\n\\n                \\t\\t<div class=\"col-xs-6 col-sm-4 margin-bottom-15\">\\n\\t\\t\\t<a href=\"https://www.gpw.pl/fundacja-gpw\" class=\"btn-block margin-bottom-10\"><img src=\"pub/GPW/logotypy/FUNDACJAGPW_logotyp.png\" class=\"services\" style=\"max-width:100%\"></a>\\t\\t<a href=\"https://www.gpw.pl/fundacja-informacje\" class=\"btn-block font13\">Fundacja GPW </a>\\n\\t\\t\\t\\t\\t<a href=\"https://www.gpw.pl/szkola-gieldowa-fundacja\" class=\"btn-block font13\">Szko\\xc5\\x82a Gie\\xc5\\x82dowa</a>\\n\\t\\t\\t\\t\\t<a href=\"https://www.gpw.pl/biblioteka-gpw-lista?gpwlc_id=4\" class=\"btn-block font13\">Materia\\xc5\\x82y edukacyjne </a>\\n\\t\\t\\t\\t\\t<a href=\"https://www.gpw.pl/fundacja-kontakt\" class=\"btn-block font13\">Kontakt</a>\\n\\t\\t</div>\\n\\n                \\t\\n                \\t\\n                \\t<div class=\"col-md-1 margin-bottom-15\"></div>\\n                </div>\\n            </div>\\n\\t\\t\\t<div class=\"container hidden-md hidden-lg\"> \\n                <div class=\"row flex flexWrap\" style=\"width:100%\">\\n                \\t\\t<div class=\"col-xs-6 col-sm-4 margin-bottom-15\">\\n\\t\\t\\t<a href=\"https://newconnect.pl\" class=\"btn-block margin-bottom-10\"><img src=\"pub/GPW/logotypy/logo_NEW_CONNECT.png\" class=\"services\" style=\"max-width:100%\"></a>\\t\\t<a href=\"https://newconnect.pl/notowania\" class=\"btn-block font13\">Notowania</a>\\n\\t\\t\\t\\t\\t<a href=\"https://newconnect.pl/sklad-ncindex\" class=\"btn-block font13\">Indeks</a>\\n\\t\\t\\t\\t\\t<a href=\"https://newconnect.pl/autoryzowani-doradcy-lista\" class=\"btn-block font13\">Autoryzowani doradcy</a>\\n\\t\\t\\t\\t\\t<a href=\"https://newconnect.pl/statystyki-okresowe\" class=\"btn-block font13\">Statystyki</a>\\n\\t\\t</div>\\n\\n                \\t\\t<div class=\"col-xs-6 col-sm-4 margin-bottom-15\">\\n\\t\\t\\t<a href=\"https://gpwcatalyst.pl\" class=\"btn-block margin-bottom-10\"><img src=\"pub/GPW/logotypy/logo_CATALYST.png\" class=\"services\" style=\"max-width:100%\"></a>\\t\\t<a href=\"https://gpwcatalyst.pl/notowania\" class=\"btn-block font13\">Notowania</a>\\n\\t\\t\\t\\t\\t<a href=\"https://gpwcatalyst.pl/autoryzowani-doradcy\" class=\"btn-block font13\">Autoryzowani doradcy</a>\\n\\t\\t\\t\\t\\t<a href=\"https://gpwcatalyst.pl/emitenci-obligacji-debiuty\" class=\"btn-block font13\">Debiuty</a>\\n\\t\\t\\t\\t\\t<a href=\"https://gpwcatalyst.pl/statystyki\" class=\"btn-block font13\">Statystyki</a>\\n\\t\\t</div>\\n\\n                \\t\\t<div class=\"col-xs-6 col-sm-4 margin-bottom-15\">\\n\\t\\t\\t<a href=\"https://bondspot.pl/\" class=\"btn-block margin-bottom-10\"><img src=\"pub/GPW/logotypy/logo_BONDSPOT.png\" class=\"services\" style=\"max-width:100%\"></a>\\t\\t<a href=\"https://bondspot.pl/notowania_TBSPoland\" class=\"btn-block font13\">Notowania</a>\\n\\t\\t\\t\\t\\t<a href=\"https://bondspot.pl/aktualnosci_PL\" class=\"btn-block font13\">Aktualno\\xc5\\x9bci</a>\\n\\t\\t\\t\\t\\t<a href=\"https://bondspot.pl/statystyki_TBSPoland\" class=\"btn-block font13\">Statystyki</a>\\n\\t\\t\\t\\t\\t<a href=\"https://bondspot.pl/notowania_TBSPoland\" class=\"btn-block font13\">Komunikaty</a>\\n\\t\\t</div>\\n\\n                \\t\\t<div class=\"col-xs-6 col-sm-4 margin-bottom-15\">\\n\\t\\t\\t<a href=\"https://tge.pl\" class=\"btn-block margin-bottom-10\"><img src=\"pub/GPW/logotypy/logo_TGE.png\" class=\"services\" style=\"max-width:100%\"></a>\\t\\t<a href=\"https://tge.pl/energia-elektryczna-rdn\" class=\"btn-block font13\">Notowania</a>\\n\\t\\t\\t\\t\\t<a href=\"https://tge.pl/energia-elektryczna-mc-dostepne-zdolnosci-przesylowe\" class=\"btn-block font13\">Market Coupling</a>\\n\\t\\t\\t\\t\\t<a href=\"https://tge.pl/czlonkostwo-rynek-towarow-gieldowych\" class=\"btn-block font13\">Cz\\xc5\\x82onkowie gie\\xc5\\x82dy</a>\\n\\t\\t\\t\\t\\t<a href=\"https://tge.pl/komunikaty-operacyjne\" class=\"btn-block font13\">Komunikaty operacyjne</a>\\n\\t\\t</div>\\n\\n                \\t\\t<div class=\"col-xs-6 col-sm-4 margin-bottom-15\">\\n\\t\\t\\t<a href=\"https://gpwbenchmark.pl/\" class=\"btn-block margin-bottom-10\"><img src=\"pub/GPW/logotypy/logo_GPW_BENCHMARK.png\" class=\"services\" style=\"max-width:100%\"></a>\\t\\t<a href=\"https://gpwbenchmark.pl/o-nas\" class=\"btn-block font13\">O sp\\xc3\\xb3\\xc5\\x82ce</a>\\n\\t\\t\\t\\t\\t<a href=\"https://gpwbenchmark.pl/notowania\" class=\"btn-block font13\">Indeksy</a>\\n\\t\\t\\t\\t\\t<a href=\"https://gpwbenchmark.pl/dane-biezace\" class=\"btn-block font13\">Dane bie\\xc5\\xbc\\xc4\\x85ce</a>\\n\\t\\t\\t\\t\\t<a href=\"https://gpwbenchmark.pl/kontrybutorzy\" class=\"btn-block font13\">Kontrybutorzy</a>\\n\\t\\t</div>\\n\\n                \\t\\t<div class=\"col-xs-6 col-sm-4 margin-bottom-15\">\\n\\t\\t\\t<a href=\"https://www.gpw.pl/fundacja-gpw\" class=\"btn-block margin-bottom-10\"><img src=\"pub/GPW/logotypy/FUNDACJAGPW_logotyp.png\" class=\"services\" style=\"max-width:100%\"></a>\\t\\t<a href=\"https://www.gpw.pl/fundacja-informacje\" class=\"btn-block font13\">Fundacja GPW </a>\\n\\t\\t\\t\\t\\t<a href=\"https://www.gpw.pl/szkola-gieldowa-fundacja\" class=\"btn-block font13\">Szko\\xc5\\x82a Gie\\xc5\\x82dowa</a>\\n\\t\\t\\t\\t\\t<a href=\"https://www.gpw.pl/biblioteka-gpw-lista?gpwlc_id=4\" class=\"btn-block font13\">Materia\\xc5\\x82y edukacyjne </a>\\n\\t\\t\\t\\t\\t<a href=\"https://www.gpw.pl/fundacja-kontakt\" class=\"btn-block font13\">Kontakt</a>\\n\\t\\t</div>\\n\\n                \\t\\n                \\t\\n                </div> \\n            </div>\\n        </section>      \\n\\n        <footer role=\"contentinfo\">\\n            <div class=\"footerNav\">\\n\\t<div class=\"container\">\\n\\t\\t<div class=\"row\">\\n\\t\\t\\t\\t\\t\\t\\t<div class=\"col-xs-12 col-sm-6 col-md-4 col-lg-3\">\\n\\t\\t\\t\\t\\t<h4><a href=\"o-glownym-rynku\">O G\\xc5\\x81\\xc3\\x93WNYM RYNKU</a> <span class=\"pull-right pointer visible-xs\" onClick=\"$(this).closest(\\'h4\\').next().slideToggle(\\'fast\\'); $(\\'span\\', this).toggle();\"><span class=\"glyphicon glyphicon-menu-down\"></span> <span class=\"glyphicon glyphicon-menu-up\" style=\"display:none;\"></span></span></h4>\\n\\t\\t\\t\\t\\t\\t\\t\\t\\t\\t<ul class=\"nav navbar-nav\">\\n\\t\\t\\t\\t\\t\\t\\t\\t\\t\\t\\t\\t<li class=\"nav-item\">\\n\\t\\t\\t\\t\\t\\t\\t<a class=\"nav-link\" href=\"kalendarium-zdarzen\">Kalendarium zdarze\\xc5\\x84 rynkowych</a>\\n\\t\\t\\t\\t\\t\\t</li>\\n\\t\\t\\t\\t\\t\\t\\t\\t\\t\\t\\t\\t<li class=\"nav-item\">\\n\\t\\t\\t\\t\\t\\t\\t<a class=\"nav-link\" href=\"szczegoly-sesji\">Szczeg\\xc3\\xb3\\xc5\\x82y sesji</a>\\n\\t\\t\\t\\t\\t\\t</li>\\n\\t\\t\\t\\t\\t\\t\\t\\t\\t\\t\\t\\t<li class=\"nav-item\">\\n\\t\\t\\t\\t\\t\\t\\t<a class=\"nav-link\" href=\"komunikaty-operacyjne\">Komunikaty operacyjne</a>\\n\\t\\t\\t\\t\\t\\t</li>\\n\\t\\t\\t\\t\\t\\t\\t\\t\\t\\t\\t\\t<li class=\"nav-item\">\\n\\t\\t\\t\\t\\t\\t\\t<a class=\"nav-link\" href=\"regulacje-prawne\">Regulacje</a>\\n\\t\\t\\t\\t\\t\\t</li>\\n\\t\\t\\t\\t\\t\\t\\t\\t\\t\\t\\t\\t<li class=\"nav-item\">\\n\\t\\t\\t\\t\\t\\t\\t<a class=\"nav-link\" href=\"archiwum-notowan\">Archiwum notowa\\xc5\\x84</a>\\n\\t\\t\\t\\t\\t\\t</li>\\n\\t\\t\\t\\t\\t\\t\\t\\t\\t\\t\\t\\t<li class=\"nav-item\">\\n\\t\\t\\t\\t\\t\\t\\t<a class=\"nav-link\" href=\"https://www.gpw.pl/szczegoly-sesji/#bez-sesji\">Dni bez sesji</a>\\n\\t\\t\\t\\t\\t\\t</li>\\n\\t\\t\\t\\t\\t\\t\\t\\t\\t\\t\\t</ul>\\n\\t\\t\\t\\t\\t\\t\\t\\t\\t</div>\\n\\t\\t\\t\\t\\t\\t\\t\\t\\t\\t\\t\\t\\t\\t\\t<div class=\"col-xs-12 col-sm-6 col-md-4 col-lg-3\">\\n\\t\\t\\t\\t\\t<h4><a href=\"o-spolce\">O SP\\xc3\\x93\\xc5\\x81CE</a> <span class=\"pull-right pointer visible-xs\" onClick=\"$(this).closest(\\'h4\\').next().slideToggle(\\'fast\\'); $(\\'span\\', this).toggle();\"><span class=\"glyphicon glyphicon-menu-down\"></span> <span class=\"glyphicon glyphicon-menu-up\" style=\"display:none;\"></span></span></h4>\\n\\t\\t\\t\\t\\t\\t\\t\\t\\t\\t<ul class=\"nav navbar-nav\">\\n\\t\\t\\t\\t\\t\\t\\t\\t\\t\\t\\t\\t<li class=\"nav-item\">\\n\\t\\t\\t\\t\\t\\t\\t<a class=\"nav-link\" href=\"o-spolce#historia\">Historia sp\\xc3\\xb3\\xc5\\x82ki</a>\\n\\t\\t\\t\\t\\t\\t</li>\\n\\t\\t\\t\\t\\t\\t\\t\\t\\t\\t\\t\\t<li class=\"nav-item\">\\n\\t\\t\\t\\t\\t\\t\\t<a class=\"nav-link\" href=\"o-spolce#strategia-i-misja\">Misja i strategia sp\\xc3\\xb3\\xc5\\x82ki</a>\\n\\t\\t\\t\\t\\t\\t</li>\\n\\t\\t\\t\\t\\t\\t\\t\\t\\t\\t\\t\\t<li class=\"nav-item\">\\n\\t\\t\\t\\t\\t\\t\\t<a class=\"nav-link\" href=\"o-spolce#w\\xc5\\x82adze-spolki\">W\\xc5\\x82adze sp\\xc3\\xb3\\xc5\\x82ki</a>\\n\\t\\t\\t\\t\\t\\t</li>\\n\\t\\t\\t\\t\\t\\t\\t\\t\\t\\t\\t\\t<li class=\"nav-item\">\\n\\t\\t\\t\\t\\t\\t\\t<a class=\"nav-link\" href=\"o-spolce#akcjonariat\">Akcjonariat</a>\\n\\t\\t\\t\\t\\t\\t</li>\\n\\t\\t\\t\\t\\t\\t\\t\\t\\t\\t\\t\\t<li class=\"nav-item\">\\n\\t\\t\\t\\t\\t\\t\\t<a class=\"nav-link\" href=\"dokumenty-korporacyjne\">Dokumenty korporacyjne</a>\\n\\t\\t\\t\\t\\t\\t</li>\\n\\t\\t\\t\\t\\t\\t\\t\\t\\t\\t\\t\\t<li class=\"nav-item\">\\n\\t\\t\\t\\t\\t\\t\\t<a class=\"nav-link\" href=\"o-spolce#dobre-praktyki\">Dobre praktyki GPW</a>\\n\\t\\t\\t\\t\\t\\t</li>\\n\\t\\t\\t\\t\\t\\t\\t\\t\\t\\t\\t\\t<li class=\"nav-item\">\\n\\t\\t\\t\\t\\t\\t\\t<a class=\"nav-link\" href=\"o-spolce#zgromadzenie\">Walne zgromadzenie</a>\\n\\t\\t\\t\\t\\t\\t</li>\\n\\t\\t\\t\\t\\t\\t\\t\\t\\t\\t\\t\\t<li class=\"nav-item\">\\n\\t\\t\\t\\t\\t\\t\\t<a class=\"nav-link\" href=\"sad-gieldowy\">S\\xc4\\x85d Gie\\xc5\\x82dowy</a>\\n\\t\\t\\t\\t\\t\\t</li>\\n\\t\\t\\t\\t\\t\\t\\t\\t\\t\\t\\t\\t<li class=\"nav-item\">\\n\\t\\t\\t\\t\\t\\t\\t<a class=\"nav-link\" href=\"o-spolce#struktura\">Struktura organizacyjna</a>\\n\\t\\t\\t\\t\\t\\t</li>\\n\\t\\t\\t\\t\\t\\t\\t\\t\\t\\t\\t\\t<li class=\"nav-item\">\\n\\t\\t\\t\\t\\t\\t\\t<a class=\"nav-link\" href=\"o-spolce#lad-korporacyjny\">\\xc5\\x81ad korporacyjny</a>\\n\\t\\t\\t\\t\\t\\t</li>\\n\\t\\t\\t\\t\\t\\t\\t\\t\\t\\t\\t\\t<li class=\"nav-item\">\\n\\t\\t\\t\\t\\t\\t\\t<a class=\"nav-link\" href=\"fundacja-gpw\">Fundacja GPW</a>\\n\\t\\t\\t\\t\\t\\t</li>\\n\\t\\t\\t\\t\\t\\t\\t\\t\\t\\t\\t\\t<li class=\"nav-item\">\\n\\t\\t\\t\\t\\t\\t\\t<a class=\"nav-link\" href=\"BIP\">Biuletyn Informacji Publicznej</a>\\n\\t\\t\\t\\t\\t\\t</li>\\n\\t\\t\\t\\t\\t\\t\\t\\t\\t\\t\\t\\t<li class=\"nav-item\">\\n\\t\\t\\t\\t\\t\\t\\t<a class=\"nav-link\" href=\"zasady-cyberbezpieczenstwa\">Zasady cyberbezpiecze\\xc5\\x84stwa</a>\\n\\t\\t\\t\\t\\t\\t</li>\\n\\t\\t\\t\\t\\t\\t\\t\\t\\t\\t\\t\\t<li class=\"nav-item\">\\n\\t\\t\\t\\t\\t\\t\\t<a class=\"nav-link\" href=\"esg-gpw\">ESG</a>\\n\\t\\t\\t\\t\\t\\t</li>\\n\\t\\t\\t\\t\\t\\t\\t\\t\\t\\t\\t</ul>\\n\\t\\t\\t\\t\\t\\t\\t\\t\\t</div>\\n\\t\\t\\t\\t\\t\\t\\t\\t\\t<div class=\"clearfix visible-sm\"></div>\\n\\t\\t\\t\\t\\t\\t\\t\\t\\t\\t\\t\\t\\t\\t\\t<div class=\"col-xs-12 col-sm-6 col-md-4 col-lg-3\">\\n\\t\\t\\t\\t\\t<h4><a href=\"czlonkowie-gieldy\">CZ\\xc5\\x81ONKOWIE GIE\\xc5\\x81DY</a> <span class=\"pull-right pointer visible-xs\" onClick=\"$(this).closest(\\'h4\\').next().slideToggle(\\'fast\\'); $(\\'span\\', this).toggle();\"><span class=\"glyphicon glyphicon-menu-down\"></span> <span class=\"glyphicon glyphicon-menu-up\" style=\"display:none;\"></span></span></h4>\\n\\t\\t\\t\\t\\t\\t\\t\\t\\t\\t<ul class=\"nav navbar-nav\">\\n\\t\\t\\t\\t\\t\\t\\t\\t\\t\\t\\t\\t<li class=\"nav-item\">\\n\\t\\t\\t\\t\\t\\t\\t<a class=\"nav-link\" href=\"lista-czlonkow-gieldy\">Lista cz\\xc5\\x82onk\\xc3\\xb3w gie\\xc5\\x82dy</a>\\n\\t\\t\\t\\t\\t\\t</li>\\n\\t\\t\\t\\t\\t\\t\\t\\t\\t\\t\\t\\t<li class=\"nav-item\">\\n\\t\\t\\t\\t\\t\\t\\t<a class=\"nav-link\" href=\"lista-czlonkow-gieldy-regs\">Lista cz\\xc5\\x82onk\\xc3\\xb3w gie\\xc5\\x82dy - Reg. S/Zasada 144A</a>\\n\\t\\t\\t\\t\\t\\t</li>\\n\\t\\t\\t\\t\\t\\t\\t\\t\\t\\t\\t\\t<li class=\"nav-item\">\\n\\t\\t\\t\\t\\t\\t\\t<a class=\"nav-link\" href=\"udzial-czlonkow-gieldy-w-obrotach\">Udzia\\xc5\\x82 cz\\xc5\\x82onk\\xc3\\xb3w gie\\xc5\\x82dy w obrotach</a>\\n\\t\\t\\t\\t\\t\\t</li>\\n\\t\\t\\t\\t\\t\\t\\t\\t\\t\\t\\t\\t<li class=\"nav-item\">\\n\\t\\t\\t\\t\\t\\t\\t<a class=\"nav-link\" href=\"czlonkowie-gieldy#animatorzy\">Animatorzy</a>\\n\\t\\t\\t\\t\\t\\t</li>\\n\\t\\t\\t\\t\\t\\t\\t\\t\\t\\t\\t\\t<li class=\"nav-item\">\\n\\t\\t\\t\\t\\t\\t\\t<a class=\"nav-link\" href=\"czlonkowie-gieldy#promocje\">Promocje wspieraj\\xc4\\x85ce p\\xc5\\x82ynno\\xc5\\x9b\\xc4\\x87</a>\\n\\t\\t\\t\\t\\t\\t</li>\\n\\t\\t\\t\\t\\t\\t\\t\\t\\t\\t\\t\\t<li class=\"nav-item\">\\n\\t\\t\\t\\t\\t\\t\\t<a class=\"nav-link\" href=\"czlonkowie-gieldy#materialy_informacyjne\">Materia\\xc5\\x82y informacyjne</a>\\n\\t\\t\\t\\t\\t\\t</li>\\n\\t\\t\\t\\t\\t\\t\\t\\t\\t\\t\\t\\t<li class=\"nav-item\">\\n\\t\\t\\t\\t\\t\\t\\t<a class=\"nav-link\" href=\"czlonkowie-gieldy#podmioty_wspierajace\">Podmioty wspieraj\\xc4\\x85ce</a>\\n\\t\\t\\t\\t\\t\\t</li>\\n\\t\\t\\t\\t\\t\\t\\t\\t\\t\\t\\t\\t<li class=\"nav-item\">\\n\\t\\t\\t\\t\\t\\t\\t<a class=\"nav-link\" href=\"czlonkowie-gieldy#maklerzy\">Maklerzy</a>\\n\\t\\t\\t\\t\\t\\t</li>\\n\\t\\t\\t\\t\\t\\t\\t\\t\\t\\t\\t</ul>\\n\\t\\t\\t\\t\\t\\t\\t\\t\\t</div>\\n\\t\\t\\t\\t\\t\\t\\t\\t\\t\\t\\t\\t\\t<div class=\"clearfix visible-md\"></div>\\n\\t\\t\\t\\t\\t\\t\\t\\t\\t\\t\\t<div class=\"col-xs-12 col-sm-6 col-md-4 col-lg-3\">\\n\\t\\t\\t\\t\\t<h4><a href=\"aktualnosci\">AKTUALNO\\xc5\\x9aCI</a> <span class=\"pull-right pointer visible-xs\" onClick=\"$(this).closest(\\'h4\\').next().slideToggle(\\'fast\\'); $(\\'span\\', this).toggle();\"><span class=\"glyphicon glyphicon-menu-down\"></span> <span class=\"glyphicon glyphicon-menu-up\" style=\"display:none;\"></span></span></h4>\\n\\t\\t\\t\\t\\t\\t\\t\\t\\t\\t<ul class=\"nav navbar-nav\">\\n\\t\\t\\t\\t\\t\\t\\t\\t\\t\\t\\t\\t<li class=\"nav-item\">\\n\\t\\t\\t\\t\\t\\t\\t<a class=\"nav-link\" href=\"lista-konferencji\">Lista konferencji</a>\\n\\t\\t\\t\\t\\t\\t</li>\\n\\t\\t\\t\\t\\t\\t\\t\\t\\t\\t\\t\\t<li class=\"nav-item\">\\n\\t\\t\\t\\t\\t\\t\\t<a class=\"nav-link\" href=\"podstawy-inwestowania-na-gieldzie\">Lista szkole\\xc5\\x84</a>\\n\\t\\t\\t\\t\\t\\t</li>\\n\\t\\t\\t\\t\\t\\t\\t\\t\\t\\t\\t</ul>\\n\\t\\t\\t\\t\\t\\t\\t\\t\\t</div>\\n\\t\\t\\t\\t\\t\\t\\t\\t\\t<div class=\"clearfix visible-sm\"></div>\\n\\t\\t\\t\\t\\t\\t\\t\\t\\t\\t\\t\\t\\t\\t\\t<div class=\"col-xs-12 col-sm-6 col-md-4 col-lg-3\">\\n\\t\\t\\t\\t\\t<h4><a href=\"kontakt\">KONTAKT</a> <span class=\"pull-right pointer visible-xs\" onClick=\"$(this).closest(\\'h4\\').next().slideToggle(\\'fast\\'); $(\\'span\\', this).toggle();\"><span class=\"glyphicon glyphicon-menu-down\"></span> <span class=\"glyphicon glyphicon-menu-up\" style=\"display:none;\"></span></span></h4>\\n\\t\\t\\t\\t\\t\\t\\t\\t\\t</div>\\n\\t\\t\\t\\t\\t\\t\\t\\t\\t\\t\\t\\t\\t\\t\\t<div class=\"col-xs-12 col-sm-6 col-md-4 col-lg-3\">\\n\\t\\t\\t\\t\\t<h4><a href=\"polityka_prywatnosci\">POLITYKA PRYWATNO\\xc5\\x9aCI</a> <span class=\"pull-right pointer visible-xs\" onClick=\"$(this).closest(\\'h4\\').next().slideToggle(\\'fast\\'); $(\\'span\\', this).toggle();\"><span class=\"glyphicon glyphicon-menu-down\"></span> <span class=\"glyphicon glyphicon-menu-up\" style=\"display:none;\"></span></span></h4>\\n\\t\\t\\t\\t\\t\\t\\t\\t\\t</div>\\n\\t\\t\\t\\t\\t\\t\\t\\t\\t<div class=\"clearfix visible-sm\"></div>\\n\\t\\t\\t\\t\\t\\t\\t\\t\\t\\t\\t\\t\\t<div class=\"clearfix visible-md\"></div>\\n\\t\\t\\t\\t\\t\\t\\t\\t\\t\\t\\t<div class=\"col-xs-12 col-sm-6 col-md-4 col-lg-3\">\\n\\t\\t\\t\\t\\t<h4><a href=\"polityka_cookies\">POLITYKA COOKIES</a> <span class=\"pull-right pointer visible-xs\" onClick=\"$(this).closest(\\'h4\\').next().slideToggle(\\'fast\\'); $(\\'span\\', this).toggle();\"><span class=\"glyphicon glyphicon-menu-down\"></span> <span class=\"glyphicon glyphicon-menu-up\" style=\"display:none;\"></span></span></h4>\\n\\t\\t\\t\\t\\t\\t\\t\\t\\t</div>\\n\\t\\t\\t\\t\\t\\t\\t\\t\\t\\t\\t\\t\\t</div><!-- row -->\\n\\t</div><!-- container -->\\n</div><!-- footerNav -->\\n            \\n<div class=\"container flex alignItemsCenter flexWrap\">\\n    <div class=\"clearfix padding-top-15 visible-xs\"></div>\\n    <div class=\"clearfix padding-top-5 hidden-xs\"></div>\\n    <a class=\"footer-brand hidden-sm-down hidden-xs\" href=\"/\"><img src=\"html/images/logo_GPW_pl.png\"></a>\\n    <a class=\"footer-brand hidden-sm-down hidden-xs\" href=\"https://www.gpw.pl/bip\"><img src=\"html/images/bip-small.png\" style=\"height:45px\"></a>\\n        <a class=\"extra-link\"\\n       href=\"grupa-kapitalowa\" >Grupa Kapita\\xc5\\x82owa</a>\\n        <a class=\"extra-link\"\\n       href=\"spolki\" >Sp\\xc3\\xb3\\xc5\\x82ki</a>\\n        <a class=\"extra-link\"\\n       href=\"/grupa-kapitalowa#linie-biznesowe\" >Linie biznesowe GK GPW</a>\\n        <a class=\"extra-link\"\\n       href=\"strategia-i-misja\" >Strategia</a>\\n        <a class=\"extra-link\"\\n       href=\"kariera\" >Kariera</a>\\n        <a class=\"extra-link\"\\n       href=\"praktyki\" >Praktyki</a>\\n        <a class=\"extra-link\"\\n       href=\"zastrzezenia-prawne\" >Zastrze\\xc5\\xbcenia prawne</a>\\n        <div class=\"flexToRight\">\\n                <a title=\"RSS\" href=\"/_rss\"><img alt=\"RSS\" src=\"/html/img/icon_rss.png\"></a>\\n        <a title=\"\" target=\"_blank\" href=\"https://www.flickr.com/photos/gpwsa/\"><img alt=\"\" src=\"/html/img/icon_flickr.png\"></a>\\n    </div>\\n    <div class=\"clearfix padding-bottom-5 hidden-xs\"></div>\\n    <div class=\"clearfix padding-bottom-15 visible-xs\"></div>\\n</div><!-- container -->\\n        </footer>\\n\\n        <div class=\"ie_respond_feedback\"></div>    \\n        <script src=\"html/js/bootstrap.js\"></script>\\n<script src=\"html/js/bootstrap-toolkit.min.js\"></script>\\n<script src=\"html/js/jquery-ui.min.js\"></script>\\n<script src=\"html/js/moment.min.js\"></script>\\n<script src=\"html/js/moment-with-locales.js\"></script>\\n<script src=\"html/js/bootstrap-datepicker-pl.min.js\"></script>\\n<script src=\"html/js/jquery.daterangepicker.js\"></script>\\n<script src=\"html/js/locales/bootstrap-datepicker.pl.min.js\"></script>\\n<script src=\"html/js/locale/locale.pl.js\"></script>\\n<script src=\"html/js/idangerous.swiper.min.js\"></script>\\n\\n<script src=\"html/js/footable.js\"></script>\\n<script src=\"html/js/footable.sort.js\"></script>\\n<script src=\"html/js/footable.filter.js\"></script>\\n\\n<script src=\"html/js/floatThead/dist/jquery.floatThead.min.js\"></script>\\n\\n<script src=\"html/js/jquery.customSelect.js\"></script>\\n<script src=\"html/js/jquery.disableHover.js\"></script>\\n<script src=\"html/js/jquery.nstSlider.min.js\"></script>\\n<script src=\"html/js/gpw/jquery.countdown-timer.js\"></script>\\n<script src=\"/html/javascript/swfobject/swfobject.js\"></script>\\n<script src=\"html/js/responsive-tabs.js\"></script>\\n<script src=\"html/js/jquery.cycle.all.js\"></script>\\n<script src=\"html/js/script.js\"></script>\\n<script src=\"html/js/script2.js\"></script>\\n\\n<script src=\"html/js/amcharts-stock/amcharts.js\"></script> \\n<script src=\"html/js/amcharts-stock/lang/pl.js\"></script>\\n<script src=\"html/js/amcharts-stock/serial.js\"></script> \\n<script src=\"html/js/amcharts-stock/pie.js\"></script> \\n<script src=\"html/js/amcharts-stock/plugins/dataloader/dataloader.min.js\"></script> \\n<script src=\"html/js/amcharts-stock/themes/light.js\"></script>\\n<script src=\"html/js/chart-theme-blank.js\"></script>\\n<script>\\nvar strefaCzasowa=3600;\\n</script>\\n<script src=\"html/js/chart-config.js?v2\"></script>\\n<script src=\"html/js/amcharts-stock/amstock.js\"></script>\\n<script src=\"html/js/amcharts-stock/serial.js\"></script>\\n\\n<script src=\"html/js/jquery.fancybox.js\"></script>\\n<script src=\"html/js/flowplayer-6.0.5/flowplayer.min.js\"></script>\\n<style>\\n\\n.dropdown-menu{\\nz-index:9999;\\n}\\n.table-responsive{\\n\\tmax-height:70vh;\\n\\toverflow: auto;\\n\\tposition: relative;\\n}\\n\\n</style>\\n<script>\\nvar $table1=\\'\\';\\n\\n$(document).ready(function() \\n{ \\n\\t$(\\'.cardBox .dropdown-menu input\\').click(function(){\\n\\t\\tif($table1){\\n\\t\\t\\t$table1.floatThead(\\'reflow\\');\\n            //$(function () {\\n                //$table1.trigger(\\'update\\');\\n            //});\\n\\t\\t}\\n\\t});\\n});\\n\\n</script>        <!--/sphider_noindex-->\\n    </body>\\n</html>'"
      ]
     },
     "execution_count": 49,
     "metadata": {},
     "output_type": "execute_result"
    }
   ],
   "source": [
    "res.content"
   ]
  },
  {
   "cell_type": "code",
   "execution_count": 50,
   "metadata": {},
   "outputs": [],
   "source": [
    "soup = BeautifulSoup(res.content, 'html.parser')"
   ]
  },
  {
   "cell_type": "code",
   "execution_count": 51,
   "metadata": {},
   "outputs": [
    {
     "data": {
      "text/plain": [
       "<title>Główny Rynek GPW - Rynek Główny</title>"
      ]
     },
     "execution_count": 51,
     "metadata": {},
     "output_type": "execute_result"
    }
   ],
   "source": [
    "soup.title"
   ]
  },
  {
   "cell_type": "code",
   "execution_count": 52,
   "metadata": {},
   "outputs": [
    {
     "data": {
      "text/plain": [
       "<table class=\"table table-padding-5\">\n",
       "<tr>\n",
       "<td><a href=\"/spolka?isin=PLGETBK00012\">GETINOBLE</a></td>\n",
       "<td>\n",
       "<div class=\"pull-right\" id=\"ph_rynek_naj_rosnace_chart1_PLGETBK00012\" style=\"height:20px; width:40px\"></div>\n",
       "<script type=\"text/javascript\">\n",
       "\t    \t\t$(document).ready( function() {\n",
       "\t\t\t\t\tchartMicro('ph_rynek_naj_rosnace_chart1_PLGETBK00012', {\n",
       "\t\t\t\t\t\tisin: 'PLGETBK00012',\n",
       "\t\t\t\t\t\tmodes: [{mode: 'CURR', from: '450655', to: null}]\n",
       "\t\t\t\t\t});\n",
       "\t\t\t\t});\n",
       "        \t</script>\n",
       "</td>\n",
       "<td class=\"text-right\">0,2320</td>\n",
       "<td class=\"text-right text-nowrap\"><span class=\"PaL\"><span class=\"profit margin-left-0\">26,09% <i class=\"icon-up\"></i></span></span></td>\n",
       "</tr>\n",
       "<tr>\n",
       "<td><a href=\"/spolka?isin=PLKAREN00014\">CCENERGY</a></td>\n",
       "<td>\n",
       "<div class=\"pull-right\" id=\"ph_rynek_naj_rosnace_chart2_PLKAREN00014\" style=\"height:20px; width:40px\"></div>\n",
       "<script type=\"text/javascript\">\n",
       "\t    \t\t$(document).ready( function() {\n",
       "\t\t\t\t\tchartMicro('ph_rynek_naj_rosnace_chart2_PLKAREN00014', {\n",
       "\t\t\t\t\t\tisin: 'PLKAREN00014',\n",
       "\t\t\t\t\t\tmodes: [{mode: 'CURR', from: '450655', to: null}]\n",
       "\t\t\t\t\t});\n",
       "\t\t\t\t});\n",
       "        \t</script>\n",
       "</td>\n",
       "<td class=\"text-right\">1,7000</td>\n",
       "<td class=\"text-right text-nowrap\"><span class=\"PaL\"><span class=\"profit margin-left-0\">25,93% <i class=\"icon-up\"></i></span></span></td>\n",
       "</tr>\n",
       "<tr>\n",
       "<td><a href=\"/spolka?isin=PLKRKCH00019\">KRAKCHEM</a></td>\n",
       "<td>\n",
       "<div class=\"pull-right\" id=\"ph_rynek_naj_rosnace_chart3_PLKRKCH00019\" style=\"height:20px; width:40px\"></div>\n",
       "<script type=\"text/javascript\">\n",
       "\t    \t\t$(document).ready( function() {\n",
       "\t\t\t\t\tchartMicro('ph_rynek_naj_rosnace_chart3_PLKRKCH00019', {\n",
       "\t\t\t\t\t\tisin: 'PLKRKCH00019',\n",
       "\t\t\t\t\t\tmodes: [{mode: 'CURR', from: '450655', to: null}]\n",
       "\t\t\t\t\t});\n",
       "\t\t\t\t});\n",
       "        \t</script>\n",
       "</td>\n",
       "<td class=\"text-right\">0,7700</td>\n",
       "<td class=\"text-right text-nowrap\"><span class=\"PaL\"><span class=\"profit margin-left-0\">14,93% <i class=\"icon-up\"></i></span></span></td>\n",
       "</tr>\n",
       "<tr>\n",
       "<td><a href=\"/spolka?isin=EE3100143033\">IFSA</a></td>\n",
       "<td>\n",
       "<div class=\"pull-right\" id=\"ph_rynek_naj_rosnace_chart4_EE3100143033\" style=\"height:20px; width:40px\"></div>\n",
       "<script type=\"text/javascript\">\n",
       "\t    \t\t$(document).ready( function() {\n",
       "\t\t\t\t\tchartMicro('ph_rynek_naj_rosnace_chart4_EE3100143033', {\n",
       "\t\t\t\t\t\tisin: 'EE3100143033',\n",
       "\t\t\t\t\t\tmodes: [{mode: 'CURR', from: '450655', to: null}]\n",
       "\t\t\t\t\t});\n",
       "\t\t\t\t});\n",
       "        \t</script>\n",
       "</td>\n",
       "<td class=\"text-right\">1,3300</td>\n",
       "<td class=\"text-right text-nowrap\"><span class=\"PaL\"><span class=\"profit margin-left-0\">10,83% <i class=\"icon-up\"></i></span></span></td>\n",
       "</tr>\n",
       "<tr>\n",
       "<td><a href=\"/spolka?isin=PLGSPR000014\">GETIN</a></td>\n",
       "<td>\n",
       "<div class=\"pull-right\" id=\"ph_rynek_naj_rosnace_chart5_PLGSPR000014\" style=\"height:20px; width:40px\"></div>\n",
       "<script type=\"text/javascript\">\n",
       "\t    \t\t$(document).ready( function() {\n",
       "\t\t\t\t\tchartMicro('ph_rynek_naj_rosnace_chart5_PLGSPR000014', {\n",
       "\t\t\t\t\t\tisin: 'PLGSPR000014',\n",
       "\t\t\t\t\t\tmodes: [{mode: 'CURR', from: '450655', to: null}]\n",
       "\t\t\t\t\t});\n",
       "\t\t\t\t});\n",
       "        \t</script>\n",
       "</td>\n",
       "<td class=\"text-right\">1,0860</td>\n",
       "<td class=\"text-right text-nowrap\"><span class=\"PaL\"><span class=\"profit margin-left-0\">8,71% <i class=\"icon-up\"></i></span></span></td>\n",
       "</tr>\n",
       "<tr>\n",
       "<td><a href=\"/spolka?isin=PLTRNSU00013\">ALTA</a></td>\n",
       "<td>\n",
       "<div class=\"pull-right\" id=\"ph_rynek_naj_rosnace_chart6_PLTRNSU00013\" style=\"height:20px; width:40px\"></div>\n",
       "<script type=\"text/javascript\">\n",
       "\t    \t\t$(document).ready( function() {\n",
       "\t\t\t\t\tchartMicro('ph_rynek_naj_rosnace_chart6_PLTRNSU00013', {\n",
       "\t\t\t\t\t\tisin: 'PLTRNSU00013',\n",
       "\t\t\t\t\t\tmodes: [{mode: 'CURR', from: '450655', to: null}]\n",
       "\t\t\t\t\t});\n",
       "\t\t\t\t});\n",
       "        \t</script>\n",
       "</td>\n",
       "<td class=\"text-right\">2,3500</td>\n",
       "<td class=\"text-right text-nowrap\"><span class=\"PaL\"><span class=\"profit margin-left-0\">7,80% <i class=\"icon-up\"></i></span></span></td>\n",
       "</tr>\n",
       "<tr>\n",
       "<td><a href=\"/spolka?isin=PLPRGNK00017\">PRAGMAINK</a></td>\n",
       "<td>\n",
       "<div class=\"pull-right\" id=\"ph_rynek_naj_rosnace_chart7_PLPRGNK00017\" style=\"height:20px; width:40px\"></div>\n",
       "<script type=\"text/javascript\">\n",
       "\t    \t\t$(document).ready( function() {\n",
       "\t\t\t\t\tchartMicro('ph_rynek_naj_rosnace_chart7_PLPRGNK00017', {\n",
       "\t\t\t\t\t\tisin: 'PLPRGNK00017',\n",
       "\t\t\t\t\t\tmodes: [{mode: 'CURR', from: '450655', to: null}]\n",
       "\t\t\t\t\t});\n",
       "\t\t\t\t});\n",
       "        \t</script>\n",
       "</td>\n",
       "<td class=\"text-right\">5,6500</td>\n",
       "<td class=\"text-right text-nowrap\"><span class=\"PaL\"><span class=\"profit margin-left-0\">7,62% <i class=\"icon-up\"></i></span></span></td>\n",
       "</tr>\n",
       "<tr>\n",
       "<td><a href=\"/spolka?isin=PLCTINT00018\">CIGAMES</a></td>\n",
       "<td>\n",
       "<div class=\"pull-right\" id=\"ph_rynek_naj_rosnace_chart8_PLCTINT00018\" style=\"height:20px; width:40px\"></div>\n",
       "<script type=\"text/javascript\">\n",
       "\t    \t\t$(document).ready( function() {\n",
       "\t\t\t\t\tchartMicro('ph_rynek_naj_rosnace_chart8_PLCTINT00018', {\n",
       "\t\t\t\t\t\tisin: 'PLCTINT00018',\n",
       "\t\t\t\t\t\tmodes: [{mode: 'CURR', from: '450655', to: null}]\n",
       "\t\t\t\t\t});\n",
       "\t\t\t\t});\n",
       "        \t</script>\n",
       "</td>\n",
       "<td class=\"text-right\">1,6000</td>\n",
       "<td class=\"text-right text-nowrap\"><span class=\"PaL\"><span class=\"profit margin-left-0\">7,53% <i class=\"icon-up\"></i></span></span></td>\n",
       "</tr>\n",
       "<tr>\n",
       "<td><a href=\"/spolka?isin=PLBH00000012\">HANDLOWY</a></td>\n",
       "<td>\n",
       "<div class=\"pull-right\" id=\"ph_rynek_naj_rosnace_chart9_PLBH00000012\" style=\"height:20px; width:40px\"></div>\n",
       "<script type=\"text/javascript\">\n",
       "\t    \t\t$(document).ready( function() {\n",
       "\t\t\t\t\tchartMicro('ph_rynek_naj_rosnace_chart9_PLBH00000012', {\n",
       "\t\t\t\t\t\tisin: 'PLBH00000012',\n",
       "\t\t\t\t\t\tmodes: [{mode: 'CURR', from: '450655', to: null}]\n",
       "\t\t\t\t\t});\n",
       "\t\t\t\t});\n",
       "        \t</script>\n",
       "</td>\n",
       "<td class=\"text-right\">45,9000</td>\n",
       "<td class=\"text-right text-nowrap\"><span class=\"PaL\"><span class=\"profit margin-left-0\">7,24% <i class=\"icon-up\"></i></span></span></td>\n",
       "</tr>\n",
       "<tr>\n",
       "<td><a href=\"/spolka?isin=PLKRINK00014\">KREDYTIN</a></td>\n",
       "<td>\n",
       "<div class=\"pull-right\" id=\"ph_rynek_naj_rosnace_chart10_PLKRINK00014\" style=\"height:20px; width:40px\"></div>\n",
       "<script type=\"text/javascript\">\n",
       "\t    \t\t$(document).ready( function() {\n",
       "\t\t\t\t\tchartMicro('ph_rynek_naj_rosnace_chart10_PLKRINK00014', {\n",
       "\t\t\t\t\t\tisin: 'PLKRINK00014',\n",
       "\t\t\t\t\t\tmodes: [{mode: 'CURR', from: '450655', to: null}]\n",
       "\t\t\t\t\t});\n",
       "\t\t\t\t});\n",
       "        \t</script>\n",
       "</td>\n",
       "<td class=\"text-right\">11,9000</td>\n",
       "<td class=\"text-right text-nowrap\"><span class=\"PaL\"><span class=\"profit margin-left-0\">7,21% <i class=\"icon-up\"></i></span></span></td>\n",
       "</tr>\n",
       "<tr>\n",
       "<td><a href=\"/spolka?isin=PLCPTLP00015\">CAPITAL</a></td>\n",
       "<td>\n",
       "<div class=\"pull-right\" id=\"ph_rynek_naj_rosnace_chart11_PLCPTLP00015\" style=\"height:20px; width:40px\"></div>\n",
       "<script type=\"text/javascript\">\n",
       "\t    \t\t$(document).ready( function() {\n",
       "\t\t\t\t\tchartMicro('ph_rynek_naj_rosnace_chart11_PLCPTLP00015', {\n",
       "\t\t\t\t\t\tisin: 'PLCPTLP00015',\n",
       "\t\t\t\t\t\tmodes: [{mode: 'CURR', from: '450655', to: null}]\n",
       "\t\t\t\t\t});\n",
       "\t\t\t\t});\n",
       "        \t</script>\n",
       "</td>\n",
       "<td class=\"text-right\">1,7900</td>\n",
       "<td class=\"text-right text-nowrap\"><span class=\"PaL\"><span class=\"profit margin-left-0\">7,19% <i class=\"icon-up\"></i></span></span></td>\n",
       "</tr>\n",
       "<tr>\n",
       "<td><a href=\"/spolka?isin=PLODRTS00017\">OTLOG</a></td>\n",
       "<td>\n",
       "<div class=\"pull-right\" id=\"ph_rynek_naj_rosnace_chart12_PLODRTS00017\" style=\"height:20px; width:40px\"></div>\n",
       "<script type=\"text/javascript\">\n",
       "\t    \t\t$(document).ready( function() {\n",
       "\t\t\t\t\tchartMicro('ph_rynek_naj_rosnace_chart12_PLODRTS00017', {\n",
       "\t\t\t\t\t\tisin: 'PLODRTS00017',\n",
       "\t\t\t\t\t\tmodes: [{mode: 'CURR', from: '450655', to: null}]\n",
       "\t\t\t\t\t});\n",
       "\t\t\t\t});\n",
       "        \t</script>\n",
       "</td>\n",
       "<td class=\"text-right\">8,8000</td>\n",
       "<td class=\"text-right text-nowrap\"><span class=\"PaL\"><span class=\"profit margin-left-0\">7,06% <i class=\"icon-up\"></i></span></span></td>\n",
       "</tr>\n",
       "<tr>\n",
       "<td><a href=\"/spolka?isin=PLLKMDW00049\">LOKUM</a></td>\n",
       "<td>\n",
       "<div class=\"pull-right\" id=\"ph_rynek_naj_rosnace_chart13_PLLKMDW00049\" style=\"height:20px; width:40px\"></div>\n",
       "<script type=\"text/javascript\">\n",
       "\t    \t\t$(document).ready( function() {\n",
       "\t\t\t\t\tchartMicro('ph_rynek_naj_rosnace_chart13_PLLKMDW00049', {\n",
       "\t\t\t\t\t\tisin: 'PLLKMDW00049',\n",
       "\t\t\t\t\t\tmodes: [{mode: 'CURR', from: '450655', to: null}]\n",
       "\t\t\t\t\t});\n",
       "\t\t\t\t});\n",
       "        \t</script>\n",
       "</td>\n",
       "<td class=\"text-right\">24,4000</td>\n",
       "<td class=\"text-right text-nowrap\"><span class=\"PaL\"><span class=\"profit margin-left-0\">7,02% <i class=\"icon-up\"></i></span></span></td>\n",
       "</tr>\n",
       "<tr>\n",
       "<td><a href=\"/spolka?isin=PLPZBDT00013\">POZBUD</a></td>\n",
       "<td>\n",
       "<div class=\"pull-right\" id=\"ph_rynek_naj_rosnace_chart14_PLPZBDT00013\" style=\"height:20px; width:40px\"></div>\n",
       "<script type=\"text/javascript\">\n",
       "\t    \t\t$(document).ready( function() {\n",
       "\t\t\t\t\tchartMicro('ph_rynek_naj_rosnace_chart14_PLPZBDT00013', {\n",
       "\t\t\t\t\t\tisin: 'PLPZBDT00013',\n",
       "\t\t\t\t\t\tmodes: [{mode: 'CURR', from: '450655', to: null}]\n",
       "\t\t\t\t\t});\n",
       "\t\t\t\t});\n",
       "        \t</script>\n",
       "</td>\n",
       "<td class=\"text-right\">3,3600</td>\n",
       "<td class=\"text-right text-nowrap\"><span class=\"PaL\"><span class=\"profit margin-left-0\">6,67% <i class=\"icon-up\"></i></span></span></td>\n",
       "</tr>\n",
       "</table>"
      ]
     },
     "execution_count": 52,
     "metadata": {},
     "output_type": "execute_result"
    }
   ],
   "source": [
    "table = soup.findAll(\"table\", {\"class\" : \"table table-padding-5\"})[0]; table"
   ]
  },
  {
   "cell_type": "code",
   "execution_count": 53,
   "metadata": {},
   "outputs": [
    {
     "data": {
      "text/plain": [
       "[<a href=\"/spolka?isin=PLGETBK00012\">GETINOBLE</a>,\n",
       " <a href=\"/spolka?isin=PLKAREN00014\">CCENERGY</a>,\n",
       " <a href=\"/spolka?isin=PLKRKCH00019\">KRAKCHEM</a>,\n",
       " <a href=\"/spolka?isin=EE3100143033\">IFSA</a>,\n",
       " <a href=\"/spolka?isin=PLGSPR000014\">GETIN</a>,\n",
       " <a href=\"/spolka?isin=PLTRNSU00013\">ALTA</a>,\n",
       " <a href=\"/spolka?isin=PLPRGNK00017\">PRAGMAINK</a>,\n",
       " <a href=\"/spolka?isin=PLCTINT00018\">CIGAMES</a>,\n",
       " <a href=\"/spolka?isin=PLBH00000012\">HANDLOWY</a>,\n",
       " <a href=\"/spolka?isin=PLKRINK00014\">KREDYTIN</a>,\n",
       " <a href=\"/spolka?isin=PLCPTLP00015\">CAPITAL</a>,\n",
       " <a href=\"/spolka?isin=PLODRTS00017\">OTLOG</a>,\n",
       " <a href=\"/spolka?isin=PLLKMDW00049\">LOKUM</a>,\n",
       " <a href=\"/spolka?isin=PLPZBDT00013\">POZBUD</a>]"
      ]
     },
     "execution_count": 53,
     "metadata": {},
     "output_type": "execute_result"
    }
   ],
   "source": [
    "table.find_all(\"a\", href=True) \n",
    "# eg goto https://www.gpw.pl//spolka?isin=PLTAURN00011"
   ]
  },
  {
   "cell_type": "code",
   "execution_count": 54,
   "metadata": {},
   "outputs": [
    {
     "data": {
      "text/plain": [
       "'0,2320'"
      ]
     },
     "execution_count": 54,
     "metadata": {},
     "output_type": "execute_result"
    }
   ],
   "source": [
    "table.findAll(\"td\", {\"class\" : \"text-right\"})[0].get_text()"
   ]
  },
  {
   "cell_type": "code",
   "execution_count": 55,
   "metadata": {},
   "outputs": [
    {
     "data": {
      "text/plain": [
       "[['GETINOBLE', '0,2320', '26,09% '],\n",
       " ['CCENERGY', '1,7000', '25,93% '],\n",
       " ['KRAKCHEM', '0,7700', '14,93% '],\n",
       " ['IFSA', '1,3300', '10,83% '],\n",
       " ['GETIN', '1,0860', '8,71% '],\n",
       " ['ALTA', '2,3500', '7,80% '],\n",
       " ['PRAGMAINK', '5,6500', '7,62% '],\n",
       " ['CIGAMES', '1,6000', '7,53% '],\n",
       " ['HANDLOWY', '45,9000', '7,24% '],\n",
       " ['KREDYTIN', '11,9000', '7,21% '],\n",
       " ['CAPITAL', '1,7900', '7,19% '],\n",
       " ['OTLOG', '8,8000', '7,06% '],\n",
       " ['LOKUM', '24,4000', '7,02% '],\n",
       " ['POZBUD', '3,3600', '6,67% ']]"
      ]
     },
     "execution_count": 55,
     "metadata": {},
     "output_type": "execute_result"
    }
   ],
   "source": [
    "gpw_ros = []\n",
    "\n",
    "for i in table:\n",
    "    if i.find(\"a\") != -1:\n",
    "        name = i.find('a').get_text()\n",
    "        val  = i.find(\"td\", {\"class\" : \"text-right\"}).get_text()\n",
    "        prc  = i.find(\"td\", {\"class\" : \"text-right text-nowrap\"}).get_text()\n",
    "        \n",
    "        gpw_ros.append([name, val, prc])\n",
    "\n",
    "gpw_ros"
   ]
  },
  {
   "cell_type": "markdown",
   "metadata": {},
   "source": [
    "## Przykład 2\n",
    "\n",
    "[Working With JSON Data in Python](https://realpython.com/python-json/)"
   ]
  },
  {
   "cell_type": "code",
   "execution_count": 56,
   "metadata": {},
   "outputs": [
    {
     "name": "stdout",
     "output_type": "stream",
     "text": [
      "{\"uczestnicy\": [{\"name\": \"Anna\", \"age\": 22, \"city\": \"Warszawa\"}, {\"name\": \"Zosia\", \"age\": 12, \"city\": \"Krak\\u00f3w\"}]}\n"
     ]
    }
   ],
   "source": [
    "# a Python object (dict):\n",
    "x = { \"uczestnicy\": [ \n",
    "        { \"name\": \"Anna\",\n",
    "          \"age\": 22,\n",
    "          \"city\": \"Warszawa\"},  \n",
    "        { \"name\": \"Zosia\",\n",
    "          \"age\": 12,\n",
    "          \"city\": \"Kraków\"}]\n",
    "}\n",
    "\n",
    "# convert into JSON:\n",
    "y = json.dumps(x)\n",
    "\n",
    "# the result is a JSON string:\n",
    "print(y)"
   ]
  },
  {
   "cell_type": "code",
   "execution_count": 57,
   "metadata": {},
   "outputs": [
    {
     "data": {
      "text/plain": [
       "dict"
      ]
     },
     "execution_count": 57,
     "metadata": {},
     "output_type": "execute_result"
    }
   ],
   "source": [
    "type(x)"
   ]
  },
  {
   "cell_type": "code",
   "execution_count": 58,
   "metadata": {},
   "outputs": [
    {
     "data": {
      "text/plain": [
       "str"
      ]
     },
     "execution_count": 58,
     "metadata": {},
     "output_type": "execute_result"
    }
   ],
   "source": [
    "type(y)"
   ]
  },
  {
   "cell_type": "markdown",
   "metadata": {},
   "source": [
    "**GitHub API i grafika wektorowa**\n",
    "\n",
    "Źródło: https://github.com/ehmatthes/pcc"
   ]
  },
  {
   "cell_type": "code",
   "execution_count": 61,
   "metadata": {},
   "outputs": [],
   "source": [
    "import requests\n",
    "import pygal\n",
    "from pygal.style import LightColorizedStyle as LCS, LightenStyle as LS\n",
    "from IPython.display import SVG, HTML"
   ]
  },
  {
   "cell_type": "code",
   "execution_count": 62,
   "metadata": {},
   "outputs": [
    {
     "name": "stdout",
     "output_type": "stream",
     "text": [
      "Status code: 200\n"
     ]
    }
   ],
   "source": [
    "# Make an API call, and store the response.\n",
    "url = 'https://api.github.com/search/repositories?q=language:python&sort=stars'\n",
    "r = requests.get(url)\n",
    "print(\"Status code:\", r.status_code)"
   ]
  },
  {
   "cell_type": "code",
   "execution_count": 95,
   "metadata": {},
   "outputs": [
    {
     "name": "stdout",
     "output_type": "stream",
     "text": [
      "Total repositories: 7323897\n"
     ]
    }
   ],
   "source": [
    "# Store API response in a variable.\n",
    "response_dict = r.json()\n",
    "print(\"Total repositories:\", response_dict['total_count'])\n",
    "# r.content"
   ]
  },
  {
   "cell_type": "code",
   "execution_count": 64,
   "metadata": {},
   "outputs": [],
   "source": [
    "repo_dicts = response_dict['items']\n",
    "names, plot_dicts = [], []\n",
    "for repo_dict in repo_dicts:\n",
    "    names.append(repo_dict['name'])\n",
    "\n",
    "    # Get the project description, if one is available.\n",
    "    description = repo_dict['description']\n",
    "    if not description:\n",
    "        description = \"No description provided.\"\n",
    "\n",
    "    plot_dict = {\n",
    "        'value': repo_dict['stargazers_count'],\n",
    "        'label': description,\n",
    "        'xlink': repo_dict['html_url'],\n",
    "        }\n",
    "    plot_dicts.append(plot_dict)"
   ]
  },
  {
   "cell_type": "code",
   "execution_count": 65,
   "metadata": {},
   "outputs": [
    {
     "data": {
      "text/plain": [
       "['system-design-primer',\n",
       " 'public-apis',\n",
       " 'Python',\n",
       " 'Python-100-Days',\n",
       " 'awesome-python',\n",
       " 'youtube-dl',\n",
       " 'models',\n",
       " 'thefuck',\n",
       " 'django',\n",
       " 'flask',\n",
       " 'keras',\n",
       " 'httpie',\n",
       " 'awesome-machine-learning',\n",
       " 'ansible',\n",
       " 'transformers',\n",
       " 'scikit-learn',\n",
       " 'requests',\n",
       " 'core',\n",
       " 'HelloGitHub',\n",
       " 'scrapy',\n",
       " 'big-list-of-naughty-strings',\n",
       " 'you-get',\n",
       " 'face_recognition',\n",
       " 'superset',\n",
       " 'cpython',\n",
       " 'faceswap',\n",
       " 'manim',\n",
       " 'shadowsocks',\n",
       " 'fastapi',\n",
       " 'interview_internal_reference']"
      ]
     },
     "execution_count": 65,
     "metadata": {},
     "output_type": "execute_result"
    }
   ],
   "source": [
    "names"
   ]
  },
  {
   "cell_type": "code",
   "execution_count": 66,
   "metadata": {},
   "outputs": [],
   "source": [
    "base_html = \"\"\"\n",
    "<!DOCTYPE html>\n",
    "<html>\n",
    "  <head>\n",
    "  <script type=\"text/javascript\" src=\"http://kozea.github.com/pygal.js/javascripts/svg.jquery.js\"></script>\n",
    "  <script type=\"text/javascript\" src=\"https://kozea.github.io/pygal.js/2.0.x/pygal-tooltips.min.js\"\"></script>\n",
    "  </head>\n",
    "  <body>\n",
    "    <figure>\n",
    "      {rendered_chart}\n",
    "    </figure>\n",
    "  </body>\n",
    "</html>\n",
    "\"\"\""
   ]
  },
  {
   "cell_type": "code",
   "execution_count": 67,
   "metadata": {},
   "outputs": [
    {
     "data": {
      "text/html": [
       "\n",
       "<!DOCTYPE html>\n",
       "<html>\n",
       "  <head>\n",
       "  <script type=\"text/javascript\" src=\"http://kozea.github.com/pygal.js/javascripts/svg.jquery.js\"></script>\n",
       "  <script type=\"text/javascript\" src=\"https://kozea.github.io/pygal.js/2.0.x/pygal-tooltips.min.js\"\"></script>\n",
       "  </head>\n",
       "  <body>\n",
       "    <figure>\n",
       "      <?xml version='1.0' encoding='utf-8'?>\n",
       "<svg xmlns:xlink=\"http://www.w3.org/1999/xlink\" xmlns=\"http://www.w3.org/2000/svg\" id=\"chart-8034e52e-ec6b-4dd3-bb1a-5e74b44c4205\" class=\"pygal-chart\" viewBox=\"0 0 1000 600\"><!--Generated with pygal 2.4.0 (etree) ©Kozea 2012-2016 on 2021-05-30--><!--http://pygal.org--><!--http://github.com/Kozea/pygal--><defs><style type=\"text/css\">#chart-8034e52e-ec6b-4dd3-bb1a-5e74b44c4205{-webkit-user-select:none;-webkit-font-smoothing:antialiased;font-family:Consolas,\"Liberation Mono\",Menlo,Courier,monospace}#chart-8034e52e-ec6b-4dd3-bb1a-5e74b44c4205 .title{font-family:Consolas,\"Liberation Mono\",Menlo,Courier,monospace;font-size:24px}#chart-8034e52e-ec6b-4dd3-bb1a-5e74b44c4205 .legends .legend text{font-family:Consolas,\"Liberation Mono\",Menlo,Courier,monospace;font-size:14px}#chart-8034e52e-ec6b-4dd3-bb1a-5e74b44c4205 .axis text{font-family:Consolas,\"Liberation Mono\",Menlo,Courier,monospace;font-size:14px}#chart-8034e52e-ec6b-4dd3-bb1a-5e74b44c4205 .axis text.major{font-family:Consolas,\"Liberation Mono\",Menlo,Courier,monospace;font-size:18px}#chart-8034e52e-ec6b-4dd3-bb1a-5e74b44c4205 .text-overlay text.value{font-family:Consolas,\"Liberation Mono\",Menlo,Courier,monospace;font-size:16px}#chart-8034e52e-ec6b-4dd3-bb1a-5e74b44c4205 .text-overlay text.label{font-family:Consolas,\"Liberation Mono\",Menlo,Courier,monospace;font-size:10px}#chart-8034e52e-ec6b-4dd3-bb1a-5e74b44c4205 .tooltip{font-family:Consolas,\"Liberation Mono\",Menlo,Courier,monospace;font-size:14px}#chart-8034e52e-ec6b-4dd3-bb1a-5e74b44c4205 text.no_data{font-family:Consolas,\"Liberation Mono\",Menlo,Courier,monospace;font-size:64px}\n",
       "#chart-8034e52e-ec6b-4dd3-bb1a-5e74b44c4205{background-color:#f8f8f8}#chart-8034e52e-ec6b-4dd3-bb1a-5e74b44c4205 path,#chart-8034e52e-ec6b-4dd3-bb1a-5e74b44c4205 line,#chart-8034e52e-ec6b-4dd3-bb1a-5e74b44c4205 rect,#chart-8034e52e-ec6b-4dd3-bb1a-5e74b44c4205 circle{-webkit-transition:250ms ease-in;-moz-transition:250ms ease-in;transition:250ms ease-in}#chart-8034e52e-ec6b-4dd3-bb1a-5e74b44c4205 .graph &gt; .background{fill:#f8f8f8}#chart-8034e52e-ec6b-4dd3-bb1a-5e74b44c4205 .plot &gt; .background{fill:#ffffff}#chart-8034e52e-ec6b-4dd3-bb1a-5e74b44c4205 .graph{fill:#333}#chart-8034e52e-ec6b-4dd3-bb1a-5e74b44c4205 text.no_data{fill:#666}#chart-8034e52e-ec6b-4dd3-bb1a-5e74b44c4205 .title{fill:#666}#chart-8034e52e-ec6b-4dd3-bb1a-5e74b44c4205 .legends .legend text{fill:#333}#chart-8034e52e-ec6b-4dd3-bb1a-5e74b44c4205 .legends .legend:hover text{fill:#666}#chart-8034e52e-ec6b-4dd3-bb1a-5e74b44c4205 .axis .line{stroke:#666}#chart-8034e52e-ec6b-4dd3-bb1a-5e74b44c4205 .axis .guide.line{stroke:rgba(0,0,0,0.5)}#chart-8034e52e-ec6b-4dd3-bb1a-5e74b44c4205 .axis .major.line{stroke:#333}#chart-8034e52e-ec6b-4dd3-bb1a-5e74b44c4205 .axis text.major{fill:#666}#chart-8034e52e-ec6b-4dd3-bb1a-5e74b44c4205 .axis.y .guides:hover .guide.line,#chart-8034e52e-ec6b-4dd3-bb1a-5e74b44c4205 .line-graph .axis.x .guides:hover .guide.line,#chart-8034e52e-ec6b-4dd3-bb1a-5e74b44c4205 .stackedline-graph .axis.x .guides:hover .guide.line,#chart-8034e52e-ec6b-4dd3-bb1a-5e74b44c4205 .xy-graph .axis.x .guides:hover .guide.line{stroke:#666}#chart-8034e52e-ec6b-4dd3-bb1a-5e74b44c4205 .axis .guides:hover text{fill:#666}#chart-8034e52e-ec6b-4dd3-bb1a-5e74b44c4205 .reactive{fill-opacity:.5;stroke-opacity:.8}#chart-8034e52e-ec6b-4dd3-bb1a-5e74b44c4205 .ci{stroke:#333}#chart-8034e52e-ec6b-4dd3-bb1a-5e74b44c4205 .reactive.active,#chart-8034e52e-ec6b-4dd3-bb1a-5e74b44c4205 .active .reactive{fill-opacity:.9;stroke-opacity:.9;stroke-width:4}#chart-8034e52e-ec6b-4dd3-bb1a-5e74b44c4205 .ci .reactive.active{stroke-width:1.5}#chart-8034e52e-ec6b-4dd3-bb1a-5e74b44c4205 .series text{fill:#666}#chart-8034e52e-ec6b-4dd3-bb1a-5e74b44c4205 .tooltip rect{fill:#ffffff;stroke:#666;-webkit-transition:opacity 250ms ease-in;-moz-transition:opacity 250ms ease-in;transition:opacity 250ms ease-in}#chart-8034e52e-ec6b-4dd3-bb1a-5e74b44c4205 .tooltip .label{fill:#333}#chart-8034e52e-ec6b-4dd3-bb1a-5e74b44c4205 .tooltip .label{fill:#333}#chart-8034e52e-ec6b-4dd3-bb1a-5e74b44c4205 .tooltip .legend{font-size:.8em;fill:rgba(0,0,0,0.5)}#chart-8034e52e-ec6b-4dd3-bb1a-5e74b44c4205 .tooltip .x_label{font-size:.6em;fill:#666}#chart-8034e52e-ec6b-4dd3-bb1a-5e74b44c4205 .tooltip .xlink{font-size:.5em;text-decoration:underline}#chart-8034e52e-ec6b-4dd3-bb1a-5e74b44c4205 .tooltip .value{font-size:1.5em}#chart-8034e52e-ec6b-4dd3-bb1a-5e74b44c4205 .bound{font-size:.5em}#chart-8034e52e-ec6b-4dd3-bb1a-5e74b44c4205 .max-value{font-size:.75em;fill:rgba(0,0,0,0.5)}#chart-8034e52e-ec6b-4dd3-bb1a-5e74b44c4205 .map-element{fill:#ffffff;stroke:rgba(0,0,0,0.5) !important}#chart-8034e52e-ec6b-4dd3-bb1a-5e74b44c4205 .map-element .reactive{fill-opacity:inherit;stroke-opacity:inherit}#chart-8034e52e-ec6b-4dd3-bb1a-5e74b44c4205 .color-0,#chart-8034e52e-ec6b-4dd3-bb1a-5e74b44c4205 .color-0 a:visited{stroke:#333366;fill:#333366}#chart-8034e52e-ec6b-4dd3-bb1a-5e74b44c4205 .text-overlay .color-0 text{fill:black}\n",
       "#chart-8034e52e-ec6b-4dd3-bb1a-5e74b44c4205 text.no_data{text-anchor:middle}#chart-8034e52e-ec6b-4dd3-bb1a-5e74b44c4205 .guide.line{fill:none}#chart-8034e52e-ec6b-4dd3-bb1a-5e74b44c4205 .centered{text-anchor:middle}#chart-8034e52e-ec6b-4dd3-bb1a-5e74b44c4205 .title{text-anchor:middle}#chart-8034e52e-ec6b-4dd3-bb1a-5e74b44c4205 .legends .legend text{fill-opacity:1}#chart-8034e52e-ec6b-4dd3-bb1a-5e74b44c4205 .axis.x text{text-anchor:middle}#chart-8034e52e-ec6b-4dd3-bb1a-5e74b44c4205 .axis.x:not(.web) text[transform]{text-anchor:start}#chart-8034e52e-ec6b-4dd3-bb1a-5e74b44c4205 .axis.x:not(.web) text[transform].backwards{text-anchor:end}#chart-8034e52e-ec6b-4dd3-bb1a-5e74b44c4205 .axis.y text{text-anchor:end}#chart-8034e52e-ec6b-4dd3-bb1a-5e74b44c4205 .axis.y text[transform].backwards{text-anchor:start}#chart-8034e52e-ec6b-4dd3-bb1a-5e74b44c4205 .axis.y2 text{text-anchor:start}#chart-8034e52e-ec6b-4dd3-bb1a-5e74b44c4205 .axis.y2 text[transform].backwards{text-anchor:end}#chart-8034e52e-ec6b-4dd3-bb1a-5e74b44c4205 .axis .guide.line{stroke-dasharray:4,4}#chart-8034e52e-ec6b-4dd3-bb1a-5e74b44c4205 .axis .major.guide.line{stroke-dasharray:6,6}#chart-8034e52e-ec6b-4dd3-bb1a-5e74b44c4205 .horizontal .axis.y .guide.line,#chart-8034e52e-ec6b-4dd3-bb1a-5e74b44c4205 .horizontal .axis.y2 .guide.line,#chart-8034e52e-ec6b-4dd3-bb1a-5e74b44c4205 .vertical .axis.x .guide.line{opacity:0}#chart-8034e52e-ec6b-4dd3-bb1a-5e74b44c4205 .horizontal .axis.always_show .guide.line,#chart-8034e52e-ec6b-4dd3-bb1a-5e74b44c4205 .vertical .axis.always_show .guide.line{opacity:1 !important}#chart-8034e52e-ec6b-4dd3-bb1a-5e74b44c4205 .axis.y .guides:hover .guide.line,#chart-8034e52e-ec6b-4dd3-bb1a-5e74b44c4205 .axis.y2 .guides:hover .guide.line,#chart-8034e52e-ec6b-4dd3-bb1a-5e74b44c4205 .axis.x .guides:hover .guide.line{opacity:1}#chart-8034e52e-ec6b-4dd3-bb1a-5e74b44c4205 .axis .guides:hover text{opacity:1}#chart-8034e52e-ec6b-4dd3-bb1a-5e74b44c4205 .nofill{fill:none}#chart-8034e52e-ec6b-4dd3-bb1a-5e74b44c4205 .subtle-fill{fill-opacity:.2}#chart-8034e52e-ec6b-4dd3-bb1a-5e74b44c4205 .dot{stroke-width:1px;fill-opacity:1}#chart-8034e52e-ec6b-4dd3-bb1a-5e74b44c4205 .dot.active{stroke-width:5px}#chart-8034e52e-ec6b-4dd3-bb1a-5e74b44c4205 .dot.negative{fill:transparent}#chart-8034e52e-ec6b-4dd3-bb1a-5e74b44c4205 text,#chart-8034e52e-ec6b-4dd3-bb1a-5e74b44c4205 tspan{stroke:none !important}#chart-8034e52e-ec6b-4dd3-bb1a-5e74b44c4205 .series text.active{opacity:1}#chart-8034e52e-ec6b-4dd3-bb1a-5e74b44c4205 .tooltip rect{fill-opacity:.95;stroke-width:.5}#chart-8034e52e-ec6b-4dd3-bb1a-5e74b44c4205 .tooltip text{fill-opacity:1}#chart-8034e52e-ec6b-4dd3-bb1a-5e74b44c4205 .showable{visibility:hidden}#chart-8034e52e-ec6b-4dd3-bb1a-5e74b44c4205 .showable.shown{visibility:visible}#chart-8034e52e-ec6b-4dd3-bb1a-5e74b44c4205 .gauge-background{fill:rgba(229,229,229,1);stroke:none}#chart-8034e52e-ec6b-4dd3-bb1a-5e74b44c4205 .bg-lines{stroke:#f8f8f8;stroke-width:2px}</style><script type=\"text/javascript\">window.pygal = window.pygal || {};window.pygal.config = window.pygal.config || {};window.pygal.config['8034e52e-ec6b-4dd3-bb1a-5e74b44c4205'] = {\"allow_interruptions\": false, \"box_mode\": \"extremes\", \"classes\": [\"pygal-chart\"], \"css\": [\"file://style.css\", \"file://graph.css\"], \"defs\": [], \"disable_xml_declaration\": false, \"dots_size\": 2.5, \"dynamic_print_values\": false, \"explicit_size\": false, \"fill\": false, \"force_uri_protocol\": \"https\", \"formatter\": null, \"half_pie\": false, \"height\": 600, \"include_x_axis\": false, \"inner_radius\": 0, \"interpolate\": null, \"interpolation_parameters\": {}, \"interpolation_precision\": 250, \"inverse_y_axis\": false, \"js\": [\"//kozea.github.io/pygal.js/2.0.x/pygal-tooltips.min.js\"], \"legend_at_bottom\": false, \"legend_at_bottom_columns\": null, \"legend_box_size\": 12, \"logarithmic\": false, \"margin\": 20, \"margin_bottom\": null, \"margin_left\": null, \"margin_right\": null, \"margin_top\": null, \"max_scale\": 16, \"min_scale\": 4, \"missing_value_fill_truncation\": \"x\", \"no_data_text\": \"No data\", \"no_prefix\": false, \"order_min\": null, \"pretty_print\": false, \"print_labels\": false, \"print_values\": false, \"print_values_position\": \"center\", \"print_zeroes\": true, \"range\": null, \"rounded_bars\": null, \"secondary_range\": null, \"show_dots\": true, \"show_legend\": false, \"show_minor_x_labels\": true, \"show_minor_y_labels\": true, \"show_only_major_dots\": false, \"show_x_guides\": false, \"show_x_labels\": true, \"show_y_guides\": false, \"show_y_labels\": true, \"spacing\": 10, \"stack_from_top\": false, \"strict\": false, \"stroke\": true, \"stroke_style\": null, \"style\": {\"background\": \"#f8f8f8\", \"ci_colors\": [], \"colors\": [\"#333366\", \"#3c3c79\", \"#46468c\", \"#4f4f9f\", \"#5d5dae\", \"#6f6fb7\", \"#8282c1\", \"#9595ca\", \"#a8a8d4\", \"#bbbbdd\"], \"font_family\": \"Consolas, \\\"Liberation Mono\\\", Menlo, Courier, monospace\", \"foreground\": \"#333\", \"foreground_strong\": \"#666\", \"foreground_subtle\": \"rgba(0, 0 , 0, 0.5)\", \"guide_stroke_dasharray\": \"4,4\", \"label_font_family\": \"Consolas, \\\"Liberation Mono\\\", Menlo, Courier, monospace\", \"label_font_size\": 14, \"legend_font_family\": \"Consolas, \\\"Liberation Mono\\\", Menlo, Courier, monospace\", \"legend_font_size\": 14, \"major_guide_stroke_dasharray\": \"6,6\", \"major_label_font_family\": \"Consolas, \\\"Liberation Mono\\\", Menlo, Courier, monospace\", \"major_label_font_size\": 18, \"no_data_font_family\": \"Consolas, \\\"Liberation Mono\\\", Menlo, Courier, monospace\", \"no_data_font_size\": 64, \"opacity\": \".5\", \"opacity_hover\": \".9\", \"plot_background\": \"#ffffff\", \"stroke_opacity\": \".8\", \"stroke_opacity_hover\": \".9\", \"title_font_family\": \"Consolas, \\\"Liberation Mono\\\", Menlo, Courier, monospace\", \"title_font_size\": 24, \"tooltip_font_family\": \"Consolas, \\\"Liberation Mono\\\", Menlo, Courier, monospace\", \"tooltip_font_size\": 14, \"transition\": \"250ms ease-in\", \"value_background\": \"rgba(229, 229, 229, 1)\", \"value_colors\": [], \"value_font_family\": \"Consolas, \\\"Liberation Mono\\\", Menlo, Courier, monospace\", \"value_font_size\": 16, \"value_label_font_family\": \"Consolas, \\\"Liberation Mono\\\", Menlo, Courier, monospace\", \"value_label_font_size\": 10}, \"title\": \"Most-Starred Python Projects on GitHub\", \"tooltip_border_radius\": 0, \"tooltip_fancy_mode\": true, \"truncate_label\": 15, \"truncate_legend\": null, \"width\": 1000, \"x_label_rotation\": 45, \"x_labels\": [\"system-design-primer\", \"public-apis\", \"Python\", \"Python-100-Days\", \"awesome-python\", \"youtube-dl\", \"models\", \"thefuck\", \"django\", \"flask\", \"keras\", \"httpie\", \"awesome-machine-learning\", \"ansible\", \"transformers\", \"scikit-learn\", \"requests\", \"core\", \"HelloGitHub\", \"scrapy\", \"big-list-of-naughty-strings\", \"you-get\", \"face_recognition\", \"superset\", \"cpython\", \"faceswap\", \"manim\", \"shadowsocks\", \"fastapi\", \"interview_internal_reference\"], \"x_labels_major\": null, \"x_labels_major_count\": null, \"x_labels_major_every\": null, \"x_title\": null, \"xrange\": null, \"y_label_rotation\": 0, \"y_labels\": null, \"y_labels_major\": null, \"y_labels_major_count\": null, \"y_labels_major_every\": null, \"y_title\": null, \"zero\": 0, \"legends\": [\"\"]}</script><script type=\"text/javascript\" xlink:href=\"https://kozea.github.io/pygal.js/2.0.x/pygal-tooltips.min.js\" /></defs><title>Most-Starred Python Projects on GitHub</title><g class=\"graph bar-graph vertical\"><rect x=\"0\" y=\"0\" width=\"1000\" height=\"600\" class=\"background\" /><g transform=\"translate(80, 54)\" class=\"plot\"><rect x=\"0\" y=\"0\" width=\"830.504545570495\" height=\"426.904545570495\" class=\"background\" /><g class=\"axis y\"><g class=\"guides\"><text x=\"-5\" y=\"423.59484277106236\" class=\"major\">0</text><title>0</title></g><g class=\"guides\"><text x=\"-5\" y=\"392.7963688721848\" class=\"\">10000</text><title>10000</title></g><g class=\"guides\"><text x=\"-5\" y=\"361.99789497330727\" class=\"\">20000</text><title>20000</title></g><g class=\"guides\"><text x=\"-5\" y=\"331.1994210744297\" class=\"\">30000</text><title>30000</title></g><g class=\"guides\"><text x=\"-5\" y=\"300.4009471755521\" class=\"\">40000</text><title>40000</title></g><g class=\"guides\"><text x=\"-5\" y=\"269.6024732766746\" class=\"major\">50000</text><title>50000</title></g><g class=\"guides\"><text x=\"-5\" y=\"238.80399937779708\" class=\"\">60000</text><title>60000</title></g><g class=\"guides\"><text x=\"-5\" y=\"208.00552547891957\" class=\"\">70000</text><title>70000</title></g><g class=\"guides\"><text x=\"-5\" y=\"177.20705158004205\" class=\"\">80000</text><title>80000</title></g><g class=\"guides\"><text x=\"-5\" y=\"146.40857768116453\" class=\"\">90000</text><title>90000</title></g><g class=\"guides\"><text x=\"-5\" y=\"115.61010378228698\" class=\"major\">100000</text><title>100000</title></g><g class=\"guides\"><text x=\"-5\" y=\"84.81162988340944\" class=\"\">110000</text><title>110000</title></g><g class=\"guides\"><text x=\"-5\" y=\"54.013155984531885\" class=\"\">120000</text><title>120000</title></g><g class=\"guides\"><text x=\"-5\" y=\"23.21468208565434\" class=\"\">130000</text><title>130000</title></g></g><g class=\"axis x\"><path d=\"M0.000000 0.000000 v426.904546\" class=\"line\" /><g class=\"guides\"><path d=\"M29.280609 0.000000 v426.904546\" class=\"guide line\" /><text x=\"29.28060897844694\" y=\"443.904545570495\" class=\"\" transform=\"rotate(45 29.280609 443.904546)\">system-design-…</text><title>system-design-primer</title></g><g class=\"guides\"><path d=\"M55.899344 0.000000 v426.904546\" class=\"guide line\" /><text x=\"55.89934441339871\" y=\"443.904545570495\" class=\"\" transform=\"rotate(45 55.899344 443.904546)\">public-apis</text></g><g class=\"guides\"><path d=\"M82.518080 0.000000 v426.904546\" class=\"guide line\" /><text x=\"82.51807984835047\" y=\"443.904545570495\" class=\"\" transform=\"rotate(45 82.518080 443.904546)\">Python</text></g><g class=\"guides\"><path d=\"M109.136815 0.000000 v426.904546\" class=\"guide line\" /><text x=\"109.13681528330221\" y=\"443.904545570495\" class=\"\" transform=\"rotate(45 109.136815 443.904546)\">Python-100-Days</text></g><g class=\"guides\"><path d=\"M135.755551 0.000000 v426.904546\" class=\"guide line\" /><text x=\"135.75555071825397\" y=\"443.904545570495\" class=\"\" transform=\"rotate(45 135.755551 443.904546)\">awesome-python</text></g><g class=\"guides\"><path d=\"M162.374286 0.000000 v426.904546\" class=\"guide line\" /><text x=\"162.37428615320573\" y=\"443.904545570495\" class=\"\" transform=\"rotate(45 162.374286 443.904546)\">youtube-dl</text></g><g class=\"guides\"><path d=\"M188.993022 0.000000 v426.904546\" class=\"guide line\" /><text x=\"188.99302158815752\" y=\"443.904545570495\" class=\"\" transform=\"rotate(45 188.993022 443.904546)\">models</text></g><g class=\"guides\"><path d=\"M215.611757 0.000000 v426.904546\" class=\"guide line\" /><text x=\"215.61175702310928\" y=\"443.904545570495\" class=\"\" transform=\"rotate(45 215.611757 443.904546)\">thefuck</text></g><g class=\"guides\"><path d=\"M242.230492 0.000000 v426.904546\" class=\"guide line\" /><text x=\"242.23049245806104\" y=\"443.904545570495\" class=\"\" transform=\"rotate(45 242.230492 443.904546)\">django</text></g><g class=\"guides\"><path d=\"M268.849228 0.000000 v426.904546\" class=\"guide line\" /><text x=\"268.8492278930128\" y=\"443.904545570495\" class=\"\" transform=\"rotate(45 268.849228 443.904546)\">flask</text></g><g class=\"guides\"><path d=\"M295.467963 0.000000 v426.904546\" class=\"guide line\" /><text x=\"295.4679633279645\" y=\"443.904545570495\" class=\"\" transform=\"rotate(45 295.467963 443.904546)\">keras</text></g><g class=\"guides\"><path d=\"M322.086699 0.000000 v426.904546\" class=\"guide line\" /><text x=\"322.08669876291634\" y=\"443.904545570495\" class=\"\" transform=\"rotate(45 322.086699 443.904546)\">httpie</text></g><g class=\"guides\"><path d=\"M348.705434 0.000000 v426.904546\" class=\"guide line\" /><text x=\"348.7054341978681\" y=\"443.904545570495\" class=\"\" transform=\"rotate(45 348.705434 443.904546)\">awesome-machin…</text><title>awesome-machine-learning</title></g><g class=\"guides\"><path d=\"M375.324170 0.000000 v426.904546\" class=\"guide line\" /><text x=\"375.32416963281986\" y=\"443.904545570495\" class=\"\" transform=\"rotate(45 375.324170 443.904546)\">ansible</text></g><g class=\"guides\"><path d=\"M401.942905 0.000000 v426.904546\" class=\"guide line\" /><text x=\"401.9429050677716\" y=\"443.904545570495\" class=\"\" transform=\"rotate(45 401.942905 443.904546)\">transformers</text></g><g class=\"guides\"><path d=\"M428.561641 0.000000 v426.904546\" class=\"guide line\" /><text x=\"428.56164050272344\" y=\"443.904545570495\" class=\"\" transform=\"rotate(45 428.561641 443.904546)\">scikit-learn</text></g><g class=\"guides\"><path d=\"M455.180376 0.000000 v426.904546\" class=\"guide line\" /><text x=\"455.1803759376752\" y=\"443.904545570495\" class=\"\" transform=\"rotate(45 455.180376 443.904546)\">requests</text></g><g class=\"guides\"><path d=\"M481.799111 0.000000 v426.904546\" class=\"guide line\" /><text x=\"481.7991113726269\" y=\"443.904545570495\" class=\"\" transform=\"rotate(45 481.799111 443.904546)\">core</text></g><g class=\"guides\"><path d=\"M508.417847 0.000000 v426.904546\" class=\"guide line\" /><text x=\"508.41784680757866\" y=\"443.904545570495\" class=\"\" transform=\"rotate(45 508.417847 443.904546)\">HelloGitHub</text></g><g class=\"guides\"><path d=\"M535.036582 0.000000 v426.904546\" class=\"guide line\" /><text x=\"535.0365822425304\" y=\"443.904545570495\" class=\"\" transform=\"rotate(45 535.036582 443.904546)\">scrapy</text></g><g class=\"guides\"><path d=\"M561.655318 0.000000 v426.904546\" class=\"guide line\" /><text x=\"561.6553176774822\" y=\"443.904545570495\" class=\"\" transform=\"rotate(45 561.655318 443.904546)\">big-list-of-na…</text><title>big-list-of-naughty-strings</title></g><g class=\"guides\"><path d=\"M588.274053 0.000000 v426.904546\" class=\"guide line\" /><text x=\"588.274053112434\" y=\"443.904545570495\" class=\"\" transform=\"rotate(45 588.274053 443.904546)\">you-get</text></g><g class=\"guides\"><path d=\"M614.892789 0.000000 v426.904546\" class=\"guide line\" /><text x=\"614.8927885473857\" y=\"443.904545570495\" class=\"\" transform=\"rotate(45 614.892789 443.904546)\">face_recogniti…</text><title>face_recognition</title></g><g class=\"guides\"><path d=\"M641.511524 0.000000 v426.904546\" class=\"guide line\" /><text x=\"641.5115239823374\" y=\"443.904545570495\" class=\"\" transform=\"rotate(45 641.511524 443.904546)\">superset</text></g><g class=\"guides\"><path d=\"M668.130259 0.000000 v426.904546\" class=\"guide line\" /><text x=\"668.1302594172892\" y=\"443.904545570495\" class=\"\" transform=\"rotate(45 668.130259 443.904546)\">cpython</text></g><g class=\"guides\"><path d=\"M694.748995 0.000000 v426.904546\" class=\"guide line\" /><text x=\"694.748994852241\" y=\"443.904545570495\" class=\"\" transform=\"rotate(45 694.748995 443.904546)\">faceswap</text></g><g class=\"guides\"><path d=\"M721.367730 0.000000 v426.904546\" class=\"guide line\" /><text x=\"721.3677302871928\" y=\"443.904545570495\" class=\"\" transform=\"rotate(45 721.367730 443.904546)\">manim</text></g><g class=\"guides\"><path d=\"M747.986466 0.000000 v426.904546\" class=\"guide line\" /><text x=\"747.9864657221445\" y=\"443.904545570495\" class=\"\" transform=\"rotate(45 747.986466 443.904546)\">shadowsocks</text></g><g class=\"guides\"><path d=\"M774.605201 0.000000 v426.904546\" class=\"guide line\" /><text x=\"774.6052011570962\" y=\"443.904545570495\" class=\"\" transform=\"rotate(45 774.605201 443.904546)\">fastapi</text></g><g class=\"guides\"><path d=\"M801.223937 0.000000 v426.904546\" class=\"guide line\" /><text x=\"801.2239365920478\" y=\"443.904545570495\" class=\"\" transform=\"rotate(45 801.223937 443.904546)\">interview_inte…</text><title>interview_internal_reference</title></g></g><g class=\"series serie-0 color-0\"><g class=\"bars\"><g class=\"bar\"><a target=\"_blank\" xlink:href=\"https://github.com/donnemartin/system-design-primer\"><desc class=\"xlink\">https://github.com/donnemartin/system-design-primer</desc><desc class=\"label\">Learn how to design large-scale systems. Prep for the system design interview.  Includes Anki flashcards.</desc><rect x=\"18.97383461803362\" y=\"8.209702799432591\" rx=\"0\" ry=\"0\" width=\"20.613548720826646\" height=\"410.4851399716298\" class=\"rect reactive tooltip-trigger\" /><desc class=\"value\">133281</desc><desc class=\"x centered\">29.280608978446942</desc><desc class=\"y centered\">213.4522727852475</desc><desc class=\"x_label\">system-design-primer</desc></a></g><g class=\"bar\"><a target=\"_blank\" xlink:href=\"https://github.com/public-apis/public-apis\"><desc class=\"xlink\">https://github.com/public-apis/public-apis</desc><desc class=\"label\">A collective list of free APIs</desc><rect x=\"45.59257005298538\" y=\"31.299318681421084\" rx=\"0\" ry=\"0\" width=\"20.613548720826646\" height=\"387.3955240896413\" class=\"rect reactive tooltip-trigger\" /><desc class=\"value\">125784</desc><desc class=\"x centered\">55.8993444133987</desc><desc class=\"y centered\">224.99708072624173</desc><desc class=\"x_label\">public-apis</desc></a></g><g class=\"bar\"><a target=\"_blank\" xlink:href=\"https://github.com/TheAlgorithms/Python\"><desc class=\"xlink\">https://github.com/TheAlgorithms/Python</desc><desc class=\"label\">All Algorithms implemented in Python</desc><rect x=\"72.21130548793714\" y=\"84.45440478349383\" rx=\"0\" ry=\"0\" width=\"20.613548720826646\" height=\"334.24043798756855\" class=\"rect reactive tooltip-trigger\" /><desc class=\"value\">108525</desc><desc class=\"x centered\">82.51807984835047</desc><desc class=\"y centered\">251.5746237772781</desc><desc class=\"x_label\">Python</desc></a></g><g class=\"bar\"><a target=\"_blank\" xlink:href=\"https://github.com/jackfrued/Python-100-Days\"><desc class=\"xlink\">https://github.com/jackfrued/Python-100-Days</desc><desc class=\"label\">Python - 100天从新手到大师</desc><rect x=\"98.8300409228889\" y=\"97.80862306604712\" rx=\"0\" ry=\"0\" width=\"20.613548720826646\" height=\"320.88621970501526\" class=\"rect reactive tooltip-trigger\" /><desc class=\"value\">104189</desc><desc class=\"x centered\">109.13681528330223</desc><desc class=\"y centered\">258.25173291855475</desc><desc class=\"x_label\">Python-100-Days</desc></a></g><g class=\"bar\"><a target=\"_blank\" xlink:href=\"https://github.com/vinta/awesome-python\"><desc class=\"xlink\">https://github.com/vinta/awesome-python</desc><desc class=\"label\">A curated list of awesome Python frameworks, libraries, software and resources</desc><rect x=\"125.44877635784064\" y=\"113.82382949346345\" rx=\"0\" ry=\"0\" width=\"20.613548720826646\" height=\"304.87101327759893\" class=\"rect reactive tooltip-trigger\" /><desc class=\"value\">98989</desc><desc class=\"x centered\">135.75555071825397</desc><desc class=\"y centered\">266.2593361322629</desc><desc class=\"x_label\">awesome-python</desc></a></g><g class=\"bar\"><a target=\"_blank\" xlink:href=\"https://github.com/ytdl-org/youtube-dl\"><desc class=\"xlink\">https://github.com/ytdl-org/youtube-dl</desc><desc class=\"label\">Command-line program to download videos from YouTube.com and other video sites</desc><rect x=\"152.0675117927924\" y=\"125.36401766337286\" rx=\"0\" ry=\"0\" width=\"20.613548720826646\" height=\"293.3308251076895\" class=\"rect reactive tooltip-trigger\" /><desc class=\"value\">95242</desc><desc class=\"x centered\">162.37428615320573</desc><desc class=\"y centered\">272.0294302172176</desc><desc class=\"x_label\">youtube-dl</desc></a></g><g class=\"bar\"><a target=\"_blank\" xlink:href=\"https://github.com/tensorflow/models\"><desc class=\"xlink\">https://github.com/tensorflow/models</desc><desc class=\"label\">Models and examples built with TensorFlow</desc><rect x=\"178.68624722774416\" y=\"202.84065860338924\" rx=\"0\" ry=\"0\" width=\"20.613548720826646\" height=\"215.85418416767314\" class=\"rect reactive tooltip-trigger\" /><desc class=\"value\">70086</desc><desc class=\"x centered\">188.9930215881575</desc><desc class=\"y centered\">310.7677506872258</desc><desc class=\"x_label\">models</desc></a></g><g class=\"bar\"><a target=\"_blank\" xlink:href=\"https://github.com/nvbn/thefuck\"><desc class=\"xlink\">https://github.com/nvbn/thefuck</desc><desc class=\"label\">Magnificent app which corrects your previous console command.</desc><rect x=\"205.30498266269598\" y=\"226.93430473448112\" rx=\"0\" ry=\"0\" width=\"20.613548720826646\" height=\"191.76053803658127\" class=\"rect reactive tooltip-trigger\" /><desc class=\"value\">62263</desc><desc class=\"x centered\">215.6117570231093</desc><desc class=\"y centered\">322.81457375277176</desc><desc class=\"x_label\">thefuck</desc></a></g><g class=\"bar\"><a target=\"_blank\" xlink:href=\"https://github.com/django/django\"><desc class=\"xlink\">https://github.com/django/django</desc><desc class=\"label\">The Web framework for perfectionists with deadlines.</desc><rect x=\"231.9237180976477\" y=\"241.05540501711647\" rx=\"0\" ry=\"0\" width=\"20.613548720826646\" height=\"177.6394377539459\" class=\"rect reactive tooltip-trigger\" /><desc class=\"value\">57678</desc><desc class=\"x centered\">242.23049245806104</desc><desc class=\"y centered\">329.8751238940894</desc><desc class=\"x_label\">django</desc></a></g><g class=\"bar\"><a target=\"_blank\" xlink:href=\"https://github.com/pallets/flask\"><desc class=\"xlink\">https://github.com/pallets/flask</desc><desc class=\"label\">The Python micro framework for building web applications.</desc><rect x=\"258.54245353259955\" y=\"247.6339590419167\" rx=\"0\" ry=\"0\" width=\"20.613548720826646\" height=\"171.06088372914567\" class=\"rect reactive tooltip-trigger\" /><desc class=\"value\">55542</desc><desc class=\"x centered\">268.8492278930129</desc><desc class=\"y centered\">333.16440090648956</desc><desc class=\"x_label\">flask</desc></a></g><g class=\"bar\"><a target=\"_blank\" xlink:href=\"https://github.com/keras-team/keras\"><desc class=\"xlink\">https://github.com/keras-team/keras</desc><desc class=\"label\">Deep Learning for humans</desc><rect x=\"285.1611889675513\" y=\"260.84034464975537\" rx=\"0\" ry=\"0\" width=\"20.613548720826646\" height=\"157.85449812130702\" class=\"rect reactive tooltip-trigger\" /><desc class=\"value\">51254</desc><desc class=\"x centered\">295.46796332796464</desc><desc class=\"y centered\">339.76759371040885</desc><desc class=\"x_label\">keras</desc></a></g><g class=\"bar\"><a target=\"_blank\" xlink:href=\"https://github.com/httpie/httpie\"><desc class=\"xlink\">https://github.com/httpie/httpie</desc><desc class=\"label\">As easy as /aitch-tee-tee-pie/ 🥧 Modern, user-friendly command-line HTTP client for the API era. JSON support, colors, sessions, downloads, plugins &amp; more. https://twitter.com/httpie</desc><rect x=\"311.779924402503\" y=\"261.93369047316554\" rx=\"0\" ry=\"0\" width=\"20.613548720826646\" height=\"156.76115229789684\" class=\"rect reactive tooltip-trigger\" /><desc class=\"value\">50899</desc><desc class=\"x centered\">322.08669876291634</desc><desc class=\"y centered\">340.31426662211396</desc><desc class=\"x_label\">httpie</desc></a></g><g class=\"bar\"><a target=\"_blank\" xlink:href=\"https://github.com/josephmisiti/awesome-machine-learning\"><desc class=\"xlink\">https://github.com/josephmisiti/awesome-machine-learning</desc><desc class=\"label\">A curated list of awesome Machine Learning frameworks, libraries and software.</desc><rect x=\"338.39865983745483\" y=\"263.9602300557117\" rx=\"0\" ry=\"0\" width=\"20.613548720826646\" height=\"154.7346127153507\" class=\"rect reactive tooltip-trigger\" /><desc class=\"value\">50241</desc><desc class=\"x centered\">348.70543419786816</desc><desc class=\"y centered\">341.32753641338707</desc><desc class=\"x_label\">awesome-machine-learning</desc></a></g><g class=\"bar\"><a target=\"_blank\" xlink:href=\"https://github.com/ansible/ansible\"><desc class=\"xlink\">https://github.com/ansible/ansible</desc><desc class=\"label\">Ansible is a radically simple IT automation platform that makes your applications and systems easier to deploy and maintain. Automate everything from code deployment to network configuration to cloud management, in a language that approaches plain English, using SSH, with no agents to install on remote systems. https://docs.ansible.com.</desc><rect x=\"365.0173952724066\" y=\"269.8981758234153\" rx=\"0\" ry=\"0\" width=\"20.613548720826646\" height=\"148.7966669476471\" class=\"rect reactive tooltip-trigger\" /><desc class=\"value\">48313</desc><desc class=\"x centered\">375.3241696328199</desc><desc class=\"y centered\">344.2965092972388</desc><desc class=\"x_label\">ansible</desc></a></g><g class=\"bar\"><a target=\"_blank\" xlink:href=\"https://github.com/huggingface/transformers\"><desc class=\"xlink\">https://github.com/huggingface/transformers</desc><desc class=\"label\">🤗Transformers: State-of-the-art Natural Language Processing for Pytorch and TensorFlow 2.0.</desc><rect x=\"391.63613070735835\" y=\"275.26019012920983\" rx=\"0\" ry=\"0\" width=\"20.613548720826646\" height=\"143.43465264185255\" class=\"rect reactive tooltip-trigger\" /><desc class=\"value\">46572</desc><desc class=\"x centered\">401.9429050677717</desc><desc class=\"y centered\">346.97751645013614</desc><desc class=\"x_label\">transformers</desc></a></g><g class=\"bar\"><a target=\"_blank\" xlink:href=\"https://github.com/scikit-learn/scikit-learn\"><desc class=\"xlink\">https://github.com/scikit-learn/scikit-learn</desc><desc class=\"label\">scikit-learn: machine learning in Python</desc><rect x=\"418.2548661423101\" y=\"277.20357383222904\" rx=\"0\" ry=\"0\" width=\"20.613548720826646\" height=\"141.49126893883334\" class=\"rect reactive tooltip-trigger\" /><desc class=\"value\">45941</desc><desc class=\"x centered\">428.56164050272344</desc><desc class=\"y centered\">347.94920830164574</desc><desc class=\"x_label\">scikit-learn</desc></a></g><g class=\"bar\"><a target=\"_blank\" xlink:href=\"https://github.com/psf/requests\"><desc class=\"xlink\">https://github.com/psf/requests</desc><desc class=\"label\">A simple, yet elegant HTTP library.</desc><rect x=\"444.87360157726187\" y=\"279.07920089267066\" rx=\"0\" ry=\"0\" width=\"20.613548720826646\" height=\"139.61564187839173\" class=\"rect reactive tooltip-trigger\" /><desc class=\"value\">45332</desc><desc class=\"x centered\">455.1803759376752</desc><desc class=\"y centered\">348.8870218318665</desc><desc class=\"x_label\">requests</desc></a></g><g class=\"bar\"><a target=\"_blank\" xlink:href=\"https://github.com/home-assistant/core\"><desc class=\"xlink\">https://github.com/home-assistant/core</desc><desc class=\"label\">:house_with_garden: Open source home automation that puts local control and privacy first</desc><rect x=\"471.4923370122136\" y=\"285.3928880419406\" rx=\"0\" ry=\"0\" width=\"20.613548720826646\" height=\"133.3019547291218\" class=\"rect reactive tooltip-trigger\" /><desc class=\"value\">43282</desc><desc class=\"x centered\">481.79911137262695</desc><desc class=\"y centered\">352.0438654065015</desc><desc class=\"x_label\">core</desc></a></g><g class=\"bar\"><a target=\"_blank\" xlink:href=\"https://github.com/521xueweihan/HelloGitHub\"><desc class=\"xlink\">https://github.com/521xueweihan/HelloGitHub</desc><desc class=\"label\">:octocat: 分享 GitHub 上有趣、入门级的开源项目</desc><rect x=\"498.1110724471653\" y=\"288.2571461145362\" rx=\"0\" ry=\"0\" width=\"20.613548720826646\" height=\"130.43769665652616\" class=\"rect reactive tooltip-trigger\" /><desc class=\"value\">42352</desc><desc class=\"x centered\">508.41784680757866</desc><desc class=\"y centered\">353.47599444279933</desc><desc class=\"x_label\">HelloGitHub</desc></a></g><g class=\"bar\"><a target=\"_blank\" xlink:href=\"https://github.com/scrapy/scrapy\"><desc class=\"xlink\">https://github.com/scrapy/scrapy</desc><desc class=\"label\">Scrapy, a fast high-level web crawling &amp; scraping framework for Python.</desc><rect x=\"524.729807882117\" y=\"293.3019361391723\" rx=\"0\" ry=\"0\" width=\"20.613548720826646\" height=\"125.39290663189007\" class=\"rect reactive tooltip-trigger\" /><desc class=\"value\">40714</desc><desc class=\"x centered\">535.0365822425304</desc><desc class=\"y centered\">355.9983894551174</desc><desc class=\"x_label\">scrapy</desc></a></g><g class=\"bar\"><a target=\"_blank\" xlink:href=\"https://github.com/minimaxir/big-list-of-naughty-strings\"><desc class=\"xlink\">https://github.com/minimaxir/big-list-of-naughty-strings</desc><desc class=\"label\">The Big List of Naughty Strings is a list of strings which have a high probability of causing issues when used as user-input data.</desc><rect x=\"551.3485433170689\" y=\"293.5052060669049\" rx=\"0\" ry=\"0\" width=\"20.613548720826646\" height=\"125.18963670415746\" class=\"rect reactive tooltip-trigger\" /><desc class=\"value\">40648</desc><desc class=\"x centered\">561.6553176774822</desc><desc class=\"y centered\">356.10002441898365</desc><desc class=\"x_label\">big-list-of-naughty-strings</desc></a></g><g class=\"bar\"><a target=\"_blank\" xlink:href=\"https://github.com/soimort/you-get\"><desc class=\"xlink\">https://github.com/soimort/you-get</desc><desc class=\"label\">:arrow_double_down: Dumb downloader that scrapes the web</desc><rect x=\"577.9672787520205\" y=\"293.93330485409933\" rx=\"0\" ry=\"0\" width=\"20.613548720826646\" height=\"124.76153791696305\" class=\"rect reactive tooltip-trigger\" /><desc class=\"value\">40509</desc><desc class=\"x centered\">588.2740531124339</desc><desc class=\"y centered\">356.3140738125809</desc><desc class=\"x_label\">you-get</desc></a></g><g class=\"bar\"><a target=\"_blank\" xlink:href=\"https://github.com/ageitgey/face_recognition\"><desc class=\"xlink\">https://github.com/ageitgey/face_recognition</desc><desc class=\"label\">The world's simplest facial recognition api for Python and the command line</desc><rect x=\"604.5860141869723\" y=\"295.13752518354545\" rx=\"0\" ry=\"0\" width=\"20.613548720826646\" height=\"123.55731758751693\" class=\"rect reactive tooltip-trigger\" /><desc class=\"value\">40118</desc><desc class=\"x centered\">614.8927885473856</desc><desc class=\"y centered\">356.91618397730394</desc><desc class=\"x_label\">face_recognition</desc></a></g><g class=\"bar\"><a target=\"_blank\" xlink:href=\"https://github.com/apache/superset\"><desc class=\"xlink\">https://github.com/apache/superset</desc><desc class=\"label\">Apache Superset is a Data Visualization and Data Exploration Platform</desc><rect x=\"631.2047496219242\" y=\"299.3661556498613\" rx=\"0\" ry=\"0\" width=\"20.613548720826646\" height=\"119.32868712120109\" class=\"rect reactive tooltip-trigger\" /><desc class=\"value\">38745</desc><desc class=\"x centered\">641.5115239823375</desc><desc class=\"y centered\">359.0304992104618</desc><desc class=\"x_label\">superset</desc></a></g><g class=\"bar\"><a target=\"_blank\" xlink:href=\"https://github.com/python/cpython\"><desc class=\"xlink\">https://github.com/python/cpython</desc><desc class=\"label\">The Python programming language</desc><rect x=\"657.8234850568759\" y=\"301.01079415606137\" rx=\"0\" ry=\"0\" width=\"20.613548720826646\" height=\"117.68404861500102\" class=\"rect reactive tooltip-trigger\" /><desc class=\"value\">38211</desc><desc class=\"x centered\">668.1302594172893</desc><desc class=\"y centered\">359.8528184635619</desc><desc class=\"x_label\">cpython</desc></a></g><g class=\"bar\"><a target=\"_blank\" xlink:href=\"https://github.com/deepfakes/faceswap\"><desc class=\"xlink\">https://github.com/deepfakes/faceswap</desc><desc class=\"label\">Deepfakes Software For All</desc><rect x=\"684.4422204918277\" y=\"310.1086633457898\" rx=\"0\" ry=\"0\" width=\"20.613548720826646\" height=\"108.58617942527258\" class=\"rect reactive tooltip-trigger\" /><desc class=\"value\">35257</desc><desc class=\"x centered\">694.748994852241</desc><desc class=\"y centered\">364.4017530584261</desc><desc class=\"x_label\">faceswap</desc></a></g><g class=\"bar\"><a target=\"_blank\" xlink:href=\"https://github.com/3b1b/manim\"><desc class=\"xlink\">https://github.com/3b1b/manim</desc><desc class=\"label\">Animation engine for explanatory math videos</desc><rect x=\"711.0609559267795\" y=\"314.30649533820684\" rx=\"0\" ry=\"0\" width=\"20.613548720826646\" height=\"104.38834743285554\" class=\"rect reactive tooltip-trigger\" /><desc class=\"value\">33894</desc><desc class=\"x centered\">721.3677302871928</desc><desc class=\"y centered\">366.5006690546346</desc><desc class=\"x_label\">manim</desc></a></g><g class=\"bar\"><a target=\"_blank\" xlink:href=\"https://github.com/shadowsocks/shadowsocks\"><desc class=\"xlink\">https://github.com/shadowsocks/shadowsocks</desc><desc class=\"label\">No description provided.</desc><rect x=\"737.6796913617312\" y=\"317.02908043086757\" rx=\"0\" ry=\"0\" width=\"20.613548720826646\" height=\"101.66576234019482\" class=\"rect reactive tooltip-trigger\" /><desc class=\"value\">33010</desc><desc class=\"x centered\">747.9864657221445</desc><desc class=\"y centered\">367.86196160096495</desc><desc class=\"x_label\">shadowsocks</desc></a></g><g class=\"bar\"><a target=\"_blank\" xlink:href=\"https://github.com/tiangolo/fastapi\"><desc class=\"xlink\">https://github.com/tiangolo/fastapi</desc><desc class=\"label\">FastAPI framework, high performance, easy to learn, fast to code, ready for production</desc><rect x=\"764.298426796683\" y=\"321.4055435718981\" rx=\"0\" ry=\"0\" width=\"20.613548720826646\" height=\"97.2892991991643\" class=\"rect reactive tooltip-trigger\" /><desc class=\"value\">31589</desc><desc class=\"x centered\">774.6052011570963</desc><desc class=\"y centered\">370.05019317148026</desc><desc class=\"x_label\">fastapi</desc></a></g><g class=\"bar\"><a target=\"_blank\" xlink:href=\"https://github.com/0voice/interview_internal_reference\"><desc class=\"xlink\">https://github.com/0voice/interview_internal_reference</desc><desc class=\"label\">2021年最新总结，阿里，腾讯，百度，美团，头条等技术面试题目，以及答案，专家出题人分析汇总。</desc><rect x=\"790.9171622316347\" y=\"321.92295793339923\" rx=\"0\" ry=\"0\" width=\"20.613548720826646\" height=\"96.77188483766315\" class=\"rect reactive tooltip-trigger\" /><desc class=\"value\">31421</desc><desc class=\"x centered\">801.2239365920481</desc><desc class=\"y centered\">370.3089003522308</desc><desc class=\"x_label\">interview_internal_reference</desc></a></g></g></g></g><g class=\"titles\"><text x=\"500.0\" y=\"34\" class=\"title plot_title\">Most-Starred Python Projects on GitHub</text></g><g transform=\"translate(80, 54)\" class=\"plot overlay\"><g class=\"series serie-0 color-0\" /></g><g transform=\"translate(80, 54)\" class=\"plot text-overlay\"><g class=\"series serie-0 color-0\" /></g><g transform=\"translate(80, 54)\" class=\"plot tooltip-overlay\"><g transform=\"translate(0 0)\" style=\"opacity: 0\" class=\"tooltip\"><rect rx=\"0\" ry=\"0\" width=\"0\" height=\"0\" class=\"tooltip-box\" /><g class=\"text\" /></g></g></g></svg>\n",
       "    </figure>\n",
       "  </body>\n",
       "</html>\n"
      ],
      "text/plain": [
       "<IPython.core.display.HTML object>"
      ]
     },
     "metadata": {},
     "output_type": "display_data"
    }
   ],
   "source": [
    "# Make visualization.\n",
    "my_style = LS('#333366', base_style=LCS)\n",
    "my_style.title_font_size = 24\n",
    "my_style.label_font_size = 14\n",
    "my_style.major_label_font_size = 18\n",
    "\n",
    "my_config = pygal.Config()\n",
    "my_config.x_label_rotation = 45\n",
    "my_config.show_legend = False\n",
    "my_config.truncate_label = 15\n",
    "my_config.show_y_guides = False\n",
    "my_config.width = 1000\n",
    "\n",
    "chart = pygal.Bar(my_config, style=my_style)\n",
    "chart.title = 'Most-Starred Python Projects on GitHub'\n",
    "chart.x_labels = names\n",
    "\n",
    "chart.add('', plot_dicts)\n",
    "\n",
    "display(HTML(base_html.format(rendered_chart=chart.render(is_unicode=True))))"
   ]
  },
  {
   "cell_type": "markdown",
   "metadata": {},
   "source": [
    "# ML \n",
    "\n",
    "- source: [SMOTE with Imbalance Data](https://www.kaggle.com/qianchao/smote-with-imbalance-data/notebook)\n",
    "- [zbiór danych](https://kaggle.com/mlg-ulb/creditcardfraud)"
   ]
  },
  {
   "cell_type": "code",
   "execution_count": 68,
   "metadata": {},
   "outputs": [],
   "source": [
    "#https://www.kaggle.com/qianchao/smote-with-imbalance-data/notebook"
   ]
  },
  {
   "cell_type": "code",
   "execution_count": 69,
   "metadata": {},
   "outputs": [],
   "source": [
    "import pandas  as pd\n",
    "import matplotlib.pyplot as plt\n",
    "import numpy as np\n",
    "\n",
    "%matplotlib inline"
   ]
  },
  {
   "cell_type": "code",
   "execution_count": 71,
   "metadata": {},
   "outputs": [
    {
     "data": {
      "text/html": [
       "<div>\n",
       "<style scoped>\n",
       "    .dataframe tbody tr th:only-of-type {\n",
       "        vertical-align: middle;\n",
       "    }\n",
       "\n",
       "    .dataframe tbody tr th {\n",
       "        vertical-align: top;\n",
       "    }\n",
       "\n",
       "    .dataframe thead th {\n",
       "        text-align: right;\n",
       "    }\n",
       "</style>\n",
       "<table border=\"1\" class=\"dataframe\">\n",
       "  <thead>\n",
       "    <tr style=\"text-align: right;\">\n",
       "      <th></th>\n",
       "      <th>Time</th>\n",
       "      <th>V1</th>\n",
       "      <th>V2</th>\n",
       "      <th>V3</th>\n",
       "      <th>V4</th>\n",
       "      <th>V5</th>\n",
       "      <th>V6</th>\n",
       "      <th>V7</th>\n",
       "      <th>V8</th>\n",
       "      <th>V9</th>\n",
       "      <th>...</th>\n",
       "      <th>V21</th>\n",
       "      <th>V22</th>\n",
       "      <th>V23</th>\n",
       "      <th>V24</th>\n",
       "      <th>V25</th>\n",
       "      <th>V26</th>\n",
       "      <th>V27</th>\n",
       "      <th>V28</th>\n",
       "      <th>Amount</th>\n",
       "      <th>Class</th>\n",
       "    </tr>\n",
       "  </thead>\n",
       "  <tbody>\n",
       "    <tr>\n",
       "      <th>0</th>\n",
       "      <td>0.0</td>\n",
       "      <td>-1.359807</td>\n",
       "      <td>-0.072781</td>\n",
       "      <td>2.536347</td>\n",
       "      <td>1.378155</td>\n",
       "      <td>-0.338321</td>\n",
       "      <td>0.462388</td>\n",
       "      <td>0.239599</td>\n",
       "      <td>0.098698</td>\n",
       "      <td>0.363787</td>\n",
       "      <td>...</td>\n",
       "      <td>-0.018307</td>\n",
       "      <td>0.277838</td>\n",
       "      <td>-0.110474</td>\n",
       "      <td>0.066928</td>\n",
       "      <td>0.128539</td>\n",
       "      <td>-0.189115</td>\n",
       "      <td>0.133558</td>\n",
       "      <td>-0.021053</td>\n",
       "      <td>149.62</td>\n",
       "      <td>0</td>\n",
       "    </tr>\n",
       "    <tr>\n",
       "      <th>1</th>\n",
       "      <td>0.0</td>\n",
       "      <td>1.191857</td>\n",
       "      <td>0.266151</td>\n",
       "      <td>0.166480</td>\n",
       "      <td>0.448154</td>\n",
       "      <td>0.060018</td>\n",
       "      <td>-0.082361</td>\n",
       "      <td>-0.078803</td>\n",
       "      <td>0.085102</td>\n",
       "      <td>-0.255425</td>\n",
       "      <td>...</td>\n",
       "      <td>-0.225775</td>\n",
       "      <td>-0.638672</td>\n",
       "      <td>0.101288</td>\n",
       "      <td>-0.339846</td>\n",
       "      <td>0.167170</td>\n",
       "      <td>0.125895</td>\n",
       "      <td>-0.008983</td>\n",
       "      <td>0.014724</td>\n",
       "      <td>2.69</td>\n",
       "      <td>0</td>\n",
       "    </tr>\n",
       "    <tr>\n",
       "      <th>2</th>\n",
       "      <td>1.0</td>\n",
       "      <td>-1.358354</td>\n",
       "      <td>-1.340163</td>\n",
       "      <td>1.773209</td>\n",
       "      <td>0.379780</td>\n",
       "      <td>-0.503198</td>\n",
       "      <td>1.800499</td>\n",
       "      <td>0.791461</td>\n",
       "      <td>0.247676</td>\n",
       "      <td>-1.514654</td>\n",
       "      <td>...</td>\n",
       "      <td>0.247998</td>\n",
       "      <td>0.771679</td>\n",
       "      <td>0.909412</td>\n",
       "      <td>-0.689281</td>\n",
       "      <td>-0.327642</td>\n",
       "      <td>-0.139097</td>\n",
       "      <td>-0.055353</td>\n",
       "      <td>-0.059752</td>\n",
       "      <td>378.66</td>\n",
       "      <td>0</td>\n",
       "    </tr>\n",
       "  </tbody>\n",
       "</table>\n",
       "<p>3 rows × 31 columns</p>\n",
       "</div>"
      ],
      "text/plain": [
       "   Time        V1        V2        V3        V4        V5        V6        V7  \\\n",
       "0   0.0 -1.359807 -0.072781  2.536347  1.378155 -0.338321  0.462388  0.239599   \n",
       "1   0.0  1.191857  0.266151  0.166480  0.448154  0.060018 -0.082361 -0.078803   \n",
       "2   1.0 -1.358354 -1.340163  1.773209  0.379780 -0.503198  1.800499  0.791461   \n",
       "\n",
       "         V8        V9  ...       V21       V22       V23       V24       V25  \\\n",
       "0  0.098698  0.363787  ... -0.018307  0.277838 -0.110474  0.066928  0.128539   \n",
       "1  0.085102 -0.255425  ... -0.225775 -0.638672  0.101288 -0.339846  0.167170   \n",
       "2  0.247676 -1.514654  ...  0.247998  0.771679  0.909412 -0.689281 -0.327642   \n",
       "\n",
       "        V26       V27       V28  Amount  Class  \n",
       "0 -0.189115  0.133558 -0.021053  149.62      0  \n",
       "1  0.125895 -0.008983  0.014724    2.69      0  \n",
       "2 -0.139097 -0.055353 -0.059752  378.66      0  \n",
       "\n",
       "[3 rows x 31 columns]"
      ]
     },
     "execution_count": 71,
     "metadata": {},
     "output_type": "execute_result"
    }
   ],
   "source": [
    "data = pd.read_csv('../data/data_asm/creditcard.csv')\n",
    "data.head(3)"
   ]
  },
  {
   "cell_type": "code",
   "execution_count": 72,
   "metadata": {},
   "outputs": [
    {
     "data": {
      "text/plain": [
       "0    0.998273\n",
       "1    0.001727\n",
       "Name: Class, dtype: float64"
      ]
     },
     "execution_count": 72,
     "metadata": {},
     "output_type": "execute_result"
    },
    {
     "data": {
      "image/png": "[encoded data removed]",
      "text/plain": [
       "<Figure size 432x288 with 1 Axes>"
      ]
     },
     "metadata": {
      "needs_background": "light"
     },
     "output_type": "display_data"
    }
   ],
   "source": [
    "pd.value_counts(data['Class']).plot.bar()\n",
    "plt.title('Fraud class histogram')\n",
    "plt.xlabel('Class')\n",
    "plt.ylabel('Frequency')\n",
    "data['Class'].value_counts(normalize=True)"
   ]
  },
  {
   "cell_type": "code",
   "execution_count": 73,
   "metadata": {},
   "outputs": [
    {
     "data": {
      "text/html": [
       "<div>\n",
       "<style scoped>\n",
       "    .dataframe tbody tr th:only-of-type {\n",
       "        vertical-align: middle;\n",
       "    }\n",
       "\n",
       "    .dataframe tbody tr th {\n",
       "        vertical-align: top;\n",
       "    }\n",
       "\n",
       "    .dataframe thead th {\n",
       "        text-align: right;\n",
       "    }\n",
       "</style>\n",
       "<table border=\"1\" class=\"dataframe\">\n",
       "  <thead>\n",
       "    <tr style=\"text-align: right;\">\n",
       "      <th></th>\n",
       "      <th>V1</th>\n",
       "      <th>V2</th>\n",
       "      <th>V3</th>\n",
       "      <th>V4</th>\n",
       "      <th>V5</th>\n",
       "      <th>V6</th>\n",
       "      <th>V7</th>\n",
       "      <th>V8</th>\n",
       "      <th>V9</th>\n",
       "      <th>V10</th>\n",
       "      <th>...</th>\n",
       "      <th>V21</th>\n",
       "      <th>V22</th>\n",
       "      <th>V23</th>\n",
       "      <th>V24</th>\n",
       "      <th>V25</th>\n",
       "      <th>V26</th>\n",
       "      <th>V27</th>\n",
       "      <th>V28</th>\n",
       "      <th>Class</th>\n",
       "      <th>normAmount</th>\n",
       "    </tr>\n",
       "  </thead>\n",
       "  <tbody>\n",
       "    <tr>\n",
       "      <th>0</th>\n",
       "      <td>-1.359807</td>\n",
       "      <td>-0.072781</td>\n",
       "      <td>2.536347</td>\n",
       "      <td>1.378155</td>\n",
       "      <td>-0.338321</td>\n",
       "      <td>0.462388</td>\n",
       "      <td>0.239599</td>\n",
       "      <td>0.098698</td>\n",
       "      <td>0.363787</td>\n",
       "      <td>0.090794</td>\n",
       "      <td>...</td>\n",
       "      <td>-0.018307</td>\n",
       "      <td>0.277838</td>\n",
       "      <td>-0.110474</td>\n",
       "      <td>0.066928</td>\n",
       "      <td>0.128539</td>\n",
       "      <td>-0.189115</td>\n",
       "      <td>0.133558</td>\n",
       "      <td>-0.021053</td>\n",
       "      <td>0</td>\n",
       "      <td>0.244964</td>\n",
       "    </tr>\n",
       "    <tr>\n",
       "      <th>1</th>\n",
       "      <td>1.191857</td>\n",
       "      <td>0.266151</td>\n",
       "      <td>0.166480</td>\n",
       "      <td>0.448154</td>\n",
       "      <td>0.060018</td>\n",
       "      <td>-0.082361</td>\n",
       "      <td>-0.078803</td>\n",
       "      <td>0.085102</td>\n",
       "      <td>-0.255425</td>\n",
       "      <td>-0.166974</td>\n",
       "      <td>...</td>\n",
       "      <td>-0.225775</td>\n",
       "      <td>-0.638672</td>\n",
       "      <td>0.101288</td>\n",
       "      <td>-0.339846</td>\n",
       "      <td>0.167170</td>\n",
       "      <td>0.125895</td>\n",
       "      <td>-0.008983</td>\n",
       "      <td>0.014724</td>\n",
       "      <td>0</td>\n",
       "      <td>-0.342475</td>\n",
       "    </tr>\n",
       "    <tr>\n",
       "      <th>2</th>\n",
       "      <td>-1.358354</td>\n",
       "      <td>-1.340163</td>\n",
       "      <td>1.773209</td>\n",
       "      <td>0.379780</td>\n",
       "      <td>-0.503198</td>\n",
       "      <td>1.800499</td>\n",
       "      <td>0.791461</td>\n",
       "      <td>0.247676</td>\n",
       "      <td>-1.514654</td>\n",
       "      <td>0.207643</td>\n",
       "      <td>...</td>\n",
       "      <td>0.247998</td>\n",
       "      <td>0.771679</td>\n",
       "      <td>0.909412</td>\n",
       "      <td>-0.689281</td>\n",
       "      <td>-0.327642</td>\n",
       "      <td>-0.139097</td>\n",
       "      <td>-0.055353</td>\n",
       "      <td>-0.059752</td>\n",
       "      <td>0</td>\n",
       "      <td>1.160686</td>\n",
       "    </tr>\n",
       "    <tr>\n",
       "      <th>3</th>\n",
       "      <td>-0.966272</td>\n",
       "      <td>-0.185226</td>\n",
       "      <td>1.792993</td>\n",
       "      <td>-0.863291</td>\n",
       "      <td>-0.010309</td>\n",
       "      <td>1.247203</td>\n",
       "      <td>0.237609</td>\n",
       "      <td>0.377436</td>\n",
       "      <td>-1.387024</td>\n",
       "      <td>-0.054952</td>\n",
       "      <td>...</td>\n",
       "      <td>-0.108300</td>\n",
       "      <td>0.005274</td>\n",
       "      <td>-0.190321</td>\n",
       "      <td>-1.175575</td>\n",
       "      <td>0.647376</td>\n",
       "      <td>-0.221929</td>\n",
       "      <td>0.062723</td>\n",
       "      <td>0.061458</td>\n",
       "      <td>0</td>\n",
       "      <td>0.140534</td>\n",
       "    </tr>\n",
       "    <tr>\n",
       "      <th>4</th>\n",
       "      <td>-1.158233</td>\n",
       "      <td>0.877737</td>\n",
       "      <td>1.548718</td>\n",
       "      <td>0.403034</td>\n",
       "      <td>-0.407193</td>\n",
       "      <td>0.095921</td>\n",
       "      <td>0.592941</td>\n",
       "      <td>-0.270533</td>\n",
       "      <td>0.817739</td>\n",
       "      <td>0.753074</td>\n",
       "      <td>...</td>\n",
       "      <td>-0.009431</td>\n",
       "      <td>0.798278</td>\n",
       "      <td>-0.137458</td>\n",
       "      <td>0.141267</td>\n",
       "      <td>-0.206010</td>\n",
       "      <td>0.502292</td>\n",
       "      <td>0.219422</td>\n",
       "      <td>0.215153</td>\n",
       "      <td>0</td>\n",
       "      <td>-0.073403</td>\n",
       "    </tr>\n",
       "  </tbody>\n",
       "</table>\n",
       "<p>5 rows × 30 columns</p>\n",
       "</div>"
      ],
      "text/plain": [
       "         V1        V2        V3        V4        V5        V6        V7  \\\n",
       "0 -1.359807 -0.072781  2.536347  1.378155 -0.338321  0.462388  0.239599   \n",
       "1  1.191857  0.266151  0.166480  0.448154  0.060018 -0.082361 -0.078803   \n",
       "2 -1.358354 -1.340163  1.773209  0.379780 -0.503198  1.800499  0.791461   \n",
       "3 -0.966272 -0.185226  1.792993 -0.863291 -0.010309  1.247203  0.237609   \n",
       "4 -1.158233  0.877737  1.548718  0.403034 -0.407193  0.095921  0.592941   \n",
       "\n",
       "         V8        V9       V10  ...       V21       V22       V23       V24  \\\n",
       "0  0.098698  0.363787  0.090794  ... -0.018307  0.277838 -0.110474  0.066928   \n",
       "1  0.085102 -0.255425 -0.166974  ... -0.225775 -0.638672  0.101288 -0.339846   \n",
       "2  0.247676 -1.514654  0.207643  ...  0.247998  0.771679  0.909412 -0.689281   \n",
       "3  0.377436 -1.387024 -0.054952  ... -0.108300  0.005274 -0.190321 -1.175575   \n",
       "4 -0.270533  0.817739  0.753074  ... -0.009431  0.798278 -0.137458  0.141267   \n",
       "\n",
       "        V25       V26       V27       V28  Class  normAmount  \n",
       "0  0.128539 -0.189115  0.133558 -0.021053      0    0.244964  \n",
       "1  0.167170  0.125895 -0.008983  0.014724      0   -0.342475  \n",
       "2 -0.327642 -0.139097 -0.055353 -0.059752      0    1.160686  \n",
       "3  0.647376 -0.221929  0.062723  0.061458      0    0.140534  \n",
       "4 -0.206010  0.502292  0.219422  0.215153      0   -0.073403  \n",
       "\n",
       "[5 rows x 30 columns]"
      ]
     },
     "execution_count": 73,
     "metadata": {},
     "output_type": "execute_result"
    }
   ],
   "source": [
    "from sklearn.preprocessing import StandardScaler\n",
    "\n",
    "data['normAmount'] = StandardScaler().fit_transform(data[['Amount']])\n",
    "data = data.drop(['Time', 'Amount'], axis=1)\n",
    "data.head()"
   ]
  },
  {
   "cell_type": "code",
   "execution_count": 74,
   "metadata": {},
   "outputs": [
    {
     "name": "stdout",
     "output_type": "stream",
     "text": [
      "Shape of X: (284807, 29)\n",
      "Shape of y: (284807,)\n"
     ]
    }
   ],
   "source": [
    "X = data.drop('Class',axis=1)\n",
    "y = data['Class']\n",
    "print('Shape of X: {}'.format(X.shape))\n",
    "print('Shape of y: {}'.format(y.shape))"
   ]
  },
  {
   "cell_type": "code",
   "execution_count": 77,
   "metadata": {},
   "outputs": [
    {
     "name": "stdout",
     "output_type": "stream",
     "text": [
      "Number transactions X_train dataset:  (199364, 29)\n",
      "Number transactions y_train dataset:  (199364,)\n",
      "Number transactions X_test dataset:  (85443, 29)\n",
      "Number transactions y_test dataset:  (85443,)\n"
     ]
    }
   ],
   "source": [
    "from imblearn.over_sampling import SMOTE\n",
    "\n",
    "from sklearn.model_selection import train_test_split\n",
    "\n",
    "X_train, X_test, y_train, y_test = train_test_split(X, y, test_size=0.3, random_state=0)\n",
    "\n",
    "print(\"Number transactions X_train dataset: \", X_train.shape)\n",
    "print(\"Number transactions y_train dataset: \", y_train.shape)\n",
    "print(\"Number transactions X_test dataset: \", X_test.shape)\n",
    "print(\"Number transactions y_test dataset: \", y_test.shape)"
   ]
  },
  {
   "cell_type": "code",
   "execution_count": 80,
   "metadata": {},
   "outputs": [
    {
     "name": "stdout",
     "output_type": "stream",
     "text": [
      "Before OverSampling, counts of label '1': 345\n",
      "Before OverSampling, counts of label '0': 199019 \n",
      "\n",
      "After OverSampling, the shape of train_X: (398038, 29)\n",
      "After OverSampling, the shape of train_y: (398038,) \n",
      "\n",
      "After OverSampling, counts of label '1': 199019\n",
      "After OverSampling, counts of label '0': 199019\n"
     ]
    }
   ],
   "source": [
    "print(\"Before OverSampling, counts of label '1': {}\".format(sum(y_train==1)))\n",
    "print(\"Before OverSampling, counts of label '0': {} \\n\".format(sum(y_train==0)))\n",
    "\n",
    "sm = SMOTE(random_state=2)\n",
    "X_train_res, y_train_res = sm.fit_resample(X_train, y_train.ravel())\n",
    "\n",
    "print('After OverSampling, the shape of train_X: {}'.format(X_train_res.shape))\n",
    "print('After OverSampling, the shape of train_y: {} \\n'.format(y_train_res.shape))\n",
    "\n",
    "print(\"After OverSampling, counts of label '1': {}\".format(sum(y_train_res==1)))\n",
    "print(\"After OverSampling, counts of label '0': {}\".format(sum(y_train_res==0)))"
   ]
  },
  {
   "cell_type": "code",
   "execution_count": 81,
   "metadata": {},
   "outputs": [
    {
     "name": "stdout",
     "output_type": "stream",
     "text": [
      "Fitting 5 folds for each of 5 candidates, totalling 25 fits\n"
     ]
    },
    {
     "data": {
      "text/plain": [
       "GridSearchCV(cv=5, estimator=LogisticRegression(), n_jobs=2,\n",
       "             param_grid={'C': array([ 1.  ,  3.25,  5.5 ,  7.75, 10.  ])},\n",
       "             verbose=5)"
      ]
     },
     "execution_count": 81,
     "metadata": {},
     "output_type": "execute_result"
    }
   ],
   "source": [
    "from sklearn.model_selection import GridSearchCV\n",
    "from sklearn.linear_model import LogisticRegression\n",
    "from sklearn.metrics import confusion_matrix, precision_recall_curve, auc, roc_auc_score, roc_curve, recall_score, classification_report\n",
    "\n",
    "parameters = {\n",
    "    'C': np.linspace(1, 10, 5)\n",
    "             }\n",
    "lr = LogisticRegression()\n",
    "clf = GridSearchCV(lr, parameters, cv=5, verbose=5, n_jobs=2)\n",
    "clf.fit(X_train_res, y_train_res.ravel())"
   ]
  },
  {
   "cell_type": "code",
   "execution_count": 84,
   "metadata": {},
   "outputs": [
    {
     "data": {
      "text/plain": [
       "array([ 1.  ,  3.25,  5.5 ,  7.75, 10.  ])"
      ]
     },
     "execution_count": 84,
     "metadata": {},
     "output_type": "execute_result"
    }
   ],
   "source": [
    "np.linspace(1, 10, 5)"
   ]
  },
  {
   "cell_type": "code",
   "execution_count": 85,
   "metadata": {},
   "outputs": [
    {
     "data": {
      "text/plain": [
       "{'C': 5.5}"
      ]
     },
     "execution_count": 85,
     "metadata": {},
     "output_type": "execute_result"
    }
   ],
   "source": [
    "clf.best_params_ # {'C': 5.5}"
   ]
  },
  {
   "cell_type": "code",
   "execution_count": 86,
   "metadata": {},
   "outputs": [
    {
     "name": "stderr",
     "output_type": "stream",
     "text": [
      "[Parallel(n_jobs=1)]: Using backend SequentialBackend with 1 concurrent workers.\n",
      "[Parallel(n_jobs=1)]: Done   1 out of   1 | elapsed:    9.8s remaining:    0.0s\n",
      "[Parallel(n_jobs=1)]: Done   1 out of   1 | elapsed:    9.8s finished\n"
     ]
    },
    {
     "data": {
      "text/plain": [
       "LogisticRegression(C=5.5, verbose=5)"
      ]
     },
     "execution_count": 86,
     "metadata": {},
     "output_type": "execute_result"
    }
   ],
   "source": [
    "lr1 = LogisticRegression(C=5.5, penalty='l2', verbose=5)\n",
    "lr1.fit(X_train_res, y_train_res.ravel())"
   ]
  },
  {
   "cell_type": "code",
   "execution_count": 87,
   "metadata": {},
   "outputs": [],
   "source": [
    "import itertools\n",
    "\n",
    "def plot_confusion_matrix(cm, classes,\n",
    "                          normalize=False,\n",
    "                          title='Confusion matrix',\n",
    "                          cmap=plt.cm.Blues):\n",
    "    \"\"\"\n",
    "    This function prints and plots the confusion matrix.\n",
    "    Normalization can be applied by setting `normalize=True`.\n",
    "    \"\"\"\n",
    "    plt.imshow(cm, interpolation='nearest', cmap=cmap)\n",
    "    plt.title(title)\n",
    "    plt.colorbar()\n",
    "    tick_marks = np.arange(len(classes))\n",
    "    plt.xticks(tick_marks, classes, rotation=0)\n",
    "    plt.yticks(tick_marks, classes)\n",
    "\n",
    "    if normalize:\n",
    "        cm = cm.astype('float') / cm.sum(axis=1)[:, np.newaxis]\n",
    "        #print(\"Normalized confusion matrix\")\n",
    "    else:\n",
    "        1#print('Confusion matrix, without normalization')\n",
    "\n",
    "    #print(cm)\n",
    "\n",
    "    thresh = cm.max() / 2.\n",
    "    for i, j in itertools.product(range(cm.shape[0]), range(cm.shape[1])):\n",
    "        plt.text(j, i, cm[i, j],\n",
    "                 horizontalalignment=\"center\",\n",
    "                 color=\"white\" if cm[i, j] > thresh else \"black\")\n",
    "\n",
    "    plt.tight_layout()\n",
    "    plt.ylabel('True label')\n",
    "    plt.xlabel('Predicted label')"
   ]
  },
  {
   "cell_type": "code",
   "execution_count": 88,
   "metadata": {},
   "outputs": [
    {
     "name": "stdout",
     "output_type": "stream",
     "text": [
      "Recall metric in the train dataset: 92.17391304347827%\n"
     ]
    },
    {
     "data": {
      "image/png": "[encoded data removed]",
      "text/plain": [
       "<Figure size 432x288 with 2 Axes>"
      ]
     },
     "metadata": {
      "needs_background": "light"
     },
     "output_type": "display_data"
    }
   ],
   "source": [
    "y_train_pre = lr1.predict(X_train)\n",
    "\n",
    "cnf_matrix_tra = confusion_matrix(y_train, y_train_pre)\n",
    "\n",
    "print(\"Recall metric in the train dataset: {}%\".format(100*cnf_matrix_tra[1,1]/(cnf_matrix_tra[1,0]+cnf_matrix_tra[1,1])))\n",
    "\n",
    "\n",
    "class_names = [0,1]\n",
    "plt.figure()\n",
    "plot_confusion_matrix(cnf_matrix_tra , classes=class_names, title='Confusion matrix')\n",
    "plt.show()"
   ]
  },
  {
   "cell_type": "code",
   "execution_count": 89,
   "metadata": {},
   "outputs": [
    {
     "name": "stdout",
     "output_type": "stream",
     "text": [
      "Recall metric in the testing dataset: 91.83673469387755%\n"
     ]
    },
    {
     "data": {
      "image/png": "[encoded data removed]",
      "text/plain": [
       "<Figure size 432x288 with 2 Axes>"
      ]
     },
     "metadata": {
      "needs_background": "light"
     },
     "output_type": "display_data"
    }
   ],
   "source": [
    "y_pre = lr1.predict(X_test)\n",
    "\n",
    "cnf_matrix = confusion_matrix(y_test, y_pre)\n",
    "\n",
    "print(\"Recall metric in the testing dataset: {}%\".format(100*cnf_matrix[1,1]/(cnf_matrix[1,0]+cnf_matrix[1,1])))\n",
    "#print(\"Precision metric in the testing dataset: {}%\".format(100*cnf_matrix[0,0]/(cnf_matrix[0,0]+cnf_matrix[1,0])))\n",
    "# Plot non-normalized confusion matrix\n",
    "class_names = [0,1]\n",
    "plt.figure()\n",
    "plot_confusion_matrix(cnf_matrix , classes=class_names, title='Confusion matrix')\n",
    "plt.show()"
   ]
  },
  {
   "cell_type": "code",
   "execution_count": 90,
   "metadata": {},
   "outputs": [
    {
     "name": "stderr",
     "output_type": "stream",
     "text": [
      "[Parallel(n_jobs=1)]: Using backend SequentialBackend with 1 concurrent workers.\n",
      "[Parallel(n_jobs=1)]: Done   1 out of   1 | elapsed:   10.6s remaining:    0.0s\n",
      "[Parallel(n_jobs=1)]: Done   1 out of   1 | elapsed:   10.6s finished\n"
     ]
    }
   ],
   "source": [
    "tmp = lr1.fit(X_train_res, y_train_res.ravel())"
   ]
  },
  {
   "cell_type": "code",
   "execution_count": 91,
   "metadata": {},
   "outputs": [
    {
     "data": {
      "image/png": "[encoded data removed]",
      "text/plain": [
       "<Figure size 432x288 with 1 Axes>"
      ]
     },
     "metadata": {
      "needs_background": "light"
     },
     "output_type": "display_data"
    }
   ],
   "source": [
    "y_pred_sample_score = tmp.decision_function(X_test)\n",
    "\n",
    "\n",
    "fpr, tpr, thresholds = roc_curve(y_test, y_pred_sample_score)\n",
    "\n",
    "roc_auc = auc(fpr,tpr)\n",
    "\n",
    "# Plot ROC\n",
    "plt.title('Receiver Operating Characteristic')\n",
    "plt.plot(fpr, tpr, 'b',label='AUC = %0.3f'% roc_auc)\n",
    "plt.legend(loc='lower right')\n",
    "plt.plot([0,1],[0,1],'r--')\n",
    "plt.xlim([-0.1,1.0])\n",
    "plt.ylim([-0.1,1.01])\n",
    "plt.ylabel('True Positive Rate')\n",
    "plt.xlabel('False Positive Rate')\n",
    "plt.show()"
   ]
  },
  {
   "cell_type": "code",
   "execution_count": 92,
   "metadata": {},
   "outputs": [
    {
     "data": {
      "text/plain": [
       "0.9840823217300426"
      ]
     },
     "execution_count": 92,
     "metadata": {},
     "output_type": "execute_result"
    }
   ],
   "source": [
    "roc_auc"
   ]
  },
  {
   "cell_type": "code",
   "execution_count": null,
   "metadata": {},
   "outputs": [],
   "source": []
  }
 ],
 "metadata": {
  "kernelspec": {
   "display_name": "Python 3",
   "language": "python",
   "name": "python3"
  },
  "language_info": {
   "codemirror_mode": {
    "name": "ipython",
    "version": 3
   },
   "file_extension": ".py",
   "mimetype": "text/x-python",
   "name": "python",
   "nbconvert_exporter": "python",
   "pygments_lexer": "ipython3",
   "version": "3.8.8"
  },
  "toc": {
   "base_numbering": 1,
   "nav_menu": {},
   "number_sections": true,
   "sideBar": true,
   "skip_h1_title": false,
   "title_cell": "Table of Contents",
   "title_sidebar": "Contents",
   "toc_cell": false,
   "toc_position": {
    "height": "calc(100% - 180px)",
    "left": "10px",
    "top": "150px",
    "width": "384px"
   },
   "toc_section_display": true,
   "toc_window_display": true
  }
 },
 "nbformat": 4,
 "nbformat_minor": 4
}
