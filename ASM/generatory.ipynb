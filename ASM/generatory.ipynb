{
 "cells": [
  {
   "cell_type": "markdown",
   "metadata": {},
   "source": [
    "# Generatory"
   ]
  },
  {
   "cell_type": "markdown",
   "metadata": {},
   "source": [
    "W trakcie wywoływania funkcje otrzymują prywatną przestrzeń nazw - tworzone są w niej zmienne lokalne, które po osiągnięciu instrukcji $\\texttt{return}$ i zwróceniu odpowiedniego wyniku są usuwane z pamięci komputera."
   ]
  },
  {
   "cell_type": "code",
   "execution_count": null,
   "metadata": {},
   "outputs": [],
   "source": [
    "def function(n):\n",
    "    res = 0\n",
    "    for i in range(n+1):\n",
    "        x = i**2\n",
    "        res += x\n",
    "    return res"
   ]
  },
  {
   "cell_type": "code",
   "execution_count": null,
   "metadata": {},
   "outputs": [],
   "source": [
    "function(2)"
   ]
  },
  {
   "cell_type": "code",
   "execution_count": null,
   "metadata": {},
   "outputs": [],
   "source": [
    "x"
   ]
  },
  {
   "cell_type": "markdown",
   "metadata": {},
   "source": [
    "Kolejne wywołania funkcji korzystają z \"surowego\", zadanego na początku zbioru danych i wyliczają wartości funkcji na nowo. Co jednak, jeżeli byśmy chcieli nie usuwać zmiennych lokalnych danej funkcji i wykorzystać je później, przy kolejnym jej wywołaniu?\n",
    "\n",
    "Wtedy musimy skorzystać z generatorów."
   ]
  },
  {
   "cell_type": "markdown",
   "metadata": {},
   "source": [
    "### Dlaczego generatory?"
   ]
  },
  {
   "cell_type": "markdown",
   "metadata": {},
   "source": [
    "Przede wszystkim generatory ze względu na swoją konstrukcję pozwalają na zaoszczędzenie pamięci komputera. Rozpatrzmy prosty przykład, chcemy policzyć sumę sześcianów wszystkich liczb naturalnych od $1$ do $n$, gdzie $n$ przyjmuje bardzo dużą wartość, np. $1000000$. Zapisując to jako pythonowską funkcję otrzymamy następujący kod:"
   ]
  },
  {
   "cell_type": "code",
   "execution_count": null,
   "metadata": {},
   "outputs": [],
   "source": [
    "def numbers3 (n):\n",
    "    i = 1\n",
    "    numbers = []\n",
    "    while i <= n:\n",
    "        numbers.append(i**3)\n",
    "        i += 1\n",
    "    return numbers\n",
    "\n",
    "sum(numbers3(1000000))"
   ]
  },
  {
   "cell_type": "markdown",
   "metadata": {},
   "source": [
    "Tak długa i zawierająca tak duże wartości lista będzie nieefektywna - będzie zajmować mnóstwo przestrzeni na dysku i w znacznym stopniu spowolni działanie kodu (w skrajnych przypadkach może wręcz uniemożliwić jego wykonanie). \n",
    "\n",
    "W takim wypadku przewaga generatora nad funkcją wynika z dwóch jego cech. Po pierwsze, generatory generują kod na żądanie - dzięki temu możliwe jest wykorzystywanie wygenerowanych elementów na bieżąco, bez konieczności czekania aż generator skończy pracować. Po drugie, generatory przechowują stany pomiędzy wywołaniami, a nie wszystkie otrzymane przy jego wykorzystaniu wartości."
   ]
  },
  {
   "cell_type": "code",
   "execution_count": null,
   "metadata": {},
   "outputs": [],
   "source": [
    "def gen_numbers3 (n):\n",
    "    i = 1\n",
    "    while i <= n:\n",
    "        yield i**3\n",
    "        i +=1 \n",
    "        \n",
    "sum(gen_numbers3(1000000))"
   ]
  },
  {
   "cell_type": "code",
   "execution_count": null,
   "metadata": {},
   "outputs": [],
   "source": [
    "gen_numbers3(100000000000000)"
   ]
  },
  {
   "cell_type": "markdown",
   "metadata": {},
   "source": [
    "Generatory definiuje się bardzo podobnie do funkcji, różnica polega na tym, że zamiast słowa kluczowego $\\texttt{return}$ wykorzystujem słowo kluczowe $\\texttt{yield}$. Można stworzyć generator za pomocą składni analogicznej do listy składanej. Wtedy zamiast nawiasów kwadratowych korzystamy ze zwykłych, okrągłych nawiasów."
   ]
  },
  {
   "cell_type": "code",
   "execution_count": null,
   "metadata": {},
   "outputs": [],
   "source": [
    "generator = (i**2 for i in range(20))\n",
    "generator"
   ]
  },
  {
   "cell_type": "markdown",
   "metadata": {},
   "source": [
    "Aby wywołać kolejne generowane elementy możemy skorzystać z funkcji $\\texttt{next}$:"
   ]
  },
  {
   "cell_type": "code",
   "execution_count": null,
   "metadata": {},
   "outputs": [],
   "source": [
    "next(generator)"
   ]
  },
  {
   "cell_type": "markdown",
   "metadata": {},
   "source": [
    "Wyniki można też opakować w listę:"
   ]
  },
  {
   "cell_type": "code",
   "execution_count": null,
   "metadata": {},
   "outputs": [],
   "source": [
    "generator = (i**2 for i in range(10))\n",
    "list(generator)"
   ]
  },
  {
   "cell_type": "code",
   "execution_count": null,
   "metadata": {},
   "outputs": [],
   "source": [
    "generator = (i**2 for i in range(20))"
   ]
  },
  {
   "cell_type": "code",
   "execution_count": null,
   "metadata": {},
   "outputs": [],
   "source": [
    "for i in generator:\n",
    "    print (i)\n",
    "    if i > 55:\n",
    "        break"
   ]
  },
  {
   "cell_type": "code",
   "execution_count": null,
   "metadata": {},
   "outputs": [],
   "source": [
    "list(generator)"
   ]
  },
  {
   "cell_type": "code",
   "execution_count": null,
   "metadata": {},
   "outputs": [],
   "source": [
    "next(generator)"
   ]
  },
  {
   "cell_type": "markdown",
   "metadata": {},
   "source": [
    "### Współprogramy"
   ]
  },
  {
   "cell_type": "markdown",
   "metadata": {},
   "source": [
    "\n",
    "Typowym sposobem pisania programów komputerowych jest modularyzacja złożonego zadania obliczeniowego czyli jego podział na mniejsze, logicznie wyodrębnione jednostki. Jednostki takie przybierają w zależności od wybranego języka programowania formę funkcji, procedur albo klas.\n",
    "Po dekompozycji zadania obliczeniowego na moduły określa się sposób ich współpracy. Najczęściej koordynacje pracy modułów powierza się głównej funkcji sterującej (zwyczajowo nazywanej `main`). Funkcja sterująca okresla nastepstwo wykonania i zasady współpracy poszczególnych modułów przy użyciu (poznanych już) instrukcji warunkowych, petli itd. W takim podejściu moduły przyjęło się nazywać **podprogramami** (ang. *subroutine*)."
   ]
  },
  {
   "cell_type": "markdown",
   "metadata": {},
   "source": [
    "Istnieje alternatywny sposób koordynacji pracy podzadań obliczeniowych bez użycia funkcji sterującej, w którym przebieg przetwarzania wynika wyłącznie z komunikacji między modułami. Przepływ sterowania w tym podejściu określa się przez łączenie zadań w łańcuchy (potoki). Takie podejście to nazywa się też czasami sterowaniem przez zdarzenia (ang. *event driven*). W takim podejściu moduły przyjęło się nazywać **współprogramami** (ang. *coroutine*). Jak się przekonamy podejście oparte o  współprogramy doskonale pasuje do modelowania złożonych systemów kolejkowych."
   ]
  },
  {
   "cell_type": "markdown",
   "metadata": {},
   "source": [
    "Sposób działania współprogramów jest bardzo podobny do sposobu działania generatorów (właściwie są one specjalnym typem współprogramów). Co więcej, w Pythonie tworzy się je w dokładnie ten sam sposób."
   ]
  },
  {
   "cell_type": "markdown",
   "metadata": {},
   "source": [
    "#### Wzorzec produkuj-filtruj-konsumuj"
   ]
  },
  {
   "cell_type": "markdown",
   "metadata": {},
   "source": [
    "Typowym sposobem wykorzystania potoku przetwarzania jest wzorzec _'producent-konsument'_, w którym współprogram pełni jedną z trzech ról:\n",
    "- **producenta**, który generuje dane wejściowe dla potoku korzystając z medody `send()` \n",
    "- **filtra**, który  przetwarza dane, nastepnie przesyła je do przetwarzania na kolejnych etapach potoku korzystając z metod `yield()` i `send()`\n",
    "- **konsumenta**, który dokonuje końcowego przetwarzania danych otrzymanych z wykorzystaniem metody `yield()` i przekazuje je na wyjście potoku\n",
    "\n",
    "Wzorzec produkuj-filtruj-konsumuj doskonale nadaje się do tworzenia prostych symulacji opartych o czas dyskretny. Stwórzmy więc uproszczoną wersję (1 maszyna i 1 zestaw narzędzi, brak czasu dostawy) omawianego modelu:"
   ]
  },
  {
   "cell_type": "code",
   "execution_count": null,
   "metadata": {},
   "outputs": [],
   "source": [
    "import numpy as np\n",
    "\n",
    "REPAIR_TIME = 15\n",
    "WORKING_TIME = 75\n",
    "\n",
    "# konsument - odbiorca zgłoszeń\n",
    "def consumer():\n",
    "    broken_time = 0\n",
    "    end_time = 0\n",
    "    while True:\n",
    "        broken_time = yield broken_time, end_time\n",
    "        service_time = np.random.gamma(3, REPAIR_TIME/3)\n",
    "        end_time = broken_time + service_time\n",
    "        \n",
    "# producent - generator zgłoszeń        \n",
    "def producer(horizon, server):\n",
    "    broken_time = np.random.exponential(WORKING_TIME)\n",
    "    print('maszyna zepsula sie o %d' % broken_time)\n",
    "    while broken_time <= horizon:\n",
    "        result = server.send(broken_time)\n",
    "        print('koniec naprawy o %d' % result[1])\n",
    "        broken_time = result[1] + np.random.exponential(WORKING_TIME)\n",
    "        print('maszyna zepsula sie o %d' % broken_time)\n",
    "        \n",
    "# tworzymy i inicjujemy serwer        \n",
    "server = consumer()\n",
    "\n",
    "next(server)\n",
    "\n",
    "#uruchamiamy symulacje\n",
    "producer(30*24*60, server)"
   ]
  },
  {
   "cell_type": "markdown",
   "metadata": {},
   "source": [
    "Oczywiście za pomocą schematu produkuj-filtruj-konsumuj możliwe jest stworzenie bardziej wyszukanych symulacji - uwzględnienie większej ilości maszyn i zestawów narzędziowych. Wymaga to jednak stworzenia odpowiedniego współprogramu-filtra, który ustali odpowiednią kolejność wywołań. Najprostszą metodą na zrobienie tego jest skorzystanie z biblioteki [simpy](https://simpy.readthedocs.io/en/latest/)."
   ]
  }
 ],
 "metadata": {
  "anaconda-cloud": {},
  "kernelspec": {
   "display_name": "Python 3",
   "language": "python",
   "name": "python3"
  },
  "language_info": {
   "codemirror_mode": {
    "name": "ipython",
    "version": 3
   },
   "file_extension": ".py",
   "mimetype": "text/x-python",
   "name": "python",
   "nbconvert_exporter": "python",
   "pygments_lexer": "ipython3",
   "version": "3.8.8"
  },
  "toc": {
   "base_numbering": 1,
   "nav_menu": {},
   "number_sections": true,
   "sideBar": true,
   "skip_h1_title": false,
   "title_cell": "Table of Contents",
   "title_sidebar": "Contents",
   "toc_cell": false,
   "toc_position": {},
   "toc_section_display": true,
   "toc_window_display": false
  }
 },
 "nbformat": 4,
 "nbformat_minor": 4
}
