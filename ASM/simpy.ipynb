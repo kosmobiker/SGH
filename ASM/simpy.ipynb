{
 "cells": [
  {
   "cell_type": "markdown",
   "metadata": {},
   "source": [
    "## [SimPy](http://simpy.readthedocs.org/en/latest) - biblioteka dla [DES](http://en.wikipedia.org/wiki/Discrete_event_simulation)\n",
    "Biblioteka `simpy` dostarcza gotowe klasy obiektów do budowy symulacji:\n",
    "- **środowisko** (Environment), które zarządzą upływem czasu i następstwem zdarzeń oraz koordynuje procesy i dostęp do zasobów\n",
    "- **procesy** (Process) - reprezentują procesy zachodzące w czasie \n",
    "- **zdarzenia** (Event) - reprezentują szczególny 'punktowy' w czasie rodzaj procesu\n",
    "- **zasoby** (Resource) - reprezentują zasoby o ograniczonej pojemności, współdzielone przez procesy"
   ]
  },
  {
   "cell_type": "markdown",
   "metadata": {},
   "source": [
    "### instalacja pakietu `simpy`\n",
    "Pakiet `simpy` nie jest czescia dysrubucji Anaconda. Aby go zainstalowac z poziomu wiersza poleceń systemu operacyjnego wykonujemy komende:\n",
    "\n",
    "    pip install simpy\n",
    "\n",
    "albo \n",
    "    \n",
    "    pip install --user simpy\n",
    "    \n",
    "jesli nie mamy uprawnień aministratora."
   ]
  },
  {
   "cell_type": "markdown",
   "metadata": {},
   "source": [
    "Przygotowanie przebiegu symulacji zaczynamy od utworzenia środowiska, w którym bedzię się ona odbywać:"
   ]
  },
  {
   "cell_type": "code",
   "execution_count": null,
   "metadata": {},
   "outputs": [],
   "source": [
    "import simpy"
   ]
  },
  {
   "cell_type": "code",
   "execution_count": null,
   "metadata": {},
   "outputs": [],
   "source": [
    "# utworz srodowisko symulacji\n",
    "env = simpy.Environment() "
   ]
  },
  {
   "cell_type": "markdown",
   "metadata": {},
   "source": [
    "srodowisko symulacji w konkretnym przebiegu jest *obiektem* klasy `Environment`"
   ]
  },
  {
   "cell_type": "code",
   "execution_count": null,
   "metadata": {},
   "outputs": [],
   "source": [
    "env"
   ]
  },
  {
   "cell_type": "code",
   "execution_count": null,
   "metadata": {},
   "outputs": [],
   "source": [
    "type(env)"
   ]
  },
  {
   "cell_type": "code",
   "execution_count": null,
   "metadata": {},
   "outputs": [],
   "source": [
    "env.now"
   ]
  },
  {
   "cell_type": "markdown",
   "metadata": {},
   "source": [
    "Funkcja `car` definiuje prostego agenta, który ma dwa stany - jazdę (`driving`) albo parkowanie (`parking`) i przełącza się między nimi w deterministyczny sposób."
   ]
  },
  {
   "cell_type": "code",
   "execution_count": null,
   "metadata": {},
   "outputs": [],
   "source": [
    "def car(env):\n",
    "    trip_duration = 3\n",
    "    parking_duration = 5\n",
    "    while True:\n",
    "        print('Start parking at %d' % env.now)\n",
    "        yield env.timeout(parking_duration)\n",
    "        print('Start driving at %d' % env.now)\n",
    "        yield env.timeout(trip_duration)"
   ]
  },
  {
   "cell_type": "code",
   "execution_count": null,
   "metadata": {},
   "outputs": [],
   "source": [
    "car(env)"
   ]
  },
  {
   "cell_type": "markdown",
   "metadata": {},
   "source": [
    "dodajemy agenta do srodowiska symulacji"
   ]
  },
  {
   "cell_type": "code",
   "execution_count": null,
   "metadata": {},
   "outputs": [],
   "source": [
    "env.process(car(env))"
   ]
  },
  {
   "cell_type": "markdown",
   "metadata": {},
   "source": [
    "uruchamiamy sumulacje:"
   ]
  },
  {
   "cell_type": "code",
   "execution_count": null,
   "metadata": {},
   "outputs": [],
   "source": [
    "env.run(until=25)"
   ]
  },
  {
   "cell_type": "markdown",
   "metadata": {},
   "source": [
    "zegar środowiska symulacji przesunął sie o 25 jednostek, możemy kontunuować jej wykonanie:"
   ]
  },
  {
   "cell_type": "code",
   "execution_count": null,
   "metadata": {},
   "outputs": [],
   "source": [
    "env.run(60)"
   ]
  },
  {
   "cell_type": "code",
   "execution_count": null,
   "metadata": {},
   "outputs": [],
   "source": [
    "env.run(60)"
   ]
  },
  {
   "cell_type": "markdown",
   "metadata": {},
   "source": [
    "wprowadzmy element losowosci do zachowania agentów:"
   ]
  },
  {
   "cell_type": "code",
   "execution_count": null,
   "metadata": {},
   "outputs": [],
   "source": [
    "import random as rnd\n",
    "LAMBDA = 1\n",
    "\n",
    "def car(env):\n",
    "    while True:\n",
    "        print('Start parking at %f' % env.now)\n",
    "        yield env.timeout(rnd.expovariate(LAMBDA))\n",
    "        print('Start driving at %f' % env.now)\n",
    "        yield env.timeout(rnd.expovariate(LAMBDA))"
   ]
  },
  {
   "cell_type": "code",
   "execution_count": null,
   "metadata": {},
   "outputs": [],
   "source": [
    "env = simpy.Environment() # utworz srodowisko symulacji"
   ]
  },
  {
   "cell_type": "code",
   "execution_count": null,
   "metadata": {},
   "outputs": [],
   "source": [
    "env.process(car(env)) # dodaj agenta do srodowiska"
   ]
  },
  {
   "cell_type": "code",
   "execution_count": null,
   "metadata": {},
   "outputs": [],
   "source": [
    "env.run(10)"
   ]
  },
  {
   "cell_type": "markdown",
   "metadata": {},
   "source": [
    "Urozmaicimy symulację przez heterogenizację populacji samochodów. Wprowadzimy też nowy typ agenta - stację paliwową."
   ]
  },
  {
   "cell_type": "code",
   "execution_count": null,
   "metadata": {},
   "outputs": [],
   "source": [
    "def car(env, name, bcs, driving_time, charge_duration):\n",
    "    # Simulate driving to the BCS\n",
    "    yield env.timeout(driving_time)\n",
    "\n",
    "    # Request one of its charging spots\n",
    "    print('%s arriving at %d' % (name, env.now))\n",
    "    with bcs.request() as req:\n",
    "        yield req\n",
    "\n",
    "        # Charge the battery\n",
    "        print('%s starting to charge at %s' % (name, env.now))\n",
    "        yield env.timeout(charge_duration)\n",
    "        print('%s leaving the bcs at %s' % (name, env.now))"
   ]
  },
  {
   "cell_type": "markdown",
   "metadata": {},
   "source": [
    "Przygotowanie przebiegu symulacji"
   ]
  },
  {
   "cell_type": "code",
   "execution_count": null,
   "metadata": {},
   "outputs": [],
   "source": [
    "env = simpy.Environment() # utworz srodowisko symulacji\n",
    "bcs = simpy.Resource(env, capacity=2) # stacja paliwowa z dwoma dystrybutorami"
   ]
  },
  {
   "cell_type": "markdown",
   "metadata": {},
   "source": [
    "tworzymy populacje agentów, różniących sie nazwą i czasem jazdy i dodajemy do srodowiska"
   ]
  },
  {
   "cell_type": "code",
   "execution_count": null,
   "metadata": {},
   "outputs": [],
   "source": [
    "N = 5\n",
    "for i in range(N):\n",
    "    c = car(env, 'Car %d' % i, bcs, i*2, 5)\n",
    "    env.process(c)"
   ]
  },
  {
   "cell_type": "markdown",
   "metadata": {},
   "source": [
    "Uruchamiamy przebieg symulacji. Zauważmy, że nie podajemy ograniczenia czasowego. Dlaczego?"
   ]
  },
  {
   "cell_type": "code",
   "execution_count": null,
   "metadata": {
    "scrolled": true
   },
   "outputs": [],
   "source": [
    "env.run()"
   ]
  },
  {
   "cell_type": "markdown",
   "metadata": {},
   "source": [
    "Wydzielamy proces tankowania/ładowania do osobnej funkcji. Agenci typu `car` beda oczekiwac na zakonczenie _procesu_ ładowania a nie wystąpienie zdarzenia typu `timeout`. W ten sposób logika symulacji staje się jaśniejsza."
   ]
  },
  {
   "cell_type": "code",
   "execution_count": null,
   "metadata": {},
   "outputs": [],
   "source": [
    "def charge(env, name, duration):\n",
    "    # Charge the battery\n",
    "    print('%s starting to charge at %s' % (name, env.now))\n",
    "    yield env.timeout(duration)\n",
    "    print('%s finished charging at %s' % (name, env.now))"
   ]
  },
  {
   "cell_type": "code",
   "execution_count": null,
   "metadata": {},
   "outputs": [],
   "source": [
    "def car(env, name, bcs, driving_time, charge_duration):\n",
    "    # Simulate driving to the BCS\n",
    "    yield env.timeout(driving_time)\n",
    "\n",
    "    # Request one of its charging spots\n",
    "    print('%s arriving at %d' % (name, env.now))\n",
    "    with bcs.request() as req:\n",
    "        yield req\n",
    "\n",
    "        # We yield the process that process() returns\n",
    "        # to wait for it to finish\n",
    "        yield env.process(charge(env, name, charge_duration))\n",
    "        print('%s leaving the bcs at %s' % (name, env.now))"
   ]
  },
  {
   "cell_type": "code",
   "execution_count": null,
   "metadata": {},
   "outputs": [],
   "source": [
    "env = simpy.Environment()\n",
    "bcs = simpy.Resource(env, capacity=2) # stacja paliwowa z dwoma dystrybutorami"
   ]
  },
  {
   "cell_type": "code",
   "execution_count": null,
   "metadata": {},
   "outputs": [],
   "source": [
    "N = 8\n",
    "for i in range(N):\n",
    "    c = car(env, 'Car %d' % i, bcs, i*2, 5)\n",
    "    env.process(c)\n",
    "env.run()"
   ]
  },
  {
   "cell_type": "markdown",
   "metadata": {},
   "source": [
    "Złożoność naszej symulacji rośnie dlatego opakujemy kod agenta typu `car` w klasę. Wprowadzimy też nowe elementy\n",
    "- kierowcę - agenta typu `driver`\n",
    "- możliwość przerwania trwającego procesu tankowania/ładowania przed zaplanowanym czasem jego zakończenia przez kierowcę"
   ]
  },
  {
   "cell_type": "code",
   "execution_count": null,
   "metadata": {},
   "outputs": [],
   "source": [
    "def driver(env, car):\n",
    "    yield env.timeout(3)\n",
    "    car.action.interrupt()\n",
    "    yield env.timeout(6)\n",
    "    car.action.interrupt()"
   ]
  },
  {
   "cell_type": "code",
   "execution_count": null,
   "metadata": {},
   "outputs": [],
   "source": [
    "class Car(object):\n",
    "    def __init__(self, env):\n",
    "        self.env = env\n",
    "        self.action = env.process(self.run())\n",
    "\n",
    "    def run(self):\n",
    "        trip_duration = 2\n",
    "        charge_duration = 5\n",
    "        while True:\n",
    "            print('Start parking and charging at %d' % self.env.now)\n",
    "            # We may get interrupted while charging the battery\n",
    "            try:\n",
    "                yield self.env.process(self.charge(charge_duration))\n",
    "            except simpy.Interrupt:\n",
    "                # When we received an interrupt, we stop charing and\n",
    "                # switch to the \"driving\" state\n",
    "                print('Was interrupted! Hope, the battery is full enough...')\n",
    "\n",
    "            print('Start driving at %d' % self.env.now)\n",
    "            yield self.env.timeout(trip_duration)\n",
    "\n",
    "    def charge(self, duration):\n",
    "        yield self.env.timeout(duration)"
   ]
  },
  {
   "cell_type": "code",
   "execution_count": null,
   "metadata": {},
   "outputs": [],
   "source": [
    "env = simpy.Environment()\n",
    "car = Car(env)\n",
    "env.process(driver(env, car))"
   ]
  },
  {
   "cell_type": "code",
   "execution_count": null,
   "metadata": {},
   "outputs": [],
   "source": [
    "env.run(until=50)"
   ]
  }
 ],
 "metadata": {
  "anaconda-cloud": {},
  "kernelspec": {
   "display_name": "Python 3",
   "language": "python",
   "name": "python3"
  },
  "language_info": {
   "codemirror_mode": {
    "name": "ipython",
    "version": 3
   },
   "file_extension": ".py",
   "mimetype": "text/x-python",
   "name": "python",
   "nbconvert_exporter": "python",
   "pygments_lexer": "ipython3",
   "version": "3.8.8"
  },
  "toc": {
   "base_numbering": 1,
   "nav_menu": {},
   "number_sections": true,
   "sideBar": true,
   "skip_h1_title": false,
   "title_cell": "Table of Contents",
   "title_sidebar": "Contents",
   "toc_cell": false,
   "toc_position": {},
   "toc_section_display": true,
   "toc_window_display": false
  }
 },
 "nbformat": 4,
 "nbformat_minor": 4
}
