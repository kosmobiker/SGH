{
 "cells": [
  {
   "cell_type": "code",
   "execution_count": 1,
   "id": "87048d63-c0b3-46e2-8c9a-55dd10c674f4",
   "metadata": {},
   "outputs": [
    {
     "data": {
      "text/plain": [
       "TaskLocalRNG()"
      ]
     },
     "execution_count": 1,
     "metadata": {},
     "output_type": "execute_result"
    }
   ],
   "source": [
    "using Statistics\n",
    "using PyCall\n",
    "using Random\n",
    "using Plots\n",
    "using Distributions\n",
    "using HypothesisTests\n",
    "using Printf\n",
    "Random.seed!(1234)"
   ]
  },
  {
   "cell_type": "markdown",
   "id": "d2eb2879-ac14-4e26-a02f-8b4311c51555",
   "metadata": {},
   "source": [
    "## Zadanie 1\n",
    "\n",
    "Napisz funkcję `f(x, y)`, która liczy średnią z 1 000 000 000 (jeden miliard) liczb wylosowanych z rozkładu normalnego o średniej x i odchyleniu standardowym y. Uruchom tę funkcję dla: \n",
    "\n",
    "x=numeryczna_część_numeru_indeksu \n",
    "\n",
    "y=1/numeryczna_część_numeru_indeksu "
   ]
  },
  {
   "cell_type": "code",
   "execution_count": 2,
   "id": "b6248d19-8330-4ff4-be42-6c33c63f65d0",
   "metadata": {},
   "outputs": [
    {
     "data": {
      "text/plain": [
       "f (generic function with 1 method)"
      ]
     },
     "execution_count": 2,
     "metadata": {},
     "output_type": "execute_result"
    }
   ],
   "source": [
    "function f(x,y)  \n",
    "    return mean(rand(Normal(x, y), 1) for n=1:1_000_000_000)\n",
    "end"
   ]
  },
  {
   "cell_type": "code",
   "execution_count": 3,
   "id": "11a7b6ab-0f9f-4ed1-bc2c-9631d7ca58c0",
   "metadata": {},
   "outputs": [
    {
     "name": "stdout",
     "output_type": "stream",
     "text": [
      "109.890533 seconds (2.00 G allocations: 119.209 GiB, 12.46% gc time)\n"
     ]
    },
    {
     "data": {
      "text/plain": [
       "1-element Vector{Float64}:\n",
       " 108519.0"
      ]
     },
     "execution_count": 3,
     "metadata": {},
     "output_type": "execute_result"
    }
   ],
   "source": [
    "@time f(108519,1/108519)"
   ]
  },
  {
   "cell_type": "markdown",
   "id": "e3a9aa89-0111-4aa9-8adc-9177d592db49",
   "metadata": {},
   "source": [
    "## Zadanie 2\n",
    "\n",
    "Wylosuj 1000 liczb ze rozkładu jednostajnego na przedziale [1, 10]. Narysuj ich histogram: "
   ]
  },
  {
   "cell_type": "code",
   "execution_count": 4,
   "id": "7937ce8e-0afb-45ab-a947-0e07773da8d8",
   "metadata": {},
   "outputs": [
    {
     "data": {
      "image/svg+xml": [
       "<?xml version=\"1.0\" encoding=\"utf-8\"?>\n",
       "<svg xmlns=\"http://www.w3.org/2000/svg\" xmlns:xlink=\"http://www.w3.org/1999/xlink\" width=\"600\" height=\"400\" viewBox=\"0 0 2400 1600\">\n",
       "<defs>\n",
       "  <clipPath id=\"clip030\">\n",
       "    <rect x=\"0\" y=\"0\" width=\"2400\" height=\"1600\"/>\n",
       "  </clipPath>\n",
       "</defs>\n",
       "<path clip-path=\"url(#clip030)\" d=\"\n",
       "M0 1600 L2400 1600 L2400 0 L0 0  Z\n",
       "  \" fill=\"#ffffff\" fill-rule=\"evenodd\" fill-opacity=\"1\"/>\n",
       "<defs>\n",
       "  <clipPath id=\"clip031\">\n",
       "    <rect x=\"480\" y=\"0\" width=\"1681\" height=\"1600\"/>\n",
       "  </clipPath>\n",
       "</defs>\n",
       "<path clip-path=\"url(#clip030)\" d=\"\n",
       "M169.121 1486.45 L2352.76 1486.45 L2352.76 47.2441 L169.121 47.2441  Z\n",
       "  \" fill=\"#ffffff\" fill-rule=\"evenodd\" fill-opacity=\"1\"/>\n",
       "<defs>\n",
       "  <clipPath id=\"clip032\">\n",
       "    <rect x=\"169\" y=\"47\" width=\"2185\" height=\"1440\"/>\n",
       "  </clipPath>\n",
       "</defs>\n",
       "<polyline clip-path=\"url(#clip032)\" style=\"stroke:#000000; stroke-linecap:butt; stroke-linejoin:round; stroke-width:2; stroke-opacity:0.1; fill:none\" points=\"\n",
       "  483.568,1486.45 483.568,47.2441 \n",
       "  \"/>\n",
       "<polyline clip-path=\"url(#clip032)\" style=\"stroke:#000000; stroke-linecap:butt; stroke-linejoin:round; stroke-width:2; stroke-opacity:0.1; fill:none\" points=\"\n",
       "  872.253,1486.45 872.253,47.2441 \n",
       "  \"/>\n",
       "<polyline clip-path=\"url(#clip032)\" style=\"stroke:#000000; stroke-linecap:butt; stroke-linejoin:round; stroke-width:2; stroke-opacity:0.1; fill:none\" points=\"\n",
       "  1260.94,1486.45 1260.94,47.2441 \n",
       "  \"/>\n",
       "<polyline clip-path=\"url(#clip032)\" style=\"stroke:#000000; stroke-linecap:butt; stroke-linejoin:round; stroke-width:2; stroke-opacity:0.1; fill:none\" points=\"\n",
       "  1649.62,1486.45 1649.62,47.2441 \n",
       "  \"/>\n",
       "<polyline clip-path=\"url(#clip032)\" style=\"stroke:#000000; stroke-linecap:butt; stroke-linejoin:round; stroke-width:2; stroke-opacity:0.1; fill:none\" points=\"\n",
       "  2038.31,1486.45 2038.31,47.2441 \n",
       "  \"/>\n",
       "<polyline clip-path=\"url(#clip030)\" style=\"stroke:#000000; stroke-linecap:butt; stroke-linejoin:round; stroke-width:4; stroke-opacity:1; fill:none\" points=\"\n",
       "  169.121,1486.45 2352.76,1486.45 \n",
       "  \"/>\n",
       "<polyline clip-path=\"url(#clip030)\" style=\"stroke:#000000; stroke-linecap:butt; stroke-linejoin:round; stroke-width:4; stroke-opacity:1; fill:none\" points=\"\n",
       "  483.568,1486.45 483.568,1467.55 \n",
       "  \"/>\n",
       "<polyline clip-path=\"url(#clip030)\" style=\"stroke:#000000; stroke-linecap:butt; stroke-linejoin:round; stroke-width:4; stroke-opacity:1; fill:none\" points=\"\n",
       "  872.253,1486.45 872.253,1467.55 \n",
       "  \"/>\n",
       "<polyline clip-path=\"url(#clip030)\" style=\"stroke:#000000; stroke-linecap:butt; stroke-linejoin:round; stroke-width:4; stroke-opacity:1; fill:none\" points=\"\n",
       "  1260.94,1486.45 1260.94,1467.55 \n",
       "  \"/>\n",
       "<polyline clip-path=\"url(#clip030)\" style=\"stroke:#000000; stroke-linecap:butt; stroke-linejoin:round; stroke-width:4; stroke-opacity:1; fill:none\" points=\"\n",
       "  1649.62,1486.45 1649.62,1467.55 \n",
       "  \"/>\n",
       "<polyline clip-path=\"url(#clip030)\" style=\"stroke:#000000; stroke-linecap:butt; stroke-linejoin:round; stroke-width:4; stroke-opacity:1; fill:none\" points=\"\n",
       "  2038.31,1486.45 2038.31,1467.55 \n",
       "  \"/>\n",
       "<path clip-path=\"url(#clip030)\" d=\"M478.221 1544.91 L494.54 1544.91 L494.54 1548.85 L472.596 1548.85 L472.596 1544.91 Q475.258 1542.16 479.841 1537.53 Q484.447 1532.88 485.628 1531.53 Q487.873 1529.01 488.753 1527.27 Q489.656 1525.51 489.656 1523.82 Q489.656 1521.07 487.711 1519.33 Q485.79 1517.6 482.688 1517.6 Q480.489 1517.6 478.035 1518.36 Q475.605 1519.13 472.827 1520.68 L472.827 1515.95 Q475.651 1514.82 478.105 1514.24 Q480.559 1513.66 482.596 1513.66 Q487.966 1513.66 491.16 1516.35 Q494.355 1519.03 494.355 1523.52 Q494.355 1525.65 493.545 1527.57 Q492.758 1529.47 490.651 1532.07 Q490.072 1532.74 486.971 1535.95 Q483.869 1539.15 478.221 1544.91 Z\" fill=\"#000000\" fill-rule=\"evenodd\" fill-opacity=\"1\" /><path clip-path=\"url(#clip030)\" d=\"M875.262 1518.36 L863.457 1536.81 L875.262 1536.81 L875.262 1518.36 M874.036 1514.29 L879.915 1514.29 L879.915 1536.81 L884.846 1536.81 L884.846 1540.7 L879.915 1540.7 L879.915 1548.85 L875.262 1548.85 L875.262 1540.7 L859.661 1540.7 L859.661 1536.19 L874.036 1514.29 Z\" fill=\"#000000\" fill-rule=\"evenodd\" fill-opacity=\"1\" /><path clip-path=\"url(#clip030)\" d=\"M1261.34 1529.7 Q1258.2 1529.7 1256.34 1531.86 Q1254.52 1534.01 1254.52 1537.76 Q1254.52 1541.49 1256.34 1543.66 Q1258.2 1545.82 1261.34 1545.82 Q1264.49 1545.82 1266.32 1543.66 Q1268.17 1541.49 1268.17 1537.76 Q1268.17 1534.01 1266.32 1531.86 Q1264.49 1529.7 1261.34 1529.7 M1270.63 1515.05 L1270.63 1519.31 Q1268.87 1518.48 1267.06 1518.04 Q1265.28 1517.6 1263.52 1517.6 Q1258.89 1517.6 1256.44 1520.72 Q1254.01 1523.85 1253.66 1530.17 Q1255.02 1528.15 1257.08 1527.09 Q1259.14 1526 1261.62 1526 Q1266.83 1526 1269.84 1529.17 Q1272.87 1532.32 1272.87 1537.76 Q1272.87 1543.08 1269.72 1546.3 Q1266.58 1549.52 1261.34 1549.52 Q1255.35 1549.52 1252.18 1544.94 Q1249.01 1540.33 1249.01 1531.6 Q1249.01 1523.41 1252.89 1518.55 Q1256.78 1513.66 1263.33 1513.66 Q1265.09 1513.66 1266.88 1514.01 Q1268.68 1514.36 1270.63 1515.05 Z\" fill=\"#000000\" fill-rule=\"evenodd\" fill-opacity=\"1\" /><path clip-path=\"url(#clip030)\" d=\"M1649.62 1532.44 Q1646.29 1532.44 1644.37 1534.22 Q1642.47 1536 1642.47 1539.13 Q1642.47 1542.25 1644.37 1544.03 Q1646.29 1545.82 1649.62 1545.82 Q1652.96 1545.82 1654.88 1544.03 Q1656.8 1542.23 1656.8 1539.13 Q1656.8 1536 1654.88 1534.22 Q1652.98 1532.44 1649.62 1532.44 M1644.95 1530.45 Q1641.94 1529.7 1640.25 1527.64 Q1638.58 1525.58 1638.58 1522.62 Q1638.58 1518.48 1641.52 1516.07 Q1644.49 1513.66 1649.62 1513.66 Q1654.79 1513.66 1657.73 1516.07 Q1660.67 1518.48 1660.67 1522.62 Q1660.67 1525.58 1658.98 1527.64 Q1657.31 1529.7 1654.32 1530.45 Q1657.7 1531.23 1659.58 1533.52 Q1661.48 1535.82 1661.48 1539.13 Q1661.48 1544.15 1658.4 1546.83 Q1655.34 1549.52 1649.62 1549.52 Q1643.91 1549.52 1640.83 1546.83 Q1637.77 1544.15 1637.77 1539.13 Q1637.77 1535.82 1639.67 1533.52 Q1641.57 1531.23 1644.95 1530.45 M1643.24 1523.06 Q1643.24 1525.75 1644.9 1527.25 Q1646.59 1528.76 1649.62 1528.76 Q1652.63 1528.76 1654.32 1527.25 Q1656.04 1525.75 1656.04 1523.06 Q1656.04 1520.38 1654.32 1518.87 Q1652.63 1517.37 1649.62 1517.37 Q1646.59 1517.37 1644.9 1518.87 Q1643.24 1520.38 1643.24 1523.06 Z\" fill=\"#000000\" fill-rule=\"evenodd\" fill-opacity=\"1\" /><path clip-path=\"url(#clip030)\" d=\"M2013 1544.91 L2020.64 1544.91 L2020.64 1518.55 L2012.33 1520.21 L2012.33 1515.95 L2020.59 1514.29 L2025.27 1514.29 L2025.27 1544.91 L2032.9 1544.91 L2032.9 1548.85 L2013 1548.85 L2013 1544.91 Z\" fill=\"#000000\" fill-rule=\"evenodd\" fill-opacity=\"1\" /><path clip-path=\"url(#clip030)\" d=\"M2052.35 1517.37 Q2048.74 1517.37 2046.91 1520.93 Q2045.1 1524.47 2045.1 1531.6 Q2045.1 1538.71 2046.91 1542.27 Q2048.74 1545.82 2052.35 1545.82 Q2055.98 1545.82 2057.79 1542.27 Q2059.62 1538.71 2059.62 1531.6 Q2059.62 1524.47 2057.79 1520.93 Q2055.98 1517.37 2052.35 1517.37 M2052.35 1513.66 Q2058.16 1513.66 2061.21 1518.27 Q2064.29 1522.85 2064.29 1531.6 Q2064.29 1540.33 2061.21 1544.94 Q2058.16 1549.52 2052.35 1549.52 Q2046.54 1549.52 2043.46 1544.94 Q2040.4 1540.33 2040.4 1531.6 Q2040.4 1522.85 2043.46 1518.27 Q2046.54 1513.66 2052.35 1513.66 Z\" fill=\"#000000\" fill-rule=\"evenodd\" fill-opacity=\"1\" /><polyline clip-path=\"url(#clip032)\" style=\"stroke:#000000; stroke-linecap:butt; stroke-linejoin:round; stroke-width:2; stroke-opacity:0.1; fill:none\" points=\"\n",
       "  169.121,1445.72 2352.76,1445.72 \n",
       "  \"/>\n",
       "<polyline clip-path=\"url(#clip032)\" style=\"stroke:#000000; stroke-linecap:butt; stroke-linejoin:round; stroke-width:2; stroke-opacity:0.1; fill:none\" points=\"\n",
       "  169.121,1162.85 2352.76,1162.85 \n",
       "  \"/>\n",
       "<polyline clip-path=\"url(#clip032)\" style=\"stroke:#000000; stroke-linecap:butt; stroke-linejoin:round; stroke-width:2; stroke-opacity:0.1; fill:none\" points=\"\n",
       "  169.121,879.991 2352.76,879.991 \n",
       "  \"/>\n",
       "<polyline clip-path=\"url(#clip032)\" style=\"stroke:#000000; stroke-linecap:butt; stroke-linejoin:round; stroke-width:2; stroke-opacity:0.1; fill:none\" points=\"\n",
       "  169.121,597.129 2352.76,597.129 \n",
       "  \"/>\n",
       "<polyline clip-path=\"url(#clip032)\" style=\"stroke:#000000; stroke-linecap:butt; stroke-linejoin:round; stroke-width:2; stroke-opacity:0.1; fill:none\" points=\"\n",
       "  169.121,314.266 2352.76,314.266 \n",
       "  \"/>\n",
       "<polyline clip-path=\"url(#clip030)\" style=\"stroke:#000000; stroke-linecap:butt; stroke-linejoin:round; stroke-width:4; stroke-opacity:1; fill:none\" points=\"\n",
       "  169.121,1486.45 169.121,47.2441 \n",
       "  \"/>\n",
       "<polyline clip-path=\"url(#clip030)\" style=\"stroke:#000000; stroke-linecap:butt; stroke-linejoin:round; stroke-width:4; stroke-opacity:1; fill:none\" points=\"\n",
       "  169.121,1445.72 188.019,1445.72 \n",
       "  \"/>\n",
       "<polyline clip-path=\"url(#clip030)\" style=\"stroke:#000000; stroke-linecap:butt; stroke-linejoin:round; stroke-width:4; stroke-opacity:1; fill:none\" points=\"\n",
       "  169.121,1162.85 188.019,1162.85 \n",
       "  \"/>\n",
       "<polyline clip-path=\"url(#clip030)\" style=\"stroke:#000000; stroke-linecap:butt; stroke-linejoin:round; stroke-width:4; stroke-opacity:1; fill:none\" points=\"\n",
       "  169.121,879.991 188.019,879.991 \n",
       "  \"/>\n",
       "<polyline clip-path=\"url(#clip030)\" style=\"stroke:#000000; stroke-linecap:butt; stroke-linejoin:round; stroke-width:4; stroke-opacity:1; fill:none\" points=\"\n",
       "  169.121,597.129 188.019,597.129 \n",
       "  \"/>\n",
       "<polyline clip-path=\"url(#clip030)\" style=\"stroke:#000000; stroke-linecap:butt; stroke-linejoin:round; stroke-width:4; stroke-opacity:1; fill:none\" points=\"\n",
       "  169.121,314.266 188.019,314.266 \n",
       "  \"/>\n",
       "<path clip-path=\"url(#clip030)\" d=\"M121.177 1431.51 Q117.566 1431.51 115.737 1435.08 Q113.932 1438.62 113.932 1445.75 Q113.932 1452.86 115.737 1456.42 Q117.566 1459.96 121.177 1459.96 Q124.811 1459.96 126.617 1456.42 Q128.445 1452.86 128.445 1445.75 Q128.445 1438.62 126.617 1435.08 Q124.811 1431.51 121.177 1431.51 M121.177 1427.81 Q126.987 1427.81 130.043 1432.42 Q133.121 1437 133.121 1445.75 Q133.121 1454.48 130.043 1459.08 Q126.987 1463.67 121.177 1463.67 Q115.367 1463.67 112.288 1459.08 Q109.233 1454.48 109.233 1445.75 Q109.233 1437 112.288 1432.42 Q115.367 1427.81 121.177 1427.81 Z\" fill=\"#000000\" fill-rule=\"evenodd\" fill-opacity=\"1\" /><path clip-path=\"url(#clip030)\" d=\"M86.0382 1176.2 L102.358 1176.2 L102.358 1180.13 L80.4133 1180.13 L80.4133 1176.2 Q83.0753 1173.44 87.6586 1168.81 Q92.2651 1164.16 93.4456 1162.82 Q95.691 1160.3 96.5706 1158.56 Q97.4734 1156.8 97.4734 1155.11 Q97.4734 1152.36 95.5289 1150.62 Q93.6076 1148.88 90.5058 1148.88 Q88.3067 1148.88 85.8531 1149.65 Q83.4225 1150.41 80.6447 1151.96 L80.6447 1147.24 Q83.4688 1146.11 85.9225 1145.53 Q88.3762 1144.95 90.4132 1144.95 Q95.7836 1144.95 98.978 1147.63 Q102.172 1150.32 102.172 1154.81 Q102.172 1156.94 101.362 1158.86 Q100.575 1160.76 98.4687 1163.35 Q97.89 1164.02 94.7882 1167.24 Q91.6864 1170.43 86.0382 1176.2 Z\" fill=\"#000000\" fill-rule=\"evenodd\" fill-opacity=\"1\" /><path clip-path=\"url(#clip030)\" d=\"M112.219 1145.57 L130.575 1145.57 L130.575 1149.51 L116.501 1149.51 L116.501 1157.98 Q117.52 1157.63 118.538 1157.47 Q119.557 1157.29 120.575 1157.29 Q126.362 1157.29 129.742 1160.46 Q133.121 1163.63 133.121 1169.05 Q133.121 1174.62 129.649 1177.73 Q126.177 1180.8 119.857 1180.8 Q117.682 1180.8 115.413 1180.43 Q113.168 1180.06 110.76 1179.32 L110.76 1174.62 Q112.844 1175.76 115.066 1176.31 Q117.288 1176.87 119.765 1176.87 Q123.77 1176.87 126.107 1174.76 Q128.445 1172.66 128.445 1169.05 Q128.445 1165.43 126.107 1163.33 Q123.77 1161.22 119.765 1161.22 Q117.89 1161.22 116.015 1161.64 Q114.163 1162.05 112.219 1162.93 L112.219 1145.57 Z\" fill=\"#000000\" fill-rule=\"evenodd\" fill-opacity=\"1\" /><path clip-path=\"url(#clip030)\" d=\"M81.0614 862.711 L99.4178 862.711 L99.4178 866.646 L85.3438 866.646 L85.3438 875.118 Q86.3623 874.771 87.3808 874.609 Q88.3993 874.424 89.4178 874.424 Q95.2049 874.424 98.5845 877.595 Q101.964 880.766 101.964 886.183 Q101.964 891.762 98.4919 894.864 Q95.0197 897.942 88.7003 897.942 Q86.5243 897.942 84.2558 897.572 Q82.0105 897.201 79.6031 896.461 L79.6031 891.762 Q81.6864 892.896 83.9086 893.452 Q86.1308 894.007 88.6077 894.007 Q92.6123 894.007 94.9502 891.901 Q97.2882 889.794 97.2882 886.183 Q97.2882 882.572 94.9502 880.465 Q92.6123 878.359 88.6077 878.359 Q86.7327 878.359 84.8577 878.776 Q83.0058 879.192 81.0614 880.072 L81.0614 862.711 Z\" fill=\"#000000\" fill-rule=\"evenodd\" fill-opacity=\"1\" /><path clip-path=\"url(#clip030)\" d=\"M121.177 865.79 Q117.566 865.79 115.737 869.354 Q113.932 872.896 113.932 880.026 Q113.932 887.132 115.737 890.697 Q117.566 894.239 121.177 894.239 Q124.811 894.239 126.617 890.697 Q128.445 887.132 128.445 880.026 Q128.445 872.896 126.617 869.354 Q124.811 865.79 121.177 865.79 M121.177 862.086 Q126.987 862.086 130.043 866.692 Q133.121 871.276 133.121 880.026 Q133.121 888.752 130.043 893.359 Q126.987 897.942 121.177 897.942 Q115.367 897.942 112.288 893.359 Q109.233 888.752 109.233 880.026 Q109.233 871.276 112.288 866.692 Q115.367 862.086 121.177 862.086 Z\" fill=\"#000000\" fill-rule=\"evenodd\" fill-opacity=\"1\" /><path clip-path=\"url(#clip030)\" d=\"M80.8299 579.849 L103.052 579.849 L103.052 581.839 L90.5058 614.409 L85.6216 614.409 L97.4271 583.784 L80.8299 583.784 L80.8299 579.849 Z\" fill=\"#000000\" fill-rule=\"evenodd\" fill-opacity=\"1\" /><path clip-path=\"url(#clip030)\" d=\"M112.219 579.849 L130.575 579.849 L130.575 583.784 L116.501 583.784 L116.501 592.256 Q117.52 591.909 118.538 591.747 Q119.557 591.561 120.575 591.561 Q126.362 591.561 129.742 594.733 Q133.121 597.904 133.121 603.321 Q133.121 608.899 129.649 612.001 Q126.177 615.08 119.857 615.08 Q117.682 615.08 115.413 614.709 Q113.168 614.339 110.76 613.598 L110.76 608.899 Q112.844 610.034 115.066 610.589 Q117.288 611.145 119.765 611.145 Q123.77 611.145 126.107 609.038 Q128.445 606.932 128.445 603.321 Q128.445 599.71 126.107 597.603 Q123.77 595.497 119.765 595.497 Q117.89 595.497 116.015 595.913 Q114.163 596.33 112.219 597.21 L112.219 579.849 Z\" fill=\"#000000\" fill-rule=\"evenodd\" fill-opacity=\"1\" /><path clip-path=\"url(#clip030)\" d=\"M51.6634 327.611 L59.3023 327.611 L59.3023 301.245 L50.9921 302.912 L50.9921 298.653 L59.256 296.986 L63.9319 296.986 L63.9319 327.611 L71.5707 327.611 L71.5707 331.546 L51.6634 331.546 L51.6634 327.611 Z\" fill=\"#000000\" fill-rule=\"evenodd\" fill-opacity=\"1\" /><path clip-path=\"url(#clip030)\" d=\"M91.0151 300.065 Q87.404 300.065 85.5753 303.63 Q83.7697 307.171 83.7697 314.301 Q83.7697 321.407 85.5753 324.972 Q87.404 328.514 91.0151 328.514 Q94.6493 328.514 96.4548 324.972 Q98.2835 321.407 98.2835 314.301 Q98.2835 307.171 96.4548 303.63 Q94.6493 300.065 91.0151 300.065 M91.0151 296.361 Q96.8252 296.361 99.8808 300.968 Q102.959 305.551 102.959 314.301 Q102.959 323.028 99.8808 327.634 Q96.8252 332.217 91.0151 332.217 Q85.2049 332.217 82.1262 327.634 Q79.0707 323.028 79.0707 314.301 Q79.0707 305.551 82.1262 300.968 Q85.2049 296.361 91.0151 296.361 Z\" fill=\"#000000\" fill-rule=\"evenodd\" fill-opacity=\"1\" /><path clip-path=\"url(#clip030)\" d=\"M121.177 300.065 Q117.566 300.065 115.737 303.63 Q113.932 307.171 113.932 314.301 Q113.932 321.407 115.737 324.972 Q117.566 328.514 121.177 328.514 Q124.811 328.514 126.617 324.972 Q128.445 321.407 128.445 314.301 Q128.445 307.171 126.617 303.63 Q124.811 300.065 121.177 300.065 M121.177 296.361 Q126.987 296.361 130.043 300.968 Q133.121 305.551 133.121 314.301 Q133.121 323.028 130.043 327.634 Q126.987 332.217 121.177 332.217 Q115.367 332.217 112.288 327.634 Q109.233 323.028 109.233 314.301 Q109.233 305.551 112.288 300.968 Q115.367 296.361 121.177 296.361 Z\" fill=\"#000000\" fill-rule=\"evenodd\" fill-opacity=\"1\" /><path clip-path=\"url(#clip032)\" d=\"\n",
       "M289.225 404.782 L289.225 1445.72 L483.568 1445.72 L483.568 404.782 L289.225 404.782 L289.225 404.782  Z\n",
       "  \" fill=\"#00ff00\" fill-rule=\"evenodd\" fill-opacity=\"1\"/>\n",
       "<polyline clip-path=\"url(#clip032)\" style=\"stroke:#000000; stroke-linecap:butt; stroke-linejoin:round; stroke-width:4; stroke-opacity:1; fill:none\" points=\"\n",
       "  289.225,404.782 289.225,1445.72 483.568,1445.72 483.568,404.782 289.225,404.782 \n",
       "  \"/>\n",
       "<path clip-path=\"url(#clip032)\" d=\"\n",
       "M483.568 416.097 L483.568 1445.72 L677.911 1445.72 L677.911 416.097 L483.568 416.097 L483.568 416.097  Z\n",
       "  \" fill=\"#00ff00\" fill-rule=\"evenodd\" fill-opacity=\"1\"/>\n",
       "<polyline clip-path=\"url(#clip032)\" style=\"stroke:#000000; stroke-linecap:butt; stroke-linejoin:round; stroke-width:4; stroke-opacity:1; fill:none\" points=\"\n",
       "  483.568,416.097 483.568,1445.72 677.911,1445.72 677.911,416.097 483.568,416.097 \n",
       "  \"/>\n",
       "<path clip-path=\"url(#clip032)\" d=\"\n",
       "M677.911 212.436 L677.911 1445.72 L872.253 1445.72 L872.253 212.436 L677.911 212.436 L677.911 212.436  Z\n",
       "  \" fill=\"#00ff00\" fill-rule=\"evenodd\" fill-opacity=\"1\"/>\n",
       "<polyline clip-path=\"url(#clip032)\" style=\"stroke:#000000; stroke-linecap:butt; stroke-linejoin:round; stroke-width:4; stroke-opacity:1; fill:none\" points=\"\n",
       "  677.911,212.436 677.911,1445.72 872.253,1445.72 872.253,212.436 677.911,212.436 \n",
       "  \"/>\n",
       "<path clip-path=\"url(#clip032)\" d=\"\n",
       "M872.253 235.065 L872.253 1445.72 L1066.6 1445.72 L1066.6 235.065 L872.253 235.065 L872.253 235.065  Z\n",
       "  \" fill=\"#00ff00\" fill-rule=\"evenodd\" fill-opacity=\"1\"/>\n",
       "<polyline clip-path=\"url(#clip032)\" style=\"stroke:#000000; stroke-linecap:butt; stroke-linejoin:round; stroke-width:4; stroke-opacity:1; fill:none\" points=\"\n",
       "  872.253,235.065 872.253,1445.72 1066.6,1445.72 1066.6,235.065 872.253,235.065 \n",
       "  \"/>\n",
       "<path clip-path=\"url(#clip032)\" d=\"\n",
       "M1066.6 223.75 L1066.6 1445.72 L1260.94 1445.72 L1260.94 223.75 L1066.6 223.75 L1066.6 223.75  Z\n",
       "  \" fill=\"#00ff00\" fill-rule=\"evenodd\" fill-opacity=\"1\"/>\n",
       "<polyline clip-path=\"url(#clip032)\" style=\"stroke:#000000; stroke-linecap:butt; stroke-linejoin:round; stroke-width:4; stroke-opacity:1; fill:none\" points=\"\n",
       "  1066.6,223.75 1066.6,1445.72 1260.94,1445.72 1260.94,223.75 1066.6,223.75 \n",
       "  \"/>\n",
       "<path clip-path=\"url(#clip032)\" d=\"\n",
       "M1260.94 461.355 L1260.94 1445.72 L1455.28 1445.72 L1455.28 461.355 L1260.94 461.355 L1260.94 461.355  Z\n",
       "  \" fill=\"#00ff00\" fill-rule=\"evenodd\" fill-opacity=\"1\"/>\n",
       "<polyline clip-path=\"url(#clip032)\" style=\"stroke:#000000; stroke-linecap:butt; stroke-linejoin:round; stroke-width:4; stroke-opacity:1; fill:none\" points=\"\n",
       "  1260.94,461.355 1260.94,1445.72 1455.28,1445.72 1455.28,461.355 1260.94,461.355 \n",
       "  \"/>\n",
       "<path clip-path=\"url(#clip032)\" d=\"\n",
       "M1455.28 87.9763 L1455.28 1445.72 L1649.62 1445.72 L1649.62 87.9763 L1455.28 87.9763 L1455.28 87.9763  Z\n",
       "  \" fill=\"#00ff00\" fill-rule=\"evenodd\" fill-opacity=\"1\"/>\n",
       "<polyline clip-path=\"url(#clip032)\" style=\"stroke:#000000; stroke-linecap:butt; stroke-linejoin:round; stroke-width:4; stroke-opacity:1; fill:none\" points=\"\n",
       "  1455.28,87.9763 1455.28,1445.72 1649.62,1445.72 1649.62,87.9763 1455.28,87.9763 \n",
       "  \"/>\n",
       "<path clip-path=\"url(#clip032)\" d=\"\n",
       "M1649.62 302.952 L1649.62 1445.72 L1843.97 1445.72 L1843.97 302.952 L1649.62 302.952 L1649.62 302.952  Z\n",
       "  \" fill=\"#00ff00\" fill-rule=\"evenodd\" fill-opacity=\"1\"/>\n",
       "<polyline clip-path=\"url(#clip032)\" style=\"stroke:#000000; stroke-linecap:butt; stroke-linejoin:round; stroke-width:4; stroke-opacity:1; fill:none\" points=\"\n",
       "  1649.62,302.952 1649.62,1445.72 1843.97,1445.72 1843.97,302.952 1649.62,302.952 \n",
       "  \"/>\n",
       "<path clip-path=\"url(#clip032)\" d=\"\n",
       "M1843.97 472.669 L1843.97 1445.72 L2038.31 1445.72 L2038.31 472.669 L1843.97 472.669 L1843.97 472.669  Z\n",
       "  \" fill=\"#00ff00\" fill-rule=\"evenodd\" fill-opacity=\"1\"/>\n",
       "<polyline clip-path=\"url(#clip032)\" style=\"stroke:#000000; stroke-linecap:butt; stroke-linejoin:round; stroke-width:4; stroke-opacity:1; fill:none\" points=\"\n",
       "  1843.97,472.669 1843.97,1445.72 2038.31,1445.72 2038.31,472.669 1843.97,472.669 \n",
       "  \"/>\n",
       "<path clip-path=\"url(#clip032)\" d=\"\n",
       "M2038.31 325.581 L2038.31 1445.72 L2232.65 1445.72 L2232.65 325.581 L2038.31 325.581 L2038.31 325.581  Z\n",
       "  \" fill=\"#00ff00\" fill-rule=\"evenodd\" fill-opacity=\"1\"/>\n",
       "<polyline clip-path=\"url(#clip032)\" style=\"stroke:#000000; stroke-linecap:butt; stroke-linejoin:round; stroke-width:4; stroke-opacity:1; fill:none\" points=\"\n",
       "  2038.31,325.581 2038.31,1445.72 2232.65,1445.72 2232.65,325.581 2038.31,325.581 \n",
       "  \"/>\n",
       "<circle clip-path=\"url(#clip032)\" style=\"fill:#00ff00; stroke:none; fill-opacity:0\" cx=\"386.396\" cy=\"404.782\" r=\"2\"/>\n",
       "<circle clip-path=\"url(#clip032)\" style=\"fill:#00ff00; stroke:none; fill-opacity:0\" cx=\"580.739\" cy=\"416.097\" r=\"2\"/>\n",
       "<circle clip-path=\"url(#clip032)\" style=\"fill:#00ff00; stroke:none; fill-opacity:0\" cx=\"775.082\" cy=\"212.436\" r=\"2\"/>\n",
       "<circle clip-path=\"url(#clip032)\" style=\"fill:#00ff00; stroke:none; fill-opacity:0\" cx=\"969.425\" cy=\"235.065\" r=\"2\"/>\n",
       "<circle clip-path=\"url(#clip032)\" style=\"fill:#00ff00; stroke:none; fill-opacity:0\" cx=\"1163.77\" cy=\"223.75\" r=\"2\"/>\n",
       "<circle clip-path=\"url(#clip032)\" style=\"fill:#00ff00; stroke:none; fill-opacity:0\" cx=\"1358.11\" cy=\"461.355\" r=\"2\"/>\n",
       "<circle clip-path=\"url(#clip032)\" style=\"fill:#00ff00; stroke:none; fill-opacity:0\" cx=\"1552.45\" cy=\"87.9763\" r=\"2\"/>\n",
       "<circle clip-path=\"url(#clip032)\" style=\"fill:#00ff00; stroke:none; fill-opacity:0\" cx=\"1746.8\" cy=\"302.952\" r=\"2\"/>\n",
       "<circle clip-path=\"url(#clip032)\" style=\"fill:#00ff00; stroke:none; fill-opacity:0\" cx=\"1941.14\" cy=\"472.669\" r=\"2\"/>\n",
       "<circle clip-path=\"url(#clip032)\" style=\"fill:#00ff00; stroke:none; fill-opacity:0\" cx=\"2135.48\" cy=\"325.581\" r=\"2\"/>\n",
       "</svg>\n"
      ]
     },
     "execution_count": 4,
     "metadata": {},
     "output_type": "execute_result"
    }
   ],
   "source": [
    "histogram(rand(1:10, 1000), legend=false, color=\"lime\")"
   ]
  },
  {
   "cell_type": "markdown",
   "id": "0e54c2ab-07a7-49d6-a791-7aba0e68bafa",
   "metadata": {},
   "source": [
    "## Zadanie 3\n",
    "\n",
    "Wylosuj 64 liczb ze standardowego rozkładu normalnego. Wyznacz 95% przedział ufności dla średniej tych liczb dla 100000 powtórzeń próby bootstrapowej. "
   ]
  },
  {
   "cell_type": "code",
   "execution_count": 5,
   "id": "90d01b2e-8593-41fc-9b2f-7d8a5fc36701",
   "metadata": {},
   "outputs": [
    {
     "data": {
      "text/plain": [
       "f3 (generic function with 1 method)"
      ]
     },
     "execution_count": 5,
     "metadata": {},
     "output_type": "execute_result"
    }
   ],
   "source": [
    "function f3(r, q)\n",
    "# r - ilość powtórzeń , q - ilość liczb losowanych\n",
    "    x = rand(Normal(), q)\n",
    "    boot = [mean(rand(x, q)) for _ in 1:r]\n",
    "    quantile(boot, [0.025, 0.975])\n",
    "end"
   ]
  },
  {
   "cell_type": "code",
   "execution_count": 6,
   "id": "2cc61099-62b1-4f38-9a1f-056e30d356ae",
   "metadata": {},
   "outputs": [
    {
     "data": {
      "text/plain": [
       "2-element Vector{Float64}:\n",
       " -0.3523391440186076\n",
       "  0.16240332071879415"
      ]
     },
     "execution_count": 6,
     "metadata": {},
     "output_type": "execute_result"
    }
   ],
   "source": [
    "f3(100000, 64)"
   ]
  },
  {
   "cell_type": "markdown",
   "id": "56d8dba0-3239-44ea-a381-85f3efc410be",
   "metadata": {},
   "source": [
    "## Zadanie 4. \n",
    "\n",
    "Janek codziennie chodzi na targ, na którym handluje swoim towarem. Załóż, że jego dzienny utarg jest losowy i ma rozkład jednostajny na przedziale od 10 zł do 30 zł. Oblicz symulacyjnie jaka jest wartość oczekiwana liczby dni oczekiwania Janka na zgromadzenie przynajmniej 200 zł. "
   ]
  },
  {
   "cell_type": "code",
   "execution_count": 7,
   "id": "44ea77d1-a4ac-4f04-9066-1f98ea479296",
   "metadata": {},
   "outputs": [
    {
     "data": {
      "text/plain": [
       "esample (generic function with 1 method)"
      ]
     },
     "execution_count": 7,
     "metadata": {},
     "output_type": "execute_result"
    }
   ],
   "source": [
    "function esample()\n",
    "    i = 0\n",
    "    s = 0.0\n",
    "    while true\n",
    "        i += 1\n",
    "        s += rand(10:30)\n",
    "        s > 200 && return i\n",
    "    end\n",
    "end"
   ]
  },
  {
   "cell_type": "code",
   "execution_count": 8,
   "id": "f1b58f8a-82f0-4193-b70d-202cfb16f0f2",
   "metadata": {},
   "outputs": [
    {
     "data": {
      "text/plain": [
       "11"
      ]
     },
     "execution_count": 8,
     "metadata": {},
     "output_type": "execute_result"
    }
   ],
   "source": [
    "esample()"
   ]
  },
  {
   "cell_type": "code",
   "execution_count": null,
   "id": "8c635765-b5d4-4bb4-8a2d-19f8c5c48268",
   "metadata": {},
   "outputs": [],
   "source": []
  }
 ],
 "metadata": {
  "kernelspec": {
   "display_name": "Julia 1.7.1",
   "language": "julia",
   "name": "julia-1.7"
  },
  "language_info": {
   "file_extension": ".jl",
   "mimetype": "application/julia",
   "name": "julia",
   "version": "1.7.1"
  }
 },
 "nbformat": 4,
 "nbformat_minor": 5
}
