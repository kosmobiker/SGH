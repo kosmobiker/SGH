{
 "cells": [
  {
   "cell_type": "markdown",
   "id": "531486bf-4637-42b1-bbac-94ae5a3a0b5d",
   "metadata": {},
   "source": [
    "## Modelowanie Wieloagentowe\n",
    "\n",
    "## 2021/2022, semestr zimowy, studia sobotnio-niedzielne\n",
    "\n",
    "## Uladzislau Darhevich 108519\n",
    "\n",
    "[kontakt](mailto:ud108519@student.sgh.waw.pl)"
   ]
  },
  {
   "cell_type": "code",
   "execution_count": 1,
   "id": "c0f915fd-435b-4759-a957-ea2dd45f788a",
   "metadata": {},
   "outputs": [
    {
     "data": {
      "text/plain": [
       "MersenneTwister(1234)"
      ]
     },
     "execution_count": 1,
     "metadata": {},
     "output_type": "execute_result"
    }
   ],
   "source": [
    "using Statistics\n",
    "using PyCall\n",
    "using Random\n",
    "using Plots\n",
    "using Distributions\n",
    "using HypothesisTests\n",
    "using Printf\n",
    "Random.seed!(1234)"
   ]
  },
  {
   "cell_type": "markdown",
   "id": "05da3eb5-be40-4435-920c-bc8dd787b980",
   "metadata": {},
   "source": [
    "1. Napisz funkcję `f(x, y)`, która liczy średnią liczb od `1` do `x` ze skokiem `y`. Uruchom tę funkcję dla `x=numeryczna_część_numeru_indeksu` i `y=1/numeryczna_część_numeru_indeksu`"
   ]
  },
  {
   "cell_type": "code",
   "execution_count": 2,
   "id": "8c951cab-436d-494e-a9ec-955febb2a132",
   "metadata": {},
   "outputs": [
    {
     "data": {
      "text/plain": [
       "f (generic function with 1 method)"
      ]
     },
     "execution_count": 2,
     "metadata": {},
     "output_type": "execute_result"
    }
   ],
   "source": [
    "function f(x,y)\n",
    "    return mean(1:y:x)\n",
    "end"
   ]
  },
  {
   "cell_type": "code",
   "execution_count": 3,
   "id": "59d2b64d-8659-429c-8bb9-678f2dce820b",
   "metadata": {},
   "outputs": [
    {
     "data": {
      "text/plain": [
       "54260.0"
      ]
     },
     "execution_count": 3,
     "metadata": {},
     "output_type": "execute_result"
    }
   ],
   "source": [
    "n_index = 108519\n",
    "res_julia = f(n_index, 1/n_index)\n",
    "res_julia"
   ]
  },
  {
   "cell_type": "markdown",
   "id": "81ad8495-ce34-450c-9fb6-de526f1b4c1a",
   "metadata": {},
   "source": [
    "2. Wylosuj 1000 liczb ze standardowego rozkładu normalnego. Narysuj ich histogram:"
   ]
  },
  {
   "cell_type": "code",
   "execution_count": 4,
   "id": "c7f05b57-bdf4-4376-9f2a-82384a2fec7d",
   "metadata": {},
   "outputs": [
    {
     "data": {
      "image/svg+xml": [
       "<?xml version=\"1.0\" encoding=\"utf-8\"?>\n",
       "<svg xmlns=\"http://www.w3.org/2000/svg\" xmlns:xlink=\"http://www.w3.org/1999/xlink\" width=\"600\" height=\"400\" viewBox=\"0 0 2400 1600\">\n",
       "<defs>\n",
       "  <clipPath id=\"clip760\">\n",
       "    <rect x=\"0\" y=\"0\" width=\"2400\" height=\"1600\"/>\n",
       "  </clipPath>\n",
       "</defs>\n",
       "<path clip-path=\"url(#clip760)\" d=\"\n",
       "M0 1600 L2400 1600 L2400 0 L0 0  Z\n",
       "  \" fill=\"#ffffff\" fill-rule=\"evenodd\" fill-opacity=\"1\"/>\n",
       "<defs>\n",
       "  <clipPath id=\"clip761\">\n",
       "    <rect x=\"480\" y=\"0\" width=\"1681\" height=\"1600\"/>\n",
       "  </clipPath>\n",
       "</defs>\n",
       "<path clip-path=\"url(#clip760)\" d=\"\n",
       "M170.857 1486.45 L2352.76 1486.45 L2352.76 47.2441 L170.857 47.2441  Z\n",
       "  \" fill=\"#ffffff\" fill-rule=\"evenodd\" fill-opacity=\"1\"/>\n",
       "<defs>\n",
       "  <clipPath id=\"clip762\">\n",
       "    <rect x=\"170\" y=\"47\" width=\"2183\" height=\"1440\"/>\n",
       "  </clipPath>\n",
       "</defs>\n",
       "<polyline clip-path=\"url(#clip762)\" style=\"stroke:#000000; stroke-linecap:butt; stroke-linejoin:round; stroke-width:2; stroke-opacity:0.1; fill:none\" points=\"\n",
       "  679.242,1486.45 679.242,47.2441 \n",
       "  \"/>\n",
       "<polyline clip-path=\"url(#clip762)\" style=\"stroke:#000000; stroke-linecap:butt; stroke-linejoin:round; stroke-width:2; stroke-opacity:0.1; fill:none\" points=\"\n",
       "  1197.08,1486.45 1197.08,47.2441 \n",
       "  \"/>\n",
       "<polyline clip-path=\"url(#clip762)\" style=\"stroke:#000000; stroke-linecap:butt; stroke-linejoin:round; stroke-width:2; stroke-opacity:0.1; fill:none\" points=\"\n",
       "  1714.91,1486.45 1714.91,47.2441 \n",
       "  \"/>\n",
       "<polyline clip-path=\"url(#clip762)\" style=\"stroke:#000000; stroke-linecap:butt; stroke-linejoin:round; stroke-width:2; stroke-opacity:0.1; fill:none\" points=\"\n",
       "  2232.75,1486.45 2232.75,47.2441 \n",
       "  \"/>\n",
       "<polyline clip-path=\"url(#clip760)\" style=\"stroke:#000000; stroke-linecap:butt; stroke-linejoin:round; stroke-width:4; stroke-opacity:1; fill:none\" points=\"\n",
       "  170.857,1486.45 2352.76,1486.45 \n",
       "  \"/>\n",
       "<polyline clip-path=\"url(#clip760)\" style=\"stroke:#000000; stroke-linecap:butt; stroke-linejoin:round; stroke-width:4; stroke-opacity:1; fill:none\" points=\"\n",
       "  679.242,1486.45 679.242,1467.55 \n",
       "  \"/>\n",
       "<polyline clip-path=\"url(#clip760)\" style=\"stroke:#000000; stroke-linecap:butt; stroke-linejoin:round; stroke-width:4; stroke-opacity:1; fill:none\" points=\"\n",
       "  1197.08,1486.45 1197.08,1467.55 \n",
       "  \"/>\n",
       "<polyline clip-path=\"url(#clip760)\" style=\"stroke:#000000; stroke-linecap:butt; stroke-linejoin:round; stroke-width:4; stroke-opacity:1; fill:none\" points=\"\n",
       "  1714.91,1486.45 1714.91,1467.55 \n",
       "  \"/>\n",
       "<polyline clip-path=\"url(#clip760)\" style=\"stroke:#000000; stroke-linecap:butt; stroke-linejoin:round; stroke-width:4; stroke-opacity:1; fill:none\" points=\"\n",
       "  2232.75,1486.45 2232.75,1467.55 \n",
       "  \"/>\n",
       "<path clip-path=\"url(#clip760)\" d=\"M649.184 1532.02 L678.86 1532.02 L678.86 1535.95 L649.184 1535.95 L649.184 1532.02 Z\" fill=\"#000000\" fill-rule=\"evenodd\" fill-opacity=\"1\" /><path clip-path=\"url(#clip760)\" d=\"M692.98 1544.91 L709.3 1544.91 L709.3 1548.85 L687.355 1548.85 L687.355 1544.91 Q690.018 1542.16 694.601 1537.53 Q699.207 1532.88 700.388 1531.53 Q702.633 1529.01 703.513 1527.27 Q704.416 1525.51 704.416 1523.82 Q704.416 1521.07 702.471 1519.33 Q700.55 1517.6 697.448 1517.6 Q695.249 1517.6 692.795 1518.36 Q690.365 1519.13 687.587 1520.68 L687.587 1515.95 Q690.411 1514.82 692.865 1514.24 Q695.318 1513.66 697.355 1513.66 Q702.726 1513.66 705.92 1516.35 Q709.115 1519.03 709.115 1523.52 Q709.115 1525.65 708.304 1527.57 Q707.517 1529.47 705.411 1532.07 Q704.832 1532.74 701.73 1535.95 Q698.629 1539.15 692.98 1544.91 Z\" fill=\"#000000\" fill-rule=\"evenodd\" fill-opacity=\"1\" /><path clip-path=\"url(#clip760)\" d=\"M1197.08 1517.37 Q1193.47 1517.37 1191.64 1520.93 Q1189.83 1524.47 1189.83 1531.6 Q1189.83 1538.71 1191.64 1542.27 Q1193.47 1545.82 1197.08 1545.82 Q1200.71 1545.82 1202.52 1542.27 Q1204.35 1538.71 1204.35 1531.6 Q1204.35 1524.47 1202.52 1520.93 Q1200.71 1517.37 1197.08 1517.37 M1197.08 1513.66 Q1202.89 1513.66 1205.94 1518.27 Q1209.02 1522.85 1209.02 1531.6 Q1209.02 1540.33 1205.94 1544.94 Q1202.89 1549.52 1197.08 1549.52 Q1191.27 1549.52 1188.19 1544.94 Q1185.13 1540.33 1185.13 1531.6 Q1185.13 1522.85 1188.19 1518.27 Q1191.27 1513.66 1197.08 1513.66 Z\" fill=\"#000000\" fill-rule=\"evenodd\" fill-opacity=\"1\" /><path clip-path=\"url(#clip760)\" d=\"M1709.57 1544.91 L1725.88 1544.91 L1725.88 1548.85 L1703.94 1548.85 L1703.94 1544.91 Q1706.6 1542.16 1711.19 1537.53 Q1715.79 1532.88 1716.97 1531.53 Q1719.22 1529.01 1720.1 1527.27 Q1721 1525.51 1721 1523.82 Q1721 1521.07 1719.06 1519.33 Q1717.13 1517.6 1714.03 1517.6 Q1711.83 1517.6 1709.38 1518.36 Q1706.95 1519.13 1704.17 1520.68 L1704.17 1515.95 Q1707 1514.82 1709.45 1514.24 Q1711.9 1513.66 1713.94 1513.66 Q1719.31 1513.66 1722.5 1516.35 Q1725.7 1519.03 1725.7 1523.52 Q1725.7 1525.65 1724.89 1527.57 Q1724.1 1529.47 1722 1532.07 Q1721.42 1532.74 1718.32 1535.95 Q1715.21 1539.15 1709.57 1544.91 Z\" fill=\"#000000\" fill-rule=\"evenodd\" fill-opacity=\"1\" /><path clip-path=\"url(#clip760)\" d=\"M2235.76 1518.36 L2223.95 1536.81 L2235.76 1536.81 L2235.76 1518.36 M2234.53 1514.29 L2240.41 1514.29 L2240.41 1536.81 L2245.34 1536.81 L2245.34 1540.7 L2240.41 1540.7 L2240.41 1548.85 L2235.76 1548.85 L2235.76 1540.7 L2220.16 1540.7 L2220.16 1536.19 L2234.53 1514.29 Z\" fill=\"#000000\" fill-rule=\"evenodd\" fill-opacity=\"1\" /><polyline clip-path=\"url(#clip762)\" style=\"stroke:#000000; stroke-linecap:butt; stroke-linejoin:round; stroke-width:2; stroke-opacity:0.1; fill:none\" points=\"\n",
       "  170.857,1445.72 2352.76,1445.72 \n",
       "  \"/>\n",
       "<polyline clip-path=\"url(#clip762)\" style=\"stroke:#000000; stroke-linecap:butt; stroke-linejoin:round; stroke-width:2; stroke-opacity:0.1; fill:none\" points=\"\n",
       "  170.857,1112.94 2352.76,1112.94 \n",
       "  \"/>\n",
       "<polyline clip-path=\"url(#clip762)\" style=\"stroke:#000000; stroke-linecap:butt; stroke-linejoin:round; stroke-width:2; stroke-opacity:0.1; fill:none\" points=\"\n",
       "  170.857,780.157 2352.76,780.157 \n",
       "  \"/>\n",
       "<polyline clip-path=\"url(#clip762)\" style=\"stroke:#000000; stroke-linecap:butt; stroke-linejoin:round; stroke-width:2; stroke-opacity:0.1; fill:none\" points=\"\n",
       "  170.857,447.378 2352.76,447.378 \n",
       "  \"/>\n",
       "<polyline clip-path=\"url(#clip762)\" style=\"stroke:#000000; stroke-linecap:butt; stroke-linejoin:round; stroke-width:2; stroke-opacity:0.1; fill:none\" points=\"\n",
       "  170.857,114.599 2352.76,114.599 \n",
       "  \"/>\n",
       "<polyline clip-path=\"url(#clip760)\" style=\"stroke:#000000; stroke-linecap:butt; stroke-linejoin:round; stroke-width:4; stroke-opacity:1; fill:none\" points=\"\n",
       "  170.857,1486.45 170.857,47.2441 \n",
       "  \"/>\n",
       "<polyline clip-path=\"url(#clip760)\" style=\"stroke:#000000; stroke-linecap:butt; stroke-linejoin:round; stroke-width:4; stroke-opacity:1; fill:none\" points=\"\n",
       "  170.857,1445.72 189.755,1445.72 \n",
       "  \"/>\n",
       "<polyline clip-path=\"url(#clip760)\" style=\"stroke:#000000; stroke-linecap:butt; stroke-linejoin:round; stroke-width:4; stroke-opacity:1; fill:none\" points=\"\n",
       "  170.857,1112.94 189.755,1112.94 \n",
       "  \"/>\n",
       "<polyline clip-path=\"url(#clip760)\" style=\"stroke:#000000; stroke-linecap:butt; stroke-linejoin:round; stroke-width:4; stroke-opacity:1; fill:none\" points=\"\n",
       "  170.857,780.157 189.755,780.157 \n",
       "  \"/>\n",
       "<polyline clip-path=\"url(#clip760)\" style=\"stroke:#000000; stroke-linecap:butt; stroke-linejoin:round; stroke-width:4; stroke-opacity:1; fill:none\" points=\"\n",
       "  170.857,447.378 189.755,447.378 \n",
       "  \"/>\n",
       "<polyline clip-path=\"url(#clip760)\" style=\"stroke:#000000; stroke-linecap:butt; stroke-linejoin:round; stroke-width:4; stroke-opacity:1; fill:none\" points=\"\n",
       "  170.857,114.599 189.755,114.599 \n",
       "  \"/>\n",
       "<path clip-path=\"url(#clip760)\" d=\"M122.913 1431.51 Q119.302 1431.51 117.473 1435.08 Q115.668 1438.62 115.668 1445.75 Q115.668 1452.86 117.473 1456.42 Q119.302 1459.96 122.913 1459.96 Q126.547 1459.96 128.353 1456.42 Q130.182 1452.86 130.182 1445.75 Q130.182 1438.62 128.353 1435.08 Q126.547 1431.51 122.913 1431.51 M122.913 1427.81 Q128.723 1427.81 131.779 1432.42 Q134.857 1437 134.857 1445.75 Q134.857 1454.48 131.779 1459.08 Q128.723 1463.67 122.913 1463.67 Q117.103 1463.67 114.024 1459.08 Q110.969 1454.48 110.969 1445.75 Q110.969 1437 114.024 1432.42 Q117.103 1427.81 122.913 1427.81 Z\" fill=\"#000000\" fill-rule=\"evenodd\" fill-opacity=\"1\" /><path clip-path=\"url(#clip760)\" d=\"M82.7975 1095.66 L101.154 1095.66 L101.154 1099.59 L87.0799 1099.59 L87.0799 1108.06 Q88.0984 1107.72 89.1169 1107.55 Q90.1354 1107.37 91.1539 1107.37 Q96.941 1107.37 100.321 1110.54 Q103.7 1113.71 103.7 1119.13 Q103.7 1124.71 100.228 1127.81 Q96.7558 1130.89 90.4364 1130.89 Q88.2604 1130.89 85.9919 1130.52 Q83.7466 1130.15 81.3392 1129.41 L81.3392 1124.71 Q83.4225 1125.84 85.6447 1126.4 Q87.8669 1126.95 90.3438 1126.95 Q94.3484 1126.95 96.6863 1124.85 Q99.0243 1122.74 99.0243 1119.13 Q99.0243 1115.52 96.6863 1113.41 Q94.3484 1111.3 90.3438 1111.3 Q88.4688 1111.3 86.5938 1111.72 Q84.7419 1112.14 82.7975 1113.02 L82.7975 1095.66 Z\" fill=\"#000000\" fill-rule=\"evenodd\" fill-opacity=\"1\" /><path clip-path=\"url(#clip760)\" d=\"M122.913 1098.74 Q119.302 1098.74 117.473 1102.3 Q115.668 1105.84 115.668 1112.97 Q115.668 1120.08 117.473 1123.64 Q119.302 1127.18 122.913 1127.18 Q126.547 1127.18 128.353 1123.64 Q130.182 1120.08 130.182 1112.97 Q130.182 1105.84 128.353 1102.3 Q126.547 1098.74 122.913 1098.74 M122.913 1095.03 Q128.723 1095.03 131.779 1099.64 Q134.857 1104.22 134.857 1112.97 Q134.857 1121.7 131.779 1126.3 Q128.723 1130.89 122.913 1130.89 Q117.103 1130.89 114.024 1126.3 Q110.969 1121.7 110.969 1112.97 Q110.969 1104.22 114.024 1099.64 Q117.103 1095.03 122.913 1095.03 Z\" fill=\"#000000\" fill-rule=\"evenodd\" fill-opacity=\"1\" /><path clip-path=\"url(#clip760)\" d=\"M53.3995 793.502 L61.0384 793.502 L61.0384 767.136 L52.7282 768.803 L52.7282 764.544 L60.9921 762.877 L65.668 762.877 L65.668 793.502 L73.3068 793.502 L73.3068 797.437 L53.3995 797.437 L53.3995 793.502 Z\" fill=\"#000000\" fill-rule=\"evenodd\" fill-opacity=\"1\" /><path clip-path=\"url(#clip760)\" d=\"M92.7512 765.956 Q89.1401 765.956 87.3114 769.521 Q85.5058 773.062 85.5058 780.192 Q85.5058 787.298 87.3114 790.863 Q89.1401 794.405 92.7512 794.405 Q96.3854 794.405 98.1909 790.863 Q100.02 787.298 100.02 780.192 Q100.02 773.062 98.1909 769.521 Q96.3854 765.956 92.7512 765.956 M92.7512 762.252 Q98.5613 762.252 101.617 766.859 Q104.696 771.442 104.696 780.192 Q104.696 788.919 101.617 793.525 Q98.5613 798.108 92.7512 798.108 Q86.941 798.108 83.8623 793.525 Q80.8068 788.919 80.8068 780.192 Q80.8068 771.442 83.8623 766.859 Q86.941 762.252 92.7512 762.252 Z\" fill=\"#000000\" fill-rule=\"evenodd\" fill-opacity=\"1\" /><path clip-path=\"url(#clip760)\" d=\"M122.913 765.956 Q119.302 765.956 117.473 769.521 Q115.668 773.062 115.668 780.192 Q115.668 787.298 117.473 790.863 Q119.302 794.405 122.913 794.405 Q126.547 794.405 128.353 790.863 Q130.182 787.298 130.182 780.192 Q130.182 773.062 128.353 769.521 Q126.547 765.956 122.913 765.956 M122.913 762.252 Q128.723 762.252 131.779 766.859 Q134.857 771.442 134.857 780.192 Q134.857 788.919 131.779 793.525 Q128.723 798.108 122.913 798.108 Q117.103 798.108 114.024 793.525 Q110.969 788.919 110.969 780.192 Q110.969 771.442 114.024 766.859 Q117.103 762.252 122.913 762.252 Z\" fill=\"#000000\" fill-rule=\"evenodd\" fill-opacity=\"1\" /><path clip-path=\"url(#clip760)\" d=\"M53.3995 460.723 L61.0384 460.723 L61.0384 434.357 L52.7282 436.024 L52.7282 431.765 L60.9921 430.098 L65.668 430.098 L65.668 460.723 L73.3068 460.723 L73.3068 464.658 L53.3995 464.658 L53.3995 460.723 Z\" fill=\"#000000\" fill-rule=\"evenodd\" fill-opacity=\"1\" /><path clip-path=\"url(#clip760)\" d=\"M82.7975 430.098 L101.154 430.098 L101.154 434.033 L87.0799 434.033 L87.0799 442.505 Q88.0984 442.158 89.1169 441.996 Q90.1354 441.811 91.1539 441.811 Q96.941 441.811 100.321 444.982 Q103.7 448.153 103.7 453.57 Q103.7 459.149 100.228 462.25 Q96.7558 465.329 90.4364 465.329 Q88.2604 465.329 85.9919 464.959 Q83.7466 464.588 81.3392 463.848 L81.3392 459.149 Q83.4225 460.283 85.6447 460.838 Q87.8669 461.394 90.3438 461.394 Q94.3484 461.394 96.6863 459.288 Q99.0243 457.181 99.0243 453.57 Q99.0243 449.959 96.6863 447.852 Q94.3484 445.746 90.3438 445.746 Q88.4688 445.746 86.5938 446.163 Q84.7419 446.579 82.7975 447.459 L82.7975 430.098 Z\" fill=\"#000000\" fill-rule=\"evenodd\" fill-opacity=\"1\" /><path clip-path=\"url(#clip760)\" d=\"M122.913 433.177 Q119.302 433.177 117.473 436.741 Q115.668 440.283 115.668 447.413 Q115.668 454.519 117.473 458.084 Q119.302 461.625 122.913 461.625 Q126.547 461.625 128.353 458.084 Q130.182 454.519 130.182 447.413 Q130.182 440.283 128.353 436.741 Q126.547 433.177 122.913 433.177 M122.913 429.473 Q128.723 429.473 131.779 434.079 Q134.857 438.663 134.857 447.413 Q134.857 456.139 131.779 460.746 Q128.723 465.329 122.913 465.329 Q117.103 465.329 114.024 460.746 Q110.969 456.139 110.969 447.413 Q110.969 438.663 114.024 434.079 Q117.103 429.473 122.913 429.473 Z\" fill=\"#000000\" fill-rule=\"evenodd\" fill-opacity=\"1\" /><path clip-path=\"url(#clip760)\" d=\"M56.6171 127.943 L72.9365 127.943 L72.9365 131.879 L50.9921 131.879 L50.9921 127.943 Q53.6541 125.189 58.2375 120.559 Q62.8439 115.906 64.0245 114.564 Q66.2698 112.041 67.1494 110.305 Q68.0522 108.545 68.0522 106.856 Q68.0522 104.101 66.1078 102.365 Q64.1865 100.629 61.0847 100.629 Q58.8856 100.629 56.4319 101.393 Q54.0014 102.157 51.2236 103.707 L51.2236 98.9853 Q54.0477 97.851 56.5014 97.2723 Q58.955 96.6936 60.9921 96.6936 Q66.3624 96.6936 69.5568 99.3788 Q72.7513 102.064 72.7513 106.555 Q72.7513 108.684 71.9411 110.606 Q71.1541 112.504 69.0476 115.096 Q68.4689 115.768 65.367 118.985 Q62.2652 122.18 56.6171 127.943 Z\" fill=\"#000000\" fill-rule=\"evenodd\" fill-opacity=\"1\" /><path clip-path=\"url(#clip760)\" d=\"M92.7512 100.397 Q89.1401 100.397 87.3114 103.962 Q85.5058 107.504 85.5058 114.633 Q85.5058 121.74 87.3114 125.305 Q89.1401 128.846 92.7512 128.846 Q96.3854 128.846 98.1909 125.305 Q100.02 121.74 100.02 114.633 Q100.02 107.504 98.1909 103.962 Q96.3854 100.397 92.7512 100.397 M92.7512 96.6936 Q98.5613 96.6936 101.617 101.3 Q104.696 105.883 104.696 114.633 Q104.696 123.36 101.617 127.967 Q98.5613 132.55 92.7512 132.55 Q86.941 132.55 83.8623 127.967 Q80.8068 123.36 80.8068 114.633 Q80.8068 105.883 83.8623 101.3 Q86.941 96.6936 92.7512 96.6936 Z\" fill=\"#000000\" fill-rule=\"evenodd\" fill-opacity=\"1\" /><path clip-path=\"url(#clip760)\" d=\"M122.913 100.397 Q119.302 100.397 117.473 103.962 Q115.668 107.504 115.668 114.633 Q115.668 121.74 117.473 125.305 Q119.302 128.846 122.913 128.846 Q126.547 128.846 128.353 125.305 Q130.182 121.74 130.182 114.633 Q130.182 107.504 128.353 103.962 Q126.547 100.397 122.913 100.397 M122.913 96.6936 Q128.723 96.6936 131.779 101.3 Q134.857 105.883 134.857 114.633 Q134.857 123.36 131.779 127.967 Q128.723 132.55 122.913 132.55 Q117.103 132.55 114.024 127.967 Q110.969 123.36 110.969 114.633 Q110.969 105.883 114.024 101.3 Q117.103 96.6936 122.913 96.6936 Z\" fill=\"#000000\" fill-rule=\"evenodd\" fill-opacity=\"1\" /><path clip-path=\"url(#clip762)\" d=\"\n",
       "M290.866 1432.4 L290.866 1445.72 L420.325 1445.72 L420.325 1432.4 L290.866 1432.4 L290.866 1432.4  Z\n",
       "  \" fill=\"#00ff00\" fill-rule=\"evenodd\" fill-opacity=\"1\"/>\n",
       "<polyline clip-path=\"url(#clip762)\" style=\"stroke:#000000; stroke-linecap:butt; stroke-linejoin:round; stroke-width:4; stroke-opacity:1; fill:none\" points=\"\n",
       "  290.866,1432.4 290.866,1445.72 420.325,1445.72 420.325,1432.4 290.866,1432.4 \n",
       "  \"/>\n",
       "<path clip-path=\"url(#clip762)\" d=\"\n",
       "M420.325 1425.75 L420.325 1445.72 L549.783 1445.72 L549.783 1425.75 L420.325 1425.75 L420.325 1425.75  Z\n",
       "  \" fill=\"#00ff00\" fill-rule=\"evenodd\" fill-opacity=\"1\"/>\n",
       "<polyline clip-path=\"url(#clip762)\" style=\"stroke:#000000; stroke-linecap:butt; stroke-linejoin:round; stroke-width:4; stroke-opacity:1; fill:none\" points=\"\n",
       "  420.325,1425.75 420.325,1445.72 549.783,1445.72 549.783,1425.75 420.325,1425.75 \n",
       "  \"/>\n",
       "<path clip-path=\"url(#clip762)\" d=\"\n",
       "M549.783 1332.57 L549.783 1445.72 L679.242 1445.72 L679.242 1332.57 L549.783 1332.57 L549.783 1332.57  Z\n",
       "  \" fill=\"#00ff00\" fill-rule=\"evenodd\" fill-opacity=\"1\"/>\n",
       "<polyline clip-path=\"url(#clip762)\" style=\"stroke:#000000; stroke-linecap:butt; stroke-linejoin:round; stroke-width:4; stroke-opacity:1; fill:none\" points=\"\n",
       "  549.783,1332.57 549.783,1445.72 679.242,1445.72 679.242,1332.57 549.783,1332.57 \n",
       "  \"/>\n",
       "<path clip-path=\"url(#clip762)\" d=\"\n",
       "M679.242 1159.53 L679.242 1445.72 L808.701 1445.72 L808.701 1159.53 L679.242 1159.53 L679.242 1159.53  Z\n",
       "  \" fill=\"#00ff00\" fill-rule=\"evenodd\" fill-opacity=\"1\"/>\n",
       "<polyline clip-path=\"url(#clip762)\" style=\"stroke:#000000; stroke-linecap:butt; stroke-linejoin:round; stroke-width:4; stroke-opacity:1; fill:none\" points=\"\n",
       "  679.242,1159.53 679.242,1445.72 808.701,1445.72 808.701,1159.53 679.242,1159.53 \n",
       "  \"/>\n",
       "<path clip-path=\"url(#clip762)\" d=\"\n",
       "M808.701 766.846 L808.701 1445.72 L938.16 1445.72 L938.16 766.846 L808.701 766.846 L808.701 766.846  Z\n",
       "  \" fill=\"#00ff00\" fill-rule=\"evenodd\" fill-opacity=\"1\"/>\n",
       "<polyline clip-path=\"url(#clip762)\" style=\"stroke:#000000; stroke-linecap:butt; stroke-linejoin:round; stroke-width:4; stroke-opacity:1; fill:none\" points=\"\n",
       "  808.701,766.846 808.701,1445.72 938.16,1445.72 938.16,766.846 808.701,766.846 \n",
       "  \"/>\n",
       "<path clip-path=\"url(#clip762)\" d=\"\n",
       "M938.16 360.855 L938.16 1445.72 L1067.62 1445.72 L1067.62 360.855 L938.16 360.855 L938.16 360.855  Z\n",
       "  \" fill=\"#00ff00\" fill-rule=\"evenodd\" fill-opacity=\"1\"/>\n",
       "<polyline clip-path=\"url(#clip762)\" style=\"stroke:#000000; stroke-linecap:butt; stroke-linejoin:round; stroke-width:4; stroke-opacity:1; fill:none\" points=\"\n",
       "  938.16,360.855 938.16,1445.72 1067.62,1445.72 1067.62,360.855 938.16,360.855 \n",
       "  \"/>\n",
       "<path clip-path=\"url(#clip762)\" d=\"\n",
       "M1067.62 261.021 L1067.62 1445.72 L1197.08 1445.72 L1197.08 261.021 L1067.62 261.021 L1067.62 261.021  Z\n",
       "  \" fill=\"#00ff00\" fill-rule=\"evenodd\" fill-opacity=\"1\"/>\n",
       "<polyline clip-path=\"url(#clip762)\" style=\"stroke:#000000; stroke-linecap:butt; stroke-linejoin:round; stroke-width:4; stroke-opacity:1; fill:none\" points=\"\n",
       "  1067.62,261.021 1067.62,1445.72 1197.08,1445.72 1197.08,261.021 1067.62,261.021 \n",
       "  \"/>\n",
       "<path clip-path=\"url(#clip762)\" d=\"\n",
       "M1197.08 87.9763 L1197.08 1445.72 L1326.54 1445.72 L1326.54 87.9763 L1197.08 87.9763 L1197.08 87.9763  Z\n",
       "  \" fill=\"#00ff00\" fill-rule=\"evenodd\" fill-opacity=\"1\"/>\n",
       "<polyline clip-path=\"url(#clip762)\" style=\"stroke:#000000; stroke-linecap:butt; stroke-linejoin:round; stroke-width:4; stroke-opacity:1; fill:none\" points=\"\n",
       "  1197.08,87.9763 1197.08,1445.72 1326.54,1445.72 1326.54,87.9763 1197.08,87.9763 \n",
       "  \"/>\n",
       "<path clip-path=\"url(#clip762)\" d=\"\n",
       "M1326.54 500.623 L1326.54 1445.72 L1455.99 1445.72 L1455.99 500.623 L1326.54 500.623 L1326.54 500.623  Z\n",
       "  \" fill=\"#00ff00\" fill-rule=\"evenodd\" fill-opacity=\"1\"/>\n",
       "<polyline clip-path=\"url(#clip762)\" style=\"stroke:#000000; stroke-linecap:butt; stroke-linejoin:round; stroke-width:4; stroke-opacity:1; fill:none\" points=\"\n",
       "  1326.54,500.623 1326.54,1445.72 1455.99,1445.72 1455.99,500.623 1326.54,500.623 \n",
       "  \"/>\n",
       "<path clip-path=\"url(#clip762)\" d=\"\n",
       "M1455.99 973.169 L1455.99 1445.72 L1585.45 1445.72 L1585.45 973.169 L1455.99 973.169 L1455.99 973.169  Z\n",
       "  \" fill=\"#00ff00\" fill-rule=\"evenodd\" fill-opacity=\"1\"/>\n",
       "<polyline clip-path=\"url(#clip762)\" style=\"stroke:#000000; stroke-linecap:butt; stroke-linejoin:round; stroke-width:4; stroke-opacity:1; fill:none\" points=\"\n",
       "  1455.99,973.169 1455.99,1445.72 1585.45,1445.72 1585.45,973.169 1455.99,973.169 \n",
       "  \"/>\n",
       "<path clip-path=\"url(#clip762)\" d=\"\n",
       "M1585.45 1106.28 L1585.45 1445.72 L1714.91 1445.72 L1714.91 1106.28 L1585.45 1106.28 L1585.45 1106.28  Z\n",
       "  \" fill=\"#00ff00\" fill-rule=\"evenodd\" fill-opacity=\"1\"/>\n",
       "<polyline clip-path=\"url(#clip762)\" style=\"stroke:#000000; stroke-linecap:butt; stroke-linejoin:round; stroke-width:4; stroke-opacity:1; fill:none\" points=\"\n",
       "  1585.45,1106.28 1585.45,1445.72 1714.91,1445.72 1714.91,1106.28 1585.45,1106.28 \n",
       "  \"/>\n",
       "<path clip-path=\"url(#clip762)\" d=\"\n",
       "M1714.91 1319.26 L1714.91 1445.72 L1844.37 1445.72 L1844.37 1319.26 L1714.91 1319.26 L1714.91 1319.26  Z\n",
       "  \" fill=\"#00ff00\" fill-rule=\"evenodd\" fill-opacity=\"1\"/>\n",
       "<polyline clip-path=\"url(#clip762)\" style=\"stroke:#000000; stroke-linecap:butt; stroke-linejoin:round; stroke-width:4; stroke-opacity:1; fill:none\" points=\"\n",
       "  1714.91,1319.26 1714.91,1445.72 1844.37,1445.72 1844.37,1319.26 1714.91,1319.26 \n",
       "  \"/>\n",
       "<path clip-path=\"url(#clip762)\" d=\"\n",
       "M1844.37 1419.09 L1844.37 1445.72 L1973.83 1445.72 L1973.83 1419.09 L1844.37 1419.09 L1844.37 1419.09  Z\n",
       "  \" fill=\"#00ff00\" fill-rule=\"evenodd\" fill-opacity=\"1\"/>\n",
       "<polyline clip-path=\"url(#clip762)\" style=\"stroke:#000000; stroke-linecap:butt; stroke-linejoin:round; stroke-width:4; stroke-opacity:1; fill:none\" points=\"\n",
       "  1844.37,1419.09 1844.37,1445.72 1973.83,1445.72 1973.83,1419.09 1844.37,1419.09 \n",
       "  \"/>\n",
       "<path clip-path=\"url(#clip762)\" d=\"\n",
       "M1973.83 1445.72 L1973.83 1445.72 L2103.29 1445.72 L2103.29 1445.72 L1973.83 1445.72 L1973.83 1445.72  Z\n",
       "  \" fill=\"#00ff00\" fill-rule=\"evenodd\" fill-opacity=\"1\"/>\n",
       "<polyline clip-path=\"url(#clip762)\" style=\"stroke:#000000; stroke-linecap:butt; stroke-linejoin:round; stroke-width:4; stroke-opacity:1; fill:none\" points=\"\n",
       "  1973.83,1445.72 1973.83,1445.72 2103.29,1445.72 1973.83,1445.72 \n",
       "  \"/>\n",
       "<path clip-path=\"url(#clip762)\" d=\"\n",
       "M2103.29 1439.06 L2103.29 1445.72 L2232.75 1445.72 L2232.75 1439.06 L2103.29 1439.06 L2103.29 1439.06  Z\n",
       "  \" fill=\"#00ff00\" fill-rule=\"evenodd\" fill-opacity=\"1\"/>\n",
       "<polyline clip-path=\"url(#clip762)\" style=\"stroke:#000000; stroke-linecap:butt; stroke-linejoin:round; stroke-width:4; stroke-opacity:1; fill:none\" points=\"\n",
       "  2103.29,1439.06 2103.29,1445.72 2232.75,1445.72 2232.75,1439.06 2103.29,1439.06 \n",
       "  \"/>\n",
       "<circle clip-path=\"url(#clip762)\" style=\"fill:#00ff00; stroke:none; fill-opacity:0\" cx=\"355.595\" cy=\"1432.4\" r=\"2\"/>\n",
       "<circle clip-path=\"url(#clip762)\" style=\"fill:#00ff00; stroke:none; fill-opacity:0\" cx=\"485.054\" cy=\"1425.75\" r=\"2\"/>\n",
       "<circle clip-path=\"url(#clip762)\" style=\"fill:#00ff00; stroke:none; fill-opacity:0\" cx=\"614.513\" cy=\"1332.57\" r=\"2\"/>\n",
       "<circle clip-path=\"url(#clip762)\" style=\"fill:#00ff00; stroke:none; fill-opacity:0\" cx=\"743.971\" cy=\"1159.53\" r=\"2\"/>\n",
       "<circle clip-path=\"url(#clip762)\" style=\"fill:#00ff00; stroke:none; fill-opacity:0\" cx=\"873.43\" cy=\"766.846\" r=\"2\"/>\n",
       "<circle clip-path=\"url(#clip762)\" style=\"fill:#00ff00; stroke:none; fill-opacity:0\" cx=\"1002.89\" cy=\"360.855\" r=\"2\"/>\n",
       "<circle clip-path=\"url(#clip762)\" style=\"fill:#00ff00; stroke:none; fill-opacity:0\" cx=\"1132.35\" cy=\"261.021\" r=\"2\"/>\n",
       "<circle clip-path=\"url(#clip762)\" style=\"fill:#00ff00; stroke:none; fill-opacity:0\" cx=\"1261.81\" cy=\"87.9763\" r=\"2\"/>\n",
       "<circle clip-path=\"url(#clip762)\" style=\"fill:#00ff00; stroke:none; fill-opacity:0\" cx=\"1391.27\" cy=\"500.623\" r=\"2\"/>\n",
       "<circle clip-path=\"url(#clip762)\" style=\"fill:#00ff00; stroke:none; fill-opacity:0\" cx=\"1520.72\" cy=\"973.169\" r=\"2\"/>\n",
       "<circle clip-path=\"url(#clip762)\" style=\"fill:#00ff00; stroke:none; fill-opacity:0\" cx=\"1650.18\" cy=\"1106.28\" r=\"2\"/>\n",
       "<circle clip-path=\"url(#clip762)\" style=\"fill:#00ff00; stroke:none; fill-opacity:0\" cx=\"1779.64\" cy=\"1319.26\" r=\"2\"/>\n",
       "<circle clip-path=\"url(#clip762)\" style=\"fill:#00ff00; stroke:none; fill-opacity:0\" cx=\"1909.1\" cy=\"1419.09\" r=\"2\"/>\n",
       "<circle clip-path=\"url(#clip762)\" style=\"fill:#00ff00; stroke:none; fill-opacity:0\" cx=\"2038.56\" cy=\"1445.72\" r=\"2\"/>\n",
       "<circle clip-path=\"url(#clip762)\" style=\"fill:#00ff00; stroke:none; fill-opacity:0\" cx=\"2168.02\" cy=\"1439.06\" r=\"2\"/>\n",
       "</svg>\n"
      ]
     },
     "execution_count": 4,
     "metadata": {},
     "output_type": "execute_result"
    }
   ],
   "source": [
    "histogram(randn(1000), legend=false, color=\"lime\")"
   ]
  },
  {
   "cell_type": "markdown",
   "id": "85cb955e-149b-4098-8b41-b30d412385db",
   "metadata": {},
   "source": [
    "3. Wylosuj 20 liczb z rozkładu jednostajnego na przedziale [0,1]. Wyznacz 95% przedział ufności dla średniej tych liczb\n",
    "dla 10000 powtórzeń próby bootstrapowej."
   ]
  },
  {
   "cell_type": "code",
   "execution_count": 5,
   "id": "ccd7f1ff-6606-4428-a306-dd31d86c01d7",
   "metadata": {},
   "outputs": [
    {
     "data": {
      "text/plain": [
       "f3_adv (generic function with 1 method)"
      ]
     },
     "execution_count": 5,
     "metadata": {},
     "output_type": "execute_result"
    }
   ],
   "source": [
    "function f3(r, q)\n",
    "# r - ilość powtórzeń , q - ilość liczb losowanych\n",
    "    s = [mean(rand(q)) for _ in 1:r]\n",
    "    m = mean(s)\n",
    "    sd = std(s)\n",
    "    ci_low = m - 1.96 * sd / sqrt(r)\n",
    "    ci_high = m + 1.96 * sd / sqrt(r)\n",
    "    @printf(\"Przedział ufności:\\nDolna granica %s\\nGórna granica %s\\n\", ci_low, ci_high)\n",
    "end\n",
    "\n",
    "# za pomocą Distributions i HypothesisTests    \n",
    "function f3_adv(r, q)\n",
    "# r - ilość powtórzeń , q - ilość liczb losowanych\n",
    "    s = [mean(rand(q)) for _ in 1:r]\n",
    "    ci = confint(OneSampleTTest(s))\n",
    "    @printf(\"Przedział ufności:\\nDolna granica %s\\nGórna granica %s\", ci[1], ci[2])\n",
    "end"
   ]
  },
  {
   "cell_type": "code",
   "execution_count": 6,
   "id": "89884143-8377-4f38-8a59-3909264781bd",
   "metadata": {},
   "outputs": [
    {
     "name": "stdout",
     "output_type": "stream",
     "text": [
      "Przedział ufności:\n",
      "Dolna granica 0.4975784947315824\n",
      "Górna granica 0.5001249449419781\n",
      "Przedział ufności:\n",
      "Dolna granica 0.49898956244991544\n",
      "Górna granica 0.5015356111518545"
     ]
    },
    {
     "data": {
      "text/plain": [
       "(nothing, nothing)"
      ]
     },
     "execution_count": 6,
     "metadata": {},
     "output_type": "execute_result"
    }
   ],
   "source": [
    "f3(10000, 20), f3_adv(10000, 20)"
   ]
  },
  {
   "cell_type": "markdown",
   "id": "53ffaadb-609f-45ea-aa54-1f5ffdcceabd",
   "metadata": {},
   "source": [
    "4. Biorąc przykład z zadania 3 napisz funkcję, której parametrem będzie wielkość próby `n` a wynikiem szerokość przedziału ufności.\n",
    "Narysuj wykres zależności szerokości przedziału ufności od `n`, gdzie `n` przyjmuje wartości od `10` do `100` z krokiem 1."
   ]
  },
  {
   "cell_type": "code",
   "execution_count": 7,
   "id": "a28b74bb-c5ed-49c6-ab51-880471cec56a",
   "metadata": {},
   "outputs": [
    {
     "data": {
      "image/svg+xml": [
       "<?xml version=\"1.0\" encoding=\"utf-8\"?>\n",
       "<svg xmlns=\"http://www.w3.org/2000/svg\" xmlns:xlink=\"http://www.w3.org/1999/xlink\" width=\"600\" height=\"400\" viewBox=\"0 0 2400 1600\">\n",
       "<defs>\n",
       "  <clipPath id=\"clip800\">\n",
       "    <rect x=\"0\" y=\"0\" width=\"2400\" height=\"1600\"/>\n",
       "  </clipPath>\n",
       "</defs>\n",
       "<path clip-path=\"url(#clip800)\" d=\"\n",
       "M0 1600 L2400 1600 L2400 0 L0 0  Z\n",
       "  \" fill=\"#ffffff\" fill-rule=\"evenodd\" fill-opacity=\"1\"/>\n",
       "<defs>\n",
       "  <clipPath id=\"clip801\">\n",
       "    <rect x=\"480\" y=\"0\" width=\"1681\" height=\"1600\"/>\n",
       "  </clipPath>\n",
       "</defs>\n",
       "<path clip-path=\"url(#clip800)\" d=\"\n",
       "M216.436 1486.45 L2352.76 1486.45 L2352.76 123.472 L216.436 123.472  Z\n",
       "  \" fill=\"#ffffff\" fill-rule=\"evenodd\" fill-opacity=\"1\"/>\n",
       "<defs>\n",
       "  <clipPath id=\"clip802\">\n",
       "    <rect x=\"216\" y=\"123\" width=\"2137\" height=\"1364\"/>\n",
       "  </clipPath>\n",
       "</defs>\n",
       "<polyline clip-path=\"url(#clip802)\" style=\"stroke:#000000; stroke-linecap:butt; stroke-linejoin:round; stroke-width:2; stroke-opacity:0.1; fill:none\" points=\"\n",
       "  500.831,1486.45 500.831,123.472 \n",
       "  \"/>\n",
       "<polyline clip-path=\"url(#clip802)\" style=\"stroke:#000000; stroke-linecap:butt; stroke-linejoin:round; stroke-width:2; stroke-opacity:0.1; fill:none\" points=\"\n",
       "  948.697,1486.45 948.697,123.472 \n",
       "  \"/>\n",
       "<polyline clip-path=\"url(#clip802)\" style=\"stroke:#000000; stroke-linecap:butt; stroke-linejoin:round; stroke-width:2; stroke-opacity:0.1; fill:none\" points=\"\n",
       "  1396.56,1486.45 1396.56,123.472 \n",
       "  \"/>\n",
       "<polyline clip-path=\"url(#clip802)\" style=\"stroke:#000000; stroke-linecap:butt; stroke-linejoin:round; stroke-width:2; stroke-opacity:0.1; fill:none\" points=\"\n",
       "  1844.43,1486.45 1844.43,123.472 \n",
       "  \"/>\n",
       "<polyline clip-path=\"url(#clip802)\" style=\"stroke:#000000; stroke-linecap:butt; stroke-linejoin:round; stroke-width:2; stroke-opacity:0.1; fill:none\" points=\"\n",
       "  2292.29,1486.45 2292.29,123.472 \n",
       "  \"/>\n",
       "<polyline clip-path=\"url(#clip800)\" style=\"stroke:#000000; stroke-linecap:butt; stroke-linejoin:round; stroke-width:4; stroke-opacity:1; fill:none\" points=\"\n",
       "  216.436,1486.45 2352.76,1486.45 \n",
       "  \"/>\n",
       "<polyline clip-path=\"url(#clip800)\" style=\"stroke:#000000; stroke-linecap:butt; stroke-linejoin:round; stroke-width:4; stroke-opacity:1; fill:none\" points=\"\n",
       "  500.831,1486.45 500.831,1467.55 \n",
       "  \"/>\n",
       "<polyline clip-path=\"url(#clip800)\" style=\"stroke:#000000; stroke-linecap:butt; stroke-linejoin:round; stroke-width:4; stroke-opacity:1; fill:none\" points=\"\n",
       "  948.697,1486.45 948.697,1467.55 \n",
       "  \"/>\n",
       "<polyline clip-path=\"url(#clip800)\" style=\"stroke:#000000; stroke-linecap:butt; stroke-linejoin:round; stroke-width:4; stroke-opacity:1; fill:none\" points=\"\n",
       "  1396.56,1486.45 1396.56,1467.55 \n",
       "  \"/>\n",
       "<polyline clip-path=\"url(#clip800)\" style=\"stroke:#000000; stroke-linecap:butt; stroke-linejoin:round; stroke-width:4; stroke-opacity:1; fill:none\" points=\"\n",
       "  1844.43,1486.45 1844.43,1467.55 \n",
       "  \"/>\n",
       "<polyline clip-path=\"url(#clip800)\" style=\"stroke:#000000; stroke-linecap:butt; stroke-linejoin:round; stroke-width:4; stroke-opacity:1; fill:none\" points=\"\n",
       "  2292.29,1486.45 2292.29,1467.55 \n",
       "  \"/>\n",
       "<path clip-path=\"url(#clip800)\" d=\"M479.604 1544.91 L495.923 1544.91 L495.923 1548.85 L473.979 1548.85 L473.979 1544.91 Q476.641 1542.16 481.224 1537.53 Q485.831 1532.88 487.011 1531.53 Q489.257 1529.01 490.136 1527.27 Q491.039 1525.51 491.039 1523.82 Q491.039 1521.07 489.095 1519.33 Q487.173 1517.6 484.072 1517.6 Q481.872 1517.6 479.419 1518.36 Q476.988 1519.13 474.21 1520.68 L474.21 1515.95 Q477.035 1514.82 479.488 1514.24 Q481.942 1513.66 483.979 1513.66 Q489.349 1513.66 492.544 1516.35 Q495.738 1519.03 495.738 1523.52 Q495.738 1525.65 494.928 1527.57 Q494.141 1529.47 492.034 1532.07 Q491.456 1532.74 488.354 1535.95 Q485.252 1539.15 479.604 1544.91 Z\" fill=\"#000000\" fill-rule=\"evenodd\" fill-opacity=\"1\" /><path clip-path=\"url(#clip800)\" d=\"M515.738 1517.37 Q512.127 1517.37 510.298 1520.93 Q508.493 1524.47 508.493 1531.6 Q508.493 1538.71 510.298 1542.27 Q512.127 1545.82 515.738 1545.82 Q519.372 1545.82 521.178 1542.27 Q523.006 1538.71 523.006 1531.6 Q523.006 1524.47 521.178 1520.93 Q519.372 1517.37 515.738 1517.37 M515.738 1513.66 Q521.548 1513.66 524.604 1518.27 Q527.682 1522.85 527.682 1531.6 Q527.682 1540.33 524.604 1544.94 Q521.548 1549.52 515.738 1549.52 Q509.928 1549.52 506.849 1544.94 Q503.794 1540.33 503.794 1531.6 Q503.794 1522.85 506.849 1518.27 Q509.928 1513.66 515.738 1513.66 Z\" fill=\"#000000\" fill-rule=\"evenodd\" fill-opacity=\"1\" /><path clip-path=\"url(#clip800)\" d=\"M936.868 1518.36 L925.062 1536.81 L936.868 1536.81 L936.868 1518.36 M935.641 1514.29 L941.521 1514.29 L941.521 1536.81 L946.451 1536.81 L946.451 1540.7 L941.521 1540.7 L941.521 1548.85 L936.868 1548.85 L936.868 1540.7 L921.266 1540.7 L921.266 1536.19 L935.641 1514.29 Z\" fill=\"#000000\" fill-rule=\"evenodd\" fill-opacity=\"1\" /><path clip-path=\"url(#clip800)\" d=\"M964.183 1517.37 Q960.571 1517.37 958.743 1520.93 Q956.937 1524.47 956.937 1531.6 Q956.937 1538.71 958.743 1542.27 Q960.571 1545.82 964.183 1545.82 Q967.817 1545.82 969.622 1542.27 Q971.451 1538.71 971.451 1531.6 Q971.451 1524.47 969.622 1520.93 Q967.817 1517.37 964.183 1517.37 M964.183 1513.66 Q969.993 1513.66 973.048 1518.27 Q976.127 1522.85 976.127 1531.6 Q976.127 1540.33 973.048 1544.94 Q969.993 1549.52 964.183 1549.52 Q958.372 1549.52 955.294 1544.94 Q952.238 1540.33 952.238 1531.6 Q952.238 1522.85 955.294 1518.27 Q958.372 1513.66 964.183 1513.66 Z\" fill=\"#000000\" fill-rule=\"evenodd\" fill-opacity=\"1\" /><path clip-path=\"url(#clip800)\" d=\"M1381.97 1529.7 Q1378.82 1529.7 1376.97 1531.86 Q1375.14 1534.01 1375.14 1537.76 Q1375.14 1541.49 1376.97 1543.66 Q1378.82 1545.82 1381.97 1545.82 Q1385.12 1545.82 1386.94 1543.66 Q1388.8 1541.49 1388.8 1537.76 Q1388.8 1534.01 1386.94 1531.86 Q1385.12 1529.7 1381.97 1529.7 M1391.25 1515.05 L1391.25 1519.31 Q1389.49 1518.48 1387.69 1518.04 Q1385.9 1517.6 1384.14 1517.6 Q1379.51 1517.6 1377.06 1520.72 Q1374.63 1523.85 1374.28 1530.17 Q1375.65 1528.15 1377.71 1527.09 Q1379.77 1526 1382.25 1526 Q1387.45 1526 1390.46 1529.17 Q1393.5 1532.32 1393.5 1537.76 Q1393.5 1543.08 1390.35 1546.3 Q1387.2 1549.52 1381.97 1549.52 Q1375.97 1549.52 1372.8 1544.94 Q1369.63 1540.33 1369.63 1531.6 Q1369.63 1523.41 1373.52 1518.55 Q1377.41 1513.66 1383.96 1513.66 Q1385.72 1513.66 1387.5 1514.01 Q1389.31 1514.36 1391.25 1515.05 Z\" fill=\"#000000\" fill-rule=\"evenodd\" fill-opacity=\"1\" /><path clip-path=\"url(#clip800)\" d=\"M1411.55 1517.37 Q1407.94 1517.37 1406.11 1520.93 Q1404.31 1524.47 1404.31 1531.6 Q1404.31 1538.71 1406.11 1542.27 Q1407.94 1545.82 1411.55 1545.82 Q1415.18 1545.82 1416.99 1542.27 Q1418.82 1538.71 1418.82 1531.6 Q1418.82 1524.47 1416.99 1520.93 Q1415.18 1517.37 1411.55 1517.37 M1411.55 1513.66 Q1417.36 1513.66 1420.42 1518.27 Q1423.5 1522.85 1423.5 1531.6 Q1423.5 1540.33 1420.42 1544.94 Q1417.36 1549.52 1411.55 1549.52 Q1405.74 1549.52 1402.66 1544.94 Q1399.61 1540.33 1399.61 1531.6 Q1399.61 1522.85 1402.66 1518.27 Q1405.74 1513.66 1411.55 1513.66 Z\" fill=\"#000000\" fill-rule=\"evenodd\" fill-opacity=\"1\" /><path clip-path=\"url(#clip800)\" d=\"M1829.3 1532.44 Q1825.97 1532.44 1824.05 1534.22 Q1822.15 1536 1822.15 1539.13 Q1822.15 1542.25 1824.05 1544.03 Q1825.97 1545.82 1829.3 1545.82 Q1832.63 1545.82 1834.56 1544.03 Q1836.48 1542.23 1836.48 1539.13 Q1836.48 1536 1834.56 1534.22 Q1832.66 1532.44 1829.3 1532.44 M1824.63 1530.45 Q1821.62 1529.7 1819.93 1527.64 Q1818.26 1525.58 1818.26 1522.62 Q1818.26 1518.48 1821.2 1516.07 Q1824.16 1513.66 1829.3 1513.66 Q1834.46 1513.66 1837.4 1516.07 Q1840.34 1518.48 1840.34 1522.62 Q1840.34 1525.58 1838.65 1527.64 Q1836.99 1529.7 1834 1530.45 Q1837.38 1531.23 1839.25 1533.52 Q1841.15 1535.82 1841.15 1539.13 Q1841.15 1544.15 1838.07 1546.83 Q1835.02 1549.52 1829.3 1549.52 Q1823.58 1549.52 1820.5 1546.83 Q1817.45 1544.15 1817.45 1539.13 Q1817.45 1535.82 1819.35 1533.52 Q1821.25 1531.23 1824.63 1530.45 M1822.91 1523.06 Q1822.91 1525.75 1824.58 1527.25 Q1826.27 1528.76 1829.3 1528.76 Q1832.31 1528.76 1834 1527.25 Q1835.71 1525.75 1835.71 1523.06 Q1835.71 1520.38 1834 1518.87 Q1832.31 1517.37 1829.3 1517.37 Q1826.27 1517.37 1824.58 1518.87 Q1822.91 1520.38 1822.91 1523.06 Z\" fill=\"#000000\" fill-rule=\"evenodd\" fill-opacity=\"1\" /><path clip-path=\"url(#clip800)\" d=\"M1859.46 1517.37 Q1855.85 1517.37 1854.02 1520.93 Q1852.22 1524.47 1852.22 1531.6 Q1852.22 1538.71 1854.02 1542.27 Q1855.85 1545.82 1859.46 1545.82 Q1863.1 1545.82 1864.9 1542.27 Q1866.73 1538.71 1866.73 1531.6 Q1866.73 1524.47 1864.9 1520.93 Q1863.1 1517.37 1859.46 1517.37 M1859.46 1513.66 Q1865.27 1513.66 1868.33 1518.27 Q1871.41 1522.85 1871.41 1531.6 Q1871.41 1540.33 1868.33 1544.94 Q1865.27 1549.52 1859.46 1549.52 Q1853.65 1549.52 1850.57 1544.94 Q1847.52 1540.33 1847.52 1531.6 Q1847.52 1522.85 1850.57 1518.27 Q1853.65 1513.66 1859.46 1513.66 Z\" fill=\"#000000\" fill-rule=\"evenodd\" fill-opacity=\"1\" /><path clip-path=\"url(#clip800)\" d=\"M2251.9 1544.91 L2259.54 1544.91 L2259.54 1518.55 L2251.23 1520.21 L2251.23 1515.95 L2259.49 1514.29 L2264.17 1514.29 L2264.17 1544.91 L2271.81 1544.91 L2271.81 1548.85 L2251.9 1548.85 L2251.9 1544.91 Z\" fill=\"#000000\" fill-rule=\"evenodd\" fill-opacity=\"1\" /><path clip-path=\"url(#clip800)\" d=\"M2291.25 1517.37 Q2287.64 1517.37 2285.81 1520.93 Q2284.01 1524.47 2284.01 1531.6 Q2284.01 1538.71 2285.81 1542.27 Q2287.64 1545.82 2291.25 1545.82 Q2294.89 1545.82 2296.69 1542.27 Q2298.52 1538.71 2298.52 1531.6 Q2298.52 1524.47 2296.69 1520.93 Q2294.89 1517.37 2291.25 1517.37 M2291.25 1513.66 Q2297.06 1513.66 2300.12 1518.27 Q2303.2 1522.85 2303.2 1531.6 Q2303.2 1540.33 2300.12 1544.94 Q2297.06 1549.52 2291.25 1549.52 Q2285.44 1549.52 2282.36 1544.94 Q2279.31 1540.33 2279.31 1531.6 Q2279.31 1522.85 2282.36 1518.27 Q2285.44 1513.66 2291.25 1513.66 Z\" fill=\"#000000\" fill-rule=\"evenodd\" fill-opacity=\"1\" /><path clip-path=\"url(#clip800)\" d=\"M2321.41 1517.37 Q2317.8 1517.37 2315.97 1520.93 Q2314.17 1524.47 2314.17 1531.6 Q2314.17 1538.71 2315.97 1542.27 Q2317.8 1545.82 2321.41 1545.82 Q2325.05 1545.82 2326.85 1542.27 Q2328.68 1538.71 2328.68 1531.6 Q2328.68 1524.47 2326.85 1520.93 Q2325.05 1517.37 2321.41 1517.37 M2321.41 1513.66 Q2327.22 1513.66 2330.28 1518.27 Q2333.36 1522.85 2333.36 1531.6 Q2333.36 1540.33 2330.28 1544.94 Q2327.22 1549.52 2321.41 1549.52 Q2315.6 1549.52 2312.53 1544.94 Q2309.47 1540.33 2309.47 1531.6 Q2309.47 1522.85 2312.53 1518.27 Q2315.6 1513.66 2321.41 1513.66 Z\" fill=\"#000000\" fill-rule=\"evenodd\" fill-opacity=\"1\" /><polyline clip-path=\"url(#clip802)\" style=\"stroke:#000000; stroke-linecap:butt; stroke-linejoin:round; stroke-width:2; stroke-opacity:0.1; fill:none\" points=\"\n",
       "  216.436,1412.25 2352.76,1412.25 \n",
       "  \"/>\n",
       "<polyline clip-path=\"url(#clip802)\" style=\"stroke:#000000; stroke-linecap:butt; stroke-linejoin:round; stroke-width:2; stroke-opacity:0.1; fill:none\" points=\"\n",
       "  216.436,1116.92 2352.76,1116.92 \n",
       "  \"/>\n",
       "<polyline clip-path=\"url(#clip802)\" style=\"stroke:#000000; stroke-linecap:butt; stroke-linejoin:round; stroke-width:2; stroke-opacity:0.1; fill:none\" points=\"\n",
       "  216.436,821.576 2352.76,821.576 \n",
       "  \"/>\n",
       "<polyline clip-path=\"url(#clip802)\" style=\"stroke:#000000; stroke-linecap:butt; stroke-linejoin:round; stroke-width:2; stroke-opacity:0.1; fill:none\" points=\"\n",
       "  216.436,526.236 2352.76,526.236 \n",
       "  \"/>\n",
       "<polyline clip-path=\"url(#clip802)\" style=\"stroke:#000000; stroke-linecap:butt; stroke-linejoin:round; stroke-width:2; stroke-opacity:0.1; fill:none\" points=\"\n",
       "  216.436,230.896 2352.76,230.896 \n",
       "  \"/>\n",
       "<polyline clip-path=\"url(#clip800)\" style=\"stroke:#000000; stroke-linecap:butt; stroke-linejoin:round; stroke-width:4; stroke-opacity:1; fill:none\" points=\"\n",
       "  216.436,1486.45 216.436,123.472 \n",
       "  \"/>\n",
       "<polyline clip-path=\"url(#clip800)\" style=\"stroke:#000000; stroke-linecap:butt; stroke-linejoin:round; stroke-width:4; stroke-opacity:1; fill:none\" points=\"\n",
       "  216.436,1412.25 235.334,1412.25 \n",
       "  \"/>\n",
       "<polyline clip-path=\"url(#clip800)\" style=\"stroke:#000000; stroke-linecap:butt; stroke-linejoin:round; stroke-width:4; stroke-opacity:1; fill:none\" points=\"\n",
       "  216.436,1116.92 235.334,1116.92 \n",
       "  \"/>\n",
       "<polyline clip-path=\"url(#clip800)\" style=\"stroke:#000000; stroke-linecap:butt; stroke-linejoin:round; stroke-width:4; stroke-opacity:1; fill:none\" points=\"\n",
       "  216.436,821.576 235.334,821.576 \n",
       "  \"/>\n",
       "<polyline clip-path=\"url(#clip800)\" style=\"stroke:#000000; stroke-linecap:butt; stroke-linejoin:round; stroke-width:4; stroke-opacity:1; fill:none\" points=\"\n",
       "  216.436,526.236 235.334,526.236 \n",
       "  \"/>\n",
       "<polyline clip-path=\"url(#clip800)\" style=\"stroke:#000000; stroke-linecap:butt; stroke-linejoin:round; stroke-width:4; stroke-opacity:1; fill:none\" points=\"\n",
       "  216.436,230.896 235.334,230.896 \n",
       "  \"/>\n",
       "<path clip-path=\"url(#clip800)\" d=\"M63.9319 1398.05 Q60.3208 1398.05 58.4921 1401.62 Q56.6865 1405.16 56.6865 1412.29 Q56.6865 1419.4 58.4921 1422.96 Q60.3208 1426.5 63.9319 1426.5 Q67.5661 1426.5 69.3717 1422.96 Q71.2004 1419.4 71.2004 1412.29 Q71.2004 1405.16 69.3717 1401.62 Q67.5661 1398.05 63.9319 1398.05 M63.9319 1394.35 Q69.742 1394.35 72.7976 1398.96 Q75.8763 1403.54 75.8763 1412.29 Q75.8763 1421.02 72.7976 1425.62 Q69.742 1430.21 63.9319 1430.21 Q58.1217 1430.21 55.043 1425.62 Q51.9875 1421.02 51.9875 1412.29 Q51.9875 1403.54 55.043 1398.96 Q58.1217 1394.35 63.9319 1394.35 Z\" fill=\"#000000\" fill-rule=\"evenodd\" fill-opacity=\"1\" /><path clip-path=\"url(#clip800)\" d=\"M84.0938 1423.66 L88.978 1423.66 L88.978 1429.53 L84.0938 1429.53 L84.0938 1423.66 Z\" fill=\"#000000\" fill-rule=\"evenodd\" fill-opacity=\"1\" /><path clip-path=\"url(#clip800)\" d=\"M109.163 1398.05 Q105.552 1398.05 103.723 1401.62 Q101.918 1405.16 101.918 1412.29 Q101.918 1419.4 103.723 1422.96 Q105.552 1426.5 109.163 1426.5 Q112.797 1426.5 114.603 1422.96 Q116.432 1419.4 116.432 1412.29 Q116.432 1405.16 114.603 1401.62 Q112.797 1398.05 109.163 1398.05 M109.163 1394.35 Q114.973 1394.35 118.029 1398.96 Q121.107 1403.54 121.107 1412.29 Q121.107 1421.02 118.029 1425.62 Q114.973 1430.21 109.163 1430.21 Q103.353 1430.21 100.274 1425.62 Q97.2187 1421.02 97.2187 1412.29 Q97.2187 1403.54 100.274 1398.96 Q103.353 1394.35 109.163 1394.35 Z\" fill=\"#000000\" fill-rule=\"evenodd\" fill-opacity=\"1\" /><path clip-path=\"url(#clip800)\" d=\"M133.353 1425.6 L149.672 1425.6 L149.672 1429.53 L127.728 1429.53 L127.728 1425.6 Q130.39 1422.85 134.973 1418.22 Q139.58 1413.56 140.76 1412.22 Q143.006 1409.7 143.885 1407.96 Q144.788 1406.2 144.788 1404.51 Q144.788 1401.76 142.843 1400.02 Q140.922 1398.29 137.82 1398.29 Q135.621 1398.29 133.168 1399.05 Q130.737 1399.81 127.959 1401.36 L127.959 1396.64 Q130.783 1395.51 133.237 1394.93 Q135.691 1394.35 137.728 1394.35 Q143.098 1394.35 146.293 1397.04 Q149.487 1399.72 149.487 1404.21 Q149.487 1406.34 148.677 1408.26 Q147.89 1410.16 145.783 1412.75 Q145.205 1413.42 142.103 1416.64 Q139.001 1419.84 133.353 1425.6 Z\" fill=\"#000000\" fill-rule=\"evenodd\" fill-opacity=\"1\" /><path clip-path=\"url(#clip800)\" d=\"M159.533 1394.97 L177.89 1394.97 L177.89 1398.91 L163.816 1398.91 L163.816 1407.38 Q164.834 1407.03 165.853 1406.87 Q166.871 1406.69 167.89 1406.69 Q173.677 1406.69 177.056 1409.86 Q180.436 1413.03 180.436 1418.45 Q180.436 1424.03 176.964 1427.13 Q173.491 1430.21 167.172 1430.21 Q164.996 1430.21 162.728 1429.84 Q160.482 1429.47 158.075 1428.72 L158.075 1424.03 Q160.158 1425.16 162.38 1425.72 Q164.603 1426.27 167.079 1426.27 Q171.084 1426.27 173.422 1424.16 Q175.76 1422.06 175.76 1418.45 Q175.76 1414.84 173.422 1412.73 Q171.084 1410.62 167.079 1410.62 Q165.204 1410.62 163.329 1411.04 Q161.478 1411.46 159.533 1412.34 L159.533 1394.97 Z\" fill=\"#000000\" fill-rule=\"evenodd\" fill-opacity=\"1\" /><path clip-path=\"url(#clip800)\" d=\"M62.9365 1102.71 Q59.3254 1102.71 57.4967 1106.28 Q55.6912 1109.82 55.6912 1116.95 Q55.6912 1124.06 57.4967 1127.62 Q59.3254 1131.16 62.9365 1131.16 Q66.5707 1131.16 68.3763 1127.62 Q70.205 1124.06 70.205 1116.95 Q70.205 1109.82 68.3763 1106.28 Q66.5707 1102.71 62.9365 1102.71 M62.9365 1099.01 Q68.7467 1099.01 71.8022 1103.62 Q74.8809 1108.2 74.8809 1116.95 Q74.8809 1125.68 71.8022 1130.28 Q68.7467 1134.87 62.9365 1134.87 Q57.1264 1134.87 54.0477 1130.28 Q50.9921 1125.68 50.9921 1116.95 Q50.9921 1108.2 54.0477 1103.62 Q57.1264 1099.01 62.9365 1099.01 Z\" fill=\"#000000\" fill-rule=\"evenodd\" fill-opacity=\"1\" /><path clip-path=\"url(#clip800)\" d=\"M83.0984 1128.32 L87.9827 1128.32 L87.9827 1134.2 L83.0984 1134.2 L83.0984 1128.32 Z\" fill=\"#000000\" fill-rule=\"evenodd\" fill-opacity=\"1\" /><path clip-path=\"url(#clip800)\" d=\"M108.168 1102.71 Q104.557 1102.71 102.728 1106.28 Q100.922 1109.82 100.922 1116.95 Q100.922 1124.06 102.728 1127.62 Q104.557 1131.16 108.168 1131.16 Q111.802 1131.16 113.608 1127.62 Q115.436 1124.06 115.436 1116.95 Q115.436 1109.82 113.608 1106.28 Q111.802 1102.71 108.168 1102.71 M108.168 1099.01 Q113.978 1099.01 117.033 1103.62 Q120.112 1108.2 120.112 1116.95 Q120.112 1125.68 117.033 1130.28 Q113.978 1134.87 108.168 1134.87 Q102.358 1134.87 99.2789 1130.28 Q96.2234 1125.68 96.2234 1116.95 Q96.2234 1108.2 99.2789 1103.62 Q102.358 1099.01 108.168 1099.01 Z\" fill=\"#000000\" fill-rule=\"evenodd\" fill-opacity=\"1\" /><path clip-path=\"url(#clip800)\" d=\"M128.376 1099.64 L146.732 1099.64 L146.732 1103.57 L132.658 1103.57 L132.658 1112.04 Q133.677 1111.7 134.695 1111.53 Q135.714 1111.35 136.732 1111.35 Q142.519 1111.35 145.899 1114.52 Q149.279 1117.69 149.279 1123.11 Q149.279 1128.69 145.806 1131.79 Q142.334 1134.87 136.015 1134.87 Q133.839 1134.87 131.57 1134.5 Q129.325 1134.13 126.918 1133.39 L126.918 1128.69 Q129.001 1129.82 131.223 1130.38 Q133.445 1130.93 135.922 1130.93 Q139.927 1130.93 142.265 1128.82 Q144.603 1126.72 144.603 1123.11 Q144.603 1119.5 142.265 1117.39 Q139.927 1115.28 135.922 1115.28 Q134.047 1115.28 132.172 1115.7 Q130.32 1116.12 128.376 1117 L128.376 1099.64 Z\" fill=\"#000000\" fill-rule=\"evenodd\" fill-opacity=\"1\" /><path clip-path=\"url(#clip800)\" d=\"M168.491 1102.71 Q164.88 1102.71 163.052 1106.28 Q161.246 1109.82 161.246 1116.95 Q161.246 1124.06 163.052 1127.62 Q164.88 1131.16 168.491 1131.16 Q172.126 1131.16 173.931 1127.62 Q175.76 1124.06 175.76 1116.95 Q175.76 1109.82 173.931 1106.28 Q172.126 1102.71 168.491 1102.71 M168.491 1099.01 Q174.302 1099.01 177.357 1103.62 Q180.436 1108.2 180.436 1116.95 Q180.436 1125.68 177.357 1130.28 Q174.302 1134.87 168.491 1134.87 Q162.681 1134.87 159.603 1130.28 Q156.547 1125.68 156.547 1116.95 Q156.547 1108.2 159.603 1103.62 Q162.681 1099.01 168.491 1099.01 Z\" fill=\"#000000\" fill-rule=\"evenodd\" fill-opacity=\"1\" /><path clip-path=\"url(#clip800)\" d=\"M63.9319 807.374 Q60.3208 807.374 58.4921 810.939 Q56.6865 814.481 56.6865 821.61 Q56.6865 828.717 58.4921 832.282 Q60.3208 835.823 63.9319 835.823 Q67.5661 835.823 69.3717 832.282 Q71.2004 828.717 71.2004 821.61 Q71.2004 814.481 69.3717 810.939 Q67.5661 807.374 63.9319 807.374 M63.9319 803.671 Q69.742 803.671 72.7976 808.277 Q75.8763 812.86 75.8763 821.61 Q75.8763 830.337 72.7976 834.944 Q69.742 839.527 63.9319 839.527 Q58.1217 839.527 55.043 834.944 Q51.9875 830.337 51.9875 821.61 Q51.9875 812.86 55.043 808.277 Q58.1217 803.671 63.9319 803.671 Z\" fill=\"#000000\" fill-rule=\"evenodd\" fill-opacity=\"1\" /><path clip-path=\"url(#clip800)\" d=\"M84.0938 832.976 L88.978 832.976 L88.978 838.856 L84.0938 838.856 L84.0938 832.976 Z\" fill=\"#000000\" fill-rule=\"evenodd\" fill-opacity=\"1\" /><path clip-path=\"url(#clip800)\" d=\"M109.163 807.374 Q105.552 807.374 103.723 810.939 Q101.918 814.481 101.918 821.61 Q101.918 828.717 103.723 832.282 Q105.552 835.823 109.163 835.823 Q112.797 835.823 114.603 832.282 Q116.432 828.717 116.432 821.61 Q116.432 814.481 114.603 810.939 Q112.797 807.374 109.163 807.374 M109.163 803.671 Q114.973 803.671 118.029 808.277 Q121.107 812.86 121.107 821.61 Q121.107 830.337 118.029 834.944 Q114.973 839.527 109.163 839.527 Q103.353 839.527 100.274 834.944 Q97.2187 830.337 97.2187 821.61 Q97.2187 812.86 100.274 808.277 Q103.353 803.671 109.163 803.671 Z\" fill=\"#000000\" fill-rule=\"evenodd\" fill-opacity=\"1\" /><path clip-path=\"url(#clip800)\" d=\"M128.144 804.296 L150.367 804.296 L150.367 806.286 L137.82 838.856 L132.936 838.856 L144.742 808.231 L128.144 808.231 L128.144 804.296 Z\" fill=\"#000000\" fill-rule=\"evenodd\" fill-opacity=\"1\" /><path clip-path=\"url(#clip800)\" d=\"M159.533 804.296 L177.89 804.296 L177.89 808.231 L163.816 808.231 L163.816 816.703 Q164.834 816.356 165.853 816.194 Q166.871 816.009 167.89 816.009 Q173.677 816.009 177.056 819.18 Q180.436 822.351 180.436 827.768 Q180.436 833.346 176.964 836.448 Q173.491 839.527 167.172 839.527 Q164.996 839.527 162.728 839.157 Q160.482 838.786 158.075 838.045 L158.075 833.346 Q160.158 834.481 162.38 835.036 Q164.603 835.592 167.079 835.592 Q171.084 835.592 173.422 833.485 Q175.76 831.379 175.76 827.768 Q175.76 824.157 173.422 822.05 Q171.084 819.944 167.079 819.944 Q165.204 819.944 163.329 820.36 Q161.478 820.777 159.533 821.657 L159.533 804.296 Z\" fill=\"#000000\" fill-rule=\"evenodd\" fill-opacity=\"1\" /><path clip-path=\"url(#clip800)\" d=\"M62.9365 512.035 Q59.3254 512.035 57.4967 515.6 Q55.6912 519.141 55.6912 526.271 Q55.6912 533.377 57.4967 536.942 Q59.3254 540.484 62.9365 540.484 Q66.5707 540.484 68.3763 536.942 Q70.205 533.377 70.205 526.271 Q70.205 519.141 68.3763 515.6 Q66.5707 512.035 62.9365 512.035 M62.9365 508.331 Q68.7467 508.331 71.8022 512.938 Q74.8809 517.521 74.8809 526.271 Q74.8809 534.998 71.8022 539.604 Q68.7467 544.187 62.9365 544.187 Q57.1264 544.187 54.0477 539.604 Q50.9921 534.998 50.9921 526.271 Q50.9921 517.521 54.0477 512.938 Q57.1264 508.331 62.9365 508.331 Z\" fill=\"#000000\" fill-rule=\"evenodd\" fill-opacity=\"1\" /><path clip-path=\"url(#clip800)\" d=\"M83.0984 537.636 L87.9827 537.636 L87.9827 543.516 L83.0984 543.516 L83.0984 537.636 Z\" fill=\"#000000\" fill-rule=\"evenodd\" fill-opacity=\"1\" /><path clip-path=\"url(#clip800)\" d=\"M98.978 539.581 L106.617 539.581 L106.617 513.215 L98.3067 514.882 L98.3067 510.623 L106.571 508.956 L111.246 508.956 L111.246 539.581 L118.885 539.581 L118.885 543.516 L98.978 543.516 L98.978 539.581 Z\" fill=\"#000000\" fill-rule=\"evenodd\" fill-opacity=\"1\" /><path clip-path=\"url(#clip800)\" d=\"M138.33 512.035 Q134.719 512.035 132.89 515.6 Q131.084 519.141 131.084 526.271 Q131.084 533.377 132.89 536.942 Q134.719 540.484 138.33 540.484 Q141.964 540.484 143.769 536.942 Q145.598 533.377 145.598 526.271 Q145.598 519.141 143.769 515.6 Q141.964 512.035 138.33 512.035 M138.33 508.331 Q144.14 508.331 147.195 512.938 Q150.274 517.521 150.274 526.271 Q150.274 534.998 147.195 539.604 Q144.14 544.187 138.33 544.187 Q132.519 544.187 129.441 539.604 Q126.385 534.998 126.385 526.271 Q126.385 517.521 129.441 512.938 Q132.519 508.331 138.33 508.331 Z\" fill=\"#000000\" fill-rule=\"evenodd\" fill-opacity=\"1\" /><path clip-path=\"url(#clip800)\" d=\"M168.491 512.035 Q164.88 512.035 163.052 515.6 Q161.246 519.141 161.246 526.271 Q161.246 533.377 163.052 536.942 Q164.88 540.484 168.491 540.484 Q172.126 540.484 173.931 536.942 Q175.76 533.377 175.76 526.271 Q175.76 519.141 173.931 515.6 Q172.126 512.035 168.491 512.035 M168.491 508.331 Q174.302 508.331 177.357 512.938 Q180.436 517.521 180.436 526.271 Q180.436 534.998 177.357 539.604 Q174.302 544.187 168.491 544.187 Q162.681 544.187 159.603 539.604 Q156.547 534.998 156.547 526.271 Q156.547 517.521 159.603 512.938 Q162.681 508.331 168.491 508.331 Z\" fill=\"#000000\" fill-rule=\"evenodd\" fill-opacity=\"1\" /><path clip-path=\"url(#clip800)\" d=\"M63.9319 216.695 Q60.3208 216.695 58.4921 220.26 Q56.6865 223.802 56.6865 230.931 Q56.6865 238.038 58.4921 241.602 Q60.3208 245.144 63.9319 245.144 Q67.5661 245.144 69.3717 241.602 Q71.2004 238.038 71.2004 230.931 Q71.2004 223.802 69.3717 220.26 Q67.5661 216.695 63.9319 216.695 M63.9319 212.991 Q69.742 212.991 72.7976 217.598 Q75.8763 222.181 75.8763 230.931 Q75.8763 239.658 72.7976 244.264 Q69.742 248.848 63.9319 248.848 Q58.1217 248.848 55.043 244.264 Q51.9875 239.658 51.9875 230.931 Q51.9875 222.181 55.043 217.598 Q58.1217 212.991 63.9319 212.991 Z\" fill=\"#000000\" fill-rule=\"evenodd\" fill-opacity=\"1\" /><path clip-path=\"url(#clip800)\" d=\"M84.0938 242.297 L88.978 242.297 L88.978 248.176 L84.0938 248.176 L84.0938 242.297 Z\" fill=\"#000000\" fill-rule=\"evenodd\" fill-opacity=\"1\" /><path clip-path=\"url(#clip800)\" d=\"M99.9733 244.241 L107.612 244.241 L107.612 217.876 L99.3021 219.542 L99.3021 215.283 L107.566 213.616 L112.242 213.616 L112.242 244.241 L119.881 244.241 L119.881 248.176 L99.9733 248.176 L99.9733 244.241 Z\" fill=\"#000000\" fill-rule=\"evenodd\" fill-opacity=\"1\" /><path clip-path=\"url(#clip800)\" d=\"M133.353 244.241 L149.672 244.241 L149.672 248.176 L127.728 248.176 L127.728 244.241 Q130.39 241.487 134.973 236.857 Q139.58 232.204 140.76 230.862 Q143.006 228.339 143.885 226.603 Q144.788 224.843 144.788 223.153 Q144.788 220.399 142.843 218.663 Q140.922 216.927 137.82 216.927 Q135.621 216.927 133.168 217.691 Q130.737 218.454 127.959 220.005 L127.959 215.283 Q130.783 214.149 133.237 213.57 Q135.691 212.991 137.728 212.991 Q143.098 212.991 146.293 215.677 Q149.487 218.362 149.487 222.853 Q149.487 224.982 148.677 226.903 Q147.89 228.802 145.783 231.394 Q145.205 232.065 142.103 235.283 Q139.001 238.477 133.353 244.241 Z\" fill=\"#000000\" fill-rule=\"evenodd\" fill-opacity=\"1\" /><path clip-path=\"url(#clip800)\" d=\"M159.533 213.616 L177.89 213.616 L177.89 217.552 L163.816 217.552 L163.816 226.024 Q164.834 225.677 165.853 225.515 Q166.871 225.329 167.89 225.329 Q173.677 225.329 177.056 228.501 Q180.436 231.672 180.436 237.089 Q180.436 242.667 176.964 245.769 Q173.491 248.848 167.172 248.848 Q164.996 248.848 162.728 248.477 Q160.482 248.107 158.075 247.366 L158.075 242.667 Q160.158 243.802 162.38 244.357 Q164.603 244.913 167.079 244.913 Q171.084 244.913 173.422 242.806 Q175.76 240.7 175.76 237.089 Q175.76 233.477 173.422 231.371 Q171.084 229.265 167.079 229.265 Q165.204 229.265 163.329 229.681 Q161.478 230.098 159.533 230.978 L159.533 213.616 Z\" fill=\"#000000\" fill-rule=\"evenodd\" fill-opacity=\"1\" /><path clip-path=\"url(#clip800)\" d=\"M338.73 14.0809 L338.73 22.0612 Q334.071 19.8332 329.94 18.7395 Q325.808 17.6457 321.959 17.6457 Q315.275 17.6457 311.629 20.2383 Q308.024 22.8309 308.024 27.611 Q308.024 31.6214 310.414 33.6873 Q312.845 35.7128 319.569 36.9686 L324.511 37.9813 Q333.666 39.7232 338.001 44.1387 Q342.376 48.5136 342.376 55.8863 Q342.376 64.6767 336.462 69.2137 Q330.588 73.7508 319.205 73.7508 Q314.911 73.7508 310.05 72.7785 Q305.229 71.8063 300.044 69.9024 L300.044 61.4765 Q305.026 64.2716 309.807 65.6895 Q314.587 67.1073 319.205 67.1073 Q326.213 67.1073 330.021 64.3527 Q333.828 61.598 333.828 56.4939 Q333.828 52.0379 331.074 49.5264 Q328.36 47.0148 322.121 45.759 L317.139 44.7868 Q307.984 42.9639 303.892 39.075 Q299.801 35.1862 299.801 28.2591 Q299.801 20.2383 305.432 15.6203 Q311.103 11.0023 321.028 11.0023 Q325.281 11.0023 329.696 11.7719 Q334.112 12.5416 338.73 14.0809 Z\" fill=\"#000000\" fill-rule=\"evenodd\" fill-opacity=\"1\" /><path clip-path=\"url(#clip800)\" d=\"M351.571 27.2059 L386.976 27.2059 L386.976 34.0114 L358.944 66.6212 L386.976 66.6212 L386.976 72.576 L350.559 72.576 L350.559 65.7705 L378.591 33.1607 L351.571 33.1607 L351.571 27.2059 Z\" fill=\"#000000\" fill-rule=\"evenodd\" fill-opacity=\"1\" /><path clip-path=\"url(#clip800)\" d=\"M437.167 48.0275 L437.167 51.6733 L402.896 51.6733 Q403.382 59.3701 407.514 63.421 Q411.687 67.4314 419.1 67.4314 Q423.394 67.4314 427.404 66.3781 Q431.455 65.3249 435.425 63.2184 L435.425 70.267 Q431.415 71.9684 427.202 72.8596 Q422.989 73.7508 418.654 73.7508 Q407.798 73.7508 401.438 67.4314 Q395.119 61.1119 395.119 50.3365 Q395.119 39.1965 401.114 32.6746 Q407.15 26.1121 417.358 26.1121 Q426.513 26.1121 431.82 32.0264 Q437.167 37.9003 437.167 48.0275 M429.713 45.84 Q429.632 39.7232 426.27 36.0774 Q422.948 32.4315 417.439 32.4315 Q411.201 32.4315 407.433 35.9558 Q403.707 39.4801 403.139 45.8805 L429.713 45.84 Z\" fill=\"#000000\" fill-rule=\"evenodd\" fill-opacity=\"1\" /><path clip-path=\"url(#clip800)\" d=\"M475.691 34.1734 Q474.435 33.4443 472.936 33.1202 Q471.478 32.7556 469.696 32.7556 Q463.376 32.7556 459.974 36.8875 Q456.611 40.9789 456.611 48.6757 L456.611 72.576 L449.117 72.576 L449.117 27.2059 L456.611 27.2059 L456.611 34.2544 Q458.961 30.1225 462.728 28.1376 Q466.496 26.1121 471.883 26.1121 Q472.653 26.1121 473.585 26.2337 Q474.516 26.3147 475.651 26.5172 L475.691 34.1734 Z\" fill=\"#000000\" fill-rule=\"evenodd\" fill-opacity=\"1\" /><path clip-path=\"url(#clip800)\" d=\"M499.267 32.4315 Q493.272 32.4315 489.788 37.1306 Q486.304 41.7891 486.304 49.9314 Q486.304 58.0738 489.748 62.7728 Q493.231 67.4314 499.267 67.4314 Q505.222 67.4314 508.706 62.7323 Q512.19 58.0333 512.19 49.9314 Q512.19 41.8701 508.706 37.1711 Q505.222 32.4315 499.267 32.4315 M499.267 26.1121 Q508.99 26.1121 514.539 32.4315 Q520.089 38.7509 520.089 49.9314 Q520.089 61.0714 514.539 67.4314 Q508.99 73.7508 499.267 73.7508 Q489.505 73.7508 483.955 67.4314 Q478.446 61.0714 478.446 49.9314 Q478.446 38.7509 483.955 32.4315 Q489.505 26.1121 499.267 26.1121 Z\" fill=\"#000000\" fill-rule=\"evenodd\" fill-opacity=\"1\" /><path clip-path=\"url(#clip800)\" d=\"M532.161 9.54393 L539.655 9.54393 L539.655 46.7717 L561.894 27.2059 L571.414 27.2059 L547.352 48.4326 L572.427 72.576 L562.705 72.576 L539.655 50.4176 L539.655 72.576 L532.161 72.576 L532.161 9.54393 Z\" fill=\"#000000\" fill-rule=\"evenodd\" fill-opacity=\"1\" /><path clip-path=\"url(#clip800)\" d=\"M595.112 32.4315 Q589.116 32.4315 585.633 37.1306 Q582.149 41.7891 582.149 49.9314 Q582.149 58.0738 585.592 62.7728 Q589.076 67.4314 595.112 67.4314 Q601.067 67.4314 604.55 62.7323 Q608.034 58.0333 608.034 49.9314 Q608.034 41.8701 604.55 37.1711 Q601.067 32.4315 595.112 32.4315 M595.112 26.1121 Q604.834 26.1121 610.384 32.4315 Q615.933 38.7509 615.933 49.9314 Q615.933 61.0714 610.384 67.4314 Q604.834 73.7508 595.112 73.7508 Q585.349 73.7508 579.799 67.4314 Q574.29 61.0714 574.29 49.9314 Q574.29 38.7509 579.799 32.4315 Q585.349 26.1121 595.112 26.1121 Z\" fill=\"#000000\" fill-rule=\"evenodd\" fill-opacity=\"1\" /><path clip-path=\"url(#clip800)\" d=\"M649.515 5.93863 L657.577 5.93863 L644.371 21.17 L638.173 21.17 L649.515 5.93863 M657.212 28.5427 L657.212 35.5912 Q654.052 33.9709 650.65 33.1607 Q647.247 32.3505 643.601 32.3505 Q638.051 32.3505 635.256 34.0519 Q632.502 35.7533 632.502 39.156 Q632.502 41.7486 634.487 43.2475 Q636.471 44.7058 642.467 46.0426 L645.019 46.6097 Q652.959 48.3111 656.28 51.4303 Q659.643 54.509 659.643 60.0587 Q659.643 66.3781 654.62 70.0644 Q649.637 73.7508 640.887 73.7508 Q637.241 73.7508 633.271 73.0216 Q629.342 72.3329 624.967 70.9151 L624.967 63.2184 Q629.099 65.3654 633.109 66.4591 Q637.12 67.5124 641.049 67.5124 Q646.315 67.5124 649.151 65.73 Q651.986 63.9071 651.986 60.6258 Q651.986 57.5877 649.92 55.9673 Q647.895 54.3469 640.968 52.8481 L638.375 52.2405 Q631.448 50.7821 628.37 47.7845 Q625.291 44.7463 625.291 39.4801 Q625.291 33.0797 629.828 29.5959 Q634.365 26.1121 642.71 26.1121 Q646.842 26.1121 650.488 26.7198 Q654.133 27.3274 657.212 28.5427 Z\" fill=\"#000000\" fill-rule=\"evenodd\" fill-opacity=\"1\" /><path clip-path=\"url(#clip800)\" d=\"M704.162 28.9478 L704.162 35.9153 Q701.002 34.1734 697.802 33.3227 Q694.642 32.4315 691.402 32.4315 Q684.151 32.4315 680.14 37.0496 Q676.13 41.6271 676.13 49.9314 Q676.13 58.2358 680.14 62.8538 Q684.151 67.4314 691.402 67.4314 Q694.642 67.4314 697.802 66.5807 Q701.002 65.6895 704.162 63.9476 L704.162 70.8341 Q701.043 72.2924 697.681 73.0216 Q694.359 73.7508 690.592 73.7508 Q680.343 73.7508 674.307 67.3098 Q668.271 60.8689 668.271 49.9314 Q668.271 38.832 674.347 32.472 Q680.464 26.1121 691.078 26.1121 Q694.521 26.1121 697.802 26.8413 Q701.083 27.5299 704.162 28.9478 Z\" fill=\"#000000\" fill-rule=\"evenodd\" fill-opacity=\"1\" /><path clip-path=\"url(#clip800)\" d=\"M717.125 27.2059 L724.579 27.2059 L724.579 72.576 L717.125 72.576 L717.125 27.2059 M717.125 9.54393 L724.579 9.54393 L724.579 18.9825 L717.125 18.9825 L717.125 9.54393 Z\" fill=\"#000000\" fill-rule=\"evenodd\" fill-opacity=\"1\" /><path clip-path=\"url(#clip800)\" d=\"M773.757 65.7705 L773.757 89.8329 L766.262 89.8329 L766.262 27.2059 L773.757 27.2059 L773.757 34.0924 Q776.106 30.0415 779.671 28.0971 Q783.276 26.1121 788.259 26.1121 Q796.523 26.1121 801.667 32.6746 Q806.853 39.2371 806.853 49.9314 Q806.853 60.6258 801.667 67.1883 Q796.523 73.7508 788.259 73.7508 Q783.276 73.7508 779.671 71.8063 Q776.106 69.8214 773.757 65.7705 M799.115 49.9314 Q799.115 41.7081 795.713 37.0496 Q792.35 32.3505 786.436 32.3505 Q780.522 32.3505 777.119 37.0496 Q773.757 41.7081 773.757 49.9314 Q773.757 58.1548 777.119 62.8538 Q780.522 67.5124 786.436 67.5124 Q792.35 67.5124 795.713 62.8538 Q799.115 58.1548 799.115 49.9314 Z\" fill=\"#000000\" fill-rule=\"evenodd\" fill-opacity=\"1\" /><path clip-path=\"url(#clip800)\" d=\"M845.498 34.1734 Q844.242 33.4443 842.744 33.1202 Q841.285 32.7556 839.503 32.7556 Q833.183 32.7556 829.781 36.8875 Q826.418 40.9789 826.418 48.6757 L826.418 72.576 L818.924 72.576 L818.924 27.2059 L826.418 27.2059 L826.418 34.2544 Q828.768 30.1225 832.535 28.1376 Q836.303 26.1121 841.69 26.1121 Q842.46 26.1121 843.392 26.2337 Q844.323 26.3147 845.458 26.5172 L845.498 34.1734 Z\" fill=\"#000000\" fill-rule=\"evenodd\" fill-opacity=\"1\" /><path clip-path=\"url(#clip800)\" d=\"M850.076 27.2059 L885.481 27.2059 L885.481 34.0114 L857.448 66.6212 L885.481 66.6212 L885.481 72.576 L849.063 72.576 L849.063 65.7705 L877.095 33.1607 L850.076 33.1607 L850.076 27.2059 Z\" fill=\"#000000\" fill-rule=\"evenodd\" fill-opacity=\"1\" /><path clip-path=\"url(#clip800)\" d=\"M935.671 48.0275 L935.671 51.6733 L901.401 51.6733 Q901.887 59.3701 906.019 63.421 Q910.191 67.4314 917.604 67.4314 Q921.898 67.4314 925.909 66.3781 Q929.959 65.3249 933.929 63.2184 L933.929 70.267 Q929.919 71.9684 925.706 72.8596 Q921.493 73.7508 917.159 73.7508 Q906.302 73.7508 899.942 67.4314 Q893.623 61.1119 893.623 50.3365 Q893.623 39.1965 899.618 32.6746 Q905.654 26.1121 915.862 26.1121 Q925.017 26.1121 930.324 32.0264 Q935.671 37.9003 935.671 48.0275 M928.218 45.84 Q928.137 39.7232 924.774 36.0774 Q921.453 32.4315 915.943 32.4315 Q909.705 32.4315 905.938 35.9558 Q902.211 39.4801 901.644 45.8805 L928.218 45.84 Z\" fill=\"#000000\" fill-rule=\"evenodd\" fill-opacity=\"1\" /><path clip-path=\"url(#clip800)\" d=\"M977.76 34.0924 L977.76 9.54393 L985.214 9.54393 L985.214 72.576 L977.76 72.576 L977.76 65.7705 Q975.411 69.8214 971.805 71.8063 Q968.241 73.7508 963.217 73.7508 Q954.994 73.7508 949.809 67.1883 Q944.664 60.6258 944.664 49.9314 Q944.664 39.2371 949.809 32.6746 Q954.994 26.1121 963.217 26.1121 Q968.241 26.1121 971.805 28.0971 Q975.411 30.0415 977.76 34.0924 M952.361 49.9314 Q952.361 58.1548 955.723 62.8538 Q959.126 67.5124 965.04 67.5124 Q970.955 67.5124 974.357 62.8538 Q977.76 58.1548 977.76 49.9314 Q977.76 41.7081 974.357 37.0496 Q970.955 32.3505 965.04 32.3505 Q959.126 32.3505 955.723 37.0496 Q952.361 41.7081 952.361 49.9314 Z\" fill=\"#000000\" fill-rule=\"evenodd\" fill-opacity=\"1\" /><path clip-path=\"url(#clip800)\" d=\"M997.326 27.2059 L1032.73 27.2059 L1032.73 34.0114 L1004.7 66.6212 L1032.73 66.6212 L1032.73 72.576 L996.313 72.576 L996.313 65.7705 L1024.35 33.1607 L997.326 33.1607 L997.326 27.2059 Z\" fill=\"#000000\" fill-rule=\"evenodd\" fill-opacity=\"1\" /><path clip-path=\"url(#clip800)\" d=\"M1044.11 27.2059 L1051.57 27.2059 L1051.57 72.576 L1044.11 72.576 L1044.11 27.2059 M1044.11 9.54393 L1051.57 9.54393 L1051.57 18.9825 L1044.11 18.9825 L1044.11 9.54393 Z\" fill=\"#000000\" fill-rule=\"evenodd\" fill-opacity=\"1\" /><path clip-path=\"url(#clip800)\" d=\"M1087.78 49.7694 Q1078.75 49.7694 1075.27 51.8354 Q1071.78 53.9013 1071.78 58.8839 Q1071.78 62.8538 1074.37 65.2034 Q1077.01 67.5124 1081.5 67.5124 Q1087.7 67.5124 1091.43 63.1374 Q1095.2 58.7219 1095.2 51.4303 L1095.2 49.7694 L1087.78 49.7694 M1102.65 46.6907 L1102.65 72.576 L1095.2 72.576 L1095.2 65.6895 Q1092.64 69.8214 1088.84 71.8063 Q1085.03 73.7508 1079.52 73.7508 Q1072.55 73.7508 1068.42 69.8619 Q1064.33 65.9325 1064.33 59.3701 Q1064.33 51.7138 1069.43 47.825 Q1074.58 43.9361 1084.74 43.9361 L1095.2 43.9361 L1095.2 43.2069 Q1095.2 38.0623 1091.79 35.2672 Q1088.43 32.4315 1082.31 32.4315 Q1078.43 32.4315 1074.74 33.3632 Q1071.05 34.295 1067.65 36.1584 L1067.65 29.2718 Q1071.74 27.692 1075.59 26.9223 Q1079.44 26.1121 1083.08 26.1121 Q1092.93 26.1121 1097.79 31.2163 Q1102.65 36.3204 1102.65 46.6907 Z\" fill=\"#000000\" fill-rule=\"evenodd\" fill-opacity=\"1\" /><path clip-path=\"url(#clip800)\" d=\"M1118.25 9.54393 L1125.7 9.54393 L1125.7 33.9304 L1130.76 30.2846 L1133.84 34.5785 L1125.7 40.2903 L1125.7 72.576 L1118.25 72.576 L1118.25 45.597 L1113.26 49.1618 L1110.27 44.8678 L1118.25 39.156 L1118.25 9.54393 Z\" fill=\"#000000\" fill-rule=\"evenodd\" fill-opacity=\"1\" /><path clip-path=\"url(#clip800)\" d=\"M1140.81 54.671 L1140.81 27.2059 L1148.26 27.2059 L1148.26 54.3874 Q1148.26 60.8284 1150.77 64.0691 Q1153.29 67.2693 1158.31 67.2693 Q1164.34 67.2693 1167.83 63.421 Q1171.35 59.5726 1171.35 52.9291 L1171.35 27.2059 L1178.81 27.2059 L1178.81 72.576 L1171.35 72.576 L1171.35 65.6084 Q1168.64 69.7404 1165.03 71.7658 Q1161.47 73.7508 1156.73 73.7508 Q1148.91 73.7508 1144.86 68.8897 Q1140.81 64.0286 1140.81 54.671 M1159.56 26.1121 L1159.56 26.1121 Z\" fill=\"#000000\" fill-rule=\"evenodd\" fill-opacity=\"1\" /><path clip-path=\"url(#clip800)\" d=\"M1219.76 54.671 L1219.76 27.2059 L1227.21 27.2059 L1227.21 54.3874 Q1227.21 60.8284 1229.73 64.0691 Q1232.24 67.2693 1237.26 67.2693 Q1243.3 67.2693 1246.78 63.421 Q1250.3 59.5726 1250.3 52.9291 L1250.3 27.2059 L1257.76 27.2059 L1257.76 72.576 L1250.3 72.576 L1250.3 65.6084 Q1247.59 69.7404 1243.99 71.7658 Q1240.42 73.7508 1235.68 73.7508 Q1227.86 73.7508 1223.81 68.8897 Q1219.76 64.0286 1219.76 54.671 M1238.52 26.1121 L1238.52 26.1121 Z\" fill=\"#000000\" fill-rule=\"evenodd\" fill-opacity=\"1\" /><path clip-path=\"url(#clip800)\" d=\"M1296.08 9.54393 L1296.08 15.7418 L1288.95 15.7418 Q1284.94 15.7418 1283.36 17.3622 Q1281.82 18.9825 1281.82 23.1955 L1281.82 27.2059 L1294.1 27.2059 L1294.1 32.9987 L1281.82 32.9987 L1281.82 72.576 L1274.33 72.576 L1274.33 32.9987 L1267.2 32.9987 L1267.2 27.2059 L1274.33 27.2059 L1274.33 24.0462 Q1274.33 16.471 1277.85 13.0277 Q1281.38 9.54393 1289.03 9.54393 L1296.08 9.54393 Z\" fill=\"#000000\" fill-rule=\"evenodd\" fill-opacity=\"1\" /><path clip-path=\"url(#clip800)\" d=\"M1340.03 45.1919 L1340.03 72.576 L1332.58 72.576 L1332.58 45.4349 Q1332.58 38.994 1330.07 35.7938 Q1327.56 32.5936 1322.53 32.5936 Q1316.5 32.5936 1313.01 36.4419 Q1309.53 40.2903 1309.53 46.9338 L1309.53 72.576 L1302.04 72.576 L1302.04 27.2059 L1309.53 27.2059 L1309.53 34.2544 Q1312.2 30.163 1315.81 28.1376 Q1319.45 26.1121 1324.19 26.1121 Q1332.01 26.1121 1336.02 30.9732 Q1340.03 35.7938 1340.03 45.1919 Z\" fill=\"#000000\" fill-rule=\"evenodd\" fill-opacity=\"1\" /><path clip-path=\"url(#clip800)\" d=\"M1372.48 32.4315 Q1366.48 32.4315 1363 37.1306 Q1359.52 41.7891 1359.52 49.9314 Q1359.52 58.0738 1362.96 62.7728 Q1366.44 67.4314 1372.48 67.4314 Q1378.44 67.4314 1381.92 62.7323 Q1385.4 58.0333 1385.4 49.9314 Q1385.4 41.8701 1381.92 37.1711 Q1378.44 32.4315 1372.48 32.4315 M1372.48 26.1121 Q1382.2 26.1121 1387.75 32.4315 Q1393.3 38.7509 1393.3 49.9314 Q1393.3 61.0714 1387.75 67.4314 Q1382.2 73.7508 1372.48 73.7508 Q1362.72 73.7508 1357.17 67.4314 Q1351.66 61.0714 1351.66 49.9314 Q1351.66 38.7509 1357.17 32.4315 Q1362.72 26.1121 1372.48 26.1121 Z\" fill=\"#000000\" fill-rule=\"evenodd\" fill-opacity=\"1\" /><path clip-path=\"url(#clip800)\" d=\"M1426.88 5.93863 L1434.95 5.93863 L1421.74 21.17 L1415.54 21.17 L1426.88 5.93863 M1434.58 28.5427 L1434.58 35.5912 Q1431.42 33.9709 1428.02 33.1607 Q1424.62 32.3505 1420.97 32.3505 Q1415.42 32.3505 1412.62 34.0519 Q1409.87 35.7533 1409.87 39.156 Q1409.87 41.7486 1411.86 43.2475 Q1413.84 44.7058 1419.84 46.0426 L1422.39 46.6097 Q1430.33 48.3111 1433.65 51.4303 Q1437.01 54.509 1437.01 60.0587 Q1437.01 66.3781 1431.99 70.0644 Q1427.01 73.7508 1418.26 73.7508 Q1414.61 73.7508 1410.64 73.0216 Q1406.71 72.3329 1402.34 70.9151 L1402.34 63.2184 Q1406.47 65.3654 1410.48 66.4591 Q1414.49 67.5124 1418.42 67.5124 Q1423.68 67.5124 1426.52 65.73 Q1429.35 63.9071 1429.35 60.6258 Q1429.35 57.5877 1427.29 55.9673 Q1425.26 54.3469 1418.34 52.8481 L1415.74 52.2405 Q1408.82 50.7821 1405.74 47.7845 Q1402.66 44.7463 1402.66 39.4801 Q1402.66 33.0797 1407.2 29.5959 Q1411.73 26.1121 1420.08 26.1121 Q1424.21 26.1121 1427.86 26.7198 Q1431.5 27.3274 1434.58 28.5427 Z\" fill=\"#000000\" fill-rule=\"evenodd\" fill-opacity=\"1\" /><path clip-path=\"url(#clip800)\" d=\"M1481.53 28.9478 L1481.53 35.9153 Q1478.37 34.1734 1475.17 33.3227 Q1472.01 32.4315 1468.77 32.4315 Q1461.52 32.4315 1457.51 37.0496 Q1453.5 41.6271 1453.5 49.9314 Q1453.5 58.2358 1457.51 62.8538 Q1461.52 67.4314 1468.77 67.4314 Q1472.01 67.4314 1475.17 66.5807 Q1478.37 65.6895 1481.53 63.9476 L1481.53 70.8341 Q1478.41 72.2924 1475.05 73.0216 Q1471.73 73.7508 1467.96 73.7508 Q1457.71 73.7508 1451.68 67.3098 Q1445.64 60.8689 1445.64 49.9314 Q1445.64 38.832 1451.72 32.472 Q1457.83 26.1121 1468.45 26.1121 Q1471.89 26.1121 1475.17 26.8413 Q1478.45 27.5299 1481.53 28.9478 Z\" fill=\"#000000\" fill-rule=\"evenodd\" fill-opacity=\"1\" /><path clip-path=\"url(#clip800)\" d=\"M1494.49 27.2059 L1501.95 27.2059 L1501.95 72.576 L1494.49 72.576 L1494.49 27.2059 M1494.49 9.54393 L1501.95 9.54393 L1501.95 18.9825 L1494.49 18.9825 L1494.49 9.54393 Z\" fill=\"#000000\" fill-rule=\"evenodd\" fill-opacity=\"1\" /><path clip-path=\"url(#clip800)\" d=\"M1596.82 39.4801 L1596.82 46.6907 Q1592.57 49.8909 1588.92 51.2682 Q1585.31 52.6456 1581.39 52.6456 Q1576.93 52.6456 1571.02 50.2555 Q1570.57 50.0935 1570.37 50.0125 Q1570.08 49.8909 1569.48 49.6884 Q1563.2 47.1768 1559.39 47.1768 Q1555.82 47.1768 1552.34 48.7567 Q1548.86 50.296 1544.89 53.6583 L1544.89 46.4477 Q1549.14 43.2475 1552.75 41.8701 Q1556.39 40.4523 1560.32 40.4523 Q1564.78 40.4523 1570.73 42.8829 Q1571.14 43.0449 1571.34 43.1259 Q1571.66 43.2475 1572.23 43.45 Q1578.51 45.9616 1582.32 45.9616 Q1585.8 45.9616 1589.2 44.4222 Q1592.65 42.8829 1596.82 39.4801 Z\" fill=\"#000000\" fill-rule=\"evenodd\" fill-opacity=\"1\" /><path clip-path=\"url(#clip800)\" d=\"M1661.84 27.2059 L1669.29 27.2059 L1678.61 62.6108 L1687.88 27.2059 L1696.67 27.2059 L1705.99 62.6108 L1715.27 27.2059 L1722.72 27.2059 L1710.85 72.576 L1702.06 72.576 L1692.3 35.3887 L1682.5 72.576 L1673.71 72.576 L1661.84 27.2059 Z\" fill=\"#000000\" fill-rule=\"evenodd\" fill-opacity=\"1\" /><path clip-path=\"url(#clip800)\" d=\"M1734.02 27.2059 L1741.48 27.2059 L1741.48 72.576 L1734.02 72.576 L1734.02 27.2059 M1734.02 9.54393 L1741.48 9.54393 L1741.48 18.9825 L1734.02 18.9825 L1734.02 9.54393 Z\" fill=\"#000000\" fill-rule=\"evenodd\" fill-opacity=\"1\" /><path clip-path=\"url(#clip800)\" d=\"M1795.88 48.0275 L1795.88 51.6733 L1761.61 51.6733 Q1762.1 59.3701 1766.23 63.421 Q1770.4 67.4314 1777.81 67.4314 Q1782.11 67.4314 1786.12 66.3781 Q1790.17 65.3249 1794.14 63.2184 L1794.14 70.267 Q1790.13 71.9684 1785.92 72.8596 Q1781.7 73.7508 1777.37 73.7508 Q1766.51 73.7508 1760.15 67.4314 Q1753.83 61.1119 1753.83 50.3365 Q1753.83 39.1965 1759.83 32.6746 Q1765.86 26.1121 1776.07 26.1121 Q1785.23 26.1121 1790.53 32.0264 Q1795.88 37.9003 1795.88 48.0275 M1788.43 45.84 Q1788.35 39.7232 1784.98 36.0774 Q1781.66 32.4315 1776.15 32.4315 Q1769.91 32.4315 1766.15 35.9558 Q1762.42 39.4801 1761.85 45.8805 L1788.43 45.84 Z\" fill=\"#000000\" fill-rule=\"evenodd\" fill-opacity=\"1\" /><path clip-path=\"url(#clip800)\" d=\"M1808.11 9.54393 L1815.57 9.54393 L1815.57 72.576 L1808.11 72.576 L1808.11 9.54393 Z\" fill=\"#000000\" fill-rule=\"evenodd\" fill-opacity=\"1\" /><path clip-path=\"url(#clip800)\" d=\"M1830.88 9.54393 L1838.37 9.54393 L1838.37 46.7717 L1860.61 27.2059 L1870.13 27.2059 L1846.07 48.4326 L1871.15 72.576 L1861.42 72.576 L1838.37 50.4176 L1838.37 72.576 L1830.88 72.576 L1830.88 9.54393 Z\" fill=\"#000000\" fill-rule=\"evenodd\" fill-opacity=\"1\" /><path clip-path=\"url(#clip800)\" d=\"M1893.83 32.4315 Q1887.84 32.4315 1884.35 37.1306 Q1880.87 41.7891 1880.87 49.9314 Q1880.87 58.0738 1884.31 62.7728 Q1887.8 67.4314 1893.83 67.4314 Q1899.79 67.4314 1903.27 62.7323 Q1906.75 58.0333 1906.75 49.9314 Q1906.75 41.8701 1903.27 37.1711 Q1899.79 32.4315 1893.83 32.4315 M1893.83 26.1121 Q1903.55 26.1121 1909.1 32.4315 Q1914.65 38.7509 1914.65 49.9314 Q1914.65 61.0714 1909.1 67.4314 Q1903.55 73.7508 1893.83 73.7508 Q1884.07 73.7508 1878.52 67.4314 Q1873.01 61.0714 1873.01 49.9314 Q1873.01 38.7509 1878.52 32.4315 Q1884.07 26.1121 1893.83 26.1121 Z\" fill=\"#000000\" fill-rule=\"evenodd\" fill-opacity=\"1\" /><path clip-path=\"url(#clip800)\" d=\"M1948.24 5.93863 L1956.3 5.93863 L1943.09 21.17 L1936.89 21.17 L1948.24 5.93863 M1955.93 28.5427 L1955.93 35.5912 Q1952.77 33.9709 1949.37 33.1607 Q1945.97 32.3505 1942.32 32.3505 Q1936.77 32.3505 1933.98 34.0519 Q1931.22 35.7533 1931.22 39.156 Q1931.22 41.7486 1933.21 43.2475 Q1935.19 44.7058 1941.19 46.0426 L1943.74 46.6097 Q1951.68 48.3111 1955 51.4303 Q1958.36 54.509 1958.36 60.0587 Q1958.36 66.3781 1953.34 70.0644 Q1948.36 73.7508 1939.61 73.7508 Q1935.96 73.7508 1931.99 73.0216 Q1928.06 72.3329 1923.69 70.9151 L1923.69 63.2184 Q1927.82 65.3654 1931.83 66.4591 Q1935.84 67.5124 1939.77 67.5124 Q1945.04 67.5124 1947.87 65.73 Q1950.71 63.9071 1950.71 60.6258 Q1950.71 57.5877 1948.64 55.9673 Q1946.61 54.3469 1939.69 52.8481 L1937.1 52.2405 Q1930.17 50.7821 1927.09 47.7845 Q1924.01 44.7463 1924.01 39.4801 Q1924.01 33.0797 1928.55 29.5959 Q1933.08 26.1121 1941.43 26.1121 Q1945.56 26.1121 1949.21 26.7198 Q1952.85 27.3274 1955.93 28.5427 Z\" fill=\"#000000\" fill-rule=\"evenodd\" fill-opacity=\"1\" /><path clip-path=\"url(#clip800)\" d=\"M2002.88 28.9478 L2002.88 35.9153 Q1999.72 34.1734 1996.52 33.3227 Q1993.36 32.4315 1990.12 32.4315 Q1982.87 32.4315 1978.86 37.0496 Q1974.85 41.6271 1974.85 49.9314 Q1974.85 58.2358 1978.86 62.8538 Q1982.87 67.4314 1990.12 67.4314 Q1993.36 67.4314 1996.52 66.5807 Q1999.72 65.6895 2002.88 63.9476 L2002.88 70.8341 Q1999.76 72.2924 1996.4 73.0216 Q1993.08 73.7508 1989.31 73.7508 Q1979.06 73.7508 1973.03 67.3098 Q1966.99 60.8689 1966.99 49.9314 Q1966.99 38.832 1973.07 32.472 Q1979.18 26.1121 1989.8 26.1121 Q1993.24 26.1121 1996.52 26.8413 Q1999.8 27.5299 2002.88 28.9478 M1994.33 6.22219 L2002.4 6.22219 L1989.19 21.4536 L1982.99 21.4536 L1994.33 6.22219 Z\" fill=\"#000000\" fill-rule=\"evenodd\" fill-opacity=\"1\" /><path clip-path=\"url(#clip800)\" d=\"M2049.43 65.7705 L2049.43 89.8329 L2041.93 89.8329 L2041.93 27.2059 L2049.43 27.2059 L2049.43 34.0924 Q2051.78 30.0415 2055.34 28.0971 Q2058.95 26.1121 2063.93 26.1121 Q2072.19 26.1121 2077.34 32.6746 Q2082.52 39.2371 2082.52 49.9314 Q2082.52 60.6258 2077.34 67.1883 Q2072.19 73.7508 2063.93 73.7508 Q2058.95 73.7508 2055.34 71.8063 Q2051.78 69.8214 2049.43 65.7705 M2074.79 49.9314 Q2074.79 41.7081 2071.38 37.0496 Q2068.02 32.3505 2062.11 32.3505 Q2056.19 32.3505 2052.79 37.0496 Q2049.43 41.7081 2049.43 49.9314 Q2049.43 58.1548 2052.79 62.8538 Q2056.19 67.5124 2062.11 67.5124 Q2068.02 67.5124 2071.38 62.8538 Q2074.79 58.1548 2074.79 49.9314 Z\" fill=\"#000000\" fill-rule=\"evenodd\" fill-opacity=\"1\" /><path clip-path=\"url(#clip800)\" d=\"M2121.17 34.1734 Q2119.91 33.4443 2118.41 33.1202 Q2116.96 32.7556 2115.17 32.7556 Q2108.85 32.7556 2105.45 36.8875 Q2102.09 40.9789 2102.09 48.6757 L2102.09 72.576 L2094.59 72.576 L2094.59 27.2059 L2102.09 27.2059 L2102.09 34.2544 Q2104.44 30.1225 2108.21 28.1376 Q2111.97 26.1121 2117.36 26.1121 Q2118.13 26.1121 2119.06 26.2337 Q2119.99 26.3147 2121.13 26.5172 L2121.17 34.1734 Z\" fill=\"#000000\" fill-rule=\"evenodd\" fill-opacity=\"1\" /><path clip-path=\"url(#clip800)\" d=\"M2144.74 32.4315 Q2138.75 32.4315 2135.27 37.1306 Q2131.78 41.7891 2131.78 49.9314 Q2131.78 58.0738 2135.23 62.7728 Q2138.71 67.4314 2144.74 67.4314 Q2150.7 67.4314 2154.18 62.7323 Q2157.67 58.0333 2157.67 49.9314 Q2157.67 41.8701 2154.18 37.1711 Q2150.7 32.4315 2144.74 32.4315 M2144.74 26.1121 Q2154.47 26.1121 2160.02 32.4315 Q2165.57 38.7509 2165.57 49.9314 Q2165.57 61.0714 2160.02 67.4314 Q2154.47 73.7508 2144.74 73.7508 Q2134.98 73.7508 2129.43 67.4314 Q2123.92 61.0714 2123.92 49.9314 Q2123.92 38.7509 2129.43 32.4315 Q2134.98 26.1121 2144.74 26.1121 M2150.38 6.22219 L2158.44 6.22219 L2145.23 21.4536 L2139.03 21.4536 L2150.38 6.22219 Z\" fill=\"#000000\" fill-rule=\"evenodd\" fill-opacity=\"1\" /><path clip-path=\"url(#clip800)\" d=\"M2210.49 49.9314 Q2210.49 41.7081 2207.09 37.0496 Q2203.73 32.3505 2197.81 32.3505 Q2191.9 32.3505 2188.49 37.0496 Q2185.13 41.7081 2185.13 49.9314 Q2185.13 58.1548 2188.49 62.8538 Q2191.9 67.5124 2197.81 67.5124 Q2203.73 67.5124 2207.09 62.8538 Q2210.49 58.1548 2210.49 49.9314 M2185.13 34.0924 Q2187.48 30.0415 2191.05 28.0971 Q2194.65 26.1121 2199.63 26.1121 Q2207.9 26.1121 2213.04 32.6746 Q2218.23 39.2371 2218.23 49.9314 Q2218.23 60.6258 2213.04 67.1883 Q2207.9 73.7508 2199.63 73.7508 Q2194.65 73.7508 2191.05 71.8063 Q2187.48 69.8214 2185.13 65.7705 L2185.13 72.576 L2177.64 72.576 L2177.64 9.54393 L2185.13 9.54393 L2185.13 34.0924 Z\" fill=\"#000000\" fill-rule=\"evenodd\" fill-opacity=\"1\" /><path clip-path=\"url(#clip800)\" d=\"M2249.46 76.7889 Q2246.3 84.8907 2243.3 87.3618 Q2240.31 89.8329 2235.28 89.8329 L2229.33 89.8329 L2229.33 83.5945 L2233.7 83.5945 Q2236.78 83.5945 2238.48 82.1361 Q2240.18 80.6778 2242.25 75.2496 L2243.59 71.8468 L2225.24 27.2059 L2233.14 27.2059 L2247.31 62.6918 L2261.49 27.2059 L2269.39 27.2059 L2249.46 76.7889 Z\" fill=\"#000000\" fill-rule=\"evenodd\" fill-opacity=\"1\" /><polyline clip-path=\"url(#clip802)\" style=\"stroke:#ff0000; stroke-linecap:butt; stroke-linejoin:round; stroke-width:12; stroke-opacity:1; fill:none\" points=\"\n",
       "  276.898,162.047 299.291,456.516 321.684,614.584 344.078,799.112 366.471,833.7 388.864,874.193 411.258,944.576 433.651,1004.76 456.044,872.18 478.437,1064.39 \n",
       "  500.831,1125.61 523.224,1080.53 545.617,1067.11 568.011,1282.29 590.404,957.197 612.797,936.298 635.19,1153.8 657.584,929.911 679.977,1116.59 702.37,1053.37 \n",
       "  724.764,1196.02 747.157,1091.3 769.55,1172.98 791.943,1051.58 814.337,1239.13 836.73,1205.58 859.123,1125.41 881.517,1098.65 903.91,1211.39 926.303,1242.78 \n",
       "  948.697,1261.61 971.09,1246.04 993.483,1297.04 1015.88,1226.32 1038.27,1255.72 1060.66,1320.41 1083.06,1255.47 1105.45,1283.83 1127.84,1208.18 1150.24,1218.85 \n",
       "  1172.63,1288.7 1195.02,1270 1217.42,1317.11 1239.81,1285.24 1262.2,1323.49 1284.6,1306.65 1306.99,1324.33 1329.38,1281.24 1351.78,1351.24 1374.17,1316.37 \n",
       "  1396.56,1271.93 1418.96,1241.34 1441.35,1303.14 1463.74,1353.17 1486.14,1321.09 1508.53,1278.82 1530.92,1326.8 1553.32,1356.15 1575.71,1335.22 1598.1,1285.28 \n",
       "  1620.5,1373.83 1642.89,1354.53 1665.28,1333.25 1687.68,1330.34 1710.07,1356.07 1732.46,1397.07 1754.86,1367.8 1777.25,1385.48 1799.64,1367.34 1822.03,1306.41 \n",
       "  1844.43,1364.14 1866.82,1409.47 1889.21,1397.44 1911.61,1415.4 1934,1398.99 1956.39,1328.02 1978.79,1413.84 2001.18,1412.82 2023.57,1327.28 2045.97,1406.55 \n",
       "  2068.36,1385.42 2090.75,1426.01 2113.15,1417.88 2135.54,1369 2157.93,1400.18 2180.33,1400.78 2202.72,1362 2225.11,1429.7 2247.51,1418.74 2269.9,1400.68 \n",
       "  2292.29,1447.87 \n",
       "  \"/>\n",
       "<path clip-path=\"url(#clip800)\" d=\"\n",
       "M1375.24 272.585 L2281.55 272.585 L2281.55 168.905 L1375.24 168.905  Z\n",
       "  \" fill=\"#ffffff\" fill-rule=\"evenodd\" fill-opacity=\"1\"/>\n",
       "<polyline clip-path=\"url(#clip800)\" style=\"stroke:#000000; stroke-linecap:butt; stroke-linejoin:round; stroke-width:4; stroke-opacity:1; fill:none\" points=\"\n",
       "  1375.24,272.585 2281.55,272.585 2281.55,168.905 1375.24,168.905 1375.24,272.585 \n",
       "  \"/>\n",
       "<polyline clip-path=\"url(#clip800)\" style=\"stroke:#ff0000; stroke-linecap:butt; stroke-linejoin:round; stroke-width:4; stroke-opacity:1; fill:none\" points=\"\n",
       "  1398.98,220.745 1541.4,220.745 \n",
       "  \"/>\n",
       "<path clip-path=\"url(#clip800)\" d=\"M1583.57 212.863 L1583.57 216.891 Q1581.76 215.965 1579.82 215.502 Q1577.87 215.039 1575.79 215.039 Q1572.62 215.039 1571.02 216.011 Q1569.45 216.983 1569.45 218.928 Q1569.45 220.409 1570.58 221.265 Q1571.71 222.099 1575.14 222.863 L1576.6 223.187 Q1581.14 224.159 1583.03 225.941 Q1584.95 227.701 1584.95 230.872 Q1584.95 234.483 1582.08 236.589 Q1579.24 238.696 1574.24 238.696 Q1572.15 238.696 1569.89 238.279 Q1567.64 237.886 1565.14 237.076 L1565.14 232.677 Q1567.5 233.904 1569.79 234.529 Q1572.08 235.131 1574.33 235.131 Q1577.34 235.131 1578.96 234.113 Q1580.58 233.071 1580.58 231.196 Q1580.58 229.46 1579.4 228.534 Q1578.24 227.608 1574.28 226.752 L1572.8 226.404 Q1568.84 225.571 1567.08 223.858 Q1565.33 222.122 1565.33 219.113 Q1565.33 215.455 1567.92 213.465 Q1570.51 211.474 1575.28 211.474 Q1577.64 211.474 1579.72 211.821 Q1581.81 212.168 1583.57 212.863 Z\" fill=\"#000000\" fill-rule=\"evenodd\" fill-opacity=\"1\" /><path clip-path=\"url(#clip800)\" d=\"M1589.89 212.099 L1610.12 212.099 L1610.12 215.988 L1594.1 234.622 L1610.12 234.622 L1610.12 238.025 L1589.31 238.025 L1589.31 234.136 L1605.32 215.502 L1589.89 215.502 L1589.89 212.099 Z\" fill=\"#000000\" fill-rule=\"evenodd\" fill-opacity=\"1\" /><path clip-path=\"url(#clip800)\" d=\"M1638.8 223.997 L1638.8 226.08 L1619.21 226.08 Q1619.49 230.478 1621.85 232.793 Q1624.24 235.085 1628.47 235.085 Q1630.93 235.085 1633.22 234.483 Q1635.53 233.881 1637.8 232.677 L1637.8 236.705 Q1635.51 237.677 1633.1 238.187 Q1630.7 238.696 1628.22 238.696 Q1622.01 238.696 1618.38 235.085 Q1614.77 231.474 1614.77 225.316 Q1614.77 218.951 1618.2 215.224 Q1621.64 211.474 1627.48 211.474 Q1632.71 211.474 1635.74 214.853 Q1638.8 218.21 1638.8 223.997 M1634.54 222.747 Q1634.49 219.252 1632.57 217.168 Q1630.67 215.085 1627.52 215.085 Q1623.96 215.085 1621.81 217.099 Q1619.68 219.113 1619.35 222.77 L1634.54 222.747 Z\" fill=\"#000000\" fill-rule=\"evenodd\" fill-opacity=\"1\" /><path clip-path=\"url(#clip800)\" d=\"M1660.81 216.08 Q1660.09 215.664 1659.24 215.478 Q1658.4 215.27 1657.38 215.27 Q1653.77 215.27 1651.83 217.631 Q1649.91 219.969 1649.91 224.367 L1649.91 238.025 L1645.63 238.025 L1645.63 212.099 L1649.91 212.099 L1649.91 216.127 Q1651.25 213.766 1653.4 212.631 Q1655.56 211.474 1658.63 211.474 Q1659.07 211.474 1659.61 211.543 Q1660.14 211.59 1660.79 211.705 L1660.81 216.08 Z\" fill=\"#000000\" fill-rule=\"evenodd\" fill-opacity=\"1\" /><path clip-path=\"url(#clip800)\" d=\"M1674.28 215.085 Q1670.86 215.085 1668.87 217.77 Q1666.88 220.432 1666.88 225.085 Q1666.88 229.738 1668.84 232.423 Q1670.83 235.085 1674.28 235.085 Q1677.69 235.085 1679.68 232.4 Q1681.67 229.715 1681.67 225.085 Q1681.67 220.478 1679.68 217.793 Q1677.69 215.085 1674.28 215.085 M1674.28 211.474 Q1679.84 211.474 1683.01 215.085 Q1686.18 218.696 1686.18 225.085 Q1686.18 231.451 1683.01 235.085 Q1679.84 238.696 1674.28 238.696 Q1668.7 238.696 1665.53 235.085 Q1662.38 231.451 1662.38 225.085 Q1662.38 218.696 1665.53 215.085 Q1668.7 211.474 1674.28 211.474 Z\" fill=\"#000000\" fill-rule=\"evenodd\" fill-opacity=\"1\" /><path clip-path=\"url(#clip800)\" d=\"M1693.08 202.006 L1697.36 202.006 L1697.36 223.279 L1710.07 212.099 L1715.51 212.099 L1701.76 224.228 L1716.09 238.025 L1710.53 238.025 L1697.36 225.363 L1697.36 238.025 L1693.08 238.025 L1693.08 202.006 Z\" fill=\"#000000\" fill-rule=\"evenodd\" fill-opacity=\"1\" /><path clip-path=\"url(#clip800)\" d=\"M1729.05 215.085 Q1725.63 215.085 1723.63 217.77 Q1721.64 220.432 1721.64 225.085 Q1721.64 229.738 1723.61 232.423 Q1725.6 235.085 1729.05 235.085 Q1732.45 235.085 1734.44 232.4 Q1736.44 229.715 1736.44 225.085 Q1736.44 220.478 1734.44 217.793 Q1732.45 215.085 1729.05 215.085 M1729.05 211.474 Q1734.61 211.474 1737.78 215.085 Q1740.95 218.696 1740.95 225.085 Q1740.95 231.451 1737.78 235.085 Q1734.61 238.696 1729.05 238.696 Q1723.47 238.696 1720.3 235.085 Q1717.15 231.451 1717.15 225.085 Q1717.15 218.696 1720.3 215.085 Q1723.47 211.474 1729.05 211.474 Z\" fill=\"#000000\" fill-rule=\"evenodd\" fill-opacity=\"1\" /><path clip-path=\"url(#clip800)\" d=\"M1760.14 199.946 L1764.75 199.946 L1757.2 208.65 L1753.66 208.65 L1760.14 199.946 M1764.54 212.863 L1764.54 216.891 Q1762.73 215.965 1760.79 215.502 Q1758.84 215.039 1756.76 215.039 Q1753.59 215.039 1751.99 216.011 Q1750.42 216.983 1750.42 218.928 Q1750.42 220.409 1751.55 221.265 Q1752.69 222.099 1756.11 222.863 L1757.57 223.187 Q1762.11 224.159 1764 225.941 Q1765.93 227.701 1765.93 230.872 Q1765.93 234.483 1763.06 236.589 Q1760.21 238.696 1755.21 238.696 Q1753.12 238.696 1750.86 238.279 Q1748.61 237.886 1746.11 237.076 L1746.11 232.677 Q1748.47 233.904 1750.76 234.529 Q1753.06 235.131 1755.3 235.131 Q1758.31 235.131 1759.93 234.113 Q1761.55 233.071 1761.55 231.196 Q1761.55 229.46 1760.37 228.534 Q1759.21 227.608 1755.25 226.752 L1753.77 226.404 Q1749.81 225.571 1748.06 223.858 Q1746.3 222.122 1746.3 219.113 Q1746.3 215.455 1748.89 213.465 Q1751.48 211.474 1756.25 211.474 Q1758.61 211.474 1760.69 211.821 Q1762.78 212.168 1764.54 212.863 Z\" fill=\"#000000\" fill-rule=\"evenodd\" fill-opacity=\"1\" /><path clip-path=\"url(#clip800)\" d=\"M1791.37 213.094 L1791.37 217.076 Q1789.56 216.08 1787.73 215.594 Q1785.93 215.085 1784.07 215.085 Q1779.93 215.085 1777.64 217.724 Q1775.35 220.34 1775.35 225.085 Q1775.35 229.83 1777.64 232.469 Q1779.93 235.085 1784.07 235.085 Q1785.93 235.085 1787.73 234.599 Q1789.56 234.089 1791.37 233.094 L1791.37 237.029 Q1789.58 237.863 1787.66 238.279 Q1785.76 238.696 1783.61 238.696 Q1777.75 238.696 1774.31 235.015 Q1770.86 231.335 1770.86 225.085 Q1770.86 218.742 1774.33 215.108 Q1777.82 211.474 1783.89 211.474 Q1785.86 211.474 1787.73 211.891 Q1789.61 212.284 1791.37 213.094 M1786.48 200.108 L1791.09 200.108 L1783.54 208.812 L1780 208.812 L1786.48 200.108 Z\" fill=\"#000000\" fill-rule=\"evenodd\" fill-opacity=\"1\" /><path clip-path=\"url(#clip800)\" d=\"M1817.96 234.136 L1817.96 247.886 L1813.68 247.886 L1813.68 212.099 L1817.96 212.099 L1817.96 216.034 Q1819.31 213.719 1821.34 212.608 Q1823.4 211.474 1826.25 211.474 Q1830.97 211.474 1833.91 215.224 Q1836.87 218.974 1836.87 225.085 Q1836.87 231.196 1833.91 234.946 Q1830.97 238.696 1826.25 238.696 Q1823.4 238.696 1821.34 237.585 Q1819.31 236.451 1817.96 234.136 M1832.45 225.085 Q1832.45 220.386 1830.51 217.724 Q1828.59 215.039 1825.21 215.039 Q1821.83 215.039 1819.88 217.724 Q1817.96 220.386 1817.96 225.085 Q1817.96 229.784 1819.88 232.469 Q1821.83 235.131 1825.21 235.131 Q1828.59 235.131 1830.51 232.469 Q1832.45 229.784 1832.45 225.085 Z\" fill=\"#000000\" fill-rule=\"evenodd\" fill-opacity=\"1\" /><path clip-path=\"url(#clip800)\" d=\"M1858.96 216.08 Q1858.24 215.664 1857.38 215.478 Q1856.55 215.27 1855.53 215.27 Q1851.92 215.27 1849.98 217.631 Q1848.06 219.969 1848.06 224.367 L1848.06 238.025 L1843.77 238.025 L1843.77 212.099 L1848.06 212.099 L1848.06 216.127 Q1849.4 213.766 1851.55 212.631 Q1853.7 211.474 1856.78 211.474 Q1857.22 211.474 1857.75 211.543 Q1858.29 211.59 1858.93 211.705 L1858.96 216.08 Z\" fill=\"#000000\" fill-rule=\"evenodd\" fill-opacity=\"1\" /><path clip-path=\"url(#clip800)\" d=\"M1861.57 212.099 L1881.8 212.099 L1881.8 215.988 L1865.79 234.622 L1881.8 234.622 L1881.8 238.025 L1860.99 238.025 L1860.99 234.136 L1877.01 215.502 L1861.57 215.502 L1861.57 212.099 Z\" fill=\"#000000\" fill-rule=\"evenodd\" fill-opacity=\"1\" /><path clip-path=\"url(#clip800)\" d=\"M1910.49 223.997 L1910.49 226.08 L1890.9 226.08 Q1891.18 230.478 1893.54 232.793 Q1895.93 235.085 1900.16 235.085 Q1902.61 235.085 1904.91 234.483 Q1907.22 233.881 1909.49 232.677 L1909.49 236.705 Q1907.2 237.677 1904.79 238.187 Q1902.38 238.696 1899.91 238.696 Q1893.7 238.696 1890.07 235.085 Q1886.46 231.474 1886.46 225.316 Q1886.46 218.951 1889.88 215.224 Q1893.33 211.474 1899.17 211.474 Q1904.4 211.474 1907.43 214.853 Q1910.49 218.21 1910.49 223.997 M1906.23 222.747 Q1906.18 219.252 1904.26 217.168 Q1902.36 215.085 1899.21 215.085 Q1895.65 215.085 1893.49 217.099 Q1891.36 219.113 1891.04 222.77 L1906.23 222.747 Z\" fill=\"#000000\" fill-rule=\"evenodd\" fill-opacity=\"1\" /><path clip-path=\"url(#clip800)\" d=\"M1934.54 216.034 L1934.54 202.006 L1938.8 202.006 L1938.8 238.025 L1934.54 238.025 L1934.54 234.136 Q1933.19 236.451 1931.13 237.585 Q1929.1 238.696 1926.23 238.696 Q1921.53 238.696 1918.56 234.946 Q1915.62 231.196 1915.62 225.085 Q1915.62 218.974 1918.56 215.224 Q1921.53 211.474 1926.23 211.474 Q1929.1 211.474 1931.13 212.608 Q1933.19 213.719 1934.54 216.034 M1920.02 225.085 Q1920.02 229.784 1921.94 232.469 Q1923.89 235.131 1927.27 235.131 Q1930.65 235.131 1932.59 232.469 Q1934.54 229.784 1934.54 225.085 Q1934.54 220.386 1932.59 217.724 Q1930.65 215.039 1927.27 215.039 Q1923.89 215.039 1921.94 217.724 Q1920.02 220.386 1920.02 225.085 Z\" fill=\"#000000\" fill-rule=\"evenodd\" fill-opacity=\"1\" /><path clip-path=\"url(#clip800)\" d=\"M1945.72 212.099 L1965.95 212.099 L1965.95 215.988 L1949.93 234.622 L1965.95 234.622 L1965.95 238.025 L1945.14 238.025 L1945.14 234.136 L1961.16 215.502 L1945.72 215.502 L1945.72 212.099 Z\" fill=\"#000000\" fill-rule=\"evenodd\" fill-opacity=\"1\" /><path clip-path=\"url(#clip800)\" d=\"M1972.45 212.099 L1976.71 212.099 L1976.71 238.025 L1972.45 238.025 L1972.45 212.099 M1972.45 202.006 L1976.71 202.006 L1976.71 207.4 L1972.45 207.4 L1972.45 202.006 Z\" fill=\"#000000\" fill-rule=\"evenodd\" fill-opacity=\"1\" /><path clip-path=\"url(#clip800)\" d=\"M1997.41 224.992 Q1992.24 224.992 1990.25 226.173 Q1988.26 227.353 1988.26 230.201 Q1988.26 232.469 1989.74 233.812 Q1991.25 235.131 1993.82 235.131 Q1997.36 235.131 1999.49 232.631 Q2001.64 230.108 2001.64 225.941 L2001.64 224.992 L1997.41 224.992 M2005.9 223.233 L2005.9 238.025 L2001.64 238.025 L2001.64 234.089 Q2000.18 236.451 1998.01 237.585 Q1995.83 238.696 1992.68 238.696 Q1988.7 238.696 1986.34 236.474 Q1984 234.228 1984 230.478 Q1984 226.103 1986.92 223.881 Q1989.86 221.659 1995.67 221.659 L2001.64 221.659 L2001.64 221.242 Q2001.64 218.303 1999.7 216.705 Q1997.78 215.085 1994.28 215.085 Q1992.06 215.085 1989.95 215.617 Q1987.85 216.15 1985.9 217.215 L1985.9 213.279 Q1988.24 212.377 1990.44 211.937 Q1992.64 211.474 1994.72 211.474 Q2000.35 211.474 2003.12 214.391 Q2005.9 217.307 2005.9 223.233 Z\" fill=\"#000000\" fill-rule=\"evenodd\" fill-opacity=\"1\" /><path clip-path=\"url(#clip800)\" d=\"M2014.81 202.006 L2019.07 202.006 L2019.07 215.941 L2021.97 213.858 L2023.73 216.312 L2019.07 219.576 L2019.07 238.025 L2014.81 238.025 L2014.81 222.608 L2011.97 224.645 L2010.25 222.191 L2014.81 218.928 L2014.81 202.006 Z\" fill=\"#000000\" fill-rule=\"evenodd\" fill-opacity=\"1\" /><path clip-path=\"url(#clip800)\" d=\"M2027.71 227.793 L2027.71 212.099 L2031.97 212.099 L2031.97 227.631 Q2031.97 231.312 2033.4 233.164 Q2034.84 234.992 2037.71 234.992 Q2041.16 234.992 2043.15 232.793 Q2045.16 230.594 2045.16 226.798 L2045.16 212.099 L2049.42 212.099 L2049.42 238.025 L2045.16 238.025 L2045.16 234.043 Q2043.61 236.404 2041.55 237.562 Q2039.51 238.696 2036.8 238.696 Q2032.34 238.696 2030.02 235.918 Q2027.71 233.14 2027.71 227.793 M2038.42 211.474 L2038.42 211.474 Z\" fill=\"#000000\" fill-rule=\"evenodd\" fill-opacity=\"1\" /><path clip-path=\"url(#clip800)\" d=\"M2072.82 227.793 L2072.82 212.099 L2077.08 212.099 L2077.08 227.631 Q2077.08 231.312 2078.52 233.164 Q2079.95 234.992 2082.82 234.992 Q2086.27 234.992 2088.26 232.793 Q2090.28 230.594 2090.28 226.798 L2090.28 212.099 L2094.54 212.099 L2094.54 238.025 L2090.28 238.025 L2090.28 234.043 Q2088.73 236.404 2086.66 237.562 Q2084.63 238.696 2081.92 238.696 Q2077.45 238.696 2075.14 235.918 Q2072.82 233.14 2072.82 227.793 M2083.54 211.474 L2083.54 211.474 Z\" fill=\"#000000\" fill-rule=\"evenodd\" fill-opacity=\"1\" /><path clip-path=\"url(#clip800)\" d=\"M2116.43 202.006 L2116.43 205.548 L2112.36 205.548 Q2110.07 205.548 2109.16 206.474 Q2108.29 207.4 2108.29 209.807 L2108.29 212.099 L2115.3 212.099 L2115.3 215.409 L2108.29 215.409 L2108.29 238.025 L2104 238.025 L2104 215.409 L2099.93 215.409 L2099.93 212.099 L2104 212.099 L2104 210.293 Q2104 205.965 2106.02 203.997 Q2108.03 202.006 2112.41 202.006 L2116.43 202.006 Z\" fill=\"#000000\" fill-rule=\"evenodd\" fill-opacity=\"1\" /><path clip-path=\"url(#clip800)\" d=\"M2141.55 222.377 L2141.55 238.025 L2137.29 238.025 L2137.29 222.515 Q2137.29 218.835 2135.85 217.006 Q2134.42 215.178 2131.55 215.178 Q2128.1 215.178 2126.11 217.377 Q2124.12 219.576 2124.12 223.372 L2124.12 238.025 L2119.84 238.025 L2119.84 212.099 L2124.12 212.099 L2124.12 216.127 Q2125.65 213.789 2127.71 212.631 Q2129.79 211.474 2132.5 211.474 Q2136.97 211.474 2139.26 214.252 Q2141.55 217.006 2141.55 222.377 Z\" fill=\"#000000\" fill-rule=\"evenodd\" fill-opacity=\"1\" /><path clip-path=\"url(#clip800)\" d=\"M2160.09 215.085 Q2156.66 215.085 2154.67 217.77 Q2152.68 220.432 2152.68 225.085 Q2152.68 229.738 2154.65 232.423 Q2156.64 235.085 2160.09 235.085 Q2163.49 235.085 2165.48 232.4 Q2167.47 229.715 2167.47 225.085 Q2167.47 220.478 2165.48 217.793 Q2163.49 215.085 2160.09 215.085 M2160.09 211.474 Q2165.65 211.474 2168.82 215.085 Q2171.99 218.696 2171.99 225.085 Q2171.99 231.451 2168.82 235.085 Q2165.65 238.696 2160.09 238.696 Q2154.51 238.696 2151.34 235.085 Q2148.19 231.451 2148.19 225.085 Q2148.19 218.696 2151.34 215.085 Q2154.51 211.474 2160.09 211.474 Z\" fill=\"#000000\" fill-rule=\"evenodd\" fill-opacity=\"1\" /><path clip-path=\"url(#clip800)\" d=\"M2191.18 199.946 L2195.78 199.946 L2188.24 208.65 L2184.7 208.65 L2191.18 199.946 M2195.58 212.863 L2195.58 216.891 Q2193.77 215.965 2191.83 215.502 Q2189.88 215.039 2187.8 215.039 Q2184.63 215.039 2183.03 216.011 Q2181.46 216.983 2181.46 218.928 Q2181.46 220.409 2182.59 221.265 Q2183.72 222.099 2187.15 222.863 L2188.61 223.187 Q2193.15 224.159 2195.04 225.941 Q2196.97 227.701 2196.97 230.872 Q2196.97 234.483 2194.09 236.589 Q2191.25 238.696 2186.25 238.696 Q2184.16 238.696 2181.9 238.279 Q2179.65 237.886 2177.15 237.076 L2177.15 232.677 Q2179.51 233.904 2181.8 234.529 Q2184.09 235.131 2186.34 235.131 Q2189.35 235.131 2190.97 234.113 Q2192.59 233.071 2192.59 231.196 Q2192.59 229.46 2191.41 228.534 Q2190.25 227.608 2186.29 226.752 L2184.81 226.404 Q2180.85 225.571 2179.09 223.858 Q2177.34 222.122 2177.34 219.113 Q2177.34 215.455 2179.93 213.465 Q2182.52 211.474 2187.29 211.474 Q2189.65 211.474 2191.73 211.821 Q2193.82 212.168 2195.58 212.863 Z\" fill=\"#000000\" fill-rule=\"evenodd\" fill-opacity=\"1\" /><path clip-path=\"url(#clip800)\" d=\"M2222.4 213.094 L2222.4 217.076 Q2220.6 216.08 2218.77 215.594 Q2216.97 215.085 2215.11 215.085 Q2210.97 215.085 2208.68 217.724 Q2206.39 220.34 2206.39 225.085 Q2206.39 229.83 2208.68 232.469 Q2210.97 235.085 2215.11 235.085 Q2216.97 235.085 2218.77 234.599 Q2220.6 234.089 2222.4 233.094 L2222.4 237.029 Q2220.62 237.863 2218.7 238.279 Q2216.8 238.696 2214.65 238.696 Q2208.79 238.696 2205.34 235.015 Q2201.9 231.335 2201.9 225.085 Q2201.9 218.742 2205.37 215.108 Q2208.86 211.474 2214.93 211.474 Q2216.9 211.474 2218.77 211.891 Q2220.65 212.284 2222.4 213.094 Z\" fill=\"#000000\" fill-rule=\"evenodd\" fill-opacity=\"1\" /><path clip-path=\"url(#clip800)\" d=\"M2229.81 212.099 L2234.07 212.099 L2234.07 238.025 L2229.81 238.025 L2229.81 212.099 M2229.81 202.006 L2234.07 202.006 L2234.07 207.4 L2229.81 207.4 L2229.81 202.006 Z\" fill=\"#000000\" fill-rule=\"evenodd\" fill-opacity=\"1\" /></svg>\n"
      ]
     },
     "execution_count": 7,
     "metadata": {},
     "output_type": "execute_result"
    }
   ],
   "source": [
    "function f4(n)\n",
    "# n - wielkość próby \n",
    "    s = [mean(rand(20)) for _ in 1:n]\n",
    "    ci = confint(OneSampleTTest(s))\n",
    "    return ci[2] - ci[1]\n",
    "end\n",
    "\n",
    "res = []\n",
    "for i in (10:100)\n",
    "    push!(res, f4(i))\n",
    "end\n",
    "plot(10:100, res, \n",
    "        title = \"Szerokości przedziału ufności ~  wielkość próby\", \n",
    "        label = \"szerokość przedziału ufności\", \n",
    "        lw = 3, \n",
    "        color=\"red\")"
   ]
  },
  {
   "cell_type": "markdown",
   "id": "6e78fe1a-ba83-4baa-af81-fa46de31c254",
   "metadata": {},
   "source": [
    "5. Prowadzisz eksperyment, który zwraca 1 lub 0 jako wynik (np. klient kupił lub nie kupił produktu).\n",
    "   Oblicz ile pomiarów należy wykonać, aby oszacować prawdopodobieństwo sukcesu z dokładnością +/- 0.05\n",
    "   z prawdopodobieństwem 95%.\n",
    "   Sprawdź symulacyjnie, czy wyliczona wartość jest prawidłowa."
   ]
  },
  {
   "cell_type": "code",
   "execution_count": 28,
   "id": "513248bf-3aa3-48d5-9dd7-e664845617bf",
   "metadata": {},
   "outputs": [
    {
     "data": {
      "text/plain": [
       "f5 (generic function with 2 methods)"
      ]
     },
     "execution_count": 28,
     "metadata": {},
     "output_type": "execute_result"
    }
   ],
   "source": [
    "function f5(p, N, w=0.05)\n",
    "    \"\"\"\n",
    "    p - prawdopodobieństwo sukcesu\n",
    "    N - początkowa wielkość próby\n",
    "    w - dokładność\n",
    "    \"\"\"\n",
    "    p = 0.5\n",
    "    N = 100\n",
    "    d = Binomial(1,p)\n",
    "    v = rand(d, N)\n",
    "    n = round(Int, 16*var(v) / w^2)\n",
    "    return n\n",
    "end"
   ]
  },
  {
   "cell_type": "code",
   "execution_count": 29,
   "id": "8b190c75-edd8-4827-98d8-5f3b0e5f47ad",
   "metadata": {},
   "outputs": [
    {
     "name": "stdout",
     "output_type": "stream",
     "text": [
      "Należy wykonać nie mniej niz 1616 pomiarów"
     ]
    }
   ],
   "source": [
    "n_probes = f5(0.5, 1000)\n",
    "@printf(\"Należy wykonać nie mniej niz %s pomiarów\", n_probes)"
   ]
  },
  {
   "cell_type": "code",
   "execution_count": 30,
   "id": "28d1a73d-80b3-4eaa-92af-92648e3216b9",
   "metadata": {},
   "outputs": [
    {
     "data": {
      "text/plain": [
       "f5_check (generic function with 1 method)"
      ]
     },
     "execution_count": 30,
     "metadata": {},
     "output_type": "execute_result"
    }
   ],
   "source": [
    "function f5_check(n, p)\n",
    "    \"\"\"\n",
    "    n - wielkość próby\n",
    "    p - prawdopodobieństwo sukcesu\n",
    "    \"\"\"\n",
    "    v = rand(Binomial(1,p), n)\n",
    "    ci = confint(OneSampleTTest(v))\n",
    "    return ci[2] - ci[1]\n",
    "end"
   ]
  },
  {
   "cell_type": "code",
   "execution_count": 31,
   "id": "7824690b-66ba-450f-94b6-216310e8356a",
   "metadata": {},
   "outputs": [
    {
     "data": {
      "text/plain": [
       "0.04880755987302249"
      ]
     },
     "execution_count": 31,
     "metadata": {},
     "output_type": "execute_result"
    }
   ],
   "source": [
    "f5_check(n_probes, 0.5)"
   ]
  },
  {
   "cell_type": "code",
   "execution_count": 32,
   "id": "ab9b76ca-2e5d-42da-9d56-511f51526ca3",
   "metadata": {},
   "outputs": [
    {
     "data": {
      "text/plain": [
       "true"
      ]
     },
     "execution_count": 32,
     "metadata": {},
     "output_type": "execute_result"
    }
   ],
   "source": [
    "f5_check(n_probes, 0.5) <= 0.05"
   ]
  },
  {
   "cell_type": "markdown",
   "id": "fbdf9a4b-e50a-43be-8298-b212c41f9c41",
   "metadata": {},
   "source": [
    "6. Opisz na czym polega problem *exploration-exploitation* w testowaniu A/B"
   ]
  },
  {
   "cell_type": "markdown",
   "id": "5c97d2bd-4753-4c96-a806-a05fe4c29ede",
   "metadata": {},
   "source": [
    "Kompromis eksploracja-eksploatacja jest dobrze znanym problemem występującym w scenariuszach, w których system uczący się musi wielokrotnie dokonywać wyboru o niepewnych korzyściach. Dylemat systemu decyzyjnego, który posiada jedynie niepełną wiedzę o zjawisku, polega na tym, czy powtarzać decyzje, które do tej pory się sprawdzały (exploitation), czy też podejmować nowe decyzje, mając nadzieję na uzyskanie jeszcze większych korzyści (exploration)."
   ]
  },
  {
   "cell_type": "markdown",
   "id": "ab9bfe96-fd3e-4a98-b7cc-04b4519e9b05",
   "metadata": {},
   "source": [
    "7. Opisz sposób działania próbkowania Thompsona w testowaniu A/B."
   ]
  },
  {
   "cell_type": "markdown",
   "id": "9b1a0951-6cff-4262-9527-d39ab30962ca",
   "metadata": {},
   "source": [
    "Próbkowanie Thompsona jest algorytmem dla problemów decyzyjnych online, gdzie działania są podejmowane sekwencyjnie w sposób, który musi równoważyć między wykorzystaniem tego, co jest znane, aby zmaksymalizować natychmiastową wydajność i inwestować, aby gromadzić nowe informacje, które mogą poprawić przyszłą wydajnoś (Kompromis eksploracja-eksploatacja). W klasycznych metodach, działania były wybierane na podstawie aktualnej średniej nagrody otrzymywanej za te działania. Próbkowanie Thompsona działa inaczej: zamiast udoskonalać przewidywania średniej nagrody, rozszerza je, aby skonstruować model probabilistyczny z otrzymanych nagród, a następnie wybrać działanie na jego podstawie."
   ]
  },
  {
   "cell_type": "markdown",
   "id": "5e1ad7f1-9e51-4a22-84d7-6f48b736262b",
   "metadata": {},
   "source": [
    "8. Utwórz na GitHub nowe repozytorium. Do tego repozytorium stwórz jeden pull request i zrób jego merge."
   ]
  },
  {
   "cell_type": "markdown",
   "id": "ec33451b-1558-4d98-bbad-13b261c3cf30",
   "metadata": {},
   "source": [
    "![Pull request](Screenshot_1.jpg)"
   ]
  },
  {
   "cell_type": "code",
   "execution_count": null,
   "id": "a3d28e8f-1c78-4857-9bcd-4af02f4cfcf1",
   "metadata": {},
   "outputs": [],
   "source": []
  }
 ],
 "metadata": {
  "kernelspec": {
   "display_name": "Julia 1.6.1",
   "language": "julia",
   "name": "julia-1.6"
  },
  "language_info": {
   "file_extension": ".jl",
   "mimetype": "application/julia",
   "name": "julia",
   "version": "1.6.1"
  }
 },
 "nbformat": 4,
 "nbformat_minor": 5
}
