{
 "cells": [
  {
   "cell_type": "markdown",
   "id": "531486bf-4637-42b1-bbac-94ae5a3a0b5d",
   "metadata": {},
   "source": [
    "## Modelowanie Wieloagentowe\n",
    "\n",
    "## 2021/2022, semestr zimowy, studia sobotnio-niedzielne\n",
    "\n",
    "## Uladzislau Darhevich 108519\n",
    "\n",
    "[kontakt](mailto:ud108519@student.sgh.waw.pl)"
   ]
  },
  {
   "cell_type": "code",
   "execution_count": 1,
   "id": "c0f915fd-435b-4759-a957-ea2dd45f788a",
   "metadata": {},
   "outputs": [
    {
     "data": {
      "text/plain": [
       "MersenneTwister(1234)"
      ]
     },
     "execution_count": 1,
     "metadata": {},
     "output_type": "execute_result"
    }
   ],
   "source": [
    "using Statistics\n",
    "using PyCall\n",
    "using Random\n",
    "using Plots\n",
    "using Distributions\n",
    "using HypothesisTests\n",
    "using Printf\n",
    "Random.seed!(1234)"
   ]
  },
  {
   "cell_type": "markdown",
   "id": "05da3eb5-be40-4435-920c-bc8dd787b980",
   "metadata": {},
   "source": [
    "1. Napisz funkcję `f(x, y)`, która liczy średnią liczb od `1` do `x` ze skokiem `y`. Uruchom tę funkcję dla `x=numeryczna_część_numeru_indeksu` i `y=1/numeryczna_część_numeru_indeksu`"
   ]
  },
  {
   "cell_type": "code",
   "execution_count": 2,
   "id": "8c951cab-436d-494e-a9ec-955febb2a132",
   "metadata": {},
   "outputs": [
    {
     "data": {
      "text/plain": [
       "f (generic function with 1 method)"
      ]
     },
     "execution_count": 2,
     "metadata": {},
     "output_type": "execute_result"
    }
   ],
   "source": [
    "function f(x,y)\n",
    "    return mean([1:y:x;])\n",
    "end"
   ]
  },
  {
   "cell_type": "code",
   "execution_count": 3,
   "id": "59d2b64d-8659-429c-8bb9-678f2dce820b",
   "metadata": {},
   "outputs": [
    {
     "name": "stdout",
     "output_type": "stream",
     "text": [
      " 11.003346 seconds (332.73 k allocations: 1.774 GiB, 0.14% gc time, 2.32% compilation time)\n"
     ]
    },
    {
     "data": {
      "text/plain": [
       "54259.99980648551"
      ]
     },
     "execution_count": 3,
     "metadata": {},
     "output_type": "execute_result"
    }
   ],
   "source": [
    "#Ilość liczb od 1 do 108519 z krokem 1/108519 jest bardzo duza, zmieniłem krok na 50/108519\n",
    "n_index = 108519\n",
    "@time begin\n",
    "res_julia = f(n_index, 50/n_index)\n",
    "res_julia\n",
    "end"
   ]
  },
  {
   "cell_type": "code",
   "execution_count": 25,
   "id": "1017f8b5-0208-4c14-96a7-10ead55639e1",
   "metadata": {},
   "outputs": [],
   "source": [
    "#ciekawie było porównać z Pythonem\n",
    "np = pyimport(\"numpy\");"
   ]
  },
  {
   "cell_type": "code",
   "execution_count": 5,
   "id": "2ee2d7ba-fe4a-4fe9-bf03-9d328700fd71",
   "metadata": {},
   "outputs": [
    {
     "name": "stdout",
     "output_type": "stream",
     "text": [
      " 56.488604 seconds (1.38 M allocations: 1.835 GiB, 0.82% gc time, 0.02% compilation time)\n"
     ]
    },
    {
     "data": {
      "text/plain": [
       "54260.49994931354"
      ]
     },
     "execution_count": 5,
     "metadata": {},
     "output_type": "execute_result"
    }
   ],
   "source": [
    "@time begin\n",
    "res_py = np.mean(np.arange(1, n_index + 1, 50/n_index))\n",
    "res_py\n",
    "end    "
   ]
  },
  {
   "cell_type": "markdown",
   "id": "81ad8495-ce34-450c-9fb6-de526f1b4c1a",
   "metadata": {},
   "source": [
    "2. Wylosuj 1000 liczb ze standardowego rozkładu normalnego. Narysuj ich histogram:"
   ]
  },
  {
   "cell_type": "code",
   "execution_count": 6,
   "id": "c7f05b57-bdf4-4376-9f2a-82384a2fec7d",
   "metadata": {},
   "outputs": [
    {
     "data": {
      "image/svg+xml": [
       "<?xml version=\"1.0\" encoding=\"utf-8\"?>\n",
       "<svg xmlns=\"http://www.w3.org/2000/svg\" xmlns:xlink=\"http://www.w3.org/1999/xlink\" width=\"600\" height=\"400\" viewBox=\"0 0 2400 1600\">\n",
       "<defs>\n",
       "  <clipPath id=\"clip020\">\n",
       "    <rect x=\"0\" y=\"0\" width=\"2400\" height=\"1600\"/>\n",
       "  </clipPath>\n",
       "</defs>\n",
       "<path clip-path=\"url(#clip020)\" d=\"\n",
       "M0 1600 L2400 1600 L2400 0 L0 0  Z\n",
       "  \" fill=\"#ffffff\" fill-rule=\"evenodd\" fill-opacity=\"1\"/>\n",
       "<defs>\n",
       "  <clipPath id=\"clip021\">\n",
       "    <rect x=\"480\" y=\"0\" width=\"1681\" height=\"1600\"/>\n",
       "  </clipPath>\n",
       "</defs>\n",
       "<path clip-path=\"url(#clip020)\" d=\"\n",
       "M170.857 1486.45 L2352.76 1486.45 L2352.76 47.2441 L170.857 47.2441  Z\n",
       "  \" fill=\"#ffffff\" fill-rule=\"evenodd\" fill-opacity=\"1\"/>\n",
       "<defs>\n",
       "  <clipPath id=\"clip022\">\n",
       "    <rect x=\"170\" y=\"47\" width=\"2183\" height=\"1440\"/>\n",
       "  </clipPath>\n",
       "</defs>\n",
       "<polyline clip-path=\"url(#clip022)\" style=\"stroke:#000000; stroke-linecap:butt; stroke-linejoin:round; stroke-width:2; stroke-opacity:0.1; fill:none\" points=\"\n",
       "  679.242,1486.45 679.242,47.2441 \n",
       "  \"/>\n",
       "<polyline clip-path=\"url(#clip022)\" style=\"stroke:#000000; stroke-linecap:butt; stroke-linejoin:round; stroke-width:2; stroke-opacity:0.1; fill:none\" points=\"\n",
       "  1197.08,1486.45 1197.08,47.2441 \n",
       "  \"/>\n",
       "<polyline clip-path=\"url(#clip022)\" style=\"stroke:#000000; stroke-linecap:butt; stroke-linejoin:round; stroke-width:2; stroke-opacity:0.1; fill:none\" points=\"\n",
       "  1714.91,1486.45 1714.91,47.2441 \n",
       "  \"/>\n",
       "<polyline clip-path=\"url(#clip022)\" style=\"stroke:#000000; stroke-linecap:butt; stroke-linejoin:round; stroke-width:2; stroke-opacity:0.1; fill:none\" points=\"\n",
       "  2232.75,1486.45 2232.75,47.2441 \n",
       "  \"/>\n",
       "<polyline clip-path=\"url(#clip020)\" style=\"stroke:#000000; stroke-linecap:butt; stroke-linejoin:round; stroke-width:4; stroke-opacity:1; fill:none\" points=\"\n",
       "  170.857,1486.45 2352.76,1486.45 \n",
       "  \"/>\n",
       "<polyline clip-path=\"url(#clip020)\" style=\"stroke:#000000; stroke-linecap:butt; stroke-linejoin:round; stroke-width:4; stroke-opacity:1; fill:none\" points=\"\n",
       "  679.242,1486.45 679.242,1467.55 \n",
       "  \"/>\n",
       "<polyline clip-path=\"url(#clip020)\" style=\"stroke:#000000; stroke-linecap:butt; stroke-linejoin:round; stroke-width:4; stroke-opacity:1; fill:none\" points=\"\n",
       "  1197.08,1486.45 1197.08,1467.55 \n",
       "  \"/>\n",
       "<polyline clip-path=\"url(#clip020)\" style=\"stroke:#000000; stroke-linecap:butt; stroke-linejoin:round; stroke-width:4; stroke-opacity:1; fill:none\" points=\"\n",
       "  1714.91,1486.45 1714.91,1467.55 \n",
       "  \"/>\n",
       "<polyline clip-path=\"url(#clip020)\" style=\"stroke:#000000; stroke-linecap:butt; stroke-linejoin:round; stroke-width:4; stroke-opacity:1; fill:none\" points=\"\n",
       "  2232.75,1486.45 2232.75,1467.55 \n",
       "  \"/>\n",
       "<path clip-path=\"url(#clip020)\" d=\"M649.184 1532.02 L678.86 1532.02 L678.86 1535.95 L649.184 1535.95 L649.184 1532.02 Z\" fill=\"#000000\" fill-rule=\"evenodd\" fill-opacity=\"1\" /><path clip-path=\"url(#clip020)\" d=\"M692.98 1544.91 L709.3 1544.91 L709.3 1548.85 L687.355 1548.85 L687.355 1544.91 Q690.018 1542.16 694.601 1537.53 Q699.207 1532.88 700.388 1531.53 Q702.633 1529.01 703.513 1527.27 Q704.416 1525.51 704.416 1523.82 Q704.416 1521.07 702.471 1519.33 Q700.55 1517.6 697.448 1517.6 Q695.249 1517.6 692.795 1518.36 Q690.365 1519.13 687.587 1520.68 L687.587 1515.95 Q690.411 1514.82 692.865 1514.24 Q695.318 1513.66 697.355 1513.66 Q702.726 1513.66 705.92 1516.35 Q709.115 1519.03 709.115 1523.52 Q709.115 1525.65 708.304 1527.57 Q707.517 1529.47 705.411 1532.07 Q704.832 1532.74 701.73 1535.95 Q698.629 1539.15 692.98 1544.91 Z\" fill=\"#000000\" fill-rule=\"evenodd\" fill-opacity=\"1\" /><path clip-path=\"url(#clip020)\" d=\"M1197.08 1517.37 Q1193.47 1517.37 1191.64 1520.93 Q1189.83 1524.47 1189.83 1531.6 Q1189.83 1538.71 1191.64 1542.27 Q1193.47 1545.82 1197.08 1545.82 Q1200.71 1545.82 1202.52 1542.27 Q1204.35 1538.71 1204.35 1531.6 Q1204.35 1524.47 1202.52 1520.93 Q1200.71 1517.37 1197.08 1517.37 M1197.08 1513.66 Q1202.89 1513.66 1205.94 1518.27 Q1209.02 1522.85 1209.02 1531.6 Q1209.02 1540.33 1205.94 1544.94 Q1202.89 1549.52 1197.08 1549.52 Q1191.27 1549.52 1188.19 1544.94 Q1185.13 1540.33 1185.13 1531.6 Q1185.13 1522.85 1188.19 1518.27 Q1191.27 1513.66 1197.08 1513.66 Z\" fill=\"#000000\" fill-rule=\"evenodd\" fill-opacity=\"1\" /><path clip-path=\"url(#clip020)\" d=\"M1709.57 1544.91 L1725.88 1544.91 L1725.88 1548.85 L1703.94 1548.85 L1703.94 1544.91 Q1706.6 1542.16 1711.19 1537.53 Q1715.79 1532.88 1716.97 1531.53 Q1719.22 1529.01 1720.1 1527.27 Q1721 1525.51 1721 1523.82 Q1721 1521.07 1719.06 1519.33 Q1717.13 1517.6 1714.03 1517.6 Q1711.83 1517.6 1709.38 1518.36 Q1706.95 1519.13 1704.17 1520.68 L1704.17 1515.95 Q1707 1514.82 1709.45 1514.24 Q1711.9 1513.66 1713.94 1513.66 Q1719.31 1513.66 1722.5 1516.35 Q1725.7 1519.03 1725.7 1523.52 Q1725.7 1525.65 1724.89 1527.57 Q1724.1 1529.47 1722 1532.07 Q1721.42 1532.74 1718.32 1535.95 Q1715.21 1539.15 1709.57 1544.91 Z\" fill=\"#000000\" fill-rule=\"evenodd\" fill-opacity=\"1\" /><path clip-path=\"url(#clip020)\" d=\"M2235.76 1518.36 L2223.95 1536.81 L2235.76 1536.81 L2235.76 1518.36 M2234.53 1514.29 L2240.41 1514.29 L2240.41 1536.81 L2245.34 1536.81 L2245.34 1540.7 L2240.41 1540.7 L2240.41 1548.85 L2235.76 1548.85 L2235.76 1540.7 L2220.16 1540.7 L2220.16 1536.19 L2234.53 1514.29 Z\" fill=\"#000000\" fill-rule=\"evenodd\" fill-opacity=\"1\" /><polyline clip-path=\"url(#clip022)\" style=\"stroke:#000000; stroke-linecap:butt; stroke-linejoin:round; stroke-width:2; stroke-opacity:0.1; fill:none\" points=\"\n",
       "  170.857,1445.72 2352.76,1445.72 \n",
       "  \"/>\n",
       "<polyline clip-path=\"url(#clip022)\" style=\"stroke:#000000; stroke-linecap:butt; stroke-linejoin:round; stroke-width:2; stroke-opacity:0.1; fill:none\" points=\"\n",
       "  170.857,1112.94 2352.76,1112.94 \n",
       "  \"/>\n",
       "<polyline clip-path=\"url(#clip022)\" style=\"stroke:#000000; stroke-linecap:butt; stroke-linejoin:round; stroke-width:2; stroke-opacity:0.1; fill:none\" points=\"\n",
       "  170.857,780.157 2352.76,780.157 \n",
       "  \"/>\n",
       "<polyline clip-path=\"url(#clip022)\" style=\"stroke:#000000; stroke-linecap:butt; stroke-linejoin:round; stroke-width:2; stroke-opacity:0.1; fill:none\" points=\"\n",
       "  170.857,447.378 2352.76,447.378 \n",
       "  \"/>\n",
       "<polyline clip-path=\"url(#clip022)\" style=\"stroke:#000000; stroke-linecap:butt; stroke-linejoin:round; stroke-width:2; stroke-opacity:0.1; fill:none\" points=\"\n",
       "  170.857,114.599 2352.76,114.599 \n",
       "  \"/>\n",
       "<polyline clip-path=\"url(#clip020)\" style=\"stroke:#000000; stroke-linecap:butt; stroke-linejoin:round; stroke-width:4; stroke-opacity:1; fill:none\" points=\"\n",
       "  170.857,1486.45 170.857,47.2441 \n",
       "  \"/>\n",
       "<polyline clip-path=\"url(#clip020)\" style=\"stroke:#000000; stroke-linecap:butt; stroke-linejoin:round; stroke-width:4; stroke-opacity:1; fill:none\" points=\"\n",
       "  170.857,1445.72 189.755,1445.72 \n",
       "  \"/>\n",
       "<polyline clip-path=\"url(#clip020)\" style=\"stroke:#000000; stroke-linecap:butt; stroke-linejoin:round; stroke-width:4; stroke-opacity:1; fill:none\" points=\"\n",
       "  170.857,1112.94 189.755,1112.94 \n",
       "  \"/>\n",
       "<polyline clip-path=\"url(#clip020)\" style=\"stroke:#000000; stroke-linecap:butt; stroke-linejoin:round; stroke-width:4; stroke-opacity:1; fill:none\" points=\"\n",
       "  170.857,780.157 189.755,780.157 \n",
       "  \"/>\n",
       "<polyline clip-path=\"url(#clip020)\" style=\"stroke:#000000; stroke-linecap:butt; stroke-linejoin:round; stroke-width:4; stroke-opacity:1; fill:none\" points=\"\n",
       "  170.857,447.378 189.755,447.378 \n",
       "  \"/>\n",
       "<polyline clip-path=\"url(#clip020)\" style=\"stroke:#000000; stroke-linecap:butt; stroke-linejoin:round; stroke-width:4; stroke-opacity:1; fill:none\" points=\"\n",
       "  170.857,114.599 189.755,114.599 \n",
       "  \"/>\n",
       "<path clip-path=\"url(#clip020)\" d=\"M122.913 1431.51 Q119.302 1431.51 117.473 1435.08 Q115.668 1438.62 115.668 1445.75 Q115.668 1452.86 117.473 1456.42 Q119.302 1459.96 122.913 1459.96 Q126.547 1459.96 128.353 1456.42 Q130.182 1452.86 130.182 1445.75 Q130.182 1438.62 128.353 1435.08 Q126.547 1431.51 122.913 1431.51 M122.913 1427.81 Q128.723 1427.81 131.779 1432.42 Q134.857 1437 134.857 1445.75 Q134.857 1454.48 131.779 1459.08 Q128.723 1463.67 122.913 1463.67 Q117.103 1463.67 114.024 1459.08 Q110.969 1454.48 110.969 1445.75 Q110.969 1437 114.024 1432.42 Q117.103 1427.81 122.913 1427.81 Z\" fill=\"#000000\" fill-rule=\"evenodd\" fill-opacity=\"1\" /><path clip-path=\"url(#clip020)\" d=\"M82.7975 1095.66 L101.154 1095.66 L101.154 1099.59 L87.0799 1099.59 L87.0799 1108.06 Q88.0984 1107.72 89.1169 1107.55 Q90.1354 1107.37 91.1539 1107.37 Q96.941 1107.37 100.321 1110.54 Q103.7 1113.71 103.7 1119.13 Q103.7 1124.71 100.228 1127.81 Q96.7558 1130.89 90.4364 1130.89 Q88.2604 1130.89 85.9919 1130.52 Q83.7466 1130.15 81.3392 1129.41 L81.3392 1124.71 Q83.4225 1125.84 85.6447 1126.4 Q87.8669 1126.95 90.3438 1126.95 Q94.3484 1126.95 96.6863 1124.85 Q99.0243 1122.74 99.0243 1119.13 Q99.0243 1115.52 96.6863 1113.41 Q94.3484 1111.3 90.3438 1111.3 Q88.4688 1111.3 86.5938 1111.72 Q84.7419 1112.14 82.7975 1113.02 L82.7975 1095.66 Z\" fill=\"#000000\" fill-rule=\"evenodd\" fill-opacity=\"1\" /><path clip-path=\"url(#clip020)\" d=\"M122.913 1098.74 Q119.302 1098.74 117.473 1102.3 Q115.668 1105.84 115.668 1112.97 Q115.668 1120.08 117.473 1123.64 Q119.302 1127.18 122.913 1127.18 Q126.547 1127.18 128.353 1123.64 Q130.182 1120.08 130.182 1112.97 Q130.182 1105.84 128.353 1102.3 Q126.547 1098.74 122.913 1098.74 M122.913 1095.03 Q128.723 1095.03 131.779 1099.64 Q134.857 1104.22 134.857 1112.97 Q134.857 1121.7 131.779 1126.3 Q128.723 1130.89 122.913 1130.89 Q117.103 1130.89 114.024 1126.3 Q110.969 1121.7 110.969 1112.97 Q110.969 1104.22 114.024 1099.64 Q117.103 1095.03 122.913 1095.03 Z\" fill=\"#000000\" fill-rule=\"evenodd\" fill-opacity=\"1\" /><path clip-path=\"url(#clip020)\" d=\"M53.3995 793.502 L61.0384 793.502 L61.0384 767.136 L52.7282 768.803 L52.7282 764.544 L60.9921 762.877 L65.668 762.877 L65.668 793.502 L73.3068 793.502 L73.3068 797.437 L53.3995 797.437 L53.3995 793.502 Z\" fill=\"#000000\" fill-rule=\"evenodd\" fill-opacity=\"1\" /><path clip-path=\"url(#clip020)\" d=\"M92.7512 765.956 Q89.1401 765.956 87.3114 769.521 Q85.5058 773.062 85.5058 780.192 Q85.5058 787.298 87.3114 790.863 Q89.1401 794.405 92.7512 794.405 Q96.3854 794.405 98.1909 790.863 Q100.02 787.298 100.02 780.192 Q100.02 773.062 98.1909 769.521 Q96.3854 765.956 92.7512 765.956 M92.7512 762.252 Q98.5613 762.252 101.617 766.859 Q104.696 771.442 104.696 780.192 Q104.696 788.919 101.617 793.525 Q98.5613 798.108 92.7512 798.108 Q86.941 798.108 83.8623 793.525 Q80.8068 788.919 80.8068 780.192 Q80.8068 771.442 83.8623 766.859 Q86.941 762.252 92.7512 762.252 Z\" fill=\"#000000\" fill-rule=\"evenodd\" fill-opacity=\"1\" /><path clip-path=\"url(#clip020)\" d=\"M122.913 765.956 Q119.302 765.956 117.473 769.521 Q115.668 773.062 115.668 780.192 Q115.668 787.298 117.473 790.863 Q119.302 794.405 122.913 794.405 Q126.547 794.405 128.353 790.863 Q130.182 787.298 130.182 780.192 Q130.182 773.062 128.353 769.521 Q126.547 765.956 122.913 765.956 M122.913 762.252 Q128.723 762.252 131.779 766.859 Q134.857 771.442 134.857 780.192 Q134.857 788.919 131.779 793.525 Q128.723 798.108 122.913 798.108 Q117.103 798.108 114.024 793.525 Q110.969 788.919 110.969 780.192 Q110.969 771.442 114.024 766.859 Q117.103 762.252 122.913 762.252 Z\" fill=\"#000000\" fill-rule=\"evenodd\" fill-opacity=\"1\" /><path clip-path=\"url(#clip020)\" d=\"M53.3995 460.723 L61.0384 460.723 L61.0384 434.357 L52.7282 436.024 L52.7282 431.765 L60.9921 430.098 L65.668 430.098 L65.668 460.723 L73.3068 460.723 L73.3068 464.658 L53.3995 464.658 L53.3995 460.723 Z\" fill=\"#000000\" fill-rule=\"evenodd\" fill-opacity=\"1\" /><path clip-path=\"url(#clip020)\" d=\"M82.7975 430.098 L101.154 430.098 L101.154 434.033 L87.0799 434.033 L87.0799 442.505 Q88.0984 442.158 89.1169 441.996 Q90.1354 441.811 91.1539 441.811 Q96.941 441.811 100.321 444.982 Q103.7 448.153 103.7 453.57 Q103.7 459.149 100.228 462.25 Q96.7558 465.329 90.4364 465.329 Q88.2604 465.329 85.9919 464.959 Q83.7466 464.588 81.3392 463.848 L81.3392 459.149 Q83.4225 460.283 85.6447 460.838 Q87.8669 461.394 90.3438 461.394 Q94.3484 461.394 96.6863 459.288 Q99.0243 457.181 99.0243 453.57 Q99.0243 449.959 96.6863 447.852 Q94.3484 445.746 90.3438 445.746 Q88.4688 445.746 86.5938 446.163 Q84.7419 446.579 82.7975 447.459 L82.7975 430.098 Z\" fill=\"#000000\" fill-rule=\"evenodd\" fill-opacity=\"1\" /><path clip-path=\"url(#clip020)\" d=\"M122.913 433.177 Q119.302 433.177 117.473 436.741 Q115.668 440.283 115.668 447.413 Q115.668 454.519 117.473 458.084 Q119.302 461.625 122.913 461.625 Q126.547 461.625 128.353 458.084 Q130.182 454.519 130.182 447.413 Q130.182 440.283 128.353 436.741 Q126.547 433.177 122.913 433.177 M122.913 429.473 Q128.723 429.473 131.779 434.079 Q134.857 438.663 134.857 447.413 Q134.857 456.139 131.779 460.746 Q128.723 465.329 122.913 465.329 Q117.103 465.329 114.024 460.746 Q110.969 456.139 110.969 447.413 Q110.969 438.663 114.024 434.079 Q117.103 429.473 122.913 429.473 Z\" fill=\"#000000\" fill-rule=\"evenodd\" fill-opacity=\"1\" /><path clip-path=\"url(#clip020)\" d=\"M56.6171 127.943 L72.9365 127.943 L72.9365 131.879 L50.9921 131.879 L50.9921 127.943 Q53.6541 125.189 58.2375 120.559 Q62.8439 115.906 64.0245 114.564 Q66.2698 112.041 67.1494 110.305 Q68.0522 108.545 68.0522 106.856 Q68.0522 104.101 66.1078 102.365 Q64.1865 100.629 61.0847 100.629 Q58.8856 100.629 56.4319 101.393 Q54.0014 102.157 51.2236 103.707 L51.2236 98.9853 Q54.0477 97.851 56.5014 97.2723 Q58.955 96.6936 60.9921 96.6936 Q66.3624 96.6936 69.5568 99.3788 Q72.7513 102.064 72.7513 106.555 Q72.7513 108.684 71.9411 110.606 Q71.1541 112.504 69.0476 115.096 Q68.4689 115.768 65.367 118.985 Q62.2652 122.18 56.6171 127.943 Z\" fill=\"#000000\" fill-rule=\"evenodd\" fill-opacity=\"1\" /><path clip-path=\"url(#clip020)\" d=\"M92.7512 100.397 Q89.1401 100.397 87.3114 103.962 Q85.5058 107.504 85.5058 114.633 Q85.5058 121.74 87.3114 125.305 Q89.1401 128.846 92.7512 128.846 Q96.3854 128.846 98.1909 125.305 Q100.02 121.74 100.02 114.633 Q100.02 107.504 98.1909 103.962 Q96.3854 100.397 92.7512 100.397 M92.7512 96.6936 Q98.5613 96.6936 101.617 101.3 Q104.696 105.883 104.696 114.633 Q104.696 123.36 101.617 127.967 Q98.5613 132.55 92.7512 132.55 Q86.941 132.55 83.8623 127.967 Q80.8068 123.36 80.8068 114.633 Q80.8068 105.883 83.8623 101.3 Q86.941 96.6936 92.7512 96.6936 Z\" fill=\"#000000\" fill-rule=\"evenodd\" fill-opacity=\"1\" /><path clip-path=\"url(#clip020)\" d=\"M122.913 100.397 Q119.302 100.397 117.473 103.962 Q115.668 107.504 115.668 114.633 Q115.668 121.74 117.473 125.305 Q119.302 128.846 122.913 128.846 Q126.547 128.846 128.353 125.305 Q130.182 121.74 130.182 114.633 Q130.182 107.504 128.353 103.962 Q126.547 100.397 122.913 100.397 M122.913 96.6936 Q128.723 96.6936 131.779 101.3 Q134.857 105.883 134.857 114.633 Q134.857 123.36 131.779 127.967 Q128.723 132.55 122.913 132.55 Q117.103 132.55 114.024 127.967 Q110.969 123.36 110.969 114.633 Q110.969 105.883 114.024 101.3 Q117.103 96.6936 122.913 96.6936 Z\" fill=\"#000000\" fill-rule=\"evenodd\" fill-opacity=\"1\" /><path clip-path=\"url(#clip022)\" d=\"\n",
       "M290.866 1432.4 L290.866 1445.72 L420.325 1445.72 L420.325 1432.4 L290.866 1432.4 L290.866 1432.4  Z\n",
       "  \" fill=\"#00ff00\" fill-rule=\"evenodd\" fill-opacity=\"1\"/>\n",
       "<polyline clip-path=\"url(#clip022)\" style=\"stroke:#000000; stroke-linecap:butt; stroke-linejoin:round; stroke-width:4; stroke-opacity:1; fill:none\" points=\"\n",
       "  290.866,1432.4 290.866,1445.72 420.325,1445.72 420.325,1432.4 290.866,1432.4 \n",
       "  \"/>\n",
       "<path clip-path=\"url(#clip022)\" d=\"\n",
       "M420.325 1425.75 L420.325 1445.72 L549.783 1445.72 L549.783 1425.75 L420.325 1425.75 L420.325 1425.75  Z\n",
       "  \" fill=\"#00ff00\" fill-rule=\"evenodd\" fill-opacity=\"1\"/>\n",
       "<polyline clip-path=\"url(#clip022)\" style=\"stroke:#000000; stroke-linecap:butt; stroke-linejoin:round; stroke-width:4; stroke-opacity:1; fill:none\" points=\"\n",
       "  420.325,1425.75 420.325,1445.72 549.783,1445.72 549.783,1425.75 420.325,1425.75 \n",
       "  \"/>\n",
       "<path clip-path=\"url(#clip022)\" d=\"\n",
       "M549.783 1332.57 L549.783 1445.72 L679.242 1445.72 L679.242 1332.57 L549.783 1332.57 L549.783 1332.57  Z\n",
       "  \" fill=\"#00ff00\" fill-rule=\"evenodd\" fill-opacity=\"1\"/>\n",
       "<polyline clip-path=\"url(#clip022)\" style=\"stroke:#000000; stroke-linecap:butt; stroke-linejoin:round; stroke-width:4; stroke-opacity:1; fill:none\" points=\"\n",
       "  549.783,1332.57 549.783,1445.72 679.242,1445.72 679.242,1332.57 549.783,1332.57 \n",
       "  \"/>\n",
       "<path clip-path=\"url(#clip022)\" d=\"\n",
       "M679.242 1159.53 L679.242 1445.72 L808.701 1445.72 L808.701 1159.53 L679.242 1159.53 L679.242 1159.53  Z\n",
       "  \" fill=\"#00ff00\" fill-rule=\"evenodd\" fill-opacity=\"1\"/>\n",
       "<polyline clip-path=\"url(#clip022)\" style=\"stroke:#000000; stroke-linecap:butt; stroke-linejoin:round; stroke-width:4; stroke-opacity:1; fill:none\" points=\"\n",
       "  679.242,1159.53 679.242,1445.72 808.701,1445.72 808.701,1159.53 679.242,1159.53 \n",
       "  \"/>\n",
       "<path clip-path=\"url(#clip022)\" d=\"\n",
       "M808.701 766.846 L808.701 1445.72 L938.16 1445.72 L938.16 766.846 L808.701 766.846 L808.701 766.846  Z\n",
       "  \" fill=\"#00ff00\" fill-rule=\"evenodd\" fill-opacity=\"1\"/>\n",
       "<polyline clip-path=\"url(#clip022)\" style=\"stroke:#000000; stroke-linecap:butt; stroke-linejoin:round; stroke-width:4; stroke-opacity:1; fill:none\" points=\"\n",
       "  808.701,766.846 808.701,1445.72 938.16,1445.72 938.16,766.846 808.701,766.846 \n",
       "  \"/>\n",
       "<path clip-path=\"url(#clip022)\" d=\"\n",
       "M938.16 360.855 L938.16 1445.72 L1067.62 1445.72 L1067.62 360.855 L938.16 360.855 L938.16 360.855  Z\n",
       "  \" fill=\"#00ff00\" fill-rule=\"evenodd\" fill-opacity=\"1\"/>\n",
       "<polyline clip-path=\"url(#clip022)\" style=\"stroke:#000000; stroke-linecap:butt; stroke-linejoin:round; stroke-width:4; stroke-opacity:1; fill:none\" points=\"\n",
       "  938.16,360.855 938.16,1445.72 1067.62,1445.72 1067.62,360.855 938.16,360.855 \n",
       "  \"/>\n",
       "<path clip-path=\"url(#clip022)\" d=\"\n",
       "M1067.62 261.021 L1067.62 1445.72 L1197.08 1445.72 L1197.08 261.021 L1067.62 261.021 L1067.62 261.021  Z\n",
       "  \" fill=\"#00ff00\" fill-rule=\"evenodd\" fill-opacity=\"1\"/>\n",
       "<polyline clip-path=\"url(#clip022)\" style=\"stroke:#000000; stroke-linecap:butt; stroke-linejoin:round; stroke-width:4; stroke-opacity:1; fill:none\" points=\"\n",
       "  1067.62,261.021 1067.62,1445.72 1197.08,1445.72 1197.08,261.021 1067.62,261.021 \n",
       "  \"/>\n",
       "<path clip-path=\"url(#clip022)\" d=\"\n",
       "M1197.08 87.9763 L1197.08 1445.72 L1326.54 1445.72 L1326.54 87.9763 L1197.08 87.9763 L1197.08 87.9763  Z\n",
       "  \" fill=\"#00ff00\" fill-rule=\"evenodd\" fill-opacity=\"1\"/>\n",
       "<polyline clip-path=\"url(#clip022)\" style=\"stroke:#000000; stroke-linecap:butt; stroke-linejoin:round; stroke-width:4; stroke-opacity:1; fill:none\" points=\"\n",
       "  1197.08,87.9763 1197.08,1445.72 1326.54,1445.72 1326.54,87.9763 1197.08,87.9763 \n",
       "  \"/>\n",
       "<path clip-path=\"url(#clip022)\" d=\"\n",
       "M1326.54 500.623 L1326.54 1445.72 L1455.99 1445.72 L1455.99 500.623 L1326.54 500.623 L1326.54 500.623  Z\n",
       "  \" fill=\"#00ff00\" fill-rule=\"evenodd\" fill-opacity=\"1\"/>\n",
       "<polyline clip-path=\"url(#clip022)\" style=\"stroke:#000000; stroke-linecap:butt; stroke-linejoin:round; stroke-width:4; stroke-opacity:1; fill:none\" points=\"\n",
       "  1326.54,500.623 1326.54,1445.72 1455.99,1445.72 1455.99,500.623 1326.54,500.623 \n",
       "  \"/>\n",
       "<path clip-path=\"url(#clip022)\" d=\"\n",
       "M1455.99 973.169 L1455.99 1445.72 L1585.45 1445.72 L1585.45 973.169 L1455.99 973.169 L1455.99 973.169  Z\n",
       "  \" fill=\"#00ff00\" fill-rule=\"evenodd\" fill-opacity=\"1\"/>\n",
       "<polyline clip-path=\"url(#clip022)\" style=\"stroke:#000000; stroke-linecap:butt; stroke-linejoin:round; stroke-width:4; stroke-opacity:1; fill:none\" points=\"\n",
       "  1455.99,973.169 1455.99,1445.72 1585.45,1445.72 1585.45,973.169 1455.99,973.169 \n",
       "  \"/>\n",
       "<path clip-path=\"url(#clip022)\" d=\"\n",
       "M1585.45 1106.28 L1585.45 1445.72 L1714.91 1445.72 L1714.91 1106.28 L1585.45 1106.28 L1585.45 1106.28  Z\n",
       "  \" fill=\"#00ff00\" fill-rule=\"evenodd\" fill-opacity=\"1\"/>\n",
       "<polyline clip-path=\"url(#clip022)\" style=\"stroke:#000000; stroke-linecap:butt; stroke-linejoin:round; stroke-width:4; stroke-opacity:1; fill:none\" points=\"\n",
       "  1585.45,1106.28 1585.45,1445.72 1714.91,1445.72 1714.91,1106.28 1585.45,1106.28 \n",
       "  \"/>\n",
       "<path clip-path=\"url(#clip022)\" d=\"\n",
       "M1714.91 1319.26 L1714.91 1445.72 L1844.37 1445.72 L1844.37 1319.26 L1714.91 1319.26 L1714.91 1319.26  Z\n",
       "  \" fill=\"#00ff00\" fill-rule=\"evenodd\" fill-opacity=\"1\"/>\n",
       "<polyline clip-path=\"url(#clip022)\" style=\"stroke:#000000; stroke-linecap:butt; stroke-linejoin:round; stroke-width:4; stroke-opacity:1; fill:none\" points=\"\n",
       "  1714.91,1319.26 1714.91,1445.72 1844.37,1445.72 1844.37,1319.26 1714.91,1319.26 \n",
       "  \"/>\n",
       "<path clip-path=\"url(#clip022)\" d=\"\n",
       "M1844.37 1419.09 L1844.37 1445.72 L1973.83 1445.72 L1973.83 1419.09 L1844.37 1419.09 L1844.37 1419.09  Z\n",
       "  \" fill=\"#00ff00\" fill-rule=\"evenodd\" fill-opacity=\"1\"/>\n",
       "<polyline clip-path=\"url(#clip022)\" style=\"stroke:#000000; stroke-linecap:butt; stroke-linejoin:round; stroke-width:4; stroke-opacity:1; fill:none\" points=\"\n",
       "  1844.37,1419.09 1844.37,1445.72 1973.83,1445.72 1973.83,1419.09 1844.37,1419.09 \n",
       "  \"/>\n",
       "<path clip-path=\"url(#clip022)\" d=\"\n",
       "M1973.83 1445.72 L1973.83 1445.72 L2103.29 1445.72 L2103.29 1445.72 L1973.83 1445.72 L1973.83 1445.72  Z\n",
       "  \" fill=\"#00ff00\" fill-rule=\"evenodd\" fill-opacity=\"1\"/>\n",
       "<polyline clip-path=\"url(#clip022)\" style=\"stroke:#000000; stroke-linecap:butt; stroke-linejoin:round; stroke-width:4; stroke-opacity:1; fill:none\" points=\"\n",
       "  1973.83,1445.72 1973.83,1445.72 2103.29,1445.72 1973.83,1445.72 \n",
       "  \"/>\n",
       "<path clip-path=\"url(#clip022)\" d=\"\n",
       "M2103.29 1439.06 L2103.29 1445.72 L2232.75 1445.72 L2232.75 1439.06 L2103.29 1439.06 L2103.29 1439.06  Z\n",
       "  \" fill=\"#00ff00\" fill-rule=\"evenodd\" fill-opacity=\"1\"/>\n",
       "<polyline clip-path=\"url(#clip022)\" style=\"stroke:#000000; stroke-linecap:butt; stroke-linejoin:round; stroke-width:4; stroke-opacity:1; fill:none\" points=\"\n",
       "  2103.29,1439.06 2103.29,1445.72 2232.75,1445.72 2232.75,1439.06 2103.29,1439.06 \n",
       "  \"/>\n",
       "<circle clip-path=\"url(#clip022)\" style=\"fill:#00ff00; stroke:none; fill-opacity:0\" cx=\"355.595\" cy=\"1432.4\" r=\"2\"/>\n",
       "<circle clip-path=\"url(#clip022)\" style=\"fill:#00ff00; stroke:none; fill-opacity:0\" cx=\"485.054\" cy=\"1425.75\" r=\"2\"/>\n",
       "<circle clip-path=\"url(#clip022)\" style=\"fill:#00ff00; stroke:none; fill-opacity:0\" cx=\"614.513\" cy=\"1332.57\" r=\"2\"/>\n",
       "<circle clip-path=\"url(#clip022)\" style=\"fill:#00ff00; stroke:none; fill-opacity:0\" cx=\"743.971\" cy=\"1159.53\" r=\"2\"/>\n",
       "<circle clip-path=\"url(#clip022)\" style=\"fill:#00ff00; stroke:none; fill-opacity:0\" cx=\"873.43\" cy=\"766.846\" r=\"2\"/>\n",
       "<circle clip-path=\"url(#clip022)\" style=\"fill:#00ff00; stroke:none; fill-opacity:0\" cx=\"1002.89\" cy=\"360.855\" r=\"2\"/>\n",
       "<circle clip-path=\"url(#clip022)\" style=\"fill:#00ff00; stroke:none; fill-opacity:0\" cx=\"1132.35\" cy=\"261.021\" r=\"2\"/>\n",
       "<circle clip-path=\"url(#clip022)\" style=\"fill:#00ff00; stroke:none; fill-opacity:0\" cx=\"1261.81\" cy=\"87.9763\" r=\"2\"/>\n",
       "<circle clip-path=\"url(#clip022)\" style=\"fill:#00ff00; stroke:none; fill-opacity:0\" cx=\"1391.27\" cy=\"500.623\" r=\"2\"/>\n",
       "<circle clip-path=\"url(#clip022)\" style=\"fill:#00ff00; stroke:none; fill-opacity:0\" cx=\"1520.72\" cy=\"973.169\" r=\"2\"/>\n",
       "<circle clip-path=\"url(#clip022)\" style=\"fill:#00ff00; stroke:none; fill-opacity:0\" cx=\"1650.18\" cy=\"1106.28\" r=\"2\"/>\n",
       "<circle clip-path=\"url(#clip022)\" style=\"fill:#00ff00; stroke:none; fill-opacity:0\" cx=\"1779.64\" cy=\"1319.26\" r=\"2\"/>\n",
       "<circle clip-path=\"url(#clip022)\" style=\"fill:#00ff00; stroke:none; fill-opacity:0\" cx=\"1909.1\" cy=\"1419.09\" r=\"2\"/>\n",
       "<circle clip-path=\"url(#clip022)\" style=\"fill:#00ff00; stroke:none; fill-opacity:0\" cx=\"2038.56\" cy=\"1445.72\" r=\"2\"/>\n",
       "<circle clip-path=\"url(#clip022)\" style=\"fill:#00ff00; stroke:none; fill-opacity:0\" cx=\"2168.02\" cy=\"1439.06\" r=\"2\"/>\n",
       "</svg>\n"
      ]
     },
     "execution_count": 6,
     "metadata": {},
     "output_type": "execute_result"
    }
   ],
   "source": [
    "histogram(randn(1000), legend=false, color=\"lime\")"
   ]
  },
  {
   "cell_type": "markdown",
   "id": "85cb955e-149b-4098-8b41-b30d412385db",
   "metadata": {},
   "source": [
    "3. Wylosuj 20 liczb z rozkładu jednostajnego na przedziale [0,1]. Wyznacz 95% przedział ufności dla średniej tych liczb\n",
    "dla 10000 powtórzeń próby bootstrapowej."
   ]
  },
  {
   "cell_type": "code",
   "execution_count": 7,
   "id": "ccd7f1ff-6606-4428-a306-dd31d86c01d7",
   "metadata": {},
   "outputs": [
    {
     "data": {
      "text/plain": [
       "f3_adv (generic function with 1 method)"
      ]
     },
     "execution_count": 7,
     "metadata": {},
     "output_type": "execute_result"
    }
   ],
   "source": [
    "function f3(r, q)\n",
    "# r - ilość powtórzeń , q - ilość liczb losowanych\n",
    "    s = [mean(rand(q)) for _ in 1:r]\n",
    "    m = mean(s)\n",
    "    sd = std(s)\n",
    "    ci_low = m - 1.96 * sd / sqrt(r)\n",
    "    ci_high = m + 1.96 * sd / sqrt(r)\n",
    "    @printf(\"Przedział ufności:\\nDolna granica %s\\nGórna granica %s\", ci_low, ci_high)\n",
    "end\n",
    "\n",
    "# za pomocą Distributions i HypothesisTests    \n",
    "function f3_adv(r, q)\n",
    "# r - ilość powtórzeń , q - ilość liczb losowanych\n",
    "    s = [mean(rand(q)) for _ in 1:r]\n",
    "    ci = confint(OneSampleTTest(s))\n",
    "    @printf(\"Przedział ufności:\\nDolna granica %s\\nGórna granica %s\", ci[1], ci[2])\n",
    "end"
   ]
  },
  {
   "cell_type": "code",
   "execution_count": 8,
   "id": "89884143-8377-4f38-8a59-3909264781bd",
   "metadata": {},
   "outputs": [
    {
     "name": "stdout",
     "output_type": "stream",
     "text": [
      "Przedział ufności:\n",
      "Dolna granica 0.4975784947315824\n",
      "Górna granica 0.5001249449419781"
     ]
    }
   ],
   "source": [
    "f3(10000, 20)"
   ]
  },
  {
   "cell_type": "code",
   "execution_count": 9,
   "id": "0d8b2792-7855-4b93-902a-500f16408724",
   "metadata": {},
   "outputs": [
    {
     "name": "stdout",
     "output_type": "stream",
     "text": [
      "Przedział ufności:\n",
      "Dolna granica 0.49898956244991544\n",
      "Górna granica 0.5015356111518545"
     ]
    }
   ],
   "source": [
    "f3_adv(10000, 20)"
   ]
  },
  {
   "cell_type": "markdown",
   "id": "53ffaadb-609f-45ea-aa54-1f5ffdcceabd",
   "metadata": {},
   "source": [
    "4. Biorąc przykład z zadania 3 napisz funkcję, której parametrem będzie wielkość próby `n` a wynikiem szerokość przedziału ufności.\n",
    "Narysuj wykres zależności szerokości przedziału ufności od `n`, gdzie `n` przyjmuje wartości od `10` do `100` z krokiem 1."
   ]
  },
  {
   "cell_type": "code",
   "execution_count": 15,
   "id": "a28b74bb-c5ed-49c6-ab51-880471cec56a",
   "metadata": {},
   "outputs": [
    {
     "data": {
      "image/svg+xml": [
       "<?xml version=\"1.0\" encoding=\"utf-8\"?>\n",
       "<svg xmlns=\"http://www.w3.org/2000/svg\" xmlns:xlink=\"http://www.w3.org/1999/xlink\" width=\"600\" height=\"400\" viewBox=\"0 0 2400 1600\">\n",
       "<defs>\n",
       "  <clipPath id=\"clip060\">\n",
       "    <rect x=\"0\" y=\"0\" width=\"2400\" height=\"1600\"/>\n",
       "  </clipPath>\n",
       "</defs>\n",
       "<path clip-path=\"url(#clip060)\" d=\"\n",
       "M0 1600 L2400 1600 L2400 0 L0 0  Z\n",
       "  \" fill=\"#ffffff\" fill-rule=\"evenodd\" fill-opacity=\"1\"/>\n",
       "<defs>\n",
       "  <clipPath id=\"clip061\">\n",
       "    <rect x=\"480\" y=\"0\" width=\"1681\" height=\"1600\"/>\n",
       "  </clipPath>\n",
       "</defs>\n",
       "<path clip-path=\"url(#clip060)\" d=\"\n",
       "M186.76 1486.45 L2352.76 1486.45 L2352.76 123.472 L186.76 123.472  Z\n",
       "  \" fill=\"#ffffff\" fill-rule=\"evenodd\" fill-opacity=\"1\"/>\n",
       "<defs>\n",
       "  <clipPath id=\"clip062\">\n",
       "    <rect x=\"186\" y=\"123\" width=\"2167\" height=\"1364\"/>\n",
       "  </clipPath>\n",
       "</defs>\n",
       "<polyline clip-path=\"url(#clip062)\" style=\"stroke:#000000; stroke-linecap:butt; stroke-linejoin:round; stroke-width:2; stroke-opacity:0.1; fill:none\" points=\"\n",
       "  475.105,1486.45 475.105,123.472 \n",
       "  \"/>\n",
       "<polyline clip-path=\"url(#clip062)\" style=\"stroke:#000000; stroke-linecap:butt; stroke-linejoin:round; stroke-width:2; stroke-opacity:0.1; fill:none\" points=\"\n",
       "  929.193,1486.45 929.193,123.472 \n",
       "  \"/>\n",
       "<polyline clip-path=\"url(#clip062)\" style=\"stroke:#000000; stroke-linecap:butt; stroke-linejoin:round; stroke-width:2; stroke-opacity:0.1; fill:none\" points=\"\n",
       "  1383.28,1486.45 1383.28,123.472 \n",
       "  \"/>\n",
       "<polyline clip-path=\"url(#clip062)\" style=\"stroke:#000000; stroke-linecap:butt; stroke-linejoin:round; stroke-width:2; stroke-opacity:0.1; fill:none\" points=\"\n",
       "  1837.37,1486.45 1837.37,123.472 \n",
       "  \"/>\n",
       "<polyline clip-path=\"url(#clip062)\" style=\"stroke:#000000; stroke-linecap:butt; stroke-linejoin:round; stroke-width:2; stroke-opacity:0.1; fill:none\" points=\"\n",
       "  2291.45,1486.45 2291.45,123.472 \n",
       "  \"/>\n",
       "<polyline clip-path=\"url(#clip060)\" style=\"stroke:#000000; stroke-linecap:butt; stroke-linejoin:round; stroke-width:4; stroke-opacity:1; fill:none\" points=\"\n",
       "  186.76,1486.45 2352.76,1486.45 \n",
       "  \"/>\n",
       "<polyline clip-path=\"url(#clip060)\" style=\"stroke:#000000; stroke-linecap:butt; stroke-linejoin:round; stroke-width:4; stroke-opacity:1; fill:none\" points=\"\n",
       "  475.105,1486.45 475.105,1467.55 \n",
       "  \"/>\n",
       "<polyline clip-path=\"url(#clip060)\" style=\"stroke:#000000; stroke-linecap:butt; stroke-linejoin:round; stroke-width:4; stroke-opacity:1; fill:none\" points=\"\n",
       "  929.193,1486.45 929.193,1467.55 \n",
       "  \"/>\n",
       "<polyline clip-path=\"url(#clip060)\" style=\"stroke:#000000; stroke-linecap:butt; stroke-linejoin:round; stroke-width:4; stroke-opacity:1; fill:none\" points=\"\n",
       "  1383.28,1486.45 1383.28,1467.55 \n",
       "  \"/>\n",
       "<polyline clip-path=\"url(#clip060)\" style=\"stroke:#000000; stroke-linecap:butt; stroke-linejoin:round; stroke-width:4; stroke-opacity:1; fill:none\" points=\"\n",
       "  1837.37,1486.45 1837.37,1467.55 \n",
       "  \"/>\n",
       "<polyline clip-path=\"url(#clip060)\" style=\"stroke:#000000; stroke-linecap:butt; stroke-linejoin:round; stroke-width:4; stroke-opacity:1; fill:none\" points=\"\n",
       "  2291.45,1486.45 2291.45,1467.55 \n",
       "  \"/>\n",
       "<path clip-path=\"url(#clip060)\" d=\"M453.879 1544.91 L470.198 1544.91 L470.198 1548.85 L448.254 1548.85 L448.254 1544.91 Q450.916 1542.16 455.499 1537.53 Q460.106 1532.88 461.286 1531.53 Q463.531 1529.01 464.411 1527.27 Q465.314 1525.51 465.314 1523.82 Q465.314 1521.07 463.369 1519.33 Q461.448 1517.6 458.346 1517.6 Q456.147 1517.6 453.694 1518.36 Q451.263 1519.13 448.485 1520.68 L448.485 1515.95 Q451.309 1514.82 453.763 1514.24 Q456.217 1513.66 458.254 1513.66 Q463.624 1513.66 466.818 1516.35 Q470.013 1519.03 470.013 1523.52 Q470.013 1525.65 469.203 1527.57 Q468.416 1529.47 466.309 1532.07 Q465.731 1532.74 462.629 1535.95 Q459.527 1539.15 453.879 1544.91 Z\" fill=\"#000000\" fill-rule=\"evenodd\" fill-opacity=\"1\" /><path clip-path=\"url(#clip060)\" d=\"M490.013 1517.37 Q486.402 1517.37 484.573 1520.93 Q482.767 1524.47 482.767 1531.6 Q482.767 1538.71 484.573 1542.27 Q486.402 1545.82 490.013 1545.82 Q493.647 1545.82 495.453 1542.27 Q497.281 1538.71 497.281 1531.6 Q497.281 1524.47 495.453 1520.93 Q493.647 1517.37 490.013 1517.37 M490.013 1513.66 Q495.823 1513.66 498.878 1518.27 Q501.957 1522.85 501.957 1531.6 Q501.957 1540.33 498.878 1544.94 Q495.823 1549.52 490.013 1549.52 Q484.203 1549.52 481.124 1544.94 Q478.068 1540.33 478.068 1531.6 Q478.068 1522.85 481.124 1518.27 Q484.203 1513.66 490.013 1513.66 Z\" fill=\"#000000\" fill-rule=\"evenodd\" fill-opacity=\"1\" /><path clip-path=\"url(#clip060)\" d=\"M917.364 1518.36 L905.558 1536.81 L917.364 1536.81 L917.364 1518.36 M916.137 1514.29 L922.017 1514.29 L922.017 1536.81 L926.947 1536.81 L926.947 1540.7 L922.017 1540.7 L922.017 1548.85 L917.364 1548.85 L917.364 1540.7 L901.762 1540.7 L901.762 1536.19 L916.137 1514.29 Z\" fill=\"#000000\" fill-rule=\"evenodd\" fill-opacity=\"1\" /><path clip-path=\"url(#clip060)\" d=\"M944.679 1517.37 Q941.068 1517.37 939.239 1520.93 Q937.433 1524.47 937.433 1531.6 Q937.433 1538.71 939.239 1542.27 Q941.068 1545.82 944.679 1545.82 Q948.313 1545.82 950.118 1542.27 Q951.947 1538.71 951.947 1531.6 Q951.947 1524.47 950.118 1520.93 Q948.313 1517.37 944.679 1517.37 M944.679 1513.66 Q950.489 1513.66 953.544 1518.27 Q956.623 1522.85 956.623 1531.6 Q956.623 1540.33 953.544 1544.94 Q950.489 1549.52 944.679 1549.52 Q938.869 1549.52 935.79 1544.94 Q932.734 1540.33 932.734 1531.6 Q932.734 1522.85 935.79 1518.27 Q938.869 1513.66 944.679 1513.66 Z\" fill=\"#000000\" fill-rule=\"evenodd\" fill-opacity=\"1\" /><path clip-path=\"url(#clip060)\" d=\"M1368.68 1529.7 Q1365.54 1529.7 1363.68 1531.86 Q1361.86 1534.01 1361.86 1537.76 Q1361.86 1541.49 1363.68 1543.66 Q1365.54 1545.82 1368.68 1545.82 Q1371.83 1545.82 1373.66 1543.66 Q1375.51 1541.49 1375.51 1537.76 Q1375.51 1534.01 1373.66 1531.86 Q1371.83 1529.7 1368.68 1529.7 M1377.97 1515.05 L1377.97 1519.31 Q1376.21 1518.48 1374.4 1518.04 Q1372.62 1517.6 1370.86 1517.6 Q1366.23 1517.6 1363.78 1520.72 Q1361.35 1523.85 1361 1530.17 Q1362.37 1528.15 1364.43 1527.09 Q1366.49 1526 1368.96 1526 Q1374.17 1526 1377.18 1529.17 Q1380.21 1532.32 1380.21 1537.76 Q1380.21 1543.08 1377.06 1546.3 Q1373.92 1549.52 1368.68 1549.52 Q1362.69 1549.52 1359.52 1544.94 Q1356.35 1540.33 1356.35 1531.6 Q1356.35 1523.41 1360.24 1518.55 Q1364.12 1513.66 1370.68 1513.66 Q1372.43 1513.66 1374.22 1514.01 Q1376.02 1514.36 1377.97 1515.05 Z\" fill=\"#000000\" fill-rule=\"evenodd\" fill-opacity=\"1\" /><path clip-path=\"url(#clip060)\" d=\"M1398.27 1517.37 Q1394.66 1517.37 1392.83 1520.93 Q1391.02 1524.47 1391.02 1531.6 Q1391.02 1538.71 1392.83 1542.27 Q1394.66 1545.82 1398.27 1545.82 Q1401.9 1545.82 1403.71 1542.27 Q1405.54 1538.71 1405.54 1531.6 Q1405.54 1524.47 1403.71 1520.93 Q1401.9 1517.37 1398.27 1517.37 M1398.27 1513.66 Q1404.08 1513.66 1407.13 1518.27 Q1410.21 1522.85 1410.21 1531.6 Q1410.21 1540.33 1407.13 1544.94 Q1404.08 1549.52 1398.27 1549.52 Q1392.46 1549.52 1389.38 1544.94 Q1386.32 1540.33 1386.32 1531.6 Q1386.32 1522.85 1389.38 1518.27 Q1392.46 1513.66 1398.27 1513.66 Z\" fill=\"#000000\" fill-rule=\"evenodd\" fill-opacity=\"1\" /><path clip-path=\"url(#clip060)\" d=\"M1822.24 1532.44 Q1818.91 1532.44 1816.99 1534.22 Q1815.09 1536 1815.09 1539.13 Q1815.09 1542.25 1816.99 1544.03 Q1818.91 1545.82 1822.24 1545.82 Q1825.57 1545.82 1827.49 1544.03 Q1829.42 1542.23 1829.42 1539.13 Q1829.42 1536 1827.49 1534.22 Q1825.6 1532.44 1822.24 1532.44 M1817.56 1530.45 Q1814.55 1529.7 1812.86 1527.64 Q1811.2 1525.58 1811.2 1522.62 Q1811.2 1518.48 1814.14 1516.07 Q1817.1 1513.66 1822.24 1513.66 Q1827.4 1513.66 1830.34 1516.07 Q1833.28 1518.48 1833.28 1522.62 Q1833.28 1525.58 1831.59 1527.64 Q1829.92 1529.7 1826.94 1530.45 Q1830.32 1531.23 1832.19 1533.52 Q1834.09 1535.82 1834.09 1539.13 Q1834.09 1544.15 1831.01 1546.83 Q1827.96 1549.52 1822.24 1549.52 Q1816.52 1549.52 1813.44 1546.83 Q1810.39 1544.15 1810.39 1539.13 Q1810.39 1535.82 1812.29 1533.52 Q1814.18 1531.23 1817.56 1530.45 M1815.85 1523.06 Q1815.85 1525.75 1817.52 1527.25 Q1819.21 1528.76 1822.24 1528.76 Q1825.25 1528.76 1826.94 1527.25 Q1828.65 1525.75 1828.65 1523.06 Q1828.65 1520.38 1826.94 1518.87 Q1825.25 1517.37 1822.24 1517.37 Q1819.21 1517.37 1817.52 1518.87 Q1815.85 1520.38 1815.85 1523.06 Z\" fill=\"#000000\" fill-rule=\"evenodd\" fill-opacity=\"1\" /><path clip-path=\"url(#clip060)\" d=\"M1852.4 1517.37 Q1848.79 1517.37 1846.96 1520.93 Q1845.16 1524.47 1845.16 1531.6 Q1845.16 1538.71 1846.96 1542.27 Q1848.79 1545.82 1852.4 1545.82 Q1856.04 1545.82 1857.84 1542.27 Q1859.67 1538.71 1859.67 1531.6 Q1859.67 1524.47 1857.84 1520.93 Q1856.04 1517.37 1852.4 1517.37 M1852.4 1513.66 Q1858.21 1513.66 1861.27 1518.27 Q1864.35 1522.85 1864.35 1531.6 Q1864.35 1540.33 1861.27 1544.94 Q1858.21 1549.52 1852.4 1549.52 Q1846.59 1549.52 1843.51 1544.94 Q1840.46 1540.33 1840.46 1531.6 Q1840.46 1522.85 1843.51 1518.27 Q1846.59 1513.66 1852.4 1513.66 Z\" fill=\"#000000\" fill-rule=\"evenodd\" fill-opacity=\"1\" /><path clip-path=\"url(#clip060)\" d=\"M2251.06 1544.91 L2258.7 1544.91 L2258.7 1518.55 L2250.39 1520.21 L2250.39 1515.95 L2258.65 1514.29 L2263.33 1514.29 L2263.33 1544.91 L2270.97 1544.91 L2270.97 1548.85 L2251.06 1548.85 L2251.06 1544.91 Z\" fill=\"#000000\" fill-rule=\"evenodd\" fill-opacity=\"1\" /><path clip-path=\"url(#clip060)\" d=\"M2290.41 1517.37 Q2286.8 1517.37 2284.97 1520.93 Q2283.17 1524.47 2283.17 1531.6 Q2283.17 1538.71 2284.97 1542.27 Q2286.8 1545.82 2290.41 1545.82 Q2294.05 1545.82 2295.85 1542.27 Q2297.68 1538.71 2297.68 1531.6 Q2297.68 1524.47 2295.85 1520.93 Q2294.05 1517.37 2290.41 1517.37 M2290.41 1513.66 Q2296.22 1513.66 2299.28 1518.27 Q2302.36 1522.85 2302.36 1531.6 Q2302.36 1540.33 2299.28 1544.94 Q2296.22 1549.52 2290.41 1549.52 Q2284.6 1549.52 2281.52 1544.94 Q2278.47 1540.33 2278.47 1531.6 Q2278.47 1522.85 2281.52 1518.27 Q2284.6 1513.66 2290.41 1513.66 Z\" fill=\"#000000\" fill-rule=\"evenodd\" fill-opacity=\"1\" /><path clip-path=\"url(#clip060)\" d=\"M2320.57 1517.37 Q2316.96 1517.37 2315.13 1520.93 Q2313.33 1524.47 2313.33 1531.6 Q2313.33 1538.71 2315.13 1542.27 Q2316.96 1545.82 2320.57 1545.82 Q2324.21 1545.82 2326.01 1542.27 Q2327.84 1538.71 2327.84 1531.6 Q2327.84 1524.47 2326.01 1520.93 Q2324.21 1517.37 2320.57 1517.37 M2320.57 1513.66 Q2326.38 1513.66 2329.44 1518.27 Q2332.52 1522.85 2332.52 1531.6 Q2332.52 1540.33 2329.44 1544.94 Q2326.38 1549.52 2320.57 1549.52 Q2314.76 1549.52 2311.69 1544.94 Q2308.63 1540.33 2308.63 1531.6 Q2308.63 1522.85 2311.69 1518.27 Q2314.76 1513.66 2320.57 1513.66 Z\" fill=\"#000000\" fill-rule=\"evenodd\" fill-opacity=\"1\" /><polyline clip-path=\"url(#clip062)\" style=\"stroke:#000000; stroke-linecap:butt; stroke-linejoin:round; stroke-width:2; stroke-opacity:0.1; fill:none\" points=\"\n",
       "  186.76,1169.83 2352.76,1169.83 \n",
       "  \"/>\n",
       "<polyline clip-path=\"url(#clip062)\" style=\"stroke:#000000; stroke-linecap:butt; stroke-linejoin:round; stroke-width:2; stroke-opacity:0.1; fill:none\" points=\"\n",
       "  186.76,850.307 2352.76,850.307 \n",
       "  \"/>\n",
       "<polyline clip-path=\"url(#clip062)\" style=\"stroke:#000000; stroke-linecap:butt; stroke-linejoin:round; stroke-width:2; stroke-opacity:0.1; fill:none\" points=\"\n",
       "  186.76,530.783 2352.76,530.783 \n",
       "  \"/>\n",
       "<polyline clip-path=\"url(#clip062)\" style=\"stroke:#000000; stroke-linecap:butt; stroke-linejoin:round; stroke-width:2; stroke-opacity:0.1; fill:none\" points=\"\n",
       "  186.76,211.26 2352.76,211.26 \n",
       "  \"/>\n",
       "<polyline clip-path=\"url(#clip060)\" style=\"stroke:#000000; stroke-linecap:butt; stroke-linejoin:round; stroke-width:4; stroke-opacity:1; fill:none\" points=\"\n",
       "  186.76,1486.45 186.76,123.472 \n",
       "  \"/>\n",
       "<polyline clip-path=\"url(#clip060)\" style=\"stroke:#000000; stroke-linecap:butt; stroke-linejoin:round; stroke-width:4; stroke-opacity:1; fill:none\" points=\"\n",
       "  186.76,1169.83 205.658,1169.83 \n",
       "  \"/>\n",
       "<polyline clip-path=\"url(#clip060)\" style=\"stroke:#000000; stroke-linecap:butt; stroke-linejoin:round; stroke-width:4; stroke-opacity:1; fill:none\" points=\"\n",
       "  186.76,850.307 205.658,850.307 \n",
       "  \"/>\n",
       "<polyline clip-path=\"url(#clip060)\" style=\"stroke:#000000; stroke-linecap:butt; stroke-linejoin:round; stroke-width:4; stroke-opacity:1; fill:none\" points=\"\n",
       "  186.76,530.783 205.658,530.783 \n",
       "  \"/>\n",
       "<polyline clip-path=\"url(#clip060)\" style=\"stroke:#000000; stroke-linecap:butt; stroke-linejoin:round; stroke-width:4; stroke-opacity:1; fill:none\" points=\"\n",
       "  186.76,211.26 205.658,211.26 \n",
       "  \"/>\n",
       "<path clip-path=\"url(#clip060)\" d=\"M62.9365 1155.63 Q59.3254 1155.63 57.4967 1159.19 Q55.6912 1162.74 55.6912 1169.86 Q55.6912 1176.97 57.4967 1180.54 Q59.3254 1184.08 62.9365 1184.08 Q66.5707 1184.08 68.3763 1180.54 Q70.205 1176.97 70.205 1169.86 Q70.205 1162.74 68.3763 1159.19 Q66.5707 1155.63 62.9365 1155.63 M62.9365 1151.93 Q68.7467 1151.93 71.8022 1156.53 Q74.8809 1161.12 74.8809 1169.86 Q74.8809 1178.59 71.8022 1183.2 Q68.7467 1187.78 62.9365 1187.78 Q57.1264 1187.78 54.0477 1183.2 Q50.9921 1178.59 50.9921 1169.86 Q50.9921 1161.12 54.0477 1156.53 Q57.1264 1151.93 62.9365 1151.93 Z\" fill=\"#000000\" fill-rule=\"evenodd\" fill-opacity=\"1\" /><path clip-path=\"url(#clip060)\" d=\"M83.0984 1181.23 L87.9827 1181.23 L87.9827 1187.11 L83.0984 1187.11 L83.0984 1181.23 Z\" fill=\"#000000\" fill-rule=\"evenodd\" fill-opacity=\"1\" /><path clip-path=\"url(#clip060)\" d=\"M108.168 1155.63 Q104.557 1155.63 102.728 1159.19 Q100.922 1162.74 100.922 1169.86 Q100.922 1176.97 102.728 1180.54 Q104.557 1184.08 108.168 1184.08 Q111.802 1184.08 113.608 1180.54 Q115.436 1176.97 115.436 1169.86 Q115.436 1162.74 113.608 1159.19 Q111.802 1155.63 108.168 1155.63 M108.168 1151.93 Q113.978 1151.93 117.033 1156.53 Q120.112 1161.12 120.112 1169.86 Q120.112 1178.59 117.033 1183.2 Q113.978 1187.78 108.168 1187.78 Q102.358 1187.78 99.2789 1183.2 Q96.2234 1178.59 96.2234 1169.86 Q96.2234 1161.12 99.2789 1156.53 Q102.358 1151.93 108.168 1151.93 Z\" fill=\"#000000\" fill-rule=\"evenodd\" fill-opacity=\"1\" /><path clip-path=\"url(#clip060)\" d=\"M141.177 1156.62 L129.371 1175.07 L141.177 1175.07 L141.177 1156.62 M139.95 1152.55 L145.83 1152.55 L145.83 1175.07 L150.76 1175.07 L150.76 1178.96 L145.83 1178.96 L145.83 1187.11 L141.177 1187.11 L141.177 1178.96 L125.575 1178.96 L125.575 1174.45 L139.95 1152.55 Z\" fill=\"#000000\" fill-rule=\"evenodd\" fill-opacity=\"1\" /><path clip-path=\"url(#clip060)\" d=\"M63.2606 836.105 Q59.6495 836.105 57.8208 839.67 Q56.0152 843.212 56.0152 850.342 Q56.0152 857.448 57.8208 861.013 Q59.6495 864.554 63.2606 864.554 Q66.8948 864.554 68.7004 861.013 Q70.5291 857.448 70.5291 850.342 Q70.5291 843.212 68.7004 839.67 Q66.8948 836.105 63.2606 836.105 M63.2606 832.402 Q69.0707 832.402 72.1263 837.008 Q75.205 841.592 75.205 850.342 Q75.205 859.068 72.1263 863.675 Q69.0707 868.258 63.2606 868.258 Q57.4504 868.258 54.3717 863.675 Q51.3162 859.068 51.3162 850.342 Q51.3162 841.592 54.3717 837.008 Q57.4504 832.402 63.2606 832.402 Z\" fill=\"#000000\" fill-rule=\"evenodd\" fill-opacity=\"1\" /><path clip-path=\"url(#clip060)\" d=\"M83.4225 861.707 L88.3067 861.707 L88.3067 867.587 L83.4225 867.587 L83.4225 861.707 Z\" fill=\"#000000\" fill-rule=\"evenodd\" fill-opacity=\"1\" /><path clip-path=\"url(#clip060)\" d=\"M108.492 836.105 Q104.881 836.105 103.052 839.67 Q101.246 843.212 101.246 850.342 Q101.246 857.448 103.052 861.013 Q104.881 864.554 108.492 864.554 Q112.126 864.554 113.932 861.013 Q115.76 857.448 115.76 850.342 Q115.76 843.212 113.932 839.67 Q112.126 836.105 108.492 836.105 M108.492 832.402 Q114.302 832.402 117.358 837.008 Q120.436 841.592 120.436 850.342 Q120.436 859.068 117.358 863.675 Q114.302 868.258 108.492 868.258 Q102.682 868.258 99.603 863.675 Q96.5474 859.068 96.5474 850.342 Q96.5474 841.592 99.603 837.008 Q102.682 832.402 108.492 832.402 Z\" fill=\"#000000\" fill-rule=\"evenodd\" fill-opacity=\"1\" /><path clip-path=\"url(#clip060)\" d=\"M139.232 848.443 Q136.084 848.443 134.232 850.596 Q132.404 852.749 132.404 856.499 Q132.404 860.226 134.232 862.402 Q136.084 864.554 139.232 864.554 Q142.381 864.554 144.209 862.402 Q146.061 860.226 146.061 856.499 Q146.061 852.749 144.209 850.596 Q142.381 848.443 139.232 848.443 M148.515 833.791 L148.515 838.05 Q146.756 837.217 144.95 836.777 Q143.168 836.337 141.408 836.337 Q136.779 836.337 134.325 839.462 Q131.894 842.587 131.547 848.906 Q132.913 846.892 134.973 845.828 Q137.033 844.74 139.51 844.74 Q144.718 844.74 147.728 847.911 Q150.76 851.059 150.76 856.499 Q150.76 861.823 147.612 865.041 Q144.464 868.258 139.232 868.258 Q133.237 868.258 130.066 863.675 Q126.894 859.068 126.894 850.342 Q126.894 842.147 130.783 837.286 Q134.672 832.402 141.223 832.402 Q142.982 832.402 144.765 832.749 Q146.57 833.096 148.515 833.791 Z\" fill=\"#000000\" fill-rule=\"evenodd\" fill-opacity=\"1\" /><path clip-path=\"url(#clip060)\" d=\"M63.5152 516.582 Q59.9041 516.582 58.0754 520.147 Q56.2699 523.689 56.2699 530.818 Q56.2699 537.925 58.0754 541.489 Q59.9041 545.031 63.5152 545.031 Q67.1494 545.031 68.955 541.489 Q70.7837 537.925 70.7837 530.818 Q70.7837 523.689 68.955 520.147 Q67.1494 516.582 63.5152 516.582 M63.5152 512.878 Q69.3254 512.878 72.3809 517.485 Q75.4596 522.068 75.4596 530.818 Q75.4596 539.545 72.3809 544.151 Q69.3254 548.735 63.5152 548.735 Q57.7051 548.735 54.6264 544.151 Q51.5708 539.545 51.5708 530.818 Q51.5708 522.068 54.6264 517.485 Q57.7051 512.878 63.5152 512.878 Z\" fill=\"#000000\" fill-rule=\"evenodd\" fill-opacity=\"1\" /><path clip-path=\"url(#clip060)\" d=\"M83.6771 542.184 L88.5614 542.184 L88.5614 548.063 L83.6771 548.063 L83.6771 542.184 Z\" fill=\"#000000\" fill-rule=\"evenodd\" fill-opacity=\"1\" /><path clip-path=\"url(#clip060)\" d=\"M108.746 516.582 Q105.135 516.582 103.307 520.147 Q101.501 523.689 101.501 530.818 Q101.501 537.925 103.307 541.489 Q105.135 545.031 108.746 545.031 Q112.381 545.031 114.186 541.489 Q116.015 537.925 116.015 530.818 Q116.015 523.689 114.186 520.147 Q112.381 516.582 108.746 516.582 M108.746 512.878 Q114.557 512.878 117.612 517.485 Q120.691 522.068 120.691 530.818 Q120.691 539.545 117.612 544.151 Q114.557 548.735 108.746 548.735 Q102.936 548.735 99.8576 544.151 Q96.8021 539.545 96.8021 530.818 Q96.8021 522.068 99.8576 517.485 Q102.936 512.878 108.746 512.878 Z\" fill=\"#000000\" fill-rule=\"evenodd\" fill-opacity=\"1\" /><path clip-path=\"url(#clip060)\" d=\"M138.908 531.651 Q135.575 531.651 133.654 533.434 Q131.756 535.216 131.756 538.341 Q131.756 541.466 133.654 543.249 Q135.575 545.031 138.908 545.031 Q142.242 545.031 144.163 543.249 Q146.084 541.443 146.084 538.341 Q146.084 535.216 144.163 533.434 Q142.265 531.651 138.908 531.651 M134.232 529.661 Q131.223 528.92 129.533 526.86 Q127.867 524.8 127.867 521.837 Q127.867 517.693 130.807 515.286 Q133.769 512.878 138.908 512.878 Q144.07 512.878 147.01 515.286 Q149.95 517.693 149.95 521.837 Q149.95 524.8 148.26 526.86 Q146.593 528.92 143.607 529.661 Q146.987 530.448 148.862 532.739 Q150.76 535.031 150.76 538.341 Q150.76 543.364 147.681 546.049 Q144.626 548.735 138.908 548.735 Q133.191 548.735 130.112 546.049 Q127.057 543.364 127.057 538.341 Q127.057 535.031 128.955 532.739 Q130.853 530.448 134.232 529.661 M132.519 522.276 Q132.519 524.962 134.186 526.466 Q135.876 527.971 138.908 527.971 Q141.918 527.971 143.607 526.466 Q145.32 524.962 145.32 522.276 Q145.32 519.591 143.607 518.087 Q141.918 516.582 138.908 516.582 Q135.876 516.582 134.186 518.087 Q132.519 519.591 132.519 522.276 Z\" fill=\"#000000\" fill-rule=\"evenodd\" fill-opacity=\"1\" /><path clip-path=\"url(#clip060)\" d=\"M63.4226 197.059 Q59.8115 197.059 57.9828 200.623 Q56.1773 204.165 56.1773 211.295 Q56.1773 218.401 57.9828 221.966 Q59.8115 225.508 63.4226 225.508 Q67.0569 225.508 68.8624 221.966 Q70.6911 218.401 70.6911 211.295 Q70.6911 204.165 68.8624 200.623 Q67.0569 197.059 63.4226 197.059 M63.4226 193.355 Q69.2328 193.355 72.2883 197.961 Q75.367 202.545 75.367 211.295 Q75.367 220.021 72.2883 224.628 Q69.2328 229.211 63.4226 229.211 Q57.6125 229.211 54.5338 224.628 Q51.4782 220.021 51.4782 211.295 Q51.4782 202.545 54.5338 197.961 Q57.6125 193.355 63.4226 193.355 Z\" fill=\"#000000\" fill-rule=\"evenodd\" fill-opacity=\"1\" /><path clip-path=\"url(#clip060)\" d=\"M83.5845 222.66 L88.4688 222.66 L88.4688 228.54 L83.5845 228.54 L83.5845 222.66 Z\" fill=\"#000000\" fill-rule=\"evenodd\" fill-opacity=\"1\" /><path clip-path=\"url(#clip060)\" d=\"M99.4641 224.605 L107.103 224.605 L107.103 198.239 L98.7928 199.906 L98.7928 195.647 L107.057 193.98 L111.733 193.98 L111.733 224.605 L119.371 224.605 L119.371 228.54 L99.4641 228.54 L99.4641 224.605 Z\" fill=\"#000000\" fill-rule=\"evenodd\" fill-opacity=\"1\" /><path clip-path=\"url(#clip060)\" d=\"M138.816 197.059 Q135.205 197.059 133.376 200.623 Q131.57 204.165 131.57 211.295 Q131.57 218.401 133.376 221.966 Q135.205 225.508 138.816 225.508 Q142.45 225.508 144.256 221.966 Q146.084 218.401 146.084 211.295 Q146.084 204.165 144.256 200.623 Q142.45 197.059 138.816 197.059 M138.816 193.355 Q144.626 193.355 147.681 197.961 Q150.76 202.545 150.76 211.295 Q150.76 220.021 147.681 224.628 Q144.626 229.211 138.816 229.211 Q133.006 229.211 129.927 224.628 Q126.871 220.021 126.871 211.295 Q126.871 202.545 129.927 197.961 Q133.006 193.355 138.816 193.355 Z\" fill=\"#000000\" fill-rule=\"evenodd\" fill-opacity=\"1\" /><path clip-path=\"url(#clip060)\" d=\"M323.892 14.0809 L323.892 22.0612 Q319.234 19.8332 315.102 18.7395 Q310.97 17.6457 307.121 17.6457 Q300.437 17.6457 296.792 20.2383 Q293.186 22.8309 293.186 27.611 Q293.186 31.6214 295.576 33.6873 Q298.007 35.7128 304.731 36.9686 L309.673 37.9813 Q318.828 39.7232 323.163 44.1387 Q327.538 48.5136 327.538 55.8863 Q327.538 64.6767 321.624 69.2137 Q315.75 73.7508 304.367 73.7508 Q300.073 73.7508 295.212 72.7785 Q290.391 71.8063 285.206 69.9024 L285.206 61.4765 Q290.189 64.2716 294.969 65.6895 Q299.749 67.1073 304.367 67.1073 Q311.375 67.1073 315.183 64.3527 Q318.991 61.598 318.991 56.4939 Q318.991 52.0379 316.236 49.5264 Q313.522 47.0148 307.283 45.759 L302.301 44.7868 Q293.146 42.9639 289.054 39.075 Q284.963 35.1862 284.963 28.2591 Q284.963 20.2383 290.594 15.6203 Q296.265 11.0023 306.19 11.0023 Q310.443 11.0023 314.859 11.7719 Q319.274 12.5416 323.892 14.0809 Z\" fill=\"#000000\" fill-rule=\"evenodd\" fill-opacity=\"1\" /><path clip-path=\"url(#clip060)\" d=\"M336.733 27.2059 L372.138 27.2059 L372.138 34.0114 L344.106 66.6212 L372.138 66.6212 L372.138 72.576 L335.721 72.576 L335.721 65.7705 L363.753 33.1607 L336.733 33.1607 L336.733 27.2059 Z\" fill=\"#000000\" fill-rule=\"evenodd\" fill-opacity=\"1\" /><path clip-path=\"url(#clip060)\" d=\"M422.329 48.0275 L422.329 51.6733 L388.058 51.6733 Q388.545 59.3701 392.676 63.421 Q396.849 67.4314 404.262 67.4314 Q408.556 67.4314 412.566 66.3781 Q416.617 65.3249 420.587 63.2184 L420.587 70.267 Q416.577 71.9684 412.364 72.8596 Q408.151 73.7508 403.816 73.7508 Q392.96 73.7508 386.6 67.4314 Q380.281 61.1119 380.281 50.3365 Q380.281 39.1965 386.276 32.6746 Q392.312 26.1121 402.52 26.1121 Q411.675 26.1121 416.982 32.0264 Q422.329 37.9003 422.329 48.0275 M414.875 45.84 Q414.794 39.7232 411.432 36.0774 Q408.11 32.4315 402.601 32.4315 Q396.363 32.4315 392.595 35.9558 Q388.869 39.4801 388.302 45.8805 L414.875 45.84 Z\" fill=\"#000000\" fill-rule=\"evenodd\" fill-opacity=\"1\" /><path clip-path=\"url(#clip060)\" d=\"M460.853 34.1734 Q459.597 33.4443 458.099 33.1202 Q456.64 32.7556 454.858 32.7556 Q448.538 32.7556 445.136 36.8875 Q441.773 40.9789 441.773 48.6757 L441.773 72.576 L434.279 72.576 L434.279 27.2059 L441.773 27.2059 L441.773 34.2544 Q444.123 30.1225 447.89 28.1376 Q451.658 26.1121 457.045 26.1121 Q457.815 26.1121 458.747 26.2337 Q459.678 26.3147 460.813 26.5172 L460.853 34.1734 Z\" fill=\"#000000\" fill-rule=\"evenodd\" fill-opacity=\"1\" /><path clip-path=\"url(#clip060)\" d=\"M484.429 32.4315 Q478.434 32.4315 474.95 37.1306 Q471.467 41.7891 471.467 49.9314 Q471.467 58.0738 474.91 62.7728 Q478.394 67.4314 484.429 67.4314 Q490.384 67.4314 493.868 62.7323 Q497.352 58.0333 497.352 49.9314 Q497.352 41.8701 493.868 37.1711 Q490.384 32.4315 484.429 32.4315 M484.429 26.1121 Q494.152 26.1121 499.701 32.4315 Q505.251 38.7509 505.251 49.9314 Q505.251 61.0714 499.701 67.4314 Q494.152 73.7508 484.429 73.7508 Q474.667 73.7508 469.117 67.4314 Q463.608 61.0714 463.608 49.9314 Q463.608 38.7509 469.117 32.4315 Q474.667 26.1121 484.429 26.1121 Z\" fill=\"#000000\" fill-rule=\"evenodd\" fill-opacity=\"1\" /><path clip-path=\"url(#clip060)\" d=\"M517.323 9.54393 L524.817 9.54393 L524.817 46.7717 L547.056 27.2059 L556.576 27.2059 L532.514 48.4326 L557.589 72.576 L547.867 72.576 L524.817 50.4176 L524.817 72.576 L517.323 72.576 L517.323 9.54393 Z\" fill=\"#000000\" fill-rule=\"evenodd\" fill-opacity=\"1\" /><path clip-path=\"url(#clip060)\" d=\"M580.274 32.4315 Q574.279 32.4315 570.795 37.1306 Q567.311 41.7891 567.311 49.9314 Q567.311 58.0738 570.754 62.7728 Q574.238 67.4314 580.274 67.4314 Q586.229 67.4314 589.712 62.7323 Q593.196 58.0333 593.196 49.9314 Q593.196 41.8701 589.712 37.1711 Q586.229 32.4315 580.274 32.4315 M580.274 26.1121 Q589.996 26.1121 595.546 32.4315 Q601.096 38.7509 601.096 49.9314 Q601.096 61.0714 595.546 67.4314 Q589.996 73.7508 580.274 73.7508 Q570.511 73.7508 564.961 67.4314 Q559.452 61.0714 559.452 49.9314 Q559.452 38.7509 564.961 32.4315 Q570.511 26.1121 580.274 26.1121 Z\" fill=\"#000000\" fill-rule=\"evenodd\" fill-opacity=\"1\" /><path clip-path=\"url(#clip060)\" d=\"M634.677 5.93863 L642.739 5.93863 L629.533 21.17 L623.335 21.17 L634.677 5.93863 M642.374 28.5427 L642.374 35.5912 Q639.215 33.9709 635.812 33.1607 Q632.409 32.3505 628.763 32.3505 Q623.213 32.3505 620.418 34.0519 Q617.664 35.7533 617.664 39.156 Q617.664 41.7486 619.649 43.2475 Q621.634 44.7058 627.629 46.0426 L630.181 46.6097 Q638.121 48.3111 641.443 51.4303 Q644.805 54.509 644.805 60.0587 Q644.805 66.3781 639.782 70.0644 Q634.799 73.7508 626.049 73.7508 Q622.403 73.7508 618.433 73.0216 Q614.504 72.3329 610.129 70.9151 L610.129 63.2184 Q614.261 65.3654 618.271 66.4591 Q622.282 67.5124 626.211 67.5124 Q631.477 67.5124 634.313 65.73 Q637.149 63.9071 637.149 60.6258 Q637.149 57.5877 635.083 55.9673 Q633.057 54.3469 626.13 52.8481 L623.538 52.2405 Q616.61 50.7821 613.532 47.7845 Q610.453 44.7463 610.453 39.4801 Q610.453 33.0797 614.99 29.5959 Q619.527 26.1121 627.872 26.1121 Q632.004 26.1121 635.65 26.7198 Q639.296 27.3274 642.374 28.5427 Z\" fill=\"#000000\" fill-rule=\"evenodd\" fill-opacity=\"1\" /><path clip-path=\"url(#clip060)\" d=\"M689.324 28.9478 L689.324 35.9153 Q686.164 34.1734 682.964 33.3227 Q679.805 32.4315 676.564 32.4315 Q669.313 32.4315 665.302 37.0496 Q661.292 41.6271 661.292 49.9314 Q661.292 58.2358 665.302 62.8538 Q669.313 67.4314 676.564 67.4314 Q679.805 67.4314 682.964 66.5807 Q686.164 65.6895 689.324 63.9476 L689.324 70.8341 Q686.205 72.2924 682.843 73.0216 Q679.521 73.7508 675.754 73.7508 Q665.505 73.7508 659.469 67.3098 Q653.433 60.8689 653.433 49.9314 Q653.433 38.832 659.51 32.472 Q665.626 26.1121 676.24 26.1121 Q679.683 26.1121 682.964 26.8413 Q686.246 27.5299 689.324 28.9478 Z\" fill=\"#000000\" fill-rule=\"evenodd\" fill-opacity=\"1\" /><path clip-path=\"url(#clip060)\" d=\"M702.287 27.2059 L709.741 27.2059 L709.741 72.576 L702.287 72.576 L702.287 27.2059 M702.287 9.54393 L709.741 9.54393 L709.741 18.9825 L702.287 18.9825 L702.287 9.54393 Z\" fill=\"#000000\" fill-rule=\"evenodd\" fill-opacity=\"1\" /><path clip-path=\"url(#clip060)\" d=\"M758.919 65.7705 L758.919 89.8329 L751.425 89.8329 L751.425 27.2059 L758.919 27.2059 L758.919 34.0924 Q761.268 30.0415 764.833 28.0971 Q768.438 26.1121 773.421 26.1121 Q781.685 26.1121 786.829 32.6746 Q792.015 39.2371 792.015 49.9314 Q792.015 60.6258 786.829 67.1883 Q781.685 73.7508 773.421 73.7508 Q768.438 73.7508 764.833 71.8063 Q761.268 69.8214 758.919 65.7705 M784.277 49.9314 Q784.277 41.7081 780.875 37.0496 Q777.512 32.3505 771.598 32.3505 Q765.684 32.3505 762.281 37.0496 Q758.919 41.7081 758.919 49.9314 Q758.919 58.1548 762.281 62.8538 Q765.684 67.5124 771.598 67.5124 Q777.512 67.5124 780.875 62.8538 Q784.277 58.1548 784.277 49.9314 Z\" fill=\"#000000\" fill-rule=\"evenodd\" fill-opacity=\"1\" /><path clip-path=\"url(#clip060)\" d=\"M830.66 34.1734 Q829.404 33.4443 827.906 33.1202 Q826.447 32.7556 824.665 32.7556 Q818.345 32.7556 814.943 36.8875 Q811.58 40.9789 811.58 48.6757 L811.58 72.576 L804.086 72.576 L804.086 27.2059 L811.58 27.2059 L811.58 34.2544 Q813.93 30.1225 817.697 28.1376 Q821.465 26.1121 826.852 26.1121 Q827.622 26.1121 828.554 26.2337 Q829.485 26.3147 830.62 26.5172 L830.66 34.1734 Z\" fill=\"#000000\" fill-rule=\"evenodd\" fill-opacity=\"1\" /><path clip-path=\"url(#clip060)\" d=\"M835.238 27.2059 L870.643 27.2059 L870.643 34.0114 L842.61 66.6212 L870.643 66.6212 L870.643 72.576 L834.225 72.576 L834.225 65.7705 L862.257 33.1607 L835.238 33.1607 L835.238 27.2059 Z\" fill=\"#000000\" fill-rule=\"evenodd\" fill-opacity=\"1\" /><path clip-path=\"url(#clip060)\" d=\"M920.833 48.0275 L920.833 51.6733 L886.563 51.6733 Q887.049 59.3701 891.181 63.421 Q895.353 67.4314 902.766 67.4314 Q907.06 67.4314 911.071 66.3781 Q915.122 65.3249 919.091 63.2184 L919.091 70.267 Q915.081 71.9684 910.868 72.8596 Q906.655 73.7508 902.321 73.7508 Q891.464 73.7508 885.104 67.4314 Q878.785 61.1119 878.785 50.3365 Q878.785 39.1965 884.78 32.6746 Q890.816 26.1121 901.024 26.1121 Q910.179 26.1121 915.486 32.0264 Q920.833 37.9003 920.833 48.0275 M913.38 45.84 Q913.299 39.7232 909.936 36.0774 Q906.615 32.4315 901.105 32.4315 Q894.867 32.4315 891.1 35.9558 Q887.373 39.4801 886.806 45.8805 L913.38 45.84 Z\" fill=\"#000000\" fill-rule=\"evenodd\" fill-opacity=\"1\" /><path clip-path=\"url(#clip060)\" d=\"M962.922 34.0924 L962.922 9.54393 L970.376 9.54393 L970.376 72.576 L962.922 72.576 L962.922 65.7705 Q960.573 69.8214 956.967 71.8063 Q953.403 73.7508 948.38 73.7508 Q940.156 73.7508 934.971 67.1883 Q929.826 60.6258 929.826 49.9314 Q929.826 39.2371 934.971 32.6746 Q940.156 26.1121 948.38 26.1121 Q953.403 26.1121 956.967 28.0971 Q960.573 30.0415 962.922 34.0924 M937.523 49.9314 Q937.523 58.1548 940.885 62.8538 Q944.288 67.5124 950.202 67.5124 Q956.117 67.5124 959.52 62.8538 Q962.922 58.1548 962.922 49.9314 Q962.922 41.7081 959.52 37.0496 Q956.117 32.3505 950.202 32.3505 Q944.288 32.3505 940.885 37.0496 Q937.523 41.7081 937.523 49.9314 Z\" fill=\"#000000\" fill-rule=\"evenodd\" fill-opacity=\"1\" /><path clip-path=\"url(#clip060)\" d=\"M982.488 27.2059 L1017.89 27.2059 L1017.89 34.0114 L989.861 66.6212 L1017.89 66.6212 L1017.89 72.576 L981.475 72.576 L981.475 65.7705 L1009.51 33.1607 L982.488 33.1607 L982.488 27.2059 Z\" fill=\"#000000\" fill-rule=\"evenodd\" fill-opacity=\"1\" /><path clip-path=\"url(#clip060)\" d=\"M1029.28 27.2059 L1036.73 27.2059 L1036.73 72.576 L1029.28 72.576 L1029.28 27.2059 M1029.28 9.54393 L1036.73 9.54393 L1036.73 18.9825 L1029.28 18.9825 L1029.28 9.54393 Z\" fill=\"#000000\" fill-rule=\"evenodd\" fill-opacity=\"1\" /><path clip-path=\"url(#clip060)\" d=\"M1072.94 49.7694 Q1063.91 49.7694 1060.43 51.8354 Q1056.94 53.9013 1056.94 58.8839 Q1056.94 62.8538 1059.54 65.2034 Q1062.17 67.5124 1066.67 67.5124 Q1072.86 67.5124 1076.59 63.1374 Q1080.36 58.7219 1080.36 51.4303 L1080.36 49.7694 L1072.94 49.7694 M1087.81 46.6907 L1087.81 72.576 L1080.36 72.576 L1080.36 65.6895 Q1077.81 69.8214 1074 71.8063 Q1070.19 73.7508 1064.68 73.7508 Q1057.71 73.7508 1053.58 69.8619 Q1049.49 65.9325 1049.49 59.3701 Q1049.49 51.7138 1054.59 47.825 Q1059.74 43.9361 1069.91 43.9361 L1080.36 43.9361 L1080.36 43.2069 Q1080.36 38.0623 1076.96 35.2672 Q1073.59 32.4315 1067.48 32.4315 Q1063.59 32.4315 1059.9 33.3632 Q1056.21 34.295 1052.81 36.1584 L1052.81 29.2718 Q1056.9 27.692 1060.75 26.9223 Q1064.6 26.1121 1068.25 26.1121 Q1078.09 26.1121 1082.95 31.2163 Q1087.81 36.3204 1087.81 46.6907 Z\" fill=\"#000000\" fill-rule=\"evenodd\" fill-opacity=\"1\" /><path clip-path=\"url(#clip060)\" d=\"M1103.41 9.54393 L1110.86 9.54393 L1110.86 33.9304 L1115.92 30.2846 L1119 34.5785 L1110.86 40.2903 L1110.86 72.576 L1103.41 72.576 L1103.41 45.597 L1098.43 49.1618 L1095.43 44.8678 L1103.41 39.156 L1103.41 9.54393 Z\" fill=\"#000000\" fill-rule=\"evenodd\" fill-opacity=\"1\" /><path clip-path=\"url(#clip060)\" d=\"M1125.97 54.671 L1125.97 27.2059 L1133.42 27.2059 L1133.42 54.3874 Q1133.42 60.8284 1135.94 64.0691 Q1138.45 67.2693 1143.47 67.2693 Q1149.51 67.2693 1152.99 63.421 Q1156.51 59.5726 1156.51 52.9291 L1156.51 27.2059 L1163.97 27.2059 L1163.97 72.576 L1156.51 72.576 L1156.51 65.6084 Q1153.8 69.7404 1150.2 71.7658 Q1146.63 73.7508 1141.89 73.7508 Q1134.07 73.7508 1130.02 68.8897 Q1125.97 64.0286 1125.97 54.671 M1144.73 26.1121 L1144.73 26.1121 Z\" fill=\"#000000\" fill-rule=\"evenodd\" fill-opacity=\"1\" /><path clip-path=\"url(#clip060)\" d=\"M1204.92 54.671 L1204.92 27.2059 L1212.38 27.2059 L1212.38 54.3874 Q1212.38 60.8284 1214.89 64.0691 Q1217.4 67.2693 1222.42 67.2693 Q1228.46 67.2693 1231.94 63.421 Q1235.47 59.5726 1235.47 52.9291 L1235.47 27.2059 L1242.92 27.2059 L1242.92 72.576 L1235.47 72.576 L1235.47 65.6084 Q1232.75 69.7404 1229.15 71.7658 Q1225.58 73.7508 1220.84 73.7508 Q1213.03 73.7508 1208.97 68.8897 Q1204.92 64.0286 1204.92 54.671 M1223.68 26.1121 L1223.68 26.1121 Z\" fill=\"#000000\" fill-rule=\"evenodd\" fill-opacity=\"1\" /><path clip-path=\"url(#clip060)\" d=\"M1281.24 9.54393 L1281.24 15.7418 L1274.11 15.7418 Q1270.1 15.7418 1268.52 17.3622 Q1266.98 18.9825 1266.98 23.1955 L1266.98 27.2059 L1279.26 27.2059 L1279.26 32.9987 L1266.98 32.9987 L1266.98 72.576 L1259.49 72.576 L1259.49 32.9987 L1252.36 32.9987 L1252.36 27.2059 L1259.49 27.2059 L1259.49 24.0462 Q1259.49 16.471 1263.01 13.0277 Q1266.54 9.54393 1274.19 9.54393 L1281.24 9.54393 Z\" fill=\"#000000\" fill-rule=\"evenodd\" fill-opacity=\"1\" /><path clip-path=\"url(#clip060)\" d=\"M1325.19 45.1919 L1325.19 72.576 L1317.74 72.576 L1317.74 45.4349 Q1317.74 38.994 1315.23 35.7938 Q1312.72 32.5936 1307.69 32.5936 Q1301.66 32.5936 1298.18 36.4419 Q1294.69 40.2903 1294.69 46.9338 L1294.69 72.576 L1287.2 72.576 L1287.2 27.2059 L1294.69 27.2059 L1294.69 34.2544 Q1297.36 30.163 1300.97 28.1376 Q1304.62 26.1121 1309.36 26.1121 Q1317.17 26.1121 1321.18 30.9732 Q1325.19 35.7938 1325.19 45.1919 Z\" fill=\"#000000\" fill-rule=\"evenodd\" fill-opacity=\"1\" /><path clip-path=\"url(#clip060)\" d=\"M1357.64 32.4315 Q1351.65 32.4315 1348.16 37.1306 Q1344.68 41.7891 1344.68 49.9314 Q1344.68 58.0738 1348.12 62.7728 Q1351.61 67.4314 1357.64 67.4314 Q1363.6 67.4314 1367.08 62.7323 Q1370.56 58.0333 1370.56 49.9314 Q1370.56 41.8701 1367.08 37.1711 Q1363.6 32.4315 1357.64 32.4315 M1357.64 26.1121 Q1367.36 26.1121 1372.91 32.4315 Q1378.46 38.7509 1378.46 49.9314 Q1378.46 61.0714 1372.91 67.4314 Q1367.36 73.7508 1357.64 73.7508 Q1347.88 73.7508 1342.33 67.4314 Q1336.82 61.0714 1336.82 49.9314 Q1336.82 38.7509 1342.33 32.4315 Q1347.88 26.1121 1357.64 26.1121 Z\" fill=\"#000000\" fill-rule=\"evenodd\" fill-opacity=\"1\" /><path clip-path=\"url(#clip060)\" d=\"M1412.05 5.93863 L1420.11 5.93863 L1406.9 21.17 L1400.7 21.17 L1412.05 5.93863 M1419.74 28.5427 L1419.74 35.5912 Q1416.58 33.9709 1413.18 33.1607 Q1409.78 32.3505 1406.13 32.3505 Q1400.58 32.3505 1397.79 34.0519 Q1395.03 35.7533 1395.03 39.156 Q1395.03 41.7486 1397.02 43.2475 Q1399 44.7058 1405 46.0426 L1407.55 46.6097 Q1415.49 48.3111 1418.81 51.4303 Q1422.17 54.509 1422.17 60.0587 Q1422.17 66.3781 1417.15 70.0644 Q1412.17 73.7508 1403.42 73.7508 Q1399.77 73.7508 1395.8 73.0216 Q1391.87 72.3329 1387.5 70.9151 L1387.5 63.2184 Q1391.63 65.3654 1395.64 66.4591 Q1399.65 67.5124 1403.58 67.5124 Q1408.85 67.5124 1411.68 65.73 Q1414.52 63.9071 1414.52 60.6258 Q1414.52 57.5877 1412.45 55.9673 Q1410.43 54.3469 1403.5 52.8481 L1400.91 52.2405 Q1393.98 50.7821 1390.9 47.7845 Q1387.82 44.7463 1387.82 39.4801 Q1387.82 33.0797 1392.36 29.5959 Q1396.9 26.1121 1405.24 26.1121 Q1409.37 26.1121 1413.02 26.7198 Q1416.66 27.3274 1419.74 28.5427 Z\" fill=\"#000000\" fill-rule=\"evenodd\" fill-opacity=\"1\" /><path clip-path=\"url(#clip060)\" d=\"M1466.69 28.9478 L1466.69 35.9153 Q1463.53 34.1734 1460.33 33.3227 Q1457.17 32.4315 1453.93 32.4315 Q1446.68 32.4315 1442.67 37.0496 Q1438.66 41.6271 1438.66 49.9314 Q1438.66 58.2358 1442.67 62.8538 Q1446.68 67.4314 1453.93 67.4314 Q1457.17 67.4314 1460.33 66.5807 Q1463.53 65.6895 1466.69 63.9476 L1466.69 70.8341 Q1463.57 72.2924 1460.21 73.0216 Q1456.89 73.7508 1453.12 73.7508 Q1442.87 73.7508 1436.84 67.3098 Q1430.8 60.8689 1430.8 49.9314 Q1430.8 38.832 1436.88 32.472 Q1442.99 26.1121 1453.61 26.1121 Q1457.05 26.1121 1460.33 26.8413 Q1463.61 27.5299 1466.69 28.9478 Z\" fill=\"#000000\" fill-rule=\"evenodd\" fill-opacity=\"1\" /><path clip-path=\"url(#clip060)\" d=\"M1479.66 27.2059 L1487.11 27.2059 L1487.11 72.576 L1479.66 72.576 L1479.66 27.2059 M1479.66 9.54393 L1487.11 9.54393 L1487.11 18.9825 L1479.66 18.9825 L1479.66 9.54393 Z\" fill=\"#000000\" fill-rule=\"evenodd\" fill-opacity=\"1\" /><path clip-path=\"url(#clip060)\" d=\"M1581.98 39.4801 L1581.98 46.6907 Q1577.73 49.8909 1574.08 51.2682 Q1570.48 52.6456 1566.55 52.6456 Q1562.09 52.6456 1556.18 50.2555 Q1555.73 50.0935 1555.53 50.0125 Q1555.25 49.8909 1554.64 49.6884 Q1548.36 47.1768 1544.55 47.1768 Q1540.99 47.1768 1537.5 48.7567 Q1534.02 50.296 1530.05 53.6583 L1530.05 46.4477 Q1534.3 43.2475 1537.91 41.8701 Q1541.55 40.4523 1545.48 40.4523 Q1549.94 40.4523 1555.89 42.8829 Q1556.3 43.0449 1556.5 43.1259 Q1556.83 43.2475 1557.39 43.45 Q1563.67 45.9616 1567.48 45.9616 Q1570.96 45.9616 1574.37 44.4222 Q1577.81 42.8829 1581.98 39.4801 Z\" fill=\"#000000\" fill-rule=\"evenodd\" fill-opacity=\"1\" /><path clip-path=\"url(#clip060)\" d=\"M1647 27.2059 L1654.45 27.2059 L1663.77 62.6108 L1673.05 27.2059 L1681.84 27.2059 L1691.15 62.6108 L1700.43 27.2059 L1707.88 27.2059 L1696.01 72.576 L1687.22 72.576 L1677.46 35.3887 L1667.66 72.576 L1658.87 72.576 L1647 27.2059 Z\" fill=\"#000000\" fill-rule=\"evenodd\" fill-opacity=\"1\" /><path clip-path=\"url(#clip060)\" d=\"M1719.19 27.2059 L1726.64 27.2059 L1726.64 72.576 L1719.19 72.576 L1719.19 27.2059 M1719.19 9.54393 L1726.64 9.54393 L1726.64 18.9825 L1719.19 18.9825 L1719.19 9.54393 Z\" fill=\"#000000\" fill-rule=\"evenodd\" fill-opacity=\"1\" /><path clip-path=\"url(#clip060)\" d=\"M1781.04 48.0275 L1781.04 51.6733 L1746.77 51.6733 Q1747.26 59.3701 1751.39 63.421 Q1755.56 67.4314 1762.98 67.4314 Q1767.27 67.4314 1771.28 66.3781 Q1775.33 65.3249 1779.3 63.2184 L1779.3 70.267 Q1775.29 71.9684 1771.08 72.8596 Q1766.86 73.7508 1762.53 73.7508 Q1751.67 73.7508 1745.31 67.4314 Q1738.99 61.1119 1738.99 50.3365 Q1738.99 39.1965 1744.99 32.6746 Q1751.03 26.1121 1761.23 26.1121 Q1770.39 26.1121 1775.7 32.0264 Q1781.04 37.9003 1781.04 48.0275 M1773.59 45.84 Q1773.51 39.7232 1770.15 36.0774 Q1766.82 32.4315 1761.31 32.4315 Q1755.08 32.4315 1751.31 35.9558 Q1747.58 39.4801 1747.02 45.8805 L1773.59 45.84 Z\" fill=\"#000000\" fill-rule=\"evenodd\" fill-opacity=\"1\" /><path clip-path=\"url(#clip060)\" d=\"M1793.28 9.54393 L1800.73 9.54393 L1800.73 72.576 L1793.28 72.576 L1793.28 9.54393 Z\" fill=\"#000000\" fill-rule=\"evenodd\" fill-opacity=\"1\" /><path clip-path=\"url(#clip060)\" d=\"M1816.04 9.54393 L1823.54 9.54393 L1823.54 46.7717 L1845.78 27.2059 L1855.3 27.2059 L1831.23 48.4326 L1856.31 72.576 L1846.59 72.576 L1823.54 50.4176 L1823.54 72.576 L1816.04 72.576 L1816.04 9.54393 Z\" fill=\"#000000\" fill-rule=\"evenodd\" fill-opacity=\"1\" /><path clip-path=\"url(#clip060)\" d=\"M1878.99 32.4315 Q1873 32.4315 1869.51 37.1306 Q1866.03 41.7891 1866.03 49.9314 Q1866.03 58.0738 1869.47 62.7728 Q1872.96 67.4314 1878.99 67.4314 Q1884.95 67.4314 1888.43 62.7323 Q1891.92 58.0333 1891.92 49.9314 Q1891.92 41.8701 1888.43 37.1711 Q1884.95 32.4315 1878.99 32.4315 M1878.99 26.1121 Q1888.72 26.1121 1894.27 32.4315 Q1899.82 38.7509 1899.82 49.9314 Q1899.82 61.0714 1894.27 67.4314 Q1888.72 73.7508 1878.99 73.7508 Q1869.23 73.7508 1863.68 67.4314 Q1858.17 61.0714 1858.17 49.9314 Q1858.17 38.7509 1863.68 32.4315 Q1869.23 26.1121 1878.99 26.1121 Z\" fill=\"#000000\" fill-rule=\"evenodd\" fill-opacity=\"1\" /><path clip-path=\"url(#clip060)\" d=\"M1933.4 5.93863 L1941.46 5.93863 L1928.25 21.17 L1922.05 21.17 L1933.4 5.93863 M1941.09 28.5427 L1941.09 35.5912 Q1937.93 33.9709 1934.53 33.1607 Q1931.13 32.3505 1927.48 32.3505 Q1921.93 32.3505 1919.14 34.0519 Q1916.38 35.7533 1916.38 39.156 Q1916.38 41.7486 1918.37 43.2475 Q1920.35 44.7058 1926.35 46.0426 L1928.9 46.6097 Q1936.84 48.3111 1940.16 51.4303 Q1943.52 54.509 1943.52 60.0587 Q1943.52 66.3781 1938.5 70.0644 Q1933.52 73.7508 1924.77 73.7508 Q1921.12 73.7508 1917.15 73.0216 Q1913.22 72.3329 1908.85 70.9151 L1908.85 63.2184 Q1912.98 65.3654 1916.99 66.4591 Q1921 67.5124 1924.93 67.5124 Q1930.2 67.5124 1933.03 65.73 Q1935.87 63.9071 1935.87 60.6258 Q1935.87 57.5877 1933.8 55.9673 Q1931.78 54.3469 1924.85 52.8481 L1922.26 52.2405 Q1915.33 50.7821 1912.25 47.7845 Q1909.17 44.7463 1909.17 39.4801 Q1909.17 33.0797 1913.71 29.5959 Q1918.25 26.1121 1926.59 26.1121 Q1930.72 26.1121 1934.37 26.7198 Q1938.02 27.3274 1941.09 28.5427 Z\" fill=\"#000000\" fill-rule=\"evenodd\" fill-opacity=\"1\" /><path clip-path=\"url(#clip060)\" d=\"M1988.04 28.9478 L1988.04 35.9153 Q1984.88 34.1734 1981.68 33.3227 Q1978.52 32.4315 1975.28 32.4315 Q1968.03 32.4315 1964.02 37.0496 Q1960.01 41.6271 1960.01 49.9314 Q1960.01 58.2358 1964.02 62.8538 Q1968.03 67.4314 1975.28 67.4314 Q1978.52 67.4314 1981.68 66.5807 Q1984.88 65.6895 1988.04 63.9476 L1988.04 70.8341 Q1984.92 72.2924 1981.56 73.0216 Q1978.24 73.7508 1974.47 73.7508 Q1964.22 73.7508 1958.19 67.3098 Q1952.15 60.8689 1952.15 49.9314 Q1952.15 38.832 1958.23 32.472 Q1964.35 26.1121 1974.96 26.1121 Q1978.4 26.1121 1981.68 26.8413 Q1984.97 27.5299 1988.04 28.9478 M1979.5 6.22219 L1987.56 6.22219 L1974.35 21.4536 L1968.15 21.4536 L1979.5 6.22219 Z\" fill=\"#000000\" fill-rule=\"evenodd\" fill-opacity=\"1\" /><path clip-path=\"url(#clip060)\" d=\"M2034.59 65.7705 L2034.59 89.8329 L2027.09 89.8329 L2027.09 27.2059 L2034.59 27.2059 L2034.59 34.0924 Q2036.94 30.0415 2040.5 28.0971 Q2044.11 26.1121 2049.09 26.1121 Q2057.36 26.1121 2062.5 32.6746 Q2067.68 39.2371 2067.68 49.9314 Q2067.68 60.6258 2062.5 67.1883 Q2057.36 73.7508 2049.09 73.7508 Q2044.11 73.7508 2040.5 71.8063 Q2036.94 69.8214 2034.59 65.7705 M2059.95 49.9314 Q2059.95 41.7081 2056.54 37.0496 Q2053.18 32.3505 2047.27 32.3505 Q2041.35 32.3505 2037.95 37.0496 Q2034.59 41.7081 2034.59 49.9314 Q2034.59 58.1548 2037.95 62.8538 Q2041.35 67.5124 2047.27 67.5124 Q2053.18 67.5124 2056.54 62.8538 Q2059.95 58.1548 2059.95 49.9314 Z\" fill=\"#000000\" fill-rule=\"evenodd\" fill-opacity=\"1\" /><path clip-path=\"url(#clip060)\" d=\"M2106.33 34.1734 Q2105.07 33.4443 2103.58 33.1202 Q2102.12 32.7556 2100.34 32.7556 Q2094.02 32.7556 2090.61 36.8875 Q2087.25 40.9789 2087.25 48.6757 L2087.25 72.576 L2079.76 72.576 L2079.76 27.2059 L2087.25 27.2059 L2087.25 34.2544 Q2089.6 30.1225 2093.37 28.1376 Q2097.13 26.1121 2102.52 26.1121 Q2103.29 26.1121 2104.22 26.2337 Q2105.16 26.3147 2106.29 26.5172 L2106.33 34.1734 Z\" fill=\"#000000\" fill-rule=\"evenodd\" fill-opacity=\"1\" /><path clip-path=\"url(#clip060)\" d=\"M2129.91 32.4315 Q2123.91 32.4315 2120.43 37.1306 Q2116.94 41.7891 2116.94 49.9314 Q2116.94 58.0738 2120.39 62.7728 Q2123.87 67.4314 2129.91 67.4314 Q2135.86 67.4314 2139.35 62.7323 Q2142.83 58.0333 2142.83 49.9314 Q2142.83 41.8701 2139.35 37.1711 Q2135.86 32.4315 2129.91 32.4315 M2129.91 26.1121 Q2139.63 26.1121 2145.18 32.4315 Q2150.73 38.7509 2150.73 49.9314 Q2150.73 61.0714 2145.18 67.4314 Q2139.63 73.7508 2129.91 73.7508 Q2120.14 73.7508 2114.59 67.4314 Q2109.09 61.0714 2109.09 49.9314 Q2109.09 38.7509 2114.59 32.4315 Q2120.14 26.1121 2129.91 26.1121 M2135.54 6.22219 L2143.6 6.22219 L2130.39 21.4536 L2124.19 21.4536 L2135.54 6.22219 Z\" fill=\"#000000\" fill-rule=\"evenodd\" fill-opacity=\"1\" /><path clip-path=\"url(#clip060)\" d=\"M2195.65 49.9314 Q2195.65 41.7081 2192.25 37.0496 Q2188.89 32.3505 2182.97 32.3505 Q2177.06 32.3505 2173.66 37.0496 Q2170.29 41.7081 2170.29 49.9314 Q2170.29 58.1548 2173.66 62.8538 Q2177.06 67.5124 2182.97 67.5124 Q2188.89 67.5124 2192.25 62.8538 Q2195.65 58.1548 2195.65 49.9314 M2170.29 34.0924 Q2172.64 30.0415 2176.21 28.0971 Q2179.81 26.1121 2184.8 26.1121 Q2193.06 26.1121 2198.21 32.6746 Q2203.39 39.2371 2203.39 49.9314 Q2203.39 60.6258 2198.21 67.1883 Q2193.06 73.7508 2184.8 73.7508 Q2179.81 73.7508 2176.21 71.8063 Q2172.64 69.8214 2170.29 65.7705 L2170.29 72.576 L2162.8 72.576 L2162.8 9.54393 L2170.29 9.54393 L2170.29 34.0924 Z\" fill=\"#000000\" fill-rule=\"evenodd\" fill-opacity=\"1\" /><path clip-path=\"url(#clip060)\" d=\"M2234.62 76.7889 Q2231.46 84.8907 2228.47 87.3618 Q2225.47 89.8329 2220.44 89.8329 L2214.49 89.8329 L2214.49 83.5945 L2218.86 83.5945 Q2221.94 83.5945 2223.64 82.1361 Q2225.35 80.6778 2227.41 75.2496 L2228.75 71.8468 L2210.4 27.2059 L2218.3 27.2059 L2232.48 62.6918 L2246.65 27.2059 L2254.55 27.2059 L2234.62 76.7889 Z\" fill=\"#000000\" fill-rule=\"evenodd\" fill-opacity=\"1\" /><polyline clip-path=\"url(#clip062)\" style=\"stroke:#ff0000; stroke-linecap:butt; stroke-linejoin:round; stroke-width:12; stroke-opacity:1; fill:none\" points=\"\n",
       "  248.062,162.047 270.766,277.876 293.471,357.218 316.175,703.445 338.879,986.955 361.584,488.353 384.288,819.144 406.992,1044.05 429.697,885.38 452.401,782.648 \n",
       "  475.105,794.871 497.81,873.517 520.514,1001.48 543.219,1112.14 565.923,825.921 588.627,1032.42 611.332,1030.61 634.036,982.63 656.74,1012.11 679.445,915.01 \n",
       "  702.149,1095.31 724.853,1104.69 747.558,1023.37 770.262,990.064 792.966,1131.85 815.671,1178.4 838.375,1015.43 861.08,1120.05 883.784,1054.73 906.488,1144.51 \n",
       "  929.193,1163.45 951.897,1194.59 974.601,1157.35 997.306,1153.51 1020.01,1102.52 1042.71,1223.83 1065.42,1217.41 1088.12,1174.94 1110.83,1256.12 1133.53,1156.3 \n",
       "  1156.24,1242.67 1178.94,1203.79 1201.64,1285.51 1224.35,1224.22 1247.05,1247.04 1269.76,1256.31 1292.46,1284.04 1315.17,1273.65 1337.87,1316.58 1360.58,1339.46 \n",
       "  1383.28,1304.41 1405.98,1213.99 1428.69,1219.02 1451.39,1272.12 1474.1,1286.58 1496.8,1304.16 1519.51,1309.76 1542.21,1317.54 1564.91,1344.92 1587.62,1324.04 \n",
       "  1610.32,1315.55 1633.03,1360.27 1655.73,1356.85 1678.44,1355.9 1701.14,1385.1 1723.85,1404.56 1746.55,1323.16 1769.25,1368.52 1791.96,1323.51 1814.66,1249.87 \n",
       "  1837.37,1447.87 1860.07,1349.52 1882.78,1385.28 1905.48,1380.24 1928.18,1394.04 1950.89,1364.38 1973.59,1340.64 1996.3,1390.44 2019,1324.54 2041.71,1389 \n",
       "  2064.41,1362.1 2087.11,1387.93 2109.82,1390.72 2132.52,1371.73 2155.23,1388.62 2177.93,1394.69 2200.64,1350.43 2223.34,1417.35 2246.05,1428.38 2268.75,1412.85 \n",
       "  2291.45,1410.77 \n",
       "  \"/>\n",
       "<path clip-path=\"url(#clip060)\" d=\"\n",
       "M1370.96 272.585 L2280.56 272.585 L2280.56 168.905 L1370.96 168.905  Z\n",
       "  \" fill=\"#ffffff\" fill-rule=\"evenodd\" fill-opacity=\"1\"/>\n",
       "<polyline clip-path=\"url(#clip060)\" style=\"stroke:#000000; stroke-linecap:butt; stroke-linejoin:round; stroke-width:4; stroke-opacity:1; fill:none\" points=\"\n",
       "  1370.96,272.585 2280.56,272.585 2280.56,168.905 1370.96,168.905 1370.96,272.585 \n",
       "  \"/>\n",
       "<polyline clip-path=\"url(#clip060)\" style=\"stroke:#ff0000; stroke-linecap:butt; stroke-linejoin:round; stroke-width:4; stroke-opacity:1; fill:none\" points=\"\n",
       "  1395.02,220.745 1539.42,220.745 \n",
       "  \"/>\n",
       "<path clip-path=\"url(#clip060)\" d=\"M1581.92 212.863 L1581.92 216.891 Q1580.11 215.965 1578.17 215.502 Q1576.22 215.039 1574.14 215.039 Q1570.97 215.039 1569.37 216.011 Q1567.8 216.983 1567.8 218.928 Q1567.8 220.409 1568.93 221.265 Q1570.07 222.099 1573.49 222.863 L1574.95 223.187 Q1579.49 224.159 1581.38 225.941 Q1583.31 227.701 1583.31 230.872 Q1583.31 234.483 1580.44 236.589 Q1577.59 238.696 1572.59 238.696 Q1570.51 238.696 1568.24 238.279 Q1565.99 237.886 1563.49 237.076 L1563.49 232.677 Q1565.85 233.904 1568.14 234.529 Q1570.44 235.131 1572.68 235.131 Q1575.69 235.131 1577.31 234.113 Q1578.93 233.071 1578.93 231.196 Q1578.93 229.46 1577.75 228.534 Q1576.59 227.608 1572.63 226.752 L1571.15 226.404 Q1567.19 225.571 1565.44 223.858 Q1563.68 222.122 1563.68 219.113 Q1563.68 215.455 1566.27 213.465 Q1568.86 211.474 1573.63 211.474 Q1575.99 211.474 1578.07 211.821 Q1580.16 212.168 1581.92 212.863 Z\" fill=\"#000000\" fill-rule=\"evenodd\" fill-opacity=\"1\" /><path clip-path=\"url(#clip060)\" d=\"M1588.24 212.099 L1608.47 212.099 L1608.47 215.988 L1592.45 234.622 L1608.47 234.622 L1608.47 238.025 L1587.66 238.025 L1587.66 234.136 L1603.68 215.502 L1588.24 215.502 L1588.24 212.099 Z\" fill=\"#000000\" fill-rule=\"evenodd\" fill-opacity=\"1\" /><path clip-path=\"url(#clip060)\" d=\"M1637.15 223.997 L1637.15 226.08 L1617.56 226.08 Q1617.84 230.478 1620.2 232.793 Q1622.59 235.085 1626.82 235.085 Q1629.28 235.085 1631.57 234.483 Q1633.88 233.881 1636.15 232.677 L1636.15 236.705 Q1633.86 237.677 1631.45 238.187 Q1629.05 238.696 1626.57 238.696 Q1620.37 238.696 1616.73 235.085 Q1613.12 231.474 1613.12 225.316 Q1613.12 218.951 1616.55 215.224 Q1620 211.474 1625.83 211.474 Q1631.06 211.474 1634.09 214.853 Q1637.15 218.21 1637.15 223.997 M1632.89 222.747 Q1632.84 219.252 1630.92 217.168 Q1629.02 215.085 1625.88 215.085 Q1622.31 215.085 1620.16 217.099 Q1618.03 219.113 1617.7 222.77 L1632.89 222.747 Z\" fill=\"#000000\" fill-rule=\"evenodd\" fill-opacity=\"1\" /><path clip-path=\"url(#clip060)\" d=\"M1659.16 216.08 Q1658.44 215.664 1657.59 215.478 Q1656.75 215.27 1655.74 215.27 Q1652.12 215.27 1650.18 217.631 Q1648.26 219.969 1648.26 224.367 L1648.26 238.025 L1643.98 238.025 L1643.98 212.099 L1648.26 212.099 L1648.26 216.127 Q1649.6 213.766 1651.75 212.631 Q1653.91 211.474 1656.99 211.474 Q1657.43 211.474 1657.96 211.543 Q1658.49 211.59 1659.14 211.705 L1659.16 216.08 Z\" fill=\"#000000\" fill-rule=\"evenodd\" fill-opacity=\"1\" /><path clip-path=\"url(#clip060)\" d=\"M1672.63 215.085 Q1669.21 215.085 1667.22 217.77 Q1665.23 220.432 1665.23 225.085 Q1665.23 229.738 1667.19 232.423 Q1669.19 235.085 1672.63 235.085 Q1676.04 235.085 1678.03 232.4 Q1680.02 229.715 1680.02 225.085 Q1680.02 220.478 1678.03 217.793 Q1676.04 215.085 1672.63 215.085 M1672.63 211.474 Q1678.19 211.474 1681.36 215.085 Q1684.53 218.696 1684.53 225.085 Q1684.53 231.451 1681.36 235.085 Q1678.19 238.696 1672.63 238.696 Q1667.06 238.696 1663.88 235.085 Q1660.74 231.451 1660.74 225.085 Q1660.74 218.696 1663.88 215.085 Q1667.06 211.474 1672.63 211.474 Z\" fill=\"#000000\" fill-rule=\"evenodd\" fill-opacity=\"1\" /><path clip-path=\"url(#clip060)\" d=\"M1691.43 202.006 L1695.71 202.006 L1695.71 223.279 L1708.42 212.099 L1713.86 212.099 L1700.11 224.228 L1714.44 238.025 L1708.88 238.025 L1695.71 225.363 L1695.71 238.025 L1691.43 238.025 L1691.43 202.006 Z\" fill=\"#000000\" fill-rule=\"evenodd\" fill-opacity=\"1\" /><path clip-path=\"url(#clip060)\" d=\"M1727.4 215.085 Q1723.98 215.085 1721.99 217.77 Q1719.99 220.432 1719.99 225.085 Q1719.99 229.738 1721.96 232.423 Q1723.95 235.085 1727.4 235.085 Q1730.81 235.085 1732.8 232.4 Q1734.79 229.715 1734.79 225.085 Q1734.79 220.478 1732.8 217.793 Q1730.81 215.085 1727.4 215.085 M1727.4 211.474 Q1732.96 211.474 1736.13 215.085 Q1739.3 218.696 1739.3 225.085 Q1739.3 231.451 1736.13 235.085 Q1732.96 238.696 1727.4 238.696 Q1721.82 238.696 1718.65 235.085 Q1715.5 231.451 1715.5 225.085 Q1715.5 218.696 1718.65 215.085 Q1721.82 211.474 1727.4 211.474 Z\" fill=\"#000000\" fill-rule=\"evenodd\" fill-opacity=\"1\" /><path clip-path=\"url(#clip060)\" d=\"M1758.49 199.946 L1763.1 199.946 L1755.55 208.65 L1752.01 208.65 L1758.49 199.946 M1762.89 212.863 L1762.89 216.891 Q1761.08 215.965 1759.14 215.502 Q1757.19 215.039 1755.11 215.039 Q1751.94 215.039 1750.34 216.011 Q1748.77 216.983 1748.77 218.928 Q1748.77 220.409 1749.9 221.265 Q1751.04 222.099 1754.46 222.863 L1755.92 223.187 Q1760.46 224.159 1762.36 225.941 Q1764.28 227.701 1764.28 230.872 Q1764.28 234.483 1761.41 236.589 Q1758.56 238.696 1753.56 238.696 Q1751.48 238.696 1749.21 238.279 Q1746.96 237.886 1744.46 237.076 L1744.46 232.677 Q1746.82 233.904 1749.12 234.529 Q1751.41 235.131 1753.65 235.131 Q1756.66 235.131 1758.28 234.113 Q1759.9 233.071 1759.9 231.196 Q1759.9 229.46 1758.72 228.534 Q1757.56 227.608 1753.61 226.752 L1752.12 226.404 Q1748.17 225.571 1746.41 223.858 Q1744.65 222.122 1744.65 219.113 Q1744.65 215.455 1747.24 213.465 Q1749.83 211.474 1754.6 211.474 Q1756.96 211.474 1759.05 211.821 Q1761.13 212.168 1762.89 212.863 Z\" fill=\"#000000\" fill-rule=\"evenodd\" fill-opacity=\"1\" /><path clip-path=\"url(#clip060)\" d=\"M1789.72 213.094 L1789.72 217.076 Q1787.91 216.08 1786.08 215.594 Q1784.28 215.085 1782.43 215.085 Q1778.28 215.085 1775.99 217.724 Q1773.7 220.34 1773.7 225.085 Q1773.7 229.83 1775.99 232.469 Q1778.28 235.085 1782.43 235.085 Q1784.28 235.085 1786.08 234.599 Q1787.91 234.089 1789.72 233.094 L1789.72 237.029 Q1787.93 237.863 1786.01 238.279 Q1784.12 238.696 1781.96 238.696 Q1776.11 238.696 1772.66 235.015 Q1769.21 231.335 1769.21 225.085 Q1769.21 218.742 1772.68 215.108 Q1776.18 211.474 1782.24 211.474 Q1784.21 211.474 1786.08 211.891 Q1787.96 212.284 1789.72 213.094 M1784.83 200.108 L1789.44 200.108 L1781.89 208.812 L1778.35 208.812 L1784.83 200.108 Z\" fill=\"#000000\" fill-rule=\"evenodd\" fill-opacity=\"1\" /><path clip-path=\"url(#clip060)\" d=\"M1816.31 234.136 L1816.31 247.886 L1812.03 247.886 L1812.03 212.099 L1816.31 212.099 L1816.31 216.034 Q1817.66 213.719 1819.69 212.608 Q1821.75 211.474 1824.6 211.474 Q1829.32 211.474 1832.26 215.224 Q1835.23 218.974 1835.23 225.085 Q1835.23 231.196 1832.26 234.946 Q1829.32 238.696 1824.6 238.696 Q1821.75 238.696 1819.69 237.585 Q1817.66 236.451 1816.31 234.136 M1830.8 225.085 Q1830.8 220.386 1828.86 217.724 Q1826.94 215.039 1823.56 215.039 Q1820.18 215.039 1818.24 217.724 Q1816.31 220.386 1816.31 225.085 Q1816.31 229.784 1818.24 232.469 Q1820.18 235.131 1823.56 235.131 Q1826.94 235.131 1828.86 232.469 Q1830.8 229.784 1830.8 225.085 Z\" fill=\"#000000\" fill-rule=\"evenodd\" fill-opacity=\"1\" /><path clip-path=\"url(#clip060)\" d=\"M1857.31 216.08 Q1856.59 215.664 1855.74 215.478 Q1854.9 215.27 1853.88 215.27 Q1850.27 215.27 1848.33 217.631 Q1846.41 219.969 1846.41 224.367 L1846.41 238.025 L1842.12 238.025 L1842.12 212.099 L1846.41 212.099 L1846.41 216.127 Q1847.75 213.766 1849.9 212.631 Q1852.05 211.474 1855.13 211.474 Q1855.57 211.474 1856.11 211.543 Q1856.64 211.59 1857.29 211.705 L1857.31 216.08 Z\" fill=\"#000000\" fill-rule=\"evenodd\" fill-opacity=\"1\" /><path clip-path=\"url(#clip060)\" d=\"M1859.92 212.099 L1880.16 212.099 L1880.16 215.988 L1864.14 234.622 L1880.16 234.622 L1880.16 238.025 L1859.35 238.025 L1859.35 234.136 L1875.36 215.502 L1859.92 215.502 L1859.92 212.099 Z\" fill=\"#000000\" fill-rule=\"evenodd\" fill-opacity=\"1\" /><path clip-path=\"url(#clip060)\" d=\"M1908.84 223.997 L1908.84 226.08 L1889.25 226.08 Q1889.53 230.478 1891.89 232.793 Q1894.28 235.085 1898.51 235.085 Q1900.97 235.085 1903.26 234.483 Q1905.57 233.881 1907.84 232.677 L1907.84 236.705 Q1905.55 237.677 1903.14 238.187 Q1900.73 238.696 1898.26 238.696 Q1892.05 238.696 1888.42 235.085 Q1884.81 231.474 1884.81 225.316 Q1884.81 218.951 1888.23 215.224 Q1891.68 211.474 1897.52 211.474 Q1902.75 211.474 1905.78 214.853 Q1908.84 218.21 1908.84 223.997 M1904.58 222.747 Q1904.53 219.252 1902.61 217.168 Q1900.71 215.085 1897.56 215.085 Q1894 215.085 1891.85 217.099 Q1889.72 219.113 1889.39 222.77 L1904.58 222.747 Z\" fill=\"#000000\" fill-rule=\"evenodd\" fill-opacity=\"1\" /><path clip-path=\"url(#clip060)\" d=\"M1932.89 216.034 L1932.89 202.006 L1937.15 202.006 L1937.15 238.025 L1932.89 238.025 L1932.89 234.136 Q1931.54 236.451 1929.48 237.585 Q1927.45 238.696 1924.58 238.696 Q1919.88 238.696 1916.92 234.946 Q1913.98 231.196 1913.98 225.085 Q1913.98 218.974 1916.92 215.224 Q1919.88 211.474 1924.58 211.474 Q1927.45 211.474 1929.48 212.608 Q1931.54 213.719 1932.89 216.034 M1918.37 225.085 Q1918.37 229.784 1920.29 232.469 Q1922.24 235.131 1925.62 235.131 Q1929 235.131 1930.94 232.469 Q1932.89 229.784 1932.89 225.085 Q1932.89 220.386 1930.94 217.724 Q1929 215.039 1925.62 215.039 Q1922.24 215.039 1920.29 217.724 Q1918.37 220.386 1918.37 225.085 Z\" fill=\"#000000\" fill-rule=\"evenodd\" fill-opacity=\"1\" /><path clip-path=\"url(#clip060)\" d=\"M1944.07 212.099 L1964.3 212.099 L1964.3 215.988 L1948.28 234.622 L1964.3 234.622 L1964.3 238.025 L1943.49 238.025 L1943.49 234.136 L1959.51 215.502 L1944.07 215.502 L1944.07 212.099 Z\" fill=\"#000000\" fill-rule=\"evenodd\" fill-opacity=\"1\" /><path clip-path=\"url(#clip060)\" d=\"M1970.8 212.099 L1975.06 212.099 L1975.06 238.025 L1970.8 238.025 L1970.8 212.099 M1970.8 202.006 L1975.06 202.006 L1975.06 207.4 L1970.8 207.4 L1970.8 202.006 Z\" fill=\"#000000\" fill-rule=\"evenodd\" fill-opacity=\"1\" /><path clip-path=\"url(#clip060)\" d=\"M1995.76 224.992 Q1990.6 224.992 1988.6 226.173 Q1986.61 227.353 1986.61 230.201 Q1986.61 232.469 1988.1 233.812 Q1989.6 235.131 1992.17 235.131 Q1995.71 235.131 1997.84 232.631 Q1999.99 230.108 1999.99 225.941 L1999.99 224.992 L1995.76 224.992 M2004.25 223.233 L2004.25 238.025 L1999.99 238.025 L1999.99 234.089 Q1998.54 236.451 1996.36 237.585 Q1994.18 238.696 1991.04 238.696 Q1987.05 238.696 1984.69 236.474 Q1982.35 234.228 1982.35 230.478 Q1982.35 226.103 1985.27 223.881 Q1988.21 221.659 1994.02 221.659 L1999.99 221.659 L1999.99 221.242 Q1999.99 218.303 1998.05 216.705 Q1996.13 215.085 1992.63 215.085 Q1990.41 215.085 1988.3 215.617 Q1986.2 216.15 1984.25 217.215 L1984.25 213.279 Q1986.59 212.377 1988.79 211.937 Q1990.99 211.474 1993.07 211.474 Q1998.7 211.474 2001.47 214.391 Q2004.25 217.307 2004.25 223.233 Z\" fill=\"#000000\" fill-rule=\"evenodd\" fill-opacity=\"1\" /><path clip-path=\"url(#clip060)\" d=\"M2013.16 202.006 L2017.42 202.006 L2017.42 215.941 L2020.32 213.858 L2022.08 216.312 L2017.42 219.576 L2017.42 238.025 L2013.16 238.025 L2013.16 222.608 L2010.32 224.645 L2008.6 222.191 L2013.16 218.928 L2013.16 202.006 Z\" fill=\"#000000\" fill-rule=\"evenodd\" fill-opacity=\"1\" /><path clip-path=\"url(#clip060)\" d=\"M2026.06 227.793 L2026.06 212.099 L2030.32 212.099 L2030.32 227.631 Q2030.32 231.312 2031.75 233.164 Q2033.19 234.992 2036.06 234.992 Q2039.51 234.992 2041.5 232.793 Q2043.51 230.594 2043.51 226.798 L2043.51 212.099 L2047.77 212.099 L2047.77 238.025 L2043.51 238.025 L2043.51 234.043 Q2041.96 236.404 2039.9 237.562 Q2037.86 238.696 2035.16 238.696 Q2030.69 238.696 2028.37 235.918 Q2026.06 233.14 2026.06 227.793 M2036.78 211.474 L2036.78 211.474 Z\" fill=\"#000000\" fill-rule=\"evenodd\" fill-opacity=\"1\" /><path clip-path=\"url(#clip060)\" d=\"M2071.17 227.793 L2071.17 212.099 L2075.43 212.099 L2075.43 227.631 Q2075.43 231.312 2076.87 233.164 Q2078.3 234.992 2081.17 234.992 Q2084.62 234.992 2086.61 232.793 Q2088.63 230.594 2088.63 226.798 L2088.63 212.099 L2092.89 212.099 L2092.89 238.025 L2088.63 238.025 L2088.63 234.043 Q2087.08 236.404 2085.02 237.562 Q2082.98 238.696 2080.27 238.696 Q2075.8 238.696 2073.49 235.918 Q2071.17 233.14 2071.17 227.793 M2081.89 211.474 L2081.89 211.474 Z\" fill=\"#000000\" fill-rule=\"evenodd\" fill-opacity=\"1\" /><path clip-path=\"url(#clip060)\" d=\"M2114.78 202.006 L2114.78 205.548 L2110.71 205.548 Q2108.42 205.548 2107.52 206.474 Q2106.64 207.4 2106.64 209.807 L2106.64 212.099 L2113.65 212.099 L2113.65 215.409 L2106.64 215.409 L2106.64 238.025 L2102.35 238.025 L2102.35 215.409 L2098.28 215.409 L2098.28 212.099 L2102.35 212.099 L2102.35 210.293 Q2102.35 205.965 2104.37 203.997 Q2106.38 202.006 2110.76 202.006 L2114.78 202.006 Z\" fill=\"#000000\" fill-rule=\"evenodd\" fill-opacity=\"1\" /><path clip-path=\"url(#clip060)\" d=\"M2139.9 222.377 L2139.9 238.025 L2135.64 238.025 L2135.64 222.515 Q2135.64 218.835 2134.21 217.006 Q2132.77 215.178 2129.9 215.178 Q2126.45 215.178 2124.46 217.377 Q2122.47 219.576 2122.47 223.372 L2122.47 238.025 L2118.19 238.025 L2118.19 212.099 L2122.47 212.099 L2122.47 216.127 Q2124 213.789 2126.06 212.631 Q2128.14 211.474 2130.85 211.474 Q2135.32 211.474 2137.61 214.252 Q2139.9 217.006 2139.9 222.377 Z\" fill=\"#000000\" fill-rule=\"evenodd\" fill-opacity=\"1\" /><path clip-path=\"url(#clip060)\" d=\"M2158.44 215.085 Q2155.02 215.085 2153.03 217.77 Q2151.03 220.432 2151.03 225.085 Q2151.03 229.738 2153 232.423 Q2154.99 235.085 2158.44 235.085 Q2161.84 235.085 2163.84 232.4 Q2165.83 229.715 2165.83 225.085 Q2165.83 220.478 2163.84 217.793 Q2161.84 215.085 2158.44 215.085 M2158.44 211.474 Q2164 211.474 2167.17 215.085 Q2170.34 218.696 2170.34 225.085 Q2170.34 231.451 2167.17 235.085 Q2164 238.696 2158.44 238.696 Q2152.86 238.696 2149.69 235.085 Q2146.54 231.451 2146.54 225.085 Q2146.54 218.696 2149.69 215.085 Q2152.86 211.474 2158.44 211.474 Z\" fill=\"#000000\" fill-rule=\"evenodd\" fill-opacity=\"1\" /><path clip-path=\"url(#clip060)\" d=\"M2189.53 199.946 L2194.14 199.946 L2186.59 208.65 L2183.05 208.65 L2189.53 199.946 M2193.93 212.863 L2193.93 216.891 Q2192.12 215.965 2190.18 215.502 Q2188.23 215.039 2186.15 215.039 Q2182.98 215.039 2181.38 216.011 Q2179.81 216.983 2179.81 218.928 Q2179.81 220.409 2180.94 221.265 Q2182.08 222.099 2185.5 222.863 L2186.96 223.187 Q2191.5 224.159 2193.4 225.941 Q2195.32 227.701 2195.32 230.872 Q2195.32 234.483 2192.45 236.589 Q2189.6 238.696 2184.6 238.696 Q2182.52 238.696 2180.25 238.279 Q2178 237.886 2175.5 237.076 L2175.5 232.677 Q2177.86 233.904 2180.15 234.529 Q2182.45 235.131 2184.69 235.131 Q2187.7 235.131 2189.32 234.113 Q2190.94 233.071 2190.94 231.196 Q2190.94 229.46 2189.76 228.534 Q2188.6 227.608 2184.65 226.752 L2183.16 226.404 Q2179.21 225.571 2177.45 223.858 Q2175.69 222.122 2175.69 219.113 Q2175.69 215.455 2178.28 213.465 Q2180.87 211.474 2185.64 211.474 Q2188 211.474 2190.09 211.821 Q2192.17 212.168 2193.93 212.863 Z\" fill=\"#000000\" fill-rule=\"evenodd\" fill-opacity=\"1\" /><path clip-path=\"url(#clip060)\" d=\"M2220.76 213.094 L2220.76 217.076 Q2218.95 216.08 2217.12 215.594 Q2215.32 215.085 2213.46 215.085 Q2209.32 215.085 2207.03 217.724 Q2204.74 220.34 2204.74 225.085 Q2204.74 229.83 2207.03 232.469 Q2209.32 235.085 2213.46 235.085 Q2215.32 235.085 2217.12 234.599 Q2218.95 234.089 2220.76 233.094 L2220.76 237.029 Q2218.97 237.863 2217.05 238.279 Q2215.15 238.696 2213 238.696 Q2207.15 238.696 2203.7 235.015 Q2200.25 231.335 2200.25 225.085 Q2200.25 218.742 2203.72 215.108 Q2207.21 211.474 2213.28 211.474 Q2215.25 211.474 2217.12 211.891 Q2219 212.284 2220.76 213.094 Z\" fill=\"#000000\" fill-rule=\"evenodd\" fill-opacity=\"1\" /><path clip-path=\"url(#clip060)\" d=\"M2228.16 212.099 L2232.42 212.099 L2232.42 238.025 L2228.16 238.025 L2228.16 212.099 M2228.16 202.006 L2232.42 202.006 L2232.42 207.4 L2228.16 207.4 L2228.16 202.006 Z\" fill=\"#000000\" fill-rule=\"evenodd\" fill-opacity=\"1\" /></svg>\n"
      ]
     },
     "execution_count": 15,
     "metadata": {},
     "output_type": "execute_result"
    }
   ],
   "source": [
    "function f4(n)\n",
    "# n - wielkość próby \n",
    "    s = [mean(rand(20)) for _ in 1:n]\n",
    "    ci = confint(OneSampleTTest(s))\n",
    "    return ci[2] - ci[1]\n",
    "end\n",
    "\n",
    "seq = [10:1:100;]\n",
    "res = []\n",
    "for i in seq\n",
    "    push!(res, f4(i))\n",
    "end\n",
    "plot(seq, res, \n",
    "        title = \"Szerokości przedziału ufności ~  wielkość próby\", \n",
    "        label = \"szerokość przedziału ufności\", \n",
    "        lw = 3, \n",
    "        color=\"red\")"
   ]
  },
  {
   "cell_type": "markdown",
   "id": "6e78fe1a-ba83-4baa-af81-fa46de31c254",
   "metadata": {},
   "source": [
    "5. Prowadzisz eksperyment, który zwraca 1 lub 0 jako wynik (np. klient kupił lub nie kupił produktu).\n",
    "   Oblicz ile pomiarów należy wykonać, aby oszacować prawdopodobieństwo sukcesu z dokładnością +/- 0.05\n",
    "   z prawdopodobieństwem 95%.\n",
    "   Sprawdź symulacyjnie, czy wyliczona wartość jest prawidłowa."
   ]
  },
  {
   "cell_type": "code",
   "execution_count": 16,
   "id": "513248bf-3aa3-48d5-9dd7-e664845617bf",
   "metadata": {},
   "outputs": [
    {
     "data": {
      "text/plain": [
       "f5 (generic function with 2 methods)"
      ]
     },
     "execution_count": 16,
     "metadata": {},
     "output_type": "execute_result"
    }
   ],
   "source": [
    "function f5(p, N, w=0.05)\n",
    "    \"\"\"\n",
    "    p - prawdopodobieństwo sukcesu\n",
    "    N - początkowa wielkość próby\n",
    "    w - dokładność\n",
    "    \"\"\"\n",
    "    p = 0.5\n",
    "    N = 100\n",
    "    d = Binomial(1,p)\n",
    "    v = rand(d, N)\n",
    "    n = round(Int, 16*var(v) / w^2)\n",
    "    return n\n",
    "end"
   ]
  },
  {
   "cell_type": "code",
   "execution_count": 21,
   "id": "8b190c75-edd8-4827-98d8-5f3b0e5f47ad",
   "metadata": {},
   "outputs": [
    {
     "name": "stdout",
     "output_type": "stream",
     "text": [
      "Należy wykonać nie mniej niz 1616 pomiarów"
     ]
    }
   ],
   "source": [
    "n_probes = f5(0.5, 1000)\n",
    "@printf(\"Należy wykonać nie mniej niz %s pomiarów\", n_probes)"
   ]
  },
  {
   "cell_type": "code",
   "execution_count": 22,
   "id": "28d1a73d-80b3-4eaa-92af-92648e3216b9",
   "metadata": {},
   "outputs": [
    {
     "data": {
      "text/plain": [
       "f5_check (generic function with 1 method)"
      ]
     },
     "execution_count": 22,
     "metadata": {},
     "output_type": "execute_result"
    }
   ],
   "source": [
    "function f5_check(n, p)\n",
    "    \"\"\"\n",
    "    n - wielkość próby\n",
    "    p - prawdopodobieństwo sukcesu\n",
    "    \"\"\"\n",
    "    v = rand(Binomial(1,p), n)\n",
    "    ci = confint(OneSampleTTest(v))\n",
    "    return ci[2] - ci[1]\n",
    "end"
   ]
  },
  {
   "cell_type": "code",
   "execution_count": 23,
   "id": "ab9b76ca-2e5d-42da-9d56-511f51526ca3",
   "metadata": {},
   "outputs": [
    {
     "data": {
      "text/plain": [
       "true"
      ]
     },
     "execution_count": 23,
     "metadata": {},
     "output_type": "execute_result"
    }
   ],
   "source": [
    "f5_check(n_probes, 0.5) < 0.05"
   ]
  },
  {
   "cell_type": "markdown",
   "id": "fbdf9a4b-e50a-43be-8298-b212c41f9c41",
   "metadata": {},
   "source": [
    "6. Opisz na czym polega problem *exploration-exploitation* w testowaniu A/B"
   ]
  },
  {
   "cell_type": "markdown",
   "id": "ab9bfe96-fd3e-4a98-b7cc-04b4519e9b05",
   "metadata": {},
   "source": [
    "7. Opisz sposób działania próbkowania Thompsona w testowaniu A/B."
   ]
  },
  {
   "cell_type": "markdown",
   "id": "5e1ad7f1-9e51-4a22-84d7-6f48b736262b",
   "metadata": {},
   "source": [
    "8. Utwórz na GitHub nowe repozytorium. Do tego repozytorium stwórz jeden pull request i zrób jego merge."
   ]
  },
  {
   "cell_type": "code",
   "execution_count": null,
   "id": "726375ba-a232-4f56-bd4c-a9ceed8d7b9c",
   "metadata": {},
   "outputs": [],
   "source": []
  }
 ],
 "metadata": {
  "kernelspec": {
   "display_name": "Julia 1.6.1",
   "language": "julia",
   "name": "julia-1.6"
  },
  "language_info": {
   "file_extension": ".jl",
   "mimetype": "application/julia",
   "name": "julia",
   "version": "1.6.1"
  }
 },
 "nbformat": 4,
 "nbformat_minor": 5
}
