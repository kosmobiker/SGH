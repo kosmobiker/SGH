{
 "cells": [
  {
   "cell_type": "markdown",
   "id": "revolutionary-shape",
   "metadata": {},
   "source": [
    "# Analiza danych w czasie rzeczywistym\n",
    "Laboratorium 1, 27.03.2021  \n",
    "Studia sobotnio-niedzielne, semestr letni 2020/2021"
   ]
  },
  {
   "cell_type": "markdown",
   "id": "subject-publisher",
   "metadata": {},
   "source": [
    "## Agenda\n",
    "1. Uruchomienie Dockera i przedstawienie Jupyter Notebook\n",
    "1. Git i GitHub\n",
    "1. Pakiety numpy i pandas\n",
    "1. Programowanie obiektowe\n",
    "1. Proste modele sieci neuronowych\n",
    "1. Flask"
   ]
  },
  {
   "cell_type": "markdown",
   "id": "liberal-asset",
   "metadata": {},
   "source": [
    "### Uruchomienie Dockera i przedstawienie Jupyter Notebook\n",
    "1. Użytkownicy MAC OS mają już wbudowany Terminal, z którego mogą korzystać, poniższe kroki konfiguracji (2 - 7) nie są dla nich, a dla użytkowników Windows.\n",
    "2. Najwygodniej korzystać z Dockera korzystająć z maszyny wirtualnej.\n",
    "3. W tym celu możecie pobrać VirtualBox. (https://www.virtualbox.org/).\n",
    "4. Potrzebny jest również obraz maszyny wirtualnej, polecam Ubuntu (https://www.linuxvmimages.com/images/ubuntu-2004/#ubuntu-2004-lts).\n",
    "5. Pobraliśmy plik w formacie .ova możemy skorzystać z funkcji Plik -> Importuj urządzenie wirtualne, żeby móc rozpocząć działanie na Ubuntu. Możemy zostawić domyślne ustawienia.\n",
    "6. W ustawieniach maszyny wirtualnej, polecam wybrać Ogólne -> Zaawansowane i wybrać Bidirectional dla opcji Współdzielony schowek oraz Przeciąganie i upuszczanie. W ten sposób za pomocą ctrl+c, ctrl+v lub drag & drop możemy przenosić pliki między naszym systemem a maszyną wirtualną. Bardzo to ułatwia życie.\n",
    "7. Włączamy naszą maszynę wirtualną. Użytkownik: ubuntu hasło: ubuntu.\n",
    "8. Tworzymy gdzieś folder, w którym chcemy odkładały się nasze notebooki.\n",
    "9. Otwieramy Terminal wpisujemy docker. Prawdopodobnie nie jest zainstalowany. Dostajemy podpowiedź jaką komendę wpisać, aby móc zainstalować docker. \n",
    "10. Jeżeli zwraca nam się błąd to powtarzamy komendę dodając sudo przed nią. sudo to komenda czasami tłumaczona jako \"super user\" dzięki temu logujemy się jako użytkownik root i mamy do wsyztskiego dostęp.\n",
    "11. U siebie, lokalnie, na cele uczenia, na maszynie, którą możemy utracić i nie będzie nam żal - świetna sprawa. W środowisku produkcyjnym niedoświadczony użytkownik z dostępem do sudo może narobić dużo szkód - USE WISELY :).\n",
    "12. Gdzie jest obraz dockera?  \n",
    "Obraz umieszczony na potrzeby dzisiejszych ćwiczeń został umieszony na GitHub p. dr Sebastiana Zająca.  \n",
    "https://github.com/sebkaz/docker-data-science\n",
    "13. Korzystamy z instrukcji pokazanych na stronie. I znów, gdyby jakaś komenda nie działała wpisujemy przed nią sudo.\n",
    "14. Otwieramy dowolną przeglądarkę i wpisujemy https://localhost:8888, hasło do Jupytera: root."
   ]
  },
  {
   "cell_type": "markdown",
   "id": "rubber-southwest",
   "metadata": {},
   "source": [
    "### Git i Github\n",
    "1. Wejdź do wybranej przez siebie lokalizacji.  \n",
    "2. Uruchom komendę `git clone https://github.com/mwojte/rta-lato-21.git`.  \n",
    "3. Powstał folder rta-lato-21, w którym będą kody wrzucane na mojego githuba  \n",
    "4. W celu odświeżenia repozytorium użyj komendy `git pull`  \n",
    "5. Na stronie https://github.com/mwojte/rta-lato-21 możesz obejrzeć i pobrać kody bez używania git, ale polecam się z tym narzędziem zaznajomić."
   ]
  },
  {
   "cell_type": "markdown",
   "id": "hungarian-academy",
   "metadata": {},
   "source": [
    "### Pakiety numpy i pandas"
   ]
  },
  {
   "cell_type": "code",
   "execution_count": null,
   "id": "worldwide-incidence",
   "metadata": {},
   "outputs": [],
   "source": [
    "import this"
   ]
  },
  {
   "cell_type": "markdown",
   "id": "alternative-printer",
   "metadata": {},
   "source": [
    "> Zadanie domowe - Sprawdź co możesz zrobić \n",
    "wykorzystując podstawowe biblioteki: `collections`,\n",
    "`decimal`, `json`,`math`,`os`,`random`,`re`,`sqlite3`,`sys`."
   ]
  },
  {
   "cell_type": "code",
   "execution_count": null,
   "id": "prime-alias",
   "metadata": {},
   "outputs": [],
   "source": [
    "import numpy as np\n",
    "import pandas as pd\n",
    "import collections,decimal, json,math,os,random,re,sqlite3,sys\n",
    "from sklearn.datasets import load_iris\n",
    "from sklearn.linear_model import Perceptron\n",
    "from IPython.display import HTML\n",
    "from IPython.display import Image\n",
    "from collections import Counter"
   ]
  },
  {
   "cell_type": "markdown",
   "id": "conceptual-spiritual",
   "metadata": {},
   "source": [
    "Z pakietu sklaern pbieramy zbiór danych iris.\n",
    "Taki sam zbiór danych widoczny jest w R."
   ]
  },
  {
   "cell_type": "code",
   "execution_count": null,
   "id": "residential-paris",
   "metadata": {},
   "outputs": [],
   "source": [
    "iris = load_iris()\n",
    "type(iris)"
   ]
  },
  {
   "cell_type": "markdown",
   "id": "allied-upset",
   "metadata": {},
   "source": [
    "Zbiór iris jest typem Bunch z pakietu sklaern, który działa podobnie do zwykłego słownika Pythonowego."
   ]
  },
  {
   "cell_type": "code",
   "execution_count": null,
   "id": "described-currency",
   "metadata": {},
   "outputs": [],
   "source": [
    "iris.keys()"
   ]
  },
  {
   "cell_type": "code",
   "execution_count": null,
   "id": "judicial-spotlight",
   "metadata": {},
   "outputs": [],
   "source": [
    "type(iris['data'])"
   ]
  },
  {
   "cell_type": "code",
   "execution_count": null,
   "id": "polish-activity",
   "metadata": {},
   "outputs": [],
   "source": [
    "iris['feature_names']"
   ]
  },
  {
   "cell_type": "markdown",
   "id": "tribal-depth",
   "metadata": {},
   "source": [
    "Stworzymy z elementów, które mamy dataframe, który posłuży nam do dalszej analizy.  \n",
    "'data' - numpy array z danymi  \n",
    "'target' - jaki rodzaj kwiatka jest opisany  \n",
    "'feature_names' - nazwy kolumn dla 'data'"
   ]
  },
  {
   "cell_type": "code",
   "execution_count": null,
   "id": "primary-smell",
   "metadata": {},
   "outputs": [],
   "source": [
    "df = pd.DataFrame(data= np.c_[iris['data'], iris['target']],\n",
    "                     columns= iris['feature_names'] + ['target'])"
   ]
  },
  {
   "cell_type": "code",
   "execution_count": null,
   "id": "pressed-rochester",
   "metadata": {},
   "outputs": [],
   "source": [
    "df"
   ]
  },
  {
   "cell_type": "code",
   "execution_count": null,
   "id": "herbal-madison",
   "metadata": {},
   "outputs": [],
   "source": [
    "df['target']"
   ]
  },
  {
   "cell_type": "code",
   "execution_count": null,
   "id": "isolated-entry",
   "metadata": {},
   "outputs": [],
   "source": [
    "df['species'] = pd.Categorical.from_codes(iris.target, iris.target_names)\n",
    "df = df.drop(columns=['target'])"
   ]
  },
  {
   "cell_type": "code",
   "execution_count": null,
   "id": "handled-concert",
   "metadata": {},
   "outputs": [],
   "source": [
    "df.head()"
   ]
  },
  {
   "cell_type": "code",
   "execution_count": null,
   "id": "disciplinary-phoenix",
   "metadata": {},
   "outputs": [],
   "source": [
    "iris['target_names']"
   ]
  },
  {
   "cell_type": "code",
   "execution_count": null,
   "id": "laden-diabetes",
   "metadata": {},
   "outputs": [],
   "source": [
    "df.info()"
   ]
  },
  {
   "cell_type": "markdown",
   "id": "opposite-department",
   "metadata": {},
   "source": [
    "Powyżej przedstawiona została ramka danych stanowiąca fragment danych Iris. Zbiór ten składa się z wyników pomiarów czterech cech trzech gatunków kwiatów Irysa.  \n",
    "Przez macierz X będziemy oznaczali zbiór wszystkich przypadków i cech. Co w naszym przypdaku generuje macierz 150 wierszy oraz 4 kolumn.  \n",
    "Przez wektor y oznaczać będziemy etykiety.\n"
   ]
  },
  {
   "cell_type": "markdown",
   "id": "connected-reproduction",
   "metadata": {},
   "source": [
    "Zredukujmy nasze dane do dwóch gatunków i dwóch cech"
   ]
  },
  {
   "cell_type": "code",
   "execution_count": null,
   "id": "posted-growth",
   "metadata": {},
   "outputs": [],
   "source": [
    "y = df.iloc[0:100,4] #wiersze od indeksu 0 do 99\n",
    "y"
   ]
  },
  {
   "cell_type": "code",
   "execution_count": null,
   "id": "above-teach",
   "metadata": {},
   "outputs": [],
   "source": [
    "y.unique()"
   ]
  },
  {
   "cell_type": "code",
   "execution_count": null,
   "id": "iraqi-trust",
   "metadata": {},
   "outputs": [],
   "source": [
    "#Iris Setosa\n",
    "Image(url=\"https://www.cowellsgc.co.uk/files/images/webshop/iris-setosa-baby-blue-1587831588_l.jpg\")"
   ]
  },
  {
   "cell_type": "code",
   "execution_count": null,
   "id": "entitled-chapel",
   "metadata": {},
   "outputs": [],
   "source": [
    "#Iris Versicolor\n",
    "Image(url=\"http://latour-marliac.com/323-large_default/iris-versicolor-iris-versicolore.jpg\")"
   ]
  },
  {
   "cell_type": "markdown",
   "id": "native-lingerie",
   "metadata": {},
   "source": [
    "Zakodujmy na liczby, dla setosa dajmy -1, a dla versicolor dajmy 1"
   ]
  },
  {
   "cell_type": "code",
   "execution_count": null,
   "id": "blank-appraisal",
   "metadata": {},
   "outputs": [],
   "source": [
    "y = np.where(y == 'setosa',-1,1)\n",
    "y"
   ]
  },
  {
   "cell_type": "markdown",
   "id": "consolidated-agreement",
   "metadata": {},
   "source": [
    "Z macierzy X bierzemy pierwszych 100 wierszy oraz kolumny o indeksach 0 i 2."
   ]
  },
  {
   "cell_type": "code",
   "execution_count": null,
   "id": "supreme-victor",
   "metadata": {},
   "outputs": [],
   "source": [
    "print(iris['feature_names'][0])\n",
    "print(iris['feature_names'][2])"
   ]
  },
  {
   "cell_type": "code",
   "execution_count": null,
   "id": "spoken-chocolate",
   "metadata": {},
   "outputs": [],
   "source": [
    "#Budowa kwiatu\n",
    "Image(url=\"https://upload.wikimedia.org/wikipedia/commons/7/7f/Mature_flower_diagram.svg\")"
   ]
  },
  {
   "cell_type": "markdown",
   "id": "former-soundtrack",
   "metadata": {},
   "source": [
    "Będziemy opierać nasze predykcje na dwóch cechac sepal length(cm), czyli długość działki w cm oraz petal length (cm) czyli długość płatka w cm."
   ]
  },
  {
   "cell_type": "code",
   "execution_count": null,
   "id": "undefined-browse",
   "metadata": {},
   "outputs": [],
   "source": [
    "X = df.iloc[:100,[0,2]].values #values- zamienia na np array"
   ]
  },
  {
   "cell_type": "markdown",
   "id": "wanted-ordinance",
   "metadata": {},
   "source": [
    "Wizualizacja graficzna"
   ]
  },
  {
   "cell_type": "code",
   "execution_count": null,
   "id": "impossible-private",
   "metadata": {},
   "outputs": [],
   "source": [
    "import matplotlib.pyplot as plt"
   ]
  },
  {
   "cell_type": "code",
   "execution_count": null,
   "id": "induced-bowling",
   "metadata": {},
   "outputs": [],
   "source": [
    "plt.scatter(X[:50,0],X[:50,1],color='red', marker='o',label='setosa')\n",
    "plt.scatter(X[50:100,0],X[50:100,1],color='blue', marker='x',label='versicolor')\n",
    "plt.xlabel('sepal length (cm)')\n",
    "plt.ylabel('petal length (cm)')\n",
    "plt.legend(loc='upper left')\n",
    "plt.show()"
   ]
  },
  {
   "cell_type": "markdown",
   "id": "connected-stylus",
   "metadata": {},
   "source": [
    "Na wykresie rozproszenie widzimy, że obie cechy idealnie będą nadawału się do rozróżniania między gatunkiem setosa a versicolor.  \n",
    "Będziemy chcieli stworzyć model Liniowego Perceptronu, żeby klasyfikować nasze kwiaty, ale do tego przyda nam się programowanie obiektowe"
   ]
  },
  {
   "cell_type": "markdown",
   "id": "verified-accommodation",
   "metadata": {},
   "source": [
    "### Programowanie obiektowe"
   ]
  },
  {
   "cell_type": "markdown",
   "id": "remarkable-semester",
   "metadata": {},
   "source": [
    "#### Podstawy obiektowości\n",
    "\n",
    "Aplikacje powinny być wytwarzane w sposób niezawodny, szybki oraz ekonomiczny.\n",
    "`Obiekty` (a dokładniej `Klasy`) to jeden ze środków dzięki któremy można uzyskać ten cel. \n",
    "Obiekty można rozumieć jako _wieloużywalne_ komponenty oprogramowania (_ang. reusable_).\n",
    "Potrafią realizować one rozmaite koncepcje i byty np. datę, czas, obrazy, samochody, dźwięk, ludzi etc. \n",
    "Praktycznie wszystko co określane jest jako rzeczownik, może być realizowane w kategoriach **atrybutów** obiektów. \n",
    "Natomiast zachowania obiektów, wyrażane czasownikami, można określić jako **metody** klas.\n",
    "Programy oparte o obiekty są dużo łatwiejsze do zrozumienia i weryfikacji niż kody pisane w konwencji tzw. programowania strukturalnego.\n",
    "\n",
    "> Zadanie domowe - Jakie inne koncepcje programowania używane są współczenie ? (zobacz np. język Scala)\n",
    "\n",
    "\n",
    "Obiekt realizujący konto bankowe można wygenerować z klasy, która zapewne posiada metody reprezentujące wpłaty środków (ang. _deposit_), ich wypłatę (ang. _withdraw_) czy udostępnianie bieżącego salda (ang. _inquire_).\n",
    "\n",
    "Tak jak wspomniano wcześniej wieloużywalne klasy to takie na podstawie których możemy zrealizować wiele obiektów (egzlemplarzy czy **instancji**). \n",
    "Drugą ciekawą własnością obiektowości jest możliwosć tworzenia nowych klas na bazie już istniejących poprzez tzw. mechanizm dziedziczenia (ang. _inheritance_) - Nie odkrywaj Ameryki na nowo.\n",
    "\n",
    "> Zadanie domowe - Usiądź do komputera, wyłącz fb i inne rozpraszacze ! Zacznij myśleć i pisz kod zorientowany obiektowo (ang. _Object Oriented Analysis and Design_). Ale wpierw sprawdź kiedy i gdzie powstał język Python. Znajdź inne języki zorientowane obiektowo. Gdzie w analizach danych słyszałeś o takich językach ? \n",
    "\n",
    "> Zadanie domowe bis - Przestań zastanawiać się nad życiowym pytaniem \"Python czy R\""
   ]
  },
  {
   "cell_type": "code",
   "execution_count": null,
   "id": "partial-houston",
   "metadata": {},
   "outputs": [],
   "source": [
    "###Prosty przyklad z pracownikiem\n",
    "\n",
    "class Employee():\n",
    "    def __init__(self, name, dept, sal=1500):\n",
    "        self.name = name\n",
    "        self.dept = dept\n",
    "        self.sal  = sal\n",
    "    \n",
    "    def get_sal(self):\n",
    "        return print(\"Wynagrodzenie: \"+str(self.sal))\n",
    "        \n",
    "    def get_name(self):\n",
    "        return print(\"Pracownik nazywa się: \"+self.name)\n",
    "    \n",
    "    def give_raise(self,amount):\n",
    "        self.sal = self.sal + amount"
   ]
  },
  {
   "cell_type": "code",
   "execution_count": null,
   "id": "mechanical-attempt",
   "metadata": {},
   "outputs": [],
   "source": [
    "emp1 = Employee(\"Anna Aria\",\"MKTG\",2500)"
   ]
  },
  {
   "cell_type": "code",
   "execution_count": null,
   "id": "greatest-sword",
   "metadata": {},
   "outputs": [],
   "source": [
    "type(emp1)"
   ]
  },
  {
   "cell_type": "code",
   "execution_count": null,
   "id": "equipped-chicago",
   "metadata": {},
   "outputs": [],
   "source": [
    "emp1.get_name()"
   ]
  },
  {
   "cell_type": "code",
   "execution_count": null,
   "id": "tribal-native",
   "metadata": {},
   "outputs": [],
   "source": [
    "emp1.sal"
   ]
  },
  {
   "cell_type": "code",
   "execution_count": null,
   "id": "contemporary-machinery",
   "metadata": {},
   "outputs": [],
   "source": [
    "emp1.name"
   ]
  },
  {
   "cell_type": "code",
   "execution_count": null,
   "id": "protected-feedback",
   "metadata": {},
   "outputs": [],
   "source": [
    "emp1.dept"
   ]
  },
  {
   "cell_type": "code",
   "execution_count": null,
   "id": "altered-premises",
   "metadata": {},
   "outputs": [],
   "source": [
    "emp1.get_sal()"
   ]
  },
  {
   "cell_type": "code",
   "execution_count": null,
   "id": "controlled-consciousness",
   "metadata": {},
   "outputs": [],
   "source": [
    "emp1.give_raise(50000)"
   ]
  },
  {
   "cell_type": "code",
   "execution_count": null,
   "id": "humanitarian-cradle",
   "metadata": {},
   "outputs": [],
   "source": [
    "emp1.get_sal()"
   ]
  },
  {
   "cell_type": "code",
   "execution_count": null,
   "id": "oriental-estonia",
   "metadata": {},
   "outputs": [],
   "source": [
    "from random import randint\n",
    "\n",
    "class Die():\n",
    "    \"\"\"Pojedynczy rzut kością\"\"\"\n",
    "    def __init__(self, num_sides=6):\n",
    "        \"\"\"Kość to zazwyczaj sześcian\"\"\"\n",
    "        self.num_sides = num_sides\n",
    "\n",
    "    def roll(self):\n",
    "        \"\"\"Zwraca losową wartość od 1 do liczby ścian\"\"\"\n",
    "        return randint(1,self.num_sides)\n",
    "\n",
    "# program \n",
    "\n",
    "die = Die(3) # stwórz kość\n",
    "\n",
    "results = []\n",
    "for roll_num in range(10): # powtórz 10 razy\n",
    "    result = die.roll() # rzuć kością raz\n",
    "    results.append(result) # zapisz do listy\n",
    "\n",
    "print(results)"
   ]
  },
  {
   "cell_type": "markdown",
   "id": "smoking-rough",
   "metadata": {},
   "source": [
    ">Zadanie domowe - Zmień kod klasy dieN w taki sposób aby bez użycia pętli można było rzucić kością $n$ razy, metodę tej klasy nazwij n_roll. Spróbuj napisać kod w taki sposób, aby nie musieć przepisywać kodu klasy Die (wykorzystaj tzw. \"dziedziczenie klas\"). Obiekt nazwij wielorzut.  \n",
    "Przeprowadź eksperyment rzuć 10, 100, 1000, 10000 i 100000 razy. Za każdym razem przygotuj histogram.  \n",
    "Dodatkowo - spróbuj umieścić histogram jako metodę klasy dieN."
   ]
  },
  {
   "cell_type": "code",
   "execution_count": null,
   "id": "legendary-algeria",
   "metadata": {},
   "outputs": [],
   "source": [
    "class dieN(Die):\n",
    "    def __init__(self, num_of_exp, num_sides=6):\n",
    "        self.num_sides = num_sides\n",
    "        self.num_of_exp = num_of_exp\n",
    "          \n",
    "    def n_roll(self):\n",
    "        return np.random.choice(np.arange(1, self.num_sides + 1), self.num_of_exp)\n",
    "        \n",
    "    def hist(self, res):\n",
    "        return plt.hist(res, density=True, bins=self.num_sides)"
   ]
  },
  {
   "cell_type": "code",
   "execution_count": null,
   "id": "split-avatar",
   "metadata": {},
   "outputs": [],
   "source": [
    "wielorzut10 = dieN(10)\n",
    "res10 = wielorzut10.n_roll()\n",
    "wielorzut10.hist(res10);"
   ]
  },
  {
   "cell_type": "code",
   "execution_count": null,
   "id": "alike-rwanda",
   "metadata": {},
   "outputs": [],
   "source": [
    "wielorzut10000 = dieN(10000, 20)\n",
    "res10000 = wielorzut10000.n_roll()\n",
    "wielorzut10000.hist(res10000);"
   ]
  },
  {
   "cell_type": "markdown",
   "id": "remarkable-professional",
   "metadata": {},
   "source": [
    "> Zadanie domowe - przeanalizuj kod klasy RandomWalk\n",
    "\n",
    "```{python}\n",
    "from random import choice\n",
    "\n",
    "class RandomWalk(object):\n",
    "    \"\"\"generowanie błądzenia losowego\"\"\"\n",
    "    def __init__(self, num_points=5000):\n",
    "        self.num_points = num_points\n",
    "        self.x_values = [0]\n",
    "        self.y_values = [0]\n",
    "\n",
    "    def fill_walk(self):\n",
    "        while len(self.x_values) < self.num_points:\n",
    "            x_direction = choice([-1,1])\n",
    "            x_distance = choice([0,1,2,3,4])\n",
    "            x_step = x_direction*x_distance\n",
    "\n",
    "            y_direction = choice([-1,1])\n",
    "            y_distance = choice([0,1,2,3,4])\n",
    "            y_step = y_direction*y_distance\n",
    "\n",
    "            if x_step == 0 and y_step == 0:\n",
    "                continue\n",
    "\n",
    "            next_x = self.x_values[-1] + x_step\n",
    "            next_y = self.y_values[-1] + y_step\n",
    "\n",
    "            self.x_values.append(next_x)\n",
    "            self.y_values.append(next_y)\n",
    "\n",
    "rw = RandomWalk(50000)\n",
    "rw.fill_walk()\n",
    "\n",
    "point_number = list(range(rw.num_points))\n",
    "plt.scatter(rw.x_values,rw.y_values, c=point_number, cmap=plt.cm.Blues, edgecolor='none', s=15)\n",
    "plt.scatter(0,0,c='green', edgecolor='none',s=100)\n",
    "plt.scatter(rw.x_values[-1],rw.y_values[-1], c='red',edgecolor='none', s=100)\n",
    "plt.axes().get_xaxis().set_visible(False)\n",
    "plt.axes().get_yaxis().set_visible(False)\n",
    "plt.show()\n",
    "\n",
    "```"
   ]
  },
  {
   "cell_type": "markdown",
   "id": "muslim-armor",
   "metadata": {},
   "source": [
    "### Proste modele sieci neuronowych"
   ]
  },
  {
   "cell_type": "markdown",
   "id": "covered-generation",
   "metadata": {},
   "source": [
    "#### Sztuczne neurony - rys historyczny\n",
    "\n",
    "W 1943 roku W. McCulloch i W. Pitts zaprezentowali pierwszą koncepcję uproszczonego modelu komórki nerwowej tzw. **Nuronu McCulloch-Pittsa** (MCP). [W.S. McCulloch, W. Pitts, A logical Calculus of the Ideas Immanent in Nervous Activity. \"The Bulletin of Mathematical Biophysics\" 1943 nr 5(4)](https://www.cs.cmu.edu/~./epxing/Class/10715/reading/McCulloch.and.Pitts.pdf)\n",
    "\n",
    "Neuronami nazywamy wzajemnie połączone komórki nerwowe w mózgu, które są odpowiedzialne za przetwarzanie i przesyłanie sygnałów chemicznych i elektrycznych. Komórka taka opisana jest jako bramka logiczna zawierająca binarne wyjścia. Do dendrytów dociera duża liczba sygnałów, które są integrowane w ciele komórki i (jeżeli energia przekracza określoną wartość progową) zostaje wygenerowany sygnał wyjściowy przepuszczany przez akson.\n",
    "\n",
    "Po kilku latach Frank Rosenblatt (na podstawie MCP) zaproponował pierwszą koncepcję reguły uczenia perceprtonu. [F. Rosenblatt, The Perceptron, a Perceiving and Recognizing Automaton, Cornell Aeronautical Laboratory, 1957](https://blogs.umass.edu/brain-wars/files/2016/03/rosenblatt-1957.pdf)\n"
   ]
  },
  {
   "cell_type": "markdown",
   "id": "talented-circulation",
   "metadata": {},
   "source": [
    "#### Niech się uczy !!!\n",
    "\n",
    "```{python}\n",
    "dziecko = Perceptron()\n",
    "dziecko.fit()\n",
    "\n",
    "# dziecko musi mieć parametr uczenia\n",
    "dziecko.eta\n",
    "\n",
    "# możemy sprawdzić jak szybko się uczy == ile błędów robi\n",
    "\n",
    "dziecko.errors_ \n",
    "\n",
    "# rozwiązania znajdą się w wagach\n",
    "dziecko.w_\n",
    "# w naszym przypadku dziecko uczy się dwóch wag !\n",
    "\n",
    "```"
   ]
  },
  {
   "cell_type": "code",
   "execution_count": null,
   "id": "noted-owner",
   "metadata": {},
   "outputs": [],
   "source": [
    "# implementacja \n",
    "class Perceptron():\n",
    "    \n",
    "    def __init__(self,eta=0.01, n_iter=10):\n",
    "        self.eta = eta\n",
    "        self.n_iter = n_iter\n",
    "    \n",
    "    def fit(self, X, y):\n",
    "        self.w_ = np.zeros(1+X.shape[1])\n",
    "        self.errors_ = []\n",
    "        \n",
    "        for _ in range(self.n_iter):\n",
    "            errors = 0\n",
    "            i = 0\n",
    "            for xi, target in zip(X,y):\n",
    "                i += 1\n",
    "                #print(xi, target)\n",
    "                update = self.eta*(target-self.predict(xi))\n",
    "                #print(update)\n",
    "                self.w_[1:] += update*xi\n",
    "                self.w_[0] += update \n",
    "                print([i,update ,xi,self.w_])\n",
    "                errors += int(update != 0.0)\n",
    "            self.errors_.append(errors)\n",
    "            #print(self.w_)\n",
    "            #print(\"Błąd w iteracji \"+str(_)+\":\")\n",
    "            #print(self.errors_[_])\n",
    "        return self\n",
    "    \n",
    "    def net_input(self, X):\n",
    "        return np.dot(X, self.w_[1:])+self.w_[0]\n",
    "    \n",
    "    def predict(self, X):\n",
    "        return np.where(self.net_input(X)>=0.0,1,-1)"
   ]
  },
  {
   "cell_type": "markdown",
   "id": "aging-bride",
   "metadata": {},
   "source": [
    "#### Co tutaj się wydarzyło?\n",
    "Stworzyliśmy klasę, dzięki, której możemy stworzyć prosty model perceptronu liniowego.  \n",
    "Funkcja aktywacji w perceptronie liniowym jest bardzo prosta.  \n",
    "Przypomina nam najprostszy model KMNK (Klasycznej Metody Najmniejszych Kwadratów).  \n",
    "$y_i = w_0 + w_1x_{1i}+w_2x_{2i}$\n",
    "\n",
    "1. Zainicjowaliśmy wagi równe 0 dla każdego parametru.  \n",
    "```self.w_ = np.zeros(1+X.shape[1])```  \n",
    "Początkowo nasz model wygląda tak:  \n",
    "$y_i = 0 + 0\\times x_{1i} + 0\\times x_{2i} $\n",
    "2. Liczymy wartości z powyższego wzoru, czyli dla każdego elementu w dataframe X liczymy wartość y.  \n",
    "```def net_input(self, X):```  \n",
    "Korzystając z funkcji ```np.dot``` wymnażamy elementy z macierzy X przez odpowiadające im wagi i dodajemy wyraz wolny.  \n",
    "Ponieważ mnożymy wszytsko przez 0 i dodajemy zero to wynikiem jest 0.\n",
    "3. Przewidujemy, ustalamy punkt odcięcia na poziomie 0 i wyznaczamy, że dla wartości $y_i>=0$, wartością przewidywaną jest 1 (versicolor), a dla wartości $y_i<0$ wartością przewidywaną jest -1 (setosa). Dla każdej obserwacji otrzymujemy 0, czyli przewidujemy 1 (versicolor).\n",
    "4. Liczymy kolejne wagi.  \n",
    "```update = self.eta*(target-self.predict(xi))```  \n",
    "```self.w_[1:] += update*xi```  \n",
    "```self.w_[0] += update```  \n",
    "Dla każdej obserwacji obliczamy wartość update, czyli różnicę między wartością obserwowaną a przewidywaną.  \n",
    "Na przykładzie dla pierwszej obserwacji:  \n",
    "$x_{11}=5.1$  \n",
    "$x_{21}=1.4$  \n",
    "$y_1 = -1$  \n",
    "$\\hat{y_1} = 1$  \n",
    "$update = 0.01*(-1 - 1) = 0.01*(-2) = - 0.02$  \n",
    "Tutaj kluczowa jest ustalana przez nas wartość ```eta```, która mówi jak bardzo pomyłka na predykcji ma się przełożyć na uaktualnienie wartości wag. W naszym przykładzie wybrano 0.01.\n",
    "Teraz wyraz wolny uaktualniamy (funkcja liniowa zatem po prostu dodajemy) o wartość update, a wagi dla $w_{1}$ oraz $w_{2}$ o wartość $update$ przemnożoną przez odpowiednio przez $x_{11}$ oraz $x_{22}$.  \n",
    "$w_0 = 0 + (-0.02) = -0.02$  \n",
    "$w_1 = 0 + (-0.02)\\times 5.1 = -0.102$  \n",
    "$w_2 = 0 + (-0.02)\\times 1.4 = -0.028$  \n",
    "5. Dla obserwacji $x_{12},\\;x_{22}$ nowy zestaw wag początkowych to:  \n",
    "$w_0 = -0.02;\\;\\;w_1 = -0.102;\\;\\;w_2 = -0.028$  \n",
    "6. Tak jak to zrobiliśmy powyżej powtarzamy dla każdej obserwacji. Za każdym razem sumujemy wartość $update$ do zmiennej $error$ po wszytskich obserwacjach dodajemy ją do listy wartości błedów, to pozwoli nam określić jak duży błąd model popełnia przy każdej iteracji. Jedna iteracja to przebięgniecie algorytmu po wszystkich obserwacjach. Parametrem ```n_iter``` możemy sterować ile tych iteracji wykonamy.  \n",
    "W rzeczywistości przy uczeniu sieci neuronowej najczęściej używa się dwóch kryteriów STOP (czyli kiedy przestać uczyć sieć) albo jest to właśnie ilość iteracji. Albo kryterium poprawności predykcji, gdy osiągniemy oczekiwany rezultat kończymy uczyć sieć."
   ]
  },
  {
   "cell_type": "markdown",
   "id": "usual-luxembourg",
   "metadata": {},
   "source": [
    "> Zadanie - zmień wagi tak by zamiast od zera uzyskiwały małą wartość losową."
   ]
  },
  {
   "cell_type": "code",
   "execution_count": null,
   "id": "polar-point",
   "metadata": {
    "scrolled": true,
    "tags": [
     "outputPrepend"
    ]
   },
   "outputs": [],
   "source": [
    "ppn = Perceptron(eta=0.01, n_iter=10)\n",
    "ppn.fit(X,y)\n",
    "print(ppn.errors_)\n",
    "print(ppn.w_)"
   ]
  },
  {
   "cell_type": "code",
   "execution_count": null,
   "id": "fallen-moore",
   "metadata": {},
   "outputs": [],
   "source": [
    "sum(ppn.predict(X)-y)"
   ]
  },
  {
   "cell_type": "code",
   "execution_count": null,
   "id": "younger-worry",
   "metadata": {},
   "outputs": [],
   "source": [
    "plt.plot(range(1,len(ppn.errors_)+1), ppn.errors_, marker='o');"
   ]
  },
  {
   "cell_type": "markdown",
   "id": "independent-flavor",
   "metadata": {},
   "source": [
    "#### Rysowanie obszaru decyzyjnego"
   ]
  },
  {
   "cell_type": "code",
   "execution_count": null,
   "id": "aboriginal-interim",
   "metadata": {},
   "outputs": [],
   "source": [
    "from matplotlib.colors import ListedColormap\n",
    "\n",
    "def plot_decision_regions(X,y,classifier, resolution=0.02):\n",
    "    markers = ('s','x','o','^','v')\n",
    "    colors = ('red','blue','lightgreen','gray','cyan')\n",
    "    cmap = ListedColormap(colors[:len(np.unique(y))])\n",
    "\n",
    "    x1_min, x1_max = X[:,0].min() - 1, X[:,0].max()+1\n",
    "    x2_min, x2_max = X[:,1].min() -1, X[:,1].max()+1\n",
    "    xx1, xx2 = np.meshgrid(np.arange(x1_min, x1_max, resolution),\n",
    "                           np.arange(x2_min, x2_max, resolution))\n",
    "    Z = classifier.predict(np.array([xx1.ravel(), xx2.ravel()]).T)\n",
    "    Z = Z.reshape(xx1.shape)\n",
    "    plt.contourf(xx1, xx2, Z, alpha=0.4, cmap=cmap)\n",
    "    plt.xlim(xx1.min(), xx1.max())\n",
    "    plt.ylim(xx2.min(),xx2.max())\n",
    "\n",
    "    for idx, cl in enumerate(np.unique(y)):\n",
    "        plt.scatter(x=X[y == cl,0], y=X[y==cl,1], alpha=0.8, c=cmap(idx), marker=markers[idx], label=cl)\n",
    "\n",
    "# dla kwiatków\n",
    "\n",
    "plot_decision_regions(X,y,classifier=ppn)\n",
    "plt.xlabel(\"dlugosc dzialki [cm]\")\n",
    "plt.ylabel(\"dlugosc platka [cm]\")\n",
    "plt.legend(loc='upper left')\n",
    "plt.show()"
   ]
  },
  {
   "cell_type": "markdown",
   "id": "pressed-postage",
   "metadata": {},
   "source": [
    "Czy to dobrze mieć tak wytrenowany model?  \n",
    "Jakie mogą być skutki w 100% poprawnie przewidującego modelu?  \n",
    "Czy nadaje się do ponownego użytku? Czy typ danych jest istotny?"
   ]
  },
  {
   "cell_type": "code",
   "execution_count": null,
   "id": "emotional-accommodation",
   "metadata": {},
   "outputs": [],
   "source": [
    "#Przeuczenie\n",
    "Image(url=\"https://miro.medium.com/max/771/1*cdvfzvpkJkUudDEryFtCnA.png\")"
   ]
  },
  {
   "cell_type": "markdown",
   "id": "billion-xerox",
   "metadata": {},
   "source": [
    "#### Adaptacyjny Neuron Liniowy"
   ]
  },
  {
   "cell_type": "markdown",
   "id": "atmospheric-grant",
   "metadata": {},
   "source": [
    ">Zadanie - Opisz czym się różni poniższy algorytm od Percpetrona Liniowego?"
   ]
  },
  {
   "cell_type": "code",
   "execution_count": null,
   "id": "minute-design",
   "metadata": {},
   "outputs": [],
   "source": [
    "class Adaline():\n",
    "    '''Klasyfikator  - ADAptacyjny LIniowy NEuron'''\n",
    "    def __init__(self, eta=0.01, n_iter=10):\n",
    "        self.eta = eta\n",
    "        self.n_iter = n_iter\n",
    "\n",
    "    def fit(self, X,y):\n",
    "        self.w_ = np.zeros(1+X.shape[1])\n",
    "        self.cost_ = []\n",
    "\n",
    "        for i in range(self.n_iter):\n",
    "            net_input = self.net_input(X)\n",
    "            output = self.activation(X)\n",
    "            errors = (y-output)\n",
    "            self.w_[1:] += self.eta * X.T.dot(errors)\n",
    "            self.w_[0] += self.eta * errors.sum()\n",
    "            cost = (errors**2).sum() / 2.0\n",
    "            self.cost_.append(cost)\n",
    "        return self\n",
    "\n",
    "    def net_input(self, X):\n",
    "        return np.dot(X, self.w_[1:]) + self.w_[0]\n",
    "\n",
    "    def activation(self, X):\n",
    "        return self.net_input(X)\n",
    "\n",
    "    def predict(self, X):\n",
    "        return np.where(self.activation(X) >= 0.0, 1, -1) "
   ]
  },
  {
   "cell_type": "markdown",
   "id": "unknown-benefit",
   "metadata": {},
   "source": [
    "Lista różnic:\n",
    "1. ..."
   ]
  },
  {
   "cell_type": "code",
   "execution_count": null,
   "id": "appropriate-apparel",
   "metadata": {},
   "outputs": [],
   "source": [
    "ad = Adaline(n_iter=20, eta=0.01)\n",
    "ad.fit(X,y)\n",
    "\n",
    "print(ad.w_)\n",
    "print(ad.cost_)\n",
    "\n",
    "plot_decision_regions(X,y,classifier=ad)\n",
    "plt.xlabel(\"dlugosc dzialki [cm]\")\n",
    "plt.ylabel(\"dlugosc platka [cm]\")\n",
    "plt.legend(loc='upper left')\n",
    "plt.show()"
   ]
  },
  {
   "cell_type": "code",
   "execution_count": null,
   "id": "seventh-chile",
   "metadata": {},
   "outputs": [],
   "source": [
    "ad2 = Adaline(n_iter=20, eta=0.0001)\n",
    "\n",
    "ad2.fit(X,y)\n",
    "\n",
    "print(ad2.w_)\n",
    "print(ad2.cost_)\n",
    "\n",
    "plot_decision_regions(X,y,classifier=ad2)\n",
    "plt.xlabel(\"dlugosc dzialki [cm]\")\n",
    "plt.ylabel(\"dlugosc platka [cm]\")\n",
    "plt.legend(loc='upper left')\n",
    "plt.show()"
   ]
  },
  {
   "cell_type": "markdown",
   "id": "above-acquisition",
   "metadata": {},
   "source": [
    "### Flask"
   ]
  },
  {
   "cell_type": "markdown",
   "id": "educated-algeria",
   "metadata": {},
   "source": [
    "#### Czym jest API - krótki filmik tłumaczący zagadnienie"
   ]
  },
  {
   "cell_type": "code",
   "execution_count": null,
   "id": "established-license",
   "metadata": {},
   "outputs": [],
   "source": [
    "HTML('<iframe width=\"560\" height=\"315\" src=\"https://www.youtube.com/embed/Yzx7ihtCGBs;controls=0&amp;showinfo=0\" frameborder=\"0\" allowfullscreen></iframe>')"
   ]
  },
  {
   "cell_type": "markdown",
   "id": "domestic-linux",
   "metadata": {},
   "source": [
    "Zapisanie modelu z wykorzystaniem pickle"
   ]
  },
  {
   "cell_type": "code",
   "execution_count": null,
   "id": "flying-processing",
   "metadata": {},
   "outputs": [],
   "source": [
    "import pickle\n",
    "with open('model.pkl', \"wb\") as picklefile:\n",
    "    pickle.dump(ppn, picklefile)"
   ]
  },
  {
   "cell_type": "markdown",
   "id": "loaded-papua",
   "metadata": {},
   "source": [
    "Otworzenie pliku i zapisanie modelu jako obiekt w sesji Python"
   ]
  },
  {
   "cell_type": "code",
   "execution_count": null,
   "id": "korean-installation",
   "metadata": {},
   "outputs": [],
   "source": [
    "with open('model.pkl',\"rb\") as picklefile:\n",
    "    model = pickle.load(picklefile)"
   ]
  },
  {
   "cell_type": "code",
   "execution_count": null,
   "id": "nominated-granny",
   "metadata": {},
   "outputs": [],
   "source": [
    "model"
   ]
  },
  {
   "cell_type": "code",
   "execution_count": null,
   "id": "double-infrastructure",
   "metadata": {},
   "outputs": [],
   "source": [
    "model.predict([[1,6],[5,2]])"
   ]
  },
  {
   "cell_type": "markdown",
   "id": "nutritional-california",
   "metadata": {},
   "source": [
    "Stwórzmy plik ze skryptem naszej aplikacji.  \n",
    "Nazwiemy go app.py."
   ]
  },
  {
   "cell_type": "code",
   "execution_count": null,
   "id": "executed-civilian",
   "metadata": {},
   "outputs": [],
   "source": [
    "%%file app.py\n",
    "\n",
    "import pickle\n",
    "from math import log10\n",
    "\n",
    "from flask import Flask\n",
    "from flask import request\n",
    "from flask import jsonify\n",
    "import numpy as np\n",
    "\n",
    "class Perceptron():\n",
    "    \n",
    "    def __init__(self,eta=0.01, n_iter=10):\n",
    "        self.eta = eta\n",
    "        self.n_iter = n_iter\n",
    "    \n",
    "    def fit(self, X, y):\n",
    "        self.w_ = np.zeros(1+X.shape[1])\n",
    "        self.errors_ = []\n",
    "        \n",
    "        for _ in range(self.n_iter):\n",
    "            errors = 0\n",
    "            for xi, target in zip(X,y):\n",
    "                #print(xi, target)\n",
    "                update = self.eta*(target-self.predict(xi))\n",
    "                #print(update)\n",
    "                self.w_[1:] += update*xi\n",
    "                self.w_[0] += update\n",
    "                #print(self.w_)\n",
    "                errors += int(update != 0.0)\n",
    "            self.errors_.append(errors)\n",
    "        return self\n",
    "    \n",
    "    def net_input(self, X):\n",
    "        return np.dot(X, self.w_[1:])+self.w_[0]\n",
    "    \n",
    "    def predict(self, X):\n",
    "        return np.where(self.net_input(X)>=0.0,1,-1)\n",
    "\n",
    "# Create a flask\n",
    "app = Flask(__name__)\n",
    "\n",
    "# Create an API end point\n",
    "@app.route('/api/v1.0/predict', methods=['GET'])\n",
    "def get_prediction():\n",
    "\n",
    "    # sepal length\n",
    "    sepal_length = float(request.args.get('sl'))\n",
    "    # sepal width\n",
    "    sepal_width = float(request.args.get('sw'))\n",
    "    # petal length\n",
    "    petal_length = float(request.args.get('pl'))\n",
    "    # petal width\n",
    "    petal_width = float(request.args.get('pw'))\n",
    "\n",
    "    # The features of the observation used to predict\n",
    "    features = [sepal_length,\n",
    "               sepal_width,\n",
    "               petal_length,\n",
    "              petal_width]\n",
    "    \n",
    "#     features = [sepal_length,\n",
    "#                 petal_length]\n",
    "    \n",
    "    print(features)\n",
    "    # Load pickled model file\n",
    "    with open('model.pkl',\"rb\") as picklefile:\n",
    "        model = pickle.load(picklefile)\n",
    "    print(model)\n",
    "    # Predict the class using the model\n",
    "    predicted_class = int(model.predict(features))\n",
    "\n",
    "    # Return a json object containing the features and prediction\n",
    "    return jsonify(features=features, predicted_class=predicted_class)\n",
    "\n",
    "if __name__ == '__main__':\n",
    "    app.run()"
   ]
  },
  {
   "cell_type": "markdown",
   "id": "flying-breach",
   "metadata": {},
   "source": [
    "Sprawdźmy czy nasz plik się zapisał"
   ]
  },
  {
   "cell_type": "code",
   "execution_count": null,
   "id": "tested-thailand",
   "metadata": {},
   "outputs": [],
   "source": [
    "!head app.py"
   ]
  },
  {
   "cell_type": "code",
   "execution_count": null,
   "id": "offshore-quest",
   "metadata": {},
   "outputs": [],
   "source": [
    "# !pip install Flask"
   ]
  },
  {
   "cell_type": "markdown",
   "id": "liable-enzyme",
   "metadata": {},
   "source": [
    "Uruchamiamy naszą aplikację"
   ]
  },
  {
   "cell_type": "code",
   "execution_count": null,
   "id": "unlike-invention",
   "metadata": {},
   "outputs": [],
   "source": [
    "!python app.py"
   ]
  },
  {
   "cell_type": "markdown",
   "id": "behind-photograph",
   "metadata": {},
   "source": [
    "### Przejdźmy do notatnika LAB1_flask_get"
   ]
  },
  {
   "cell_type": "code",
   "execution_count": null,
   "id": "floating-series",
   "metadata": {},
   "outputs": [],
   "source": []
  }
 ],
 "metadata": {
  "kernelspec": {
   "display_name": "Python 3",
   "language": "python",
   "name": "python3"
  },
  "language_info": {
   "codemirror_mode": {
    "name": "ipython",
    "version": 3
   },
   "file_extension": ".py",
   "mimetype": "text/x-python",
   "name": "python",
   "nbconvert_exporter": "python",
   "pygments_lexer": "ipython3",
   "version": "3.8.5"
  }
 },
 "nbformat": 4,
 "nbformat_minor": 5
}
