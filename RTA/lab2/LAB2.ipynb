{
 "cells": [
  {
   "cell_type": "markdown",
   "id": "lightweight-behalf",
   "metadata": {},
   "source": [
    "### Importowanie pakietów z znanym nam zbiorem iris"
   ]
  },
  {
   "cell_type": "code",
   "execution_count": 1,
   "id": "muslim-commercial",
   "metadata": {},
   "outputs": [],
   "source": [
    "import numpy as np\n",
    "import pandas as pd\n",
    "from sklearn.datasets import load_iris"
   ]
  },
  {
   "cell_type": "code",
   "execution_count": 2,
   "id": "organizational-startup",
   "metadata": {},
   "outputs": [],
   "source": [
    "iris = load_iris()\n",
    "df = pd.DataFrame(data= np.c_[iris['data'], iris['target']],\n",
    "                     columns= iris['feature_names'] + ['target'])"
   ]
  },
  {
   "cell_type": "code",
   "execution_count": 5,
   "id": "accepted-gregory",
   "metadata": {},
   "outputs": [
    {
     "output_type": "execute_result",
     "data": {
      "text/plain": [
       "sklearn.utils.Bunch"
      ]
     },
     "metadata": {},
     "execution_count": 5
    }
   ],
   "source": [
    "type(iris)"
   ]
  },
  {
   "cell_type": "code",
   "execution_count": 6,
   "id": "digital-accessory",
   "metadata": {},
   "outputs": [
    {
     "output_type": "execute_result",
     "data": {
      "text/plain": [
       "pandas.core.frame.DataFrame"
      ]
     },
     "metadata": {},
     "execution_count": 6
    }
   ],
   "source": [
    "type(df)"
   ]
  },
  {
   "cell_type": "code",
   "execution_count": 7,
   "id": "jewish-fairy",
   "metadata": {
    "scrolled": true
   },
   "outputs": [
    {
     "output_type": "execute_result",
     "data": {
      "text/plain": [
       "   sepal length (cm)  sepal width (cm)  petal length (cm)  petal width (cm)  \\\n",
       "0                5.1               3.5                1.4               0.2   \n",
       "1                4.9               3.0                1.4               0.2   \n",
       "2                4.7               3.2                1.3               0.2   \n",
       "3                4.6               3.1                1.5               0.2   \n",
       "4                5.0               3.6                1.4               0.2   \n",
       "\n",
       "   target  \n",
       "0     0.0  \n",
       "1     0.0  \n",
       "2     0.0  \n",
       "3     0.0  \n",
       "4     0.0  "
      ],
      "text/html": "<div>\n<style scoped>\n    .dataframe tbody tr th:only-of-type {\n        vertical-align: middle;\n    }\n\n    .dataframe tbody tr th {\n        vertical-align: top;\n    }\n\n    .dataframe thead th {\n        text-align: right;\n    }\n</style>\n<table border=\"1\" class=\"dataframe\">\n  <thead>\n    <tr style=\"text-align: right;\">\n      <th></th>\n      <th>sepal length (cm)</th>\n      <th>sepal width (cm)</th>\n      <th>petal length (cm)</th>\n      <th>petal width (cm)</th>\n      <th>target</th>\n    </tr>\n  </thead>\n  <tbody>\n    <tr>\n      <th>0</th>\n      <td>5.1</td>\n      <td>3.5</td>\n      <td>1.4</td>\n      <td>0.2</td>\n      <td>0.0</td>\n    </tr>\n    <tr>\n      <th>1</th>\n      <td>4.9</td>\n      <td>3.0</td>\n      <td>1.4</td>\n      <td>0.2</td>\n      <td>0.0</td>\n    </tr>\n    <tr>\n      <th>2</th>\n      <td>4.7</td>\n      <td>3.2</td>\n      <td>1.3</td>\n      <td>0.2</td>\n      <td>0.0</td>\n    </tr>\n    <tr>\n      <th>3</th>\n      <td>4.6</td>\n      <td>3.1</td>\n      <td>1.5</td>\n      <td>0.2</td>\n      <td>0.0</td>\n    </tr>\n    <tr>\n      <th>4</th>\n      <td>5.0</td>\n      <td>3.6</td>\n      <td>1.4</td>\n      <td>0.2</td>\n      <td>0.0</td>\n    </tr>\n  </tbody>\n</table>\n</div>"
     },
     "metadata": {},
     "execution_count": 7
    }
   ],
   "source": [
    "df.head()"
   ]
  },
  {
   "cell_type": "code",
   "execution_count": 9,
   "id": "collected-protection",
   "metadata": {},
   "outputs": [],
   "source": [
    "# !pip install sqlalchemy"
   ]
  },
  {
   "cell_type": "markdown",
   "id": "dominican-bruce",
   "metadata": {},
   "source": [
    "### Tworzenie i łączenie się z bazą danych SQL"
   ]
  },
  {
   "cell_type": "markdown",
   "id": "least-capitol",
   "metadata": {},
   "source": [
    "Polecenie create_engine pozwala nam się podłączyć do już istniejącej bazy danych.\n",
    "SQLite to baza danych \"plikowa\". Stworzy nam się plik .db, który będzie zawierałnasze bazy danych"
   ]
  },
  {
   "cell_type": "code",
   "execution_count": 11,
   "id": "foreign-february",
   "metadata": {},
   "outputs": [],
   "source": [
    "from sqlalchemy import create_engine\n",
    "engine = create_engine('sqlite:///irysy4.db')\n",
    "baza_danych = create_engine('sqlite:///irysy5.db')"
   ]
  },
  {
   "cell_type": "markdown",
   "id": "hundred-general",
   "metadata": {},
   "source": [
    "Za pomocą polecenia to_sql możemy zapisać nasze obiekty jako tabele sql-owe i zapisać w bazie danych"
   ]
  },
  {
   "cell_type": "code",
   "execution_count": 12,
   "id": "robust-madison",
   "metadata": {},
   "outputs": [],
   "source": [
    "df.to_sql('dane', con=engine, index=False)"
   ]
  },
  {
   "cell_type": "code",
   "execution_count": 13,
   "id": "fitted-kitchen",
   "metadata": {
    "scrolled": true
   },
   "outputs": [],
   "source": [
    "a = engine.execute(\"SELECT * FROM dane\").fetchall()"
   ]
  },
  {
   "cell_type": "code",
   "execution_count": 15,
   "id": "domestic-heating",
   "metadata": {},
   "outputs": [
    {
     "output_type": "execute_result",
     "data": {
      "text/plain": [
       "[(3.057333333333334,)]"
      ]
     },
     "metadata": {},
     "execution_count": 15
    }
   ],
   "source": [
    "engine.execute(\"SELECT AVG([sepal width (cm)]) FROM dane\").fetchall()"
   ]
  },
  {
   "cell_type": "code",
   "execution_count": 16,
   "id": "derived-acoustic",
   "metadata": {},
   "outputs": [
    {
     "output_type": "execute_result",
     "data": {
      "text/plain": [
       "list"
      ]
     },
     "metadata": {},
     "execution_count": 16
    }
   ],
   "source": [
    "type(a)"
   ]
  },
  {
   "cell_type": "code",
   "execution_count": 18,
   "id": "pursuant-tuition",
   "metadata": {},
   "outputs": [
    {
     "output_type": "execute_result",
     "data": {
      "text/plain": [
       "(5.1, 3.5, 1.4, 0.2, 0.0)"
      ]
     },
     "metadata": {},
     "execution_count": 18
    }
   ],
   "source": [
    "a[0]"
   ]
  },
  {
   "cell_type": "code",
   "execution_count": 19,
   "id": "seven-cornell",
   "metadata": {},
   "outputs": [
    {
     "output_type": "execute_result",
     "data": {
      "text/plain": [
       "sqlalchemy.engine.row.LegacyRow"
      ]
     },
     "metadata": {},
     "execution_count": 19
    }
   ],
   "source": [
    "type(a[0])"
   ]
  },
  {
   "cell_type": "markdown",
   "id": "hybrid-cisco",
   "metadata": {},
   "source": [
    "Te dane możemy skonwertować do data frame"
   ]
  },
  {
   "cell_type": "code",
   "execution_count": 20,
   "id": "taken-plane",
   "metadata": {},
   "outputs": [
    {
     "output_type": "execute_result",
     "data": {
      "text/plain": [
       "       0    1    2    3    4\n",
       "0    5.1  3.5  1.4  0.2  0.0\n",
       "1    4.9  3.0  1.4  0.2  0.0\n",
       "2    4.7  3.2  1.3  0.2  0.0\n",
       "3    4.6  3.1  1.5  0.2  0.0\n",
       "4    5.0  3.6  1.4  0.2  0.0\n",
       "..   ...  ...  ...  ...  ...\n",
       "145  6.7  3.0  5.2  2.3  2.0\n",
       "146  6.3  2.5  5.0  1.9  2.0\n",
       "147  6.5  3.0  5.2  2.0  2.0\n",
       "148  6.2  3.4  5.4  2.3  2.0\n",
       "149  5.9  3.0  5.1  1.8  2.0\n",
       "\n",
       "[150 rows x 5 columns]"
      ],
      "text/html": "<div>\n<style scoped>\n    .dataframe tbody tr th:only-of-type {\n        vertical-align: middle;\n    }\n\n    .dataframe tbody tr th {\n        vertical-align: top;\n    }\n\n    .dataframe thead th {\n        text-align: right;\n    }\n</style>\n<table border=\"1\" class=\"dataframe\">\n  <thead>\n    <tr style=\"text-align: right;\">\n      <th></th>\n      <th>0</th>\n      <th>1</th>\n      <th>2</th>\n      <th>3</th>\n      <th>4</th>\n    </tr>\n  </thead>\n  <tbody>\n    <tr>\n      <th>0</th>\n      <td>5.1</td>\n      <td>3.5</td>\n      <td>1.4</td>\n      <td>0.2</td>\n      <td>0.0</td>\n    </tr>\n    <tr>\n      <th>1</th>\n      <td>4.9</td>\n      <td>3.0</td>\n      <td>1.4</td>\n      <td>0.2</td>\n      <td>0.0</td>\n    </tr>\n    <tr>\n      <th>2</th>\n      <td>4.7</td>\n      <td>3.2</td>\n      <td>1.3</td>\n      <td>0.2</td>\n      <td>0.0</td>\n    </tr>\n    <tr>\n      <th>3</th>\n      <td>4.6</td>\n      <td>3.1</td>\n      <td>1.5</td>\n      <td>0.2</td>\n      <td>0.0</td>\n    </tr>\n    <tr>\n      <th>4</th>\n      <td>5.0</td>\n      <td>3.6</td>\n      <td>1.4</td>\n      <td>0.2</td>\n      <td>0.0</td>\n    </tr>\n    <tr>\n      <th>...</th>\n      <td>...</td>\n      <td>...</td>\n      <td>...</td>\n      <td>...</td>\n      <td>...</td>\n    </tr>\n    <tr>\n      <th>145</th>\n      <td>6.7</td>\n      <td>3.0</td>\n      <td>5.2</td>\n      <td>2.3</td>\n      <td>2.0</td>\n    </tr>\n    <tr>\n      <th>146</th>\n      <td>6.3</td>\n      <td>2.5</td>\n      <td>5.0</td>\n      <td>1.9</td>\n      <td>2.0</td>\n    </tr>\n    <tr>\n      <th>147</th>\n      <td>6.5</td>\n      <td>3.0</td>\n      <td>5.2</td>\n      <td>2.0</td>\n      <td>2.0</td>\n    </tr>\n    <tr>\n      <th>148</th>\n      <td>6.2</td>\n      <td>3.4</td>\n      <td>5.4</td>\n      <td>2.3</td>\n      <td>2.0</td>\n    </tr>\n    <tr>\n      <th>149</th>\n      <td>5.9</td>\n      <td>3.0</td>\n      <td>5.1</td>\n      <td>1.8</td>\n      <td>2.0</td>\n    </tr>\n  </tbody>\n</table>\n<p>150 rows × 5 columns</p>\n</div>"
     },
     "metadata": {},
     "execution_count": 20
    }
   ],
   "source": [
    "pd.DataFrame(a)"
   ]
  },
  {
   "cell_type": "code",
   "execution_count": 21,
   "id": "welcome-poultry",
   "metadata": {},
   "outputs": [
    {
     "output_type": "execute_result",
     "data": {
      "text/plain": [
       "     name\n",
       "0  User 1\n",
       "1  User 2\n",
       "2  User 3"
      ],
      "text/html": "<div>\n<style scoped>\n    .dataframe tbody tr th:only-of-type {\n        vertical-align: middle;\n    }\n\n    .dataframe tbody tr th {\n        vertical-align: top;\n    }\n\n    .dataframe thead th {\n        text-align: right;\n    }\n</style>\n<table border=\"1\" class=\"dataframe\">\n  <thead>\n    <tr style=\"text-align: right;\">\n      <th></th>\n      <th>name</th>\n    </tr>\n  </thead>\n  <tbody>\n    <tr>\n      <th>0</th>\n      <td>User 1</td>\n    </tr>\n    <tr>\n      <th>1</th>\n      <td>User 2</td>\n    </tr>\n    <tr>\n      <th>2</th>\n      <td>User 3</td>\n    </tr>\n  </tbody>\n</table>\n</div>"
     },
     "metadata": {},
     "execution_count": 21
    }
   ],
   "source": [
    "df2 = pd.DataFrame({'name' : ['User 1', 'User 2', 'User 3']})\n",
    "df2"
   ]
  },
  {
   "cell_type": "code",
   "execution_count": 23,
   "id": "broadband-prize",
   "metadata": {},
   "outputs": [
    {
     "output_type": "execute_result",
     "data": {
      "text/plain": [
       "[(0, 'User 1'), (1, 'User 2'), (2, 'User 3')]"
      ]
     },
     "metadata": {},
     "execution_count": 23
    }
   ],
   "source": [
    "df2.to_sql('users', con=engine, if_exists=\"replace\",index=True)\n",
    "engine.execute(\"SELECT * FROM users\").fetchall()"
   ]
  },
  {
   "cell_type": "code",
   "execution_count": 24,
   "id": "suspected-connecticut",
   "metadata": {},
   "outputs": [],
   "source": [
    "df3 = pd.DataFrame({'name' : ['User 6', 'User 7']})\n",
    "df3.to_sql('users', con=engine, if_exists='append')"
   ]
  },
  {
   "cell_type": "code",
   "execution_count": 25,
   "id": "explicit-ambassador",
   "metadata": {
    "scrolled": true
   },
   "outputs": [
    {
     "output_type": "execute_result",
     "data": {
      "text/plain": [
       "[(0, 'User 1'), (1, 'User 2'), (2, 'User 3'), (0, 'User 6'), (1, 'User 7')]"
      ]
     },
     "metadata": {},
     "execution_count": 25
    }
   ],
   "source": [
    "engine.execute(\"SELECT * FROM users\").fetchall()"
   ]
  },
  {
   "cell_type": "code",
   "execution_count": 26,
   "id": "chicken-artwork",
   "metadata": {},
   "outputs": [],
   "source": [
    "from sqlalchemy import create_engine\n",
    "from sqlalchemy import Column, String, Integer\n",
    "from sqlalchemy.ext.declarative import declarative_base\n",
    "from sqlalchemy.orm import sessionmaker"
   ]
  },
  {
   "cell_type": "code",
   "execution_count": 27,
   "id": "forbidden-imagination",
   "metadata": {},
   "outputs": [],
   "source": [
    "engine = create_engine('sqlite:///irysy2.db')\n",
    "base = declarative_base()"
   ]
  },
  {
   "cell_type": "code",
   "execution_count": 28,
   "id": "accompanied-capacity",
   "metadata": {},
   "outputs": [
    {
     "output_type": "execute_result",
     "data": {
      "text/plain": [
       "sqlalchemy.orm.decl_api.DeclarativeMeta"
      ]
     },
     "metadata": {},
     "execution_count": 28
    }
   ],
   "source": [
    "type(base)"
   ]
  },
  {
   "cell_type": "code",
   "execution_count": 29,
   "id": "detailed-publisher",
   "metadata": {
    "scrolled": true
   },
   "outputs": [],
   "source": [
    "class Transakcje(base):\n",
    "    \n",
    "    __tablename__ = 'transakcje'\n",
    "    \n",
    "    transakcja_id = Column(Integer, primary_key=True)\n",
    "    data = Column(String)\n",
    "    przedmiot_id = Column(Integer)\n",
    "    cena = Column(Integer)\n",
    "    \n",
    "    def __init__(self, transakcja_id, data, przedmiot_id, cena):\n",
    "        self.transakcja_id = transakcja_id\n",
    "        self.data = data\n",
    "        self.przedmiot_id = przedmiot_id\n",
    "        self.cena = cena"
   ]
  },
  {
   "cell_type": "code",
   "execution_count": 30,
   "id": "optional-steal",
   "metadata": {},
   "outputs": [],
   "source": [
    "class Kwiaty(base):\n",
    "    \n",
    "    __tablename__ = 'irysy'\n",
    "    \n",
    "    kwiat_id   = Column(Integer, primary_key=True)\n",
    "    dzial_dlug = Column(Integer)\n",
    "    dzial_szer = Column(Integer)\n",
    "    plat_dlug  = Column(Integer)\n",
    "    plat_szer  = Column(Integer)\n",
    "    \n",
    "    def __init__(self, kwiat_id, dzial_dlug, dzial_szer, plat_dlug, plat_szer):\n",
    "        self.kwiat_id = kwiat_id\n",
    "        self.dzial_dlug = dzial_dlug\n",
    "        self.dzial_szer = dzial_szer\n",
    "        self.plat_dlug = plat_dlug\n",
    "        self.plat_szer = plat_szer"
   ]
  },
  {
   "cell_type": "code",
   "execution_count": 31,
   "id": "indie-orlando",
   "metadata": {},
   "outputs": [],
   "source": [
    "# tworzenie tabel\n",
    "base.metadata.create_all(engine)"
   ]
  },
  {
   "cell_type": "code",
   "execution_count": 32,
   "id": "faced-capital",
   "metadata": {},
   "outputs": [],
   "source": [
    "from sqlalchemy.orm import sessionmaker\n",
    "# Stworzenie nowej sesji\n",
    "Session = sessionmaker(bind=engine)\n",
    "session = Session()\n",
    "# dodanie danych\n",
    "for t in range(10):\n",
    "    tr = Transakcje(t, f'200{t}/05/06', t**2-t*2, 19)\n",
    "    session.add(tr)\n",
    "# zapis zmian w bazie danych\n",
    "session.commit()"
   ]
  },
  {
   "cell_type": "code",
   "execution_count": 33,
   "id": "communist-mechanism",
   "metadata": {},
   "outputs": [],
   "source": [
    "Session = sessionmaker(bind=engine)\n",
    "session = Session()\n",
    "# dodanie danych\n",
    "for t in range(df.shape[0]):\n",
    "    tr = Kwiaty(t, df.iloc[t,0], df.iloc[t,1], df.iloc[t,2],df.iloc[t,3])\n",
    "    session.add(tr)\n",
    "# zapis zmian w bazie danych\n",
    "session.commit()"
   ]
  },
  {
   "cell_type": "code",
   "execution_count": 37,
   "id": "signed-equality",
   "metadata": {
    "scrolled": true
   },
   "outputs": [],
   "source": [
    "# engine.execute(\"SELECT * FROM irysy\").fetchall()"
   ]
  },
  {
   "cell_type": "code",
   "execution_count": 35,
   "id": "micro-quest",
   "metadata": {},
   "outputs": [
    {
     "output_type": "execute_result",
     "data": {
      "text/plain": [
       "[(0, '2000/05/06', 0, 19),\n",
       " (1, '2001/05/06', -1, 19),\n",
       " (2, '2002/05/06', 0, 19),\n",
       " (3, '2003/05/06', 3, 19),\n",
       " (4, '2004/05/06', 8, 19),\n",
       " (5, '2005/05/06', 15, 19),\n",
       " (6, '2006/05/06', 24, 19),\n",
       " (7, '2007/05/06', 35, 19),\n",
       " (8, '2008/05/06', 48, 19),\n",
       " (9, '2009/05/06', 63, 19)]"
      ]
     },
     "metadata": {},
     "execution_count": 35
    }
   ],
   "source": [
    "engine.execute(\"SELECT * FROM Transakcje\").fetchall()"
   ]
  },
  {
   "cell_type": "code",
   "execution_count": 36,
   "id": "operational-compact",
   "metadata": {},
   "outputs": [
    {
     "output_type": "execute_result",
     "data": {
      "text/plain": [
       "[(0, '2000/05/06', 0, 19),\n",
       " (1, '2001/05/06', -1, 19),\n",
       " (2, '2002/05/06', 0, 19),\n",
       " (3, '2003/05/06', 3, 19),\n",
       " (4, '2004/05/06', 8, 19),\n",
       " (5, '2005/05/06', 15, 19),\n",
       " (6, '2006/05/06', 24, 19),\n",
       " (7, '2007/05/06', 35, 19),\n",
       " (8, '2008/05/06', 48, 19),\n",
       " (9, '2009/05/06', 63, 19)]"
      ]
     },
     "metadata": {},
     "execution_count": 36
    }
   ],
   "source": [
    "engine.execute(\"SELECT * FROM transakcje\").fetchall()"
   ]
  },
  {
   "cell_type": "code",
   "execution_count": 38,
   "id": "broadband-emerald",
   "metadata": {},
   "outputs": [
    {
     "output_type": "stream",
     "name": "stdout",
     "text": [
      "0 2000/05/06\n1 2001/05/06\n2 2002/05/06\n3 2003/05/06\n4 2004/05/06\n5 2005/05/06\n6 2006/05/06\n7 2007/05/06\n8 2008/05/06\n9 2009/05/06\n"
     ]
    }
   ],
   "source": [
    "# wszystkie dane\n",
    "for s in session.query(Transakcje).all():\n",
    "    print(s.transakcja_id, s.data)"
   ]
  },
  {
   "cell_type": "code",
   "execution_count": 39,
   "id": "improving-criterion",
   "metadata": {},
   "outputs": [
    {
     "output_type": "stream",
     "name": "stdout",
     "text": [
      "6 2006/05/06\n7 2007/05/06\n8 2008/05/06\n9 2009/05/06\n"
     ]
    }
   ],
   "source": [
    "# wybrane transakcje\n",
    "for s in session.query(Transakcje).filter(Transakcje.transakcja_id>5):\n",
    "    print(s.transakcja_id, s.data)"
   ]
  },
  {
   "cell_type": "code",
   "execution_count": 40,
   "id": "extra-cable",
   "metadata": {
    "scrolled": true
   },
   "outputs": [
    {
     "output_type": "stream",
     "name": "stdout",
     "text": [
      "0 5.1\n5 5.4\n10 5.4\n14 5.8\n15 5.7\n16 5.4\n17 5.1\n18 5.7\n19 5.1\n20 5.4\n21 5.1\n23 5.1\n27 5.2\n28 5.2\n31 5.4\n32 5.2\n33 5.5\n36 5.5\n39 5.1\n44 5.1\n46 5.1\n48 5.3\n50 7\n51 6.4\n52 6.9\n53 5.5\n54 6.5\n55 5.7\n56 6.3\n58 6.6\n59 5.2\n61 5.9\n62 6\n63 6.1\n64 5.6\n65 6.7\n66 5.6\n67 5.8\n68 6.2\n69 5.6\n70 5.9\n71 6.1\n72 6.3\n73 6.1\n74 6.4\n75 6.6\n76 6.8\n77 6.7\n78 6\n79 5.7\n80 5.5\n81 5.5\n82 5.8\n83 6\n84 5.4\n85 6\n86 6.7\n87 6.3\n88 5.6\n89 5.5\n90 5.5\n91 6.1\n92 5.8\n94 5.6\n95 5.7\n96 5.7\n97 6.2\n98 5.1\n99 5.7\n100 6.3\n101 5.8\n102 7.1\n103 6.3\n104 6.5\n105 7.6\n107 7.3\n108 6.7\n109 7.2\n110 6.5\n111 6.4\n112 6.8\n113 5.7\n114 5.8\n115 6.4\n116 6.5\n117 7.7\n118 7.7\n119 6\n120 6.9\n121 5.6\n122 7.7\n123 6.3\n124 6.7\n125 7.2\n126 6.2\n127 6.1\n128 6.4\n129 7.2\n130 7.4\n131 7.9\n132 6.4\n133 6.3\n134 6.1\n135 7.7\n136 6.3\n137 6.4\n138 6\n139 6.9\n140 6.7\n141 6.9\n142 5.8\n143 6.8\n144 6.7\n145 6.7\n146 6.3\n147 6.5\n148 6.2\n149 5.9\n"
     ]
    }
   ],
   "source": [
    "# wybrane Kwiaty\n",
    "for s in session.query(Kwiaty).filter(Kwiaty.dzial_dlug>5):\n",
    "    print(s.kwiat_id, s.dzial_dlug)"
   ]
  },
  {
   "cell_type": "code",
   "execution_count": 46,
   "id": "sunset-vanilla",
   "metadata": {},
   "outputs": [],
   "source": [
    "import json"
   ]
  },
  {
   "cell_type": "markdown",
   "id": "hairy-representation",
   "metadata": {},
   "source": [
    "JSON - Java Script Object Notation (ale w żaden sposób nie jest połączony z Java Scriptem czy żadnym innym językiem).  \n",
    "JSON to sposób na lekki format wymiany danych.  \n",
    "W JSON są czyste dane, nie ma tam jakichś zmiennych czy fukncji. Popularyazcja jego nastąpiła od mniej więcej 2001. Teraz jest używanie prawie, że domyślnie do wymiany danych między aplikacjami."
   ]
  },
  {
   "cell_type": "code",
   "execution_count": 47,
   "id": "apart-governor",
   "metadata": {},
   "outputs": [],
   "source": [
    "from IPython.display import HTML\n",
    "from IPython.display import Image"
   ]
  },
  {
   "cell_type": "code",
   "execution_count": 48,
   "id": "cutting-plymouth",
   "metadata": {},
   "outputs": [
    {
     "output_type": "execute_result",
     "data": {
      "text/plain": [
       "<IPython.core.display.HTML object>"
      ],
      "text/html": "<iframe width=\"560\" height=\"315\" src=\"https://www.youtube.com/embed/haYYypSnOTY\" title=\"YouTube video player\" frameborder=\"0\" allow=\"accelerometer; autoplay; clipboard-write; encrypted-media; gyroscope; picture-in-picture\" allowfullscreen></iframe>"
     },
     "metadata": {},
     "execution_count": 48
    }
   ],
   "source": [
    "HTML('<iframe width=\"560\" height=\"315\" src=\"https://www.youtube.com/embed/haYYypSnOTY\" title=\"YouTube video player\" frameborder=\"0\" allow=\"accelerometer; autoplay; clipboard-write; encrypted-media; gyroscope; picture-in-picture\" allowfullscreen></iframe>')"
   ]
  },
  {
   "cell_type": "code",
   "execution_count": 49,
   "id": "immune-royalty",
   "metadata": {},
   "outputs": [
    {
     "output_type": "execute_result",
     "data": {
      "text/plain": [
       "str"
      ]
     },
     "metadata": {},
     "execution_count": 49
    }
   ],
   "source": [
    "person = '{\"name\": \"Bob\", \"languages\": [\"English\", \"French\"]}'\n",
    "type(person)"
   ]
  },
  {
   "cell_type": "code",
   "execution_count": 50,
   "id": "smart-knight",
   "metadata": {},
   "outputs": [
    {
     "output_type": "execute_result",
     "data": {
      "text/plain": [
       "'{\"name\": \"Bob\", \"languages\": [\"English\", \"French\"]}'"
      ]
     },
     "metadata": {},
     "execution_count": 50
    }
   ],
   "source": [
    "person"
   ]
  },
  {
   "cell_type": "code",
   "execution_count": 51,
   "id": "answering-modeling",
   "metadata": {},
   "outputs": [
    {
     "output_type": "stream",
     "name": "stdout",
     "text": [
      "{'name': 'Bob', 'languages': ['English', 'French']}\n['English', 'French']\n"
     ]
    }
   ],
   "source": [
    "person_dict = json.loads(person)\n",
    "\n",
    "# Output: {'name': 'Bob', 'languages': ['English', 'Fench']}\n",
    "print(person_dict)\n",
    "\n",
    "# Output: ['English', 'French']\n",
    "print(person_dict['languages'])"
   ]
  },
  {
   "cell_type": "code",
   "execution_count": 52,
   "id": "scenic-clone",
   "metadata": {},
   "outputs": [
    {
     "output_type": "execute_result",
     "data": {
      "text/plain": [
       "{'name': 'Bob', 'languages': ['English', 'French']}"
      ]
     },
     "metadata": {},
     "execution_count": 52
    }
   ],
   "source": [
    "person_dict"
   ]
  },
  {
   "cell_type": "code",
   "execution_count": 53,
   "id": "verified-allah",
   "metadata": {},
   "outputs": [
    {
     "output_type": "execute_result",
     "data": {
      "text/plain": [
       "dict"
      ]
     },
     "metadata": {},
     "execution_count": 53
    }
   ],
   "source": [
    "type(person_dict)"
   ]
  },
  {
   "cell_type": "code",
   "execution_count": 54,
   "id": "emotional-trader",
   "metadata": {},
   "outputs": [
    {
     "output_type": "stream",
     "name": "stdout",
     "text": [
      "Writing test5.json\n"
     ]
    }
   ],
   "source": [
    "%%file test5.json\n",
    "\n",
    "\n",
    "{\"name\": \"Bob\", \n",
    "\"languages\": [\"English\", \"French\"]\n",
    "}"
   ]
  },
  {
   "cell_type": "code",
   "execution_count": 55,
   "id": "swiss-proposition",
   "metadata": {},
   "outputs": [
    {
     "output_type": "stream",
     "name": "stdout",
     "text": [
      "{'name': 'Bob', 'languages': ['English', 'French']}\n"
     ]
    }
   ],
   "source": [
    "with open('test5.json') as f:\n",
    "    data = json.load(f)\n",
    "\n",
    "# Output: {'name': 'Bob', 'languages': ['English', 'Fench']}\n",
    "print(data)"
   ]
  },
  {
   "cell_type": "code",
   "execution_count": 56,
   "id": "activated-replica",
   "metadata": {},
   "outputs": [
    {
     "output_type": "execute_result",
     "data": {
      "text/plain": [
       "dict"
      ]
     },
     "metadata": {},
     "execution_count": 56
    }
   ],
   "source": [
    "type(data)"
   ]
  },
  {
   "cell_type": "code",
   "execution_count": 57,
   "id": "plastic-irrigation",
   "metadata": {},
   "outputs": [
    {
     "output_type": "execute_result",
     "data": {
      "text/plain": [
       "'Bob'"
      ]
     },
     "metadata": {},
     "execution_count": 57
    }
   ],
   "source": [
    "data['name']"
   ]
  },
  {
   "cell_type": "code",
   "execution_count": 58,
   "id": "crude-philippines",
   "metadata": {},
   "outputs": [
    {
     "output_type": "execute_result",
     "data": {
      "text/plain": [
       "['English', 'French']"
      ]
     },
     "metadata": {},
     "execution_count": 58
    }
   ],
   "source": [
    "data['languages']"
   ]
  },
  {
   "cell_type": "code",
   "execution_count": 59,
   "id": "existing-kennedy",
   "metadata": {},
   "outputs": [
    {
     "output_type": "stream",
     "name": "stdout",
     "text": [
      "{\"name\": \"Bob\", \"age\": 12, \"children\": null}\n"
     ]
    }
   ],
   "source": [
    "person_dict = {'name': 'Bob',\n",
    "'age': 12,\n",
    "'children': None\n",
    "}\n",
    "\n",
    "person_json = json.dumps(person_dict)\n",
    "print(person_json)"
   ]
  },
  {
   "cell_type": "code",
   "execution_count": 60,
   "id": "designed-savannah",
   "metadata": {},
   "outputs": [],
   "source": [
    "with open('person2.json', 'w') as json_file:\n",
    "    json.dump(person_dict, json_file)"
   ]
  },
  {
   "cell_type": "code",
   "execution_count": 61,
   "id": "collectible-guarantee",
   "metadata": {},
   "outputs": [
    {
     "output_type": "stream",
     "name": "stdout",
     "text": [
      "{\n    \"age\": 12,\n    \"children\": null,\n    \"name\": \"Bob\"\n}\n"
     ]
    }
   ],
   "source": [
    "print(json.dumps(person_dict, indent = 4, sort_keys=True))"
   ]
  },
  {
   "cell_type": "code",
   "execution_count": 63,
   "id": "included-nashville",
   "metadata": {},
   "outputs": [],
   "source": [
    "# !pip install flask\n",
    "# !pip install flask_restful\n",
    "# !pip install flask_jsonpify"
   ]
  },
  {
   "cell_type": "code",
   "execution_count": 64,
   "id": "grateful-spyware",
   "metadata": {},
   "outputs": [],
   "source": [
    "from flask import Flask, request\n",
    "from flask_restful import Resource, Api\n",
    "from flask_jsonpify import jsonify"
   ]
  },
  {
   "cell_type": "code",
   "execution_count": 65,
   "id": "cellular-means",
   "metadata": {},
   "outputs": [],
   "source": [
    "app  = Flask(__name__)\n",
    "api = Api(app)\n",
    "\n",
    "@app.route('/')\n",
    "@app.route('/index')\n",
    "def home():\n",
    "    #return render_template('home.html')\n",
    "    return \"Strona poczatkowa\"\n",
    "\n",
    "@app.route('/hello/<name>')\n",
    "def success(name):\n",
    "    return f'<h1>{name}</h1>'"
   ]
  },
  {
   "cell_type": "code",
   "execution_count": 66,
   "id": "breeding-partner",
   "metadata": {},
   "outputs": [],
   "source": [
    "class Main(Resource):\n",
    "    def get(self):\n",
    "        return jsonify(\"Hello world\")"
   ]
  },
  {
   "cell_type": "code",
   "execution_count": 67,
   "id": "turned-handling",
   "metadata": {},
   "outputs": [],
   "source": [
    "api.add_resource(Main,'/test')"
   ]
  },
  {
   "cell_type": "code",
   "execution_count": 68,
   "id": "broad-arcade",
   "metadata": {},
   "outputs": [],
   "source": [
    "class Irys(Resource):\n",
    "    \n",
    "    def get(self):\n",
    "        conn=engine.connect()\n",
    "        query = conn.execute('select * from irysy')\n",
    "        result = {'dane':[i for i in query.cursor.fetchall()]}\n",
    "        return jsonify(result)"
   ]
  },
  {
   "cell_type": "code",
   "execution_count": 69,
   "id": "professional-referral",
   "metadata": {},
   "outputs": [],
   "source": [
    "api.add_resource(Irys, '/irys')"
   ]
  },
  {
   "cell_type": "code",
   "execution_count": 70,
   "id": "baking-semester",
   "metadata": {},
   "outputs": [
    {
     "output_type": "stream",
     "name": "stdout",
     "text": [
      " * Serving Flask app \"__main__\" (lazy loading)\n",
      " * Environment: production\n",
      "   WARNING: This is a development server. Do not use it in a production deployment.\n",
      "   Use a production WSGI server instead.\n",
      " * Debug mode: off\n",
      " * Running on http://127.0.0.1:5002/ (Press CTRL+C to quit)\n",
      "127.0.0.1 - - [27/Apr/2021 15:23:48] \"\u001b[37mGET / HTTP/1.1\u001b[0m\" 200 -\n",
      "127.0.0.1 - - [27/Apr/2021 15:23:49] \"\u001b[33mGET /favicon.ico HTTP/1.1\u001b[0m\" 404 -\n",
      "127.0.0.1 - - [27/Apr/2021 15:24:32] \"\u001b[33mGET /f HTTP/1.1\u001b[0m\" 404 -\n"
     ]
    }
   ],
   "source": [
    "app.run(port='5002')"
   ]
  },
  {
   "cell_type": "code",
   "execution_count": null,
   "metadata": {},
   "outputs": [],
   "source": []
  }
 ],
 "metadata": {
  "kernelspec": {
   "name": "python385jvsc74a57bd0ecf5722fdaf1897a315d257d89d94520bfcaa453217d5becf09b39e73618b0de",
   "display_name": "Python 3.8.5 64-bit (conda)"
  },
  "language_info": {
   "codemirror_mode": {
    "name": "ipython",
    "version": 3
   },
   "file_extension": ".py",
   "mimetype": "text/x-python",
   "name": "python",
   "nbconvert_exporter": "python",
   "pygments_lexer": "ipython3",
   "version": "3.8.5-final"
  }
 },
 "nbformat": 4,
 "nbformat_minor": 5
}