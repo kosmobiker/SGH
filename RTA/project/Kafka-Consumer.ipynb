{
 "cells": [
  {
   "cell_type": "code",
   "execution_count": 1,
   "id": "hydraulic-kansas",
   "metadata": {},
   "outputs": [],
   "source": [
    "#import bibliotek\n",
    "from kafka import KafkaConsumer\n",
    "import ast\n",
    "import time\n",
    "from csv import DictWriter\n",
    "import uuid"
   ]
  },
  {
   "cell_type": "code",
   "execution_count": 2,
   "id": "chubby-safety",
   "metadata": {},
   "outputs": [],
   "source": [
    "topic = 'quickstart-events'\n",
    "field_names = ['id', 'name', 'age', 'job', 'marital', 'education', 'default', 'housing', 'loan']\n",
    "consumer = KafkaConsumer(topic, bootstrap_servers=['127.0.0.1:9092'])"
   ]
  },
  {
   "cell_type": "code",
   "execution_count": 3,
   "id": "bacterial-scoop",
   "metadata": {},
   "outputs": [],
   "source": [
    "#funkcja do przetworzania slownika w wiersze \n",
    "\n",
    "def append_dict_as_row(file_name, dict_of_elem, field_names):\n",
    "    # Open file in append mode\n",
    "    with open(file_name, 'a+', newline='') as write_obj:\n",
    "        # Create a writer object from csv module\n",
    "        dict_writer = DictWriter(write_obj, fieldnames=field_names)\n",
    "        # Add dictionary as wor in the csv\n",
    "        dict_writer.writerow(dict_of_elem)"
   ]
  },
  {
   "cell_type": "code",
   "execution_count": null,
   "id": "multiple-significance",
   "metadata": {},
   "outputs": [
    {
     "name": "stdout",
     "output_type": "stream",
     "text": [
      "b'{\"name\": \"Karol Duda\", \"age\": \"30\", \"job\": \"entrepreneur\", \"marital\": \"married\", \"education\": \"high.school\", \"default\": \"no\", \"housing\": \"no\", \"loan\": \"no\"}'\n",
      "b'{\"name\": \"Peter Green\", \"age\": \"45\", \"job\": \"entrepreneur\", \"marital\": \"divorced\", \"education\": \"university.degree\", \"default\": \"no\", \"housing\": \"yes\", \"loan\": \"no\"}'\n",
      "b'{\"name\": \"Lence Doe-Marrow\", \"age\": \"28\", \"job\": \"management\", \"marital\": \"divorced\", \"education\": \"university.degree\", \"default\": \"yes\", \"housing\": \"yes\", \"loan\": \"yes\"}'\n",
      "b'{\"name\": \"Test_user\", \"age\": \"23\", \"job\": \"management\", \"marital\": \"divorced\", \"education\": \"university.degree\", \"default\": \"no\", \"housing\": \"no\", \"loan\": \"no\"}'\n"
     ]
    }
   ],
   "source": [
    "for message in consumer:\n",
    "    print(message.value)\n",
    "    dict_str = message.value.decode(\"UTF-8\")\n",
    "    temp = ast.literal_eval(dict_str)\n",
    "    temp['id'] = uuid.uuid4()\n",
    "    append_dict_as_row('clients.csv', temp, field_names)\n",
    "    time.sleep(4)"
   ]
  },
  {
   "cell_type": "code",
   "execution_count": null,
   "id": "peaceful-botswana",
   "metadata": {},
   "outputs": [],
   "source": []
  }
 ],
 "metadata": {
  "kernelspec": {
   "display_name": "Python 3",
   "language": "python",
   "name": "python3"
  },
  "language_info": {
   "codemirror_mode": {
    "name": "ipython",
    "version": 3
   },
   "file_extension": ".py",
   "mimetype": "text/x-python",
   "name": "python",
   "nbconvert_exporter": "python",
   "pygments_lexer": "ipython3",
   "version": "3.8.8"
  }
 },
 "nbformat": 4,
 "nbformat_minor": 5
}
