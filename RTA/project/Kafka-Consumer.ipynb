{
 "cells": [
  {
   "cell_type": "code",
   "execution_count": 1,
   "id": "covered-argentina",
   "metadata": {},
   "outputs": [],
   "source": [
    "#!pip install kafka-python"
   ]
  },
  {
   "cell_type": "code",
   "execution_count": 1,
   "id": "mineral-arthritis",
   "metadata": {},
   "outputs": [],
   "source": [
    "#import bibliotek\n",
    "from kafka import KafkaConsumer\n",
    "import ast\n",
    "import time\n",
    "from csv import DictWriter\n",
    "import uuid\n",
    "import pickle\n",
    "from sklearn.tree import DecisionTreeClassifier\n",
    "from sklearn.preprocessing import OneHotEncoder\n",
    "import pandas as pd\n",
    "import numpy as np"
   ]
  },
  {
   "cell_type": "code",
   "execution_count": 2,
   "id": "whole-smell",
   "metadata": {},
   "outputs": [],
   "source": [
    "# topic = 'quickstart-events'\n",
    "# field_names = ['id', 'name', 'age', 'job', 'marital', 'education', 'default', 'housing', 'loan', 'deposit']\n",
    "# consumer = KafkaConsumer(topic, bootstrap_servers=['127.0.0.1:9092'])"
   ]
  },
  {
   "cell_type": "code",
   "execution_count": 3,
   "id": "flush-bryan",
   "metadata": {},
   "outputs": [],
   "source": [
    "topic = 'supertest'\n",
    "field_names = ['id', 'name', 'age', 'job', 'marital', 'education', 'default', 'housing', 'loan', 'deposit']\n",
    "consumer = KafkaConsumer(topic, bootstrap_servers=['ec2-34-237-48-233.compute-1.amazonaws.com:9092'])"
   ]
  },
  {
   "cell_type": "code",
   "execution_count": 4,
   "id": "smart-childhood",
   "metadata": {},
   "outputs": [],
   "source": [
    "#import modelu\n",
    "loaded_model = pickle.load(open('predict_model.sav', 'rb'))\n",
    "enc = pickle.load(open('encoder.sav', 'rb'))"
   ]
  },
  {
   "cell_type": "code",
   "execution_count": 5,
   "id": "empirical-alpha",
   "metadata": {},
   "outputs": [],
   "source": [
    "col1 = ['job', 'marital', 'education', 'default', 'housing', 'loan']"
   ]
  },
  {
   "cell_type": "code",
   "execution_count": 6,
   "id": "foreign-rocket",
   "metadata": {},
   "outputs": [],
   "source": [
    "#funkcja do przetworzania slownika w wiersze \n",
    "\n",
    "def append_dict_as_row(file_name, dict_of_elem, field_names):\n",
    "    # Open file in append mode\n",
    "    with open(file_name, 'a+', newline='') as write_obj:\n",
    "        # Create a writer object from csv module\n",
    "        dict_writer = DictWriter(write_obj, fieldnames=field_names)\n",
    "        # Add dictionary as wor in the csv\n",
    "        dict_writer.writerow(dict_of_elem)"
   ]
  },
  {
   "cell_type": "code",
   "execution_count": null,
   "id": "convenient-detective",
   "metadata": {},
   "outputs": [
    {
     "name": "stdout",
     "output_type": "stream",
     "text": [
      "b'{\"name\": \"Karol Duda\", \"age\": \"30\", \"job\": \"entrepreneur\", \"marital\": \"married\", \"education\": \"high.school\", \"default\": \"no\", \"housing\": \"no\", \"loan\": \"no\"}'\n",
      "b'{\"name\": \"Peter Green\", \"age\": \"45\", \"job\": \"entrepreneur\", \"marital\": \"divorced\", \"education\": \"university.degree\", \"default\": \"no\", \"housing\": \"yes\", \"loan\": \"no\"}'\n",
      "b'{\"name\": \"John Doe\", \"age\": \"28\", \"job\": \"management\", \"marital\": \"single\", \"education\": \"university.degree\", \"default\": \"yes\", \"housing\": \"yes\", \"loan\": \"yes\"}'\n",
      "b'{\"name\": \"John Rambo\", \"age\": \"74\", \"job\": \"retired\", \"marital\": \"divorced\", \"education\": \"unknown\", \"default\": \"no\", \"housing\": \"yes\", \"loan\": \"yes\"}'\n",
      "b'{\"name\": \"Jan Kowalski\", \"age\": \"22\", \"job\": \"retired\", \"marital\": \"divorced\", \"education\": \"unknown\", \"default\": \"no\", \"housing\": \"no\", \"loan\": \"yes\"}'\n",
      "b'{\"name\": \"Adam Duda\", \"age\": \"88\", \"job\": \"entrepreneur\", \"marital\": \"married\", \"education\": \"high.school\", \"default\": \"no\", \"housing\": \"no\", \"loan\": \"no\"}'\n",
      "b'{\"name\": \"Benny Hill\", \"age\": \"80\", \"job\": \"retired\", \"marital\": \"married\", \"education\": \"unknown\", \"default\": \"no\", \"housing\": \"yes\", \"loan\": \"no\"}'\n",
      "b'{\"name\": \"Benny Hill\", \"age\": \"80\", \"job\": \"retired\", \"marital\": \"married\", \"education\": \"unknown\", \"default\": \"no\", \"housing\": \"yes\", \"loan\": \"no\"}'\n"
     ]
    }
   ],
   "source": [
    "for message in consumer:\n",
    "    print(message.value)\n",
    "    dict_str = message.value.decode(\"UTF-8\")\n",
    "    temp = ast.literal_eval(dict_str)\n",
    "    #prediction\n",
    "    temp['age'] = int(temp['age'])\n",
    "    temp_row = pd.Series(temp)[col1].to_numpy().reshape(1, -1)\n",
    "    X_temp = enc.transform(temp_row)\n",
    "    X_temp = np.append(X_temp, temp['age'])\n",
    "    temp['deposit'] = int(loaded_model.predict(X_temp.reshape(1, -1))) #przewidywanie etykiety klienta\n",
    "\n",
    "    temp['id'] = uuid.uuid4() #generowanie unikalnego identyfikatora \n",
    "    append_dict_as_row('clients2.csv', temp, field_names)\n",
    "    time.sleep(4)"
   ]
  },
  {
   "cell_type": "code",
   "execution_count": null,
   "id": "vietnamese-bandwidth",
   "metadata": {},
   "outputs": [],
   "source": []
  },
  {
   "cell_type": "code",
   "execution_count": null,
   "id": "endangered-given",
   "metadata": {},
   "outputs": [],
   "source": []
  }
 ],
 "metadata": {
  "interpreter": {
   "hash": "ecf5722fdaf1897a315d257d89d94520bfcaa453217d5becf09b39e73618b0de"
  },
  "kernelspec": {
   "display_name": "Python 3",
   "language": "python",
   "name": "python3"
  },
  "language_info": {
   "codemirror_mode": {
    "name": "ipython",
    "version": 3
   },
   "file_extension": ".py",
   "mimetype": "text/x-python",
   "name": "python",
   "nbconvert_exporter": "python",
   "pygments_lexer": "ipython3",
   "version": "3.8.10"
  }
 },
 "nbformat": 4,
 "nbformat_minor": 5
}
