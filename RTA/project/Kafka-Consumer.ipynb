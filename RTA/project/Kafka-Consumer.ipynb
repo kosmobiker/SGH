{
 "cells": [
  {
   "cell_type": "code",
   "execution_count": 27,
   "id": "gentle-legend",
   "metadata": {},
   "outputs": [],
   "source": [
    "#import bibliotek\n",
    "from kafka import KafkaConsumer\n",
    "import ast\n",
    "import time\n",
    "from csv import DictWriter\n",
    "import uuid"
   ]
  },
  {
   "cell_type": "code",
   "execution_count": 28,
   "id": "specialized-thousand",
   "metadata": {},
   "outputs": [],
   "source": [
    "topic = 'quickstart-events'\n",
    "field_names = ['id', 'name', 'age', 'job', 'marital', 'education', 'default', 'housing', 'loan']\n",
    "consumer = KafkaConsumer(topic, bootstrap_servers=['127.0.0.1:9092'])"
   ]
  },
  {
   "cell_type": "code",
   "execution_count": 29,
   "id": "refined-prescription",
   "metadata": {},
   "outputs": [],
   "source": [
    "#funkcja do przetworzania slownika w wiersze \n",
    "\n",
    "def append_dict_as_row(file_name, dict_of_elem, field_names):\n",
    "    # Open file in append mode\n",
    "    with open(file_name, 'a+', newline='') as write_obj:\n",
    "        # Create a writer object from csv module\n",
    "        dict_writer = DictWriter(write_obj, fieldnames=field_names)\n",
    "        # Add dictionary as wor in the csv\n",
    "        dict_writer.writerow(dict_of_elem)"
   ]
  },
  {
   "cell_type": "code",
   "execution_count": 30,
   "id": "surface-bryan",
   "metadata": {},
   "outputs": [
    {
     "name": "stdout",
     "output_type": "stream",
     "text": [
      "b'{\"name\": \"Grzegorz Brzeczyszczykiewicz\", \"age\": \"33\", \"job\": \"entrepreneur\", \"marital\": \"married\", \"education\": \"\\'high.school\", \"default\": \"yes\", \"housing\": \"yes\", \"loan\": \"no\"}'\n",
      "b'{\"name\": \"Jan Kowalski\", \"age\": \"55\", \"job\": \"entrepreneur\", \"marital\": \"divorced\", \"education\": \"\\'high.school\", \"default\": \"no\", \"housing\": \"yes\", \"loan\": \"no\"}'\n",
      "b'{\"name\": \"Jane Doe\", \"age\": \"28\", \"job\": \"management\", \"marital\": \"divorced\", \"education\": \"\\'university.degree\", \"default\": \"no\", \"housing\": \"yes\", \"loan\": \"yes\"}'\n",
      "b'{\"name\": \"Karol Duda\", \"age\": \"30\", \"job\": \"entrepreneur\", \"marital\": \"married\", \"education\": \"high.school\", \"default\": \"no\", \"housing\": \"no\", \"loan\": \"no\"}'\n",
      "b'{\"name\": \"Peter Green\", \"age\": \"45\", \"job\": \"entrepreneur\", \"marital\": \"divorced\", \"education\": \"university.degree\", \"default\": \"no\", \"housing\": \"yes\", \"loan\": \"no\"}'\n",
      "b'{\"name\": \"Lence Doe-Marrow\", \"age\": \"28\", \"job\": \"management\", \"marital\": \"divorced\", \"education\": \"university.degree\", \"default\": \"yes\", \"housing\": \"yes\", \"loan\": \"yes\"}'\n"
     ]
    },
    {
     "ename": "PermissionError",
     "evalue": "[Errno 13] Permission denied: 'clients.csv'",
     "output_type": "error",
     "traceback": [
      "\u001b[1;31m---------------------------------------------------------------------------\u001b[0m",
      "\u001b[1;31mPermissionError\u001b[0m                           Traceback (most recent call last)",
      "\u001b[1;32m<ipython-input-30-2edc2d4e1ef3>\u001b[0m in \u001b[0;36m<module>\u001b[1;34m\u001b[0m\n\u001b[0;32m      4\u001b[0m     \u001b[0mtemp\u001b[0m \u001b[1;33m=\u001b[0m \u001b[0mast\u001b[0m\u001b[1;33m.\u001b[0m\u001b[0mliteral_eval\u001b[0m\u001b[1;33m(\u001b[0m\u001b[0mdict_str\u001b[0m\u001b[1;33m)\u001b[0m\u001b[1;33m\u001b[0m\u001b[1;33m\u001b[0m\u001b[0m\n\u001b[0;32m      5\u001b[0m     \u001b[0mtemp\u001b[0m\u001b[1;33m[\u001b[0m\u001b[1;34m'id'\u001b[0m\u001b[1;33m]\u001b[0m \u001b[1;33m=\u001b[0m \u001b[0muuid\u001b[0m\u001b[1;33m.\u001b[0m\u001b[0muuid4\u001b[0m\u001b[1;33m(\u001b[0m\u001b[1;33m)\u001b[0m\u001b[1;33m\u001b[0m\u001b[1;33m\u001b[0m\u001b[0m\n\u001b[1;32m----> 6\u001b[1;33m     \u001b[0mappend_dict_as_row\u001b[0m\u001b[1;33m(\u001b[0m\u001b[1;34m'clients.csv'\u001b[0m\u001b[1;33m,\u001b[0m \u001b[0mtemp\u001b[0m\u001b[1;33m,\u001b[0m \u001b[0mfield_names\u001b[0m\u001b[1;33m)\u001b[0m\u001b[1;33m\u001b[0m\u001b[1;33m\u001b[0m\u001b[0m\n\u001b[0m\u001b[0;32m      7\u001b[0m     \u001b[0mtime\u001b[0m\u001b[1;33m.\u001b[0m\u001b[0msleep\u001b[0m\u001b[1;33m(\u001b[0m\u001b[1;36m4\u001b[0m\u001b[1;33m)\u001b[0m\u001b[1;33m\u001b[0m\u001b[1;33m\u001b[0m\u001b[0m\n",
      "\u001b[1;32m<ipython-input-29-bc5aaeeb5197>\u001b[0m in \u001b[0;36mappend_dict_as_row\u001b[1;34m(file_name, dict_of_elem, field_names)\u001b[0m\n\u001b[0;32m      4\u001b[0m \u001b[1;32mdef\u001b[0m \u001b[0mappend_dict_as_row\u001b[0m\u001b[1;33m(\u001b[0m\u001b[0mfile_name\u001b[0m\u001b[1;33m,\u001b[0m \u001b[0mdict_of_elem\u001b[0m\u001b[1;33m,\u001b[0m \u001b[0mfield_names\u001b[0m\u001b[1;33m)\u001b[0m\u001b[1;33m:\u001b[0m\u001b[1;33m\u001b[0m\u001b[1;33m\u001b[0m\u001b[0m\n\u001b[0;32m      5\u001b[0m     \u001b[1;31m# Open file in append mode\u001b[0m\u001b[1;33m\u001b[0m\u001b[1;33m\u001b[0m\u001b[1;33m\u001b[0m\u001b[0m\n\u001b[1;32m----> 6\u001b[1;33m     \u001b[1;32mwith\u001b[0m \u001b[0mopen\u001b[0m\u001b[1;33m(\u001b[0m\u001b[0mfile_name\u001b[0m\u001b[1;33m,\u001b[0m \u001b[1;34m'a+'\u001b[0m\u001b[1;33m,\u001b[0m \u001b[0mnewline\u001b[0m\u001b[1;33m=\u001b[0m\u001b[1;34m''\u001b[0m\u001b[1;33m)\u001b[0m \u001b[1;32mas\u001b[0m \u001b[0mwrite_obj\u001b[0m\u001b[1;33m:\u001b[0m\u001b[1;33m\u001b[0m\u001b[1;33m\u001b[0m\u001b[0m\n\u001b[0m\u001b[0;32m      7\u001b[0m         \u001b[1;31m# Create a writer object from csv module\u001b[0m\u001b[1;33m\u001b[0m\u001b[1;33m\u001b[0m\u001b[1;33m\u001b[0m\u001b[0m\n\u001b[0;32m      8\u001b[0m         \u001b[0mdict_writer\u001b[0m \u001b[1;33m=\u001b[0m \u001b[0mDictWriter\u001b[0m\u001b[1;33m(\u001b[0m\u001b[0mwrite_obj\u001b[0m\u001b[1;33m,\u001b[0m \u001b[0mfieldnames\u001b[0m\u001b[1;33m=\u001b[0m\u001b[0mfield_names\u001b[0m\u001b[1;33m)\u001b[0m\u001b[1;33m\u001b[0m\u001b[1;33m\u001b[0m\u001b[0m\n",
      "\u001b[1;31mPermissionError\u001b[0m: [Errno 13] Permission denied: 'clients.csv'"
     ]
    }
   ],
   "source": [
    "for message in consumer:\n",
    "    print(message.value)\n",
    "    dict_str = message.value.decode(\"UTF-8\")\n",
    "    temp = ast.literal_eval(dict_str)\n",
    "    temp['id'] = uuid.uuid4()\n",
    "    append_dict_as_row('clients.csv', temp, field_names)\n",
    "    time.sleep(4)"
   ]
  },
  {
   "cell_type": "code",
   "execution_count": null,
   "id": "artificial-dollar",
   "metadata": {},
   "outputs": [],
   "source": []
  }
 ],
 "metadata": {
  "kernelspec": {
   "display_name": "Python 3",
   "language": "python",
   "name": "python3"
  },
  "language_info": {
   "codemirror_mode": {
    "name": "ipython",
    "version": 3
   },
   "file_extension": ".py",
   "mimetype": "text/x-python",
   "name": "python",
   "nbconvert_exporter": "python",
   "pygments_lexer": "ipython3",
   "version": "3.8.8"
  }
 },
 "nbformat": 4,
 "nbformat_minor": 5
}
