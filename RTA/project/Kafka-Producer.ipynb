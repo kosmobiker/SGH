{
 "cells": [
  {
   "cell_type": "code",
   "execution_count": 1,
   "id": "conservative-linux",
   "metadata": {
    "scrolled": true,
    "tags": []
   },
   "outputs": [],
   "source": [
    "\n",
    "\n",
    "#Kafka lifehacks\n",
    "\"\"\"\n",
    "new topic - kafka-topics --create --topic quickstart-events --bootstrap-server localhost:9092\n",
    "delete topic - kafka-topics --bootstrap-server localhost:9092 --delete --topic quickstart-events\n",
    "produce - kafka-console-producer --topic quickstart-events --bootstrap-server localhost:9092\n",
    "consume - kafka-console-consumer --topic quickstart-events --from-beginning --bootstrap-server localhost:9092\n",
    "\"\"\"\n",
    "\n",
    "#import bibliotek\n",
    "import json\n",
    "from kafka import KafkaProducer\n",
    "\n"
   ]
  },
  {
   "cell_type": "code",
   "execution_count": 2,
   "id": "derived-speed",
   "metadata": {},
   "outputs": [],
   "source": [
    "topic = 'quickstart-events'\n",
    "producer = KafkaProducer(bootstrap_servers=['127.0.0.1:9092'])\n",
    "\n",
    "pr = KafkaProducer(bootstrap_servers=['localhost:9092'], value_serializer=lambda x: json.dumps(x).encode('utf-8'))"
   ]
  },
  {
   "cell_type": "code",
   "execution_count": 3,
   "id": "convenient-multiple",
   "metadata": {},
   "outputs": [
    {
     "data": {
      "text/plain": [
       "<kafka.producer.future.FutureRecordMetadata at 0x2978c7dd940>"
      ]
     },
     "execution_count": 3,
     "metadata": {},
     "output_type": "execute_result"
    }
   ],
   "source": [
    "#testowe wiadomości\n",
    "pr.send(topic, {'name' : \"Karol Duda\", \n",
    "                'age' : \"30\",\n",
    "                'job' : \"entrepreneur\",\n",
    "                'marital' : \"married\",\n",
    "                'education' : \"high.school\",\n",
    "                'default' : \"no\",\n",
    "                'housing' : \"no\",\n",
    "                'loan' : \"no\"})"
   ]
  },
  {
   "cell_type": "code",
   "execution_count": 4,
   "id": "alternative-korean",
   "metadata": {},
   "outputs": [
    {
     "data": {
      "text/plain": [
       "<kafka.producer.future.FutureRecordMetadata at 0x2978c7fce80>"
      ]
     },
     "execution_count": 4,
     "metadata": {},
     "output_type": "execute_result"
    }
   ],
   "source": [
    "pr.send(topic, {'name' : \"Peter Green\", \n",
    "                'age' : \"45\",\n",
    "                'job' : \"entrepreneur\",\n",
    "                'marital' : \"divorced\",\n",
    "                'education' : \"university.degree\",\n",
    "                'default' : \"no\",\n",
    "                'housing' : \"yes\",\n",
    "                'loan' : \"no\"})"
   ]
  },
  {
   "cell_type": "code",
   "execution_count": 10,
   "id": "ecological-render",
   "metadata": {},
   "outputs": [
    {
     "data": {
      "text/plain": [
       "<kafka.producer.future.FutureRecordMetadata at 0x2978c7a7d00>"
      ]
     },
     "execution_count": 10,
     "metadata": {},
     "output_type": "execute_result"
    }
   ],
   "source": [
    "pr.send(topic, {'name' : \"John Doe\", \n",
    "                'age' : \"28\",\n",
    "                'job' : \"management\",\n",
    "                'marital' : \"single\",\n",
    "                'education' : \"university.degree\",\n",
    "                'default' : \"yes\",\n",
    "                'housing' : \"yes\",\n",
    "                'loan' : \"yes\"})"
   ]
  },
  {
   "cell_type": "code",
   "execution_count": 11,
   "id": "quiet-project",
   "metadata": {},
   "outputs": [
    {
     "data": {
      "text/plain": [
       "<kafka.producer.future.FutureRecordMetadata at 0x297949e5a60>"
      ]
     },
     "execution_count": 11,
     "metadata": {},
     "output_type": "execute_result"
    }
   ],
   "source": [
    "pr.send(topic, {'name' : \"Test_user2\", \n",
    "                'age' : \"55\",\n",
    "                'job' : \"management\",\n",
    "                'marital' : \"divorced\",\n",
    "                'education' : \"university.degree\",\n",
    "                'default' : \"no\",\n",
    "                'housing' : \"no\",\n",
    "                'loan' : \"no\"})"
   ]
  },
  {
   "cell_type": "code",
   "execution_count": 12,
   "id": "requested-fluid",
   "metadata": {},
   "outputs": [],
   "source": [
    "import pandas as pd"
   ]
  },
  {
   "cell_type": "code",
   "execution_count": 13,
   "id": "clean-vertical",
   "metadata": {},
   "outputs": [
    {
     "data": {
      "text/html": [
       "<div>\n",
       "<style scoped>\n",
       "    .dataframe tbody tr th:only-of-type {\n",
       "        vertical-align: middle;\n",
       "    }\n",
       "\n",
       "    .dataframe tbody tr th {\n",
       "        vertical-align: top;\n",
       "    }\n",
       "\n",
       "    .dataframe thead th {\n",
       "        text-align: right;\n",
       "    }\n",
       "</style>\n",
       "<table border=\"1\" class=\"dataframe\">\n",
       "  <thead>\n",
       "    <tr style=\"text-align: right;\">\n",
       "      <th></th>\n",
       "      <th>0</th>\n",
       "      <th>1</th>\n",
       "      <th>2</th>\n",
       "      <th>3</th>\n",
       "      <th>4</th>\n",
       "      <th>5</th>\n",
       "      <th>6</th>\n",
       "      <th>7</th>\n",
       "      <th>8</th>\n",
       "    </tr>\n",
       "  </thead>\n",
       "  <tbody>\n",
       "    <tr>\n",
       "      <th>0</th>\n",
       "      <td>03f16408-6faf-4458-8b7e-bf64f675ea5b</td>\n",
       "      <td>Karol Duda</td>\n",
       "      <td>30</td>\n",
       "      <td>entrepreneur</td>\n",
       "      <td>married</td>\n",
       "      <td>high.school</td>\n",
       "      <td>no</td>\n",
       "      <td>no</td>\n",
       "      <td>no</td>\n",
       "    </tr>\n",
       "    <tr>\n",
       "      <th>1</th>\n",
       "      <td>f4fea15b-c700-41df-ad43-8803fe0714c2</td>\n",
       "      <td>Peter Green</td>\n",
       "      <td>45</td>\n",
       "      <td>entrepreneur</td>\n",
       "      <td>divorced</td>\n",
       "      <td>university.degree</td>\n",
       "      <td>no</td>\n",
       "      <td>yes</td>\n",
       "      <td>no</td>\n",
       "    </tr>\n",
       "    <tr>\n",
       "      <th>2</th>\n",
       "      <td>b4a9f9a5-ac2b-40f7-8841-3b642ab45e71</td>\n",
       "      <td>Lence Doe-Marrow</td>\n",
       "      <td>28</td>\n",
       "      <td>management</td>\n",
       "      <td>divorced</td>\n",
       "      <td>university.degree</td>\n",
       "      <td>yes</td>\n",
       "      <td>yes</td>\n",
       "      <td>yes</td>\n",
       "    </tr>\n",
       "    <tr>\n",
       "      <th>3</th>\n",
       "      <td>58d65104-c7ee-455d-9f6f-9eb401f69fce</td>\n",
       "      <td>Test_user</td>\n",
       "      <td>23</td>\n",
       "      <td>management</td>\n",
       "      <td>divorced</td>\n",
       "      <td>university.degree</td>\n",
       "      <td>no</td>\n",
       "      <td>no</td>\n",
       "      <td>no</td>\n",
       "    </tr>\n",
       "    <tr>\n",
       "      <th>4</th>\n",
       "      <td>4b7e3d9a-0786-4368-9fc9-d67c3bd0e905</td>\n",
       "      <td>John Doe</td>\n",
       "      <td>28</td>\n",
       "      <td>management</td>\n",
       "      <td>single</td>\n",
       "      <td>university.degree</td>\n",
       "      <td>yes</td>\n",
       "      <td>yes</td>\n",
       "      <td>yes</td>\n",
       "    </tr>\n",
       "    <tr>\n",
       "      <th>5</th>\n",
       "      <td>16bcab55-f090-4c60-b8fc-40f2c5b71368</td>\n",
       "      <td>Test_user2</td>\n",
       "      <td>55</td>\n",
       "      <td>management</td>\n",
       "      <td>divorced</td>\n",
       "      <td>university.degree</td>\n",
       "      <td>no</td>\n",
       "      <td>no</td>\n",
       "      <td>no</td>\n",
       "    </tr>\n",
       "  </tbody>\n",
       "</table>\n",
       "</div>"
      ],
      "text/plain": [
       "                                      0                 1   2             3  \\\n",
       "0  03f16408-6faf-4458-8b7e-bf64f675ea5b        Karol Duda  30  entrepreneur   \n",
       "1  f4fea15b-c700-41df-ad43-8803fe0714c2       Peter Green  45  entrepreneur   \n",
       "2  b4a9f9a5-ac2b-40f7-8841-3b642ab45e71  Lence Doe-Marrow  28    management   \n",
       "3  58d65104-c7ee-455d-9f6f-9eb401f69fce         Test_user  23    management   \n",
       "4  4b7e3d9a-0786-4368-9fc9-d67c3bd0e905          John Doe  28    management   \n",
       "5  16bcab55-f090-4c60-b8fc-40f2c5b71368        Test_user2  55    management   \n",
       "\n",
       "          4                  5    6    7    8  \n",
       "0   married        high.school   no   no   no  \n",
       "1  divorced  university.degree   no  yes   no  \n",
       "2  divorced  university.degree  yes  yes  yes  \n",
       "3  divorced  university.degree   no   no   no  \n",
       "4    single  university.degree  yes  yes  yes  \n",
       "5  divorced  university.degree   no   no   no  "
      ]
     },
     "execution_count": 13,
     "metadata": {},
     "output_type": "execute_result"
    }
   ],
   "source": [
    "pd.read_csv('clients.csv', header=None)"
   ]
  },
  {
   "cell_type": "code",
   "execution_count": null,
   "id": "double-temple",
   "metadata": {},
   "outputs": [],
   "source": []
  }
 ],
 "metadata": {
  "kernelspec": {
   "display_name": "Python 3",
   "language": "python",
   "name": "python3"
  },
  "language_info": {
   "codemirror_mode": {
    "name": "ipython",
    "version": 3
   },
   "file_extension": ".py",
   "mimetype": "text/x-python",
   "name": "python",
   "nbconvert_exporter": "python",
   "pygments_lexer": "ipython3",
   "version": "3.8.8"
  }
 },
 "nbformat": 4,
 "nbformat_minor": 5
}
