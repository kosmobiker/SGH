{
 "cells": [
  {
   "cell_type": "code",
   "execution_count": 27,
   "id": "athletic-discovery",
   "metadata": {
    "scrolled": true
   },
   "outputs": [],
   "source": [
    "#import bibliotek\n",
    "import json\n",
    "from kafka import KafkaProducer\n",
    "\n",
    "#Kafka lifehacks\n",
    "\"\"\"\n",
    "new topic - kafka-topics --create --topic quickstart-events --bootstrap-server localhost:9092\n",
    "delete topic - kafka-topics --bootstrap-server localhost:9092 --delete --topic quickstart-events\n",
    "produce - kafka-console-producer --topic quickstart-events --bootstrap-server localhost:9092\n",
    "consume - kafka-console-consumer --topic quickstart-events --from-beginning --bootstrap-server localhost:9092\n",
    "\"\"\"\n",
    "\n",
    "topic = 'quickstart-events'\n",
    "producer = KafkaProducer(bootstrap_servers=['127.0.0.1:9092'])\n",
    "\n",
    "pr = KafkaProducer(bootstrap_servers=['localhost:9092'], value_serializer=lambda x: json.dumps(x).encode('utf-8'))\n",
    "\n"
   ]
  },
  {
   "cell_type": "code",
   "execution_count": 31,
   "id": "fifty-capability",
   "metadata": {},
   "outputs": [
    {
     "data": {
      "text/plain": [
       "<kafka.producer.future.FutureRecordMetadata at 0x17de5aac430>"
      ]
     },
     "execution_count": 31,
     "metadata": {},
     "output_type": "execute_result"
    }
   ],
   "source": [
    "#testowe wiadomości\n",
    "pr.send(topic, {'name' : \"Karol Duda\", \n",
    "                'age' : \"30\",\n",
    "                'job' : \"entrepreneur\",\n",
    "                'marital' : \"married\",\n",
    "                'education' : \"high.school\",\n",
    "                'default' : \"no\",\n",
    "                'housing' : \"no\",\n",
    "                'loan' : \"no\"})"
   ]
  },
  {
   "cell_type": "code",
   "execution_count": 32,
   "id": "ideal-demand",
   "metadata": {},
   "outputs": [
    {
     "data": {
      "text/plain": [
       "<kafka.producer.future.FutureRecordMetadata at 0x17de5ae28b0>"
      ]
     },
     "execution_count": 32,
     "metadata": {},
     "output_type": "execute_result"
    }
   ],
   "source": [
    "pr.send(topic, {'name' : \"Peter Green\", \n",
    "                'age' : \"45\",\n",
    "                'job' : \"entrepreneur\",\n",
    "                'marital' : \"divorced\",\n",
    "                'education' : \"university.degree\",\n",
    "                'default' : \"no\",\n",
    "                'housing' : \"yes\",\n",
    "                'loan' : \"no\"})"
   ]
  },
  {
   "cell_type": "code",
   "execution_count": 33,
   "id": "neutral-advocacy",
   "metadata": {},
   "outputs": [
    {
     "data": {
      "text/plain": [
       "<kafka.producer.future.FutureRecordMetadata at 0x17de5ae2460>"
      ]
     },
     "execution_count": 33,
     "metadata": {},
     "output_type": "execute_result"
    }
   ],
   "source": [
    "pr.send(topic, {'name' : \"Lence Doe-Marrow\", \n",
    "                'age' : \"28\",\n",
    "                'job' : \"management\",\n",
    "                'marital' : \"divorced\",\n",
    "                'education' : \"university.degree\",\n",
    "                'default' : \"yes\",\n",
    "                'housing' : \"yes\",\n",
    "                'loan' : \"yes\"})"
   ]
  },
  {
   "cell_type": "code",
   "execution_count": null,
   "id": "cheap-confidence",
   "metadata": {},
   "outputs": [],
   "source": []
  },
  {
   "cell_type": "code",
   "execution_count": null,
   "id": "divine-mining",
   "metadata": {},
   "outputs": [],
   "source": []
  },
  {
   "cell_type": "code",
   "execution_count": null,
   "id": "offensive-sweden",
   "metadata": {},
   "outputs": [],
   "source": []
  }
 ],
 "metadata": {
  "kernelspec": {
   "display_name": "Python 3",
   "language": "python",
   "name": "python3"
  },
  "language_info": {
   "codemirror_mode": {
    "name": "ipython",
    "version": 3
   },
   "file_extension": ".py",
   "mimetype": "text/x-python",
   "name": "python",
   "nbconvert_exporter": "python",
   "pygments_lexer": "ipython3",
   "version": "3.8.8"
  }
 },
 "nbformat": 4,
 "nbformat_minor": 5
}
