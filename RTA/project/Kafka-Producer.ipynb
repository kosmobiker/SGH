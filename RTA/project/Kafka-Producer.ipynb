{
 "cells": [
  {
   "cell_type": "code",
   "execution_count": 7,
   "id": "alive-receptor",
   "metadata": {
    "scrolled": true,
    "tags": []
   },
   "outputs": [
    {
     "data": {
      "text/plain": [
       "'\\nnew topic - kafka-topics --create --topic quickstart-events --bootstrap-server localhost:9092\\ndelete topic - kafka-topics --bootstrap-server localhost:9092 --delete --topic quickstart-events\\nproduce - kafka-console-producer --topic quickstart-events --bootstrap-server localhost:9092\\nconsume - kafka-console-consumer --topic quickstart-events --from-beginning --bootstrap-server localhost:9092\\n'"
      ]
     },
     "execution_count": 7,
     "metadata": {},
     "output_type": "execute_result"
    }
   ],
   "source": [
    "#import bibliotek\n",
    "import json\n",
    "from kafka import KafkaProducer\n",
    "\n",
    "#Kafka lifehacks\n",
    "\"\"\"\n",
    "new topic - kafka-topics --create --topic quickstart-events --bootstrap-server localhost:9092\n",
    "delete topic - kafka-topics --bootstrap-server localhost:9092 --delete --topic quickstart-events\n",
    "produce - kafka-console-producer --topic quickstart-events --bootstrap-server localhost:9092\n",
    "consume - kafka-console-consumer --topic quickstart-events --from-beginning --bootstrap-server localhost:9092\n",
    "\"\"\"\n",
    "\n",
    "\n",
    "\n"
   ]
  },
  {
   "cell_type": "code",
   "execution_count": 2,
   "id": "abandoned-hawaiian",
   "metadata": {},
   "outputs": [],
   "source": [
    "topic = 'quickstart-events'\n",
    "producer = KafkaProducer(bootstrap_servers=['127.0.0.1:9092'])\n",
    "\n",
    "pr = KafkaProducer(bootstrap_servers=['localhost:9092'], value_serializer=lambda x: json.dumps(x).encode('utf-8'))"
   ]
  },
  {
   "cell_type": "code",
   "execution_count": 3,
   "id": "electric-theology",
   "metadata": {},
   "outputs": [
    {
     "data": {
      "text/plain": [
       "<kafka.producer.future.FutureRecordMetadata at 0x24ead649a60>"
      ]
     },
     "execution_count": 3,
     "metadata": {},
     "output_type": "execute_result"
    }
   ],
   "source": [
    "#testowe wiadomości\n",
    "pr.send(topic, {'name' : \"Karol Duda\", \n",
    "                'age' : \"30\",\n",
    "                'job' : \"entrepreneur\",\n",
    "                'marital' : \"married\",\n",
    "                'education' : \"high.school\",\n",
    "                'default' : \"no\",\n",
    "                'housing' : \"no\",\n",
    "                'loan' : \"no\"})"
   ]
  },
  {
   "cell_type": "code",
   "execution_count": 4,
   "id": "developing-party",
   "metadata": {},
   "outputs": [
    {
     "data": {
      "text/plain": [
       "<kafka.producer.future.FutureRecordMetadata at 0x24ead65ee50>"
      ]
     },
     "execution_count": 4,
     "metadata": {},
     "output_type": "execute_result"
    }
   ],
   "source": [
    "pr.send(topic, {'name' : \"Peter Green\", \n",
    "                'age' : \"45\",\n",
    "                'job' : \"entrepreneur\",\n",
    "                'marital' : \"divorced\",\n",
    "                'education' : \"university.degree\",\n",
    "                'default' : \"no\",\n",
    "                'housing' : \"yes\",\n",
    "                'loan' : \"no\"})"
   ]
  },
  {
   "cell_type": "code",
   "execution_count": 5,
   "id": "breeding-oxygen",
   "metadata": {},
   "outputs": [
    {
     "data": {
      "text/plain": [
       "<kafka.producer.future.FutureRecordMetadata at 0x24ead65ef10>"
      ]
     },
     "execution_count": 5,
     "metadata": {},
     "output_type": "execute_result"
    }
   ],
   "source": [
    "pr.send(topic, {'name' : \"Lence Doe-Marrow\", \n",
    "                'age' : \"28\",\n",
    "                'job' : \"management\",\n",
    "                'marital' : \"divorced\",\n",
    "                'education' : \"university.degree\",\n",
    "                'default' : \"yes\",\n",
    "                'housing' : \"yes\",\n",
    "                'loan' : \"yes\"})"
   ]
  },
  {
   "cell_type": "code",
   "execution_count": 6,
   "id": "durable-tunisia",
   "metadata": {},
   "outputs": [
    {
     "data": {
      "text/plain": [
       "<kafka.producer.future.FutureRecordMetadata at 0x24ead664520>"
      ]
     },
     "execution_count": 6,
     "metadata": {},
     "output_type": "execute_result"
    }
   ],
   "source": [
    "pr.send(topic, {'name' : \"Test_user\", \n",
    "                'age' : \"23\",\n",
    "                'job' : \"management\",\n",
    "                'marital' : \"divorced\",\n",
    "                'education' : \"university.degree\",\n",
    "                'default' : \"no\",\n",
    "                'housing' : \"no\",\n",
    "                'loan' : \"no\"})"
   ]
  },
  {
   "cell_type": "code",
   "execution_count": null,
   "id": "cognitive-reward",
   "metadata": {},
   "outputs": [],
   "source": []
  },
  {
   "cell_type": "code",
   "execution_count": null,
   "id": "earned-drive",
   "metadata": {},
   "outputs": [],
   "source": []
  }
 ],
 "metadata": {
  "kernelspec": {
   "display_name": "Python 3",
   "language": "python",
   "name": "python3"
  },
  "language_info": {
   "codemirror_mode": {
    "name": "ipython",
    "version": 3
   },
   "file_extension": ".py",
   "mimetype": "text/x-python",
   "name": "python",
   "nbconvert_exporter": "python",
   "pygments_lexer": "ipython3",
   "version": "3.8.8"
  }
 },
 "nbformat": 4,
 "nbformat_minor": 5
}
