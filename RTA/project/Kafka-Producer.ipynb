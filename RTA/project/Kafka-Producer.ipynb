{
 "cells": [
  {
   "cell_type": "code",
   "execution_count": 1,
   "id": "fabulous-northwest",
   "metadata": {
    "scrolled": true,
    "tags": []
   },
   "outputs": [],
   "source": [
    "#Kafka lifehacks\n",
    "\"\"\"\n",
    "new topic - kafka-topics --create --topic quickstart-events --bootstrap-server localhost:9092\n",
    "delete topic - kafka-topics --bootstrap-server localhost:9092 --delete --topic quickstart-events\n",
    "produce - kafka-console-producer --topic quickstart-events --bootstrap-server localhost:9092\n",
    "consume - kafka-console-consumer --topic quickstart-events --from-beginning --bootstrap-server localhost:9092\n",
    "\"\"\"\n",
    "\n",
    "#import bibliotek\n",
    "import json\n",
    "from kafka import KafkaProducer"
   ]
  },
  {
   "cell_type": "code",
   "execution_count": 2,
   "id": "bigger-wealth",
   "metadata": {},
   "outputs": [],
   "source": [
    "# topic = 'quickstart-events'\n",
    "# producer = KafkaProducer(bootstrap_servers=['127.0.0.1:9092'])\n",
    "\n",
    "# pr = KafkaProducer(bootstrap_servers=['localhost:9092'], value_serializer=lambda x: json.dumps(x).encode('utf-8'))"
   ]
  },
  {
   "cell_type": "code",
   "execution_count": 3,
   "id": "hearing-release",
   "metadata": {},
   "outputs": [],
   "source": [
    "topic = 'supertest'\n",
    "\n",
    "pr = KafkaProducer(bootstrap_servers=['ec2-34-237-48-233.compute-1.amazonaws.com:9092'],                                                        value_serializer=lambda x: json.dumps(x).encode('utf-8'))"
   ]
  },
  {
   "cell_type": "code",
   "execution_count": 11,
   "id": "nasty-graduate",
   "metadata": {},
   "outputs": [
    {
     "data": {
      "text/plain": [
       "<kafka.producer.future.FutureRecordMetadata at 0x25f4d3a9d60>"
      ]
     },
     "execution_count": 11,
     "metadata": {},
     "output_type": "execute_result"
    }
   ],
   "source": [
    "#testowe wiadomości\n",
    "pr.send(topic, {'name' : \"Adam Duda\", \n",
    "                'age' : \"88\",\n",
    "                'job' : \"entrepreneur\",\n",
    "                'marital' : \"married\",\n",
    "                'education' : \"high.school\",\n",
    "                'default' : \"no\",\n",
    "                'housing' : \"no\",\n",
    "                'loan' : \"no\"})"
   ]
  },
  {
   "cell_type": "code",
   "execution_count": 5,
   "id": "adaptive-embassy",
   "metadata": {},
   "outputs": [
    {
     "data": {
      "text/plain": [
       "<kafka.producer.future.FutureRecordMetadata at 0x25f451ded60>"
      ]
     },
     "execution_count": 5,
     "metadata": {},
     "output_type": "execute_result"
    }
   ],
   "source": [
    "pr.send(topic, {'name' : \"Peter Green\", \n",
    "                'age' : \"45\",\n",
    "                'job' : \"entrepreneur\",\n",
    "                'marital' : \"divorced\",\n",
    "                'education' : \"university.degree\",\n",
    "                'default' : \"no\",\n",
    "                'housing' : \"yes\",\n",
    "                'loan' : \"no\"})"
   ]
  },
  {
   "cell_type": "code",
   "execution_count": 6,
   "id": "understanding-locator",
   "metadata": {},
   "outputs": [
    {
     "data": {
      "text/plain": [
       "<kafka.producer.future.FutureRecordMetadata at 0x25f451de940>"
      ]
     },
     "execution_count": 6,
     "metadata": {},
     "output_type": "execute_result"
    }
   ],
   "source": [
    "pr.send(topic, {'name' : \"John Doe\", \n",
    "                'age' : \"28\",\n",
    "                'job' : \"management\",\n",
    "                'marital' : \"single\",\n",
    "                'education' : \"university.degree\",\n",
    "                'default' : \"yes\",\n",
    "                'housing' : \"yes\",\n",
    "                'loan' : \"yes\"})"
   ]
  },
  {
   "cell_type": "code",
   "execution_count": 13,
   "id": "blind-settlement",
   "metadata": {},
   "outputs": [
    {
     "data": {
      "text/plain": [
       "<kafka.producer.future.FutureRecordMetadata at 0x19f68ee1850>"
      ]
     },
     "execution_count": 13,
     "metadata": {},
     "output_type": "execute_result"
    }
   ],
   "source": [
    "pr.send(topic, {'name' : \"Morty Smith\", \n",
    "                'age' : \"14\",\n",
    "                'job' : \"unknown\",\n",
    "                'marital' : \"single\",\n",
    "                'education' : \"school\",\n",
    "                'default' : \"false\",\n",
    "                'housing' : \"false\",\n",
    "                'loan' : \"false\"})"
   ]
  },
  {
   "cell_type": "code",
   "execution_count": 4,
   "id": "heavy-institution",
   "metadata": {},
   "outputs": [
    {
     "data": {
      "text/plain": [
       "<kafka.producer.future.FutureRecordMetadata at 0x19f5fd0c970>"
      ]
     },
     "execution_count": 4,
     "metadata": {},
     "output_type": "execute_result"
    }
   ],
   "source": [
    "pr.send(topic, {'name' : \"Rick Sanchez\", \n",
    "                'age' : \"79\",\n",
    "                'job' : \"retired\",\n",
    "                'marital' : \"divorced\",\n",
    "                'education' : \"university.degree\",\n",
    "                'default' : \"no\",\n",
    "                'housing' : \"yes\",\n",
    "                'loan' : \"yes\"})"
   ]
  },
  {
   "cell_type": "code",
   "execution_count": 7,
   "id": "worth-assumption",
   "metadata": {},
   "outputs": [],
   "source": [
    "import pandas as pd"
   ]
  },
  {
   "cell_type": "code",
   "execution_count": 13,
   "id": "bigger-butter",
   "metadata": {},
   "outputs": [
    {
     "data": {
      "text/html": [
       "<div>\n",
       "<style scoped>\n",
       "    .dataframe tbody tr th:only-of-type {\n",
       "        vertical-align: middle;\n",
       "    }\n",
       "\n",
       "    .dataframe tbody tr th {\n",
       "        vertical-align: top;\n",
       "    }\n",
       "\n",
       "    .dataframe thead th {\n",
       "        text-align: right;\n",
       "    }\n",
       "</style>\n",
       "<table border=\"1\" class=\"dataframe\">\n",
       "  <thead>\n",
       "    <tr style=\"text-align: right;\">\n",
       "      <th></th>\n",
       "      <th>id</th>\n",
       "      <th>name</th>\n",
       "      <th>age</th>\n",
       "      <th>job</th>\n",
       "      <th>marital</th>\n",
       "      <th>education</th>\n",
       "      <th>default</th>\n",
       "      <th>housing</th>\n",
       "      <th>loan</th>\n",
       "      <th>prediction</th>\n",
       "    </tr>\n",
       "  </thead>\n",
       "  <tbody>\n",
       "    <tr>\n",
       "      <th>0</th>\n",
       "      <td>70614949-552c-4760-ab75-0f4aa737030a</td>\n",
       "      <td>Rick Sanchez</td>\n",
       "      <td>79</td>\n",
       "      <td>retired</td>\n",
       "      <td>divorced</td>\n",
       "      <td>university.degree</td>\n",
       "      <td>no</td>\n",
       "      <td>yes</td>\n",
       "      <td>yes</td>\n",
       "      <td>1</td>\n",
       "    </tr>\n",
       "    <tr>\n",
       "      <th>1</th>\n",
       "      <td>bbe009f9-0773-4f19-a1af-017d00bf3880</td>\n",
       "      <td>Morty Smith</td>\n",
       "      <td>14</td>\n",
       "      <td>unknown</td>\n",
       "      <td>single</td>\n",
       "      <td>school</td>\n",
       "      <td>false</td>\n",
       "      <td>false</td>\n",
       "      <td>false</td>\n",
       "      <td>0</td>\n",
       "    </tr>\n",
       "    <tr>\n",
       "      <th>2</th>\n",
       "      <td>3392b40a-5c35-408c-881f-db785b06184f</td>\n",
       "      <td>Karol Duda</td>\n",
       "      <td>30</td>\n",
       "      <td>entrepreneur</td>\n",
       "      <td>married</td>\n",
       "      <td>high.school</td>\n",
       "      <td>no</td>\n",
       "      <td>no</td>\n",
       "      <td>no</td>\n",
       "      <td>0</td>\n",
       "    </tr>\n",
       "    <tr>\n",
       "      <th>3</th>\n",
       "      <td>c52446fe-9e79-45f6-aba8-deffc32a0b23</td>\n",
       "      <td>Peter Green</td>\n",
       "      <td>45</td>\n",
       "      <td>entrepreneur</td>\n",
       "      <td>divorced</td>\n",
       "      <td>university.degree</td>\n",
       "      <td>no</td>\n",
       "      <td>yes</td>\n",
       "      <td>no</td>\n",
       "      <td>0</td>\n",
       "    </tr>\n",
       "    <tr>\n",
       "      <th>4</th>\n",
       "      <td>868f5467-1821-426d-8e2f-245f3f9976ae</td>\n",
       "      <td>John Doe</td>\n",
       "      <td>28</td>\n",
       "      <td>management</td>\n",
       "      <td>single</td>\n",
       "      <td>university.degree</td>\n",
       "      <td>yes</td>\n",
       "      <td>yes</td>\n",
       "      <td>yes</td>\n",
       "      <td>0</td>\n",
       "    </tr>\n",
       "    <tr>\n",
       "      <th>5</th>\n",
       "      <td>2d1e9f84-93a6-4897-acdf-d43d940235fd</td>\n",
       "      <td>John Rambo</td>\n",
       "      <td>74</td>\n",
       "      <td>retired</td>\n",
       "      <td>divorced</td>\n",
       "      <td>unknown</td>\n",
       "      <td>no</td>\n",
       "      <td>yes</td>\n",
       "      <td>yes</td>\n",
       "      <td>0</td>\n",
       "    </tr>\n",
       "    <tr>\n",
       "      <th>6</th>\n",
       "      <td>381005c9-4306-43c3-be67-0f921e5c6829</td>\n",
       "      <td>Jan Kowalski</td>\n",
       "      <td>22</td>\n",
       "      <td>retired</td>\n",
       "      <td>divorced</td>\n",
       "      <td>unknown</td>\n",
       "      <td>no</td>\n",
       "      <td>no</td>\n",
       "      <td>yes</td>\n",
       "      <td>0</td>\n",
       "    </tr>\n",
       "    <tr>\n",
       "      <th>7</th>\n",
       "      <td>69acb7e3-c3c3-4eb3-ad16-df3e440b7674</td>\n",
       "      <td>Adam Duda</td>\n",
       "      <td>88</td>\n",
       "      <td>entrepreneur</td>\n",
       "      <td>married</td>\n",
       "      <td>high.school</td>\n",
       "      <td>no</td>\n",
       "      <td>no</td>\n",
       "      <td>no</td>\n",
       "      <td>0</td>\n",
       "    </tr>\n",
       "    <tr>\n",
       "      <th>8</th>\n",
       "      <td>5c60f017-5d2d-4da7-9fdc-e3f1716c905a</td>\n",
       "      <td>Benny Hill</td>\n",
       "      <td>80</td>\n",
       "      <td>retired</td>\n",
       "      <td>married</td>\n",
       "      <td>unknown</td>\n",
       "      <td>no</td>\n",
       "      <td>yes</td>\n",
       "      <td>no</td>\n",
       "      <td>1</td>\n",
       "    </tr>\n",
       "    <tr>\n",
       "      <th>9</th>\n",
       "      <td>a7503191-5e94-4eab-beec-718f86faf7a0</td>\n",
       "      <td>Benny Hill</td>\n",
       "      <td>80</td>\n",
       "      <td>retired</td>\n",
       "      <td>married</td>\n",
       "      <td>unknown</td>\n",
       "      <td>no</td>\n",
       "      <td>yes</td>\n",
       "      <td>no</td>\n",
       "      <td>1</td>\n",
       "    </tr>\n",
       "  </tbody>\n",
       "</table>\n",
       "</div>"
      ],
      "text/plain": [
       "                                     id          name  age           job  \\\n",
       "0  70614949-552c-4760-ab75-0f4aa737030a  Rick Sanchez   79       retired   \n",
       "1  bbe009f9-0773-4f19-a1af-017d00bf3880   Morty Smith   14       unknown   \n",
       "2  3392b40a-5c35-408c-881f-db785b06184f    Karol Duda   30  entrepreneur   \n",
       "3  c52446fe-9e79-45f6-aba8-deffc32a0b23   Peter Green   45  entrepreneur   \n",
       "4  868f5467-1821-426d-8e2f-245f3f9976ae      John Doe   28    management   \n",
       "5  2d1e9f84-93a6-4897-acdf-d43d940235fd    John Rambo   74       retired   \n",
       "6  381005c9-4306-43c3-be67-0f921e5c6829  Jan Kowalski   22       retired   \n",
       "7  69acb7e3-c3c3-4eb3-ad16-df3e440b7674     Adam Duda   88  entrepreneur   \n",
       "8  5c60f017-5d2d-4da7-9fdc-e3f1716c905a    Benny Hill   80       retired   \n",
       "9  a7503191-5e94-4eab-beec-718f86faf7a0    Benny Hill   80       retired   \n",
       "\n",
       "    marital          education default housing   loan  prediction  \n",
       "0  divorced  university.degree      no     yes    yes           1  \n",
       "1    single             school   false   false  false           0  \n",
       "2   married        high.school      no      no     no           0  \n",
       "3  divorced  university.degree      no     yes     no           0  \n",
       "4    single  university.degree     yes     yes    yes           0  \n",
       "5  divorced            unknown      no     yes    yes           0  \n",
       "6  divorced            unknown      no      no    yes           0  \n",
       "7   married        high.school      no      no     no           0  \n",
       "8   married            unknown      no     yes     no           1  \n",
       "9   married            unknown      no     yes     no           1  "
      ]
     },
     "execution_count": 13,
     "metadata": {},
     "output_type": "execute_result"
    }
   ],
   "source": [
    "pd.read_csv('clients2.csv')"
   ]
  },
  {
   "cell_type": "code",
   "execution_count": null,
   "id": "pursuant-australia",
   "metadata": {},
   "outputs": [],
   "source": []
  },
  {
   "cell_type": "code",
   "execution_count": null,
   "id": "commercial-milwaukee",
   "metadata": {},
   "outputs": [],
   "source": []
  }
 ],
 "metadata": {
  "interpreter": {
   "hash": "ecf5722fdaf1897a315d257d89d94520bfcaa453217d5becf09b39e73618b0de"
  },
  "kernelspec": {
   "display_name": "Python 3",
   "language": "python",
   "name": "python3"
  },
  "language_info": {
   "codemirror_mode": {
    "name": "ipython",
    "version": 3
   },
   "file_extension": ".py",
   "mimetype": "text/x-python",
   "name": "python",
   "nbconvert_exporter": "python",
   "pygments_lexer": "ipython3",
   "version": "3.8.10"
  }
 },
 "nbformat": 4,
 "nbformat_minor": 5
}
