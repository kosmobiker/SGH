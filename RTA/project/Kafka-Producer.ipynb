{
 "cells": [
  {
   "cell_type": "code",
   "execution_count": 1,
   "id": "accepting-variable",
   "metadata": {
    "scrolled": true,
    "tags": []
   },
   "outputs": [],
   "source": [
    "#Kafka lifehacks\n",
    "\"\"\"\n",
    "new topic - kafka-topics --create --topic quickstart-events --bootstrap-server localhost:9092\n",
    "delete topic - kafka-topics --bootstrap-server localhost:9092 --delete --topic quickstart-events\n",
    "produce - kafka-console-producer --topic quickstart-events --bootstrap-server localhost:9092\n",
    "consume - kafka-console-consumer --topic quickstart-events --from-beginning --bootstrap-server localhost:9092\n",
    "\"\"\"\n",
    "\n",
    "#import bibliotek\n",
    "import json\n",
    "from kafka import KafkaProducer"
   ]
  },
  {
   "cell_type": "code",
   "execution_count": 2,
   "id": "first-russian",
   "metadata": {},
   "outputs": [],
   "source": [
    "# topic = 'quickstart-events'\n",
    "# producer = KafkaProducer(bootstrap_servers=['127.0.0.1:9092'])\n",
    "\n",
    "# pr = KafkaProducer(bootstrap_servers=['localhost:9092'], value_serializer=lambda x: json.dumps(x).encode('utf-8'))"
   ]
  },
  {
   "cell_type": "code",
   "execution_count": 2,
   "id": "moved-fisher",
   "metadata": {},
   "outputs": [],
   "source": [
    "topic = 'supertest'\n",
    "\n",
    "pr = KafkaProducer(bootstrap_servers=['ec2-34-237-48-233.compute-1.amazonaws.com:9092'],                                                        value_serializer=lambda x: json.dumps(x).encode('utf-8'))"
   ]
  },
  {
   "cell_type": "code",
   "execution_count": 4,
   "id": "unique-surfing",
   "metadata": {},
   "outputs": [
    {
     "data": {
      "text/plain": [
       "<kafka.producer.future.FutureRecordMetadata at 0x273a32a9400>"
      ]
     },
     "execution_count": 4,
     "metadata": {},
     "output_type": "execute_result"
    }
   ],
   "source": [
    "#testowe wiadomości\n",
    "pr.send(topic, {'name' : \"Karol Duda\", \n",
    "                'age' : \"30\",\n",
    "                'job' : \"entrepreneur\",\n",
    "                'marital' : \"married\",\n",
    "                'education' : \"high.school\",\n",
    "                'default' : \"no\",\n",
    "                'housing' : \"no\",\n",
    "                'loan' : \"no\"})"
   ]
  },
  {
   "cell_type": "code",
   "execution_count": 5,
   "id": "communist-surveillance",
   "metadata": {},
   "outputs": [
    {
     "data": {
      "text/plain": [
       "<kafka.producer.future.FutureRecordMetadata at 0x273a3539d90>"
      ]
     },
     "execution_count": 5,
     "metadata": {},
     "output_type": "execute_result"
    }
   ],
   "source": [
    "pr.send(topic, {'name' : \"Peter Green\", \n",
    "                'age' : \"45\",\n",
    "                'job' : \"entrepreneur\",\n",
    "                'marital' : \"divorced\",\n",
    "                'education' : \"university.degree\",\n",
    "                'default' : \"no\",\n",
    "                'housing' : \"yes\",\n",
    "                'loan' : \"no\"})"
   ]
  },
  {
   "cell_type": "code",
   "execution_count": 6,
   "id": "steady-radiation",
   "metadata": {},
   "outputs": [
    {
     "data": {
      "text/plain": [
       "<kafka.producer.future.FutureRecordMetadata at 0x273a3539ee0>"
      ]
     },
     "execution_count": 6,
     "metadata": {},
     "output_type": "execute_result"
    }
   ],
   "source": [
    "pr.send(topic, {'name' : \"John Doe\", \n",
    "                'age' : \"28\",\n",
    "                'job' : \"management\",\n",
    "                'marital' : \"single\",\n",
    "                'education' : \"university.degree\",\n",
    "                'default' : \"yes\",\n",
    "                'housing' : \"yes\",\n",
    "                'loan' : \"yes\"})"
   ]
  },
  {
   "cell_type": "code",
   "execution_count": 17,
   "id": "literary-strand",
   "metadata": {},
   "outputs": [
    {
     "data": {
      "text/plain": [
       "<kafka.producer.future.FutureRecordMetadata at 0x273ab77f9d0>"
      ]
     },
     "execution_count": 17,
     "metadata": {},
     "output_type": "execute_result"
    }
   ],
   "source": [
    "pr.send(topic, {'name' : \"Bill White\", \n",
    "                'age' : \"55\",\n",
    "                'job' : \"unknown\",\n",
    "                'marital' : \"divorced\",\n",
    "                'education' : \"university.degree\",\n",
    "                'default' : \"test_wrong\",\n",
    "                'housing' : \"test_wrong\",\n",
    "                'loan' : \"test_wrong\"})"
   ]
  },
  {
   "cell_type": "code",
   "execution_count": 3,
   "id": "copyrighted-merchandise",
   "metadata": {},
   "outputs": [
    {
     "data": {
      "text/plain": [
       "<kafka.producer.future.FutureRecordMetadata at 0x194fb327c70>"
      ]
     },
     "execution_count": 3,
     "metadata": {},
     "output_type": "execute_result"
    }
   ],
   "source": [
    "pr.send(topic, {'name' : \"Imie Nazwisko\", \n",
    "                'age' : \"79\",\n",
    "                'job' : \"retired\",\n",
    "                'marital' : \"divorced\",\n",
    "                'education' : \"unknown\",\n",
    "                'default' : \"no\",\n",
    "                'housing' : \"yes\",\n",
    "                'loan' : \"yes\"})"
   ]
  },
  {
   "cell_type": "code",
   "execution_count": 9,
   "id": "educated-highway",
   "metadata": {},
   "outputs": [],
   "source": [
    "import pandas as pd"
   ]
  },
  {
   "cell_type": "code",
   "execution_count": 13,
   "id": "injured-register",
   "metadata": {},
   "outputs": [
    {
     "data": {
      "text/html": [
       "<div>\n",
       "<style scoped>\n",
       "    .dataframe tbody tr th:only-of-type {\n",
       "        vertical-align: middle;\n",
       "    }\n",
       "\n",
       "    .dataframe tbody tr th {\n",
       "        vertical-align: top;\n",
       "    }\n",
       "\n",
       "    .dataframe thead th {\n",
       "        text-align: right;\n",
       "    }\n",
       "</style>\n",
       "<table border=\"1\" class=\"dataframe\">\n",
       "  <thead>\n",
       "    <tr style=\"text-align: right;\">\n",
       "      <th></th>\n",
       "      <th>0</th>\n",
       "      <th>1</th>\n",
       "      <th>2</th>\n",
       "      <th>3</th>\n",
       "      <th>4</th>\n",
       "      <th>5</th>\n",
       "      <th>6</th>\n",
       "      <th>7</th>\n",
       "      <th>8</th>\n",
       "      <th>9</th>\n",
       "    </tr>\n",
       "  </thead>\n",
       "  <tbody>\n",
       "    <tr>\n",
       "      <th>0</th>\n",
       "      <td>0f2979fd-14e9-457e-a852-87b485eba66d</td>\n",
       "      <td>Karol Duda</td>\n",
       "      <td>30</td>\n",
       "      <td>entrepreneur</td>\n",
       "      <td>married</td>\n",
       "      <td>high.school</td>\n",
       "      <td>no</td>\n",
       "      <td>no</td>\n",
       "      <td>no</td>\n",
       "      <td>0</td>\n",
       "    </tr>\n",
       "    <tr>\n",
       "      <th>1</th>\n",
       "      <td>d7b06931-7f65-41b6-9d86-1f77a8d9c371</td>\n",
       "      <td>Peter Green</td>\n",
       "      <td>45</td>\n",
       "      <td>entrepreneur</td>\n",
       "      <td>divorced</td>\n",
       "      <td>university.degree</td>\n",
       "      <td>no</td>\n",
       "      <td>yes</td>\n",
       "      <td>no</td>\n",
       "      <td>0</td>\n",
       "    </tr>\n",
       "    <tr>\n",
       "      <th>2</th>\n",
       "      <td>81a243dd-73a3-4296-8620-5261975a61f7</td>\n",
       "      <td>John Doe</td>\n",
       "      <td>28</td>\n",
       "      <td>management</td>\n",
       "      <td>single</td>\n",
       "      <td>university.degree</td>\n",
       "      <td>yes</td>\n",
       "      <td>yes</td>\n",
       "      <td>yes</td>\n",
       "      <td>0</td>\n",
       "    </tr>\n",
       "    <tr>\n",
       "      <th>3</th>\n",
       "      <td>e8a9ab36-e143-4855-bad9-93d05b4a0464</td>\n",
       "      <td>Test_user2</td>\n",
       "      <td>55</td>\n",
       "      <td>management</td>\n",
       "      <td>divorced</td>\n",
       "      <td>university.degree</td>\n",
       "      <td>no</td>\n",
       "      <td>no</td>\n",
       "      <td>no</td>\n",
       "      <td>0</td>\n",
       "    </tr>\n",
       "    <tr>\n",
       "      <th>4</th>\n",
       "      <td>6d1bd666-2e3c-4aff-9c81-77b54226ceee</td>\n",
       "      <td>Test_66</td>\n",
       "      <td>85</td>\n",
       "      <td>retired</td>\n",
       "      <td>married</td>\n",
       "      <td>unknown</td>\n",
       "      <td>no</td>\n",
       "      <td>no</td>\n",
       "      <td>no</td>\n",
       "      <td>1</td>\n",
       "    </tr>\n",
       "    <tr>\n",
       "      <th>5</th>\n",
       "      <td>4019551c-80b3-4caa-8a3a-a88e5380c857</td>\n",
       "      <td>Andrzej Popov</td>\n",
       "      <td>69</td>\n",
       "      <td>retired</td>\n",
       "      <td>married</td>\n",
       "      <td>unknown</td>\n",
       "      <td>no</td>\n",
       "      <td>yes</td>\n",
       "      <td>yes</td>\n",
       "      <td>0</td>\n",
       "    </tr>\n",
       "  </tbody>\n",
       "</table>\n",
       "</div>"
      ],
      "text/plain": [
       "                                      0              1   2             3  \\\n",
       "0  0f2979fd-14e9-457e-a852-87b485eba66d     Karol Duda  30  entrepreneur   \n",
       "1  d7b06931-7f65-41b6-9d86-1f77a8d9c371    Peter Green  45  entrepreneur   \n",
       "2  81a243dd-73a3-4296-8620-5261975a61f7       John Doe  28    management   \n",
       "3  e8a9ab36-e143-4855-bad9-93d05b4a0464     Test_user2  55    management   \n",
       "4  6d1bd666-2e3c-4aff-9c81-77b54226ceee        Test_66  85       retired   \n",
       "5  4019551c-80b3-4caa-8a3a-a88e5380c857  Andrzej Popov  69       retired   \n",
       "\n",
       "          4                  5    6    7    8  9  \n",
       "0   married        high.school   no   no   no  0  \n",
       "1  divorced  university.degree   no  yes   no  0  \n",
       "2    single  university.degree  yes  yes  yes  0  \n",
       "3  divorced  university.degree   no   no   no  0  \n",
       "4   married            unknown   no   no   no  1  \n",
       "5   married            unknown   no  yes  yes  0  "
      ]
     },
     "execution_count": 13,
     "metadata": {},
     "output_type": "execute_result"
    }
   ],
   "source": [
    "pd.read_csv('clients2.csv', header=None)"
   ]
  },
  {
   "cell_type": "code",
   "execution_count": null,
   "id": "affiliated-engagement",
   "metadata": {},
   "outputs": [],
   "source": []
  },
  {
   "cell_type": "code",
   "execution_count": null,
   "id": "blocked-liquid",
   "metadata": {},
   "outputs": [],
   "source": []
  }
 ],
 "metadata": {
  "interpreter": {
   "hash": "ecf5722fdaf1897a315d257d89d94520bfcaa453217d5becf09b39e73618b0de"
  },
  "kernelspec": {
   "display_name": "Python 3",
   "language": "python",
   "name": "python3"
  },
  "language_info": {
   "codemirror_mode": {
    "name": "ipython",
    "version": 3
   },
   "file_extension": ".py",
   "mimetype": "text/x-python",
   "name": "python",
   "nbconvert_exporter": "python",
   "pygments_lexer": "ipython3",
   "version": "3.8.8"
  }
 },
 "nbformat": 4,
 "nbformat_minor": 5
}
