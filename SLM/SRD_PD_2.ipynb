{
 "cells": [
  {
   "cell_type": "markdown",
   "metadata": {},
   "source": [
    "# SRD praca domowa 2"
   ]
  },
  {
   "cell_type": "markdown",
   "metadata": {},
   "source": [
    "<b> Termin oddania: 04.02.2019</b>\n",
    "\n",
    "Rozwiązane zadania można wysyłać w 2 formatach. Albo jako skrypt Julia, Python lub R z komentarzami określającymi numer rozwiązywanego zadania i odpowiedziami na zadane pytania, albo jako uzupełniony notatnik z poleceniami (format <tt>.ipynb</tt>) razem z wygenerowanym na jego podstawie plikiem <tt>.html</tt>. Można to zrobić drogą mailową wysyłając plik lub pliki na adres [bpankra@sgh.waw.pl](mailto:bpankra@sgh.waw.pl)"
   ]
  },
  {
   "cell_type": "markdown",
   "metadata": {},
   "source": [
    "Dla zbioru danych dotyczącego właściwości chemicznych 3 odmian wina (zbiór dostępny [tutaj](https://archive.ics.uci.edu/ml/datasets/wine)) należy:\n",
    "\n",
    "- Podzielić zbiór na zbiór trenujący i testowy, przyjmując, że w zbiorze testowmy ma się znaleźć 25% obserwacji. <b>(1 p)</b>.\n",
    "\n",
    "- Znormalizować zmienne objaśniające w modelu<b>(1 p)</b>.\n",
    "\n",
    "- Przeprowadzić klastryzację za pomocą algorytmu k-średnich dla 3 grup. Sprawdzić czy podział na klastry pokrywa się z kategoriami przypisanymi winu. <b>(2 p)</b>.\n",
    "\n",
    "- Dokonać analizy głównych składowych modelu. Ile składowych wyjaśnia więcej niż 80% zmienności cechy? Jaka jest trafność klastryzacji dla tych składowych? <b>(2 p)</b>.\n",
    "\n",
    "- Wybierz dwie główne zmienne składowe. Wykonaj dla nich klastryzację i przedstaw wynik na wykresie. <b>(2 p)</b>.\n",
    "\n",
    "- Czy zmiana metryki z euklidesowej na miejską poprawia trafność klasyfikacji? Uzasadnij zarówno dla modelu bazowego jak i modelu opartego na zmiennych składowych. <b>(2 p)</b>."
   ]
  }
 ],
 "metadata": {
  "kernelspec": {
   "display_name": "Julia 1.6.0-rc1",
   "language": "julia",
   "name": "julia-1.6"
  },
  "language_info": {
   "file_extension": ".jl",
   "mimetype": "application/julia",
   "name": "julia",
   "version": "1.6.0"
  }
 },
 "nbformat": 4,
 "nbformat_minor": 4
}
