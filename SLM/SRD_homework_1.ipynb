{
 "cells": [
  {
   "cell_type": "markdown",
   "id": "adjustable-beatles",
   "metadata": {},
   "source": [
    "Na danych dotyczących diagnozy raka piersi dostępnych tutaj:\n",
    "\n",
    "\n",
    "https://archive.ics.uci.edu/ml/datasets/Breast+Cancer+Coimbra\n",
    "\n",
    "\n",
    "oszacuj regresję logistyczną przewidującą czy dana osoba ma raka piersi czy też nie. Podziel zbiór na zbiory uczący i testowy, przyjmując że ten drugi ma stanowić 20% obserwacji. Nie regularyzuj modelu ani nie usuwaj zmiennych. Po oszacowaniu modelu:\n",
    "\n",
    "\n",
    "a) wyznacz jego czułość i trafność predykcji dla progu odcięcia równego 0.5\n",
    "\n",
    "b) napisz funkcję optymalizującą próg odcięcia pod warunkiem mierzonych finansowo kosztów terapii. Niech:\n",
    "- koszt poprawnego zaklasyfikowania chorej osoby i natychmiastowej terapii wyniesie 48,477*\n",
    "- koszt poprawnego zaklasyfikowania osoby zdrowej wyniesie 0\n",
    "- koszt niepoprawnego zaklasyfikowania chorej osoby jako zdrowej i znacznie późniejszego wykrycia nowotworu wyniesie 89,463*\n",
    "- koszt niepoprawnego zaklasyfikowania osoby zdrowej jako chorej i skierowania jej na dalsze testy wyniesie 751*\n",
    "\n",
    "c) zoptymalizuj próg odcięcia. Dla nowo wyznaczonej jego wartości ponownie wylicz czułość i trafność predykcji. Co zauważasz?\n",
    "\n",
    "\n",
    "PRacę można przygotować w Julii, Pythonie lub R.\n",
    "\n",
    "\n",
    "* Źródło: https://www.ncbi.nlm.nih.gov/pmc/articles/PMC4822976/"
   ]
  },
  {
   "cell_type": "code",
   "execution_count": 1,
   "id": "velvet-humanitarian",
   "metadata": {},
   "outputs": [],
   "source": [
    "import pandas as pd\n",
    "import numpy as np\n",
    "from sklearn.model_selection import train_test_split\n",
    "from sklearn.linear_model import LogisticRegression\n",
    "from sklearn.metrics import accuracy_score, recall_score\n",
    "from sklearn.metrics import confusion_matrix\n",
    "import matplotlib.pyplot as plt\n",
    "from sklearn.metrics import roc_curve\n",
    "\n",
    "SEED = 42"
   ]
  },
  {
   "cell_type": "code",
   "execution_count": 2,
   "id": "expected-projector",
   "metadata": {},
   "outputs": [],
   "source": [
    "data = pd.read_csv('../data/data_slm/dataR2.csv')"
   ]
  },
  {
   "cell_type": "code",
   "execution_count": 3,
   "id": "knowing-answer",
   "metadata": {},
   "outputs": [
    {
     "data": {
      "text/html": [
       "<div>\n",
       "<style scoped>\n",
       "    .dataframe tbody tr th:only-of-type {\n",
       "        vertical-align: middle;\n",
       "    }\n",
       "\n",
       "    .dataframe tbody tr th {\n",
       "        vertical-align: top;\n",
       "    }\n",
       "\n",
       "    .dataframe thead th {\n",
       "        text-align: right;\n",
       "    }\n",
       "</style>\n",
       "<table border=\"1\" class=\"dataframe\">\n",
       "  <thead>\n",
       "    <tr style=\"text-align: right;\">\n",
       "      <th></th>\n",
       "      <th>Age</th>\n",
       "      <th>BMI</th>\n",
       "      <th>Glucose</th>\n",
       "      <th>Insulin</th>\n",
       "      <th>HOMA</th>\n",
       "      <th>Leptin</th>\n",
       "      <th>Adiponectin</th>\n",
       "      <th>Resistin</th>\n",
       "      <th>MCP.1</th>\n",
       "      <th>Classification</th>\n",
       "    </tr>\n",
       "  </thead>\n",
       "  <tbody>\n",
       "    <tr>\n",
       "      <th>0</th>\n",
       "      <td>48</td>\n",
       "      <td>23.500000</td>\n",
       "      <td>70</td>\n",
       "      <td>2.707</td>\n",
       "      <td>0.467409</td>\n",
       "      <td>8.8071</td>\n",
       "      <td>9.702400</td>\n",
       "      <td>7.99585</td>\n",
       "      <td>417.114</td>\n",
       "      <td>1</td>\n",
       "    </tr>\n",
       "    <tr>\n",
       "      <th>1</th>\n",
       "      <td>83</td>\n",
       "      <td>20.690495</td>\n",
       "      <td>92</td>\n",
       "      <td>3.115</td>\n",
       "      <td>0.706897</td>\n",
       "      <td>8.8438</td>\n",
       "      <td>5.429285</td>\n",
       "      <td>4.06405</td>\n",
       "      <td>468.786</td>\n",
       "      <td>1</td>\n",
       "    </tr>\n",
       "    <tr>\n",
       "      <th>2</th>\n",
       "      <td>82</td>\n",
       "      <td>23.124670</td>\n",
       "      <td>91</td>\n",
       "      <td>4.498</td>\n",
       "      <td>1.009651</td>\n",
       "      <td>17.9393</td>\n",
       "      <td>22.432040</td>\n",
       "      <td>9.27715</td>\n",
       "      <td>554.697</td>\n",
       "      <td>1</td>\n",
       "    </tr>\n",
       "    <tr>\n",
       "      <th>3</th>\n",
       "      <td>68</td>\n",
       "      <td>21.367521</td>\n",
       "      <td>77</td>\n",
       "      <td>3.226</td>\n",
       "      <td>0.612725</td>\n",
       "      <td>9.8827</td>\n",
       "      <td>7.169560</td>\n",
       "      <td>12.76600</td>\n",
       "      <td>928.220</td>\n",
       "      <td>1</td>\n",
       "    </tr>\n",
       "    <tr>\n",
       "      <th>4</th>\n",
       "      <td>86</td>\n",
       "      <td>21.111111</td>\n",
       "      <td>92</td>\n",
       "      <td>3.549</td>\n",
       "      <td>0.805386</td>\n",
       "      <td>6.6994</td>\n",
       "      <td>4.819240</td>\n",
       "      <td>10.57635</td>\n",
       "      <td>773.920</td>\n",
       "      <td>1</td>\n",
       "    </tr>\n",
       "  </tbody>\n",
       "</table>\n",
       "</div>"
      ],
      "text/plain": [
       "   Age        BMI  Glucose  Insulin      HOMA   Leptin  Adiponectin  Resistin  \\\n",
       "0   48  23.500000       70    2.707  0.467409   8.8071     9.702400   7.99585   \n",
       "1   83  20.690495       92    3.115  0.706897   8.8438     5.429285   4.06405   \n",
       "2   82  23.124670       91    4.498  1.009651  17.9393    22.432040   9.27715   \n",
       "3   68  21.367521       77    3.226  0.612725   9.8827     7.169560  12.76600   \n",
       "4   86  21.111111       92    3.549  0.805386   6.6994     4.819240  10.57635   \n",
       "\n",
       "     MCP.1  Classification  \n",
       "0  417.114               1  \n",
       "1  468.786               1  \n",
       "2  554.697               1  \n",
       "3  928.220               1  \n",
       "4  773.920               1  "
      ]
     },
     "execution_count": 3,
     "metadata": {},
     "output_type": "execute_result"
    }
   ],
   "source": [
    "data.head()"
   ]
  },
  {
   "cell_type": "markdown",
   "id": "aerial-token",
   "metadata": {},
   "source": [
    "Data Set Information:\n",
    "\n",
    "There are 10 predictors, all quantitative, and a binary dependent variable, indicating the presence or absence of breast cancer.\n",
    "The predictors are anthropometric data and parameters which can be gathered in routine blood analysis.\n",
    "Prediction models based on these predictors, if accurate, can potentially be used as a biomarker of breast cancer.\n",
    "\n",
    "Attribute Information:\n",
    "\n",
    "Quantitative Attributes:\n",
    "Age (years)\n",
    "BMI (kg/m2)\n",
    "Glucose (mg/dL)\n",
    "Insulin (µU/mL)\n",
    "HOMA\n",
    "Leptin (ng/mL)\n",
    "Adiponectin (µg/mL)\n",
    "Resistin (ng/mL)\n",
    "MCP-1(pg/dL)\n",
    "\n",
    "Labels:\n",
    "1=Healthy controls\n",
    "2=Patients"
   ]
  },
  {
   "cell_type": "code",
   "execution_count": 4,
   "id": "moral-multimedia",
   "metadata": {},
   "outputs": [],
   "source": [
    "y = data['Classification']\n",
    "X = data.drop('Classification', axis=1)\n",
    "y = y.apply(lambda x: 0 if x==1 else 1)"
   ]
  },
  {
   "cell_type": "code",
   "execution_count": 11,
   "id": "focused-invention",
   "metadata": {},
   "outputs": [
    {
     "data": {
      "text/plain": [
       "array([[-2.38308378e-02, -1.20355912e-01,  9.52194569e-02,\n",
       "         1.92078453e-01, -5.67372508e-01, -1.53268882e-02,\n",
       "         2.40011097e-03,  4.27985440e-02,  5.46477063e-04]])"
      ]
     },
     "execution_count": 11,
     "metadata": {},
     "output_type": "execute_result"
    }
   ],
   "source": [
    "X_train, X_holdout, y_train, y_holdout = train_test_split(X, y, test_size=0.2, random_state=SEED)\n",
    "clf = LogisticRegression(penalty = 'none', random_state=SEED, max_iter=1000).fit(X_train, y_train)"
   ]
  },
  {
   "cell_type": "markdown",
   "id": "yellow-chocolate",
   "metadata": {},
   "source": [
    "***A***"
   ]
  },
  {
   "cell_type": "code",
   "execution_count": 6,
   "id": "experienced-delivery",
   "metadata": {},
   "outputs": [
    {
     "name": "stdout",
     "output_type": "stream",
     "text": [
      "Czułość = 0.833\n",
      "Trafność = 0.875\n"
     ]
    }
   ],
   "source": [
    "print('Czułość = %.3f' % recall_score(y_holdout, clf.predict(X_holdout)))\n",
    "print('Trafność = %.3f' % accuracy_score(y_holdout, clf.predict(X_holdout)))"
   ]
  },
  {
   "cell_type": "markdown",
   "id": "proof-invasion",
   "metadata": {},
   "source": [
    "***B***"
   ]
  },
  {
   "cell_type": "code",
   "execution_count": 7,
   "id": "subject-option",
   "metadata": {},
   "outputs": [],
   "source": [
    "def threshold_optima(model, table=False, plot=False):\n",
    "\n",
    "    thresholds = np.linspace(0.1, 0.9, 81)\n",
    "    results = pd.DataFrame(columns = [\"threshold\", \"tn\", \"fp\", \"fn\", \"tp\", \"costs\"])\n",
    "    for threshold in thresholds:\n",
    "        y_new_pred = (model.predict_proba(X_holdout)[:,1] >= threshold).astype(int)\n",
    "        tn, fp, fn, tp = confusion_matrix(y_holdout, y_new_pred).ravel()\n",
    "        \n",
    "        costs = 48477 * tp + 0 * tn + 89463 * fn + 751 * fp\n",
    "        \n",
    "        output = pd.Series([threshold, tn, fp, fn, tp, costs], index=results.columns)\n",
    "        results = results.append(output, ignore_index=True)\n",
    "    idx = np.argmin(results['costs'])\n",
    "    print(\"Najlepszy próg odcięcia = %.2f\" % thresholds[idx])\n",
    "    \n",
    "    if table != False:\n",
    "        return results\n",
    "    \n",
    "    if plot != False:\n",
    "        plt.figure(figsize=(10,5)) \n",
    "        plt.plot(results['threshold'], results['costs'], marker='.', label='costs', color='green')\n",
    "        plt.xlabel('threshold')\n",
    "        plt.ylabel('costs')\n",
    "        plt.legend()\n",
    "        plt.show();"
   ]
  },
  {
   "cell_type": "code",
   "execution_count": 8,
   "id": "accomplished-precipitation",
   "metadata": {},
   "outputs": [
    {
     "name": "stdout",
     "output_type": "stream",
     "text": [
      "Najlepszy próg odcięcia = 0.22\n"
     ]
    },
    {
     "data": {
      "image/png": "[encoded data removed]",
      "text/plain": [
       "<Figure size 720x360 with 1 Axes>"
      ]
     },
     "metadata": {
      "needs_background": "light"
     },
     "output_type": "display_data"
    }
   ],
   "source": [
    "threshold_optima(clf, plot=True)"
   ]
  },
  {
   "cell_type": "markdown",
   "id": "medical-activation",
   "metadata": {},
   "source": [
    "***C***"
   ]
  },
  {
   "cell_type": "code",
   "execution_count": 10,
   "id": "arbitrary-bobby",
   "metadata": {},
   "outputs": [
    {
     "name": "stdout",
     "output_type": "stream",
     "text": [
      "Czułość = 1.000\n",
      "Trafność = 0.750\n"
     ]
    }
   ],
   "source": [
    "y_new_pred = (clf.predict_proba(X_holdout)[:,1] >= 0.22).astype(int)\n",
    "print('Czułość = %.3f' % recall_score(y_holdout, y_new_pred))\n",
    "print('Trafność = %.3f' % accuracy_score(y_holdout, y_new_pred))"
   ]
  },
  {
   "cell_type": "markdown",
   "id": "adjacent-newark",
   "metadata": {},
   "source": [
    "Jeżeli chodzi o diagnozie raka piersi, to najważniejsze jest zmnejszyć ilość FN i powiększyć ilość TN.Czułość (True Positive rate) mierzy odsetek pozytywów, które są prawidłowo zidentyfikowane. W tym wupadku сzułość jest najlepszą miarą i równa się 1."
   ]
  },
  {
   "cell_type": "code",
   "execution_count": null,
   "id": "alternate-humidity",
   "metadata": {},
   "outputs": [],
   "source": []
  }
 ],
 "metadata": {
  "kernelspec": {
   "display_name": "Python 3",
   "language": "python",
   "name": "python3"
  },
  "language_info": {
   "codemirror_mode": {
    "name": "ipython",
    "version": 3
   },
   "file_extension": ".py",
   "mimetype": "text/x-python",
   "name": "python",
   "nbconvert_exporter": "python",
   "pygments_lexer": "ipython3",
   "version": "3.8.8"
  }
 },
 "nbformat": 4,
 "nbformat_minor": 5
}
