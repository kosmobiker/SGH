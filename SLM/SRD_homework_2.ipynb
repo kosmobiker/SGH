{
 "cells": [
  {
   "cell_type": "markdown",
   "metadata": {},
   "source": [
    "# Statystyczne reguły decyzyjne\n",
    "\n",
    "- Uladzislau Darhevich ud108519@student.sgh.waw.pl\n",
    "- Maciej Morzywołek mm107854@student.sgh.waw.pl\n",
    "\n",
    "## Praca domowa #2\n",
    "\n",
    "###  Zadanie 1\n",
    "\n",
    "Przeprowadziliśmy procedurę wyboru najlepszego modelu dla regresji LASSO. Przeprowadź taką samą analizę dla regresji grzbietowej i modelu Elastic-Net. Który z modeli jest najlepszy? Odpowiedź uzasadnij "
   ]
  },
  {
   "cell_type": "code",
   "execution_count": 25,
   "metadata": {},
   "outputs": [],
   "source": [
    "import matplotlib.pyplot as plt\n",
    "import seaborn as sns\n",
    "\n",
    "%matplotlib inline\n",
    "\n",
    "import numpy as np\n",
    "import pandas as pd\n",
    "from sklearn.model_selection import train_test_split\n",
    "from sklearn.linear_model import Ridge\n",
    "from sklearn.linear_model import ElasticNet\n",
    "from sklearn import metrics\n",
    "from sklearn.linear_model import LogisticRegression\n",
    "from sklearn.preprocessing import StandardScaler\n",
    "\n",
    "SEED = 42"
   ]
  },
  {
   "cell_type": "code",
   "execution_count": 29,
   "metadata": {},
   "outputs": [
    {
     "data": {
      "text/html": [
       "<div>\n",
       "<style scoped>\n",
       "    .dataframe tbody tr th:only-of-type {\n",
       "        vertical-align: middle;\n",
       "    }\n",
       "\n",
       "    .dataframe tbody tr th {\n",
       "        vertical-align: top;\n",
       "    }\n",
       "\n",
       "    .dataframe thead th {\n",
       "        text-align: right;\n",
       "    }\n",
       "</style>\n",
       "<table border=\"1\" class=\"dataframe\">\n",
       "  <thead>\n",
       "    <tr style=\"text-align: right;\">\n",
       "      <th></th>\n",
       "      <th>0</th>\n",
       "      <th>1</th>\n",
       "      <th>2</th>\n",
       "      <th>3</th>\n",
       "      <th>4</th>\n",
       "      <th>5</th>\n",
       "      <th>6</th>\n",
       "      <th>7</th>\n",
       "      <th>8</th>\n",
       "      <th>9</th>\n",
       "      <th>10</th>\n",
       "      <th>11</th>\n",
       "      <th>12</th>\n",
       "      <th>13</th>\n",
       "      <th>14</th>\n",
       "    </tr>\n",
       "  </thead>\n",
       "  <tbody>\n",
       "    <tr>\n",
       "      <th>0</th>\n",
       "      <td>1</td>\n",
       "      <td>22.08</td>\n",
       "      <td>11.46</td>\n",
       "      <td>2</td>\n",
       "      <td>4</td>\n",
       "      <td>4</td>\n",
       "      <td>1.585</td>\n",
       "      <td>0</td>\n",
       "      <td>0</td>\n",
       "      <td>0</td>\n",
       "      <td>1</td>\n",
       "      <td>2</td>\n",
       "      <td>100</td>\n",
       "      <td>1213</td>\n",
       "      <td>0</td>\n",
       "    </tr>\n",
       "    <tr>\n",
       "      <th>1</th>\n",
       "      <td>0</td>\n",
       "      <td>22.67</td>\n",
       "      <td>7.00</td>\n",
       "      <td>2</td>\n",
       "      <td>8</td>\n",
       "      <td>4</td>\n",
       "      <td>0.165</td>\n",
       "      <td>0</td>\n",
       "      <td>0</td>\n",
       "      <td>0</td>\n",
       "      <td>0</td>\n",
       "      <td>2</td>\n",
       "      <td>160</td>\n",
       "      <td>1</td>\n",
       "      <td>0</td>\n",
       "    </tr>\n",
       "    <tr>\n",
       "      <th>2</th>\n",
       "      <td>0</td>\n",
       "      <td>29.58</td>\n",
       "      <td>1.75</td>\n",
       "      <td>1</td>\n",
       "      <td>4</td>\n",
       "      <td>4</td>\n",
       "      <td>1.250</td>\n",
       "      <td>0</td>\n",
       "      <td>0</td>\n",
       "      <td>0</td>\n",
       "      <td>1</td>\n",
       "      <td>2</td>\n",
       "      <td>280</td>\n",
       "      <td>1</td>\n",
       "      <td>0</td>\n",
       "    </tr>\n",
       "  </tbody>\n",
       "</table>\n",
       "</div>"
      ],
      "text/plain": [
       "   0      1      2   3   4   5      6   7   8   9   10  11   12    13  14\n",
       "0   1  22.08  11.46   2   4   4  1.585   0   0   0   1   2  100  1213   0\n",
       "1   0  22.67   7.00   2   8   4  0.165   0   0   0   0   2  160     1   0\n",
       "2   0  29.58   1.75   1   4   4  1.250   0   0   0   1   2  280     1   0"
      ]
     },
     "execution_count": 29,
     "metadata": {},
     "output_type": "execute_result"
    }
   ],
   "source": [
    "# pobieranie danych\n",
    "data = pd.read_csv(\"http://archive.ics.uci.edu/ml/machine-learning-databases/statlog/australian/australian.dat\", \n",
    "                   sep = ' ', \n",
    "                   header=None)\n",
    "data.head(3)"
   ]
  },
  {
   "cell_type": "code",
   "execution_count": 30,
   "metadata": {},
   "outputs": [],
   "source": [
    "# podział danych na zmienne zmienne opisujące i zmienną celu\n",
    "y = data[14]\n",
    "X = data.loc[:, data.columns != 14]"
   ]
  },
  {
   "cell_type": "code",
   "execution_count": 31,
   "metadata": {},
   "outputs": [],
   "source": [
    "# podział zbiorów na treningowy (70% obserwacji) i testowy (30% obserwacji)\n",
    "X_train, X_test, y_train, y_test = train_test_split(X, y, \n",
    "                                                    test_size=0.3, \n",
    "                                                    random_state=SEED)"
   ]
  },
  {
   "cell_type": "markdown",
   "metadata": {},
   "source": [
    "### Regresja grzbietowa\n",
    "\n",
    "$$\\hat{\\beta}^{ridge} = \\underset{\\beta}{\\operatorname{argmin}}\\{\\sum_{i=1}^n(y_i - \\beta_0 - \\sum_{j-1}^k x_{ij}\\beta_j)^2 + \\lambda \\sum_{j=1}^k \\beta_j^2\\}$$\n",
    "\n",
    "gdzie $\\lambda$ kontroluje wielkość kurczenia parametrów. Regresję grzbietową możemy zapisać też jako problem optymalizacyjny:"
   ]
  },
  {
   "cell_type": "code",
   "execution_count": 32,
   "metadata": {},
   "outputs": [],
   "source": [
    "# weźmy kilka rożnych alpha\n",
    "alphas = np.logspace(-3, 3, 20)"
   ]
  },
  {
   "cell_type": "code",
   "execution_count": 33,
   "metadata": {},
   "outputs": [],
   "source": [
    "# do DataFram'u będziemy zbierać wyniki\n",
    "res = pd.DataFrame(columns = ['alpha', 'accuracy'])"
   ]
  },
  {
   "cell_type": "code",
   "execution_count": 34,
   "metadata": {},
   "outputs": [],
   "source": [
    "for alpha in alphas:\n",
    "    clf = Ridge(alpha = alpha, normalize=True, random_state=SEED)\n",
    "    clf.fit(X_train, y_train)\n",
    "    y_pred = np.where(clf.predict(X_test) > 0.5, 1, 0)\n",
    "    acc = accuracy_score(y_test, y_pred)\n",
    "    res = res.append({'alpha' : alpha, 'accuracy': acc}, ignore_index=True)"
   ]
  },
  {
   "cell_type": "code",
   "execution_count": 35,
   "metadata": {},
   "outputs": [
    {
     "data": {
      "text/html": [
       "<div>\n",
       "<style scoped>\n",
       "    .dataframe tbody tr th:only-of-type {\n",
       "        vertical-align: middle;\n",
       "    }\n",
       "\n",
       "    .dataframe tbody tr th {\n",
       "        vertical-align: top;\n",
       "    }\n",
       "\n",
       "    .dataframe thead th {\n",
       "        text-align: right;\n",
       "    }\n",
       "</style>\n",
       "<table border=\"1\" class=\"dataframe\">\n",
       "  <thead>\n",
       "    <tr style=\"text-align: right;\">\n",
       "      <th></th>\n",
       "      <th>alpha</th>\n",
       "      <th>accuracy</th>\n",
       "    </tr>\n",
       "  </thead>\n",
       "  <tbody>\n",
       "    <tr>\n",
       "      <th>9</th>\n",
       "      <td>0.695193</td>\n",
       "      <td>0.884058</td>\n",
       "    </tr>\n",
       "    <tr>\n",
       "      <th>6</th>\n",
       "      <td>0.078476</td>\n",
       "      <td>0.874396</td>\n",
       "    </tr>\n",
       "    <tr>\n",
       "      <th>0</th>\n",
       "      <td>0.001000</td>\n",
       "      <td>0.869565</td>\n",
       "    </tr>\n",
       "    <tr>\n",
       "      <th>11</th>\n",
       "      <td>2.976351</td>\n",
       "      <td>0.869565</td>\n",
       "    </tr>\n",
       "    <tr>\n",
       "      <th>1</th>\n",
       "      <td>0.002069</td>\n",
       "      <td>0.869565</td>\n",
       "    </tr>\n",
       "  </tbody>\n",
       "</table>\n",
       "</div>"
      ],
      "text/plain": [
       "       alpha  accuracy\n",
       "9   0.695193  0.884058\n",
       "6   0.078476  0.874396\n",
       "0   0.001000  0.869565\n",
       "11  2.976351  0.869565\n",
       "1   0.002069  0.869565"
      ]
     },
     "execution_count": 35,
     "metadata": {},
     "output_type": "execute_result"
    }
   ],
   "source": [
    "res.sort_values(by='accuracy', ascending=False).head()"
   ]
  },
  {
   "cell_type": "markdown",
   "metadata": {},
   "source": [
    "### Elastic-Net\n",
    "\n",
    "<b> Elastic Net</b> jest metodą, która strara się łączyć zalety obu typów regularyzacji przy możliwie największym ograniczeniu ich wad. Polega ona na oszacowaniu kombinacji liniowej obu metod:\n",
    "\n",
    "$$\\hat{\\beta}^{Elastic} = \\underset{\\beta}{\\operatorname{argmin}}\\{\\frac{1}{2}\\sum_{i=1}^n(y_i - \\beta_0 - \\sum_{j-1}^k x_{ij}\\beta_j)^2 + \\lambda \\sum_{j=1}^k (\\alpha|\\beta_j| + (1-\\alpha)\\beta_j^2)\\}$$\n",
    "\n",
    "gdzie $\\alpha \\in (0,1)$"
   ]
  },
  {
   "cell_type": "code",
   "execution_count": 36,
   "metadata": {},
   "outputs": [],
   "source": [
    "alphas = np.logspace(-3, 3, 20)\n",
    "l1_ratio = np.linspace(0.1, 0.9, 9)"
   ]
  },
  {
   "cell_type": "code",
   "execution_count": 37,
   "metadata": {},
   "outputs": [],
   "source": [
    "# do DataFram'u będziemy zbierać wyniki\n",
    "res = pd.DataFrame(columns = ['alpha', 'l1_ratio', 'accuracy'])"
   ]
  },
  {
   "cell_type": "code",
   "execution_count": 38,
   "metadata": {},
   "outputs": [],
   "source": [
    "for alpha in alphas:\n",
    "    for l1 in l1_ratio:\n",
    "        clf = ElasticNet(alpha = alpha, l1_ratio=l1, normalize=True, random_state=SEED)\n",
    "        clf.fit(X_train, y_train)\n",
    "        y_pred = np.where(clf.predict(X_test) > 0.5, 1, 0)\n",
    "        acc = accuracy_score(y_test, y_pred)\n",
    "        res = res.append({'alpha' : alpha, 'l1_ratio' : l1, 'accuracy': acc}, ignore_index=True)"
   ]
  },
  {
   "cell_type": "code",
   "execution_count": 39,
   "metadata": {},
   "outputs": [
    {
     "data": {
      "text/html": [
       "<div>\n",
       "<style scoped>\n",
       "    .dataframe tbody tr th:only-of-type {\n",
       "        vertical-align: middle;\n",
       "    }\n",
       "\n",
       "    .dataframe tbody tr th {\n",
       "        vertical-align: top;\n",
       "    }\n",
       "\n",
       "    .dataframe thead th {\n",
       "        text-align: right;\n",
       "    }\n",
       "</style>\n",
       "<table border=\"1\" class=\"dataframe\">\n",
       "  <thead>\n",
       "    <tr style=\"text-align: right;\">\n",
       "      <th></th>\n",
       "      <th>alpha</th>\n",
       "      <th>l1_ratio</th>\n",
       "      <th>accuracy</th>\n",
       "    </tr>\n",
       "  </thead>\n",
       "  <tbody>\n",
       "    <tr>\n",
       "      <th>19</th>\n",
       "      <td>0.004281</td>\n",
       "      <td>0.2</td>\n",
       "      <td>0.874396</td>\n",
       "    </tr>\n",
       "    <tr>\n",
       "      <th>18</th>\n",
       "      <td>0.004281</td>\n",
       "      <td>0.1</td>\n",
       "      <td>0.874396</td>\n",
       "    </tr>\n",
       "    <tr>\n",
       "      <th>31</th>\n",
       "      <td>0.008859</td>\n",
       "      <td>0.5</td>\n",
       "      <td>0.874396</td>\n",
       "    </tr>\n",
       "    <tr>\n",
       "      <th>5</th>\n",
       "      <td>0.001000</td>\n",
       "      <td>0.6</td>\n",
       "      <td>0.874396</td>\n",
       "    </tr>\n",
       "    <tr>\n",
       "      <th>28</th>\n",
       "      <td>0.008859</td>\n",
       "      <td>0.2</td>\n",
       "      <td>0.874396</td>\n",
       "    </tr>\n",
       "  </tbody>\n",
       "</table>\n",
       "</div>"
      ],
      "text/plain": [
       "       alpha  l1_ratio  accuracy\n",
       "19  0.004281       0.2  0.874396\n",
       "18  0.004281       0.1  0.874396\n",
       "31  0.008859       0.5  0.874396\n",
       "5   0.001000       0.6  0.874396\n",
       "28  0.008859       0.2  0.874396"
      ]
     },
     "execution_count": 39,
     "metadata": {},
     "output_type": "execute_result"
    }
   ],
   "source": [
    "res.sort_values(by='accuracy', ascending=False).head()"
   ]
  },
  {
   "cell_type": "markdown",
   "metadata": {},
   "source": [
    "\n",
    "\n",
    "\n"
   ]
  },
  {
   "cell_type": "markdown",
   "metadata": {},
   "source": [
    "## Zadanie 2\n",
    "\n",
    "Na danych dostepnych [tutaj](https://raw.githubusercontent.com/bartoszpankratz/223490-0286-SRD-Zaoczne/master/data_ROC_PR.csv) oszacuj model regresji logistycznej i spróbuj ocenić jego trafność korzystając z krzywych <i>ROC</i> i <i>Precision-Recall</i>. Co zauważasz? <b>(5 pkt.)</b>"
   ]
  },
  {
   "cell_type": "code",
   "execution_count": 49,
   "metadata": {},
   "outputs": [
    {
     "data": {
      "text/html": [
       "<div>\n",
       "<style scoped>\n",
       "    .dataframe tbody tr th:only-of-type {\n",
       "        vertical-align: middle;\n",
       "    }\n",
       "\n",
       "    .dataframe tbody tr th {\n",
       "        vertical-align: top;\n",
       "    }\n",
       "\n",
       "    .dataframe thead th {\n",
       "        text-align: right;\n",
       "    }\n",
       "</style>\n",
       "<table border=\"1\" class=\"dataframe\">\n",
       "  <thead>\n",
       "    <tr style=\"text-align: right;\">\n",
       "      <th></th>\n",
       "      <th>x1</th>\n",
       "      <th>x2</th>\n",
       "      <th>x3</th>\n",
       "      <th>x4</th>\n",
       "      <th>x5</th>\n",
       "      <th>x6</th>\n",
       "      <th>x7</th>\n",
       "      <th>x8</th>\n",
       "      <th>x9</th>\n",
       "      <th>x10</th>\n",
       "      <th>y</th>\n",
       "    </tr>\n",
       "  </thead>\n",
       "  <tbody>\n",
       "    <tr>\n",
       "      <th>0</th>\n",
       "      <td>-2.101187</td>\n",
       "      <td>-0.247208</td>\n",
       "      <td>-1.989335</td>\n",
       "      <td>-1.484556</td>\n",
       "      <td>1.128668</td>\n",
       "      <td>-0.925564</td>\n",
       "      <td>1.210290</td>\n",
       "      <td>2.070526</td>\n",
       "      <td>0.091527</td>\n",
       "      <td>-2.376400</td>\n",
       "      <td>0</td>\n",
       "    </tr>\n",
       "    <tr>\n",
       "      <th>1</th>\n",
       "      <td>0.323703</td>\n",
       "      <td>-0.126894</td>\n",
       "      <td>-1.309524</td>\n",
       "      <td>-0.022738</td>\n",
       "      <td>-0.398725</td>\n",
       "      <td>0.280419</td>\n",
       "      <td>0.034598</td>\n",
       "      <td>1.184820</td>\n",
       "      <td>-0.186802</td>\n",
       "      <td>1.969326</td>\n",
       "      <td>0</td>\n",
       "    </tr>\n",
       "    <tr>\n",
       "      <th>2</th>\n",
       "      <td>-4.375435</td>\n",
       "      <td>0.334123</td>\n",
       "      <td>-0.852703</td>\n",
       "      <td>-2.701280</td>\n",
       "      <td>2.699135</td>\n",
       "      <td>-2.141198</td>\n",
       "      <td>-2.233844</td>\n",
       "      <td>-0.066448</td>\n",
       "      <td>-0.313881</td>\n",
       "      <td>1.499174</td>\n",
       "      <td>0</td>\n",
       "    </tr>\n",
       "    <tr>\n",
       "      <th>3</th>\n",
       "      <td>-1.537919</td>\n",
       "      <td>1.627132</td>\n",
       "      <td>0.484649</td>\n",
       "      <td>-1.020738</td>\n",
       "      <td>0.884990</td>\n",
       "      <td>-0.713543</td>\n",
       "      <td>0.943132</td>\n",
       "      <td>0.713558</td>\n",
       "      <td>-0.468041</td>\n",
       "      <td>0.075341</td>\n",
       "      <td>0</td>\n",
       "    </tr>\n",
       "    <tr>\n",
       "      <th>4</th>\n",
       "      <td>-3.240622</td>\n",
       "      <td>0.338141</td>\n",
       "      <td>-0.186530</td>\n",
       "      <td>-2.238088</td>\n",
       "      <td>1.786790</td>\n",
       "      <td>-1.455719</td>\n",
       "      <td>0.951526</td>\n",
       "      <td>0.398790</td>\n",
       "      <td>0.729005</td>\n",
       "      <td>0.372213</td>\n",
       "      <td>0</td>\n",
       "    </tr>\n",
       "  </tbody>\n",
       "</table>\n",
       "</div>"
      ],
      "text/plain": [
       "         x1        x2        x3        x4        x5        x6        x7  \\\n",
       "0 -2.101187 -0.247208 -1.989335 -1.484556  1.128668 -0.925564  1.210290   \n",
       "1  0.323703 -0.126894 -1.309524 -0.022738 -0.398725  0.280419  0.034598   \n",
       "2 -4.375435  0.334123 -0.852703 -2.701280  2.699135 -2.141198 -2.233844   \n",
       "3 -1.537919  1.627132  0.484649 -1.020738  0.884990 -0.713543  0.943132   \n",
       "4 -3.240622  0.338141 -0.186530 -2.238088  1.786790 -1.455719  0.951526   \n",
       "\n",
       "         x8        x9       x10  y  \n",
       "0  2.070526  0.091527 -2.376400  0  \n",
       "1  1.184820 -0.186802  1.969326  0  \n",
       "2 -0.066448 -0.313881  1.499174  0  \n",
       "3  0.713558 -0.468041  0.075341  0  \n",
       "4  0.398790  0.729005  0.372213  0  "
      ]
     },
     "execution_count": 49,
     "metadata": {},
     "output_type": "execute_result"
    }
   ],
   "source": [
    "data = pd.read_csv(\"../data/data_slm/data_ROC_PR.csv\")\n",
    "data.head()"
   ]
  },
  {
   "cell_type": "code",
   "execution_count": 41,
   "metadata": {},
   "outputs": [],
   "source": [
    "# podział danych na zmienne zmienne opisujące i zmienną celu\n",
    "y = data['y']\n",
    "X = data.loc[:, data.columns != 'y']"
   ]
  },
  {
   "cell_type": "code",
   "execution_count": 42,
   "metadata": {},
   "outputs": [],
   "source": [
    "scaler = StandardScaler()\n",
    "X = scaler.fit_transform(X)"
   ]
  },
  {
   "cell_type": "code",
   "execution_count": 43,
   "metadata": {},
   "outputs": [],
   "source": [
    "# podział zbiorów na treningowy i testowy\n",
    "X_train, X_test, y_train, y_test = train_test_split(X, y, \n",
    "                                                    test_size = 0.3,\n",
    "                                                    random_state = SEED)"
   ]
  },
  {
   "cell_type": "code",
   "execution_count": 44,
   "metadata": {},
   "outputs": [
    {
     "data": {
      "text/plain": [
       "LogisticRegression(random_state=42, solver='liblinear')"
      ]
     },
     "execution_count": 44,
     "metadata": {},
     "output_type": "execute_result"
    }
   ],
   "source": [
    "# budowa modelu\n",
    "lr = LogisticRegression(random_state=SEED, solver='liblinear')\n",
    "lr.fit(X_train, y_train)"
   ]
  },
  {
   "cell_type": "code",
   "execution_count": 45,
   "metadata": {},
   "outputs": [
    {
     "data": {
      "image/png": "[encoded data removed]",
      "text/plain": [
       "<Figure size 576x576 with 1 Axes>"
      ]
     },
     "metadata": {
      "needs_background": "light"
     },
     "output_type": "display_data"
    }
   ],
   "source": [
    "probas = lr.predict_proba(X_test)[:, 1]\n",
    "fpr, tpr, thresholds = roc_curve(y_test, probas)\n",
    "plt.figure(figsize=(8, 8)) \n",
    "plt.plot([0,1], [0,1], linestyle='--', label='Random')\n",
    "plt.plot(fpr, tpr, marker='.', label='Logistic')\n",
    "plt.xlabel('False Positive Rate')\n",
    "plt.ylabel('True Positive Rate')\n",
    "plt.legend()\n",
    "plt.show()"
   ]
  },
  {
   "cell_type": "code",
   "execution_count": 46,
   "metadata": {},
   "outputs": [
    {
     "name": "stdout",
     "output_type": "stream",
     "text": [
      "ROC_AUC score wynosi 0.9044\n"
     ]
    }
   ],
   "source": [
    "print(\"ROC_AUC score wynosi {}\" .format(round(roc_auc_score(y_test, probas), 4)))"
   ]
  },
  {
   "cell_type": "code",
   "execution_count": 47,
   "metadata": {},
   "outputs": [
    {
     "data": {
      "image/png": "[encoded data removed]",
      "text/plain": [
       "<Figure size 576x576 with 1 Axes>"
      ]
     },
     "metadata": {
      "needs_background": "light"
     },
     "output_type": "display_data"
    }
   ],
   "source": [
    "probas = lr.predict_proba(X_test)[:, 1]\n",
    "precision, recall, thresholds = precision_recall_curve(y_test, probas)\n",
    "plt.figure(figsize=(8, 8)) \n",
    "plt.plot([0, 1], [0.5, 0.5], linestyle='--', label='Random')\n",
    "plt.plot(precision, recall, marker='.', label='Logistic', color = 'green')\n",
    "plt.xlabel('Recall')\n",
    "plt.ylabel('Precision')\n",
    "plt.legend()\n",
    "plt.show()"
   ]
  },
  {
   "cell_type": "code",
   "execution_count": 48,
   "metadata": {},
   "outputs": [
    {
     "name": "stdout",
     "output_type": "stream",
     "text": [
      "Recall-precision_AUC score wynosi 0.4633\n"
     ]
    }
   ],
   "source": [
    "print(\"Recall-precision_AUC score wynosi {}\" .format(round(metrics.auc(recall, precision), 4)))"
   ]
  },
  {
   "cell_type": "markdown",
   "metadata": {},
   "source": [
    "Recall-precision_AUC score jest mniejszy niż 0.5. To znaczy, że ten model osiąga gorsze wyniki niż losowy klasyfikator. Należy zwrócić szczególną uwagę na dane wejściowe."
   ]
  }
 ],
 "metadata": {
  "kernelspec": {
   "display_name": "Python 3",
   "language": "python",
   "name": "python3"
  },
  "language_info": {
   "codemirror_mode": {
    "name": "ipython",
    "version": 3
   },
   "file_extension": ".py",
   "mimetype": "text/x-python",
   "name": "python",
   "nbconvert_exporter": "python",
   "pygments_lexer": "ipython3",
   "version": "3.8.8"
  },
  "metadata": {
   "interpreter": {
    "hash": "3db2e4f5f2e50dc90bc3ff74bc1b6808a3250f698e3ffc6f59a13af7f6b14454"
   }
  }
 },
 "nbformat": 4,
 "nbformat_minor": 4
}
