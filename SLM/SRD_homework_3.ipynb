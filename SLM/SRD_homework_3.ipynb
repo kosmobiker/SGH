{
 "cells": [
  {
   "cell_type": "markdown",
   "id": "complete-january",
   "metadata": {},
   "source": [
    "# Statystyczne reguły decyzyjne\n",
    "\n",
    "- Uladzislau Darhevich ud108519@student.sgh.waw.pl\n",
    "\n",
    "## Praca domowa #3\n",
    "\n",
    "###  Zadanie 2\n",
    "\n",
    "Uruchom algorytmy grupowania hierarchicznego i DBSCAN na danych ze zbioru MNIST. Wybierz najlepsze wartości ich parametrów wejściowych. Wyznacz dla nich wynik ARI i AMI. Który z trzech omawianych algorytmów daje najlepszy rezultat? (10 punktów)"
   ]
  },
  {
   "cell_type": "code",
   "execution_count": 1,
   "id": "conditional-advocacy",
   "metadata": {},
   "outputs": [],
   "source": [
    "import numpy as np\n",
    "import pandas as pd\n",
    "import matplotlib.pyplot as plt\n",
    "%matplotlib inline\n",
    "from sklearn import metrics\n",
    "from sklearn import datasets\n",
    "from sklearn.manifold import TSNE\n",
    "from sklearn.cluster import KMeans, AgglomerativeClustering, AffinityPropagation, SpectralClustering, DBSCAN\n",
    "\n",
    "SEED = 42"
   ]
  },
  {
   "cell_type": "code",
   "execution_count": 2,
   "id": "rough-albuquerque",
   "metadata": {},
   "outputs": [],
   "source": [
    "digits = datasets.load_digits()\n",
    "X = digits.data\n",
    "y = digits.target"
   ]
  },
  {
   "cell_type": "code",
   "execution_count": 3,
   "id": "ceramic-conditions",
   "metadata": {},
   "outputs": [
    {
     "data": {
      "image/png": "[encoded data removed]",
      "text/plain": [
       "<Figure size 1152x432 with 10 Axes>"
      ]
     },
     "metadata": {
      "needs_background": "light"
     },
     "output_type": "display_data"
    }
   ],
   "source": [
    "plt.figure(figsize=(16, 6))\n",
    "for i in range(10):\n",
    "    plt.subplot(2, 5, i + 1)\n",
    "    plt.imshow(X[i,:].reshape([8,8]));"
   ]
  },
  {
   "cell_type": "code",
   "execution_count": 17,
   "id": "civil-mason",
   "metadata": {},
   "outputs": [
    {
     "data": {
      "text/html": [
       "<div>\n",
       "<style scoped>\n",
       "    .dataframe tbody tr th:only-of-type {\n",
       "        vertical-align: middle;\n",
       "    }\n",
       "\n",
       "    .dataframe tbody tr th {\n",
       "        vertical-align: top;\n",
       "    }\n",
       "\n",
       "    .dataframe thead th {\n",
       "        text-align: right;\n",
       "    }\n",
       "</style>\n",
       "<table border=\"1\" class=\"dataframe\">\n",
       "  <thead>\n",
       "    <tr style=\"text-align: right;\">\n",
       "      <th></th>\n",
       "      <th>ARI</th>\n",
       "      <th>AMI</th>\n",
       "    </tr>\n",
       "  </thead>\n",
       "  <tbody>\n",
       "    <tr>\n",
       "      <th>K-means</th>\n",
       "      <td>0.665</td>\n",
       "      <td>0.7389</td>\n",
       "    </tr>\n",
       "    <tr>\n",
       "      <th>Agglomerative</th>\n",
       "      <td>0.794</td>\n",
       "      <td>0.8668</td>\n",
       "    </tr>\n",
       "    <tr>\n",
       "      <th>DBSCAN</th>\n",
       "      <td>0.000</td>\n",
       "      <td>0.0000</td>\n",
       "    </tr>\n",
       "  </tbody>\n",
       "</table>\n",
       "</div>"
      ],
      "text/plain": [
       "                 ARI     AMI\n",
       "K-means        0.665  0.7389\n",
       "Agglomerative  0.794  0.8668\n",
       "DBSCAN         0.000  0.0000"
      ]
     },
     "execution_count": 17,
     "metadata": {},
     "output_type": "execute_result"
    }
   ],
   "source": [
    "algorithms = []\n",
    "algorithms.append(KMeans(n_clusters=10, random_state=SEED))\n",
    "algorithms.append(AgglomerativeClustering(n_clusters=10))\n",
    "algorithms.append(DBSCAN(eps=1, min_samples=5))\n",
    "\n",
    "data = []\n",
    "for algo in algorithms:\n",
    "    algo.fit(X)\n",
    "    data.append(({\n",
    "        'ARI': round(metrics.adjusted_rand_score(y, algo.labels_), 4),\n",
    "        'AMI': round(metrics.adjusted_mutual_info_score(y, algo.labels_), 4)}))\n",
    "\n",
    "results = pd.DataFrame(data=data, columns=['ARI', 'AMI'],\n",
    "                       index=['K-means', 'Agglomerative', 'DBSCAN'])\n",
    "\n",
    "results"
   ]
  },
  {
   "cell_type": "markdown",
   "id": "automatic-orchestra",
   "metadata": {},
   "source": [
    "Z tabeli widać, że najlepiej działa  Agglomerative Clustering (algorytm grupowania hierarchicznego). Wartości ARI oraz AMI bliskie zeru mówią o niezależności podziałów, a bliskie jedności mówią o ich podobieństwie.\n",
    "\n",
    "Użyjmy metodę redukcji wymiarów t-SNE"
   ]
  },
  {
   "cell_type": "code",
   "execution_count": 18,
   "id": "musical-facing",
   "metadata": {},
   "outputs": [
    {
     "name": "stdout",
     "output_type": "stream",
     "text": [
      "Wall time: 12.8 s\n"
     ]
    }
   ],
   "source": [
    "%%time\n",
    "\n",
    "tsne = TSNE(random_state=SEED)\n",
    "X_tsne = tsne.fit_transform(X)"
   ]
  },
  {
   "cell_type": "code",
   "execution_count": 26,
   "id": "conditional-retention",
   "metadata": {},
   "outputs": [
    {
     "data": {
      "text/html": [
       "<div>\n",
       "<style scoped>\n",
       "    .dataframe tbody tr th:only-of-type {\n",
       "        vertical-align: middle;\n",
       "    }\n",
       "\n",
       "    .dataframe tbody tr th {\n",
       "        vertical-align: top;\n",
       "    }\n",
       "\n",
       "    .dataframe thead th {\n",
       "        text-align: right;\n",
       "    }\n",
       "</style>\n",
       "<table border=\"1\" class=\"dataframe\">\n",
       "  <thead>\n",
       "    <tr style=\"text-align: right;\">\n",
       "      <th></th>\n",
       "      <th>ARI</th>\n",
       "      <th>AMI</th>\n",
       "    </tr>\n",
       "  </thead>\n",
       "  <tbody>\n",
       "    <tr>\n",
       "      <th>K-means</th>\n",
       "      <td>0.8913</td>\n",
       "      <td>0.9129</td>\n",
       "    </tr>\n",
       "    <tr>\n",
       "      <th>Agglomerative</th>\n",
       "      <td>0.8859</td>\n",
       "      <td>0.9103</td>\n",
       "    </tr>\n",
       "    <tr>\n",
       "      <th>DBSCAN</th>\n",
       "      <td>0.8402</td>\n",
       "      <td>0.9061</td>\n",
       "    </tr>\n",
       "  </tbody>\n",
       "</table>\n",
       "</div>"
      ],
      "text/plain": [
       "                  ARI     AMI\n",
       "K-means        0.8913  0.9129\n",
       "Agglomerative  0.8859  0.9103\n",
       "DBSCAN         0.8402  0.9061"
      ]
     },
     "execution_count": 26,
     "metadata": {},
     "output_type": "execute_result"
    }
   ],
   "source": [
    "algorithms = []\n",
    "algorithms.append(KMeans(n_clusters=10, random_state=SEED))\n",
    "algorithms.append(AgglomerativeClustering(n_clusters=10))\n",
    "algorithms.append(DBSCAN(eps=10, min_samples=100))\n",
    "\n",
    "data = []\n",
    "for algo in algorithms:\n",
    "    algo.fit(X_tsne)\n",
    "    data.append(({\n",
    "        'ARI': round(metrics.adjusted_rand_score(y, algo.labels_), 4),\n",
    "        'AMI': round(metrics.adjusted_mutual_info_score(y, algo.labels_), 4)}))\n",
    "\n",
    "results = pd.DataFrame(data=data, columns=['ARI', 'AMI'],\n",
    "                       index=['K-means', 'Agglomerative', 'DBSCAN'])\n",
    "\n",
    "results"
   ]
  },
  {
   "cell_type": "code",
   "execution_count": null,
   "id": "editorial-target",
   "metadata": {},
   "outputs": [],
   "source": []
  }
 ],
 "metadata": {
  "kernelspec": {
   "display_name": "Python 3",
   "language": "python",
   "name": "python3"
  },
  "language_info": {
   "codemirror_mode": {
    "name": "ipython",
    "version": 3
   },
   "file_extension": ".py",
   "mimetype": "text/x-python",
   "name": "python",
   "nbconvert_exporter": "python",
   "pygments_lexer": "ipython3",
   "version": "3.8.8"
  }
 },
 "nbformat": 4,
 "nbformat_minor": 5
}
