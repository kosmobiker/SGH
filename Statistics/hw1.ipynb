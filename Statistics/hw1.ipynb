{
 "cells": [
  {
   "cell_type": "markdown",
   "metadata": {},
   "source": [
    "## Statystyka matematyczna I {-}\n",
    "\n",
    "- Praca domowa 1\n",
    "\n",
    "- Uladzislau Darhevich 108519\n",
    "\n",
    "### Zadanie 1 {-}\n",
    "\n",
    "$X_1, X_2, ... X_n \\sim  LN(a, \\sigma^2)$, gdzie $\\sigma^2$ jest znaną liczbą\n",
    "\n",
    "$EX = exp(a + \\frac{1}{2}\\sigma^2)$\n",
    "\n",
    "$exp(a + \\frac{1}{2}\\sigma^2) = \\overline x$\n",
    "\n",
    "$a = \\ln{\\overline x} - \\frac{1}{2}\\sigma^2$\n",
    "\n",
    "$EMM(a, \\sigma^2) = (\\ln{\\overline x} - \\frac{1}{2}\\sigma^2, \\sigma^2)$"
   ]
  },
  {
   "cell_type": "markdown",
   "metadata": {},
   "source": [
    "### Zadanie 2 {-}\n",
    "\n",
    "$$X_1, X_2, ... X_n \\sim  U(a, b), a > b$$\n",
    "\n",
    "$$EX = \\frac{a+b}{2}$$\n",
    "\n",
    "$$VarX = \\frac{(b-a)^2}{12}$$\n",
    "\n",
    "$$\\frac{a+b}{2} = \\overline x$$\n",
    "\n",
    "$$\\frac{(b-a)^2}{12}=s^2$$\n",
    "\n",
    "Niech $t = b - a$ , wtedy po przekształceniach otrzymujemy:\n",
    "\n",
    "$a = \\overline x - \\sqrt{3} s, b = \\overline x + \\sqrt{3} s$, lub $a = \\overline x + \\sqrt{3}s, b = \\overline x - \\sqrt{3} s$\n",
    "\n",
    "Biorąć pod uwagę,że  $a >b$, wtedy \n",
    "\n",
    "$$EMM(a, b) = (\\overline x + \\sqrt{3}s, \\overline x - \\sqrt{3} s)$$\n",
    "\n",
    "\n"
   ]
  },
  {
   "cell_type": "markdown",
   "metadata": {},
   "source": []
  }
 ],
 "metadata": {
  "interpreter": {
   "hash": "916dbcbb3f70747c44a77c7bcd40155683ae19c65e1c03b4aa3499c5328201f1"
  },
  "kernelspec": {
   "display_name": "Python 3.8.10 64-bit",
   "language": "python",
   "name": "python3"
  },
  "language_info": {
   "name": "python",
   "version": "3.8.10"
  },
  "orig_nbformat": 4
 },
 "nbformat": 4,
 "nbformat_minor": 2
}
