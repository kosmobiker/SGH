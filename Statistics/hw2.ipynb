{
 "cells": [
  {
   "cell_type": "markdown",
   "metadata": {},
   "source": [
    "## Statystyka matematyczna I {-}\n",
    "\n",
    "- Praca domowa 2\n",
    "\n",
    "- Uladzislau Darhevich 108519\n",
    "\n",
    "### Zadanie 1 {-}\n",
    "\n",
    "$X_1, X_2, ... X_n \\sim  Ex(\\theta), \n",
    "ENW(\\theta) = ?$\n",
    "\n",
    "$f(x) = \\left\\{ \\begin{array}{cl}\n",
    "\\theta e^{-\\theta x} & : \\ x \\geq 0 \\\\\n",
    "0 & : \\ x < 0\n",
    "\\end{array} \\right.$\n",
    "\n",
    "$L(\\theta, X_1, X_2, ...X_n) = \\theta e^{-\\theta x_1} \\cdot \\theta e^{-\\theta x_2}\\cdot ...\\cdot \\theta e^{-\\theta x_n}$\n",
    "\n",
    "Możemy przekształcić to wyrażenie i otrzymujemy\n",
    "\n",
    "$L(\\theta, X_1, X_2, ...X_n) = \\theta ^n\\cdot exp(-\\theta\\sum\\limits_{i=1}^{n}x_i)$\n",
    "\n",
    "Wtedy $\\ln L(\\theta, X_1, X_2, ...X_n) = n\\ln\\theta-\\theta \\sum\\limits_{i=1}^{n}x_i$\n",
    "\n",
    "$\\frac{d }{d\\theta}\\ln L(\\theta, X_1, X_2, ...X_n) = 0$\n",
    "\n",
    "$\\frac{d }{d\\theta}(n\\ln\\theta-\\theta \\sum\\limits_{i=1}^{n}x_i)=\\frac{n}{\\theta}-\\sum\\limits_{i=1}^{n}x_i = 0$\n",
    "\n",
    "$\\theta = \\frac{n}{\\sum\\limits_{i=1}^{n}x_i}$\n",
    "\n",
    "Zatem estymator jest odwrotnością średniej z próby.\n",
    "\n"
   ]
  },
  {
   "cell_type": "markdown",
   "metadata": {},
   "source": [
    "### Zadanie 2 {-}\n",
    "\n",
    "\n",
    "$\\mathbb{E}X = \\frac{1}{\\theta}, \\text{Var}X = \\frac{1}{\\theta^2}, b(\\theta) = ?$\n",
    "\n",
    "Estymator nie jest obciążonym.\n",
    "\n",
    "$b(\\theta) = \\frac{\\theta}{n-1}$\n",
    "\n",
    "$R(\\theta) = \\text{Var} T + b^2(\\theta) = \\frac{1}{\\theta^2} + \\frac{\\theta^2}{(n-1)^2}$"
   ]
  },
  {
   "cell_type": "code",
   "execution_count": 51,
   "metadata": {},
   "outputs": [],
   "source": [
    "import matplotlib.pyplot as plt\n",
    "import numpy as np\n",
    "import seaborn as sns\n"
   ]
  },
  {
   "cell_type": "code",
   "execution_count": 52,
   "metadata": {},
   "outputs": [],
   "source": [
    "num = 1000000\n",
    "#beta = 1/lambda\n",
    "beta = 1\n",
    "dist = np.random.exponential(beta, num)"
   ]
  },
  {
   "cell_type": "code",
   "execution_count": 53,
   "metadata": {},
   "outputs": [],
   "source": [
    "mean = num/np.mean(dist)"
   ]
  },
  {
   "cell_type": "code",
   "execution_count": 54,
   "metadata": {},
   "outputs": [
    {
     "name": "stderr",
     "output_type": "stream",
     "text": [
      "/home/vlad/.miniconda3/lib/python3.9/site-packages/seaborn/distributions.py:2619: FutureWarning: `distplot` is a deprecated function and will be removed in a future version. Please adapt your code to use either `displot` (a figure-level function with similar flexibility) or `kdeplot` (an axes-level function for kernel density plots).\n",
      "  warnings.warn(msg, FutureWarning)\n"
     ]
    },
    {
     "data": {
      "text/plain": [
       "<matplotlib.lines.Line2D at 0x7f7850212a60>"
      ]
     },
     "execution_count": 54,
     "metadata": {},
     "output_type": "execute_result"
    },
    {
     "data": {
      "image/png": "[encoded data removed]",
      "text/plain": [
       "<Figure size 640x480 with 1 Axes>"
      ]
     },
     "metadata": {
      "needs_background": "light"
     },
     "output_type": "display_data"
    }
   ],
   "source": [
    "plt.figure(figsize=(8, 6), dpi=80)\n",
    "sns.distplot(dist, hist=False)\n",
    "plt.axvline(mean)"
   ]
  },
  {
   "cell_type": "markdown",
   "metadata": {},
   "source": []
  },
  {
   "cell_type": "markdown",
   "metadata": {},
   "source": []
  }
 ],
 "metadata": {
  "interpreter": {
   "hash": "b60e44f8122f2f435490d6fa5dce1b580a7583eee9b12ed3a9c2b1ff149db1ba"
  },
  "kernelspec": {
   "display_name": "Python 3.9.5 ('base')",
   "language": "python",
   "name": "python3"
  },
  "language_info": {
   "codemirror_mode": {
    "name": "ipython",
    "version": 3
   },
   "file_extension": ".py",
   "mimetype": "text/x-python",
   "name": "python",
   "nbconvert_exporter": "python",
   "pygments_lexer": "ipython3",
   "version": "3.9.5"
  },
  "orig_nbformat": 4
 },
 "nbformat": 4,
 "nbformat_minor": 2
}
