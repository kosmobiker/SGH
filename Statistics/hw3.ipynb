{
 "cells": [
  {
   "cell_type": "markdown",
   "metadata": {},
   "source": [
    "# Statystyka matematyczna I {-}\n",
    "\n",
    "- Praca domowa 3\n",
    "\n",
    "- Uladzislau Darhevich 108519\n",
    "\n",
    "# Zadanie 1 {-}\n",
    "\n",
    "Niech $X_1, X_2, X_3. . . , X_n$ będzie próbą losową prostą z rozkładu Weibulla $We(2, \\sqrt{2\\theta})$\n",
    "\n",
    "Funkcja gęstości: $$f(x)=\\frac{x}{\\theta}\\cdot exp(-\\frac{x^2}{2\\theta}), x >0, \\theta >0$$\n",
    "\n",
    "Estymator $T$ równa się:\n",
    "\n",
    "$$T= \\frac{1}{2n}{\\sum\\limits_{i=1}^{n}x_i^2}$$\n",
    "\n",
    "Wyznaczyć ryzyko $R(\\theta)$."
   ]
  },
  {
   "cell_type": "markdown",
   "metadata": {},
   "source": [
    "$$R = \\text{Var}T + b(\\theta)^2$$\n",
    "\n",
    "$$\\text{Var}T = \\text{Var}\\frac{1}{2n}{\\sum\\limits_{i=1}^{n}x_i^2}=\\frac{1}{4n^2}\\text{Var}{\\sum\\limits_{i=1}^{n}x_i^2}$$\n",
    "\n",
    "$$\\mathbb{E}\\left[ X^2 \\right]=(\\sqrt{2\\theta})^2\\cdot \\Gamma(1+1)=2\\theta$$\n",
    "\n",
    "$$\\mathbb{E}\\left[ X^4 \\right]=(\\sqrt{2\\theta})^4\\cdot \\Gamma(2+1)=4\\theta^2\\cdot 2!=8\\theta^2$$\n",
    "\n",
    "Na podstawie tego, że $\\text{Var} X = \\mathbb{E}\\left[ X^2 \\right] - \\mathbb{E}\\left[ X\\right]^2$, możemy założyć, że\n",
    "\n",
    "$$\\text{Var} T = \\frac{1}{4n^2} \\cdot \\big(\\mathbb{E}\\left[ X^4 \\right] - \\mathbb{E}\\left[ X^2 \\right]^2)=\\frac{1}{4n^2} \\cdot (8\\theta^2-4\\theta^2)=\\frac{\\theta^2}{n^2}$$\n",
    "\n",
    "$$b(\\theta) = \\mathbb{E}T - g(T) = 2\\theta-\\theta = \\theta$$\n",
    "\n",
    "$$R(\\theta) = \\frac{\\theta^2}{n^2} + \\theta^2 = \\theta^2(\\frac{1}{n^2}+1)$$"
   ]
  }
 ],
 "metadata": {
  "interpreter": {
   "hash": "b60e44f8122f2f435490d6fa5dce1b580a7583eee9b12ed3a9c2b1ff149db1ba"
  },
  "kernelspec": {
   "display_name": "Python 3.9.5 ('base')",
   "language": "python",
   "name": "python3"
  },
  "language_info": {
   "codemirror_mode": {
    "name": "ipython",
    "version": 3
   },
   "file_extension": ".py",
   "mimetype": "text/x-python",
   "name": "python",
   "nbconvert_exporter": "python",
   "pygments_lexer": "ipython3",
   "version": "3.9.5"
  },
  "orig_nbformat": 4
 },
 "nbformat": 4,
 "nbformat_minor": 2
}
