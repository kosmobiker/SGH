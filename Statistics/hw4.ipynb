{
 "cells": [
  {
   "cell_type": "markdown",
   "metadata": {},
   "source": [
    "# Statystyka matematyczna I {-}\n",
    "\n",
    "- Praca domowa 4\n",
    "\n",
    "- Uladzislau Darhevich 108519\n",
    "\n",
    "# Zadanie 1 {-}\n",
    "\n",
    "Niech $X_1, X_2, X_3. . . , X_n$ będzie próbą losową prostą z rozkładu gamma odwrotnego $IG(4, \\theta)$\n",
    "\n",
    "Funkcja gęstości: $$f(x)=\\frac{\\theta^4}{\\Gamma(4)}x^{-4-1}e^{-\\frac{\\theta}{x}}1_{(0, \\infty)}$$\n",
    "\n",
    "$$g(\\theta) = \\frac{1}{\\theta}$$\n",
    "\n",
    "Wyznaczyć $\\text{ENMW}(\\theta)=?$."
   ]
  },
  {
   "cell_type": "markdown",
   "metadata": {},
   "source": [
    "$$f(x) =\\frac{\\theta^4}{3!}x^{-5}e^{-\\frac{\\theta}{x}}1_{(0, \\infty)}(x) = \\frac{1}{3!}x^{-5}1_{(0, \\infty)}(x)\\cdot\\text{exp}\\left[-(-\\text{ln}\\theta^4)-\\frac{\\theta}{x}  \\right]$$\n",
    "\n",
    "$$h(\\theta)=\\frac{1}{3!}x^{-5}1_{(0, \\infty)}(x)$$\n",
    "\n",
    "$$f(x)=h(\\theta)\\cdot\\text{exp}\\left[-(-\\text{ln}\\theta^4)-\\frac{\\theta}{x}  \\right]$$\n",
    "\n",
    "$$b(\\theta)=-\\text{ln}\\theta^4$$\n",
    "\n",
    "$$C_1(\\theta) = - \\theta$$\n",
    "\n",
    "$$T_1(x) = \\frac{1}{x}$$\n",
    "\n",
    "$$T = \\sum_{i=1}^{n}\\frac{1}{X_i}$$\n",
    "\n",
    "Trzeba sprawdzić, czy $\\mathbb{E}T=\\frac{1}{\\theta}$\n",
    "\n",
    "Na podstawie tego, że $X \\sim IG(4, \\theta)$, to $\\frac{1}{X} \\sim Gamma(4, \\theta)$, możemy obliczyć wartość oczekiwaną $T$:\n",
    "\n",
    "$$\\mathbb{E}T = \\mathbb{E}\\sum_{i=1}^{n}\\frac{1}{X_i}=n\\frac{4}{\\theta}\\not =\\frac{1}{\\theta}$$\n",
    "\n",
    "$$S = \\frac{T}{4n}\\Longrightarrow \\mathbb{E}S = \\mathbb{E}\\frac{T}{4n}=\\frac{1}{\\theta}$$\n",
    "\n",
    "Estymator jest obciążony.\n",
    "\n",
    "$$U = \\mathbb{E}(S(T)|T)=S$$\n",
    "\n",
    "$$U = S = \\text{ENMW}\\Big(\\frac{1}{\\theta}\\Big)$$"
   ]
  }
 ],
 "metadata": {
  "interpreter": {
   "hash": "b60e44f8122f2f435490d6fa5dce1b580a7583eee9b12ed3a9c2b1ff149db1ba"
  },
  "kernelspec": {
   "display_name": "Python 3.9.5 ('base')",
   "language": "python",
   "name": "python3"
  },
  "language_info": {
   "codemirror_mode": {
    "name": "ipython",
    "version": 3
   },
   "file_extension": ".py",
   "mimetype": "text/x-python",
   "name": "python",
   "nbconvert_exporter": "python",
   "pygments_lexer": "ipython3",
   "version": "3.9.5"
  },
  "orig_nbformat": 4
 },
 "nbformat": 4,
 "nbformat_minor": 2
}
