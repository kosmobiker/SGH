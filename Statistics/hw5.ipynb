{
 "cells": [
  {
   "cell_type": "markdown",
   "metadata": {},
   "source": [
    "## Statystyka matematyczna I {-}\n",
    "\n",
    "- Praca domowa 5\n",
    "\n",
    "- Uladzislau Darhevich 108519\n",
    "\n",
    "### Zadanie 1 {-}\n",
    "\n",
    "$$X_1, X_2, ... X_n \\sim  \\text{Beta}(\\theta, 1)$$\n",
    "\n",
    "\n",
    "\n",
    "Wyznaczyć przedziały ufności dla $\\theta$, jeżeli $n=$ 12, oraz $1 - \\alpha = 0.98$\n",
    "\n",
    "Kandydat na $U$ będzie: \n",
    "\n",
    "$$\\sum_{i=1}^{n}(-\\text{ln} X_i)$$\n",
    "\n",
    "$$U = \\theta\\sum_{i=1}^{n}(-\\text{ln} X_i)\\Longrightarrow U\\sim Beta(n,1)$$\n",
    "\n",
    "$$a = F_{Beta(0,1)}^{-1}\\bigg(\\frac{\\alpha}{2}\\bigg)$$\n",
    "\n",
    "$$b = F_{Beta(0,1)}^{-1}\\bigg(1 - \\frac{\\alpha}{2}\\bigg)$$"
   ]
  },
  {
   "cell_type": "markdown",
   "metadata": {},
   "source": []
  },
  {
   "cell_type": "code",
   "execution_count": 12,
   "metadata": {},
   "outputs": [
    {
     "name": "stdout",
     "output_type": "stream",
     "text": [
      "a = 0.681, b =  0.999\n"
     ]
    }
   ],
   "source": [
    "from scipy.stats import beta\n",
    "\n",
    "alpha = 0.02\n",
    "n = 12\n",
    "a = beta.ppf(alpha/2, n, 1)\n",
    "b = beta.ppf(1-alpha/2, n, 1)\n",
    "print(f\"a = {round(a, 3)}, b =  {round(b, 3)}\")"
   ]
  },
  {
   "cell_type": "markdown",
   "metadata": {},
   "source": [
    "$$\\frac{0.681}{\\sum_{i=1}^{n}-\\text{ln}X_i}\\le \\theta\\le \\frac{0.999}{\\sum_{i=1}^{n}-\\text{ln}X_i}$$"
   ]
  }
 ],
 "metadata": {
  "interpreter": {
   "hash": "b60e44f8122f2f435490d6fa5dce1b580a7583eee9b12ed3a9c2b1ff149db1ba"
  },
  "kernelspec": {
   "display_name": "Python 3.9.5 ('base')",
   "language": "python",
   "name": "python3"
  },
  "language_info": {
   "codemirror_mode": {
    "name": "ipython",
    "version": 3
   },
   "file_extension": ".py",
   "mimetype": "text/x-python",
   "name": "python",
   "nbconvert_exporter": "python",
   "pygments_lexer": "ipython3",
   "version": "3.9.5"
  },
  "orig_nbformat": 4
 },
 "nbformat": 4,
 "nbformat_minor": 2
}
