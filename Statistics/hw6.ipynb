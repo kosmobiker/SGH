{
 "cells": [
  {
   "cell_type": "markdown",
   "metadata": {},
   "source": [
    "## Statystyka matematyczna I {-}\n",
    "\n",
    "- Praca domowa 6\n",
    "\n",
    "- Uladzislau Darhevich 108519\n",
    "\n",
    "### Zadanie 1 {-}\n",
    "\n",
    "Na podstawie obserwacji $X$ z rozkładu Pareto o gęstości \n",
    "\n",
    "$$f(x) = \\frac{\\theta3^\\theta}{x^{\\theta +1}}, \\ x > 3$$ \n",
    "\n",
    "wyznaczyć test najmocnejszy hipotezy: $H_0: \\theta = 5$ przeciw $H_1: \\theta=2$ na poziomie istotnosci 0.03. Obliczyc moc testu i prawdopodobieństwo błędu II rodzaju.\n",
    "\n",
    "$$f(x_1, x_2, ... x_n)=\\theta^n\\cdot3^{n\\theta}\\cdot\\prod_{i=1}^{n}x_i^{-(\\theta+1)}$$\n",
    "\n",
    "$$\\frac{f_{\\theta=5}}{f_{\\theta=2}}=\\frac{5^n3^{5n}\\prod_{i=1}^{n}x_i^{-6}}{2^n3^{2n}\\prod_{i=1}^{n}x_i^{-3}} = \\frac{5^n3^{3n}}{2^n}\\prod_{i=1}^{n}x_i^{-3} >c$$\n",
    "\n",
    "$$\\prod_{i=1}^{n}x_i^{-3} > c$$\n",
    "\n",
    "$$P_{\\theta=5}(\\prod_{i=1}^{n}x_i^{-3} > c) = 0.03\\Longrightarrow P_{\\theta=5}(\\prod_{i=1}^{n}x_i^{-3}< c) = 1-0.03=0.97$$\n",
    "\n",
    "$$c = F_{Pa(5;3)}^{-1}(0.97) = 6.05$$\n",
    "\n",
    "$$\\varphi(\\textbf{x})=\\varphi(x_1, x_2,...x_n)=\\left\\{ \\begin{array}{cl}\n",
    "1 & : \\ \\prod_{i=1}^{n}x_i^{-3} \\leq 6.05 \\\\\n",
    "0 & : \\ \\text{w p. p.}\n",
    "\\end{array} \\right.$$\n",
    "\n",
    "Moc testu:\n",
    "\n",
    "$$E\\varphi(\\textbf{x})=P(\\prod_{i=1}^{n}x_i^{-3} \\le 6.05)=F_{Pa(2;3)}(6.05)=0.75$$\n",
    "\n",
    "Wtedy prawdopodobieństwo błędu II rodzaju wynosi $\\beta = 1 - 0.75=0.25$."
   ]
  }
 ],
 "metadata": {
  "interpreter": {
   "hash": "916dbcbb3f70747c44a77c7bcd40155683ae19c65e1c03b4aa3499c5328201f1"
  },
  "kernelspec": {
   "display_name": "Python 3.8.10 64-bit",
   "language": "python",
   "name": "python3"
  },
  "language_info": {
   "name": "python",
   "version": "3.8.10"
  },
  "orig_nbformat": 4
 },
 "nbformat": 4,
 "nbformat_minor": 2
}
