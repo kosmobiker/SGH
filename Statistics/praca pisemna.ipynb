{
 "cells": [
  {
   "cell_type": "markdown",
   "metadata": {},
   "source": [
    "## Statystyka matematyczna I {-}\n",
    "\n",
    "- Praca pisemna\n",
    "\n",
    "- Uladzislau Darhevich 108519\n",
    "\n",
    "Niech $X_1, . . . , X_n$ będzie próbą losową prostą z rozkładu wykładniczego $Ex(θ).$\n",
    "\n",
    "- (a) Wyznaczyć $ENW(θ)$.\n",
    "- (b) Wykazać, że $ENW(θ)$ jest estymatorem obciążonym i obliczyć obciążenie.\n",
    "- (c) Sprawdzić, czy $ENW(θ)$ jest estymatorem asymptotycznie nieobciążonym.\n",
    "- (d) Na podstawie $ENW(θ)$ zaproponować nieobciążony estymator parametru $θ$.\n",
    "- (e) Porównać ryzyka tych estymatorów.\n",
    "- (f) Wygenerować 1000 prób losowych rozmiaru n = 2 z rozkładu $Ex(5.5)$. Dla każdej z nich obliczyć dwa estymatory parametru $θ$:\n",
    "$$T_1 = \\frac{1}{\\bar{X}}$$ \n",
    "oraz\n",
    "$$T_2 = \\frac{n-1}{\\sum_{i=1}^{n}X_i}$$\n",
    "\n",
    "Obliczyć średnią wartość estymatora T1 i T2 na podstawie 1000 prób. Wyniki skomentować."
   ]
  },
  {
   "cell_type": "markdown",
   "metadata": {},
   "source": [
    "### (a)\n",
    "\n",
    "Gęstość prawdopodobieństwa:\n",
    "\n",
    "$f(x) = \\left\\{ \\begin{array}{cl}\n",
    "\\theta e^{-\\theta x} & : \\ x \\geq 0 \\\\\n",
    "0 & : \\ x < 0\n",
    "\\end{array} \\right.$\n",
    "\n",
    "Wtedy\n",
    "\n",
    "$$L(\\theta, X_1, X_2, ...X_n) = \\theta e^{-\\theta x_1} \\cdot \\theta e^{-\\theta x_2}\\cdot ...\\cdot \\theta e^{-\\theta x_n}$$\n",
    "\n",
    "$$L(\\theta, X_1, X_2, ...X_n) = \\theta ^n\\cdot exp(-\\theta\\sum\\limits_{i=1}^{n}x_i)$$\n",
    "\n",
    "$$\\ln L(\\theta, X_1, X_2, ...X_n) = n\\ln\\theta-\\theta \\sum\\limits_{i=1}^{n}x_i$$\n",
    "\n",
    "Możemy przekształcić to wyrażenie i otrzymujemy\n",
    "\n",
    "$$\\frac{d }{d\\theta}\\ln L(\\theta, X_1, X_2, ...X_n) = 0$$\n",
    "\n",
    "$$\\frac{d }{d\\theta}(n\\ln\\theta-\\theta \\sum\\limits_{i=1}^{n}x_i)=\\frac{n}{\\theta}-\\sum\\limits_{i=1}^{n}x_i = 0$$\n",
    "\n",
    "$$\\theta = \\frac{n}{\\sum\\limits_{i=1}^{n}x_i}$$\n",
    "\n",
    "Zatem estymator jest odwrotnością średniej z próby.\n",
    "\n",
    "$$ENW(\\theta) = \\frac{1}{\\overline{x}}$$"
   ]
  },
  {
   "cell_type": "markdown",
   "metadata": {},
   "source": [
    "### (b)\n",
    "\n",
    "$$T= \\frac{n}{\\sum\\limits_{i=1}^{n}x_i}\\Longrightarrow \\mathbb{E}T=n\\mathbb{E}(\\frac{1}{\\sum\\limits_{i=1}^{n}x_i})$$\n",
    "\n",
    "$$\\sum_{i=1}^{n}x_i \\sim \\text{Gamma}(n, \\theta)\\Rightarrow \\frac{1}{\\sum_{i=1}^{n}x_i}\\sim \\text{IG}(n, \\theta)$$\n",
    "\n",
    "$$\\mathbb{E}\\frac{1}{\\sum_{i=1}^{n}x_i} = \\frac{\\theta}{n-1}$$\n",
    "\n",
    "Z tego, że $$\\mathbb{E}T = n\\cdot\\frac{\\theta}{n-1}\\neq \\theta$$ wychodzi, że estymator jest **obciążony**."
   ]
  },
  {
   "cell_type": "markdown",
   "metadata": {},
   "source": [
    "### (c)\n",
    "\n",
    "$$\\lim_{n \\to \\infty }n\\frac{\\theta}{n-1}=g(\\theta)=\\theta$$\n",
    "\n",
    "Estymator jest asymptotycznie obciążony"
   ]
  },
  {
   "cell_type": "markdown",
   "metadata": {},
   "source": [
    "### (d)\n",
    "\n",
    "Nieobciążonym estymatorem dla $ENM(\\theta)$ będzie taki estymator, że $$\\mathbb{E}T = \\theta$$\n",
    "\n",
    "Takim estymatorem może być $$T = \\frac{n-1}{\\sum\\limits_{i=1}^{n}x_i}$$\n",
    "\n",
    "Sprawdźmy to! \n",
    "\n",
    "$$\\mathbb{E}T=(n-1)\\mathbb{E}(\\frac{1}{\\sum\\limits_{i=1}^{n}x_i})=(n-1)\\frac{\\theta}{n-1}=\\theta$$\n"
   ]
  },
  {
   "cell_type": "markdown",
   "metadata": {},
   "source": [
    "### (e)\n",
    "\n",
    "Ryzyko dla estymatora obciążonego:\n",
    "\n",
    "$$T_1 = \\frac{n}{\\sum\\limits_{i=1}^{n}x_i}$$\n",
    "\n",
    "$$\\text{Var }T_1=\\text{Var}{\\frac{n}{\\sum_{i=1}^{n}x_i}}=n^2\\cdot \\text{Var}{\\frac{1}{\\sum_{i=1}^{n}x_i}} = n^2\\cdot \\frac{\\theta^2}{(n-1)^2(n-2)}$$\n",
    "\n",
    "$$R_1(\\theta)=n^2\\frac{\\theta^2}{(n-1)^2(n-2)}+\\frac{\\theta^2}{(n-1)^2}=\\frac{\\theta^2(n+2)}{(n-2)(n-1)}$$\n",
    "\n",
    "Ryzyko dla estymatora nieobciążonego:\n",
    "\n",
    "$$T_2 = \\frac{n-1}{\\sum\\limits_{i=1}^{n}x_i}$$\n",
    "\n",
    "$$\\text{Var }T_2=\\text{Var}{\\frac{n-1}{\\sum_{i=1}^{n}x_i}}=(n-1)^2\\cdot \\text{Var}{\\frac{1}{\\sum_{i=1}^{n}x_i}} = (n-1)^2\\cdot \\frac{\\theta^2}{(n-1)^2(n-2)}=\\frac{\\theta^2}{n-2}$$\n",
    "\n",
    "$$R_2(\\theta)=\\frac{\\theta^2}{n-2} + \\theta^2 = \\theta^2\\big(\\frac{1}{n-2}+1\\big)$$\n",
    "\n",
    "\n"
   ]
  },
  {
   "cell_type": "markdown",
   "metadata": {},
   "source": []
  }
 ],
 "metadata": {
  "language_info": {
   "name": "python"
  },
  "orig_nbformat": 4
 },
 "nbformat": 4,
 "nbformat_minor": 2
}
